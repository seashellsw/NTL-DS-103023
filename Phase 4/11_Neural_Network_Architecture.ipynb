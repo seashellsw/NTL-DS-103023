{
 "cells": [
  {
   "cell_type": "markdown",
   "metadata": {},
   "source": [
    "# Neural Network Architecture"
   ]
  },
  {
   "cell_type": "code",
   "execution_count": 1,
   "metadata": {},
   "outputs": [],
   "source": [
    "import os\n",
    "import sys\n",
    "module_path = os.path.abspath(os.path.join(os.pardir, os.pardir))\n",
    "if module_path not in sys.path:\n",
    "    sys.path.append(module_path)\n",
    "    \n",
    "import numpy as np\n",
    "from matplotlib import pyplot as plt\n",
    "import matplotlib.image as mpimg\n",
    "from sklearn.model_selection import train_test_split\n",
    "from sklearn.datasets import load_digits"
   ]
  },
  {
   "cell_type": "markdown",
   "metadata": {},
   "source": [
    "![dense](images/dogcat.gif)"
   ]
  },
  {
   "cell_type": "markdown",
   "metadata": {
    "heading_collapsed": true
   },
   "source": [
    "# Objectives"
   ]
  },
  {
   "cell_type": "markdown",
   "metadata": {
    "hidden": true
   },
   "source": [
    "- Describe the basic structure of densely connected neural networks\n",
    "- Describe the various activation functions that are used in neural networks"
   ]
  },
  {
   "cell_type": "markdown",
   "metadata": {
    "heading_collapsed": true
   },
   "source": [
    "# Introduction to Neural Networks"
   ]
  },
  {
   "cell_type": "markdown",
   "metadata": {
    "heading_collapsed": true,
    "hidden": true
   },
   "source": [
    "## Background"
   ]
  },
  {
   "cell_type": "markdown",
   "metadata": {
    "hidden": true
   },
   "source": [
    "Neural networks have been around for a while. They are over 70 years old, dating back to  their proposal in 1944 by Warren McCullough and Walter Pitts. These first proposed neural nets had thresholds and weights, but no layers and no specific training mechanisms.\n",
    "\n",
    "The \"perceptron\", the first trainable neural network, was created by Frank Rosenblatt in 1957. It consisted of a single layer with adjustable weights in the middle of input and output layers."
   ]
  },
  {
   "cell_type": "markdown",
   "metadata": {
    "hidden": true
   },
   "source": [
    "![perceptron](images/nn-diagram.png)"
   ]
  },
  {
   "cell_type": "markdown",
   "metadata": {
    "heading_collapsed": true,
    "hidden": true
   },
   "source": [
    "## Wait, Wait, Wait... Why a Neural Network?"
   ]
  },
  {
   "cell_type": "markdown",
   "metadata": {
    "hidden": true
   },
   "source": [
    "You really should take a second to realize what tools we already have and ask yourself, \"Do we really need to use this 'neural network' if we already have so many machine learning algorithms?\"\n",
    "\n",
    "And in short, we don't need to default to a neural network but they have advantages in solving very complex problems. It might help to know that idea of neural networks was developed back in the 1950s (perceptron network). It wasn't until we had a lot of data and computational power where they became reasonably useful."
   ]
  },
  {
   "cell_type": "markdown",
   "metadata": {
    "heading_collapsed": true,
    "hidden": true
   },
   "source": [
    "## Starting with a Perceptron"
   ]
  },
  {
   "cell_type": "markdown",
   "metadata": {
    "heading_collapsed": true,
    "hidden": true
   },
   "source": [
    "### A Diagram"
   ]
  },
  {
   "cell_type": "markdown",
   "metadata": {
    "hidden": true
   },
   "source": [
    "<img src='https://cdn-images-1.medium.com/max/1600/0*No3vRruq7Dd4sxdn.png' width=40%/>"
   ]
  },
  {
   "cell_type": "markdown",
   "metadata": {
    "hidden": true
   },
   "source": [
    "Notice the similarity to a linear regression:\n",
    "\n",
    "\n",
    "$$ x_1 w_1 + x_2 w_2  + x_3 w_3 = \\text{output}$$\n",
    "$$ XW = \\text{output}$$"
   ]
  },
  {
   "cell_type": "markdown",
   "metadata": {
    "heading_collapsed": true,
    "hidden": true
   },
   "source": [
    "## Relation to Previous Models"
   ]
  },
  {
   "cell_type": "markdown",
   "metadata": {
    "heading_collapsed": true,
    "hidden": true
   },
   "source": [
    "### Logistic Regression"
   ]
  },
  {
   "cell_type": "markdown",
   "metadata": {
    "hidden": true
   },
   "source": [
    "Think of the weights as the betas and the activation function as the sigmoid function!"
   ]
  },
  {
   "cell_type": "markdown",
   "metadata": {
    "heading_collapsed": true,
    "hidden": true
   },
   "source": [
    "### Stacking Ensembles"
   ]
  },
  {
   "cell_type": "markdown",
   "metadata": {
    "hidden": true
   },
   "source": [
    "Various base models' predictions are fed into a \"meta-estimator\" that is trained to aggregate them optimally. This is analogous to the multiple **layers** of a neural network."
   ]
  },
  {
   "cell_type": "markdown",
   "metadata": {
    "heading_collapsed": true,
    "hidden": true
   },
   "source": [
    "## Basic Architecture"
   ]
  },
  {
   "cell_type": "markdown",
   "metadata": {
    "hidden": true
   },
   "source": [
    "For our DS purposes, we'll generally imagine our network to consist of only a few layers, including an input layer (where we feed in our data) an output layer (comprising our predictions). Significantly, there will also (generally) be one or more layers of neurons between input and output, called **hidden layers**.\n",
    "\n",
    "One reason these are named hidden layers is that what their output actually represents in not really known.  The activation of node 1 of the first hidden layer may represent a sequence of pixel intensity corresponding to a horizontal line, or a group of dark pixels in the middle of a number's loop. "
   ]
  },
  {
   "cell_type": "markdown",
   "metadata": {
    "hidden": true
   },
   "source": [
    "![dense](images/Deeper_network.jpg)"
   ]
  },
  {
   "cell_type": "markdown",
   "metadata": {
    "hidden": true
   },
   "source": [
    "Because we are unaware of how exactly these hidden layers are operating, neural networks are considered **black box** algorithms.  You will not be able to gain much inferential insight from a neural net.\n",
    "\n",
    "Each of our pixels from our digit representation goes to each of our nodes, and each node has a set of weights and a bias term associated with it."
   ]
  },
  {
   "cell_type": "markdown",
   "metadata": {
    "heading_collapsed": true,
    "hidden": true
   },
   "source": [
    "## Inspiration from Actual Neurons"
   ]
  },
  {
   "cell_type": "markdown",
   "metadata": {
    "hidden": true
   },
   "source": [
    "The composition of neural networks can be **loosely** compared to a neuron."
   ]
  },
  {
   "cell_type": "markdown",
   "metadata": {
    "hidden": true
   },
   "source": [
    "![neuron](images/neuron.png)"
   ]
  },
  {
   "cell_type": "markdown",
   "metadata": {
    "hidden": true
   },
   "source": [
    "Neural networks draw their inspiration from the biology of our own brains, which are of course also accurately described as 'neural networks'. A human brain contains around $10^{11}$ neurons, connected very **densely**."
   ]
  },
  {
   "cell_type": "markdown",
   "metadata": {
    "hidden": true
   },
   "source": [
    "This is a loose analogy, but can be a helpful **mnemonic**. The inputs to our node are like inputs to our neurons. They are either direct sensory information (our features) or input from other axons (nodes passing information to other nodes). The body of our neuron (soma) is where the signals of the dendrites are summed together, which is loosely analogous to our **collector function**. If the summed signal is large enough (our **activation function**), they trigger an action potential which travels down the axon to be passed as output to other dendrites. See [here](https://en.wikipedia.org/wiki/Neuron) for more. "
   ]
  },
  {
   "cell_type": "markdown",
   "metadata": {
    "heading_collapsed": true
   },
   "source": [
    "# Neural Networks Overview"
   ]
  },
  {
   "cell_type": "markdown",
   "metadata": {
    "heading_collapsed": true,
    "hidden": true
   },
   "source": [
    "## Couple ways to think of neural networks"
   ]
  },
  {
   "cell_type": "markdown",
   "metadata": {
    "hidden": true
   },
   "source": [
    "> We can think of neural networks as finding ways to take inputs and creating something like latent features."
   ]
  },
  {
   "cell_type": "markdown",
   "metadata": {
    "hidden": true
   },
   "source": [
    "![](images/neural_network_with_human_readable_labels.png)"
   ]
  },
  {
   "cell_type": "markdown",
   "metadata": {
    "hidden": true
   },
   "source": [
    "> But we can also think of them as creating linear separators and then combining them together"
   ]
  },
  {
   "cell_type": "code",
   "execution_count": 2,
   "metadata": {
    "hidden": true
   },
   "outputs": [
    {
     "data": {
      "text/plain": [
       "<matplotlib.collections.PathCollection at 0x7faa5031a520>"
      ]
     },
     "execution_count": 2,
     "metadata": {},
     "output_type": "execute_result"
    },
    {
     "data": {
      "image/png": "[encoded data removed]",
      "text/plain": [
       "<Figure size 432x288 with 1 Axes>"
      ]
     },
     "metadata": {
      "needs_background": "light"
     },
     "output_type": "display_data"
    }
   ],
   "source": [
    "x = np.random.rand(25)\n",
    "y = np.random.rand(25)\n",
    "z = (x + y) <= 0.8\n",
    "plt.scatter(x, y, c=z)"
   ]
  },
  {
   "cell_type": "markdown",
   "metadata": {
    "hidden": true
   },
   "source": [
    "Thinking in the more mathematical way, allows us to use our linear algebra knowledge"
   ]
  },
  {
   "cell_type": "markdown",
   "metadata": {
    "hidden": true
   },
   "source": [
    "![](images/neural_network_mathematics.png)"
   ]
  },
  {
   "cell_type": "markdown",
   "metadata": {
    "heading_collapsed": true,
    "hidden": true
   },
   "source": [
    "## Parts of a Neural Network"
   ]
  },
  {
   "cell_type": "markdown",
   "metadata": {
    "heading_collapsed": true,
    "hidden": true
   },
   "source": [
    "### Layers"
   ]
  },
  {
   "cell_type": "markdown",
   "metadata": {
    "hidden": true
   },
   "source": [
    "- **Input Layer**: the initial parameters (these will be the parts we feed to our network)\n",
    "- **Output Layer**: the classification (or regression predictions)\n",
    "- **Hidden Layer(s)**: the other neurons potentially in a neural network to find more complex patterns"
   ]
  },
  {
   "cell_type": "markdown",
   "metadata": {
    "heading_collapsed": true,
    "hidden": true
   },
   "source": [
    "### Weights"
   ]
  },
  {
   "cell_type": "markdown",
   "metadata": {
    "hidden": true
   },
   "source": [
    "> The weights from our inputs are describing how much they should contribute to the next neuron"
   ]
  },
  {
   "cell_type": "markdown",
   "metadata": {
    "hidden": true
   },
   "source": [
    "But we can also think of the weights of hidden layer neurons telling us how much of these linear separations should be combined."
   ]
  },
  {
   "cell_type": "markdown",
   "metadata": {
    "heading_collapsed": true,
    "hidden": true
   },
   "source": [
    "### Activation Functions"
   ]
  },
  {
   "cell_type": "markdown",
   "metadata": {
    "hidden": true
   },
   "source": [
    "![activation](images/log-reg-nn-ex-a.png)"
   ]
  },
  {
   "cell_type": "markdown",
   "metadata": {
    "hidden": true
   },
   "source": [
    "Then we pass it into an activation function. The activation function converts our summed inputs into an output, which is then passed on to other nodes in hidden layers, or as an end product in the output layer. This can loosely be thought of as the action potential traveling down the axon."
   ]
  },
  {
   "cell_type": "markdown",
   "metadata": {
    "hidden": true
   },
   "source": [
    "When we build our models in `keras`, we will specify the activation function of both hidden layers and output."
   ]
  },
  {
   "cell_type": "markdown",
   "metadata": {
    "heading_collapsed": true,
    "hidden": true
   },
   "source": [
    "### Other Hyperparameters"
   ]
  },
  {
   "cell_type": "markdown",
   "metadata": {
    "hidden": true
   },
   "source": [
    "We'll talk more about this in optimizing our neural networks but some hyperparameters include:\n",
    "\n",
    "- **Learning Rate ($\\alpha$)**: how big of a step we take in gradient descent\n",
    "- **Number of Epochs**: how many times we repeat this process\n",
    "- **Batch Size**: how many data points we use in a single training session (1 epoch)"
   ]
  },
  {
   "cell_type": "markdown",
   "metadata": {
    "hidden": true
   },
   "source": [
    "Remember, any parameter adjusted to enhance the neural network's learning _is_ a hyperparameter (this includes the actual structure of the neural net)"
   ]
  },
  {
   "cell_type": "markdown",
   "metadata": {
    "heading_collapsed": true
   },
   "source": [
    "# How They Work"
   ]
  },
  {
   "cell_type": "markdown",
   "metadata": {
    "heading_collapsed": true,
    "hidden": true
   },
   "source": [
    "## Forward Propagation"
   ]
  },
  {
   "cell_type": "markdown",
   "metadata": {
    "hidden": true
   },
   "source": [
    "Let's first look at **forward propagation** on the level of the perceptron.\n",
    "\n",
    "We will use the built-in dataset of handwritten numbers from `sklearn`, which comes from the UCI Machine Learning collection [digits source](https://archive.ics.uci.edu/ml/datasets/Optical+Recognition+of+Handwritten+Digits). Each record is a 64-bit (8x8) image of a handwritten number between 0 and 9. Each pixel value (a number between 0 and 16) represents the relative brightness of the pixel. "
   ]
  },
  {
   "cell_type": "code",
   "execution_count": 3,
   "metadata": {
    "hidden": true
   },
   "outputs": [],
   "source": [
    "digits = load_digits()\n",
    "flat_image = np.array(digits.data[0]).reshape(digits.data[0].shape[0], -1)\n",
    "eight_by_eight_image = digits.images[0]"
   ]
  },
  {
   "cell_type": "code",
   "execution_count": 4,
   "metadata": {},
   "outputs": [
    {
     "data": {
      "text/plain": [
       "array([[ 0.,  0.,  5., 13.,  9.,  1.,  0.,  0.],\n",
       "       [ 0.,  0., 13., 15., 10., 15.,  5.,  0.],\n",
       "       [ 0.,  3., 15.,  2.,  0., 11.,  8.,  0.],\n",
       "       [ 0.,  4., 12.,  0.,  0.,  8.,  8.,  0.],\n",
       "       [ 0.,  5.,  8.,  0.,  0.,  9.,  8.,  0.],\n",
       "       [ 0.,  4., 11.,  0.,  1., 12.,  7.,  0.],\n",
       "       [ 0.,  2., 14.,  5., 10., 12.,  0.,  0.],\n",
       "       [ 0.,  0.,  6., 13., 10.,  0.,  0.,  0.]])"
      ]
     },
     "execution_count": 4,
     "metadata": {},
     "output_type": "execute_result"
    }
   ],
   "source": [
    "eight_by_eight_image"
   ]
  },
  {
   "cell_type": "markdown",
   "metadata": {
    "hidden": true
   },
   "source": [
    "It is similar to the famous [**MNIST**](http://yann.lecun.com/exdb/mnist/index.html) dataset which is sometimes referred to the [\"hello world\" of computer vision](https://www.kaggle.com/c/digit-recognizer).  "
   ]
  },
  {
   "cell_type": "markdown",
   "metadata": {
    "hidden": true
   },
   "source": [
    "Let's look at one digit:"
   ]
  },
  {
   "cell_type": "code",
   "execution_count": 5,
   "metadata": {
    "hidden": true
   },
   "outputs": [],
   "source": [
    "digits = load_digits()\n",
    "eight_by_eight_image = digits.images[0]"
   ]
  },
  {
   "cell_type": "code",
   "execution_count": 6,
   "metadata": {
    "hidden": true
   },
   "outputs": [
    {
     "data": {
      "image/png": "[encoded data removed]",
      "text/plain": [
       "<Figure size 432x288 with 1 Axes>"
      ]
     },
     "metadata": {
      "needs_background": "light"
     },
     "output_type": "display_data"
    }
   ],
   "source": [
    "imgplot = plt.imshow(eight_by_eight_image, cmap='Greys')"
   ]
  },
  {
   "cell_type": "code",
   "execution_count": 7,
   "metadata": {
    "hidden": true
   },
   "outputs": [
    {
     "data": {
      "text/plain": [
       "array([[ 0.,  0.,  5., 13.,  9.,  1.,  0.,  0.],\n",
       "       [ 0.,  0., 13., 15., 10., 15.,  5.,  0.],\n",
       "       [ 0.,  3., 15.,  2.,  0., 11.,  8.,  0.],\n",
       "       [ 0.,  4., 12.,  0.,  0.,  8.,  8.,  0.],\n",
       "       [ 0.,  5.,  8.,  0.,  0.,  9.,  8.,  0.],\n",
       "       [ 0.,  4., 11.,  0.,  1., 12.,  7.,  0.],\n",
       "       [ 0.,  2., 14.,  5., 10., 12.,  0.,  0.],\n",
       "       [ 0.,  0.,  6., 13., 10.,  0.,  0.,  0.]])"
      ]
     },
     "execution_count": 7,
     "metadata": {},
     "output_type": "execute_result"
    }
   ],
   "source": [
    "# look at the matrix below and make sure you see how the large numbers \n",
    "# correspond to darker shades in the image above\n",
    "\n",
    "eight_by_eight_image"
   ]
  },
  {
   "cell_type": "markdown",
   "metadata": {
    "hidden": true
   },
   "source": [
    "When passing the data into our perceptron, we will **flatten** the image into a 64x1 array."
   ]
  },
  {
   "cell_type": "code",
   "execution_count": 8,
   "metadata": {
    "hidden": true
   },
   "outputs": [
    {
     "data": {
      "text/plain": [
       "array([ 0.,  0.,  5., 13.,  9.,  1.,  0.,  0.,  0.,  0., 13., 15., 10.,\n",
       "       15.,  5.,  0.,  0.,  3., 15.,  2.,  0., 11.,  8.,  0.,  0.,  4.,\n",
       "       12.,  0.,  0.,  8.,  8.,  0.,  0.,  5.,  8.,  0.,  0.,  9.,  8.,\n",
       "        0.,  0.,  4., 11.,  0.,  1., 12.,  7.,  0.,  0.,  2., 14.,  5.,\n",
       "       10., 12.,  0.,  0.,  0.,  0.,  6., 13., 10.,  0.,  0.,  0.])"
      ]
     },
     "execution_count": 8,
     "metadata": {},
     "output_type": "execute_result"
    }
   ],
   "source": [
    "digits.data[0]"
   ]
  },
  {
   "cell_type": "code",
   "execution_count": 9,
   "metadata": {
    "hidden": true
   },
   "outputs": [
    {
     "data": {
      "text/plain": [
       "64"
      ]
     },
     "execution_count": 9,
     "metadata": {},
     "output_type": "execute_result"
    }
   ],
   "source": [
    "digits.data[0].shape[0]"
   ]
  },
  {
   "cell_type": "code",
   "execution_count": 10,
   "metadata": {},
   "outputs": [
    {
     "data": {
      "text/plain": [
       "(64,)"
      ]
     },
     "execution_count": 10,
     "metadata": {},
     "output_type": "execute_result"
    }
   ],
   "source": [
    "digits.data[0].shape"
   ]
  },
  {
   "cell_type": "code",
   "execution_count": 11,
   "metadata": {
    "hidden": true
   },
   "outputs": [],
   "source": [
    "flat_image = np.array(digits.data[0]).reshape(digits.data[0].shape[0], -1)"
   ]
  },
  {
   "cell_type": "code",
   "execution_count": 12,
   "metadata": {
    "hidden": true
   },
   "outputs": [
    {
     "data": {
      "text/plain": [
       "(64, 1)"
      ]
     },
     "execution_count": 12,
     "metadata": {},
     "output_type": "execute_result"
    }
   ],
   "source": [
    "flat_image.shape"
   ]
  },
  {
   "cell_type": "code",
   "execution_count": 13,
   "metadata": {
    "scrolled": true
   },
   "outputs": [
    {
     "data": {
      "text/plain": [
       "array([[ 0.],\n",
       "       [ 0.],\n",
       "       [ 5.],\n",
       "       [13.],\n",
       "       [ 9.],\n",
       "       [ 1.],\n",
       "       [ 0.],\n",
       "       [ 0.],\n",
       "       [ 0.],\n",
       "       [ 0.],\n",
       "       [13.],\n",
       "       [15.],\n",
       "       [10.],\n",
       "       [15.],\n",
       "       [ 5.],\n",
       "       [ 0.],\n",
       "       [ 0.],\n",
       "       [ 3.],\n",
       "       [15.],\n",
       "       [ 2.],\n",
       "       [ 0.],\n",
       "       [11.],\n",
       "       [ 8.],\n",
       "       [ 0.],\n",
       "       [ 0.],\n",
       "       [ 4.],\n",
       "       [12.],\n",
       "       [ 0.],\n",
       "       [ 0.],\n",
       "       [ 8.],\n",
       "       [ 8.],\n",
       "       [ 0.],\n",
       "       [ 0.],\n",
       "       [ 5.],\n",
       "       [ 8.],\n",
       "       [ 0.],\n",
       "       [ 0.],\n",
       "       [ 9.],\n",
       "       [ 8.],\n",
       "       [ 0.],\n",
       "       [ 0.],\n",
       "       [ 4.],\n",
       "       [11.],\n",
       "       [ 0.],\n",
       "       [ 1.],\n",
       "       [12.],\n",
       "       [ 7.],\n",
       "       [ 0.],\n",
       "       [ 0.],\n",
       "       [ 2.],\n",
       "       [14.],\n",
       "       [ 5.],\n",
       "       [10.],\n",
       "       [12.],\n",
       "       [ 0.],\n",
       "       [ 0.],\n",
       "       [ 0.],\n",
       "       [ 0.],\n",
       "       [ 6.],\n",
       "       [13.],\n",
       "       [10.],\n",
       "       [ 0.],\n",
       "       [ 0.],\n",
       "       [ 0.]])"
      ]
     },
     "execution_count": 13,
     "metadata": {},
     "output_type": "execute_result"
    }
   ],
   "source": [
    "flat_image"
   ]
  },
  {
   "cell_type": "markdown",
   "metadata": {
    "hidden": true
   },
   "source": [
    "\n",
    "![weights](images/log-reg-nn-ex-w.png)"
   ]
  },
  {
   "cell_type": "markdown",
   "metadata": {
    "hidden": true
   },
   "source": [
    "We will instantiate our weight with small random numbers.\n"
   ]
  },
  {
   "cell_type": "code",
   "execution_count": 14,
   "metadata": {
    "hidden": true
   },
   "outputs": [
    {
     "data": {
      "text/plain": [
       "array([[ 0.01578703],\n",
       "       [ 0.08853909],\n",
       "       [-0.06495131],\n",
       "       [ 0.04234088],\n",
       "       [ 0.04119401],\n",
       "       [-0.07340721],\n",
       "       [-0.02806979],\n",
       "       [ 0.01446308],\n",
       "       [-0.0562131 ],\n",
       "       [ 0.06381747],\n",
       "       [-0.08004408],\n",
       "       [ 0.02080079],\n",
       "       [-0.06181677],\n",
       "       [-0.09557243],\n",
       "       [ 0.03136418],\n",
       "       [ 0.05839223],\n",
       "       [-0.08358713],\n",
       "       [-0.08473499],\n",
       "       [-0.07981224],\n",
       "       [-0.02749182],\n",
       "       [ 0.03214156],\n",
       "       [ 0.08325671],\n",
       "       [ 0.08970663],\n",
       "       [-0.0466757 ],\n",
       "       [ 0.09576509],\n",
       "       [-0.05169997],\n",
       "       [ 0.0880149 ],\n",
       "       [ 0.02311972],\n",
       "       [-0.06424704],\n",
       "       [ 0.01188149],\n",
       "       [ 0.08386858],\n",
       "       [-0.08619631],\n",
       "       [-0.07658292],\n",
       "       [-0.02852847],\n",
       "       [ 0.09930968],\n",
       "       [ 0.048969  ],\n",
       "       [ 0.09625326],\n",
       "       [-0.00295951],\n",
       "       [-0.02279094],\n",
       "       [ 0.01383522],\n",
       "       [ 0.02589542],\n",
       "       [ 0.09458793],\n",
       "       [ 0.07568371],\n",
       "       [-0.09139392],\n",
       "       [-0.02068817],\n",
       "       [ 0.09396432],\n",
       "       [-0.02792169],\n",
       "       [ 0.06958797],\n",
       "       [ 0.01181257],\n",
       "       [ 0.08360199],\n",
       "       [-0.02224251],\n",
       "       [-0.03047223],\n",
       "       [ 0.0559306 ],\n",
       "       [ 0.05731816],\n",
       "       [-0.03182664],\n",
       "       [-0.06465414],\n",
       "       [ 0.02152621],\n",
       "       [-0.0852668 ],\n",
       "       [ 0.08599842],\n",
       "       [-0.04369902],\n",
       "       [ 0.02131919],\n",
       "       [ 0.04395242],\n",
       "       [-0.08381521],\n",
       "       [-0.01400993]])"
      ]
     },
     "execution_count": 14,
     "metadata": {},
     "output_type": "execute_result"
    }
   ],
   "source": [
    "w = np.random.uniform(-0.1, 0.1, (flat_image.shape[0], 1))\n",
    "w"
   ]
  },
  {
   "cell_type": "code",
   "execution_count": 15,
   "metadata": {},
   "outputs": [
    {
     "data": {
      "text/plain": [
       "64"
      ]
     },
     "execution_count": 15,
     "metadata": {},
     "output_type": "execute_result"
    }
   ],
   "source": [
    "len(w)"
   ]
  },
  {
   "cell_type": "markdown",
   "metadata": {
    "hidden": true
   },
   "source": [
    "We'll set our bias term to 0:"
   ]
  },
  {
   "cell_type": "code",
   "execution_count": 16,
   "metadata": {
    "hidden": true
   },
   "outputs": [],
   "source": [
    "b = 0"
   ]
  },
  {
   "cell_type": "markdown",
   "metadata": {
    "heading_collapsed": true,
    "hidden": true
   },
   "source": [
    "### Summation\n",
    "\n",
    "![sum](images/log-reg-nn-ex-sum.png)"
   ]
  },
  {
   "cell_type": "markdown",
   "metadata": {
    "hidden": true
   },
   "source": [
    "Our inputs, the pixels, each are multiplied by their respective weights and then summed together with the bias. \n",
    "\n",
    "This amounts to the dotproduct of the pixel value and the weights."
   ]
  },
  {
   "cell_type": "code",
   "execution_count": 17,
   "metadata": {},
   "outputs": [
    {
     "data": {
      "text/plain": [
       "(1, 64)"
      ]
     },
     "execution_count": 17,
     "metadata": {},
     "output_type": "execute_result"
    }
   ],
   "source": [
    "flat_image.T.shape"
   ]
  },
  {
   "cell_type": "code",
   "execution_count": 18,
   "metadata": {
    "hidden": true
   },
   "outputs": [
    {
     "data": {
      "text/plain": [
       "array([[3.31884654]])"
      ]
     },
     "execution_count": 18,
     "metadata": {},
     "output_type": "execute_result"
    }
   ],
   "source": [
    "z = flat_image.T.dot(w) + b\n",
    "z"
   ]
  },
  {
   "cell_type": "markdown",
   "metadata": {
    "heading_collapsed": true,
    "hidden": true
   },
   "source": [
    "### Activation Functions\n",
    "We have a suite of activation functions to choose from."
   ]
  },
  {
   "cell_type": "markdown",
   "metadata": {
    "heading_collapsed": true,
    "hidden": true
   },
   "source": [
    "#### Sigmoid\n",
    "\n",
    "$f(x) = \\frac{1}{1+e^{-x}}$"
   ]
  },
  {
   "cell_type": "code",
   "execution_count": 19,
   "metadata": {
    "hidden": true
   },
   "outputs": [],
   "source": [
    "# Z is the input from our collector, the sum of the weights\n",
    "# multiplied by the features and the bias\n",
    "\n",
    "def sigmoid(z):\n",
    "    '''\n",
    "    Input the sum of our weights times the pixel intensities, plus the bias\n",
    "    Output a number between 0 and 1.\n",
    "    \n",
    "    '''\n",
    "    return 1/(1 + np.exp(-z))"
   ]
  },
  {
   "cell_type": "code",
   "execution_count": 20,
   "metadata": {
    "hidden": true
   },
   "outputs": [
    {
     "data": {
      "image/png": "[encoded data removed]",
      "text/plain": [
       "<Figure size 432x288 with 1 Axes>"
      ]
     },
     "metadata": {
      "needs_background": "light"
     },
     "output_type": "display_data"
    }
   ],
   "source": [
    "X = np.linspace(-10, 10, 20000)\n",
    "sig = sigmoid(X)\n",
    "\n",
    "fig, ax = plt.subplots()\n",
    "ax.plot(X, sig)\n",
    "ax.set_title('Sigmoid Activation');"
   ]
  },
  {
   "cell_type": "markdown",
   "metadata": {
    "heading_collapsed": true,
    "hidden": true
   },
   "source": [
    "#### tanh"
   ]
  },
  {
   "cell_type": "markdown",
   "metadata": {
    "hidden": true
   },
   "source": [
    "$f(x) = tanh(x) = \\frac{e^x - e^{-x}}{e^x + e^{-x}}$"
   ]
  },
  {
   "cell_type": "markdown",
   "metadata": {
    "hidden": true
   },
   "source": [
    "The hyperbolic tangent function is a shifted version of the sigmoid. The inflection point passes through 0,0 instead of 0,.5, and the output is between -1 and 1.  This means the mean of the output is centered around 0, which can make learning in the next layer easier. tanh is almost always better in a **hidden layer** than sigmoid because it [speeds up learning](https://stats.stackexchange.com/questions/330559/why-is-tanh-almost-always-better-than-sigmoid-as-an-activation-function). For the output layer, however, sigmoid makes sense for binary outcomes."
   ]
  },
  {
   "cell_type": "code",
   "execution_count": 21,
   "metadata": {
    "hidden": true
   },
   "outputs": [],
   "source": [
    "def tanh(z):\n",
    "    return (np.exp(z) - np.exp(-z)) / (np.exp(z) + np.exp(-z))"
   ]
  },
  {
   "cell_type": "code",
   "execution_count": 22,
   "metadata": {
    "hidden": true
   },
   "outputs": [
    {
     "data": {
      "image/png": "[encoded data removed]",
      "text/plain": [
       "<Figure size 432x288 with 1 Axes>"
      ]
     },
     "metadata": {
      "needs_background": "light"
     },
     "output_type": "display_data"
    }
   ],
   "source": [
    "# Coding tanh:\n",
    "\n",
    "X = np.linspace(-10, 10, 20000)\n",
    "y_tanh = tanh(X)\n",
    "\n",
    "fig, ax = plt.subplots()\n",
    "ax.plot(X, y_tanh)\n",
    "ax.set_title('Hyperbolic Tangent Activation');"
   ]
  },
  {
   "cell_type": "markdown",
   "metadata": {
    "hidden": true
   },
   "source": [
    "One problem with tanh (and sigmoid) is that if our input is large, the slope of the activation function flattens out.  When conducting backpropagation, we will use the derivative of the activation function as one of our terms multiplied by a learning rate to determine how big a step to take when adjusting our weights. If our derivative is close to zero, the step will be very small, so the speed of our learning will be very slow.  This is called the **vanishing gradient** problem."
   ]
  },
  {
   "cell_type": "markdown",
   "metadata": {
    "heading_collapsed": true,
    "hidden": true
   },
   "source": [
    "#### ReLU"
   ]
  },
  {
   "cell_type": "markdown",
   "metadata": {
    "hidden": true
   },
   "source": [
    "$f(x) = 0$ if $x\\leq 0$; $f(x) = x$ otherwise"
   ]
  },
  {
   "cell_type": "markdown",
   "metadata": {
    "hidden": true
   },
   "source": [
    "ReLU is a commonly used and effective activation function because of speed.  Given that the **output** is zero when negative, some nodes become inactive (i.e. produce an output of 0).  Zero outputs take little computational power. Also, the constant gradient leads to faster learning in comparison to sigmoid and tanh, which come close to 0 with large positive and large negative values. Since the speed of our network is linked to the derivative, a derivative close to zero will result in slow learning.\n",
    "\n",
    "See also [this page on stackexchange](https://stats.stackexchange.com/questions/126238/what-are-the-advantages-of-relu-over-sigmoid-function-in-deep-neural-networks)."
   ]
  },
  {
   "cell_type": "code",
   "execution_count": 23,
   "metadata": {
    "hidden": true
   },
   "outputs": [],
   "source": [
    "def relu(z, leaky=False, a=0.01):\n",
    "    if z > 0:\n",
    "        return z\n",
    "    elif leaky == False:\n",
    "        return 0\n",
    "    else:\n",
    "        return a*z"
   ]
  },
  {
   "cell_type": "code",
   "execution_count": 24,
   "metadata": {
    "hidden": true
   },
   "outputs": [
    {
     "data": {
      "image/png": "[encoded data removed]",
      "text/plain": [
       "<Figure size 432x288 with 1 Axes>"
      ]
     },
     "metadata": {
      "needs_background": "light"
     },
     "output_type": "display_data"
    }
   ],
   "source": [
    "# Coding ReLU:\n",
    "\n",
    "X = np.linspace(-10, 10, 200)\n",
    "\n",
    "y_relu = [relu(x) for x in X]\n",
    "\n",
    "fig, ax = plt.subplots()\n",
    "ax.plot(X, y_relu)\n",
    "ax.set_title('ReLU Activation');"
   ]
  },
  {
   "cell_type": "markdown",
   "metadata": {
    "heading_collapsed": true,
    "hidden": true
   },
   "source": [
    "#### Swish\n",
    "\n",
    "$f(x) = \\frac{x}{1+e^{-x}}$\n",
    "\n",
    "New on the scene, this function has lots of promise since it looks much like ReLU but has a nonzero derivative everywhere. See [here](https://medium.com/@neuralnets/swish-activation-function-by-google-53e1ea86f820) for more."
   ]
  },
  {
   "cell_type": "code",
   "execution_count": 25,
   "metadata": {
    "hidden": true
   },
   "outputs": [],
   "source": [
    "def swish(z):\n",
    "    return z/(1+np.exp(-z))"
   ]
  },
  {
   "cell_type": "code",
   "execution_count": 26,
   "metadata": {
    "hidden": true,
    "scrolled": true
   },
   "outputs": [
    {
     "data": {
      "image/png": "[encoded data removed]",
      "text/plain": [
       "<Figure size 432x288 with 1 Axes>"
      ]
     },
     "metadata": {
      "needs_background": "light"
     },
     "output_type": "display_data"
    }
   ],
   "source": [
    "# Coding Swish\n",
    "\n",
    "X = np.linspace(-10, 10, 200)\n",
    "\n",
    "y_swish = [swish(x) for x in X]\n",
    "\n",
    "fig, ax = plt.subplots()\n",
    "ax.plot(X, y_swish)\n",
    "ax.set_title('Swish Activation');"
   ]
  },
  {
   "cell_type": "markdown",
   "metadata": {
    "heading_collapsed": true,
    "hidden": true
   },
   "source": [
    "#### Softmax\n",
    "\n",
    "$\\large f(x_0) = \\frac{e^{x_0}}{\\Sigma_{x\\epsilon X}e^x}$"
   ]
  },
  {
   "cell_type": "markdown",
   "metadata": {
    "hidden": true
   },
   "source": [
    "Because this function relates each value to the sum of all values, this is the appropriate activation in the output layer for **multi-class** classification problems. We can interpret the function as outputting the probabilities of belonging to each class."
   ]
  },
  {
   "cell_type": "markdown",
   "metadata": {
    "hidden": true
   },
   "source": [
    "There are other activation functions; [see here](https://towardsdatascience.com/comparison-of-activation-functions-for-deep-neural-networks-706ac4284c8a). "
   ]
  },
  {
   "cell_type": "markdown",
   "metadata": {
    "hidden": true
   },
   "source": [
    "Our nodes will be taking in input from multiple sources. Let's add the entire training set as our input. \n"
   ]
  },
  {
   "cell_type": "code",
   "execution_count": 27,
   "metadata": {
    "hidden": true,
    "scrolled": true
   },
   "outputs": [
    {
     "data": {
      "text/plain": [
       "(1437, 64)"
      ]
     },
     "execution_count": 27,
     "metadata": {},
     "output_type": "execute_result"
    }
   ],
   "source": [
    "X_train, X_test, y_train, y_test = train_test_split(digits.data,\n",
    "                                                    digits.target,\n",
    "                                                    random_state=42,\n",
    "                                                    test_size=0.2)\n",
    "X_train.shape"
   ]
  },
  {
   "cell_type": "code",
   "execution_count": 28,
   "metadata": {},
   "outputs": [
    {
     "data": {
      "text/plain": [
       "array([[ 0.,  0.,  3., ..., 13.,  4.,  0.],\n",
       "       [ 0.,  0.,  9., ...,  3.,  0.,  0.],\n",
       "       [ 0.,  0.,  0., ...,  6.,  0.,  0.],\n",
       "       ...,\n",
       "       [ 0.,  0.,  9., ..., 16.,  2.,  0.],\n",
       "       [ 0.,  0.,  1., ...,  0.,  0.,  0.],\n",
       "       [ 0.,  0.,  1., ...,  1.,  0.,  0.]])"
      ]
     },
     "execution_count": 28,
     "metadata": {},
     "output_type": "execute_result"
    }
   ],
   "source": [
    "X_train"
   ]
  },
  {
   "cell_type": "code",
   "execution_count": 29,
   "metadata": {
    "hidden": true
   },
   "outputs": [
    {
     "data": {
      "text/plain": [
       "array([[ 0.,  0.,  3., 14.,  1.,  0.,  0.,  0.],\n",
       "       [ 0.,  0., 12., 12.,  0.,  0.,  0.,  0.],\n",
       "       [ 0.,  3., 16.,  6.,  0.,  0.,  0.,  0.],\n",
       "       [ 0.,  5., 16.,  2.,  0.,  0.,  0.,  0.],\n",
       "       [ 0.,  6., 16.,  2.,  5.,  2.,  0.,  0.],\n",
       "       [ 0.,  4., 16.,  2., 12., 15.,  2.,  0.],\n",
       "       [ 0.,  1., 14., 13.,  2., 13., 11.,  0.],\n",
       "       [ 0.,  0.,  3., 11., 16., 13.,  4.,  0.]])"
      ]
     },
     "execution_count": 29,
     "metadata": {},
     "output_type": "execute_result"
    }
   ],
   "source": [
    "X_train[0, :].reshape(8, 8)"
   ]
  },
  {
   "cell_type": "code",
   "execution_count": 30,
   "metadata": {},
   "outputs": [
    {
     "data": {
      "text/plain": [
       "6"
      ]
     },
     "execution_count": 30,
     "metadata": {},
     "output_type": "execute_result"
    }
   ],
   "source": [
    "y_train[0]"
   ]
  },
  {
   "cell_type": "code",
   "execution_count": 31,
   "metadata": {
    "hidden": true
   },
   "outputs": [
    {
     "data": {
      "text/plain": [
       "(64, 4)"
      ]
     },
     "execution_count": 31,
     "metadata": {},
     "output_type": "execute_result"
    }
   ],
   "source": [
    "w_1 = np.random.normal(0, 0.1, (X_train.shape[1], 4))\n",
    "w_1.shape"
   ]
  },
  {
   "cell_type": "code",
   "execution_count": 32,
   "metadata": {},
   "outputs": [
    {
     "data": {
      "text/plain": [
       "array([[-0.05662785,  0.07156629, -0.02047408,  0.05922841],\n",
       "       [-0.24971241, -0.10084677, -0.00846783,  0.03425779],\n",
       "       [ 0.07256505, -0.11200762,  0.04615936,  0.10590218],\n",
       "       [-0.04761163, -0.1101202 ,  0.04216869, -0.10966189],\n",
       "       [-0.01889717, -0.11703321, -0.01009837,  0.089564  ],\n",
       "       [-0.09854917, -0.16264718, -0.10136051, -0.08078659],\n",
       "       [-0.06590735, -0.0685088 ,  0.03849088,  0.00912547],\n",
       "       [-0.04865232,  0.03679945, -0.00521605, -0.02563841],\n",
       "       [ 0.04896757, -0.01833407,  0.00703488, -0.05682989],\n",
       "       [-0.13194343, -0.02780311,  0.0601121 ,  0.06702786],\n",
       "       [-0.19226044,  0.08563552,  0.27174902, -0.02050603],\n",
       "       [-0.04623428, -0.0909654 , -0.01856227,  0.01042884],\n",
       "       [-0.06937301, -0.02415273, -0.05179222,  0.10959841],\n",
       "       [ 0.00267188, -0.27626089,  0.04670006, -0.17737488],\n",
       "       [-0.05004471,  0.01074387,  0.01091306,  0.21969911],\n",
       "       [-0.08960058,  0.13978039, -0.08201886, -0.11337041],\n",
       "       [-0.05456568,  0.07689254, -0.10994597,  0.00243495],\n",
       "       [ 0.00237906, -0.23052653,  0.03203635,  0.05192583],\n",
       "       [-0.04608189, -0.07168784, -0.03396537,  0.08145792],\n",
       "       [ 0.11237127,  0.02570701, -0.02481807,  0.12077701],\n",
       "       [ 0.06181779, -0.02053046, -0.23367731, -0.13057155],\n",
       "       [-0.16265383, -0.016807  ,  0.13872045, -0.04959927],\n",
       "       [-0.1287478 ,  0.02959934,  0.03733572,  0.01603762],\n",
       "       [-0.24242345,  0.00675638, -0.04877756,  0.08444865],\n",
       "       [ 0.02610453,  0.12043739, -0.01051428,  0.11810065],\n",
       "       [ 0.02111215, -0.01819802, -0.04055514,  0.00776799],\n",
       "       [-0.04616741,  0.12192953,  0.03249082,  0.0906727 ],\n",
       "       [-0.11981975, -0.15818957, -0.01907006,  0.21214363],\n",
       "       [-0.10223482, -0.0706923 ,  0.04324222, -0.0984092 ],\n",
       "       [ 0.08071075,  0.07076584, -0.09140662,  0.00186701],\n",
       "       [-0.02479548, -0.05904187, -0.03377121, -0.00877392],\n",
       "       [ 0.06170337,  0.03694517,  0.11236007,  0.00081764],\n",
       "       [-0.08127034, -0.04010966,  0.12937135,  0.22688245],\n",
       "       [-0.04415387,  0.20621858,  0.0427996 ,  0.13131674],\n",
       "       [ 0.02895386,  0.00645608,  0.0292254 , -0.00837801],\n",
       "       [-0.06570558,  0.25903239,  0.05860445,  0.10140419],\n",
       "       [ 0.03736393, -0.04812202,  0.0900935 , -0.09985258],\n",
       "       [-0.13139639, -0.1219223 ,  0.02555274,  0.04068713],\n",
       "       [ 0.09527744, -0.02146339, -0.05069072, -0.19043628],\n",
       "       [-0.06169699,  0.30444777,  0.06901073,  0.09257592],\n",
       "       [ 0.10600592, -0.06913002, -0.0046128 ,  0.01565996],\n",
       "       [-0.05399764,  0.10454   ,  0.08122291, -0.11008504],\n",
       "       [ 0.07512626, -0.01158857, -0.05341615,  0.18385901],\n",
       "       [ 0.04749513, -0.0650812 ,  0.08672248, -0.03486521],\n",
       "       [-0.01286531, -0.02494947, -0.01328654, -0.0212792 ],\n",
       "       [ 0.1020457 ,  0.14425911,  0.08908202, -0.11613028],\n",
       "       [-0.07521249, -0.12499516,  0.02160069,  0.02477036],\n",
       "       [ 0.05537348,  0.13071647, -0.08378561,  0.08058055],\n",
       "       [ 0.0582683 ,  0.07692734, -0.0135451 , -0.1215884 ],\n",
       "       [ 0.05960954,  0.06963558, -0.02340032,  0.00593077],\n",
       "       [ 0.03720692, -0.09222265,  0.08659551, -0.01278817],\n",
       "       [-0.12206809,  0.09763867, -0.00337518,  0.08760525],\n",
       "       [ 0.07269414, -0.13953361, -0.03697823, -0.00568739],\n",
       "       [-0.07886471,  0.06640506,  0.12616089,  0.01389259],\n",
       "       [ 0.03610179, -0.06913458,  0.10609288, -0.00465467],\n",
       "       [-0.16309801,  0.19257977,  0.08272364, -0.10570514],\n",
       "       [-0.15523318,  0.07625455, -0.03543289, -0.11000024],\n",
       "       [ 0.13615776, -0.04707958,  0.11191069,  0.03441753],\n",
       "       [-0.06184824,  0.04044222, -0.04097424,  0.09375328],\n",
       "       [-0.08157788,  0.12556076, -0.04339426, -0.02964373],\n",
       "       [ 0.14921783, -0.12441214,  0.00990621, -0.19702912],\n",
       "       [ 0.01810497, -0.07786753,  0.02372839,  0.06259958],\n",
       "       [ 0.01309752, -0.02603432, -0.0080741 , -0.07602763],\n",
       "       [-0.2793954 ,  0.1923369 ,  0.03873656, -0.05625793]])"
      ]
     },
     "execution_count": 32,
     "metadata": {},
     "output_type": "execute_result"
    }
   ],
   "source": [
    "w_1"
   ]
  },
  {
   "cell_type": "code",
   "execution_count": 33,
   "metadata": {
    "hidden": true
   },
   "outputs": [],
   "source": [
    "b_1 = 0"
   ]
  },
  {
   "cell_type": "code",
   "execution_count": 34,
   "metadata": {
    "hidden": true,
    "scrolled": true
   },
   "outputs": [
    {
     "data": {
      "text/plain": [
       "array([[ -1.85732649,  -0.84121045,   9.35916008,   2.16760535],\n",
       "       [ -6.46988833,  -5.09117423,   8.17478779,  -1.55294428],\n",
       "       [ -5.922041  ,  -7.88987542,   5.37167495,   4.15006932],\n",
       "       ...,\n",
       "       [ -8.50212989, -14.20934397,   7.28370533,  -3.4729503 ],\n",
       "       [ -8.17596942,  -9.37503263,   3.90057262,  -4.02779094],\n",
       "       [ -3.0165848 ,  -6.16113958,  -1.22627015,   5.54819695]])"
      ]
     },
     "execution_count": 34,
     "metadata": {},
     "output_type": "execute_result"
    }
   ],
   "source": [
    "z_1 = X_train.dot(w_1) + b_1\n",
    "z_1"
   ]
  },
  {
   "cell_type": "code",
   "execution_count": 35,
   "metadata": {},
   "outputs": [
    {
     "data": {
      "text/plain": [
       "1437"
      ]
     },
     "execution_count": 35,
     "metadata": {},
     "output_type": "execute_result"
    }
   ],
   "source": [
    "len(z_1)"
   ]
  },
  {
   "cell_type": "code",
   "execution_count": 36,
   "metadata": {
    "hidden": true
   },
   "outputs": [
    {
     "data": {
      "text/plain": [
       "array([[1.35014975e-01, 3.01279911e-01, 9.99913835e-01, 8.97302508e-01],\n",
       "       [1.54700182e-03, 6.11319219e-03, 9.99718413e-01, 1.74661430e-01],\n",
       "       [2.67256353e-03, 3.74376021e-04, 9.95375146e-01, 9.84481303e-01],\n",
       "       ...,\n",
       "       [2.02994250e-04, 6.74465948e-07, 9.99313835e-01, 3.00917537e-02],\n",
       "       [2.81254470e-04, 8.48082744e-05, 9.80170827e-01, 1.75018660e-02],\n",
       "       [4.66822260e-02, 2.10540548e-03, 2.26834904e-01, 9.96120635e-01]])"
      ]
     },
     "execution_count": 36,
     "metadata": {},
     "output_type": "execute_result"
    }
   ],
   "source": [
    "a_1 = sigmoid(z_1)\n",
    "a_1"
   ]
  },
  {
   "cell_type": "markdown",
   "metadata": {
    "hidden": true
   },
   "source": [
    "Now each of these neurons has a set of weights and a bias associated with it."
   ]
  },
  {
   "cell_type": "code",
   "execution_count": 37,
   "metadata": {
    "hidden": true
   },
   "outputs": [
    {
     "data": {
      "text/plain": [
       "(4, 1)"
      ]
     },
     "execution_count": 37,
     "metadata": {},
     "output_type": "execute_result"
    }
   ],
   "source": [
    "w_2 = np.random.normal(0, 0.1, (a_1.shape[1], 1))\n",
    "\n",
    "w_2.shape"
   ]
  },
  {
   "cell_type": "code",
   "execution_count": 38,
   "metadata": {
    "hidden": true
   },
   "outputs": [],
   "source": [
    "b_2 = 0"
   ]
  },
  {
   "cell_type": "code",
   "execution_count": 39,
   "metadata": {
    "hidden": true,
    "scrolled": true
   },
   "outputs": [
    {
     "data": {
      "text/plain": [
       "array([[0.1373184 ],\n",
       "       [0.09882313],\n",
       "       [0.10502965],\n",
       "       ...,\n",
       "       [0.09710321],\n",
       "       [0.09515835],\n",
       "       [0.03680884]])"
      ]
     },
     "execution_count": 39,
     "metadata": {},
     "output_type": "execute_result"
    }
   ],
   "source": [
    "z_2 = a_1.dot(w_2)\n",
    "z_2"
   ]
  },
  {
   "cell_type": "code",
   "execution_count": 40,
   "metadata": {},
   "outputs": [
    {
     "data": {
      "text/plain": [
       "1437"
      ]
     },
     "execution_count": 40,
     "metadata": {},
     "output_type": "execute_result"
    }
   ],
   "source": [
    "len(z_2)"
   ]
  },
  {
   "cell_type": "code",
   "execution_count": 41,
   "metadata": {
    "hidden": true
   },
   "outputs": [
    {
     "data": {
      "text/plain": [
       "array([[1],\n",
       "       [1],\n",
       "       [1],\n",
       "       [1],\n",
       "       [1]])"
      ]
     },
     "execution_count": 41,
     "metadata": {},
     "output_type": "execute_result"
    }
   ],
   "source": [
    "output = sigmoid(z_2)\n",
    "y_pred = output > 0.5\n",
    "y_hat = y_pred.astype(int)\n",
    "y_hat[:5]"
   ]
  },
  {
   "cell_type": "markdown",
   "metadata": {
    "heading_collapsed": true,
    "hidden": true
   },
   "source": [
    "## Backpropagation"
   ]
  },
  {
   "cell_type": "markdown",
   "metadata": {
    "hidden": true
   },
   "source": [
    "The **backpropagation** algorithm takes the idea of optimally adjusting the parameters (weights) to get a better result. "
   ]
  },
  {
   "cell_type": "markdown",
   "metadata": {
    "hidden": true
   },
   "source": [
    "We do this tuning by propagating the (average) error back through the network, with the cost function $J$ guiding us and adjusting via gradient descent.\n",
    "\n",
    "> Turn down previous neurons that give a bad result\n",
    ">\n",
    "> Turn up previous neurons that give a good result"
   ]
  },
  {
   "cell_type": "markdown",
   "metadata": {
    "hidden": true
   },
   "source": [
    "> Great video explanation of backpropagation by 3Blue1Brown (part of a full playlist): [Backpropagation calculus | Deep learning, chapter 4](https://www.youtube.com/watch?v=tIeHLnjs5U8&list=PLZHQObOWTQDNU6R1_67000Dx_ZCJB-3pi&index=4)"
   ]
  },
  {
   "cell_type": "markdown",
   "metadata": {
    "hidden": true
   },
   "source": [
    "![](images/neural_network_graph_3blue1brown.png)\n"
   ]
  },
  {
   "cell_type": "markdown",
   "metadata": {
    "heading_collapsed": true
   },
   "source": [
    "# Let's see it in action!"
   ]
  },
  {
   "cell_type": "markdown",
   "metadata": {
    "hidden": true
   },
   "source": [
    "Now we know the different parts, let's try it out for ourselves!"
   ]
  },
  {
   "cell_type": "markdown",
   "metadata": {
    "hidden": true
   },
   "source": [
    "- [playground.tensorflow.org](https://playground.tensorflow.org): A visual playground for us to train a neural network"
   ]
  }
 ],
 "metadata": {
  "kernelspec": {
   "display_name": "Python (learn-env)",
   "language": "python",
   "name": "learn-env"
  },
  "language_info": {
   "codemirror_mode": {
    "name": "ipython",
    "version": 3
   },
   "file_extension": ".py",
   "mimetype": "text/x-python",
   "name": "python",
   "nbconvert_exporter": "python",
   "pygments_lexer": "ipython3",
   "version": "3.8.5"
  },
  "toc": {
   "base_numbering": 1,
   "nav_menu": {},
   "number_sections": true,
   "sideBar": true,
   "skip_h1_title": false,
   "title_cell": "Table of Contents",
   "title_sidebar": "Contents",
   "toc_cell": true,
   "toc_position": {
    "height": "calc(100% - 180px)",
    "left": "10px",
    "top": "150px",
    "width": "384px"
   },
   "toc_section_display": true,
   "toc_window_display": true
  }
 },
 "nbformat": 4,
 "nbformat_minor": 4
}
