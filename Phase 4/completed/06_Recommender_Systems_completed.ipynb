{
 "cells": [
  {
   "cell_type": "markdown",
   "metadata": {},
   "source": [
    "# Recommender Systems"
   ]
  },
  {
   "cell_type": "code",
   "execution_count": 1,
   "metadata": {},
   "outputs": [],
   "source": [
    "from random import gauss as gs, uniform as uni, seed\n",
    "import numpy as np\n",
    "import pandas as pd\n",
    "from sklearn.linear_model import LinearRegression"
   ]
  },
  {
   "cell_type": "markdown",
   "metadata": {},
   "source": [
    "![Netflix](https://miro.medium.com/max/1400/1*jlQxemlP9Yim_rWTqlCFDQ.png)"
   ]
  },
  {
   "cell_type": "markdown",
   "metadata": {},
   "source": [
    "![Amazon](images/amazon_recommender.png)"
   ]
  },
  {
   "cell_type": "markdown",
   "metadata": {},
   "source": [
    "## Agenda"
   ]
  },
  {
   "cell_type": "markdown",
   "metadata": {},
   "source": [
    "- describe the difference between content-based and collaborative-filtering algorithms\n",
    "- explain and use the cosine similarity metric\n",
    "- describe the algorithm of alternating least-squares"
   ]
  },
  {
   "cell_type": "markdown",
   "metadata": {},
   "source": [
    "## Intro"
   ]
  },
  {
   "cell_type": "markdown",
   "metadata": {},
   "source": [
    "Recommender systems can be classified along various lines. One fundamental distinction is **content-based** vs. **collaborative-filtering** systems.\n",
    "\n",
    "To illustrate this, consider two different strategies: (a) I recommend items to you that are *similar to other items* you've used/bought/read/watched; and (b) I recommend items to you that people *similar to you* have used/bought/read/watched. The first is the **content-based strategy**; the second is the **collaborative-filtering strategy**. \n",
    "\n",
    "Another distinction drawn is in whether (a) the system uses existing ratings to compute user-user or item-item similarity, or (b) the system uses machine learning techniques to make predictions. Recommenders of the first sort are called **memory-based**; recommenders of the second sort are called **model-based**."
   ]
  },
  {
   "cell_type": "markdown",
   "metadata": {},
   "source": [
    "## Content-Based Systems"
   ]
  },
  {
   "cell_type": "markdown",
   "metadata": {},
   "source": [
    "The basic idea here is to recommend items to a user that are *similar to* items that the user has already enjoyed. Suppose we represent TV shows as rows, where the columns represent various features of these TV shows. These features might be things like the presence of a certain actor or the show fitting into a particular genre etc. We'll just use binary features here, perhaps the result of some one-hot encoding:"
   ]
  },
  {
   "cell_type": "code",
   "execution_count": 2,
   "metadata": {},
   "outputs": [
    {
     "data": {
      "text/plain": [
       "array([[0, 1, 1, 0, 1, 1, 1],\n",
       "       [0, 0, 0, 1, 1, 1, 0],\n",
       "       [1, 1, 1, 0, 0, 1, 1],\n",
       "       [0, 1, 1, 1, 0, 0, 1]])"
      ]
     },
     "execution_count": 2,
     "metadata": {},
     "output_type": "execute_result"
    }
   ],
   "source": [
    "tv_shows = np.array([[0, 1, 1, 0, 1, 1, 1],\n",
    "                   [0, 0, 0, 1, 1, 1, 0],\n",
    "                   [1, 1, 1, 0, 0, 1, 1],\n",
    "                   [0, 1, 1, 1, 0, 0, 1]])\n",
    "\n",
    "tv_shows"
   ]
  },
  {
   "cell_type": "markdown",
   "metadata": {},
   "source": [
    "Bob likes the TV Show represented by Row \\#1. Which show (row) should we recommend to Bob?\n",
    "\n",
    "One natural way of measuring the similarity between two vectors is by the **cosine of the angle between them**. Two points near one another in feature space will correspond to vectors that nearly overlap, i.e. vectors that describe a small angle $\\theta$. And as $\\theta$ decreases, $\\cos(\\theta)$ *increases*. So we'll be looking for large values of the cosine (which ranges between -1 and 1). We can also think of the cosine between two vectors as the *projection of one vector onto the other*:\n",
    "\n",
    "![image.png](https://www.oreilly.com/api/v2/epubs/9781788295758/files/assets/2b4a7a82-ad4c-4b2a-b808-e423a334de6f.png)\n",
    "\n",
    "We can use this metric easily if we treat our rows (the items we're comparing for similarity) as vectors: We can calculate the cosine of the angle $\\theta$ between two vectors $\\vec{a}$ and $\\vec{b}$ as follows: $\\cos(\\theta) = \\frac{\\vec{a}\\cdot\\vec{b}}{|\\vec{a}||\\vec{b}|}$"
   ]
  },
  {
   "cell_type": "code",
   "execution_count": 3,
   "metadata": {},
   "outputs": [
    {
     "data": {
      "text/plain": [
       "array([0.51639778, 0.8       , 0.67082039])"
      ]
     },
     "execution_count": 3,
     "metadata": {},
     "output_type": "execute_result"
    }
   ],
   "source": [
    "numerators = np.array([tv_shows[0].dot(tv_show) for tv_show in tv_shows[1:]])\n",
    "denominators = np.array([np.sqrt(sum(tv_shows[0]**2)) *\\\n",
    "                         np.sqrt(sum(tv_show**2)) for tv_show in tv_shows[1:]])\n",
    "\n",
    "numerators / denominators"
   ]
  },
  {
   "cell_type": "markdown",
   "metadata": {},
   "source": [
    "Since the cosine similarity to Row \\#1 is highest for Row \\#3, we would recommend this TV show."
   ]
  },
  {
   "cell_type": "markdown",
   "metadata": {},
   "source": [
    "***"
   ]
  },
  {
   "cell_type": "markdown",
   "metadata": {},
   "source": [
    "## Collaborative Filtering\n",
    "\n",
    "Now the idea is to recommend items to a user based on what *similar* users have enjoyed. Suppose we have the following recording of explicit ratings of five items by three users:"
   ]
  },
  {
   "cell_type": "code",
   "execution_count": 5,
   "metadata": {
    "scrolled": true
   },
   "outputs": [
    {
     "data": {
      "text/plain": [
       "array([[5, 4, 3, 4, 5],\n",
       "       [3, 1, 1, 2, 5],\n",
       "       [4, 2, 3, 1, 4]])"
      ]
     },
     "execution_count": 5,
     "metadata": {},
     "output_type": "execute_result"
    }
   ],
   "source": [
    "users = np.array([[5, 4, 3, 4, 5], [3, 1, 1, 2, 5], [4, 2, 3, 1, 4]])\n",
    "\n",
    "new_user = np.array([5, 0, 0, 0, 0])\n",
    "users"
   ]
  },
  {
   "cell_type": "code",
   "execution_count": 6,
   "metadata": {},
   "outputs": [
    {
     "data": {
      "text/plain": [
       "array([5, 0, 0, 0, 0])"
      ]
     },
     "execution_count": 6,
     "metadata": {},
     "output_type": "execute_result"
    }
   ],
   "source": [
    "new_user"
   ]
  },
  {
   "cell_type": "markdown",
   "metadata": {},
   "source": [
    "To which user is `new_user` most similar?\n",
    "\n",
    "One metric is cosine similarity:"
   ]
  },
  {
   "cell_type": "code",
   "execution_count": 7,
   "metadata": {},
   "outputs": [
    {
     "data": {
      "text/plain": [
       "array([0.52414242, 0.47434165, 0.58976782])"
      ]
     },
     "execution_count": 7,
     "metadata": {},
     "output_type": "execute_result"
    }
   ],
   "source": [
    "new_user_mag = 5\n",
    "\n",
    "numerators = np.array([new_user.dot(user) for user in users])\n",
    "denominators = np.array([new_user_mag * np.sqrt(sum(user**2))\\\n",
    "                         for user in users])\n",
    "\n",
    "numerators / denominators"
   ]
  },
  {
   "cell_type": "markdown",
   "metadata": {},
   "source": [
    "But we could also use another metric, such as Pearson Correlation:"
   ]
  },
  {
   "cell_type": "code",
   "execution_count": 8,
   "metadata": {},
   "outputs": [
    {
     "data": {
      "text/plain": [
       "[0.5345224838248488, 0.20044593143431824, 0.5144957554275266]"
      ]
     },
     "execution_count": 8,
     "metadata": {},
     "output_type": "execute_result"
    }
   ],
   "source": [
    "[np.corrcoef(new_user, user)[0, 1] for user in users]"
   ]
  },
  {
   "cell_type": "markdown",
   "metadata": {},
   "source": [
    "For more on content-based vs. collaborative systems, see [this Wikipedia article](https://en.wikipedia.org/wiki/Collaborative_filtering) and [this blog post](https://towardsdatascience.com/recommendation-systems-models-and-evaluation-84944a84fb8e). [This post](https://dataconomy.com/2015/03/an-introduction-to-recommendation-engines/) on dataconomy is also useful."
   ]
  },
  {
   "cell_type": "markdown",
   "metadata": {},
   "source": [
    "***"
   ]
  },
  {
   "cell_type": "markdown",
   "metadata": {},
   "source": [
    "## Matrix Factorization\n",
    "\n",
    "Suppose we start with a matrix $R$ of users and products, where each cell records the ranking the relevant user gave to the relevant product. Very often we'll be able to record this data as a sparse matrix, because many users will not have ranked many items.\n",
    "\n",
    "Imagine factoring this matrix into a user matrix $P$ and an item matrix $Q^T$: $R = PQ^T$. What would the shapes of $P$ and $Q^T$ be? Clearly $P$ must have as many rows as $R$, which is just the number of users who have given ratings. Similarly, $Q^T$ must have as many columns as $R$, which is just the number of items that have received ratings. We also know that the number of columns of $P$ must match the number of rows of $Q^T$ for the factorization to be possible, but this number could really be anything. In practice this will be a small number, and for reasons that will emerge shortly let's refer to these dimensions as **latent features** of the items in $R$. If $p$ is a row of $P$, i.e. a user-vector, and $q$ is a column of $Q^T$, i.e. an item-vector, then $p$ will record the user's particular weights or *preferences* with respect to the latent features, while $q$ will record how the item ranks with respect to those same latent features. This in turn means that we could predict a user's ranking of a particular item simply by calculating the dot-product of $p$ and $q$! \n",
    "\n",
    "If we could effect such a factorization, $R = PQ^T$, then we could calculate *all* predictions, i.e. fill in the gaps in $R$, by solving for $P$ and $Q$.\n",
    "\n",
    "The isolation of these latent features can be achieved in various ways. But this is at heart a matter of **dimensionality reduction**, and so one way is with the [SVD](https://hackernoon.com/introduction-to-recommender-system-part-1-collaborative-filtering-singular-value-decomposition-44c9659c5e75).\n",
    "\n",
    "An alternative is to use the method of Alternating Least Squares."
   ]
  },
  {
   "cell_type": "markdown",
   "metadata": {},
   "source": [
    "### Alternating Least-Squares (ALS)\n",
    "\n",
    "ALS recommendation systems are often implemented in Spark architectures because of the appropriateness for distributed computing. ALS systems often involve very large datasets (consider how much data the recommendation engine for NETFLIX must have, for example!), and it is often useful to store them as sparse matrices, which Spark's ML library can handle. In fact, Spark's mllib even includes a \"Rating\" datatype! ALS is **collaborative** and **model-based**, and is especially useful for working with *implicit* ratings.\n",
    "\n",
    "We're looking for two matrices (a user matrix and an item matrix) into which we can factor our ratings matrix. We can't of course solve for two matrices at once. But here's what we can do:\n",
    "\n",
    "Make guesses of the values for $P$ and $Q$. Then hold the values of one *constant* so that we can optimize for the values of the other!\n",
    "\n",
    "Basically this converts our problem into a familiar *least-squares* problem. See [this page](https://textbooks.math.gatech.edu/ila/least-squares.html) and [this page](https://datasciencemadesimpler.wordpress.com/tag/alternating-least-squares/) for more details, but here's the basic idea:"
   ]
  },
  {
   "cell_type": "markdown",
   "metadata": {},
   "source": [
    "If we have an equation $Ax = b$ for *non-square* $A$, then we have:\n",
    "\n",
    "$A^TAx = A^Tb$ <br/>\n",
    "Thus: <br/>\n",
    "$x = (A^TA)^{-1}A^Tb$\n",
    "\n",
    "This $(A^TA)^{-1}A^T$ **is the pseudo-inverse of** $A$. We encountered this before in our whirlwind tour of linear algebra."
   ]
  },
  {
   "cell_type": "code",
   "execution_count": 9,
   "metadata": {},
   "outputs": [],
   "source": [
    "np.random.seed(42)\n",
    "\n",
    "A = np.random.rand(5, 5)\n",
    "b = np.random.rand(5, 1)"
   ]
  },
  {
   "cell_type": "code",
   "execution_count": 10,
   "metadata": {},
   "outputs": [
    {
     "data": {
      "text/plain": [
       "array([[-226.17808974],\n",
       "       [ 218.48756728],\n",
       "       [-362.56506519],\n",
       "       [ 147.90541489],\n",
       "       [ 350.1459068 ]])"
      ]
     },
     "execution_count": 10,
     "metadata": {},
     "output_type": "execute_result"
    }
   ],
   "source": [
    "np.linalg.inv(A.T.dot(A)).dot(A.T).dot(b)"
   ]
  },
  {
   "cell_type": "markdown",
   "metadata": {},
   "source": [
    "The `numpy` library has a shortcut for this: `numpy.linalg.pinv()`:"
   ]
  },
  {
   "cell_type": "code",
   "execution_count": 11,
   "metadata": {},
   "outputs": [
    {
     "data": {
      "text/plain": [
       "array([[-226.17808981],\n",
       "       [ 218.48756735],\n",
       "       [-362.56506531],\n",
       "       [ 147.90541493],\n",
       "       [ 350.14590691]])"
      ]
     },
     "execution_count": 11,
     "metadata": {},
     "output_type": "execute_result"
    }
   ],
   "source": [
    "np.linalg.pinv(A).dot(b)"
   ]
  },
  {
   "cell_type": "markdown",
   "metadata": {},
   "source": [
    "\"When we talk about collaborative filtering for recommender systems we want to solve the problem of our original matrix having millions of different dimensions, but our 'tastes' not being nearly as complex. Even if i’ve \\[sic\\] viewed hundreds of items they might just express a couple of different tastes. Here we can actually use matrix factorization to mathematically reduce the dimensionality of our original 'all users by all items' matrix into something much smaller that represents 'all items by some taste dimensions' and 'all users by some taste dimensions'. These dimensions are called ***latent or hidden features*** and we learn them from our data\" ([Medium article: \"ALS Implicit Collaborative Filtering\"](https://medium.com/radon-dev/als-implicit-collaborative-filtering-5ed653ba39fe))."
   ]
  },
  {
   "cell_type": "markdown",
   "metadata": {},
   "source": [
    "#### Simple Example\n",
    "\n",
    "Suppose Max and Erin have rated five films:"
   ]
  },
  {
   "cell_type": "code",
   "execution_count": 12,
   "metadata": {},
   "outputs": [
    {
     "data": {
      "text/html": [
       "<div>\n",
       "<style scoped>\n",
       "    .dataframe tbody tr th:only-of-type {\n",
       "        vertical-align: middle;\n",
       "    }\n",
       "\n",
       "    .dataframe tbody tr th {\n",
       "        vertical-align: top;\n",
       "    }\n",
       "\n",
       "    .dataframe thead th {\n",
       "        text-align: right;\n",
       "    }\n",
       "</style>\n",
       "<table border=\"1\" class=\"dataframe\">\n",
       "  <thead>\n",
       "    <tr style=\"text-align: right;\">\n",
       "      <th></th>\n",
       "      <th>film1</th>\n",
       "      <th>film2</th>\n",
       "      <th>film3</th>\n",
       "      <th>film4</th>\n",
       "      <th>film5</th>\n",
       "    </tr>\n",
       "  </thead>\n",
       "  <tbody>\n",
       "    <tr>\n",
       "      <th>max</th>\n",
       "      <td>0</td>\n",
       "      <td>1</td>\n",
       "      <td>0</td>\n",
       "      <td>0</td>\n",
       "      <td>4</td>\n",
       "    </tr>\n",
       "    <tr>\n",
       "      <th>erin</th>\n",
       "      <td>0</td>\n",
       "      <td>0</td>\n",
       "      <td>0</td>\n",
       "      <td>5</td>\n",
       "      <td>0</td>\n",
       "    </tr>\n",
       "  </tbody>\n",
       "</table>\n",
       "</div>"
      ],
      "text/plain": [
       "      film1  film2  film3  film4  film5\n",
       "max       0      1      0      0      4\n",
       "erin      0      0      0      5      0"
      ]
     },
     "execution_count": 12,
     "metadata": {},
     "output_type": "execute_result"
    }
   ],
   "source": [
    "ratings_arr = pd.DataFrame([[0, 1, 0, 0, 4], [0, 0, 0, 5, 0]],\\\n",
    "                           index=['max', 'erin'],\n",
    "             columns=['film' + str(i) for i in range(1, 6)])\n",
    "ratings_arr"
   ]
  },
  {
   "cell_type": "markdown",
   "metadata": {},
   "source": [
    "Suppose now that we isolate ten latent features of these films, and that we can capture our users, i.e. the tastes of Max and Erin, according to these features. (We'll just fill out a matrix randomly.)"
   ]
  },
  {
   "cell_type": "code",
   "execution_count": 13,
   "metadata": {},
   "outputs": [],
   "source": [
    "seed(100)\n",
    "users = []\n",
    "\n",
    "for _ in range(2):\n",
    "    user = []\n",
    "    for _ in range(10):\n",
    "        user.append(gs(0, 1))\n",
    "    users.append(user)\n",
    "users_arr = np.array(users)"
   ]
  },
  {
   "cell_type": "code",
   "execution_count": 14,
   "metadata": {
    "scrolled": true
   },
   "outputs": [
    {
     "data": {
      "text/plain": [
       "array([[ 0.67155333,  0.87331967,  0.20361655, -1.55034921, -0.12059128,\n",
       "        -1.05927574,  0.38143697, -1.17342904,  0.96637182,  0.53248343],\n",
       "       [ 2.22041991,  0.68901284,  0.85436449, -0.29504752, -0.62335055,\n",
       "         1.5917369 ,  0.17920475,  0.60086339,  0.3474319 ,  0.85537186]])"
      ]
     },
     "execution_count": 14,
     "metadata": {},
     "output_type": "execute_result"
    }
   ],
   "source": [
    "users_arr"
   ]
  },
  {
   "cell_type": "code",
   "execution_count": 15,
   "metadata": {},
   "outputs": [
    {
     "data": {
      "text/html": [
       "<div>\n",
       "<style scoped>\n",
       "    .dataframe tbody tr th:only-of-type {\n",
       "        vertical-align: middle;\n",
       "    }\n",
       "\n",
       "    .dataframe tbody tr th {\n",
       "        vertical-align: top;\n",
       "    }\n",
       "\n",
       "    .dataframe thead th {\n",
       "        text-align: right;\n",
       "    }\n",
       "</style>\n",
       "<table border=\"1\" class=\"dataframe\">\n",
       "  <thead>\n",
       "    <tr style=\"text-align: right;\">\n",
       "      <th></th>\n",
       "      <th>0</th>\n",
       "      <th>1</th>\n",
       "      <th>2</th>\n",
       "      <th>3</th>\n",
       "      <th>4</th>\n",
       "      <th>5</th>\n",
       "      <th>6</th>\n",
       "      <th>7</th>\n",
       "      <th>8</th>\n",
       "      <th>9</th>\n",
       "    </tr>\n",
       "  </thead>\n",
       "  <tbody>\n",
       "    <tr>\n",
       "      <th>0</th>\n",
       "      <td>0.671553</td>\n",
       "      <td>0.873320</td>\n",
       "      <td>0.203617</td>\n",
       "      <td>-1.550349</td>\n",
       "      <td>-0.120591</td>\n",
       "      <td>-1.059276</td>\n",
       "      <td>0.381437</td>\n",
       "      <td>-1.173429</td>\n",
       "      <td>0.966372</td>\n",
       "      <td>0.532483</td>\n",
       "    </tr>\n",
       "    <tr>\n",
       "      <th>1</th>\n",
       "      <td>2.220420</td>\n",
       "      <td>0.689013</td>\n",
       "      <td>0.854364</td>\n",
       "      <td>-0.295048</td>\n",
       "      <td>-0.623351</td>\n",
       "      <td>1.591737</td>\n",
       "      <td>0.179205</td>\n",
       "      <td>0.600863</td>\n",
       "      <td>0.347432</td>\n",
       "      <td>0.855372</td>\n",
       "    </tr>\n",
       "  </tbody>\n",
       "</table>\n",
       "</div>"
      ],
      "text/plain": [
       "          0         1         2         3         4         5         6  \\\n",
       "0  0.671553  0.873320  0.203617 -1.550349 -0.120591 -1.059276  0.381437   \n",
       "1  2.220420  0.689013  0.854364 -0.295048 -0.623351  1.591737  0.179205   \n",
       "\n",
       "          7         8         9  \n",
       "0 -1.173429  0.966372  0.532483  \n",
       "1  0.600863  0.347432  0.855372  "
      ]
     },
     "execution_count": 15,
     "metadata": {},
     "output_type": "execute_result"
    }
   ],
   "source": [
    "pd.DataFrame(users_arr)"
   ]
  },
  {
   "cell_type": "markdown",
   "metadata": {},
   "source": [
    "Now we'll make another random matrix that expresses *our items* in terms of these latent features."
   ]
  },
  {
   "cell_type": "code",
   "execution_count": 16,
   "metadata": {},
   "outputs": [],
   "source": [
    "seed(100)\n",
    "items = []\n",
    "\n",
    "for _ in range(5):\n",
    "    item = []\n",
    "    for _ in range(10):\n",
    "        item.append(gs(0, 1))\n",
    "    items.append(item)\n",
    "items_arr = np.array(items)"
   ]
  },
  {
   "cell_type": "code",
   "execution_count": 17,
   "metadata": {
    "scrolled": true
   },
   "outputs": [
    {
     "data": {
      "text/plain": [
       "array([[ 0.67155333,  0.87331967,  0.20361655, -1.55034921, -0.12059128,\n",
       "        -1.05927574,  0.38143697, -1.17342904,  0.96637182,  0.53248343],\n",
       "       [ 2.22041991,  0.68901284,  0.85436449, -0.29504752, -0.62335055,\n",
       "         1.5917369 ,  0.17920475,  0.60086339,  0.3474319 ,  0.85537186],\n",
       "       [-1.80291827, -1.83311295,  0.60911087,  2.4250145 , -2.02233576,\n",
       "        -0.73382756,  0.24510831, -0.53817586, -0.30637608, -0.41367264],\n",
       "       [ 1.0027436 ,  0.03558136,  0.19013362, -1.27827915,  0.67648704,\n",
       "         1.79506722,  0.63054322, -0.37947302, -1.35033057,  0.45576721],\n",
       "       [ 0.42542416, -0.29962041, -2.48035968, -0.87457154, -1.23050164,\n",
       "        -1.00629648,  0.1857537 , -1.174924  , -0.33108494,  1.29437514]])"
      ]
     },
     "execution_count": 17,
     "metadata": {},
     "output_type": "execute_result"
    }
   ],
   "source": [
    "items_arr"
   ]
  },
  {
   "cell_type": "code",
   "execution_count": 19,
   "metadata": {},
   "outputs": [
    {
     "data": {
      "text/html": [
       "<div>\n",
       "<style scoped>\n",
       "    .dataframe tbody tr th:only-of-type {\n",
       "        vertical-align: middle;\n",
       "    }\n",
       "\n",
       "    .dataframe tbody tr th {\n",
       "        vertical-align: top;\n",
       "    }\n",
       "\n",
       "    .dataframe thead th {\n",
       "        text-align: right;\n",
       "    }\n",
       "</style>\n",
       "<table border=\"1\" class=\"dataframe\">\n",
       "  <thead>\n",
       "    <tr style=\"text-align: right;\">\n",
       "      <th></th>\n",
       "      <th>0</th>\n",
       "      <th>1</th>\n",
       "      <th>2</th>\n",
       "      <th>3</th>\n",
       "      <th>4</th>\n",
       "    </tr>\n",
       "  </thead>\n",
       "  <tbody>\n",
       "    <tr>\n",
       "      <th>0</th>\n",
       "      <td>0.671553</td>\n",
       "      <td>2.220420</td>\n",
       "      <td>-1.802918</td>\n",
       "      <td>1.002744</td>\n",
       "      <td>0.425424</td>\n",
       "    </tr>\n",
       "    <tr>\n",
       "      <th>1</th>\n",
       "      <td>0.873320</td>\n",
       "      <td>0.689013</td>\n",
       "      <td>-1.833113</td>\n",
       "      <td>0.035581</td>\n",
       "      <td>-0.299620</td>\n",
       "    </tr>\n",
       "    <tr>\n",
       "      <th>2</th>\n",
       "      <td>0.203617</td>\n",
       "      <td>0.854364</td>\n",
       "      <td>0.609111</td>\n",
       "      <td>0.190134</td>\n",
       "      <td>-2.480360</td>\n",
       "    </tr>\n",
       "    <tr>\n",
       "      <th>3</th>\n",
       "      <td>-1.550349</td>\n",
       "      <td>-0.295048</td>\n",
       "      <td>2.425014</td>\n",
       "      <td>-1.278279</td>\n",
       "      <td>-0.874572</td>\n",
       "    </tr>\n",
       "    <tr>\n",
       "      <th>4</th>\n",
       "      <td>-0.120591</td>\n",
       "      <td>-0.623351</td>\n",
       "      <td>-2.022336</td>\n",
       "      <td>0.676487</td>\n",
       "      <td>-1.230502</td>\n",
       "    </tr>\n",
       "    <tr>\n",
       "      <th>5</th>\n",
       "      <td>-1.059276</td>\n",
       "      <td>1.591737</td>\n",
       "      <td>-0.733828</td>\n",
       "      <td>1.795067</td>\n",
       "      <td>-1.006296</td>\n",
       "    </tr>\n",
       "    <tr>\n",
       "      <th>6</th>\n",
       "      <td>0.381437</td>\n",
       "      <td>0.179205</td>\n",
       "      <td>0.245108</td>\n",
       "      <td>0.630543</td>\n",
       "      <td>0.185754</td>\n",
       "    </tr>\n",
       "    <tr>\n",
       "      <th>7</th>\n",
       "      <td>-1.173429</td>\n",
       "      <td>0.600863</td>\n",
       "      <td>-0.538176</td>\n",
       "      <td>-0.379473</td>\n",
       "      <td>-1.174924</td>\n",
       "    </tr>\n",
       "    <tr>\n",
       "      <th>8</th>\n",
       "      <td>0.966372</td>\n",
       "      <td>0.347432</td>\n",
       "      <td>-0.306376</td>\n",
       "      <td>-1.350331</td>\n",
       "      <td>-0.331085</td>\n",
       "    </tr>\n",
       "    <tr>\n",
       "      <th>9</th>\n",
       "      <td>0.532483</td>\n",
       "      <td>0.855372</td>\n",
       "      <td>-0.413673</td>\n",
       "      <td>0.455767</td>\n",
       "      <td>1.294375</td>\n",
       "    </tr>\n",
       "  </tbody>\n",
       "</table>\n",
       "</div>"
      ],
      "text/plain": [
       "          0         1         2         3         4\n",
       "0  0.671553  2.220420 -1.802918  1.002744  0.425424\n",
       "1  0.873320  0.689013 -1.833113  0.035581 -0.299620\n",
       "2  0.203617  0.854364  0.609111  0.190134 -2.480360\n",
       "3 -1.550349 -0.295048  2.425014 -1.278279 -0.874572\n",
       "4 -0.120591 -0.623351 -2.022336  0.676487 -1.230502\n",
       "5 -1.059276  1.591737 -0.733828  1.795067 -1.006296\n",
       "6  0.381437  0.179205  0.245108  0.630543  0.185754\n",
       "7 -1.173429  0.600863 -0.538176 -0.379473 -1.174924\n",
       "8  0.966372  0.347432 -0.306376 -1.350331 -0.331085\n",
       "9  0.532483  0.855372 -0.413673  0.455767  1.294375"
      ]
     },
     "execution_count": 19,
     "metadata": {},
     "output_type": "execute_result"
    }
   ],
   "source": [
    "pd.DataFrame(items_arr).T"
   ]
  },
  {
   "cell_type": "code",
   "execution_count": 20,
   "metadata": {},
   "outputs": [
    {
     "data": {
      "text/plain": [
       "(2, 10)"
      ]
     },
     "execution_count": 20,
     "metadata": {},
     "output_type": "execute_result"
    }
   ],
   "source": [
    "users_arr.shape"
   ]
  },
  {
   "cell_type": "code",
   "execution_count": 21,
   "metadata": {
    "scrolled": true
   },
   "outputs": [
    {
     "data": {
      "text/plain": [
       "(5, 10)"
      ]
     },
     "execution_count": 21,
     "metadata": {},
     "output_type": "execute_result"
    }
   ],
   "source": [
    "items_arr.shape"
   ]
  },
  {
   "cell_type": "markdown",
   "metadata": {},
   "source": [
    "To construct our large users-by-items matrix, we'll simply take the product of our two random matrices."
   ]
  },
  {
   "cell_type": "code",
   "execution_count": 22,
   "metadata": {
    "scrolled": true
   },
   "outputs": [
    {
     "data": {
      "text/plain": [
       "array([[ 7.53516384,  1.26783511, -5.21738432,  0.36547776,  3.90803828],\n",
       "       [ 1.26783511, 10.38970834, -6.10853643,  5.03189793, -1.63817674]])"
      ]
     },
     "execution_count": 22,
     "metadata": {},
     "output_type": "execute_result"
    }
   ],
   "source": [
    "users_arr.dot(items_arr.T)"
   ]
  },
  {
   "cell_type": "code",
   "execution_count": 23,
   "metadata": {
    "scrolled": true
   },
   "outputs": [
    {
     "data": {
      "text/html": [
       "<div>\n",
       "<style scoped>\n",
       "    .dataframe tbody tr th:only-of-type {\n",
       "        vertical-align: middle;\n",
       "    }\n",
       "\n",
       "    .dataframe tbody tr th {\n",
       "        vertical-align: top;\n",
       "    }\n",
       "\n",
       "    .dataframe thead th {\n",
       "        text-align: right;\n",
       "    }\n",
       "</style>\n",
       "<table border=\"1\" class=\"dataframe\">\n",
       "  <thead>\n",
       "    <tr style=\"text-align: right;\">\n",
       "      <th></th>\n",
       "      <th>0</th>\n",
       "      <th>1</th>\n",
       "      <th>2</th>\n",
       "      <th>3</th>\n",
       "      <th>4</th>\n",
       "    </tr>\n",
       "  </thead>\n",
       "  <tbody>\n",
       "    <tr>\n",
       "      <th>0</th>\n",
       "      <td>7.535164</td>\n",
       "      <td>1.267835</td>\n",
       "      <td>-5.217384</td>\n",
       "      <td>0.365478</td>\n",
       "      <td>3.908038</td>\n",
       "    </tr>\n",
       "    <tr>\n",
       "      <th>1</th>\n",
       "      <td>1.267835</td>\n",
       "      <td>10.389708</td>\n",
       "      <td>-6.108536</td>\n",
       "      <td>5.031898</td>\n",
       "      <td>-1.638177</td>\n",
       "    </tr>\n",
       "  </tbody>\n",
       "</table>\n",
       "</div>"
      ],
      "text/plain": [
       "          0          1         2         3         4\n",
       "0  7.535164   1.267835 -5.217384  0.365478  3.908038\n",
       "1  1.267835  10.389708 -6.108536  5.031898 -1.638177"
      ]
     },
     "execution_count": 23,
     "metadata": {},
     "output_type": "execute_result"
    }
   ],
   "source": [
    "pd.DataFrame(users_arr.dot(items_arr.T))"
   ]
  },
  {
   "cell_type": "code",
   "execution_count": 24,
   "metadata": {},
   "outputs": [
    {
     "data": {
      "text/html": [
       "<div>\n",
       "<style scoped>\n",
       "    .dataframe tbody tr th:only-of-type {\n",
       "        vertical-align: middle;\n",
       "    }\n",
       "\n",
       "    .dataframe tbody tr th {\n",
       "        vertical-align: top;\n",
       "    }\n",
       "\n",
       "    .dataframe thead th {\n",
       "        text-align: right;\n",
       "    }\n",
       "</style>\n",
       "<table border=\"1\" class=\"dataframe\">\n",
       "  <thead>\n",
       "    <tr style=\"text-align: right;\">\n",
       "      <th></th>\n",
       "      <th>film1</th>\n",
       "      <th>film2</th>\n",
       "      <th>film3</th>\n",
       "      <th>film4</th>\n",
       "      <th>film5</th>\n",
       "    </tr>\n",
       "  </thead>\n",
       "  <tbody>\n",
       "    <tr>\n",
       "      <th>max</th>\n",
       "      <td>0</td>\n",
       "      <td>1</td>\n",
       "      <td>0</td>\n",
       "      <td>0</td>\n",
       "      <td>4</td>\n",
       "    </tr>\n",
       "    <tr>\n",
       "      <th>erin</th>\n",
       "      <td>0</td>\n",
       "      <td>0</td>\n",
       "      <td>0</td>\n",
       "      <td>5</td>\n",
       "      <td>0</td>\n",
       "    </tr>\n",
       "  </tbody>\n",
       "</table>\n",
       "</div>"
      ],
      "text/plain": [
       "      film1  film2  film3  film4  film5\n",
       "max       0      1      0      0      4\n",
       "erin      0      0      0      5      0"
      ]
     },
     "execution_count": 24,
     "metadata": {},
     "output_type": "execute_result"
    }
   ],
   "source": [
    "ratings_arr"
   ]
  },
  {
   "cell_type": "markdown",
   "metadata": {},
   "source": [
    "Now here's where the ALS really kicks in: We'll solve for Max's and Erin's preference vectors by multiplying the pseudo-inverse of the items array by their respective ratings vectors:"
   ]
  },
  {
   "cell_type": "code",
   "execution_count": 27,
   "metadata": {},
   "outputs": [
    {
     "name": "stdout",
     "output_type": "stream",
     "text": [
      "[ 0.47099573 -0.11214938 -0.98527859  0.09266666 -0.64747458  0.00854642\n",
      " -0.11601818  0.09586291 -0.08579953  0.55693307]\n",
      "[-0.23238655 -0.55138144  0.5415508  -0.71191248  0.27767197  0.81157767\n",
      "  0.78557579 -1.03623954 -1.25490079  0.02606555]\n"
     ]
    }
   ],
   "source": [
    "max_pref = np.linalg.pinv(items_arr).dot(ratings_arr.loc['max', :])\n",
    "print(max_pref)\n",
    "erin_pref = np.linalg.pinv(items_arr).dot(ratings_arr.loc['erin', :])\n",
    "print(erin_pref)"
   ]
  },
  {
   "cell_type": "code",
   "execution_count": 28,
   "metadata": {
    "scrolled": true
   },
   "outputs": [
    {
     "data": {
      "text/plain": [
       "(10, 5)"
      ]
     },
     "execution_count": 28,
     "metadata": {},
     "output_type": "execute_result"
    }
   ],
   "source": [
    "items_arr.T.shape"
   ]
  },
  {
   "cell_type": "code",
   "execution_count": 29,
   "metadata": {
    "scrolled": true
   },
   "outputs": [
    {
     "data": {
      "text/plain": [
       "array([ 0.47099573, -0.11214938, -0.98527859,  0.09266666, -0.64747458,\n",
       "        0.00854642, -0.11601818,  0.09586291, -0.08579953,  0.55693307])"
      ]
     },
     "execution_count": 29,
     "metadata": {},
     "output_type": "execute_result"
    }
   ],
   "source": [
    "max_pref"
   ]
  },
  {
   "cell_type": "code",
   "execution_count": 30,
   "metadata": {},
   "outputs": [
    {
     "data": {
      "text/plain": [
       "array([-0.23238655, -0.55138144,  0.5415508 , -0.71191248,  0.27767197,\n",
       "        0.81157767,  0.78557579, -1.03623954, -1.25490079,  0.02606555])"
      ]
     },
     "execution_count": 30,
     "metadata": {},
     "output_type": "execute_result"
    }
   ],
   "source": [
    "erin_pref"
   ]
  },
  {
   "cell_type": "markdown",
   "metadata": {},
   "source": [
    "We'll predict (or, in this case, reproduce) Max's and Erin's ratings for films by simply multiplying their preference vectors by the transpose of the items array:"
   ]
  },
  {
   "cell_type": "code",
   "execution_count": 31,
   "metadata": {},
   "outputs": [
    {
     "data": {
      "text/plain": [
       "array([-7.91033905e-16,  1.00000000e+00,  0.00000000e+00,  2.02615702e-15,\n",
       "        4.00000000e+00])"
      ]
     },
     "execution_count": 31,
     "metadata": {},
     "output_type": "execute_result"
    }
   ],
   "source": [
    "newmax = max_pref.dot(items_arr.T)\n",
    "newmax"
   ]
  },
  {
   "cell_type": "markdown",
   "metadata": {},
   "source": [
    "This lines up with the ratings with which we began."
   ]
  },
  {
   "cell_type": "code",
   "execution_count": 32,
   "metadata": {
    "scrolled": true
   },
   "outputs": [
    {
     "data": {
      "text/plain": [
       "array([ 4.44089210e-16,  2.44249065e-15,  3.33066907e-16,  5.00000000e+00,\n",
       "       -1.55431223e-15])"
      ]
     },
     "execution_count": 32,
     "metadata": {},
     "output_type": "execute_result"
    }
   ],
   "source": [
    "newerin = erin_pref.dot(items_arr.T)\n",
    "newerin"
   ]
  },
  {
   "cell_type": "code",
   "execution_count": 33,
   "metadata": {},
   "outputs": [
    {
     "data": {
      "text/html": [
       "<div>\n",
       "<style scoped>\n",
       "    .dataframe tbody tr th:only-of-type {\n",
       "        vertical-align: middle;\n",
       "    }\n",
       "\n",
       "    .dataframe tbody tr th {\n",
       "        vertical-align: top;\n",
       "    }\n",
       "\n",
       "    .dataframe thead th {\n",
       "        text-align: right;\n",
       "    }\n",
       "</style>\n",
       "<table border=\"1\" class=\"dataframe\">\n",
       "  <thead>\n",
       "    <tr style=\"text-align: right;\">\n",
       "      <th></th>\n",
       "      <th>film1</th>\n",
       "      <th>film2</th>\n",
       "      <th>film3</th>\n",
       "      <th>film4</th>\n",
       "      <th>film5</th>\n",
       "    </tr>\n",
       "  </thead>\n",
       "  <tbody>\n",
       "    <tr>\n",
       "      <th>max</th>\n",
       "      <td>0</td>\n",
       "      <td>1</td>\n",
       "      <td>0</td>\n",
       "      <td>0</td>\n",
       "      <td>4</td>\n",
       "    </tr>\n",
       "    <tr>\n",
       "      <th>erin</th>\n",
       "      <td>0</td>\n",
       "      <td>0</td>\n",
       "      <td>0</td>\n",
       "      <td>5</td>\n",
       "      <td>0</td>\n",
       "    </tr>\n",
       "  </tbody>\n",
       "</table>\n",
       "</div>"
      ],
      "text/plain": [
       "      film1  film2  film3  film4  film5\n",
       "max       0      1      0      0      4\n",
       "erin      0      0      0      5      0"
      ]
     },
     "execution_count": 33,
     "metadata": {},
     "output_type": "execute_result"
    }
   ],
   "source": [
    "ratings_arr"
   ]
  },
  {
   "cell_type": "markdown",
   "metadata": {},
   "source": [
    "Ditto!"
   ]
  },
  {
   "cell_type": "markdown",
   "metadata": {},
   "source": [
    "We'll make a quick error calculation:"
   ]
  },
  {
   "cell_type": "code",
   "execution_count": 34,
   "metadata": {},
   "outputs": [
    {
     "name": "stdout",
     "output_type": "stream",
     "text": [
      "3.318146182585881e-29\n"
     ]
    }
   ],
   "source": [
    "guess = np.vstack([newmax, newerin])\n",
    "\n",
    "err = 0\n",
    "for i in range(2):\n",
    "    for j in range(len(ratings_arr.values[i, :])):\n",
    "        if ratings_arr.values[i, j] != 0:\n",
    "            err += (ratings_arr.values[i, j] - guess[i, j])**2\n",
    "print(err)"
   ]
  },
  {
   "cell_type": "markdown",
   "metadata": {},
   "source": [
    "#### Second Example"
   ]
  },
  {
   "cell_type": "code",
   "execution_count": null,
   "metadata": {},
   "outputs": [],
   "source": [
    "# Users: m x n (m users)\n",
    "# Items: r x n (r items)\n",
    "# Ratings: m x r"
   ]
  },
  {
   "cell_type": "code",
   "execution_count": 35,
   "metadata": {},
   "outputs": [],
   "source": [
    "# If P = users and Q = items, then we want to approximate R = PQ^T\n",
    "# Let's generate R.\n",
    "\n",
    "seed(42)\n",
    "ratings2 = []\n",
    "for _ in range(100):\n",
    "    user = []\n",
    "    for _ in range(100):\n",
    "        chance = gs(0, 0.4)\n",
    "        \n",
    "        # We'll fill our ratings matrix mostly with 0's to represent\n",
    "        # unrated films. This is NOT standard; we're doing this only\n",
    "        # to illustrate the general algorithm.\n",
    "        if chance > 0.5:\n",
    "            user.append(int(uni(1, 6)))\n",
    "        else:\n",
    "            user.append(0)\n",
    "        \n",
    "        # This 'if' will simply ensure that everyone has given at least\n",
    "        # one rating.\n",
    "        if user.count(0) == 10:\n",
    "            user[int(uni(0, 10))] = int(uni(1, 6))\n",
    "    ratings2.append(user)\n",
    "ratings_arr2 = np.array(ratings2)"
   ]
  },
  {
   "cell_type": "code",
   "execution_count": 36,
   "metadata": {
    "scrolled": true
   },
   "outputs": [
    {
     "data": {
      "text/plain": [
       "array([[0, 0, 0, ..., 0, 2, 0],\n",
       "       [3, 0, 2, ..., 0, 0, 0],\n",
       "       [5, 3, 0, ..., 0, 0, 0],\n",
       "       ...,\n",
       "       [0, 0, 0, ..., 5, 0, 2],\n",
       "       [0, 2, 5, ..., 0, 0, 0],\n",
       "       [2, 2, 0, ..., 5, 0, 5]])"
      ]
     },
     "execution_count": 36,
     "metadata": {},
     "output_type": "execute_result"
    }
   ],
   "source": [
    "ratings_arr2"
   ]
  },
  {
   "cell_type": "code",
   "execution_count": 37,
   "metadata": {},
   "outputs": [
    {
     "data": {
      "text/plain": [
       "(100, 100)"
      ]
     },
     "execution_count": 37,
     "metadata": {},
     "output_type": "execute_result"
    }
   ],
   "source": [
    "ratings_arr2.shape"
   ]
  },
  {
   "cell_type": "code",
   "execution_count": 38,
   "metadata": {},
   "outputs": [],
   "source": [
    "users2 = []\n",
    "\n",
    "# Random generation of values for the user matrix\n",
    "for _ in range(100):\n",
    "    user = []\n",
    "    for _ in range(10):\n",
    "        user.append(gs(0, 1))\n",
    "    users2.append(user)\n",
    "users_arr2 = np.array(users2)"
   ]
  },
  {
   "cell_type": "code",
   "execution_count": 39,
   "metadata": {
    "scrolled": true
   },
   "outputs": [
    {
     "data": {
      "text/plain": [
       "array([[ 8.82274940e-01, -6.95578968e-01,  1.54768279e+00,\n",
       "         1.78060346e+00,  7.60860746e-01,  1.69049328e-03,\n",
       "        -8.11676645e-01, -2.96592311e-01,  1.22018185e+00,\n",
       "        -6.40643075e-01],\n",
       "       [ 3.38046603e-01, -8.84372639e-02, -4.71171046e-01,\n",
       "         2.97457087e-01,  7.47705044e-01, -1.52768298e+00,\n",
       "         8.60478025e-01, -2.29952221e+00,  8.31657461e-02,\n",
       "         1.75486978e+00],\n",
       "       [-6.05034368e-01, -7.91079221e-01,  6.60531797e-01,\n",
       "         1.77741409e+00,  2.32317539e+00,  1.10269697e+00,\n",
       "        -3.46441549e-01,  2.08400708e+00,  1.17115157e+00,\n",
       "         1.14886862e+00],\n",
       "       [ 5.39182805e-01, -1.96643053e-01, -1.40011107e+00,\n",
       "         5.20215810e-01,  9.77939247e-03, -1.46830679e-01,\n",
       "         6.39371173e-01,  5.80257468e-01,  1.12484728e+00,\n",
       "         8.45800019e-01],\n",
       "       [-1.44557940e+00,  2.65330167e-01, -1.55962186e-01,\n",
       "         4.92370669e-01, -4.90071582e-02, -1.09964415e+00,\n",
       "         2.51199253e+00,  1.18982721e+00,  7.73182610e-01,\n",
       "        -4.87234239e-01],\n",
       "       [-4.11557188e-01,  2.94441233e+00, -1.54869365e+00,\n",
       "         1.42706204e+00,  8.50885145e-01,  7.29851475e-01,\n",
       "        -1.75969125e+00, -1.04035878e+00, -6.39867207e-01,\n",
       "        -1.65974592e+00],\n",
       "       [ 3.78976084e-02, -7.12321884e-01,  2.77091477e+00,\n",
       "         2.09547887e+00, -1.07697297e+00, -8.17282853e-01,\n",
       "        -1.31079100e+00,  1.53377519e+00, -9.70031891e-01,\n",
       "        -1.63813380e+00],\n",
       "       [ 1.01875074e+00, -2.39546357e-01, -1.29474032e+00,\n",
       "        -1.52679001e+00, -3.02708205e-01,  1.57589850e+00,\n",
       "        -1.23207707e-01,  7.51428277e-01, -1.04192339e+00,\n",
       "        -5.12589394e-02],\n",
       "       [ 1.47402702e+00, -2.44674146e+00,  4.00256328e-01,\n",
       "         2.30284125e-01,  2.56972014e-01, -7.00052694e-01,\n",
       "        -1.33667935e+00,  4.22079129e-02, -2.36924199e-01,\n",
       "        -4.04251834e-01],\n",
       "       [ 3.03161926e-01, -1.54068913e+00, -1.76923865e+00,\n",
       "        -7.09130949e-01, -8.59872849e-01,  8.51032667e-01,\n",
       "         8.75698698e-01, -4.44507300e-01, -1.07257823e+00,\n",
       "        -7.96521325e-01],\n",
       "       [ 6.71518268e-01, -2.38964456e+00, -4.44547744e-01,\n",
       "        -2.28713618e-01,  8.32818466e-02, -9.42247115e-01,\n",
       "        -1.01123566e+00, -1.91307036e+00, -8.82186854e-01,\n",
       "         4.71864242e-01],\n",
       "       [-3.30190663e-02, -9.23146106e-01,  4.64117027e-01,\n",
       "        -1.89969286e+00, -1.08945476e+00, -5.40908922e-01,\n",
       "         1.70387638e+00, -6.72173910e-01, -1.20188094e+00,\n",
       "        -1.24992575e+00],\n",
       "       [-1.10971227e-01, -1.99086481e-01, -2.01827875e-01,\n",
       "        -9.02599859e-02,  4.30089580e-01, -1.51948728e-01,\n",
       "         1.58047899e+00, -8.60235331e-01, -2.55320103e-01,\n",
       "        -1.92911045e+00],\n",
       "       [-4.07802675e-02,  1.84658793e+00, -1.50191416e+00,\n",
       "         2.23863546e+00,  8.86991450e-03,  1.08679701e+00,\n",
       "         1.05757203e+00,  3.27528591e-01,  7.80284899e-01,\n",
       "        -4.42907307e-02],\n",
       "       [ 1.85614314e-01, -6.59867839e-01,  1.64134243e-01,\n",
       "        -1.24820381e+00, -4.42094090e-01,  9.11379079e-01,\n",
       "        -1.06691361e+00,  1.49718932e+00,  1.10500083e+00,\n",
       "        -1.63213190e+00],\n",
       "       [-6.95392778e-01,  1.19697660e+00, -1.21122909e-01,\n",
       "        -1.89841586e+00,  2.63843650e-01,  1.85980297e+00,\n",
       "         1.28667344e+00,  9.50953727e-01, -5.54550484e-01,\n",
       "        -6.65654188e-01],\n",
       "       [-6.41820686e-01,  1.13221401e-02, -5.80636649e-01,\n",
       "         5.27030501e-01, -2.45773323e-01, -8.96096836e-01,\n",
       "         7.31638227e-01, -1.99680054e+00,  7.58433911e-02,\n",
       "        -2.52936984e+00],\n",
       "       [-2.14614055e-01,  4.36277901e-01, -1.90554016e+00,\n",
       "        -1.07656054e+00, -3.94487699e-01, -1.22006051e+00,\n",
       "         5.28696701e-02, -1.24204952e+00, -1.23618701e+00,\n",
       "         9.22444637e-01],\n",
       "       [ 1.38219890e-01,  4.13169049e-01, -1.67124286e+00,\n",
       "        -1.18194791e+00, -6.45675483e-01,  4.40956224e-01,\n",
       "        -2.62409304e-01, -1.20551062e+00, -1.79661768e+00,\n",
       "         1.36210513e+00],\n",
       "       [ 1.98862784e+00,  1.51522299e+00,  8.24950977e-01,\n",
       "        -1.92046633e+00, -3.53984175e-01,  1.25025280e+00,\n",
       "         3.36443149e+00,  1.91096613e+00, -2.69935136e-01,\n",
       "         1.01930112e-01],\n",
       "       [-1.41708757e+00, -4.40706206e-01, -1.73937677e-01,\n",
       "         1.15504640e+00,  1.42872213e+00, -2.47768756e+00,\n",
       "         2.08937247e-02,  7.15190804e-01, -4.17452296e-01,\n",
       "        -5.58878082e-01],\n",
       "       [ 7.45109456e-01,  5.82567963e-02,  1.36474924e+00,\n",
       "         1.79154666e-01,  5.43030664e-01, -8.80786104e-01,\n",
       "        -1.22924239e+00, -4.09901620e-01, -1.65363326e+00,\n",
       "         1.01587105e+00],\n",
       "       [-1.22728831e+00, -6.83729086e-01,  2.12785930e+00,\n",
       "        -1.79198318e+00, -3.15621209e-02, -1.56602543e+00,\n",
       "         1.79209678e+00, -2.04505899e-01, -8.18186106e-02,\n",
       "         9.58176481e-01],\n",
       "       [ 1.90238396e+00, -1.38119773e+00, -4.01025570e-01,\n",
       "         8.50076656e-01,  5.18948473e-01, -1.39898741e-01,\n",
       "         1.86571221e+00, -2.25685480e+00,  2.42498410e-02,\n",
       "         1.24297441e+00],\n",
       "       [ 1.94330684e+00,  2.03748669e+00,  2.53906596e-01,\n",
       "        -1.16269756e+00, -8.57267118e-01,  1.31707475e-01,\n",
       "         4.79213906e-01, -1.27416591e+00, -2.96923561e-01,\n",
       "        -1.56219295e+00],\n",
       "       [-7.79161329e-01, -1.00404526e+00,  1.11403450e+00,\n",
       "        -1.04762900e-01, -2.95318283e-01, -1.48744709e-01,\n",
       "        -8.60745477e-01, -7.96226177e-01, -2.27805781e+00,\n",
       "         9.65742912e-01],\n",
       "       [ 6.07795481e-01,  1.12798855e+00, -3.20906180e-01,\n",
       "        -1.24719927e-01, -1.15731373e+00,  1.64442544e+00,\n",
       "         9.05994872e-01,  1.21269335e+00,  1.46040034e+00,\n",
       "         6.36473440e-01],\n",
       "       [-2.19721900e+00, -1.02978132e+00, -2.20257929e-01,\n",
       "        -1.56598316e+00, -1.55825212e+00,  9.00792692e-02,\n",
       "         2.73962258e+00, -1.03033847e+00,  2.37925687e-01,\n",
       "         1.07086841e+00],\n",
       "       [-1.45520614e+00, -3.58037615e-01, -6.29585264e-01,\n",
       "         1.13617746e+00,  1.72027105e+00, -1.69945658e+00,\n",
       "         7.68134876e-01,  9.80480908e-01, -3.63443177e-01,\n",
       "        -7.89304638e-01],\n",
       "       [ 1.37030335e+00,  5.83700755e-02, -2.22135440e-01,\n",
       "        -9.15466505e-01,  2.01013431e+00,  1.88013053e+00,\n",
       "        -9.27313162e-01, -8.05708014e-01, -1.99702210e-01,\n",
       "        -1.61177285e+00],\n",
       "       [ 1.02320212e-02,  1.35650975e+00,  3.48285986e-02,\n",
       "        -6.27759290e-01,  6.06253281e-01,  1.31480629e+00,\n",
       "        -5.04259138e-01,  1.59261083e-02,  2.04817997e+00,\n",
       "         1.28372828e+00],\n",
       "       [-2.18084914e+00, -1.09404243e+00, -7.77888298e-01,\n",
       "         6.64792482e-01, -1.80396253e-01, -5.15402464e-01,\n",
       "        -2.48351742e-01,  3.73993099e-01, -9.61934125e-01,\n",
       "         1.23759597e+00],\n",
       "       [ 8.53151003e-01, -8.10651236e-01,  4.04890996e-01,\n",
       "         9.28697681e-01,  4.26031407e-01,  2.88176350e+00,\n",
       "        -6.11059924e-01, -6.75861576e-01,  1.38954858e-02,\n",
       "        -1.21816426e+00],\n",
       "       [ 1.35394432e+00,  1.74507776e-01,  3.46963605e-01,\n",
       "        -3.93864763e-02, -4.24550348e-01,  4.34553220e-01,\n",
       "         1.19535784e+00, -2.78258385e-01,  9.85206404e-01,\n",
       "         2.88610955e-02],\n",
       "       [ 2.13776031e+00,  3.75224676e-01, -1.82576246e+00,\n",
       "        -7.67903345e-01,  6.21433424e-01, -1.77533538e-01,\n",
       "        -4.59384534e-01, -4.36153986e-01,  1.81679197e-01,\n",
       "         9.02213964e-01],\n",
       "       [ 1.53249217e+00, -1.58944095e+00, -1.05822021e+00,\n",
       "        -7.65983993e-01,  1.21521317e+00, -9.86970104e-01,\n",
       "         4.54820995e-01, -4.28872976e-01,  1.09754369e+00,\n",
       "         1.48790593e+00],\n",
       "       [ 2.76137889e-01,  5.32907450e-02, -2.44835424e+00,\n",
       "        -5.89259872e-01,  1.68997749e+00, -6.60477128e-01,\n",
       "        -3.13627778e-01,  7.68539608e-01, -3.67739752e-01,\n",
       "         5.12529119e-01],\n",
       "       [-2.13257049e+00, -2.48858753e-01, -1.36006341e+00,\n",
       "         2.00744861e-02,  2.24722649e+00, -3.75350926e-02,\n",
       "         2.12448583e+00, -8.75017721e-01, -9.47621841e-01,\n",
       "        -2.94660737e-01],\n",
       "       [-4.71072750e-01,  1.59845220e-01, -8.56161018e-01,\n",
       "        -3.04970701e-01, -4.91708716e-01,  5.52858889e-01,\n",
       "         2.66164724e-01, -5.88646149e-01, -7.76709845e-01,\n",
       "         5.32970247e-01],\n",
       "       [ 1.95148071e+00, -1.12760633e+00,  8.18847208e-01,\n",
       "        -2.03421180e+00, -5.02776412e-01, -1.84409614e+00,\n",
       "         9.85402921e-01,  7.04463425e-01, -4.54590123e-01,\n",
       "        -7.52529137e-01],\n",
       "       [-1.28908211e+00, -2.23624720e-01, -9.81104328e-01,\n",
       "        -1.99487488e-01, -6.41549348e-01, -1.92439897e-01,\n",
       "        -4.66053189e-01,  9.85323886e-01,  7.70583700e-01,\n",
       "         2.27593034e+00],\n",
       "       [-9.56304106e-01,  4.77318580e-01,  1.90869725e-01,\n",
       "         1.08693634e-01,  1.01761344e+00,  7.82385802e-01,\n",
       "        -6.59600335e-01, -5.43322101e-01,  1.71431952e+00,\n",
       "        -8.31409396e-02],\n",
       "       [ 2.02327881e-01, -1.53613154e+00, -2.87271552e-01,\n",
       "        -5.02301565e-02,  8.09171058e-01, -2.81138078e-01,\n",
       "        -1.83104844e+00, -1.12159099e+00, -1.37984376e+00,\n",
       "        -3.80158611e-01],\n",
       "       [-8.33855985e-02, -1.23346678e+00,  8.12479387e-01,\n",
       "         2.48317971e-01,  9.76427676e-01,  2.38861548e+00,\n",
       "         1.76779315e+00,  6.04447546e-01,  1.14875946e+00,\n",
       "        -1.16760452e+00],\n",
       "       [-6.19583750e-01, -9.40837457e-02, -1.06688470e+00,\n",
       "         1.12439501e+00,  3.85830676e-01, -2.42609973e-01,\n",
       "         2.00787899e+00, -6.52897385e-01, -9.10839787e-02,\n",
       "        -3.78455214e-01],\n",
       "       [ 1.95586066e-01,  6.51879486e-01, -1.12645896e-01,\n",
       "        -1.36901465e-01,  5.99494512e-01, -3.19413726e-01,\n",
       "        -8.44499676e-01, -2.10928847e+00,  7.41219288e-01,\n",
       "         2.20760777e-02],\n",
       "       [ 7.34417759e-01, -1.73779890e+00,  2.93522111e+00,\n",
       "        -2.88591928e-01,  4.46217264e-01, -8.54770080e-01,\n",
       "         1.58583819e-01, -2.57739725e-01,  4.73105411e-01,\n",
       "         5.84257189e-01],\n",
       "       [-1.01252520e+00, -1.80222043e+00, -1.15034834e+00,\n",
       "         6.05929700e-01,  9.19390905e-01, -1.05959324e+00,\n",
       "         5.74563707e-01,  1.97193838e+00, -6.69294912e-02,\n",
       "        -7.95059120e-01],\n",
       "       [-3.80032535e-01, -9.64830649e-01, -6.91322277e-01,\n",
       "         4.16861996e-01,  1.49761884e+00, -1.07269238e+00,\n",
       "        -1.35025886e+00,  1.00153490e-01, -7.02552792e-01,\n",
       "        -7.16255883e-01],\n",
       "       [-3.63433967e-01, -1.02976798e+00, -3.69381243e-01,\n",
       "        -6.06730545e-01, -3.21207542e-01, -3.76550446e-01,\n",
       "         9.46230823e-01, -6.67537665e-01,  3.62105401e-01,\n",
       "         8.13649126e-01],\n",
       "       [ 7.21914374e-01, -2.67601218e-01, -9.71658861e-01,\n",
       "        -2.09575111e+00, -9.94656530e-01,  7.39946764e-01,\n",
       "        -2.81103277e-01,  1.26863116e+00,  3.91587764e-01,\n",
       "         3.17748637e-01],\n",
       "       [ 9.17627683e-01, -1.86192040e+00,  1.21035444e+00,\n",
       "        -3.91510901e-01, -5.21400650e-01,  6.65988185e-03,\n",
       "         1.12465059e+00, -3.13937722e-02,  5.57093299e-01,\n",
       "         4.57012475e-01],\n",
       "       [ 3.18487954e-01, -5.53552155e-01,  1.42652497e-01,\n",
       "        -1.80656210e+00,  7.16040340e-02,  1.38042170e+00,\n",
       "        -5.13600426e-01,  2.10443089e-01, -2.37412000e-01,\n",
       "        -1.65747414e-01],\n",
       "       [ 1.56005753e+00, -6.91269801e-01,  2.57186997e-01,\n",
       "         6.37488712e-01, -5.36887583e-01,  1.18073050e+00,\n",
       "         8.66584246e-01, -2.90086395e-01,  2.14917388e+00,\n",
       "        -6.92127466e-01],\n",
       "       [-3.93780728e-01,  5.41154086e-01, -6.14996190e-01,\n",
       "        -7.84014131e-01,  4.75105651e-01,  6.81430782e-01,\n",
       "         5.87329889e-01,  2.48264300e-01,  5.01939746e-01,\n",
       "         1.37623291e+00],\n",
       "       [-1.87757868e+00,  7.58828397e-01,  6.80838960e-01,\n",
       "         3.17159862e-01, -1.25533494e+00, -2.27688914e-01,\n",
       "         1.60240782e+00,  2.02252161e+00,  1.42403906e+00,\n",
       "         5.30068633e-01],\n",
       "       [-1.04348484e+00,  6.62913250e-01, -4.48576367e-01,\n",
       "        -4.13804511e-01,  8.77425293e-01, -3.94179581e-01,\n",
       "         2.90438769e-01,  3.67167749e-01,  1.00403749e-01,\n",
       "         9.74632589e-01],\n",
       "       [-1.69278116e+00, -7.03811805e-01,  5.91645358e-02,\n",
       "        -5.01351215e-01,  2.24288466e-01,  1.38886967e+00,\n",
       "        -3.61000596e-01, -1.52566528e-01, -1.30500479e+00,\n",
       "        -1.76945412e+00],\n",
       "       [ 1.32825886e+00, -5.53011307e-01, -2.80317602e-01,\n",
       "         1.35495505e+00, -1.57814964e+00,  5.16378757e-01,\n",
       "        -5.63723735e-01, -1.25652477e+00, -1.67363739e+00,\n",
       "         2.45782125e+00],\n",
       "       [-2.15518709e+00,  6.26370562e-01,  7.08958063e-01,\n",
       "         1.01738915e+00, -3.56366390e-01,  4.30028952e-01,\n",
       "        -4.03218124e-01, -4.69671637e-01,  3.67873682e+00,\n",
       "        -7.64963860e-01],\n",
       "       [ 7.06366102e-01, -6.47322063e-01,  1.79382311e+00,\n",
       "         2.37351506e-01,  6.85918909e-01,  8.72717567e-01,\n",
       "        -3.05356872e-01, -1.21092557e+00,  1.46181986e-01,\n",
       "         1.00385877e+00],\n",
       "       [ 5.00638623e-01, -7.87399339e-01,  9.76705743e-01,\n",
       "        -3.73413188e-01, -1.41367064e+00,  8.03689532e-01,\n",
       "        -9.30723901e-01,  3.42413164e-01, -5.81393944e-01,\n",
       "         6.71612994e-01],\n",
       "       [-1.29023239e+00,  9.51314293e-01,  1.91257823e-01,\n",
       "         6.72727048e-01,  2.38476858e-01,  6.13160714e-01,\n",
       "         1.02857602e+00, -1.04675201e+00, -1.57588840e+00,\n",
       "        -1.45905624e+00],\n",
       "       [-1.62195603e+00, -5.06860054e-01, -1.20475177e+00,\n",
       "         7.83723511e-01,  1.25448988e-01,  5.37593916e-01,\n",
       "         1.12770725e+00,  9.16922588e-01, -5.88158090e-01,\n",
       "         1.79784618e+00],\n",
       "       [ 2.15018463e-01, -1.38128637e+00,  6.64322169e-01,\n",
       "         2.19946107e-01, -5.53348098e-01, -1.86324425e-01,\n",
       "        -9.02034398e-01,  8.02425211e-01,  4.58671950e-01,\n",
       "         9.79759938e-01],\n",
       "       [-3.40558842e-01, -9.27062482e-01, -3.98120766e-01,\n",
       "        -6.92847698e-01, -3.25804681e-02, -1.28695350e+00,\n",
       "         5.65358351e-01,  8.41597249e-01,  1.32019073e-01,\n",
       "        -6.50684196e-01],\n",
       "       [-9.54262063e-01,  5.94801013e-01,  3.57299037e-01,\n",
       "        -3.90048709e-01,  7.91822311e-01, -3.65020196e-01,\n",
       "         1.25653167e+00, -5.62408633e-01, -1.88198261e-01,\n",
       "        -2.03425260e+00],\n",
       "       [-7.86642469e-01, -1.57282087e+00,  1.13264085e-01,\n",
       "         6.77066909e-02,  2.13420933e-01, -2.50682422e-01,\n",
       "         5.21006909e-01, -6.93000366e-01,  5.49455619e-01,\n",
       "        -3.89765911e-01],\n",
       "       [ 4.04716621e-01,  5.61505696e-01,  5.12246821e-01,\n",
       "        -7.99616323e-01,  1.11404256e+00, -7.14422581e-01,\n",
       "         5.36020529e-01, -1.00086400e+00, -2.37742440e-01,\n",
       "        -7.92294039e-01],\n",
       "       [ 1.03221654e+00,  7.64910697e-01,  4.66323127e-01,\n",
       "        -3.35159474e-01, -1.06188383e+00,  6.26323642e-01,\n",
       "        -4.32229849e-01, -3.97233033e-01, -1.06580615e+00,\n",
       "        -3.63569860e-01],\n",
       "       [ 1.52198831e+00, -1.60260510e-01,  2.24739598e+00,\n",
       "        -1.55532480e+00, -2.90114891e-01, -4.82696234e-01,\n",
       "        -1.57924345e+00,  5.69640156e-01,  6.44890674e-01,\n",
       "         7.37056116e-01],\n",
       "       [-4.44002654e-01,  4.20267315e-01,  1.51454448e+00,\n",
       "         1.90887905e-01,  9.57422714e-01, -2.10451041e+00,\n",
       "        -5.45539118e-01, -3.22127787e-01,  2.08509762e+00,\n",
       "        -1.63870762e+00],\n",
       "       [ 1.22134360e+00, -4.25855462e-01,  2.23453707e+00,\n",
       "        -1.95499163e+00,  2.85742501e-01, -2.47198135e-01,\n",
       "         5.58886534e-01,  6.33478051e-01, -4.46594798e-01,\n",
       "         3.52678176e-01],\n",
       "       [ 1.76756892e+00, -7.89402725e-02, -1.24532375e+00,\n",
       "        -2.22873697e+00, -6.77513724e-01,  1.42353754e+00,\n",
       "         3.95081140e-01, -1.31776559e-01, -1.43109738e+00,\n",
       "        -1.07889964e+00],\n",
       "       [ 2.09506062e+00,  2.10739618e-01, -5.29101999e-01,\n",
       "         3.00743800e-01,  3.87986183e-01, -5.25271795e-01,\n",
       "        -2.29006680e-01,  1.19050135e+00,  1.00171086e+00,\n",
       "        -5.84578402e-01],\n",
       "       [ 2.71262772e-01, -1.82322288e-01,  6.01536033e-02,\n",
       "         8.53687424e-01, -1.01081549e+00,  3.35956056e-01,\n",
       "         1.61159886e+00,  4.18710909e-01,  6.78740741e-02,\n",
       "        -1.10485051e+00],\n",
       "       [ 1.10844305e+00,  6.11588227e-01,  1.88587422e+00,\n",
       "         2.02475641e+00, -1.15780631e+00, -1.14578787e+00,\n",
       "         9.71772680e-01,  1.17879260e-01,  8.07123634e-01,\n",
       "        -5.51976147e-01],\n",
       "       [ 1.45495462e+00,  3.34670907e-01, -2.96393495e-01,\n",
       "        -8.54399085e-01,  6.42532742e-01, -1.85211805e+00,\n",
       "         2.17561296e-01, -9.99223072e-01, -1.30910434e+00,\n",
       "         2.00308943e+00],\n",
       "       [-2.44490784e-01, -1.24412915e+00, -7.85668864e-01,\n",
       "         5.52293721e-02,  1.91685767e+00, -1.16049495e+00,\n",
       "         1.27607670e+00,  7.52456086e-01, -4.98275874e-01,\n",
       "         1.08327903e+00],\n",
       "       [ 1.37982852e+00,  1.19394294e+00,  1.64639869e-01,\n",
       "        -4.46477568e-01,  8.63104800e-01,  4.35782665e-01,\n",
       "         1.02000230e+00,  1.48091021e+00,  3.60239574e-01,\n",
       "        -1.96363959e+00],\n",
       "       [ 1.64248555e-01,  9.96613522e-03,  7.08132523e-01,\n",
       "        -1.89247109e+00, -4.31234845e-01, -3.92198755e-01,\n",
       "        -1.42184032e+00, -1.44210954e+00, -1.97162118e+00,\n",
       "         4.96163416e-01],\n",
       "       [ 1.06460288e-01, -4.60859047e-01,  1.12433438e+00,\n",
       "         1.08243319e+00,  5.16373624e-01,  1.57311949e+00,\n",
       "         3.82803503e-01,  2.14082096e-01,  8.36728607e-02,\n",
       "        -2.63801990e-02],\n",
       "       [ 1.88226696e-01, -7.03779220e-01,  3.86889739e-01,\n",
       "         1.25704418e-01, -5.25547647e-01,  1.10950917e+00,\n",
       "        -6.55487919e-01,  9.94155061e-02,  1.35991921e+00,\n",
       "        -1.03335413e-01],\n",
       "       [ 3.22314911e-01,  7.58713514e-01, -8.95544739e-01,\n",
       "        -1.78971576e+00,  5.92697982e-01,  2.40138251e-01,\n",
       "         6.21449370e-01,  2.46647224e-02,  1.79827884e-01,\n",
       "         5.27618441e-01],\n",
       "       [-2.59102275e+00, -7.00054635e-01, -4.81735092e-01,\n",
       "        -1.48158345e+00,  5.71975817e-01,  2.94974950e-01,\n",
       "        -1.34755049e+00,  2.79925782e+00,  7.42702957e-01,\n",
       "         1.21067577e+00],\n",
       "       [-1.13475388e+00, -7.43437987e-01, -8.19084177e-01,\n",
       "        -3.42668341e-02, -1.67015065e+00,  8.30945925e-01,\n",
       "        -1.12324227e-01, -1.22465254e+00, -1.47784878e+00,\n",
       "        -2.16995641e+00],\n",
       "       [-1.75612105e-02,  1.67539725e+00,  3.30805393e-01,\n",
       "         1.42297608e-01, -9.06771587e-01,  1.34838266e+00,\n",
       "        -1.34621627e+00, -1.26172242e+00,  1.49036378e+00,\n",
       "         8.18744453e-01],\n",
       "       [-3.28370371e-02, -1.51870845e-01, -1.54745582e-02,\n",
       "        -4.29533773e-01, -1.89458475e+00, -1.17148586e+00,\n",
       "        -9.74466836e-01,  1.15587607e+00, -1.60968856e-01,\n",
       "        -3.32245728e-01],\n",
       "       [-1.49385075e-01,  1.90772500e+00, -1.56844678e+00,\n",
       "         5.01058912e-01, -1.16802303e+00,  1.44210484e-01,\n",
       "         7.30042997e-02, -8.64230698e-01,  6.49717200e-01,\n",
       "        -3.68460616e-03],\n",
       "       [-2.52153429e-01, -1.53930125e-01, -6.73714538e-01,\n",
       "         8.92681075e-01, -2.20152064e+00,  5.41133263e-01,\n",
       "         1.52573147e+00, -2.20069575e+00, -2.08604074e+00,\n",
       "         4.85260769e-01],\n",
       "       [-5.28814475e-01,  1.63862250e-01,  3.61835597e-03,\n",
       "        -1.04309762e+00,  5.41549752e-01,  8.39595922e-02,\n",
       "        -1.23221920e+00,  2.76495207e+00, -6.81052953e-01,\n",
       "        -7.45573540e-01],\n",
       "       [ 1.76363694e+00,  1.54982474e-01, -3.24220829e-01,\n",
       "        -5.23688767e-01, -5.31899197e-01, -3.51487671e-01,\n",
       "         8.24651822e-01,  5.59268634e-01,  5.33668145e-01,\n",
       "         7.33559813e-01],\n",
       "       [ 9.88714594e-01,  1.35525689e-01, -8.22382497e-01,\n",
       "         2.35257138e+00, -6.84677973e-01, -2.19276611e-01,\n",
       "        -1.59824149e+00,  1.35542019e-01, -2.21366499e+00,\n",
       "         9.93549000e-01],\n",
       "       [ 1.41550614e+00,  2.22493483e+00,  2.37389949e+00,\n",
       "         9.35762031e-01,  8.06798326e-01,  3.60664959e-01,\n",
       "        -8.17640498e-01,  1.20562352e-01,  2.23208452e-01,\n",
       "         2.38568241e+00],\n",
       "       [ 3.43053317e-01, -9.79390774e-01,  8.55267920e-01,\n",
       "         6.98399590e-02,  7.66496789e-01,  1.18468140e+00,\n",
       "        -4.26183230e-01, -9.69067076e-01,  3.79597893e-01,\n",
       "         3.64849616e-01],\n",
       "       [-3.19776707e-01,  1.57414831e+00,  7.01796225e-01,\n",
       "        -1.87059288e+00, -1.81130851e+00,  1.93938111e+00,\n",
       "         1.00410322e+00,  4.20540299e-01, -5.94477901e-01,\n",
       "         3.41561008e-01],\n",
       "       [-3.35925181e-01,  6.47174303e-01,  6.00024232e-01,\n",
       "        -6.24071775e-01,  2.31417833e+00, -1.35415854e+00,\n",
       "         2.91669836e-01, -1.23865717e+00, -7.93236313e-01,\n",
       "        -4.18210620e-01],\n",
       "       [ 1.78562727e-01,  4.89958334e-01, -6.17308725e-01,\n",
       "         1.27357101e+00,  7.09245152e-01, -1.30057660e-01,\n",
       "        -6.13931564e-01, -4.05128853e-01,  4.90828769e-01,\n",
       "        -1.04892626e+00],\n",
       "       [-1.94364948e-01,  3.73903904e-02, -4.47188225e-01,\n",
       "        -3.08451284e-02,  1.68927413e-03, -1.39794137e+00,\n",
       "         1.01368586e+00,  5.68173952e-01, -1.68257193e+00,\n",
       "        -1.26496099e+00],\n",
       "       [ 7.59580253e-01, -2.03838868e-01, -1.64692350e+00,\n",
       "         5.41016765e-01,  2.06225682e-01, -7.77161467e-01,\n",
       "         1.20759953e+00,  1.51870518e+00,  7.01361677e-01,\n",
       "         2.72711538e-01]])"
      ]
     },
     "execution_count": 39,
     "metadata": {},
     "output_type": "execute_result"
    }
   ],
   "source": [
    "users_arr2"
   ]
  },
  {
   "cell_type": "code",
   "execution_count": 40,
   "metadata": {},
   "outputs": [
    {
     "data": {
      "text/html": [
       "<div>\n",
       "<style scoped>\n",
       "    .dataframe tbody tr th:only-of-type {\n",
       "        vertical-align: middle;\n",
       "    }\n",
       "\n",
       "    .dataframe tbody tr th {\n",
       "        vertical-align: top;\n",
       "    }\n",
       "\n",
       "    .dataframe thead th {\n",
       "        text-align: right;\n",
       "    }\n",
       "</style>\n",
       "<table border=\"1\" class=\"dataframe\">\n",
       "  <thead>\n",
       "    <tr style=\"text-align: right;\">\n",
       "      <th></th>\n",
       "      <th>0</th>\n",
       "      <th>1</th>\n",
       "      <th>2</th>\n",
       "      <th>3</th>\n",
       "      <th>4</th>\n",
       "      <th>5</th>\n",
       "      <th>6</th>\n",
       "      <th>7</th>\n",
       "      <th>8</th>\n",
       "      <th>9</th>\n",
       "    </tr>\n",
       "  </thead>\n",
       "  <tbody>\n",
       "    <tr>\n",
       "      <th>0</th>\n",
       "      <td>0.882275</td>\n",
       "      <td>-0.695579</td>\n",
       "      <td>1.547683</td>\n",
       "      <td>1.780603</td>\n",
       "      <td>0.760861</td>\n",
       "      <td>0.001690</td>\n",
       "      <td>-0.811677</td>\n",
       "      <td>-0.296592</td>\n",
       "      <td>1.220182</td>\n",
       "      <td>-0.640643</td>\n",
       "    </tr>\n",
       "    <tr>\n",
       "      <th>1</th>\n",
       "      <td>0.338047</td>\n",
       "      <td>-0.088437</td>\n",
       "      <td>-0.471171</td>\n",
       "      <td>0.297457</td>\n",
       "      <td>0.747705</td>\n",
       "      <td>-1.527683</td>\n",
       "      <td>0.860478</td>\n",
       "      <td>-2.299522</td>\n",
       "      <td>0.083166</td>\n",
       "      <td>1.754870</td>\n",
       "    </tr>\n",
       "    <tr>\n",
       "      <th>2</th>\n",
       "      <td>-0.605034</td>\n",
       "      <td>-0.791079</td>\n",
       "      <td>0.660532</td>\n",
       "      <td>1.777414</td>\n",
       "      <td>2.323175</td>\n",
       "      <td>1.102697</td>\n",
       "      <td>-0.346442</td>\n",
       "      <td>2.084007</td>\n",
       "      <td>1.171152</td>\n",
       "      <td>1.148869</td>\n",
       "    </tr>\n",
       "    <tr>\n",
       "      <th>3</th>\n",
       "      <td>0.539183</td>\n",
       "      <td>-0.196643</td>\n",
       "      <td>-1.400111</td>\n",
       "      <td>0.520216</td>\n",
       "      <td>0.009779</td>\n",
       "      <td>-0.146831</td>\n",
       "      <td>0.639371</td>\n",
       "      <td>0.580257</td>\n",
       "      <td>1.124847</td>\n",
       "      <td>0.845800</td>\n",
       "    </tr>\n",
       "    <tr>\n",
       "      <th>4</th>\n",
       "      <td>-1.445579</td>\n",
       "      <td>0.265330</td>\n",
       "      <td>-0.155962</td>\n",
       "      <td>0.492371</td>\n",
       "      <td>-0.049007</td>\n",
       "      <td>-1.099644</td>\n",
       "      <td>2.511993</td>\n",
       "      <td>1.189827</td>\n",
       "      <td>0.773183</td>\n",
       "      <td>-0.487234</td>\n",
       "    </tr>\n",
       "    <tr>\n",
       "      <th>...</th>\n",
       "      <td>...</td>\n",
       "      <td>...</td>\n",
       "      <td>...</td>\n",
       "      <td>...</td>\n",
       "      <td>...</td>\n",
       "      <td>...</td>\n",
       "      <td>...</td>\n",
       "      <td>...</td>\n",
       "      <td>...</td>\n",
       "      <td>...</td>\n",
       "    </tr>\n",
       "    <tr>\n",
       "      <th>95</th>\n",
       "      <td>-0.319777</td>\n",
       "      <td>1.574148</td>\n",
       "      <td>0.701796</td>\n",
       "      <td>-1.870593</td>\n",
       "      <td>-1.811309</td>\n",
       "      <td>1.939381</td>\n",
       "      <td>1.004103</td>\n",
       "      <td>0.420540</td>\n",
       "      <td>-0.594478</td>\n",
       "      <td>0.341561</td>\n",
       "    </tr>\n",
       "    <tr>\n",
       "      <th>96</th>\n",
       "      <td>-0.335925</td>\n",
       "      <td>0.647174</td>\n",
       "      <td>0.600024</td>\n",
       "      <td>-0.624072</td>\n",
       "      <td>2.314178</td>\n",
       "      <td>-1.354159</td>\n",
       "      <td>0.291670</td>\n",
       "      <td>-1.238657</td>\n",
       "      <td>-0.793236</td>\n",
       "      <td>-0.418211</td>\n",
       "    </tr>\n",
       "    <tr>\n",
       "      <th>97</th>\n",
       "      <td>0.178563</td>\n",
       "      <td>0.489958</td>\n",
       "      <td>-0.617309</td>\n",
       "      <td>1.273571</td>\n",
       "      <td>0.709245</td>\n",
       "      <td>-0.130058</td>\n",
       "      <td>-0.613932</td>\n",
       "      <td>-0.405129</td>\n",
       "      <td>0.490829</td>\n",
       "      <td>-1.048926</td>\n",
       "    </tr>\n",
       "    <tr>\n",
       "      <th>98</th>\n",
       "      <td>-0.194365</td>\n",
       "      <td>0.037390</td>\n",
       "      <td>-0.447188</td>\n",
       "      <td>-0.030845</td>\n",
       "      <td>0.001689</td>\n",
       "      <td>-1.397941</td>\n",
       "      <td>1.013686</td>\n",
       "      <td>0.568174</td>\n",
       "      <td>-1.682572</td>\n",
       "      <td>-1.264961</td>\n",
       "    </tr>\n",
       "    <tr>\n",
       "      <th>99</th>\n",
       "      <td>0.759580</td>\n",
       "      <td>-0.203839</td>\n",
       "      <td>-1.646924</td>\n",
       "      <td>0.541017</td>\n",
       "      <td>0.206226</td>\n",
       "      <td>-0.777161</td>\n",
       "      <td>1.207600</td>\n",
       "      <td>1.518705</td>\n",
       "      <td>0.701362</td>\n",
       "      <td>0.272712</td>\n",
       "    </tr>\n",
       "  </tbody>\n",
       "</table>\n",
       "<p>100 rows × 10 columns</p>\n",
       "</div>"
      ],
      "text/plain": [
       "           0         1         2         3         4         5         6  \\\n",
       "0   0.882275 -0.695579  1.547683  1.780603  0.760861  0.001690 -0.811677   \n",
       "1   0.338047 -0.088437 -0.471171  0.297457  0.747705 -1.527683  0.860478   \n",
       "2  -0.605034 -0.791079  0.660532  1.777414  2.323175  1.102697 -0.346442   \n",
       "3   0.539183 -0.196643 -1.400111  0.520216  0.009779 -0.146831  0.639371   \n",
       "4  -1.445579  0.265330 -0.155962  0.492371 -0.049007 -1.099644  2.511993   \n",
       "..       ...       ...       ...       ...       ...       ...       ...   \n",
       "95 -0.319777  1.574148  0.701796 -1.870593 -1.811309  1.939381  1.004103   \n",
       "96 -0.335925  0.647174  0.600024 -0.624072  2.314178 -1.354159  0.291670   \n",
       "97  0.178563  0.489958 -0.617309  1.273571  0.709245 -0.130058 -0.613932   \n",
       "98 -0.194365  0.037390 -0.447188 -0.030845  0.001689 -1.397941  1.013686   \n",
       "99  0.759580 -0.203839 -1.646924  0.541017  0.206226 -0.777161  1.207600   \n",
       "\n",
       "           7         8         9  \n",
       "0  -0.296592  1.220182 -0.640643  \n",
       "1  -2.299522  0.083166  1.754870  \n",
       "2   2.084007  1.171152  1.148869  \n",
       "3   0.580257  1.124847  0.845800  \n",
       "4   1.189827  0.773183 -0.487234  \n",
       "..       ...       ...       ...  \n",
       "95  0.420540 -0.594478  0.341561  \n",
       "96 -1.238657 -0.793236 -0.418211  \n",
       "97 -0.405129  0.490829 -1.048926  \n",
       "98  0.568174 -1.682572 -1.264961  \n",
       "99  1.518705  0.701362  0.272712  \n",
       "\n",
       "[100 rows x 10 columns]"
      ]
     },
     "execution_count": 40,
     "metadata": {},
     "output_type": "execute_result"
    }
   ],
   "source": [
    "pd.DataFrame(users_arr2)"
   ]
  },
  {
   "cell_type": "code",
   "execution_count": 41,
   "metadata": {},
   "outputs": [],
   "source": [
    "items2 = []\n",
    "\n",
    "# Random generation of values for the item matrix\n",
    "for _ in range(100):\n",
    "    item = []\n",
    "    for _ in range(10):\n",
    "        item.append(gs(0, 1))\n",
    "    items2.append(item)\n",
    "items_arr2 = np.array(items2)"
   ]
  },
  {
   "cell_type": "code",
   "execution_count": 42,
   "metadata": {
    "scrolled": true
   },
   "outputs": [
    {
     "data": {
      "text/plain": [
       "array([[-5.96830264e-01, -6.60644169e-01,  5.20090935e-01,\n",
       "        -1.02332900e+00,  4.84720799e-01,  6.34063499e-01,\n",
       "        -1.23738203e+00,  2.62804166e+00, -9.80718366e-01,\n",
       "        -7.58465765e-01],\n",
       "       [ 6.47152634e-01, -1.28732877e+00,  1.30196059e+00,\n",
       "        -3.54192410e-01,  1.18282908e+00,  1.11582998e+00,\n",
       "        -5.99358644e-02, -6.55814218e-01,  2.46163440e-01,\n",
       "        -7.76689319e-01],\n",
       "       [ 2.65328306e-01, -1.01459196e+00,  6.18856542e-02,\n",
       "        -1.34603809e-01, -3.84773388e-02,  5.56442772e-01,\n",
       "         1.43395593e+00,  2.29737204e-01,  3.14491196e-02,\n",
       "        -4.03696762e-01],\n",
       "       [-2.14052609e+00,  4.79318950e-01,  8.41153067e-01,\n",
       "         1.12199449e+00, -1.26228248e+00, -4.56819541e-01,\n",
       "         2.53746183e-02, -4.76825406e-01, -1.18486123e-01,\n",
       "         7.94826506e-01],\n",
       "       [-2.98006369e-01, -1.05783971e+00,  2.72952589e-01,\n",
       "         4.47948214e-01,  4.94938380e-01, -1.40072089e-01,\n",
       "         8.54957479e-01, -9.36771563e-01, -5.91063195e-01,\n",
       "         6.38828578e-01],\n",
       "       [-2.32930026e-01, -1.24230594e+00, -9.94280420e-01,\n",
       "        -1.04411634e+00, -7.04525919e-01,  5.42683938e-01,\n",
       "         1.36493078e-01, -2.27284851e-01, -2.65123172e-01,\n",
       "         1.26386965e+00],\n",
       "       [-1.88340289e+00, -8.65100581e-01,  1.49260665e+00,\n",
       "         5.46491382e-01,  2.45602257e-01,  2.67765309e-01,\n",
       "         5.21970368e-01,  2.37238598e-01, -2.34868915e+00,\n",
       "        -3.38493541e-01],\n",
       "       [ 1.57617785e-01,  1.66894387e+00,  8.94839971e-01,\n",
       "        -1.57220928e-01, -1.42225881e+00,  8.69819384e-01,\n",
       "        -1.25374165e+00,  5.94746968e-02, -1.41578653e+00,\n",
       "        -2.21315483e-01],\n",
       "       [-4.60765971e-01,  3.52837320e-01,  8.10954110e-01,\n",
       "        -1.64629587e+00, -4.69187345e-01,  1.57358281e-01,\n",
       "         6.60027651e-01, -4.10626877e-01,  9.69647082e-02,\n",
       "         1.43544877e+00],\n",
       "       [-3.07028620e-01, -1.16423541e-01,  3.93988507e-01,\n",
       "        -5.96573218e-01,  6.78311662e-01,  1.85083393e-01,\n",
       "         6.25602056e-02,  5.72122075e-01,  8.09275622e-01,\n",
       "        -8.56565346e-01],\n",
       "       [-7.43161645e-01,  1.50618135e+00, -9.47152000e-02,\n",
       "        -1.72962731e-01,  1.13471954e-01, -1.15869181e+00,\n",
       "        -7.47640873e-01, -1.35273857e+00, -2.72182481e-01,\n",
       "        -8.84962190e-02],\n",
       "       [-5.78680877e-01, -3.65554350e-01, -1.03987618e-01,\n",
       "        -5.95207895e-02, -3.93504246e-01, -1.26004322e+00,\n",
       "        -1.44596566e+00,  1.57674758e+00,  3.55185382e-01,\n",
       "         5.93577424e-01],\n",
       "       [-2.16416137e+00, -5.01338869e-01, -2.93456017e-02,\n",
       "        -8.12457612e-01, -1.12199563e+00, -4.14027916e-01,\n",
       "         3.60032110e-01,  5.66244391e-01, -7.03868014e-01,\n",
       "        -5.64765659e-01],\n",
       "       [-3.61495213e-01,  6.87354002e-01,  6.00509044e-01,\n",
       "         5.58034428e-01,  1.33772818e+00,  2.44898676e-01,\n",
       "        -6.95289097e-01, -9.75014995e-01, -5.30318846e-01,\n",
       "         3.57049180e-01],\n",
       "       [ 1.74558914e+00,  4.67651869e-01, -9.19189356e-02,\n",
       "        -2.03426166e+00,  4.00483853e-01,  1.23633156e+00,\n",
       "        -3.24115109e-02, -1.89146257e+00, -9.56631611e-01,\n",
       "        -1.85457374e+00],\n",
       "       [ 3.91372911e-01, -8.61589146e-01,  1.32167159e+00,\n",
       "         4.69906728e-01, -1.89669109e+00, -8.47031859e-01,\n",
       "        -1.75327208e-02,  1.19619593e+00, -2.56699351e-01,\n",
       "         6.49521939e-01],\n",
       "       [ 3.79128628e-01,  8.17917201e-01, -1.59546268e+00,\n",
       "         4.08288699e-03, -2.07565007e-01, -1.08695380e+00,\n",
       "        -1.29521107e+00,  1.06119124e+00,  1.00523768e+00,\n",
       "        -5.45917154e-01],\n",
       "       [-1.46143356e+00, -1.01672687e+00, -1.17392711e+00,\n",
       "        -2.04389465e+00,  4.20750646e-01,  2.23365717e-01,\n",
       "         2.51781372e-01,  4.28305114e-04,  1.42810217e-01,\n",
       "         4.64296705e-02],\n",
       "       [-6.60365358e-04,  4.30381298e-03, -1.52007753e+00,\n",
       "         5.46607721e-01,  4.38937519e-01, -1.09154472e-01,\n",
       "        -9.73287253e-01,  1.06223424e+00,  1.61836548e+00,\n",
       "        -2.98822472e-01],\n",
       "       [-5.65226605e-01,  5.80919787e-01, -4.78311249e-01,\n",
       "        -6.90907005e-01,  4.93630487e-01,  1.10315889e-01,\n",
       "         6.94473852e-01,  8.59494921e-01,  2.60521719e+00,\n",
       "        -1.18131674e+00],\n",
       "       [ 4.35145275e-01, -2.58948167e-01, -1.61211883e+00,\n",
       "        -1.86868091e+00,  5.46969677e-01, -1.98650444e+00,\n",
       "         5.63842607e-01, -2.56535576e-01,  1.22096116e+00,\n",
       "         1.04395106e+00],\n",
       "       [-2.00393840e+00,  5.78859981e-01, -2.70956928e-01,\n",
       "        -7.51405445e-01,  1.27422052e+00,  1.81829964e-01,\n",
       "         1.41458325e+00,  5.94118516e-01,  2.16670221e-01,\n",
       "         9.83116724e-01],\n",
       "       [-1.97542602e-01,  1.91612637e-01, -1.02041062e+00,\n",
       "         4.60829361e-01,  7.41836126e-02,  1.45645323e-01,\n",
       "         1.16872302e+00, -8.78557657e-01,  1.97867665e+00,\n",
       "        -5.15613269e-01],\n",
       "       [-3.97133706e-01, -1.54277897e+00,  2.30958902e-01,\n",
       "         7.54091098e-01, -1.22039890e+00, -2.26154299e+00,\n",
       "         5.80363181e-01,  1.41543285e+00,  1.22573327e+00,\n",
       "        -3.07584706e+00],\n",
       "       [ 1.23794926e+00,  3.52272821e-01,  7.96857523e-01,\n",
       "        -1.00109277e+00, -5.16289694e-01, -1.69514927e+00,\n",
       "        -3.53599243e-01, -1.60892522e+00, -9.78616959e-02,\n",
       "         4.19006151e-01],\n",
       "       [-1.24605855e+00,  1.37291161e+00, -9.28987425e-01,\n",
       "        -2.67307258e-01,  1.31290535e+00, -9.31119793e-01,\n",
       "        -8.50748640e-01, -2.22810872e-01, -6.55036155e-01,\n",
       "        -7.84891678e-01],\n",
       "       [-8.44814767e-01, -4.65905909e-01,  1.69851185e+00,\n",
       "        -1.76584670e-01,  8.96321362e-01,  1.19587091e+00,\n",
       "         1.15290567e+00, -9.60753354e-01, -2.13512198e+00,\n",
       "         1.39626517e+00],\n",
       "       [ 6.54171052e-01,  3.94938971e-01,  1.47558958e+00,\n",
       "         1.73080686e+00, -6.68452778e-01, -8.66973054e-01,\n",
       "        -1.46468498e+00, -3.68344971e-01,  7.05874655e-01,\n",
       "        -5.85888455e-01],\n",
       "       [ 2.48161944e+00, -1.39903260e+00,  5.60182613e-01,\n",
       "         7.22656364e-01, -1.11076033e+00, -1.22375614e+00,\n",
       "         7.74816014e-01, -1.05111812e+00,  1.75477105e+00,\n",
       "        -2.52756576e-01],\n",
       "       [ 4.54376920e-01, -8.96138179e-01,  9.18197592e-01,\n",
       "        -1.84649044e+00,  1.25097013e+00, -7.47285154e-02,\n",
       "        -1.29913250e+00, -1.60544277e-01, -3.74733724e-02,\n",
       "         1.26396430e+00],\n",
       "       [ 1.53402478e+00, -5.81975466e-01, -7.09251799e-01,\n",
       "        -1.61142797e+00, -8.85378628e-01,  6.02845863e-02,\n",
       "         4.99784698e-01, -8.27562995e-01,  1.12264114e+00,\n",
       "        -4.69746707e-01],\n",
       "       [ 2.96866463e-01, -6.37505662e-01, -6.07756989e-01,\n",
       "         8.24089489e-01,  4.66630788e-03, -4.74375259e-01,\n",
       "        -6.98376830e-01, -8.49279541e-01,  1.07380135e+00,\n",
       "        -1.83276004e+00],\n",
       "       [ 1.30487885e-02,  3.19738164e-02,  3.20561166e-01,\n",
       "        -1.14090365e+00,  4.35124675e-01,  3.49953167e-01,\n",
       "         2.20093813e+00,  1.07320309e+00,  5.23599838e-02,\n",
       "         1.01951655e+00],\n",
       "       [ 5.68951834e-01, -1.11261916e+00,  1.50780463e+00,\n",
       "         1.04683574e+00,  2.48624816e-01,  3.69887594e-02,\n",
       "         4.64296655e-01,  4.41945868e-01,  6.27331653e-02,\n",
       "        -3.79580616e-01],\n",
       "       [-5.29881291e-02,  2.45552009e+00, -8.29697216e-01,\n",
       "         4.43197400e-01, -1.26853561e+00,  8.85591559e-01,\n",
       "        -3.07376827e-01,  9.41668665e-01,  2.73055137e-01,\n",
       "         1.02201079e+00],\n",
       "       [-9.64556319e-01, -6.09500656e-01, -2.19643409e-01,\n",
       "        -1.93159488e-01, -2.52707555e-01,  1.37744070e-02,\n",
       "        -1.06398596e-01,  2.27472844e-01, -6.06583716e-01,\n",
       "        -1.89238913e+00],\n",
       "       [-9.27050939e-01,  8.30280734e-01,  1.24693134e+00,\n",
       "         8.82303453e-01, -6.76979684e-01, -6.37583633e-01,\n",
       "         1.14224663e+00, -2.07778159e-01,  2.76722793e-01,\n",
       "         4.79879819e-02],\n",
       "       [-2.16724195e+00,  1.71272658e-01, -1.23716050e+00,\n",
       "         1.96968750e-01,  1.39201603e+00,  7.99387463e-01,\n",
       "        -4.84685326e-01, -2.20797656e+00, -1.59589233e+00,\n",
       "         4.67063719e-01],\n",
       "       [ 1.55706076e-01,  2.87160575e+00,  8.41184414e-01,\n",
       "         1.84379673e-01,  3.33572793e-01, -1.93541806e+00,\n",
       "         2.14491264e-01,  1.00564307e+00,  5.23129963e-01,\n",
       "         3.38826792e-02],\n",
       "       [ 1.13338285e+00, -1.32336816e+00,  9.96493299e-01,\n",
       "        -4.27226326e-01, -1.11533574e+00, -1.45253933e-02,\n",
       "        -3.23264769e-01, -9.37084853e-01,  1.29752329e+00,\n",
       "        -6.61321673e-01],\n",
       "       [ 1.26575765e+00,  3.99999340e-01, -3.71543106e-01,\n",
       "        -1.10134431e+00,  6.81125745e-01, -4.80228091e-01,\n",
       "         4.31600544e-01,  7.06759674e-01, -2.35959225e-01,\n",
       "         4.20309063e-01],\n",
       "       [ 1.07331533e+00,  1.57499331e+00,  3.62689688e-01,\n",
       "         1.09566569e+00,  1.72802665e+00,  6.18327522e-02,\n",
       "         7.58742965e-01, -2.03487478e+00,  4.21379564e-02,\n",
       "        -2.96575382e-01],\n",
       "       [ 3.74259804e-01,  8.31368669e-01, -7.89459494e-01,\n",
       "        -1.76419201e+00,  1.44502383e-01,  1.07493797e+00,\n",
       "        -6.70474389e-01, -2.09844702e+00,  4.39837899e-01,\n",
       "         3.26099883e-01],\n",
       "       [-1.46621904e-01, -2.41683794e+00, -9.91278236e-01,\n",
       "        -4.12577980e-01, -1.03684314e+00,  1.15140036e+00,\n",
       "         1.21035181e+00,  1.57058443e-01, -4.90771075e-01,\n",
       "        -1.33189311e+00],\n",
       "       [ 8.89391727e-01,  7.01847948e-01, -2.30551207e-01,\n",
       "         1.25558302e+00, -3.24202102e-01,  1.72295069e-01,\n",
       "        -1.95405926e-01,  2.42908747e+00, -6.34051148e-01,\n",
       "         7.89973753e-01],\n",
       "       [ 1.90347005e+00, -1.05777003e+00,  3.60342372e-01,\n",
       "        -3.57936988e-01,  6.82738827e-01,  1.10623921e+00,\n",
       "        -5.55432868e-01, -9.34368344e-01,  9.66530811e-01,\n",
       "        -2.11343518e-02],\n",
       "       [-3.03593703e-02,  3.70661923e-01,  1.59307145e-01,\n",
       "        -6.20490085e-01, -1.09522622e+00,  6.64022341e-01,\n",
       "         6.28559111e-02,  5.61202932e-01,  1.04130894e+00,\n",
       "         1.15476038e+00],\n",
       "       [ 3.50894495e-01,  2.47197418e-02,  1.15942352e-01,\n",
       "        -4.75205396e-01, -6.69097081e-01, -1.14630940e+00,\n",
       "         2.05762185e+00,  1.14631730e-01,  1.46702461e+00,\n",
       "         1.70811934e+00],\n",
       "       [ 1.15088713e+00, -1.38080601e+00,  4.26574478e-01,\n",
       "         1.05158569e+00, -4.52661300e-01,  6.08453187e-02,\n",
       "        -1.07930720e+00,  9.17630155e-01, -1.74424934e+00,\n",
       "        -4.64272480e-01],\n",
       "       [ 3.16495829e-01,  4.13966280e-01, -1.98344924e+00,\n",
       "        -1.23135247e-01,  1.09235909e+00,  4.97306718e-01,\n",
       "         1.28826923e+00, -1.02515338e-01,  3.08270167e-02,\n",
       "         1.67306203e+00],\n",
       "       [ 5.06602715e-01, -8.00823330e-01,  1.20411638e-01,\n",
       "         7.70969435e-01,  9.89523910e-01,  3.89430481e-01,\n",
       "         1.19769664e+00, -1.26472604e+00,  1.46995254e+00,\n",
       "         2.58120681e-01],\n",
       "       [ 9.02875975e-01, -4.19469007e-01, -1.57580572e+00,\n",
       "        -1.24526216e+00, -4.56298339e-03, -5.21887362e-01,\n",
       "        -1.32694684e+00, -1.16831752e+00,  1.10320436e+00,\n",
       "        -9.27409455e-01],\n",
       "       [ 1.99564153e-02, -5.84683635e-01, -6.69394830e-01,\n",
       "        -4.79812174e-01,  1.54004742e-01, -1.05364272e+00,\n",
       "         3.63536318e-01,  7.15143851e-02,  1.81573323e+00,\n",
       "         1.07140028e+00],\n",
       "       [ 8.73769761e-01,  1.13473456e+00, -6.82123412e-01,\n",
       "         7.30781559e-01, -1.76842851e+00,  4.01045123e-01,\n",
       "         7.37746387e-01, -4.23197714e-01, -8.68308590e-01,\n",
       "        -1.95757328e-01],\n",
       "       [-8.70107925e-01,  2.27488496e+00, -9.85288466e-01,\n",
       "        -7.09441580e-02,  1.05353404e+00, -1.10565263e+00,\n",
       "        -7.64605890e-01, -2.13426911e+00, -1.16108205e+00,\n",
       "        -9.03023188e-01],\n",
       "       [-1.00624380e+00, -5.04674239e-01,  9.75477943e-01,\n",
       "         6.27582575e-01, -6.61786053e-01,  1.00871525e+00,\n",
       "        -5.16381147e-01, -5.59434545e-01, -9.08304823e-02,\n",
       "         7.90317785e-01],\n",
       "       [-2.90843171e-01,  1.16469766e+00, -8.38788172e-01,\n",
       "         2.00532649e+00,  1.07867602e+00, -7.11300435e-01,\n",
       "        -4.96257231e-01,  6.96632953e-01,  5.53196522e-01,\n",
       "        -1.07342183e+00],\n",
       "       [-6.64981989e-01,  4.13043738e-01, -1.30234549e+00,\n",
       "         6.75495160e-01,  2.41513613e-01, -2.08955816e+00,\n",
       "         1.09867031e+00,  1.31585888e+00, -4.25431968e-01,\n",
       "         1.46382120e+00],\n",
       "       [-8.06429861e-01,  9.56469671e-01, -7.73169354e-01,\n",
       "         1.61291280e+00, -5.37535618e-01, -3.03252341e-01,\n",
       "        -3.24892700e-01, -2.01785606e+00, -4.37236876e-01,\n",
       "        -5.19131194e-01],\n",
       "       [ 4.67838294e-01, -1.82472624e+00,  5.89465125e-01,\n",
       "         1.31826082e+00, -7.50698675e-01,  1.43610975e-02,\n",
       "        -7.90797156e-01,  7.80456709e-02, -1.12946677e+00,\n",
       "        -5.15875100e-01],\n",
       "       [ 8.27397477e-01,  1.08542144e+00, -4.15237721e-02,\n",
       "         2.60605329e+00,  1.10967111e+00, -2.64999567e+00,\n",
       "         6.47009017e-01,  1.32834229e-02,  2.09914387e+00,\n",
       "        -9.22162496e-01],\n",
       "       [-2.94116444e+00,  8.59287548e-01, -6.97011270e-01,\n",
       "        -4.03882388e-01, -6.07558127e-01, -2.74109991e-01,\n",
       "         1.00274233e+00,  3.32741964e-01,  1.33613541e+00,\n",
       "        -1.54340964e-01],\n",
       "       [-9.78259381e-01,  1.46332137e-01,  4.62315402e-01,\n",
       "         4.31117875e-01, -1.15750898e+00,  1.37553229e+00,\n",
       "         1.82573296e+00,  6.50860192e-01, -2.15692143e-01,\n",
       "         1.24249568e+00],\n",
       "       [-2.02065683e-01,  1.73865631e+00,  1.36076852e+00,\n",
       "        -6.85311705e-01,  5.89137354e-01,  2.02273490e+00,\n",
       "        -1.28615342e-01, -5.71670874e-02, -7.31964727e-01,\n",
       "         1.19267592e+00],\n",
       "       [-1.80099925e-01,  1.04456187e+00,  1.69725909e-01,\n",
       "         1.37749632e+00, -7.11442015e-01, -3.38154709e-01,\n",
       "        -1.81316797e+00, -6.22260335e-01,  7.35605010e-01,\n",
       "         1.03559597e+00],\n",
       "       [-2.86832152e-01,  6.43678987e-01,  6.40405425e-01,\n",
       "        -1.75419047e+00,  4.01652132e-01,  1.32455524e+00,\n",
       "         4.19508684e-01, -1.23385426e-01, -1.66250858e-01,\n",
       "        -2.76909304e+00],\n",
       "       [-1.42704684e-01,  1.14529470e+00,  1.59344826e+00,\n",
       "         1.09294170e+00,  2.01193232e-01,  1.09090194e+00,\n",
       "         3.12147314e-01,  5.32709207e-01,  8.83118469e-02,\n",
       "         4.68407024e-01],\n",
       "       [ 6.05522493e-02,  8.56796948e-01, -1.18730400e+00,\n",
       "        -6.49209405e-01, -5.24587500e-01,  4.52601152e-01,\n",
       "         3.34092065e-01,  2.43909883e-01, -2.52863018e-01,\n",
       "        -1.05106836e+00],\n",
       "       [-6.70207323e-02, -9.82888268e-01, -7.33436577e-01,\n",
       "        -6.47044886e-01, -7.69718140e-01, -2.04162755e-01,\n",
       "         8.56799475e-01, -7.86481258e-01,  2.99936381e-01,\n",
       "        -1.18086474e+00],\n",
       "       [-5.14477642e-01,  1.05723198e+00, -1.42664480e+00,\n",
       "        -1.26795404e+00, -7.57609559e-01, -5.99600703e-01,\n",
       "        -3.90776483e-01, -1.29794015e+00, -3.07189909e-01,\n",
       "        -9.24221566e-01],\n",
       "       [ 1.61421981e-01, -6.61919369e-01, -4.00128578e-01,\n",
       "         9.37351968e-01,  6.42769132e-03,  8.28765568e-01,\n",
       "         1.62204289e-01,  1.34478645e+00, -2.17698056e-01,\n",
       "         4.19350855e-02],\n",
       "       [ 6.87046741e-01, -2.95951751e-01, -3.54875814e-01,\n",
       "        -1.03822948e+00,  3.07270369e-01, -9.43650187e-01,\n",
       "        -5.51436101e-01,  8.09397507e-01, -1.60240324e+00,\n",
       "         9.11400377e-02],\n",
       "       [ 3.64354924e-01, -2.33842629e-01, -2.22924804e-02,\n",
       "         7.20060834e-01, -2.28620768e+00,  2.54139920e+00,\n",
       "        -6.02056072e-01,  8.17107421e-02,  8.72402307e-01,\n",
       "        -1.14465698e+00],\n",
       "       [-1.48075650e+00, -1.06316485e+00,  1.57698166e+00,\n",
       "        -2.29238622e+00, -1.11499435e+00,  1.27159261e+00,\n",
       "         1.87877521e+00,  1.19185170e+00,  1.28924633e+00,\n",
       "         8.45448440e-01],\n",
       "       [ 3.86439425e-01,  1.25736484e-01,  9.99896017e-01,\n",
       "        -4.55180858e-01, -5.29655889e-01,  1.90535544e+00,\n",
       "        -3.96586512e-01,  2.18991150e+00,  1.13214868e-01,\n",
       "         8.56707663e-01],\n",
       "       [-7.20237289e-01, -9.33235222e-02,  2.73799425e-01,\n",
       "         1.79289151e-01, -9.87869284e-01, -1.44620340e+00,\n",
       "         2.28328136e+00, -6.81456951e-01,  5.65408445e-01,\n",
       "         1.12613836e+00],\n",
       "       [ 1.98343150e+00, -7.56375732e-01,  1.56746549e-01,\n",
       "         1.80917843e+00,  5.31274503e-01,  1.48694803e+00,\n",
       "         4.21836184e-01,  1.90090278e-01,  2.57486535e-01,\n",
       "        -5.72283888e-01],\n",
       "       [ 7.92228976e-01,  7.83686446e-01,  1.09285960e-01,\n",
       "        -1.59907413e+00,  1.33122008e+00,  1.89967575e+00,\n",
       "         3.62530977e-03,  1.32502045e-01,  1.04860141e+00,\n",
       "        -1.34472820e+00],\n",
       "       [-2.03916203e-01, -1.70105255e-02, -3.42003030e-01,\n",
       "        -9.69344570e-03,  2.08261993e-01,  2.36074630e-01,\n",
       "         2.96914303e-01,  4.42311662e-01,  1.22400059e+00,\n",
       "        -1.44800999e+00],\n",
       "       [-7.23713578e-01, -3.62270080e-01,  1.64174910e-02,\n",
       "         6.20343301e-01,  5.82409969e-01,  4.81048739e-01,\n",
       "        -1.06722754e+00, -1.29230529e+00,  8.88357807e-01,\n",
       "         3.98250013e-01],\n",
       "       [ 1.11140459e+00,  4.00410159e-03,  4.54451558e-01,\n",
       "        -1.43420211e+00, -9.86812111e-01,  7.65281916e-01,\n",
       "        -1.00450241e+00,  6.92870626e-01,  2.32812460e+00,\n",
       "        -5.65049595e-01],\n",
       "       [-8.28747406e-01,  1.08329913e+00, -3.28578739e-01,\n",
       "        -1.63075996e+00,  1.24791813e-02, -1.21749547e+00,\n",
       "        -9.89294563e-01,  6.48259782e-01, -1.80771911e+00,\n",
       "         3.10422272e-03],\n",
       "       [ 3.62090114e-01,  1.30401823e+00, -5.66657473e-01,\n",
       "         6.22738487e-01, -8.17235530e-01, -6.28957883e-01,\n",
       "        -6.88007327e-01,  6.79891868e-01, -2.62601863e-01,\n",
       "         6.11626609e-01],\n",
       "       [ 1.06404068e+00,  1.07611419e-01, -3.63880625e-01,\n",
       "        -4.31255584e-01,  1.17092974e+00, -1.32484664e+00,\n",
       "        -7.04415709e-03, -1.44716789e+00, -2.40204376e-01,\n",
       "         7.09246847e-01],\n",
       "       [ 7.13933822e-01,  7.37287182e-02, -1.07129394e+00,\n",
       "         4.31757360e-01, -1.09389782e+00,  2.34797805e-01,\n",
       "         8.24604226e-01, -7.51436811e-01, -2.80300573e-01,\n",
       "         1.63873127e-01],\n",
       "       [ 2.01833721e+00, -6.87838885e-01,  7.40176677e-01,\n",
       "        -3.90435464e-01,  1.05689225e+00,  3.66456193e-01,\n",
       "        -1.10137649e+00,  9.52009663e-01, -1.23388951e+00,\n",
       "         5.48907880e-01],\n",
       "       [-7.33424982e-01,  9.48298536e-01, -2.30734303e+00,\n",
       "         3.34182241e-01,  7.75030035e-01, -8.39702218e-01,\n",
       "        -3.93687533e-01,  5.24463117e-01,  5.31485830e-01,\n",
       "        -2.83611751e-01],\n",
       "       [ 5.61006754e-01, -2.78712262e-02, -1.91797274e-01,\n",
       "        -7.69131511e-01,  6.94117467e-01,  1.08522923e-01,\n",
       "        -2.19131780e-01, -2.92102842e-02, -1.47034905e+00,\n",
       "         1.02084102e+00],\n",
       "       [-1.35128259e+00,  3.44318321e-01, -7.03792298e-02,\n",
       "         3.15536751e-01, -5.10083757e-01, -5.46842832e-02,\n",
       "        -1.07073918e+00,  4.36454354e-01,  2.32296155e-02,\n",
       "        -2.70392065e-01],\n",
       "       [ 2.95751646e-01, -1.58786932e+00, -3.41287298e-01,\n",
       "        -1.51139432e-01,  2.27831572e+00, -4.62426978e-01,\n",
       "        -1.05845871e+00,  1.02025136e+00, -1.48834340e+00,\n",
       "         5.90776014e-01],\n",
       "       [-5.94171806e-02,  5.50694492e-01,  3.80712969e-01,\n",
       "        -2.25169763e-01, -7.46621841e-01,  6.67551511e-01,\n",
       "         8.20260599e-01,  2.21031416e-01,  6.29897697e-01,\n",
       "        -1.89200345e-01],\n",
       "       [-9.42780015e-01, -4.38547388e-01,  2.63325142e-01,\n",
       "        -5.09485518e-01, -7.34249566e-01, -2.23644211e-01,\n",
       "         2.91037950e-02, -1.69485704e-02,  1.80995294e+00,\n",
       "         7.99876345e-01],\n",
       "       [-1.11691018e-01,  1.14265164e+00,  1.02847771e+00,\n",
       "         4.53442612e-01,  2.25917750e+00, -2.68150300e-01,\n",
       "        -4.07943097e-01,  1.67155692e-02, -2.07454378e+00,\n",
       "         5.38126146e-01],\n",
       "       [-2.07002869e+00, -1.86696589e+00,  1.47488464e+00,\n",
       "        -2.01415778e+00, -6.49240888e-02,  1.27720402e+00,\n",
       "         1.40796036e+00, -1.17718293e+00, -7.17304852e-01,\n",
       "         1.29320301e+00],\n",
       "       [-1.46364700e+00, -2.47959299e-01,  6.82138189e-01,\n",
       "        -1.14752290e+00, -7.44429830e-01, -1.65153488e+00,\n",
       "         1.32683450e-01, -7.38414417e-01,  4.23223305e-01,\n",
       "        -9.79161385e-01],\n",
       "       [-3.29575663e-01,  2.34866002e+00, -8.38659161e-01,\n",
       "         2.55007303e+00,  3.24011724e-01, -1.77030021e-02,\n",
       "        -1.50844011e+00, -9.79945245e-01, -8.94815669e-02,\n",
       "         1.86207406e+00],\n",
       "       [-1.81515143e+00, -6.53676167e-01,  4.84805696e-01,\n",
       "         2.45359881e+00, -5.62405877e-01,  1.28135496e-01,\n",
       "         1.01776834e+00,  7.25833214e-01, -1.07372128e+00,\n",
       "         1.24931052e+00],\n",
       "       [-7.84101421e-01,  4.35619870e-01,  5.19731659e-01,\n",
       "         2.90545743e-01, -2.28038353e+00,  2.71010202e-01,\n",
       "         7.93831736e-01,  3.51370363e-01,  8.21170579e-01,\n",
       "        -6.85380193e-01],\n",
       "       [ 2.29924871e-01, -5.30768317e-01, -2.45759521e-01,\n",
       "         4.18200061e-02,  4.63565684e-01, -1.91694432e-01,\n",
       "         1.84677877e-01,  2.04733334e+00, -2.51727490e+00,\n",
       "         1.28846409e-01],\n",
       "       [-8.66193564e-01, -5.37740301e-01,  4.80634810e-01,\n",
       "        -6.66367032e-01, -4.61181005e-01, -3.84325818e-01,\n",
       "         4.80799218e-01,  7.49184035e-01, -2.97529373e-01,\n",
       "         2.90700248e-01]])"
      ]
     },
     "execution_count": 42,
     "metadata": {},
     "output_type": "execute_result"
    }
   ],
   "source": [
    "items_arr2"
   ]
  },
  {
   "cell_type": "code",
   "execution_count": 43,
   "metadata": {},
   "outputs": [
    {
     "data": {
      "text/html": [
       "<div>\n",
       "<style scoped>\n",
       "    .dataframe tbody tr th:only-of-type {\n",
       "        vertical-align: middle;\n",
       "    }\n",
       "\n",
       "    .dataframe tbody tr th {\n",
       "        vertical-align: top;\n",
       "    }\n",
       "\n",
       "    .dataframe thead th {\n",
       "        text-align: right;\n",
       "    }\n",
       "</style>\n",
       "<table border=\"1\" class=\"dataframe\">\n",
       "  <thead>\n",
       "    <tr style=\"text-align: right;\">\n",
       "      <th></th>\n",
       "      <th>0</th>\n",
       "      <th>1</th>\n",
       "      <th>2</th>\n",
       "      <th>3</th>\n",
       "      <th>4</th>\n",
       "      <th>5</th>\n",
       "      <th>6</th>\n",
       "      <th>7</th>\n",
       "      <th>8</th>\n",
       "      <th>9</th>\n",
       "      <th>...</th>\n",
       "      <th>90</th>\n",
       "      <th>91</th>\n",
       "      <th>92</th>\n",
       "      <th>93</th>\n",
       "      <th>94</th>\n",
       "      <th>95</th>\n",
       "      <th>96</th>\n",
       "      <th>97</th>\n",
       "      <th>98</th>\n",
       "      <th>99</th>\n",
       "    </tr>\n",
       "  </thead>\n",
       "  <tbody>\n",
       "    <tr>\n",
       "      <th>0</th>\n",
       "      <td>-0.596830</td>\n",
       "      <td>0.647153</td>\n",
       "      <td>0.265328</td>\n",
       "      <td>-2.140526</td>\n",
       "      <td>-0.298006</td>\n",
       "      <td>-0.232930</td>\n",
       "      <td>-1.883403</td>\n",
       "      <td>0.157618</td>\n",
       "      <td>-0.460766</td>\n",
       "      <td>-0.307029</td>\n",
       "      <td>...</td>\n",
       "      <td>-0.059417</td>\n",
       "      <td>-0.942780</td>\n",
       "      <td>-0.111691</td>\n",
       "      <td>-2.070029</td>\n",
       "      <td>-1.463647</td>\n",
       "      <td>-0.329576</td>\n",
       "      <td>-1.815151</td>\n",
       "      <td>-0.784101</td>\n",
       "      <td>0.229925</td>\n",
       "      <td>-0.866194</td>\n",
       "    </tr>\n",
       "    <tr>\n",
       "      <th>1</th>\n",
       "      <td>-0.660644</td>\n",
       "      <td>-1.287329</td>\n",
       "      <td>-1.014592</td>\n",
       "      <td>0.479319</td>\n",
       "      <td>-1.057840</td>\n",
       "      <td>-1.242306</td>\n",
       "      <td>-0.865101</td>\n",
       "      <td>1.668944</td>\n",
       "      <td>0.352837</td>\n",
       "      <td>-0.116424</td>\n",
       "      <td>...</td>\n",
       "      <td>0.550694</td>\n",
       "      <td>-0.438547</td>\n",
       "      <td>1.142652</td>\n",
       "      <td>-1.866966</td>\n",
       "      <td>-0.247959</td>\n",
       "      <td>2.348660</td>\n",
       "      <td>-0.653676</td>\n",
       "      <td>0.435620</td>\n",
       "      <td>-0.530768</td>\n",
       "      <td>-0.537740</td>\n",
       "    </tr>\n",
       "    <tr>\n",
       "      <th>2</th>\n",
       "      <td>0.520091</td>\n",
       "      <td>1.301961</td>\n",
       "      <td>0.061886</td>\n",
       "      <td>0.841153</td>\n",
       "      <td>0.272953</td>\n",
       "      <td>-0.994280</td>\n",
       "      <td>1.492607</td>\n",
       "      <td>0.894840</td>\n",
       "      <td>0.810954</td>\n",
       "      <td>0.393989</td>\n",
       "      <td>...</td>\n",
       "      <td>0.380713</td>\n",
       "      <td>0.263325</td>\n",
       "      <td>1.028478</td>\n",
       "      <td>1.474885</td>\n",
       "      <td>0.682138</td>\n",
       "      <td>-0.838659</td>\n",
       "      <td>0.484806</td>\n",
       "      <td>0.519732</td>\n",
       "      <td>-0.245760</td>\n",
       "      <td>0.480635</td>\n",
       "    </tr>\n",
       "    <tr>\n",
       "      <th>3</th>\n",
       "      <td>-1.023329</td>\n",
       "      <td>-0.354192</td>\n",
       "      <td>-0.134604</td>\n",
       "      <td>1.121994</td>\n",
       "      <td>0.447948</td>\n",
       "      <td>-1.044116</td>\n",
       "      <td>0.546491</td>\n",
       "      <td>-0.157221</td>\n",
       "      <td>-1.646296</td>\n",
       "      <td>-0.596573</td>\n",
       "      <td>...</td>\n",
       "      <td>-0.225170</td>\n",
       "      <td>-0.509486</td>\n",
       "      <td>0.453443</td>\n",
       "      <td>-2.014158</td>\n",
       "      <td>-1.147523</td>\n",
       "      <td>2.550073</td>\n",
       "      <td>2.453599</td>\n",
       "      <td>0.290546</td>\n",
       "      <td>0.041820</td>\n",
       "      <td>-0.666367</td>\n",
       "    </tr>\n",
       "    <tr>\n",
       "      <th>4</th>\n",
       "      <td>0.484721</td>\n",
       "      <td>1.182829</td>\n",
       "      <td>-0.038477</td>\n",
       "      <td>-1.262282</td>\n",
       "      <td>0.494938</td>\n",
       "      <td>-0.704526</td>\n",
       "      <td>0.245602</td>\n",
       "      <td>-1.422259</td>\n",
       "      <td>-0.469187</td>\n",
       "      <td>0.678312</td>\n",
       "      <td>...</td>\n",
       "      <td>-0.746622</td>\n",
       "      <td>-0.734250</td>\n",
       "      <td>2.259177</td>\n",
       "      <td>-0.064924</td>\n",
       "      <td>-0.744430</td>\n",
       "      <td>0.324012</td>\n",
       "      <td>-0.562406</td>\n",
       "      <td>-2.280384</td>\n",
       "      <td>0.463566</td>\n",
       "      <td>-0.461181</td>\n",
       "    </tr>\n",
       "    <tr>\n",
       "      <th>5</th>\n",
       "      <td>0.634063</td>\n",
       "      <td>1.115830</td>\n",
       "      <td>0.556443</td>\n",
       "      <td>-0.456820</td>\n",
       "      <td>-0.140072</td>\n",
       "      <td>0.542684</td>\n",
       "      <td>0.267765</td>\n",
       "      <td>0.869819</td>\n",
       "      <td>0.157358</td>\n",
       "      <td>0.185083</td>\n",
       "      <td>...</td>\n",
       "      <td>0.667552</td>\n",
       "      <td>-0.223644</td>\n",
       "      <td>-0.268150</td>\n",
       "      <td>1.277204</td>\n",
       "      <td>-1.651535</td>\n",
       "      <td>-0.017703</td>\n",
       "      <td>0.128135</td>\n",
       "      <td>0.271010</td>\n",
       "      <td>-0.191694</td>\n",
       "      <td>-0.384326</td>\n",
       "    </tr>\n",
       "    <tr>\n",
       "      <th>6</th>\n",
       "      <td>-1.237382</td>\n",
       "      <td>-0.059936</td>\n",
       "      <td>1.433956</td>\n",
       "      <td>0.025375</td>\n",
       "      <td>0.854957</td>\n",
       "      <td>0.136493</td>\n",
       "      <td>0.521970</td>\n",
       "      <td>-1.253742</td>\n",
       "      <td>0.660028</td>\n",
       "      <td>0.062560</td>\n",
       "      <td>...</td>\n",
       "      <td>0.820261</td>\n",
       "      <td>0.029104</td>\n",
       "      <td>-0.407943</td>\n",
       "      <td>1.407960</td>\n",
       "      <td>0.132683</td>\n",
       "      <td>-1.508440</td>\n",
       "      <td>1.017768</td>\n",
       "      <td>0.793832</td>\n",
       "      <td>0.184678</td>\n",
       "      <td>0.480799</td>\n",
       "    </tr>\n",
       "    <tr>\n",
       "      <th>7</th>\n",
       "      <td>2.628042</td>\n",
       "      <td>-0.655814</td>\n",
       "      <td>0.229737</td>\n",
       "      <td>-0.476825</td>\n",
       "      <td>-0.936772</td>\n",
       "      <td>-0.227285</td>\n",
       "      <td>0.237239</td>\n",
       "      <td>0.059475</td>\n",
       "      <td>-0.410627</td>\n",
       "      <td>0.572122</td>\n",
       "      <td>...</td>\n",
       "      <td>0.221031</td>\n",
       "      <td>-0.016949</td>\n",
       "      <td>0.016716</td>\n",
       "      <td>-1.177183</td>\n",
       "      <td>-0.738414</td>\n",
       "      <td>-0.979945</td>\n",
       "      <td>0.725833</td>\n",
       "      <td>0.351370</td>\n",
       "      <td>2.047333</td>\n",
       "      <td>0.749184</td>\n",
       "    </tr>\n",
       "    <tr>\n",
       "      <th>8</th>\n",
       "      <td>-0.980718</td>\n",
       "      <td>0.246163</td>\n",
       "      <td>0.031449</td>\n",
       "      <td>-0.118486</td>\n",
       "      <td>-0.591063</td>\n",
       "      <td>-0.265123</td>\n",
       "      <td>-2.348689</td>\n",
       "      <td>-1.415787</td>\n",
       "      <td>0.096965</td>\n",
       "      <td>0.809276</td>\n",
       "      <td>...</td>\n",
       "      <td>0.629898</td>\n",
       "      <td>1.809953</td>\n",
       "      <td>-2.074544</td>\n",
       "      <td>-0.717305</td>\n",
       "      <td>0.423223</td>\n",
       "      <td>-0.089482</td>\n",
       "      <td>-1.073721</td>\n",
       "      <td>0.821171</td>\n",
       "      <td>-2.517275</td>\n",
       "      <td>-0.297529</td>\n",
       "    </tr>\n",
       "    <tr>\n",
       "      <th>9</th>\n",
       "      <td>-0.758466</td>\n",
       "      <td>-0.776689</td>\n",
       "      <td>-0.403697</td>\n",
       "      <td>0.794827</td>\n",
       "      <td>0.638829</td>\n",
       "      <td>1.263870</td>\n",
       "      <td>-0.338494</td>\n",
       "      <td>-0.221315</td>\n",
       "      <td>1.435449</td>\n",
       "      <td>-0.856565</td>\n",
       "      <td>...</td>\n",
       "      <td>-0.189200</td>\n",
       "      <td>0.799876</td>\n",
       "      <td>0.538126</td>\n",
       "      <td>1.293203</td>\n",
       "      <td>-0.979161</td>\n",
       "      <td>1.862074</td>\n",
       "      <td>1.249311</td>\n",
       "      <td>-0.685380</td>\n",
       "      <td>0.128846</td>\n",
       "      <td>0.290700</td>\n",
       "    </tr>\n",
       "  </tbody>\n",
       "</table>\n",
       "<p>10 rows × 100 columns</p>\n",
       "</div>"
      ],
      "text/plain": [
       "         0         1         2         3         4         5         6   \\\n",
       "0 -0.596830  0.647153  0.265328 -2.140526 -0.298006 -0.232930 -1.883403   \n",
       "1 -0.660644 -1.287329 -1.014592  0.479319 -1.057840 -1.242306 -0.865101   \n",
       "2  0.520091  1.301961  0.061886  0.841153  0.272953 -0.994280  1.492607   \n",
       "3 -1.023329 -0.354192 -0.134604  1.121994  0.447948 -1.044116  0.546491   \n",
       "4  0.484721  1.182829 -0.038477 -1.262282  0.494938 -0.704526  0.245602   \n",
       "5  0.634063  1.115830  0.556443 -0.456820 -0.140072  0.542684  0.267765   \n",
       "6 -1.237382 -0.059936  1.433956  0.025375  0.854957  0.136493  0.521970   \n",
       "7  2.628042 -0.655814  0.229737 -0.476825 -0.936772 -0.227285  0.237239   \n",
       "8 -0.980718  0.246163  0.031449 -0.118486 -0.591063 -0.265123 -2.348689   \n",
       "9 -0.758466 -0.776689 -0.403697  0.794827  0.638829  1.263870 -0.338494   \n",
       "\n",
       "         7         8         9   ...        90        91        92        93  \\\n",
       "0  0.157618 -0.460766 -0.307029  ... -0.059417 -0.942780 -0.111691 -2.070029   \n",
       "1  1.668944  0.352837 -0.116424  ...  0.550694 -0.438547  1.142652 -1.866966   \n",
       "2  0.894840  0.810954  0.393989  ...  0.380713  0.263325  1.028478  1.474885   \n",
       "3 -0.157221 -1.646296 -0.596573  ... -0.225170 -0.509486  0.453443 -2.014158   \n",
       "4 -1.422259 -0.469187  0.678312  ... -0.746622 -0.734250  2.259177 -0.064924   \n",
       "5  0.869819  0.157358  0.185083  ...  0.667552 -0.223644 -0.268150  1.277204   \n",
       "6 -1.253742  0.660028  0.062560  ...  0.820261  0.029104 -0.407943  1.407960   \n",
       "7  0.059475 -0.410627  0.572122  ...  0.221031 -0.016949  0.016716 -1.177183   \n",
       "8 -1.415787  0.096965  0.809276  ...  0.629898  1.809953 -2.074544 -0.717305   \n",
       "9 -0.221315  1.435449 -0.856565  ... -0.189200  0.799876  0.538126  1.293203   \n",
       "\n",
       "         94        95        96        97        98        99  \n",
       "0 -1.463647 -0.329576 -1.815151 -0.784101  0.229925 -0.866194  \n",
       "1 -0.247959  2.348660 -0.653676  0.435620 -0.530768 -0.537740  \n",
       "2  0.682138 -0.838659  0.484806  0.519732 -0.245760  0.480635  \n",
       "3 -1.147523  2.550073  2.453599  0.290546  0.041820 -0.666367  \n",
       "4 -0.744430  0.324012 -0.562406 -2.280384  0.463566 -0.461181  \n",
       "5 -1.651535 -0.017703  0.128135  0.271010 -0.191694 -0.384326  \n",
       "6  0.132683 -1.508440  1.017768  0.793832  0.184678  0.480799  \n",
       "7 -0.738414 -0.979945  0.725833  0.351370  2.047333  0.749184  \n",
       "8  0.423223 -0.089482 -1.073721  0.821171 -2.517275 -0.297529  \n",
       "9 -0.979161  1.862074  1.249311 -0.685380  0.128846  0.290700  \n",
       "\n",
       "[10 rows x 100 columns]"
      ]
     },
     "execution_count": 43,
     "metadata": {},
     "output_type": "execute_result"
    }
   ],
   "source": [
    "pd.DataFrame(items_arr2.T)"
   ]
  },
  {
   "cell_type": "markdown",
   "metadata": {},
   "source": [
    "Our first guess at filling in the matrix will simply be the matrix product:"
   ]
  },
  {
   "cell_type": "code",
   "execution_count": 44,
   "metadata": {},
   "outputs": [],
   "source": [
    "guess = users_arr2.dot(items_arr2.T)"
   ]
  },
  {
   "cell_type": "code",
   "execution_count": 45,
   "metadata": {
    "scrolled": true
   },
   "outputs": [
    {
     "data": {
      "text/plain": [
       "True"
      ]
     },
     "execution_count": 45,
     "metadata": {},
     "output_type": "execute_result"
    }
   ],
   "source": [
    "guess.shape == ratings_arr2.shape"
   ]
  },
  {
   "cell_type": "code",
   "execution_count": 46,
   "metadata": {},
   "outputs": [
    {
     "data": {
      "text/plain": [
       "array([[-1.20022042,  4.79370844, -0.16745819, ..., -0.71515764,\n",
       "        -3.29265957, -2.34612024],\n",
       "       [-9.81954999, -1.09244517, -0.76883236, ..., -3.84048632,\n",
       "        -3.63986143, -1.251285  ],\n",
       "       [ 5.11924386,  2.8856345 ,  0.52294795, ..., -3.37782545,\n",
       "         2.46092459, -0.03240239],\n",
       "       ...,\n",
       "       [-1.78409526,  0.16181232, -1.29355933, ..., -1.03771907,\n",
       "        -1.97382977, -2.89026489],\n",
       "       [ 1.85314949, -2.16815931,  1.15088825, ...,  0.0342376 ,\n",
       "         5.73579374,  1.53629352],\n",
       "       [-0.51939362, -3.31266136,  1.7857387 , ..., -0.18275941,\n",
       "         2.55671716,  0.09216439]])"
      ]
     },
     "execution_count": 46,
     "metadata": {},
     "output_type": "execute_result"
    }
   ],
   "source": [
    "guess"
   ]
  },
  {
   "cell_type": "markdown",
   "metadata": {},
   "source": [
    "Let's get a measure of error:"
   ]
  },
  {
   "cell_type": "code",
   "execution_count": 47,
   "metadata": {},
   "outputs": [
    {
     "data": {
      "text/plain": [
       "array([[ 1.20022042, -4.79370844,  0.16745819, ...,  0.71515764,\n",
       "         5.29265957,  2.34612024],\n",
       "       [12.81954999,  1.09244517,  2.76883236, ...,  3.84048632,\n",
       "         3.63986143,  1.251285  ],\n",
       "       [-0.11924386,  0.1143655 , -0.52294795, ...,  3.37782545,\n",
       "        -2.46092459,  0.03240239],\n",
       "       ...,\n",
       "       [ 1.78409526, -0.16181232,  1.29355933, ...,  6.03771907,\n",
       "         1.97382977,  4.89026489],\n",
       "       [-1.85314949,  4.16815931,  3.84911175, ..., -0.0342376 ,\n",
       "        -5.73579374, -1.53629352],\n",
       "       [ 2.51939362,  5.31266136, -1.7857387 , ...,  5.18275941,\n",
       "        -2.55671716,  4.90783561]])"
      ]
     },
     "execution_count": 47,
     "metadata": {},
     "output_type": "execute_result"
    }
   ],
   "source": [
    "ratings_arr2 - guess"
   ]
  },
  {
   "cell_type": "code",
   "execution_count": 48,
   "metadata": {},
   "outputs": [
    {
     "data": {
      "text/plain": [
       "122333.98763617325"
      ]
     },
     "execution_count": 48,
     "metadata": {},
     "output_type": "execute_result"
    }
   ],
   "source": [
    "err = (ratings_arr2 - guess)**2\n",
    "\n",
    "np.sum(err)"
   ]
  },
  {
   "cell_type": "markdown",
   "metadata": {},
   "source": [
    "Pretty terrible! But we started with random numbers and have only done one iteration. Let's see if we can do better:"
   ]
  },
  {
   "cell_type": "code",
   "execution_count": 49,
   "metadata": {},
   "outputs": [],
   "source": [
    "def als(ratings, users, items, reps=10):\n",
    "    \n",
    "    ratings_cols = ratings.T\n",
    "    for _ in range(reps):\n",
    "        new_users = []\n",
    "        for i in range(len(ratings)):\n",
    "            \n",
    "            user = LinearRegression(fit_intercept=False)\\\n",
    "            .fit(items, ratings[i]).coef_\n",
    "            new_users.append(user)\n",
    "        new_users = np.asarray(new_users)\n",
    "        \n",
    "        new_items = []\n",
    "        for i in range(len(ratings)):\n",
    "            \n",
    "            item = LinearRegression(fit_intercept=False)\\\n",
    "            .fit(new_users, ratings_cols[i]).coef_\n",
    "            new_items.append(item)\n",
    "        new_items = np.asarray(new_items)\n",
    "        \n",
    "        guess = new_users.dot(new_items.T)\n",
    "        err = 0\n",
    "        for i in range(len(ratings)):\n",
    "            for j in range(len(ratings[i])):\n",
    "                if ratings[i, j] != 0:\n",
    "                    err += (ratings[i, j] - guess[i, j])**2\n",
    "        print(err)\n",
    "        \n",
    "        items = new_items\n",
    "        \n",
    "    return new_users.dot(new_items.T)"
   ]
  },
  {
   "cell_type": "markdown",
   "metadata": {},
   "source": [
    "We should see our error decrease with more iterations:"
   ]
  },
  {
   "cell_type": "code",
   "execution_count": 50,
   "metadata": {},
   "outputs": [
    {
     "name": "stdout",
     "output_type": "stream",
     "text": [
      "8679.959268046978\n",
      "6511.270608291892\n",
      "6272.528821101911\n",
      "6190.959718973224\n",
      "6153.148460896027\n",
      "6133.158269096345\n",
      "6121.902204676269\n",
      "6115.079057339576\n",
      "6110.53807458497\n",
      "6107.25526650842\n",
      "6104.734553278032\n",
      "6102.714083690586\n",
      "6101.043135121947\n",
      "6099.629733317877\n",
      "6098.4153980187575\n",
      "6097.361480021129\n",
      "6096.441351671074\n",
      "6095.635877355333\n",
      "6094.930768740715\n",
      "6094.314999501616\n",
      "6093.77979093405\n",
      "6093.317895217616\n",
      "6092.923040928008\n",
      "6092.589488705116\n",
      "6092.311688714318\n",
      "6092.084047267304\n",
      "6091.900807755377\n",
      "6091.756039829785\n",
      "6091.643717872174\n",
      "6091.55786028533\n",
      "6091.492697436179\n",
      "6091.442838288918\n",
      "6091.403412339846\n",
      "6091.370172185086\n",
      "6091.339550794579\n",
      "6091.308674820064\n",
      "6091.275340271621\n",
      "6091.23795957393\n",
      "6091.195489713938\n",
      "6091.147350485181\n",
      "6091.093340304618\n",
      "6091.033555219434\n",
      "6090.968314883924\n",
      "6090.898097683235\n",
      "6090.823485905555\n",
      "6090.74512093579\n",
      "6090.663667825518\n",
      "6090.579788234867\n",
      "6090.494120574916\n",
      "6090.40726615071\n",
      "6090.319780165164\n",
      "6090.232166555164\n",
      "6090.144875766741\n",
      "6090.0583047180035\n",
      "6089.97279833297\n",
      "6089.88865215271\n",
      "6089.806115636624\n",
      "6089.7253958574665\n",
      "6089.646661367725\n",
      "6089.570046076186\n",
      "6089.495653019978\n",
      "6089.42355795571\n",
      "6089.353812721256\n",
      "6089.2864483407975\n",
      "6089.2214778621965\n",
      "6089.158898925911\n",
      "6089.098696073564\n",
      "6089.0408428084065\n",
      "6088.985303423841\n",
      "6088.932034617502\n",
      "6088.880986909205\n",
      "6088.832105880804\n",
      "6088.785333255753\n",
      "6088.740607835151\n",
      "6088.697866305416\n",
      "6088.657043932685\n",
      "6088.618075156446\n",
      "6088.580894094861\n",
      "6088.545434972029\n",
      "6088.511632477486\n",
      "6088.479422065759\n",
      "6088.448740204346\n",
      "6088.419524576427\n",
      "6088.391714244569\n",
      "6088.365249780573\n",
      "6088.34007336595\n",
      "6088.316128867694\n",
      "6088.293361892148\n",
      "6088.271719820598\n",
      "6088.251151829302\n",
      "6088.231608896124\n",
      "6088.213043795922\n",
      "6088.195411086732\n",
      "6088.178667087867\n",
      "6088.162769851853\n",
      "6088.147679130762\n",
      "6088.133356338637\n",
      "6088.119764510175\n",
      "6088.106868257158\n",
      "6088.094633722614\n"
     ]
    },
    {
     "data": {
      "text/plain": [
       "array([[ 0.21995462,  1.23529524, -0.40263864, ..., -0.07541482,\n",
       "         0.07744066, -0.01191289],\n",
       "       [ 2.87073575,  0.21173177,  1.76945471, ...,  0.97928197,\n",
       "         0.20104584,  0.92905247],\n",
       "       [ 6.77077847,  2.5889809 ,  0.18942039, ...,  0.05289979,\n",
       "         0.83680627,  0.66474357],\n",
       "       ...,\n",
       "       [ 1.37968422, -0.33470618,  0.79340081, ...,  0.58204933,\n",
       "         0.39782614,  0.4555666 ],\n",
       "       [ 0.69625183,  2.60987891,  5.21806973, ...,  0.711433  ,\n",
       "        -0.25176379,  0.03418347],\n",
       "       [ 2.58584431,  1.06428306,  0.68004929, ...,  1.3844502 ,\n",
       "        -0.4701946 ,  1.02692231]])"
      ]
     },
     "execution_count": 50,
     "metadata": {},
     "output_type": "execute_result"
    }
   ],
   "source": [
    "als(ratings_arr2, users_arr2, items_arr2, reps=100)"
   ]
  }
 ],
 "metadata": {
  "kernelspec": {
   "display_name": "Python (learn-env)",
   "language": "python",
   "name": "learn-env"
  },
  "language_info": {
   "codemirror_mode": {
    "name": "ipython",
    "version": 3
   },
   "file_extension": ".py",
   "mimetype": "text/x-python",
   "name": "python",
   "nbconvert_exporter": "python",
   "pygments_lexer": "ipython3",
   "version": "3.8.5"
  }
 },
 "nbformat": 4,
 "nbformat_minor": 2
}
