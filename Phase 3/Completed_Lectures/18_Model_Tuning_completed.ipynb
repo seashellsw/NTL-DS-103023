{
 "cells": [
  {
   "cell_type": "markdown",
   "metadata": {},
   "source": [
    "# Model Tuning: Grid Search + Pipeline"
   ]
  },
  {
   "cell_type": "code",
   "execution_count": 27,
   "metadata": {
    "ExecuteTime": {
     "end_time": "2021-10-28T04:05:08.822957Z",
     "start_time": "2021-10-28T04:05:08.819534Z"
    }
   },
   "outputs": [],
   "source": [
    "import numpy as np\n",
    "import pandas as pd\n",
    "from matplotlib import pyplot as plt\n",
    "import seaborn as sns\n",
    "from scipy import stats as stats\n",
    "\n",
    "from sklearn.linear_model import LogisticRegression\n",
    "from sklearn.tree import DecisionTreeClassifier, plot_tree\n",
    "\n",
    "from sklearn.metrics import precision_score, recall_score\n",
    "from sklearn.model_selection import train_test_split, GridSearchCV,\\\n",
    "cross_val_score, RandomizedSearchCV\n",
    "\n",
    "from sklearn.preprocessing import OneHotEncoder, StandardScaler\n",
    "from sklearn.impute import SimpleImputer\n",
    "from sklearn.pipeline import Pipeline\n",
    "from sklearn.compose import ColumnTransformer"
   ]
  },
  {
   "cell_type": "markdown",
   "metadata": {
    "heading_collapsed": true
   },
   "source": [
    "# Objectives"
   ]
  },
  {
   "cell_type": "markdown",
   "metadata": {
    "hidden": true
   },
   "source": [
    "- Explain what hyperparameters are\n",
    "- Describe the purpose of grid searching\n",
    "- Implement grid searching for the purposes of model optimization."
   ]
  },
  {
   "cell_type": "markdown",
   "metadata": {
    "heading_collapsed": true
   },
   "source": [
    "# Model Tuning"
   ]
  },
  {
   "cell_type": "markdown",
   "metadata": {
    "hidden": true
   },
   "source": [
    "![](https://imgs.xkcd.com/comics/machine_learning.png)"
   ]
  },
  {
   "cell_type": "markdown",
   "metadata": {
    "heading_collapsed": true,
    "hidden": true
   },
   "source": [
    "## Hyperparameters"
   ]
  },
  {
   "cell_type": "markdown",
   "metadata": {
    "hidden": true
   },
   "source": [
    "Many of the models we have looked at are really *families* of models in the sense that they make use of **hyperparameters**."
   ]
  },
  {
   "cell_type": "markdown",
   "metadata": {
    "hidden": true
   },
   "source": [
    "Thus for example the $k$-nearest-neighbors algorithm allows us to make:\n",
    "\n",
    "- a 1-nearest-neighbor model\n",
    "- a 2-nearest-neighbors model\n",
    "- a 3-nearest-neighbors model\n",
    "- etc."
   ]
  },
  {
   "cell_type": "markdown",
   "metadata": {
    "hidden": true
   },
   "source": [
    "Or, for another example, the decision tree algorithm allows us to make:\n",
    "\n",
    "- a classifier that branches according to information gain\n",
    "- a classifier that branches according to Gini impurity\n",
    "- a regressor that branches according to mean squared error\n",
    "- etc."
   ]
  },
  {
   "cell_type": "markdown",
   "metadata": {
    "hidden": true
   },
   "source": [
    "Depending on the sort of problem and data at hand, it is natural to experiment with different values of these hyperparameters to try to improve model performance."
   ]
  },
  {
   "cell_type": "markdown",
   "metadata": {
    "hidden": true
   },
   "source": [
    "> We can think of these **hyperparameters** as _dials_ of the base model\n",
    "\n",
    "<img width=60% src='images/dials.png'/>"
   ]
  },
  {
   "cell_type": "markdown",
   "metadata": {
    "heading_collapsed": true,
    "hidden": true
   },
   "source": [
    "### Difference from Parametric / Non-Parametric Models"
   ]
  },
  {
   "cell_type": "markdown",
   "metadata": {
    "hidden": true
   },
   "source": [
    "Contrast the notion of hyperparameters with the distinction between parametric and non-parametric models."
   ]
  },
  {
   "cell_type": "markdown",
   "metadata": {
    "hidden": true
   },
   "source": [
    "A linear regression model is parametric in the sense that we start with a given model *form* and we then search for the optimal parameters to fill in that form. But *those* parameters are not the sort we might tweak for the purposes of improving model performance. On the contrary, there is one best set of parameters, and the training of the model is a matter of finding those optimal values."
   ]
  },
  {
   "cell_type": "markdown",
   "metadata": {
    "heading_collapsed": true,
    "hidden": true
   },
   "source": [
    "## Data Example"
   ]
  },
  {
   "cell_type": "markdown",
   "metadata": {
    "hidden": true
   },
   "source": [
    "![Penguins](https://raw.githubusercontent.com/allisonhorst/palmerpenguins/69530276d74b99df81cc385f4e95c644da69ebfa/man/figures/lter_penguins.png)\n",
    "\n",
    "> Images source: @allison_horst [github.com/allisonhorst/penguins](github.com/allisonhorst/penguins)"
   ]
  },
  {
   "cell_type": "code",
   "execution_count": 2,
   "metadata": {
    "ExecuteTime": {
     "end_time": "2021-10-28T03:33:19.245056Z",
     "start_time": "2021-10-28T03:33:19.234933Z"
    },
    "hidden": true
   },
   "outputs": [],
   "source": [
    "penguins = sns.load_dataset('penguins')"
   ]
  },
  {
   "cell_type": "markdown",
   "metadata": {
    "hidden": true
   },
   "source": [
    "![Bill length & depth](https://raw.githubusercontent.com/allisonhorst/palmerpenguins/69530276d74b99df81cc385f4e95c644da69ebfa/man/figures/culmen_depth.png)\n",
    "\n",
    "> Images source: @allison_horst [github.com/allisonhorst/penguins](github.com/allisonhorst/penguins)"
   ]
  },
  {
   "cell_type": "code",
   "execution_count": 3,
   "metadata": {
    "ExecuteTime": {
     "end_time": "2021-10-28T03:33:20.583442Z",
     "start_time": "2021-10-28T03:33:20.566368Z"
    },
    "hidden": true
   },
   "outputs": [
    {
     "data": {
      "text/html": [
       "<div>\n",
       "<style scoped>\n",
       "    .dataframe tbody tr th:only-of-type {\n",
       "        vertical-align: middle;\n",
       "    }\n",
       "\n",
       "    .dataframe tbody tr th {\n",
       "        vertical-align: top;\n",
       "    }\n",
       "\n",
       "    .dataframe thead th {\n",
       "        text-align: right;\n",
       "    }\n",
       "</style>\n",
       "<table border=\"1\" class=\"dataframe\">\n",
       "  <thead>\n",
       "    <tr style=\"text-align: right;\">\n",
       "      <th></th>\n",
       "      <th>species</th>\n",
       "      <th>island</th>\n",
       "      <th>bill_length_mm</th>\n",
       "      <th>bill_depth_mm</th>\n",
       "      <th>flipper_length_mm</th>\n",
       "      <th>body_mass_g</th>\n",
       "      <th>sex</th>\n",
       "    </tr>\n",
       "  </thead>\n",
       "  <tbody>\n",
       "    <tr>\n",
       "      <th>0</th>\n",
       "      <td>Adelie</td>\n",
       "      <td>Torgersen</td>\n",
       "      <td>39.1</td>\n",
       "      <td>18.7</td>\n",
       "      <td>181.0</td>\n",
       "      <td>3750.0</td>\n",
       "      <td>Male</td>\n",
       "    </tr>\n",
       "    <tr>\n",
       "      <th>1</th>\n",
       "      <td>Adelie</td>\n",
       "      <td>Torgersen</td>\n",
       "      <td>39.5</td>\n",
       "      <td>17.4</td>\n",
       "      <td>186.0</td>\n",
       "      <td>3800.0</td>\n",
       "      <td>Female</td>\n",
       "    </tr>\n",
       "    <tr>\n",
       "      <th>2</th>\n",
       "      <td>Adelie</td>\n",
       "      <td>Torgersen</td>\n",
       "      <td>40.3</td>\n",
       "      <td>18.0</td>\n",
       "      <td>195.0</td>\n",
       "      <td>3250.0</td>\n",
       "      <td>Female</td>\n",
       "    </tr>\n",
       "    <tr>\n",
       "      <th>3</th>\n",
       "      <td>Adelie</td>\n",
       "      <td>Torgersen</td>\n",
       "      <td>NaN</td>\n",
       "      <td>NaN</td>\n",
       "      <td>NaN</td>\n",
       "      <td>NaN</td>\n",
       "      <td>NaN</td>\n",
       "    </tr>\n",
       "    <tr>\n",
       "      <th>4</th>\n",
       "      <td>Adelie</td>\n",
       "      <td>Torgersen</td>\n",
       "      <td>36.7</td>\n",
       "      <td>19.3</td>\n",
       "      <td>193.0</td>\n",
       "      <td>3450.0</td>\n",
       "      <td>Female</td>\n",
       "    </tr>\n",
       "  </tbody>\n",
       "</table>\n",
       "</div>"
      ],
      "text/plain": [
       "  species     island  bill_length_mm  bill_depth_mm  flipper_length_mm  \\\n",
       "0  Adelie  Torgersen            39.1           18.7              181.0   \n",
       "1  Adelie  Torgersen            39.5           17.4              186.0   \n",
       "2  Adelie  Torgersen            40.3           18.0              195.0   \n",
       "3  Adelie  Torgersen             NaN            NaN                NaN   \n",
       "4  Adelie  Torgersen            36.7           19.3              193.0   \n",
       "\n",
       "   body_mass_g     sex  \n",
       "0       3750.0    Male  \n",
       "1       3800.0  Female  \n",
       "2       3250.0  Female  \n",
       "3          NaN     NaN  \n",
       "4       3450.0  Female  "
      ]
     },
     "execution_count": 3,
     "metadata": {},
     "output_type": "execute_result"
    }
   ],
   "source": [
    "penguins.head()"
   ]
  },
  {
   "cell_type": "code",
   "execution_count": 4,
   "metadata": {
    "ExecuteTime": {
     "end_time": "2021-10-28T03:33:21.461254Z",
     "start_time": "2021-10-28T03:33:21.450522Z"
    },
    "scrolled": true
   },
   "outputs": [
    {
     "name": "stdout",
     "output_type": "stream",
     "text": [
      "<class 'pandas.core.frame.DataFrame'>\n",
      "RangeIndex: 344 entries, 0 to 343\n",
      "Data columns (total 7 columns):\n",
      " #   Column             Non-Null Count  Dtype  \n",
      "---  ------             --------------  -----  \n",
      " 0   species            344 non-null    object \n",
      " 1   island             344 non-null    object \n",
      " 2   bill_length_mm     342 non-null    float64\n",
      " 3   bill_depth_mm      342 non-null    float64\n",
      " 4   flipper_length_mm  342 non-null    float64\n",
      " 5   body_mass_g        342 non-null    float64\n",
      " 6   sex                333 non-null    object \n",
      "dtypes: float64(4), object(3)\n",
      "memory usage: 18.9+ KB\n"
     ]
    }
   ],
   "source": [
    "penguins.info()"
   ]
  },
  {
   "cell_type": "code",
   "execution_count": 5,
   "metadata": {},
   "outputs": [
    {
     "data": {
      "text/html": [
       "<div>\n",
       "<style scoped>\n",
       "    .dataframe tbody tr th:only-of-type {\n",
       "        vertical-align: middle;\n",
       "    }\n",
       "\n",
       "    .dataframe tbody tr th {\n",
       "        vertical-align: top;\n",
       "    }\n",
       "\n",
       "    .dataframe thead th {\n",
       "        text-align: right;\n",
       "    }\n",
       "</style>\n",
       "<table border=\"1\" class=\"dataframe\">\n",
       "  <thead>\n",
       "    <tr style=\"text-align: right;\">\n",
       "      <th></th>\n",
       "      <th>bill_length_mm</th>\n",
       "      <th>bill_depth_mm</th>\n",
       "      <th>flipper_length_mm</th>\n",
       "      <th>body_mass_g</th>\n",
       "    </tr>\n",
       "  </thead>\n",
       "  <tbody>\n",
       "    <tr>\n",
       "      <th>count</th>\n",
       "      <td>342.000000</td>\n",
       "      <td>342.000000</td>\n",
       "      <td>342.000000</td>\n",
       "      <td>342.000000</td>\n",
       "    </tr>\n",
       "    <tr>\n",
       "      <th>mean</th>\n",
       "      <td>43.921930</td>\n",
       "      <td>17.151170</td>\n",
       "      <td>200.915205</td>\n",
       "      <td>4201.754386</td>\n",
       "    </tr>\n",
       "    <tr>\n",
       "      <th>std</th>\n",
       "      <td>5.459584</td>\n",
       "      <td>1.974793</td>\n",
       "      <td>14.061714</td>\n",
       "      <td>801.954536</td>\n",
       "    </tr>\n",
       "    <tr>\n",
       "      <th>min</th>\n",
       "      <td>32.100000</td>\n",
       "      <td>13.100000</td>\n",
       "      <td>172.000000</td>\n",
       "      <td>2700.000000</td>\n",
       "    </tr>\n",
       "    <tr>\n",
       "      <th>25%</th>\n",
       "      <td>39.225000</td>\n",
       "      <td>15.600000</td>\n",
       "      <td>190.000000</td>\n",
       "      <td>3550.000000</td>\n",
       "    </tr>\n",
       "    <tr>\n",
       "      <th>50%</th>\n",
       "      <td>44.450000</td>\n",
       "      <td>17.300000</td>\n",
       "      <td>197.000000</td>\n",
       "      <td>4050.000000</td>\n",
       "    </tr>\n",
       "    <tr>\n",
       "      <th>75%</th>\n",
       "      <td>48.500000</td>\n",
       "      <td>18.700000</td>\n",
       "      <td>213.000000</td>\n",
       "      <td>4750.000000</td>\n",
       "    </tr>\n",
       "    <tr>\n",
       "      <th>max</th>\n",
       "      <td>59.600000</td>\n",
       "      <td>21.500000</td>\n",
       "      <td>231.000000</td>\n",
       "      <td>6300.000000</td>\n",
       "    </tr>\n",
       "  </tbody>\n",
       "</table>\n",
       "</div>"
      ],
      "text/plain": [
       "       bill_length_mm  bill_depth_mm  flipper_length_mm  body_mass_g\n",
       "count      342.000000     342.000000         342.000000   342.000000\n",
       "mean        43.921930      17.151170         200.915205  4201.754386\n",
       "std          5.459584       1.974793          14.061714   801.954536\n",
       "min         32.100000      13.100000         172.000000  2700.000000\n",
       "25%         39.225000      15.600000         190.000000  3550.000000\n",
       "50%         44.450000      17.300000         197.000000  4050.000000\n",
       "75%         48.500000      18.700000         213.000000  4750.000000\n",
       "max         59.600000      21.500000         231.000000  6300.000000"
      ]
     },
     "execution_count": 5,
     "metadata": {},
     "output_type": "execute_result"
    }
   ],
   "source": [
    "penguins.describe()"
   ]
  },
  {
   "cell_type": "markdown",
   "metadata": {
    "heading_collapsed": true,
    "hidden": true
   },
   "source": [
    "### Data Prep"
   ]
  },
  {
   "cell_type": "markdown",
   "metadata": {
    "hidden": true
   },
   "source": [
    "We'll try to predict species given the other columns' values. Let's dummy-out `island` and `sex`:"
   ]
  },
  {
   "cell_type": "code",
   "execution_count": 6,
   "metadata": {
    "ExecuteTime": {
     "end_time": "2021-10-28T03:33:22.756858Z",
     "start_time": "2021-10-28T03:33:22.751784Z"
    },
    "hidden": true
   },
   "outputs": [
    {
     "data": {
      "text/plain": [
       "19"
      ]
     },
     "execution_count": 6,
     "metadata": {},
     "output_type": "execute_result"
    }
   ],
   "source": [
    "penguins.isna().sum().sum()"
   ]
  },
  {
   "cell_type": "code",
   "execution_count": 7,
   "metadata": {
    "ExecuteTime": {
     "end_time": "2021-10-28T03:33:23.129535Z",
     "start_time": "2021-10-28T03:33:23.109712Z"
    },
    "hidden": true
   },
   "outputs": [],
   "source": [
    "penguins = penguins.dropna()"
   ]
  },
  {
   "cell_type": "code",
   "execution_count": 8,
   "metadata": {
    "ExecuteTime": {
     "end_time": "2021-10-28T03:33:23.154283Z",
     "start_time": "2021-10-28T03:33:23.151406Z"
    },
    "hidden": true,
    "scrolled": true
   },
   "outputs": [
    {
     "data": {
      "text/plain": [
       "0      Adelie\n",
       "1      Adelie\n",
       "2      Adelie\n",
       "4      Adelie\n",
       "5      Adelie\n",
       "        ...  \n",
       "338    Gentoo\n",
       "340    Gentoo\n",
       "341    Gentoo\n",
       "342    Gentoo\n",
       "343    Gentoo\n",
       "Name: species, Length: 333, dtype: object"
      ]
     },
     "execution_count": 8,
     "metadata": {},
     "output_type": "execute_result"
    }
   ],
   "source": [
    "y = penguins.pop('species')\n",
    "y"
   ]
  },
  {
   "cell_type": "code",
   "execution_count": 9,
   "metadata": {},
   "outputs": [
    {
     "data": {
      "text/html": [
       "<div>\n",
       "<style scoped>\n",
       "    .dataframe tbody tr th:only-of-type {\n",
       "        vertical-align: middle;\n",
       "    }\n",
       "\n",
       "    .dataframe tbody tr th {\n",
       "        vertical-align: top;\n",
       "    }\n",
       "\n",
       "    .dataframe thead th {\n",
       "        text-align: right;\n",
       "    }\n",
       "</style>\n",
       "<table border=\"1\" class=\"dataframe\">\n",
       "  <thead>\n",
       "    <tr style=\"text-align: right;\">\n",
       "      <th></th>\n",
       "      <th>island</th>\n",
       "      <th>bill_length_mm</th>\n",
       "      <th>bill_depth_mm</th>\n",
       "      <th>flipper_length_mm</th>\n",
       "      <th>body_mass_g</th>\n",
       "      <th>sex</th>\n",
       "    </tr>\n",
       "  </thead>\n",
       "  <tbody>\n",
       "    <tr>\n",
       "      <th>0</th>\n",
       "      <td>Torgersen</td>\n",
       "      <td>39.1</td>\n",
       "      <td>18.7</td>\n",
       "      <td>181.0</td>\n",
       "      <td>3750.0</td>\n",
       "      <td>Male</td>\n",
       "    </tr>\n",
       "    <tr>\n",
       "      <th>1</th>\n",
       "      <td>Torgersen</td>\n",
       "      <td>39.5</td>\n",
       "      <td>17.4</td>\n",
       "      <td>186.0</td>\n",
       "      <td>3800.0</td>\n",
       "      <td>Female</td>\n",
       "    </tr>\n",
       "    <tr>\n",
       "      <th>2</th>\n",
       "      <td>Torgersen</td>\n",
       "      <td>40.3</td>\n",
       "      <td>18.0</td>\n",
       "      <td>195.0</td>\n",
       "      <td>3250.0</td>\n",
       "      <td>Female</td>\n",
       "    </tr>\n",
       "    <tr>\n",
       "      <th>4</th>\n",
       "      <td>Torgersen</td>\n",
       "      <td>36.7</td>\n",
       "      <td>19.3</td>\n",
       "      <td>193.0</td>\n",
       "      <td>3450.0</td>\n",
       "      <td>Female</td>\n",
       "    </tr>\n",
       "    <tr>\n",
       "      <th>5</th>\n",
       "      <td>Torgersen</td>\n",
       "      <td>39.3</td>\n",
       "      <td>20.6</td>\n",
       "      <td>190.0</td>\n",
       "      <td>3650.0</td>\n",
       "      <td>Male</td>\n",
       "    </tr>\n",
       "    <tr>\n",
       "      <th>...</th>\n",
       "      <td>...</td>\n",
       "      <td>...</td>\n",
       "      <td>...</td>\n",
       "      <td>...</td>\n",
       "      <td>...</td>\n",
       "      <td>...</td>\n",
       "    </tr>\n",
       "    <tr>\n",
       "      <th>338</th>\n",
       "      <td>Biscoe</td>\n",
       "      <td>47.2</td>\n",
       "      <td>13.7</td>\n",
       "      <td>214.0</td>\n",
       "      <td>4925.0</td>\n",
       "      <td>Female</td>\n",
       "    </tr>\n",
       "    <tr>\n",
       "      <th>340</th>\n",
       "      <td>Biscoe</td>\n",
       "      <td>46.8</td>\n",
       "      <td>14.3</td>\n",
       "      <td>215.0</td>\n",
       "      <td>4850.0</td>\n",
       "      <td>Female</td>\n",
       "    </tr>\n",
       "    <tr>\n",
       "      <th>341</th>\n",
       "      <td>Biscoe</td>\n",
       "      <td>50.4</td>\n",
       "      <td>15.7</td>\n",
       "      <td>222.0</td>\n",
       "      <td>5750.0</td>\n",
       "      <td>Male</td>\n",
       "    </tr>\n",
       "    <tr>\n",
       "      <th>342</th>\n",
       "      <td>Biscoe</td>\n",
       "      <td>45.2</td>\n",
       "      <td>14.8</td>\n",
       "      <td>212.0</td>\n",
       "      <td>5200.0</td>\n",
       "      <td>Female</td>\n",
       "    </tr>\n",
       "    <tr>\n",
       "      <th>343</th>\n",
       "      <td>Biscoe</td>\n",
       "      <td>49.9</td>\n",
       "      <td>16.1</td>\n",
       "      <td>213.0</td>\n",
       "      <td>5400.0</td>\n",
       "      <td>Male</td>\n",
       "    </tr>\n",
       "  </tbody>\n",
       "</table>\n",
       "<p>333 rows × 6 columns</p>\n",
       "</div>"
      ],
      "text/plain": [
       "        island  bill_length_mm  bill_depth_mm  flipper_length_mm  body_mass_g  \\\n",
       "0    Torgersen            39.1           18.7              181.0       3750.0   \n",
       "1    Torgersen            39.5           17.4              186.0       3800.0   \n",
       "2    Torgersen            40.3           18.0              195.0       3250.0   \n",
       "4    Torgersen            36.7           19.3              193.0       3450.0   \n",
       "5    Torgersen            39.3           20.6              190.0       3650.0   \n",
       "..         ...             ...            ...                ...          ...   \n",
       "338     Biscoe            47.2           13.7              214.0       4925.0   \n",
       "340     Biscoe            46.8           14.3              215.0       4850.0   \n",
       "341     Biscoe            50.4           15.7              222.0       5750.0   \n",
       "342     Biscoe            45.2           14.8              212.0       5200.0   \n",
       "343     Biscoe            49.9           16.1              213.0       5400.0   \n",
       "\n",
       "        sex  \n",
       "0      Male  \n",
       "1    Female  \n",
       "2    Female  \n",
       "4    Female  \n",
       "5      Male  \n",
       "..      ...  \n",
       "338  Female  \n",
       "340  Female  \n",
       "341    Male  \n",
       "342  Female  \n",
       "343    Male  \n",
       "\n",
       "[333 rows x 6 columns]"
      ]
     },
     "execution_count": 9,
     "metadata": {},
     "output_type": "execute_result"
    }
   ],
   "source": [
    "penguins"
   ]
  },
  {
   "cell_type": "code",
   "execution_count": 10,
   "metadata": {
    "ExecuteTime": {
     "end_time": "2021-10-28T03:33:23.343753Z",
     "start_time": "2021-10-28T03:33:23.339442Z"
    },
    "hidden": true
   },
   "outputs": [],
   "source": [
    "# Note we're dedicating a lot of data to the testing set just for demonstrative purposes\n",
    "X_train, X_test, y_train, y_test = train_test_split(\n",
    "    penguins, y, test_size=0.5, random_state=42)"
   ]
  },
  {
   "cell_type": "code",
   "execution_count": 11,
   "metadata": {
    "ExecuteTime": {
     "end_time": "2021-10-28T03:33:23.689260Z",
     "start_time": "2021-10-28T03:33:23.683728Z"
    },
    "hidden": true
   },
   "outputs": [],
   "source": [
    "X_train_cat = X_train.select_dtypes('object')\n",
    "\n",
    "ohe = OneHotEncoder(sparse=False)\n",
    "\n",
    "dums = ohe.fit_transform(X_train_cat)\n",
    "dums_df = pd.DataFrame(dums,\n",
    "                       columns=ohe.get_feature_names(),\n",
    "                       index=X_train_cat.index)"
   ]
  },
  {
   "cell_type": "code",
   "execution_count": 12,
   "metadata": {
    "ExecuteTime": {
     "end_time": "2021-10-28T03:33:23.749194Z",
     "start_time": "2021-10-28T03:33:23.740492Z"
    }
   },
   "outputs": [
    {
     "data": {
      "text/html": [
       "<div>\n",
       "<style scoped>\n",
       "    .dataframe tbody tr th:only-of-type {\n",
       "        vertical-align: middle;\n",
       "    }\n",
       "\n",
       "    .dataframe tbody tr th {\n",
       "        vertical-align: top;\n",
       "    }\n",
       "\n",
       "    .dataframe thead th {\n",
       "        text-align: right;\n",
       "    }\n",
       "</style>\n",
       "<table border=\"1\" class=\"dataframe\">\n",
       "  <thead>\n",
       "    <tr style=\"text-align: right;\">\n",
       "      <th></th>\n",
       "      <th>x0_Biscoe</th>\n",
       "      <th>x0_Dream</th>\n",
       "      <th>x0_Torgersen</th>\n",
       "      <th>x1_Female</th>\n",
       "      <th>x1_Male</th>\n",
       "    </tr>\n",
       "  </thead>\n",
       "  <tbody>\n",
       "    <tr>\n",
       "      <th>160</th>\n",
       "      <td>0.0</td>\n",
       "      <td>1.0</td>\n",
       "      <td>0.0</td>\n",
       "      <td>1.0</td>\n",
       "      <td>0.0</td>\n",
       "    </tr>\n",
       "    <tr>\n",
       "      <th>237</th>\n",
       "      <td>1.0</td>\n",
       "      <td>0.0</td>\n",
       "      <td>0.0</td>\n",
       "      <td>0.0</td>\n",
       "      <td>1.0</td>\n",
       "    </tr>\n",
       "    <tr>\n",
       "      <th>2</th>\n",
       "      <td>0.0</td>\n",
       "      <td>0.0</td>\n",
       "      <td>1.0</td>\n",
       "      <td>1.0</td>\n",
       "      <td>0.0</td>\n",
       "    </tr>\n",
       "    <tr>\n",
       "      <th>121</th>\n",
       "      <td>0.0</td>\n",
       "      <td>0.0</td>\n",
       "      <td>1.0</td>\n",
       "      <td>0.0</td>\n",
       "      <td>1.0</td>\n",
       "    </tr>\n",
       "    <tr>\n",
       "      <th>179</th>\n",
       "      <td>0.0</td>\n",
       "      <td>1.0</td>\n",
       "      <td>0.0</td>\n",
       "      <td>0.0</td>\n",
       "      <td>1.0</td>\n",
       "    </tr>\n",
       "  </tbody>\n",
       "</table>\n",
       "</div>"
      ],
      "text/plain": [
       "     x0_Biscoe  x0_Dream  x0_Torgersen  x1_Female  x1_Male\n",
       "160        0.0       1.0           0.0        1.0      0.0\n",
       "237        1.0       0.0           0.0        0.0      1.0\n",
       "2          0.0       0.0           1.0        1.0      0.0\n",
       "121        0.0       0.0           1.0        0.0      1.0\n",
       "179        0.0       1.0           0.0        0.0      1.0"
      ]
     },
     "execution_count": 12,
     "metadata": {},
     "output_type": "execute_result"
    }
   ],
   "source": [
    "dums_df.head()"
   ]
  },
  {
   "cell_type": "code",
   "execution_count": 13,
   "metadata": {
    "ExecuteTime": {
     "end_time": "2021-10-28T03:33:23.903884Z",
     "start_time": "2021-10-28T03:33:23.896009Z"
    },
    "hidden": true
   },
   "outputs": [
    {
     "data": {
      "text/html": [
       "<div>\n",
       "<style scoped>\n",
       "    .dataframe tbody tr th:only-of-type {\n",
       "        vertical-align: middle;\n",
       "    }\n",
       "\n",
       "    .dataframe tbody tr th {\n",
       "        vertical-align: top;\n",
       "    }\n",
       "\n",
       "    .dataframe thead th {\n",
       "        text-align: right;\n",
       "    }\n",
       "</style>\n",
       "<table border=\"1\" class=\"dataframe\">\n",
       "  <thead>\n",
       "    <tr style=\"text-align: right;\">\n",
       "      <th></th>\n",
       "      <th>0</th>\n",
       "      <th>1</th>\n",
       "      <th>2</th>\n",
       "      <th>3</th>\n",
       "    </tr>\n",
       "  </thead>\n",
       "  <tbody>\n",
       "    <tr>\n",
       "      <th>160</th>\n",
       "      <td>0.362748</td>\n",
       "      <td>0.903276</td>\n",
       "      <td>-0.472344</td>\n",
       "      <td>-0.094599</td>\n",
       "    </tr>\n",
       "    <tr>\n",
       "      <th>237</th>\n",
       "      <td>0.973499</td>\n",
       "      <td>-0.977375</td>\n",
       "      <td>1.408317</td>\n",
       "      <td>2.512546</td>\n",
       "    </tr>\n",
       "    <tr>\n",
       "      <th>2</th>\n",
       "      <td>-0.725152</td>\n",
       "      <td>0.445820</td>\n",
       "      <td>-0.472344</td>\n",
       "      <td>-1.185963</td>\n",
       "    </tr>\n",
       "    <tr>\n",
       "      <th>121</th>\n",
       "      <td>-1.221387</td>\n",
       "      <td>1.360731</td>\n",
       "      <td>-0.255345</td>\n",
       "      <td>-0.882806</td>\n",
       "    </tr>\n",
       "    <tr>\n",
       "      <th>179</th>\n",
       "      <td>1.030757</td>\n",
       "      <td>0.954104</td>\n",
       "      <td>-0.110678</td>\n",
       "      <td>-0.519018</td>\n",
       "    </tr>\n",
       "    <tr>\n",
       "      <th>...</th>\n",
       "      <td>...</td>\n",
       "      <td>...</td>\n",
       "      <td>...</td>\n",
       "      <td>...</td>\n",
       "    </tr>\n",
       "    <tr>\n",
       "      <th>194</th>\n",
       "      <td>1.297960</td>\n",
       "      <td>1.004932</td>\n",
       "      <td>-0.400011</td>\n",
       "      <td>-0.822175</td>\n",
       "    </tr>\n",
       "    <tr>\n",
       "      <th>77</th>\n",
       "      <td>-1.316816</td>\n",
       "      <td>1.157417</td>\n",
       "      <td>-1.268008</td>\n",
       "      <td>-0.397756</td>\n",
       "    </tr>\n",
       "    <tr>\n",
       "      <th>112</th>\n",
       "      <td>-0.839667</td>\n",
       "      <td>0.293335</td>\n",
       "      <td>-0.617010</td>\n",
       "      <td>-1.246594</td>\n",
       "    </tr>\n",
       "    <tr>\n",
       "      <th>277</th>\n",
       "      <td>0.267318</td>\n",
       "      <td>-1.079032</td>\n",
       "      <td>1.335984</td>\n",
       "      <td>0.936132</td>\n",
       "    </tr>\n",
       "    <tr>\n",
       "      <th>108</th>\n",
       "      <td>-1.145043</td>\n",
       "      <td>-0.062464</td>\n",
       "      <td>-1.485007</td>\n",
       "      <td>-1.276910</td>\n",
       "    </tr>\n",
       "  </tbody>\n",
       "</table>\n",
       "<p>166 rows × 4 columns</p>\n",
       "</div>"
      ],
      "text/plain": [
       "            0         1         2         3\n",
       "160  0.362748  0.903276 -0.472344 -0.094599\n",
       "237  0.973499 -0.977375  1.408317  2.512546\n",
       "2   -0.725152  0.445820 -0.472344 -1.185963\n",
       "121 -1.221387  1.360731 -0.255345 -0.882806\n",
       "179  1.030757  0.954104 -0.110678 -0.519018\n",
       "..        ...       ...       ...       ...\n",
       "194  1.297960  1.004932 -0.400011 -0.822175\n",
       "77  -1.316816  1.157417 -1.268008 -0.397756\n",
       "112 -0.839667  0.293335 -0.617010 -1.246594\n",
       "277  0.267318 -1.079032  1.335984  0.936132\n",
       "108 -1.145043 -0.062464 -1.485007 -1.276910\n",
       "\n",
       "[166 rows x 4 columns]"
      ]
     },
     "execution_count": 13,
     "metadata": {},
     "output_type": "execute_result"
    }
   ],
   "source": [
    "X_train_nums = X_train.select_dtypes('float64')\n",
    "\n",
    "ss = StandardScaler()\n",
    "\n",
    "ss.fit(X_train_nums)\n",
    "nums_df = pd.DataFrame(ss.transform(X_train_nums),\n",
    "                      index=X_train_nums.index)\n",
    "nums_df"
   ]
  },
  {
   "cell_type": "code",
   "execution_count": 14,
   "metadata": {
    "ExecuteTime": {
     "end_time": "2021-10-28T03:33:24.209621Z",
     "start_time": "2021-10-28T03:33:24.206439Z"
    },
    "hidden": true,
    "scrolled": true
   },
   "outputs": [],
   "source": [
    "X_train_clean = pd.concat([nums_df, dums_df], axis=1)"
   ]
  },
  {
   "cell_type": "code",
   "execution_count": 15,
   "metadata": {
    "ExecuteTime": {
     "end_time": "2021-10-28T03:33:24.632509Z",
     "start_time": "2021-10-28T03:33:24.620549Z"
    },
    "hidden": true
   },
   "outputs": [
    {
     "data": {
      "text/html": [
       "<div>\n",
       "<style scoped>\n",
       "    .dataframe tbody tr th:only-of-type {\n",
       "        vertical-align: middle;\n",
       "    }\n",
       "\n",
       "    .dataframe tbody tr th {\n",
       "        vertical-align: top;\n",
       "    }\n",
       "\n",
       "    .dataframe thead th {\n",
       "        text-align: right;\n",
       "    }\n",
       "</style>\n",
       "<table border=\"1\" class=\"dataframe\">\n",
       "  <thead>\n",
       "    <tr style=\"text-align: right;\">\n",
       "      <th></th>\n",
       "      <th>0</th>\n",
       "      <th>1</th>\n",
       "      <th>2</th>\n",
       "      <th>3</th>\n",
       "      <th>x0_Biscoe</th>\n",
       "      <th>x0_Dream</th>\n",
       "      <th>x0_Torgersen</th>\n",
       "      <th>x1_Female</th>\n",
       "      <th>x1_Male</th>\n",
       "    </tr>\n",
       "  </thead>\n",
       "  <tbody>\n",
       "    <tr>\n",
       "      <th>160</th>\n",
       "      <td>0.362748</td>\n",
       "      <td>0.903276</td>\n",
       "      <td>-0.472344</td>\n",
       "      <td>-0.094599</td>\n",
       "      <td>0.0</td>\n",
       "      <td>1.0</td>\n",
       "      <td>0.0</td>\n",
       "      <td>1.0</td>\n",
       "      <td>0.0</td>\n",
       "    </tr>\n",
       "    <tr>\n",
       "      <th>237</th>\n",
       "      <td>0.973499</td>\n",
       "      <td>-0.977375</td>\n",
       "      <td>1.408317</td>\n",
       "      <td>2.512546</td>\n",
       "      <td>1.0</td>\n",
       "      <td>0.0</td>\n",
       "      <td>0.0</td>\n",
       "      <td>0.0</td>\n",
       "      <td>1.0</td>\n",
       "    </tr>\n",
       "    <tr>\n",
       "      <th>2</th>\n",
       "      <td>-0.725152</td>\n",
       "      <td>0.445820</td>\n",
       "      <td>-0.472344</td>\n",
       "      <td>-1.185963</td>\n",
       "      <td>0.0</td>\n",
       "      <td>0.0</td>\n",
       "      <td>1.0</td>\n",
       "      <td>1.0</td>\n",
       "      <td>0.0</td>\n",
       "    </tr>\n",
       "    <tr>\n",
       "      <th>121</th>\n",
       "      <td>-1.221387</td>\n",
       "      <td>1.360731</td>\n",
       "      <td>-0.255345</td>\n",
       "      <td>-0.882806</td>\n",
       "      <td>0.0</td>\n",
       "      <td>0.0</td>\n",
       "      <td>1.0</td>\n",
       "      <td>0.0</td>\n",
       "      <td>1.0</td>\n",
       "    </tr>\n",
       "    <tr>\n",
       "      <th>179</th>\n",
       "      <td>1.030757</td>\n",
       "      <td>0.954104</td>\n",
       "      <td>-0.110678</td>\n",
       "      <td>-0.519018</td>\n",
       "      <td>0.0</td>\n",
       "      <td>1.0</td>\n",
       "      <td>0.0</td>\n",
       "      <td>0.0</td>\n",
       "      <td>1.0</td>\n",
       "    </tr>\n",
       "  </tbody>\n",
       "</table>\n",
       "</div>"
      ],
      "text/plain": [
       "            0         1         2         3  x0_Biscoe  x0_Dream  \\\n",
       "160  0.362748  0.903276 -0.472344 -0.094599        0.0       1.0   \n",
       "237  0.973499 -0.977375  1.408317  2.512546        1.0       0.0   \n",
       "2   -0.725152  0.445820 -0.472344 -1.185963        0.0       0.0   \n",
       "121 -1.221387  1.360731 -0.255345 -0.882806        0.0       0.0   \n",
       "179  1.030757  0.954104 -0.110678 -0.519018        0.0       1.0   \n",
       "\n",
       "     x0_Torgersen  x1_Female  x1_Male  \n",
       "160           0.0        1.0      0.0  \n",
       "237           0.0        0.0      1.0  \n",
       "2             1.0        1.0      0.0  \n",
       "121           1.0        0.0      1.0  \n",
       "179           0.0        0.0      1.0  "
      ]
     },
     "execution_count": 15,
     "metadata": {},
     "output_type": "execute_result"
    }
   ],
   "source": [
    "X_train_clean.head()"
   ]
  },
  {
   "cell_type": "markdown",
   "metadata": {
    "heading_collapsed": true,
    "hidden": true
   },
   "source": [
    "#### Preparing the Test Set"
   ]
  },
  {
   "cell_type": "code",
   "execution_count": 16,
   "metadata": {
    "ExecuteTime": {
     "end_time": "2021-10-28T03:33:25.300049Z",
     "start_time": "2021-10-28T03:33:25.294945Z"
    },
    "hidden": true
   },
   "outputs": [],
   "source": [
    "X_test_cat = X_test.select_dtypes('object')\n",
    "\n",
    "test_dums = ohe.transform(X_test_cat)\n",
    "test_dums_df = pd.DataFrame(test_dums,\n",
    "                       columns=ohe.get_feature_names(),\n",
    "                      index=X_test_cat.index)"
   ]
  },
  {
   "cell_type": "code",
   "execution_count": 17,
   "metadata": {
    "ExecuteTime": {
     "end_time": "2021-10-28T03:33:25.700016Z",
     "start_time": "2021-10-28T03:33:25.695249Z"
    },
    "hidden": true
   },
   "outputs": [],
   "source": [
    "X_test_nums = X_test.select_dtypes('float64')\n",
    "\n",
    "test_nums = ss.transform(X_test_nums)\n",
    "test_nums_df = pd.DataFrame(test_nums,\n",
    "                           index=X_test_nums.index)"
   ]
  },
  {
   "cell_type": "code",
   "execution_count": 18,
   "metadata": {
    "ExecuteTime": {
     "end_time": "2021-10-28T03:33:25.735115Z",
     "start_time": "2021-10-28T03:33:25.732029Z"
    },
    "hidden": true
   },
   "outputs": [],
   "source": [
    "X_test_clean = pd.concat([test_nums_df,\n",
    "                 test_dums_df], axis=1)"
   ]
  },
  {
   "cell_type": "code",
   "execution_count": 19,
   "metadata": {
    "ExecuteTime": {
     "end_time": "2021-10-28T03:33:25.869137Z",
     "start_time": "2021-10-28T03:33:25.857740Z"
    },
    "hidden": true
   },
   "outputs": [
    {
     "data": {
      "text/html": [
       "<div>\n",
       "<style scoped>\n",
       "    .dataframe tbody tr th:only-of-type {\n",
       "        vertical-align: middle;\n",
       "    }\n",
       "\n",
       "    .dataframe tbody tr th {\n",
       "        vertical-align: top;\n",
       "    }\n",
       "\n",
       "    .dataframe thead th {\n",
       "        text-align: right;\n",
       "    }\n",
       "</style>\n",
       "<table border=\"1\" class=\"dataframe\">\n",
       "  <thead>\n",
       "    <tr style=\"text-align: right;\">\n",
       "      <th></th>\n",
       "      <th>0</th>\n",
       "      <th>1</th>\n",
       "      <th>2</th>\n",
       "      <th>3</th>\n",
       "      <th>x0_Biscoe</th>\n",
       "      <th>x0_Dream</th>\n",
       "      <th>x0_Torgersen</th>\n",
       "      <th>x1_Female</th>\n",
       "      <th>x1_Male</th>\n",
       "    </tr>\n",
       "  </thead>\n",
       "  <tbody>\n",
       "    <tr>\n",
       "      <th>30</th>\n",
       "      <td>-0.877839</td>\n",
       "      <td>-0.214949</td>\n",
       "      <td>-1.702007</td>\n",
       "      <td>-1.185963</td>\n",
       "      <td>0.0</td>\n",
       "      <td>1.0</td>\n",
       "      <td>0.0</td>\n",
       "      <td>1.0</td>\n",
       "      <td>0.0</td>\n",
       "    </tr>\n",
       "    <tr>\n",
       "      <th>317</th>\n",
       "      <td>0.534522</td>\n",
       "      <td>-1.282345</td>\n",
       "      <td>1.480650</td>\n",
       "      <td>0.784554</td>\n",
       "      <td>1.0</td>\n",
       "      <td>0.0</td>\n",
       "      <td>0.0</td>\n",
       "      <td>1.0</td>\n",
       "      <td>0.0</td>\n",
       "    </tr>\n",
       "    <tr>\n",
       "      <th>79</th>\n",
       "      <td>-0.381604</td>\n",
       "      <td>1.004932</td>\n",
       "      <td>-0.472344</td>\n",
       "      <td>-0.276493</td>\n",
       "      <td>0.0</td>\n",
       "      <td>0.0</td>\n",
       "      <td>1.0</td>\n",
       "      <td>0.0</td>\n",
       "      <td>1.0</td>\n",
       "    </tr>\n",
       "    <tr>\n",
       "      <th>201</th>\n",
       "      <td>1.088015</td>\n",
       "      <td>0.090021</td>\n",
       "      <td>-0.255345</td>\n",
       "      <td>-0.670597</td>\n",
       "      <td>0.0</td>\n",
       "      <td>1.0</td>\n",
       "      <td>0.0</td>\n",
       "      <td>1.0</td>\n",
       "      <td>0.0</td>\n",
       "    </tr>\n",
       "    <tr>\n",
       "      <th>63</th>\n",
       "      <td>-0.572464</td>\n",
       "      <td>0.547477</td>\n",
       "      <td>-0.689343</td>\n",
       "      <td>-0.215862</td>\n",
       "      <td>1.0</td>\n",
       "      <td>0.0</td>\n",
       "      <td>0.0</td>\n",
       "      <td>0.0</td>\n",
       "      <td>1.0</td>\n",
       "    </tr>\n",
       "  </tbody>\n",
       "</table>\n",
       "</div>"
      ],
      "text/plain": [
       "            0         1         2         3  x0_Biscoe  x0_Dream  \\\n",
       "30  -0.877839 -0.214949 -1.702007 -1.185963        0.0       1.0   \n",
       "317  0.534522 -1.282345  1.480650  0.784554        1.0       0.0   \n",
       "79  -0.381604  1.004932 -0.472344 -0.276493        0.0       0.0   \n",
       "201  1.088015  0.090021 -0.255345 -0.670597        0.0       1.0   \n",
       "63  -0.572464  0.547477 -0.689343 -0.215862        1.0       0.0   \n",
       "\n",
       "     x0_Torgersen  x1_Female  x1_Male  \n",
       "30            0.0        1.0      0.0  \n",
       "317           0.0        1.0      0.0  \n",
       "79            1.0        0.0      1.0  \n",
       "201           0.0        1.0      0.0  \n",
       "63            0.0        0.0      1.0  "
      ]
     },
     "execution_count": 19,
     "metadata": {},
     "output_type": "execute_result"
    }
   ],
   "source": [
    "X_test_clean.head()"
   ]
  },
  {
   "cell_type": "markdown",
   "metadata": {
    "heading_collapsed": true,
    "hidden": true
   },
   "source": [
    "### Trying Different Models & Values"
   ]
  },
  {
   "cell_type": "markdown",
   "metadata": {
    "heading_collapsed": true,
    "hidden": true
   },
   "source": [
    "#### Decision Tree"
   ]
  },
  {
   "cell_type": "code",
   "execution_count": 20,
   "metadata": {
    "ExecuteTime": {
     "end_time": "2021-10-28T03:33:29.217048Z",
     "start_time": "2021-10-28T03:33:29.210785Z"
    },
    "hidden": true
   },
   "outputs": [
    {
     "data": {
      "text/plain": [
       "DecisionTreeClassifier(random_state=10)"
      ]
     },
     "execution_count": 20,
     "metadata": {},
     "output_type": "execute_result"
    }
   ],
   "source": [
    "dt = DecisionTreeClassifier(random_state=10)\n",
    "\n",
    "dt.fit(X_train_clean, y_train)"
   ]
  },
  {
   "cell_type": "code",
   "execution_count": 21,
   "metadata": {},
   "outputs": [
    {
     "data": {
      "text/plain": [
       "1.0"
      ]
     },
     "execution_count": 21,
     "metadata": {},
     "output_type": "execute_result"
    }
   ],
   "source": [
    "dt.score(X_train_clean, y_train)"
   ]
  },
  {
   "cell_type": "code",
   "execution_count": 22,
   "metadata": {
    "ExecuteTime": {
     "end_time": "2021-10-28T03:33:29.257276Z",
     "start_time": "2021-10-28T03:33:29.251732Z"
    },
    "hidden": true
   },
   "outputs": [
    {
     "data": {
      "text/plain": [
       "0.9700598802395209"
      ]
     },
     "execution_count": 22,
     "metadata": {},
     "output_type": "execute_result"
    }
   ],
   "source": [
    "dt.score(X_test_clean, y_test)"
   ]
  },
  {
   "cell_type": "markdown",
   "metadata": {
    "heading_collapsed": true,
    "hidden": true
   },
   "source": [
    "##### Changing the branching criterion"
   ]
  },
  {
   "cell_type": "code",
   "execution_count": 23,
   "metadata": {
    "ExecuteTime": {
     "end_time": "2021-10-28T03:33:29.988524Z",
     "start_time": "2021-10-28T03:33:29.982468Z"
    },
    "hidden": true
   },
   "outputs": [
    {
     "data": {
      "text/plain": [
       "DecisionTreeClassifier(criterion='entropy', random_state=10)"
      ]
     },
     "execution_count": 23,
     "metadata": {},
     "output_type": "execute_result"
    }
   ],
   "source": [
    "dt2 = DecisionTreeClassifier(criterion='entropy',\n",
    "                          random_state=10)\n",
    "\n",
    "dt2.fit(X_train_clean, y_train)"
   ]
  },
  {
   "cell_type": "code",
   "execution_count": 26,
   "metadata": {},
   "outputs": [
    {
     "data": {
      "text/plain": [
       "1.0"
      ]
     },
     "execution_count": 26,
     "metadata": {},
     "output_type": "execute_result"
    }
   ],
   "source": [
    "dt2.score(X_train_clean, y_train)"
   ]
  },
  {
   "cell_type": "code",
   "execution_count": 25,
   "metadata": {
    "ExecuteTime": {
     "end_time": "2021-10-28T03:33:30.469779Z",
     "start_time": "2021-10-28T03:33:30.463825Z"
    },
    "hidden": true,
    "scrolled": true
   },
   "outputs": [
    {
     "data": {
      "text/plain": [
       "0.9700598802395209"
      ]
     },
     "execution_count": 25,
     "metadata": {},
     "output_type": "execute_result"
    }
   ],
   "source": [
    "dt2.score(X_test_clean, y_test)"
   ]
  },
  {
   "cell_type": "markdown",
   "metadata": {},
   "source": [
    "##### Changing the max_depth"
   ]
  },
  {
   "cell_type": "code",
   "execution_count": 29,
   "metadata": {},
   "outputs": [
    {
     "data": {
      "image/png": "[encoded data removed]",
      "text/plain": [
       "<Figure size 432x288 with 1 Axes>"
      ]
     },
     "metadata": {
      "needs_background": "light"
     },
     "output_type": "display_data"
    }
   ],
   "source": [
    "plot_tree(dt2);"
   ]
  },
  {
   "cell_type": "code",
   "execution_count": 31,
   "metadata": {},
   "outputs": [
    {
     "data": {
      "text/plain": [
       "4"
      ]
     },
     "execution_count": 31,
     "metadata": {},
     "output_type": "execute_result"
    }
   ],
   "source": [
    "dt2.get_depth()"
   ]
  },
  {
   "cell_type": "code",
   "execution_count": 48,
   "metadata": {},
   "outputs": [
    {
     "data": {
      "text/plain": [
       "DecisionTreeClassifier(criterion='entropy', max_depth=3, random_state=10)"
      ]
     },
     "execution_count": 48,
     "metadata": {},
     "output_type": "execute_result"
    }
   ],
   "source": [
    "# How much tho?\n",
    "dt3 = DecisionTreeClassifier(max_depth=3, criterion='entropy',\n",
    "                          random_state=10)\n",
    "\n",
    "dt3.fit(X_train_clean, y_train)"
   ]
  },
  {
   "cell_type": "code",
   "execution_count": 49,
   "metadata": {},
   "outputs": [
    {
     "data": {
      "text/plain": [
       "0.9939759036144579"
      ]
     },
     "execution_count": 49,
     "metadata": {},
     "output_type": "execute_result"
    }
   ],
   "source": [
    "dt3.score(X_train_clean, y_train)"
   ]
  },
  {
   "cell_type": "code",
   "execution_count": 50,
   "metadata": {
    "scrolled": true
   },
   "outputs": [
    {
     "data": {
      "text/plain": [
       "0.9281437125748503"
      ]
     },
     "execution_count": 50,
     "metadata": {},
     "output_type": "execute_result"
    }
   ],
   "source": [
    "dt3.score(X_test_clean, y_test)"
   ]
  },
  {
   "cell_type": "code",
   "execution_count": 51,
   "metadata": {
    "scrolled": true
   },
   "outputs": [
    {
     "data": {
      "image/png": "[encoded data removed]",
      "text/plain": [
       "<Figure size 432x288 with 1 Axes>"
      ]
     },
     "metadata": {
      "needs_background": "light"
     },
     "output_type": "display_data"
    }
   ],
   "source": [
    "plot_tree(dt3);"
   ]
  },
  {
   "cell_type": "code",
   "execution_count": 62,
   "metadata": {},
   "outputs": [
    {
     "data": {
      "text/plain": [
       "DecisionTreeClassifier(criterion='entropy', min_samples_split=7,\n",
       "                       random_state=10)"
      ]
     },
     "execution_count": 62,
     "metadata": {},
     "output_type": "execute_result"
    }
   ],
   "source": [
    "dt4 = DecisionTreeClassifier(min_samples_split=7, criterion='entropy',\n",
    "                          random_state=10)\n",
    "\n",
    "dt4.fit(X_train_clean, y_train)"
   ]
  },
  {
   "cell_type": "code",
   "execution_count": 63,
   "metadata": {},
   "outputs": [
    {
     "data": {
      "text/plain": [
       "0.9939759036144579"
      ]
     },
     "execution_count": 63,
     "metadata": {},
     "output_type": "execute_result"
    }
   ],
   "source": [
    "dt4.score(X_train_clean, y_train)"
   ]
  },
  {
   "cell_type": "code",
   "execution_count": 64,
   "metadata": {
    "scrolled": true
   },
   "outputs": [
    {
     "data": {
      "text/plain": [
       "0.9281437125748503"
      ]
     },
     "execution_count": 64,
     "metadata": {},
     "output_type": "execute_result"
    }
   ],
   "source": [
    "dt4.score(X_test_clean, y_test)"
   ]
  },
  {
   "cell_type": "code",
   "execution_count": 65,
   "metadata": {},
   "outputs": [
    {
     "data": {
      "image/png": "[encoded data removed]",
      "text/plain": [
       "<Figure size 432x288 with 1 Axes>"
      ]
     },
     "metadata": {
      "needs_background": "light"
     },
     "output_type": "display_data"
    }
   ],
   "source": [
    "plot_tree(dt4);"
   ]
  },
  {
   "cell_type": "markdown",
   "metadata": {
    "heading_collapsed": true
   },
   "source": [
    "# Automatically Searching with Grid Search"
   ]
  },
  {
   "cell_type": "markdown",
   "metadata": {
    "hidden": true
   },
   "source": [
    "It's not a bad idea to experiment with the values of your models' hyperparameters a bit as you're getting a feel for your models' performance. But there are more systematic ways of going about the search for optimal hyperparameters. One method of hyperparameter tuning is **grid searching**. "
   ]
  },
  {
   "cell_type": "markdown",
   "metadata": {
    "hidden": true
   },
   "source": [
    "The idea is to build multiple models with different hyperparameter values and then see which one performs the best. The hyperparameters and the values to try form a sort of *grid* along which we are looking for the best performance. For example:\n",
    "\n",
    "\n",
    "    1           | 'minkowski' | 'uniform'\n",
    "    3           | 'manhattan' | 'distance'\n",
    "    5           |\n",
    "    ______________________________________\n",
    "    n_neighbors | metric      | weights"
   ]
  },
  {
   "cell_type": "markdown",
   "metadata": {
    "hidden": true
   },
   "source": [
    "Scikit-Learn has a [`GridSearchCV`](https://scikit-learn.org/stable/modules/generated/sklearn.model_selection.GridSearchCV.html) class whose `fit()` method runs this procedure. Note that this can be quite computationally expensive since:\n",
    "\n",
    "- A model is constructed for each combination of hyperparameter values that we input; and\n",
    "- Each model is cross-validated."
   ]
  },
  {
   "cell_type": "code",
   "execution_count": 67,
   "metadata": {},
   "outputs": [
    {
     "data": {
      "text/plain": [
       "60"
      ]
     },
     "execution_count": 67,
     "metadata": {},
     "output_type": "execute_result"
    }
   ],
   "source": [
    "3 * 2 * 2 * 5"
   ]
  },
  {
   "cell_type": "markdown",
   "metadata": {
    "heading_collapsed": true,
    "hidden": true
   },
   "source": [
    "### `GridSearchCV`"
   ]
  },
  {
   "cell_type": "code",
   "execution_count": 69,
   "metadata": {
    "ExecuteTime": {
     "end_time": "2021-10-28T03:33:34.611150Z",
     "start_time": "2021-10-28T03:33:34.608300Z"
    },
    "hidden": true,
    "scrolled": true
   },
   "outputs": [
    {
     "data": {
      "text/plain": [
       "{'max_depth': [None, 2, 3, 4, 5],\n",
       " 'min_samples_split': [2, 3, 4, 5],\n",
       " 'min_samples_leaf': [1, 2, 3, 4]}"
      ]
     },
     "execution_count": 69,
     "metadata": {},
     "output_type": "execute_result"
    }
   ],
   "source": [
    "# Define the parameter grid\n",
    "\n",
    "grid = {'max_depth': [None, 2, 3, 4, 5],\n",
    "       'min_samples_split': [2, 3, 4, 5],\n",
    "       'min_samples_leaf': [1, 2, 3, 4]}\n",
    "grid"
   ]
  },
  {
   "cell_type": "markdown",
   "metadata": {
    "hidden": true
   },
   "source": [
    "**Question: How many models will we be constructing with this grid?**"
   ]
  },
  {
   "cell_type": "code",
   "execution_count": 71,
   "metadata": {},
   "outputs": [
    {
     "data": {
      "text/plain": [
       "400"
      ]
     },
     "execution_count": 71,
     "metadata": {},
     "output_type": "execute_result"
    }
   ],
   "source": [
    "5 * 4 * 4 * 5"
   ]
  },
  {
   "cell_type": "code",
   "execution_count": 72,
   "metadata": {},
   "outputs": [],
   "source": [
    "dt_model = DecisionTreeClassifier(random_state=10)"
   ]
  },
  {
   "cell_type": "code",
   "execution_count": 97,
   "metadata": {},
   "outputs": [],
   "source": [
    "from sklearn.metrics import make_scorer"
   ]
  },
  {
   "cell_type": "code",
   "execution_count": null,
   "metadata": {},
   "outputs": [],
   "source": [
    "recall_score()"
   ]
  },
  {
   "cell_type": "code",
   "execution_count": 115,
   "metadata": {},
   "outputs": [],
   "source": [
    "recall = make_scorer(recall_score, average='macro')"
   ]
  },
  {
   "cell_type": "code",
   "execution_count": 116,
   "metadata": {
    "ExecuteTime": {
     "end_time": "2021-10-28T03:33:35.802959Z",
     "start_time": "2021-10-28T03:33:35.800647Z"
    },
    "hidden": true
   },
   "outputs": [],
   "source": [
    "# Initialize the grid search object with five-fold cross-validation\n",
    "\n",
    "gs = GridSearchCV(estimator=dt_model, scoring=recall, param_grid=grid, verbose=3, n_jobs=-3)"
   ]
  },
  {
   "cell_type": "code",
   "execution_count": 117,
   "metadata": {},
   "outputs": [
    {
     "data": {
      "text/plain": [
       "sklearn.model_selection._search.GridSearchCV"
      ]
     },
     "execution_count": 117,
     "metadata": {},
     "output_type": "execute_result"
    }
   ],
   "source": [
    "type(gs)"
   ]
  },
  {
   "cell_type": "code",
   "execution_count": 118,
   "metadata": {
    "ExecuteTime": {
     "end_time": "2021-10-28T03:33:38.433413Z",
     "start_time": "2021-10-28T03:33:38.076112Z"
    },
    "hidden": true
   },
   "outputs": [
    {
     "name": "stdout",
     "output_type": "stream",
     "text": [
      "Fitting 5 folds for each of 80 candidates, totalling 400 fits\n"
     ]
    },
    {
     "name": "stderr",
     "output_type": "stream",
     "text": [
      "[Parallel(n_jobs=-3)]: Using backend LokyBackend with 6 concurrent workers.\n",
      "[Parallel(n_jobs=-3)]: Done  20 tasks      | elapsed:    1.3s\n",
      "[Parallel(n_jobs=-3)]: Done 400 out of 400 | elapsed:    1.7s finished\n"
     ]
    },
    {
     "data": {
      "text/plain": [
       "GridSearchCV(estimator=DecisionTreeClassifier(random_state=10), n_jobs=-3,\n",
       "             param_grid={'max_depth': [None, 2, 3, 4, 5],\n",
       "                         'min_samples_leaf': [1, 2, 3, 4],\n",
       "                         'min_samples_split': [2, 3, 4, 5]},\n",
       "             scoring=make_scorer(recall_score, average=macro), verbose=3)"
      ]
     },
     "execution_count": 118,
     "metadata": {},
     "output_type": "execute_result"
    }
   ],
   "source": [
    "gs.fit(X_train_clean, y_train)"
   ]
  },
  {
   "cell_type": "code",
   "execution_count": 102,
   "metadata": {
    "ExecuteTime": {
     "end_time": "2021-10-28T03:33:38.438408Z",
     "start_time": "2021-10-28T03:33:38.435309Z"
    },
    "hidden": true
   },
   "outputs": [
    {
     "data": {
      "text/plain": [
       "{'max_depth': None, 'min_samples_leaf': 1, 'min_samples_split': 2}"
      ]
     },
     "execution_count": 102,
     "metadata": {},
     "output_type": "execute_result"
    }
   ],
   "source": [
    "gs.best_params_"
   ]
  },
  {
   "cell_type": "code",
   "execution_count": 119,
   "metadata": {
    "ExecuteTime": {
     "end_time": "2021-10-28T03:33:38.739396Z",
     "start_time": "2021-10-28T03:33:38.736044Z"
    },
    "hidden": true
   },
   "outputs": [
    {
     "data": {
      "text/plain": [
       "0.9801587301587302"
      ]
     },
     "execution_count": 119,
     "metadata": {},
     "output_type": "execute_result"
    }
   ],
   "source": [
    "gs.best_score_"
   ]
  },
  {
   "cell_type": "code",
   "execution_count": 121,
   "metadata": {
    "ExecuteTime": {
     "end_time": "2021-10-28T03:33:40.999187Z",
     "start_time": "2021-10-28T03:33:40.984761Z"
    },
    "hidden": true,
    "scrolled": true
   },
   "outputs": [],
   "source": [
    "final_model = gs.best_estimator_"
   ]
  },
  {
   "cell_type": "code",
   "execution_count": 126,
   "metadata": {
    "scrolled": true
   },
   "outputs": [
    {
     "data": {
      "text/plain": [
       "0.9801587301587302"
      ]
     },
     "execution_count": 126,
     "metadata": {},
     "output_type": "execute_result"
    }
   ],
   "source": [
    "cross_val_score(final_model, X_train_clean, y_train, scoring=recall).mean()"
   ]
  },
  {
   "cell_type": "code",
   "execution_count": 127,
   "metadata": {},
   "outputs": [
    {
     "data": {
      "text/plain": [
       "1.0"
      ]
     },
     "execution_count": 127,
     "metadata": {},
     "output_type": "execute_result"
    }
   ],
   "source": [
    "final_model.score(X_train_clean, y_train)"
   ]
  },
  {
   "cell_type": "code",
   "execution_count": 124,
   "metadata": {},
   "outputs": [
    {
     "data": {
      "text/plain": [
       "0.9700598802395209"
      ]
     },
     "execution_count": 124,
     "metadata": {},
     "output_type": "execute_result"
    }
   ],
   "source": [
    "final_model.score(X_test_clean, y_test)"
   ]
  },
  {
   "cell_type": "code",
   "execution_count": 128,
   "metadata": {
    "ExecuteTime": {
     "end_time": "2021-10-28T03:33:41.214030Z",
     "start_time": "2021-10-28T03:33:41.205532Z"
    },
    "hidden": true,
    "scrolled": true
   },
   "outputs": [
    {
     "data": {
      "text/plain": [
       "{'mean_fit_time': array([0.00638781, 0.00272675, 0.00311365, 0.00384016, 0.00241075,\n",
       "        0.00447226, 0.00195055, 0.00207081, 0.00208521, 0.00376444,\n",
       "        0.00257034, 0.00217433, 0.00221786, 0.00260105, 0.00244298,\n",
       "        0.00305142, 0.00326605, 0.00275984, 0.00314565, 0.00217571,\n",
       "        0.00251765, 0.00206299, 0.00168009, 0.00245423, 0.00358357,\n",
       "        0.00198221, 0.00187206, 0.00237412, 0.00308599, 0.00223417,\n",
       "        0.00189381, 0.0027586 , 0.00281253, 0.00223532, 0.00324383,\n",
       "        0.00339913, 0.00196199, 0.00339303, 0.00297284, 0.00276685,\n",
       "        0.00282927, 0.00289435, 0.00323801, 0.00284863, 0.00248299,\n",
       "        0.00293846, 0.00376983, 0.00252657, 0.00270567, 0.00368361,\n",
       "        0.00388222, 0.00311546, 0.00258489, 0.00326314, 0.00223222,\n",
       "        0.00275712, 0.00209365, 0.00241132, 0.00343666, 0.00227494,\n",
       "        0.00320997, 0.00250354, 0.00307574, 0.0022706 , 0.00392814,\n",
       "        0.00332274, 0.00291524, 0.0026813 , 0.00321078, 0.00340872,\n",
       "        0.00325904, 0.00309415, 0.00260468, 0.00287466, 0.0032021 ,\n",
       "        0.00267382, 0.00324621, 0.00286198, 0.00323305, 0.00256419]),\n",
       " 'std_fit_time': array([0.00179936, 0.00110307, 0.00117267, 0.00165325, 0.00101763,\n",
       "        0.00203053, 0.00030952, 0.00070027, 0.00049946, 0.00051699,\n",
       "        0.00134915, 0.00058736, 0.00054106, 0.00063611, 0.00052768,\n",
       "        0.00099946, 0.00136132, 0.00075275, 0.00105273, 0.00068112,\n",
       "        0.00042478, 0.00041536, 0.00029043, 0.00116681, 0.00175489,\n",
       "        0.00075124, 0.00060866, 0.00101225, 0.00156971, 0.00059889,\n",
       "        0.00032233, 0.00165022, 0.00100439, 0.00044414, 0.00028731,\n",
       "        0.00135704, 0.00048132, 0.00105958, 0.00163131, 0.0009901 ,\n",
       "        0.00105506, 0.00144318, 0.00157551, 0.00092425, 0.0006905 ,\n",
       "        0.0011069 , 0.00098269, 0.00051753, 0.00140078, 0.00235863,\n",
       "        0.00131987, 0.00140249, 0.00111203, 0.00201729, 0.00073898,\n",
       "        0.00102372, 0.00045059, 0.00169386, 0.00200921, 0.00063328,\n",
       "        0.00135375, 0.00166471, 0.00207798, 0.00060499, 0.00121802,\n",
       "        0.00206456, 0.00186148, 0.00139779, 0.00115906, 0.00088644,\n",
       "        0.00150662, 0.00112117, 0.00127622, 0.00289635, 0.00125795,\n",
       "        0.0003247 , 0.00163031, 0.00144377, 0.00198927, 0.00097808]),\n",
       " 'mean_score_time': array([0.00323381, 0.00242405, 0.00359282, 0.00291553, 0.002279  ,\n",
       "        0.00332437, 0.00150957, 0.00181837, 0.00279241, 0.00214334,\n",
       "        0.00207186, 0.00149999, 0.00227413, 0.00218434, 0.00236058,\n",
       "        0.00199871, 0.0023119 , 0.00218935, 0.00208039, 0.00165715,\n",
       "        0.00206599, 0.00196261, 0.00134463, 0.00233068, 0.00220757,\n",
       "        0.00214658, 0.00140681, 0.00184808, 0.00202951, 0.00240765,\n",
       "        0.00198421, 0.00231571, 0.0029634 , 0.00243354, 0.00329442,\n",
       "        0.00217528, 0.00260773, 0.00180979, 0.00373626, 0.00229502,\n",
       "        0.00175433, 0.00223627, 0.00259776, 0.00168099, 0.0017046 ,\n",
       "        0.00172348, 0.00309453, 0.0021142 , 0.00253201, 0.00389524,\n",
       "        0.00285177, 0.00196872, 0.00211186, 0.00234385, 0.00206037,\n",
       "        0.00182252, 0.00174398, 0.00271473, 0.00257416, 0.00150223,\n",
       "        0.00266199, 0.00195494, 0.00188875, 0.00180144, 0.00350623,\n",
       "        0.00240703, 0.00213494, 0.00197182, 0.00255837, 0.00232081,\n",
       "        0.00303435, 0.00267015, 0.00164557, 0.00180697, 0.00221696,\n",
       "        0.00180979, 0.00182571, 0.00187073, 0.00194182, 0.00163608]),\n",
       " 'std_score_time': array([0.00127202, 0.00087567, 0.00113455, 0.00138547, 0.00126789,\n",
       "        0.00069406, 0.0001808 , 0.00081603, 0.00209381, 0.00103317,\n",
       "        0.00120739, 0.00025052, 0.00099957, 0.00079781, 0.00126013,\n",
       "        0.00045717, 0.00074138, 0.00080665, 0.00111451, 0.00048351,\n",
       "        0.0009655 , 0.00091898, 0.0002521 , 0.0012669 , 0.00110428,\n",
       "        0.00068955, 0.0003491 , 0.00052707, 0.00105473, 0.00074995,\n",
       "        0.00083228, 0.00137613, 0.00050376, 0.00134594, 0.00060414,\n",
       "        0.00053888, 0.00079025, 0.00087516, 0.00162744, 0.00079883,\n",
       "        0.00060812, 0.00087516, 0.00128227, 0.00050062, 0.00061111,\n",
       "        0.0004449 , 0.00211697, 0.0012978 , 0.00145543, 0.00324598,\n",
       "        0.00056505, 0.00052618, 0.00080518, 0.00114806, 0.00089045,\n",
       "        0.00083001, 0.00047049, 0.00170196, 0.00096743, 0.00045066,\n",
       "        0.00090449, 0.00076599, 0.00075567, 0.00056775, 0.00231501,\n",
       "        0.0014992 , 0.00072022, 0.00094626, 0.00098606, 0.00096841,\n",
       "        0.00119498, 0.00113258, 0.0005401 , 0.00080748, 0.00070008,\n",
       "        0.00094482, 0.00049165, 0.00082452, 0.00064781, 0.00043154]),\n",
       " 'param_max_depth': masked_array(data=[None, None, None, None, None, None, None, None, None,\n",
       "                    None, None, None, None, None, None, None, 2, 2, 2, 2,\n",
       "                    2, 2, 2, 2, 2, 2, 2, 2, 2, 2, 2, 2, 3, 3, 3, 3, 3, 3,\n",
       "                    3, 3, 3, 3, 3, 3, 3, 3, 3, 3, 4, 4, 4, 4, 4, 4, 4, 4,\n",
       "                    4, 4, 4, 4, 4, 4, 4, 4, 5, 5, 5, 5, 5, 5, 5, 5, 5, 5,\n",
       "                    5, 5, 5, 5, 5, 5],\n",
       "              mask=[False, False, False, False, False, False, False, False,\n",
       "                    False, False, False, False, False, False, False, False,\n",
       "                    False, False, False, False, False, False, False, False,\n",
       "                    False, False, False, False, False, False, False, False,\n",
       "                    False, False, False, False, False, False, False, False,\n",
       "                    False, False, False, False, False, False, False, False,\n",
       "                    False, False, False, False, False, False, False, False,\n",
       "                    False, False, False, False, False, False, False, False,\n",
       "                    False, False, False, False, False, False, False, False,\n",
       "                    False, False, False, False, False, False, False, False],\n",
       "        fill_value='?',\n",
       "             dtype=object),\n",
       " 'param_min_samples_leaf': masked_array(data=[1, 1, 1, 1, 2, 2, 2, 2, 3, 3, 3, 3, 4, 4, 4, 4, 1, 1,\n",
       "                    1, 1, 2, 2, 2, 2, 3, 3, 3, 3, 4, 4, 4, 4, 1, 1, 1, 1,\n",
       "                    2, 2, 2, 2, 3, 3, 3, 3, 4, 4, 4, 4, 1, 1, 1, 1, 2, 2,\n",
       "                    2, 2, 3, 3, 3, 3, 4, 4, 4, 4, 1, 1, 1, 1, 2, 2, 2, 2,\n",
       "                    3, 3, 3, 3, 4, 4, 4, 4],\n",
       "              mask=[False, False, False, False, False, False, False, False,\n",
       "                    False, False, False, False, False, False, False, False,\n",
       "                    False, False, False, False, False, False, False, False,\n",
       "                    False, False, False, False, False, False, False, False,\n",
       "                    False, False, False, False, False, False, False, False,\n",
       "                    False, False, False, False, False, False, False, False,\n",
       "                    False, False, False, False, False, False, False, False,\n",
       "                    False, False, False, False, False, False, False, False,\n",
       "                    False, False, False, False, False, False, False, False,\n",
       "                    False, False, False, False, False, False, False, False],\n",
       "        fill_value='?',\n",
       "             dtype=object),\n",
       " 'param_min_samples_split': masked_array(data=[2, 3, 4, 5, 2, 3, 4, 5, 2, 3, 4, 5, 2, 3, 4, 5, 2, 3,\n",
       "                    4, 5, 2, 3, 4, 5, 2, 3, 4, 5, 2, 3, 4, 5, 2, 3, 4, 5,\n",
       "                    2, 3, 4, 5, 2, 3, 4, 5, 2, 3, 4, 5, 2, 3, 4, 5, 2, 3,\n",
       "                    4, 5, 2, 3, 4, 5, 2, 3, 4, 5, 2, 3, 4, 5, 2, 3, 4, 5,\n",
       "                    2, 3, 4, 5, 2, 3, 4, 5],\n",
       "              mask=[False, False, False, False, False, False, False, False,\n",
       "                    False, False, False, False, False, False, False, False,\n",
       "                    False, False, False, False, False, False, False, False,\n",
       "                    False, False, False, False, False, False, False, False,\n",
       "                    False, False, False, False, False, False, False, False,\n",
       "                    False, False, False, False, False, False, False, False,\n",
       "                    False, False, False, False, False, False, False, False,\n",
       "                    False, False, False, False, False, False, False, False,\n",
       "                    False, False, False, False, False, False, False, False,\n",
       "                    False, False, False, False, False, False, False, False],\n",
       "        fill_value='?',\n",
       "             dtype=object),\n",
       " 'params': [{'max_depth': None, 'min_samples_leaf': 1, 'min_samples_split': 2},\n",
       "  {'max_depth': None, 'min_samples_leaf': 1, 'min_samples_split': 3},\n",
       "  {'max_depth': None, 'min_samples_leaf': 1, 'min_samples_split': 4},\n",
       "  {'max_depth': None, 'min_samples_leaf': 1, 'min_samples_split': 5},\n",
       "  {'max_depth': None, 'min_samples_leaf': 2, 'min_samples_split': 2},\n",
       "  {'max_depth': None, 'min_samples_leaf': 2, 'min_samples_split': 3},\n",
       "  {'max_depth': None, 'min_samples_leaf': 2, 'min_samples_split': 4},\n",
       "  {'max_depth': None, 'min_samples_leaf': 2, 'min_samples_split': 5},\n",
       "  {'max_depth': None, 'min_samples_leaf': 3, 'min_samples_split': 2},\n",
       "  {'max_depth': None, 'min_samples_leaf': 3, 'min_samples_split': 3},\n",
       "  {'max_depth': None, 'min_samples_leaf': 3, 'min_samples_split': 4},\n",
       "  {'max_depth': None, 'min_samples_leaf': 3, 'min_samples_split': 5},\n",
       "  {'max_depth': None, 'min_samples_leaf': 4, 'min_samples_split': 2},\n",
       "  {'max_depth': None, 'min_samples_leaf': 4, 'min_samples_split': 3},\n",
       "  {'max_depth': None, 'min_samples_leaf': 4, 'min_samples_split': 4},\n",
       "  {'max_depth': None, 'min_samples_leaf': 4, 'min_samples_split': 5},\n",
       "  {'max_depth': 2, 'min_samples_leaf': 1, 'min_samples_split': 2},\n",
       "  {'max_depth': 2, 'min_samples_leaf': 1, 'min_samples_split': 3},\n",
       "  {'max_depth': 2, 'min_samples_leaf': 1, 'min_samples_split': 4},\n",
       "  {'max_depth': 2, 'min_samples_leaf': 1, 'min_samples_split': 5},\n",
       "  {'max_depth': 2, 'min_samples_leaf': 2, 'min_samples_split': 2},\n",
       "  {'max_depth': 2, 'min_samples_leaf': 2, 'min_samples_split': 3},\n",
       "  {'max_depth': 2, 'min_samples_leaf': 2, 'min_samples_split': 4},\n",
       "  {'max_depth': 2, 'min_samples_leaf': 2, 'min_samples_split': 5},\n",
       "  {'max_depth': 2, 'min_samples_leaf': 3, 'min_samples_split': 2},\n",
       "  {'max_depth': 2, 'min_samples_leaf': 3, 'min_samples_split': 3},\n",
       "  {'max_depth': 2, 'min_samples_leaf': 3, 'min_samples_split': 4},\n",
       "  {'max_depth': 2, 'min_samples_leaf': 3, 'min_samples_split': 5},\n",
       "  {'max_depth': 2, 'min_samples_leaf': 4, 'min_samples_split': 2},\n",
       "  {'max_depth': 2, 'min_samples_leaf': 4, 'min_samples_split': 3},\n",
       "  {'max_depth': 2, 'min_samples_leaf': 4, 'min_samples_split': 4},\n",
       "  {'max_depth': 2, 'min_samples_leaf': 4, 'min_samples_split': 5},\n",
       "  {'max_depth': 3, 'min_samples_leaf': 1, 'min_samples_split': 2},\n",
       "  {'max_depth': 3, 'min_samples_leaf': 1, 'min_samples_split': 3},\n",
       "  {'max_depth': 3, 'min_samples_leaf': 1, 'min_samples_split': 4},\n",
       "  {'max_depth': 3, 'min_samples_leaf': 1, 'min_samples_split': 5},\n",
       "  {'max_depth': 3, 'min_samples_leaf': 2, 'min_samples_split': 2},\n",
       "  {'max_depth': 3, 'min_samples_leaf': 2, 'min_samples_split': 3},\n",
       "  {'max_depth': 3, 'min_samples_leaf': 2, 'min_samples_split': 4},\n",
       "  {'max_depth': 3, 'min_samples_leaf': 2, 'min_samples_split': 5},\n",
       "  {'max_depth': 3, 'min_samples_leaf': 3, 'min_samples_split': 2},\n",
       "  {'max_depth': 3, 'min_samples_leaf': 3, 'min_samples_split': 3},\n",
       "  {'max_depth': 3, 'min_samples_leaf': 3, 'min_samples_split': 4},\n",
       "  {'max_depth': 3, 'min_samples_leaf': 3, 'min_samples_split': 5},\n",
       "  {'max_depth': 3, 'min_samples_leaf': 4, 'min_samples_split': 2},\n",
       "  {'max_depth': 3, 'min_samples_leaf': 4, 'min_samples_split': 3},\n",
       "  {'max_depth': 3, 'min_samples_leaf': 4, 'min_samples_split': 4},\n",
       "  {'max_depth': 3, 'min_samples_leaf': 4, 'min_samples_split': 5},\n",
       "  {'max_depth': 4, 'min_samples_leaf': 1, 'min_samples_split': 2},\n",
       "  {'max_depth': 4, 'min_samples_leaf': 1, 'min_samples_split': 3},\n",
       "  {'max_depth': 4, 'min_samples_leaf': 1, 'min_samples_split': 4},\n",
       "  {'max_depth': 4, 'min_samples_leaf': 1, 'min_samples_split': 5},\n",
       "  {'max_depth': 4, 'min_samples_leaf': 2, 'min_samples_split': 2},\n",
       "  {'max_depth': 4, 'min_samples_leaf': 2, 'min_samples_split': 3},\n",
       "  {'max_depth': 4, 'min_samples_leaf': 2, 'min_samples_split': 4},\n",
       "  {'max_depth': 4, 'min_samples_leaf': 2, 'min_samples_split': 5},\n",
       "  {'max_depth': 4, 'min_samples_leaf': 3, 'min_samples_split': 2},\n",
       "  {'max_depth': 4, 'min_samples_leaf': 3, 'min_samples_split': 3},\n",
       "  {'max_depth': 4, 'min_samples_leaf': 3, 'min_samples_split': 4},\n",
       "  {'max_depth': 4, 'min_samples_leaf': 3, 'min_samples_split': 5},\n",
       "  {'max_depth': 4, 'min_samples_leaf': 4, 'min_samples_split': 2},\n",
       "  {'max_depth': 4, 'min_samples_leaf': 4, 'min_samples_split': 3},\n",
       "  {'max_depth': 4, 'min_samples_leaf': 4, 'min_samples_split': 4},\n",
       "  {'max_depth': 4, 'min_samples_leaf': 4, 'min_samples_split': 5},\n",
       "  {'max_depth': 5, 'min_samples_leaf': 1, 'min_samples_split': 2},\n",
       "  {'max_depth': 5, 'min_samples_leaf': 1, 'min_samples_split': 3},\n",
       "  {'max_depth': 5, 'min_samples_leaf': 1, 'min_samples_split': 4},\n",
       "  {'max_depth': 5, 'min_samples_leaf': 1, 'min_samples_split': 5},\n",
       "  {'max_depth': 5, 'min_samples_leaf': 2, 'min_samples_split': 2},\n",
       "  {'max_depth': 5, 'min_samples_leaf': 2, 'min_samples_split': 3},\n",
       "  {'max_depth': 5, 'min_samples_leaf': 2, 'min_samples_split': 4},\n",
       "  {'max_depth': 5, 'min_samples_leaf': 2, 'min_samples_split': 5},\n",
       "  {'max_depth': 5, 'min_samples_leaf': 3, 'min_samples_split': 2},\n",
       "  {'max_depth': 5, 'min_samples_leaf': 3, 'min_samples_split': 3},\n",
       "  {'max_depth': 5, 'min_samples_leaf': 3, 'min_samples_split': 4},\n",
       "  {'max_depth': 5, 'min_samples_leaf': 3, 'min_samples_split': 5},\n",
       "  {'max_depth': 5, 'min_samples_leaf': 4, 'min_samples_split': 2},\n",
       "  {'max_depth': 5, 'min_samples_leaf': 4, 'min_samples_split': 3},\n",
       "  {'max_depth': 5, 'min_samples_leaf': 4, 'min_samples_split': 4},\n",
       "  {'max_depth': 5, 'min_samples_leaf': 4, 'min_samples_split': 5}],\n",
       " 'split0_test_score': array([1.        , 1.        , 1.        , 1.        , 0.97222222,\n",
       "        0.97222222, 0.97222222, 0.97222222, 1.        , 1.        ,\n",
       "        1.        , 1.        , 1.        , 1.        , 1.        ,\n",
       "        1.        , 0.97777778, 0.97777778, 0.97777778, 0.97777778,\n",
       "        0.95      , 0.95      , 0.95      , 0.95      , 0.97777778,\n",
       "        0.97777778, 0.97777778, 0.97777778, 0.97777778, 0.97777778,\n",
       "        0.97777778, 0.97777778, 1.        , 1.        , 1.        ,\n",
       "        1.        , 0.97222222, 0.97222222, 0.97222222, 0.97222222,\n",
       "        1.        , 1.        , 1.        , 1.        , 1.        ,\n",
       "        1.        , 1.        , 1.        , 1.        , 1.        ,\n",
       "        1.        , 1.        , 0.97222222, 0.97222222, 0.97222222,\n",
       "        0.97222222, 1.        , 1.        , 1.        , 1.        ,\n",
       "        1.        , 1.        , 1.        , 1.        , 1.        ,\n",
       "        1.        , 1.        , 1.        , 0.97222222, 0.97222222,\n",
       "        0.97222222, 0.97222222, 1.        , 1.        , 1.        ,\n",
       "        1.        , 1.        , 1.        , 1.        , 1.        ]),\n",
       " 'split1_test_score': array([0.9484127 , 0.9484127 , 0.9484127 , 0.9484127 , 0.9484127 ,\n",
       "        0.9484127 , 0.9484127 , 0.9484127 , 0.9484127 , 0.9484127 ,\n",
       "        0.9484127 , 0.9484127 , 0.90079365, 0.90079365, 0.90079365,\n",
       "        0.90079365, 0.90079365, 0.90079365, 0.90079365, 0.90079365,\n",
       "        0.90079365, 0.90079365, 0.90079365, 0.90079365, 0.90079365,\n",
       "        0.90079365, 0.90079365, 0.90079365, 0.90079365, 0.90079365,\n",
       "        0.90079365, 0.90079365, 0.9484127 , 0.9484127 , 0.9484127 ,\n",
       "        0.9484127 , 0.9484127 , 0.9484127 , 0.9484127 , 0.9484127 ,\n",
       "        0.9484127 , 0.9484127 , 0.9484127 , 0.9484127 , 0.90079365,\n",
       "        0.90079365, 0.90079365, 0.90079365, 0.9484127 , 0.9484127 ,\n",
       "        0.9484127 , 0.9484127 , 0.9484127 , 0.9484127 , 0.9484127 ,\n",
       "        0.9484127 , 0.9484127 , 0.9484127 , 0.9484127 , 0.9484127 ,\n",
       "        0.90079365, 0.90079365, 0.90079365, 0.90079365, 0.9484127 ,\n",
       "        0.9484127 , 0.9484127 , 0.9484127 , 0.9484127 , 0.9484127 ,\n",
       "        0.9484127 , 0.9484127 , 0.9484127 , 0.9484127 , 0.9484127 ,\n",
       "        0.9484127 , 0.90079365, 0.90079365, 0.90079365, 0.90079365]),\n",
       " 'split2_test_score': array([1.        , 1.        , 1.        , 1.        , 0.97222222,\n",
       "        0.97222222, 0.97222222, 0.97222222, 0.95238095, 0.95238095,\n",
       "        0.95238095, 0.95238095, 0.95238095, 0.95238095, 0.95238095,\n",
       "        0.95238095, 0.95238095, 0.95238095, 0.95238095, 0.95238095,\n",
       "        0.92460317, 0.92460317, 0.92460317, 0.92460317, 0.95238095,\n",
       "        0.95238095, 0.95238095, 0.95238095, 0.95238095, 0.95238095,\n",
       "        0.95238095, 0.95238095, 0.95238095, 0.95238095, 0.95238095,\n",
       "        0.95238095, 0.92460317, 0.92460317, 0.92460317, 0.92460317,\n",
       "        0.95238095, 0.95238095, 0.95238095, 0.95238095, 0.95238095,\n",
       "        0.95238095, 0.95238095, 0.95238095, 1.        , 1.        ,\n",
       "        1.        , 1.        , 0.97222222, 0.97222222, 0.97222222,\n",
       "        0.97222222, 0.95238095, 0.95238095, 0.95238095, 0.95238095,\n",
       "        0.95238095, 0.95238095, 0.95238095, 0.95238095, 1.        ,\n",
       "        1.        , 1.        , 1.        , 0.97222222, 0.97222222,\n",
       "        0.97222222, 0.97222222, 0.95238095, 0.95238095, 0.95238095,\n",
       "        0.95238095, 0.95238095, 0.95238095, 0.95238095, 0.95238095]),\n",
       " 'split3_test_score': array([0.95238095, 0.95238095, 0.95238095, 0.95238095, 0.95238095,\n",
       "        0.95238095, 0.95238095, 0.95238095, 0.8968254 , 0.8968254 ,\n",
       "        0.8968254 , 0.8968254 , 0.8968254 , 0.8968254 , 0.8968254 ,\n",
       "        0.8968254 , 0.8968254 , 0.8968254 , 0.8968254 , 0.8968254 ,\n",
       "        0.8968254 , 0.8968254 , 0.8968254 , 0.8968254 , 0.8968254 ,\n",
       "        0.8968254 , 0.8968254 , 0.8968254 , 0.8968254 , 0.8968254 ,\n",
       "        0.8968254 , 0.8968254 , 0.8968254 , 0.8968254 , 0.8968254 ,\n",
       "        0.8968254 , 0.8968254 , 0.8968254 , 0.8968254 , 0.8968254 ,\n",
       "        0.8968254 , 0.8968254 , 0.8968254 , 0.8968254 , 0.8968254 ,\n",
       "        0.8968254 , 0.8968254 , 0.8968254 , 0.95238095, 0.95238095,\n",
       "        0.95238095, 0.95238095, 0.95238095, 0.95238095, 0.95238095,\n",
       "        0.95238095, 0.8968254 , 0.8968254 , 0.8968254 , 0.8968254 ,\n",
       "        0.8968254 , 0.8968254 , 0.8968254 , 0.8968254 , 0.95238095,\n",
       "        0.95238095, 0.95238095, 0.95238095, 0.95238095, 0.95238095,\n",
       "        0.95238095, 0.95238095, 0.8968254 , 0.8968254 , 0.8968254 ,\n",
       "        0.8968254 , 0.8968254 , 0.8968254 , 0.8968254 , 0.8968254 ]),\n",
       " 'split4_test_score': array([1., 1., 1., 1., 1., 1., 1., 1., 1., 1., 1., 1., 1., 1., 1., 1., 1.,\n",
       "        1., 1., 1., 1., 1., 1., 1., 1., 1., 1., 1., 1., 1., 1., 1., 1., 1.,\n",
       "        1., 1., 1., 1., 1., 1., 1., 1., 1., 1., 1., 1., 1., 1., 1., 1., 1.,\n",
       "        1., 1., 1., 1., 1., 1., 1., 1., 1., 1., 1., 1., 1., 1., 1., 1., 1.,\n",
       "        1., 1., 1., 1., 1., 1., 1., 1., 1., 1., 1., 1.]),\n",
       " 'mean_test_score': array([0.98015873, 0.98015873, 0.98015873, 0.98015873, 0.96904762,\n",
       "        0.96904762, 0.96904762, 0.96904762, 0.95952381, 0.95952381,\n",
       "        0.95952381, 0.95952381, 0.95      , 0.95      , 0.95      ,\n",
       "        0.95      , 0.94555556, 0.94555556, 0.94555556, 0.94555556,\n",
       "        0.93444444, 0.93444444, 0.93444444, 0.93444444, 0.94555556,\n",
       "        0.94555556, 0.94555556, 0.94555556, 0.94555556, 0.94555556,\n",
       "        0.94555556, 0.94555556, 0.95952381, 0.95952381, 0.95952381,\n",
       "        0.95952381, 0.9484127 , 0.9484127 , 0.9484127 , 0.9484127 ,\n",
       "        0.95952381, 0.95952381, 0.95952381, 0.95952381, 0.95      ,\n",
       "        0.95      , 0.95      , 0.95      , 0.98015873, 0.98015873,\n",
       "        0.98015873, 0.98015873, 0.96904762, 0.96904762, 0.96904762,\n",
       "        0.96904762, 0.95952381, 0.95952381, 0.95952381, 0.95952381,\n",
       "        0.95      , 0.95      , 0.95      , 0.95      , 0.98015873,\n",
       "        0.98015873, 0.98015873, 0.98015873, 0.96904762, 0.96904762,\n",
       "        0.96904762, 0.96904762, 0.95952381, 0.95952381, 0.95952381,\n",
       "        0.95952381, 0.95      , 0.95      , 0.95      , 0.95      ]),\n",
       " 'std_test_score': array([0.02433287, 0.02433287, 0.02433287, 0.02433287, 0.01834003,\n",
       "        0.01834003, 0.01834003, 0.01834003, 0.0384245 , 0.0384245 ,\n",
       "        0.0384245 , 0.0384245 , 0.0452868 , 0.0452868 , 0.0452868 ,\n",
       "        0.0452868 , 0.04105438, 0.04105438, 0.04105438, 0.04105438,\n",
       "        0.03790495, 0.03790495, 0.03790495, 0.03790495, 0.04105438,\n",
       "        0.04105438, 0.04105438, 0.04105438, 0.04105438, 0.04105438,\n",
       "        0.04105438, 0.04105438, 0.0384245 , 0.0384245 , 0.0384245 ,\n",
       "        0.0384245 , 0.03593407, 0.03593407, 0.03593407, 0.03593407,\n",
       "        0.0384245 , 0.0384245 , 0.0384245 , 0.0384245 , 0.0452868 ,\n",
       "        0.0452868 , 0.0452868 , 0.0452868 , 0.02433287, 0.02433287,\n",
       "        0.02433287, 0.02433287, 0.01834003, 0.01834003, 0.01834003,\n",
       "        0.01834003, 0.0384245 , 0.0384245 , 0.0384245 , 0.0384245 ,\n",
       "        0.0452868 , 0.0452868 , 0.0452868 , 0.0452868 , 0.02433287,\n",
       "        0.02433287, 0.02433287, 0.02433287, 0.01834003, 0.01834003,\n",
       "        0.01834003, 0.01834003, 0.0384245 , 0.0384245 , 0.0384245 ,\n",
       "        0.0384245 , 0.0452868 , 0.0452868 , 0.0452868 , 0.0452868 ]),\n",
       " 'rank_test_score': array([ 1,  1,  1,  1, 13, 13, 13, 13, 25, 25, 25, 25, 45, 45, 45, 45, 65,\n",
       "        65, 65, 65, 77, 77, 77, 77, 65, 65, 65, 65, 65, 65, 65, 65, 25, 25,\n",
       "        25, 25, 61, 61, 61, 61, 25, 25, 25, 25, 45, 45, 45, 45,  1,  1,  1,\n",
       "         1, 13, 13, 13, 13, 25, 25, 25, 25, 45, 45, 45, 45,  1,  1,  1,  1,\n",
       "        13, 13, 13, 13, 25, 25, 25, 25, 45, 45, 45, 45], dtype=int32)}"
      ]
     },
     "execution_count": 128,
     "metadata": {},
     "output_type": "execute_result"
    }
   ],
   "source": [
    "gs.cv_results_"
   ]
  },
  {
   "cell_type": "code",
   "execution_count": 130,
   "metadata": {
    "ExecuteTime": {
     "end_time": "2021-10-28T03:33:41.818645Z",
     "start_time": "2021-10-28T03:33:41.790982Z"
    },
    "hidden": true,
    "scrolled": true
   },
   "outputs": [],
   "source": [
    "df = pd.DataFrame(gs.cv_results_)"
   ]
  },
  {
   "cell_type": "code",
   "execution_count": 131,
   "metadata": {},
   "outputs": [
    {
     "data": {
      "text/html": [
       "<div>\n",
       "<style scoped>\n",
       "    .dataframe tbody tr th:only-of-type {\n",
       "        vertical-align: middle;\n",
       "    }\n",
       "\n",
       "    .dataframe tbody tr th {\n",
       "        vertical-align: top;\n",
       "    }\n",
       "\n",
       "    .dataframe thead th {\n",
       "        text-align: right;\n",
       "    }\n",
       "</style>\n",
       "<table border=\"1\" class=\"dataframe\">\n",
       "  <thead>\n",
       "    <tr style=\"text-align: right;\">\n",
       "      <th></th>\n",
       "      <th>mean_fit_time</th>\n",
       "      <th>std_fit_time</th>\n",
       "      <th>mean_score_time</th>\n",
       "      <th>std_score_time</th>\n",
       "      <th>param_max_depth</th>\n",
       "      <th>param_min_samples_leaf</th>\n",
       "      <th>param_min_samples_split</th>\n",
       "      <th>params</th>\n",
       "      <th>split0_test_score</th>\n",
       "      <th>split1_test_score</th>\n",
       "      <th>split2_test_score</th>\n",
       "      <th>split3_test_score</th>\n",
       "      <th>split4_test_score</th>\n",
       "      <th>mean_test_score</th>\n",
       "      <th>std_test_score</th>\n",
       "      <th>rank_test_score</th>\n",
       "    </tr>\n",
       "  </thead>\n",
       "  <tbody>\n",
       "    <tr>\n",
       "      <th>0</th>\n",
       "      <td>0.006388</td>\n",
       "      <td>0.001799</td>\n",
       "      <td>0.003234</td>\n",
       "      <td>0.001272</td>\n",
       "      <td>None</td>\n",
       "      <td>1</td>\n",
       "      <td>2</td>\n",
       "      <td>{'max_depth': None, 'min_samples_leaf': 1, 'mi...</td>\n",
       "      <td>1.000000</td>\n",
       "      <td>0.948413</td>\n",
       "      <td>1.000000</td>\n",
       "      <td>0.952381</td>\n",
       "      <td>1.0</td>\n",
       "      <td>0.980159</td>\n",
       "      <td>0.024333</td>\n",
       "      <td>1</td>\n",
       "    </tr>\n",
       "    <tr>\n",
       "      <th>1</th>\n",
       "      <td>0.002727</td>\n",
       "      <td>0.001103</td>\n",
       "      <td>0.002424</td>\n",
       "      <td>0.000876</td>\n",
       "      <td>None</td>\n",
       "      <td>1</td>\n",
       "      <td>3</td>\n",
       "      <td>{'max_depth': None, 'min_samples_leaf': 1, 'mi...</td>\n",
       "      <td>1.000000</td>\n",
       "      <td>0.948413</td>\n",
       "      <td>1.000000</td>\n",
       "      <td>0.952381</td>\n",
       "      <td>1.0</td>\n",
       "      <td>0.980159</td>\n",
       "      <td>0.024333</td>\n",
       "      <td>1</td>\n",
       "    </tr>\n",
       "    <tr>\n",
       "      <th>2</th>\n",
       "      <td>0.003114</td>\n",
       "      <td>0.001173</td>\n",
       "      <td>0.003593</td>\n",
       "      <td>0.001135</td>\n",
       "      <td>None</td>\n",
       "      <td>1</td>\n",
       "      <td>4</td>\n",
       "      <td>{'max_depth': None, 'min_samples_leaf': 1, 'mi...</td>\n",
       "      <td>1.000000</td>\n",
       "      <td>0.948413</td>\n",
       "      <td>1.000000</td>\n",
       "      <td>0.952381</td>\n",
       "      <td>1.0</td>\n",
       "      <td>0.980159</td>\n",
       "      <td>0.024333</td>\n",
       "      <td>1</td>\n",
       "    </tr>\n",
       "    <tr>\n",
       "      <th>3</th>\n",
       "      <td>0.003840</td>\n",
       "      <td>0.001653</td>\n",
       "      <td>0.002916</td>\n",
       "      <td>0.001385</td>\n",
       "      <td>None</td>\n",
       "      <td>1</td>\n",
       "      <td>5</td>\n",
       "      <td>{'max_depth': None, 'min_samples_leaf': 1, 'mi...</td>\n",
       "      <td>1.000000</td>\n",
       "      <td>0.948413</td>\n",
       "      <td>1.000000</td>\n",
       "      <td>0.952381</td>\n",
       "      <td>1.0</td>\n",
       "      <td>0.980159</td>\n",
       "      <td>0.024333</td>\n",
       "      <td>1</td>\n",
       "    </tr>\n",
       "    <tr>\n",
       "      <th>4</th>\n",
       "      <td>0.002411</td>\n",
       "      <td>0.001018</td>\n",
       "      <td>0.002279</td>\n",
       "      <td>0.001268</td>\n",
       "      <td>None</td>\n",
       "      <td>2</td>\n",
       "      <td>2</td>\n",
       "      <td>{'max_depth': None, 'min_samples_leaf': 2, 'mi...</td>\n",
       "      <td>0.972222</td>\n",
       "      <td>0.948413</td>\n",
       "      <td>0.972222</td>\n",
       "      <td>0.952381</td>\n",
       "      <td>1.0</td>\n",
       "      <td>0.969048</td>\n",
       "      <td>0.018340</td>\n",
       "      <td>13</td>\n",
       "    </tr>\n",
       "  </tbody>\n",
       "</table>\n",
       "</div>"
      ],
      "text/plain": [
       "   mean_fit_time  std_fit_time  mean_score_time  std_score_time  \\\n",
       "0       0.006388      0.001799         0.003234        0.001272   \n",
       "1       0.002727      0.001103         0.002424        0.000876   \n",
       "2       0.003114      0.001173         0.003593        0.001135   \n",
       "3       0.003840      0.001653         0.002916        0.001385   \n",
       "4       0.002411      0.001018         0.002279        0.001268   \n",
       "\n",
       "  param_max_depth param_min_samples_leaf param_min_samples_split  \\\n",
       "0            None                      1                       2   \n",
       "1            None                      1                       3   \n",
       "2            None                      1                       4   \n",
       "3            None                      1                       5   \n",
       "4            None                      2                       2   \n",
       "\n",
       "                                              params  split0_test_score  \\\n",
       "0  {'max_depth': None, 'min_samples_leaf': 1, 'mi...           1.000000   \n",
       "1  {'max_depth': None, 'min_samples_leaf': 1, 'mi...           1.000000   \n",
       "2  {'max_depth': None, 'min_samples_leaf': 1, 'mi...           1.000000   \n",
       "3  {'max_depth': None, 'min_samples_leaf': 1, 'mi...           1.000000   \n",
       "4  {'max_depth': None, 'min_samples_leaf': 2, 'mi...           0.972222   \n",
       "\n",
       "   split1_test_score  split2_test_score  split3_test_score  split4_test_score  \\\n",
       "0           0.948413           1.000000           0.952381                1.0   \n",
       "1           0.948413           1.000000           0.952381                1.0   \n",
       "2           0.948413           1.000000           0.952381                1.0   \n",
       "3           0.948413           1.000000           0.952381                1.0   \n",
       "4           0.948413           0.972222           0.952381                1.0   \n",
       "\n",
       "   mean_test_score  std_test_score  rank_test_score  \n",
       "0         0.980159        0.024333                1  \n",
       "1         0.980159        0.024333                1  \n",
       "2         0.980159        0.024333                1  \n",
       "3         0.980159        0.024333                1  \n",
       "4         0.969048        0.018340               13  "
      ]
     },
     "execution_count": 131,
     "metadata": {},
     "output_type": "execute_result"
    }
   ],
   "source": [
    "df.head()"
   ]
  },
  {
   "cell_type": "code",
   "execution_count": 132,
   "metadata": {},
   "outputs": [
    {
     "data": {
      "text/html": [
       "<div>\n",
       "<style scoped>\n",
       "    .dataframe tbody tr th:only-of-type {\n",
       "        vertical-align: middle;\n",
       "    }\n",
       "\n",
       "    .dataframe tbody tr th {\n",
       "        vertical-align: top;\n",
       "    }\n",
       "\n",
       "    .dataframe thead th {\n",
       "        text-align: right;\n",
       "    }\n",
       "</style>\n",
       "<table border=\"1\" class=\"dataframe\">\n",
       "  <thead>\n",
       "    <tr style=\"text-align: right;\">\n",
       "      <th></th>\n",
       "      <th>mean_fit_time</th>\n",
       "      <th>std_fit_time</th>\n",
       "      <th>mean_score_time</th>\n",
       "      <th>std_score_time</th>\n",
       "      <th>param_max_depth</th>\n",
       "      <th>param_min_samples_leaf</th>\n",
       "      <th>param_min_samples_split</th>\n",
       "      <th>params</th>\n",
       "      <th>split0_test_score</th>\n",
       "      <th>split1_test_score</th>\n",
       "      <th>split2_test_score</th>\n",
       "      <th>split3_test_score</th>\n",
       "      <th>split4_test_score</th>\n",
       "      <th>mean_test_score</th>\n",
       "      <th>std_test_score</th>\n",
       "      <th>rank_test_score</th>\n",
       "    </tr>\n",
       "  </thead>\n",
       "  <tbody>\n",
       "    <tr>\n",
       "      <th>0</th>\n",
       "      <td>0.006388</td>\n",
       "      <td>0.001799</td>\n",
       "      <td>0.003234</td>\n",
       "      <td>0.001272</td>\n",
       "      <td>None</td>\n",
       "      <td>1</td>\n",
       "      <td>2</td>\n",
       "      <td>{'max_depth': None, 'min_samples_leaf': 1, 'mi...</td>\n",
       "      <td>1.0</td>\n",
       "      <td>0.948413</td>\n",
       "      <td>1.0</td>\n",
       "      <td>0.952381</td>\n",
       "      <td>1.0</td>\n",
       "      <td>0.980159</td>\n",
       "      <td>0.024333</td>\n",
       "      <td>1</td>\n",
       "    </tr>\n",
       "    <tr>\n",
       "      <th>1</th>\n",
       "      <td>0.002727</td>\n",
       "      <td>0.001103</td>\n",
       "      <td>0.002424</td>\n",
       "      <td>0.000876</td>\n",
       "      <td>None</td>\n",
       "      <td>1</td>\n",
       "      <td>3</td>\n",
       "      <td>{'max_depth': None, 'min_samples_leaf': 1, 'mi...</td>\n",
       "      <td>1.0</td>\n",
       "      <td>0.948413</td>\n",
       "      <td>1.0</td>\n",
       "      <td>0.952381</td>\n",
       "      <td>1.0</td>\n",
       "      <td>0.980159</td>\n",
       "      <td>0.024333</td>\n",
       "      <td>1</td>\n",
       "    </tr>\n",
       "    <tr>\n",
       "      <th>2</th>\n",
       "      <td>0.003114</td>\n",
       "      <td>0.001173</td>\n",
       "      <td>0.003593</td>\n",
       "      <td>0.001135</td>\n",
       "      <td>None</td>\n",
       "      <td>1</td>\n",
       "      <td>4</td>\n",
       "      <td>{'max_depth': None, 'min_samples_leaf': 1, 'mi...</td>\n",
       "      <td>1.0</td>\n",
       "      <td>0.948413</td>\n",
       "      <td>1.0</td>\n",
       "      <td>0.952381</td>\n",
       "      <td>1.0</td>\n",
       "      <td>0.980159</td>\n",
       "      <td>0.024333</td>\n",
       "      <td>1</td>\n",
       "    </tr>\n",
       "    <tr>\n",
       "      <th>3</th>\n",
       "      <td>0.003840</td>\n",
       "      <td>0.001653</td>\n",
       "      <td>0.002916</td>\n",
       "      <td>0.001385</td>\n",
       "      <td>None</td>\n",
       "      <td>1</td>\n",
       "      <td>5</td>\n",
       "      <td>{'max_depth': None, 'min_samples_leaf': 1, 'mi...</td>\n",
       "      <td>1.0</td>\n",
       "      <td>0.948413</td>\n",
       "      <td>1.0</td>\n",
       "      <td>0.952381</td>\n",
       "      <td>1.0</td>\n",
       "      <td>0.980159</td>\n",
       "      <td>0.024333</td>\n",
       "      <td>1</td>\n",
       "    </tr>\n",
       "    <tr>\n",
       "      <th>48</th>\n",
       "      <td>0.002706</td>\n",
       "      <td>0.001401</td>\n",
       "      <td>0.002532</td>\n",
       "      <td>0.001455</td>\n",
       "      <td>4</td>\n",
       "      <td>1</td>\n",
       "      <td>2</td>\n",
       "      <td>{'max_depth': 4, 'min_samples_leaf': 1, 'min_s...</td>\n",
       "      <td>1.0</td>\n",
       "      <td>0.948413</td>\n",
       "      <td>1.0</td>\n",
       "      <td>0.952381</td>\n",
       "      <td>1.0</td>\n",
       "      <td>0.980159</td>\n",
       "      <td>0.024333</td>\n",
       "      <td>1</td>\n",
       "    </tr>\n",
       "    <tr>\n",
       "      <th>49</th>\n",
       "      <td>0.003684</td>\n",
       "      <td>0.002359</td>\n",
       "      <td>0.003895</td>\n",
       "      <td>0.003246</td>\n",
       "      <td>4</td>\n",
       "      <td>1</td>\n",
       "      <td>3</td>\n",
       "      <td>{'max_depth': 4, 'min_samples_leaf': 1, 'min_s...</td>\n",
       "      <td>1.0</td>\n",
       "      <td>0.948413</td>\n",
       "      <td>1.0</td>\n",
       "      <td>0.952381</td>\n",
       "      <td>1.0</td>\n",
       "      <td>0.980159</td>\n",
       "      <td>0.024333</td>\n",
       "      <td>1</td>\n",
       "    </tr>\n",
       "    <tr>\n",
       "      <th>50</th>\n",
       "      <td>0.003882</td>\n",
       "      <td>0.001320</td>\n",
       "      <td>0.002852</td>\n",
       "      <td>0.000565</td>\n",
       "      <td>4</td>\n",
       "      <td>1</td>\n",
       "      <td>4</td>\n",
       "      <td>{'max_depth': 4, 'min_samples_leaf': 1, 'min_s...</td>\n",
       "      <td>1.0</td>\n",
       "      <td>0.948413</td>\n",
       "      <td>1.0</td>\n",
       "      <td>0.952381</td>\n",
       "      <td>1.0</td>\n",
       "      <td>0.980159</td>\n",
       "      <td>0.024333</td>\n",
       "      <td>1</td>\n",
       "    </tr>\n",
       "    <tr>\n",
       "      <th>51</th>\n",
       "      <td>0.003115</td>\n",
       "      <td>0.001402</td>\n",
       "      <td>0.001969</td>\n",
       "      <td>0.000526</td>\n",
       "      <td>4</td>\n",
       "      <td>1</td>\n",
       "      <td>5</td>\n",
       "      <td>{'max_depth': 4, 'min_samples_leaf': 1, 'min_s...</td>\n",
       "      <td>1.0</td>\n",
       "      <td>0.948413</td>\n",
       "      <td>1.0</td>\n",
       "      <td>0.952381</td>\n",
       "      <td>1.0</td>\n",
       "      <td>0.980159</td>\n",
       "      <td>0.024333</td>\n",
       "      <td>1</td>\n",
       "    </tr>\n",
       "    <tr>\n",
       "      <th>64</th>\n",
       "      <td>0.003928</td>\n",
       "      <td>0.001218</td>\n",
       "      <td>0.003506</td>\n",
       "      <td>0.002315</td>\n",
       "      <td>5</td>\n",
       "      <td>1</td>\n",
       "      <td>2</td>\n",
       "      <td>{'max_depth': 5, 'min_samples_leaf': 1, 'min_s...</td>\n",
       "      <td>1.0</td>\n",
       "      <td>0.948413</td>\n",
       "      <td>1.0</td>\n",
       "      <td>0.952381</td>\n",
       "      <td>1.0</td>\n",
       "      <td>0.980159</td>\n",
       "      <td>0.024333</td>\n",
       "      <td>1</td>\n",
       "    </tr>\n",
       "    <tr>\n",
       "      <th>65</th>\n",
       "      <td>0.003323</td>\n",
       "      <td>0.002065</td>\n",
       "      <td>0.002407</td>\n",
       "      <td>0.001499</td>\n",
       "      <td>5</td>\n",
       "      <td>1</td>\n",
       "      <td>3</td>\n",
       "      <td>{'max_depth': 5, 'min_samples_leaf': 1, 'min_s...</td>\n",
       "      <td>1.0</td>\n",
       "      <td>0.948413</td>\n",
       "      <td>1.0</td>\n",
       "      <td>0.952381</td>\n",
       "      <td>1.0</td>\n",
       "      <td>0.980159</td>\n",
       "      <td>0.024333</td>\n",
       "      <td>1</td>\n",
       "    </tr>\n",
       "    <tr>\n",
       "      <th>66</th>\n",
       "      <td>0.002915</td>\n",
       "      <td>0.001861</td>\n",
       "      <td>0.002135</td>\n",
       "      <td>0.000720</td>\n",
       "      <td>5</td>\n",
       "      <td>1</td>\n",
       "      <td>4</td>\n",
       "      <td>{'max_depth': 5, 'min_samples_leaf': 1, 'min_s...</td>\n",
       "      <td>1.0</td>\n",
       "      <td>0.948413</td>\n",
       "      <td>1.0</td>\n",
       "      <td>0.952381</td>\n",
       "      <td>1.0</td>\n",
       "      <td>0.980159</td>\n",
       "      <td>0.024333</td>\n",
       "      <td>1</td>\n",
       "    </tr>\n",
       "    <tr>\n",
       "      <th>67</th>\n",
       "      <td>0.002681</td>\n",
       "      <td>0.001398</td>\n",
       "      <td>0.001972</td>\n",
       "      <td>0.000946</td>\n",
       "      <td>5</td>\n",
       "      <td>1</td>\n",
       "      <td>5</td>\n",
       "      <td>{'max_depth': 5, 'min_samples_leaf': 1, 'min_s...</td>\n",
       "      <td>1.0</td>\n",
       "      <td>0.948413</td>\n",
       "      <td>1.0</td>\n",
       "      <td>0.952381</td>\n",
       "      <td>1.0</td>\n",
       "      <td>0.980159</td>\n",
       "      <td>0.024333</td>\n",
       "      <td>1</td>\n",
       "    </tr>\n",
       "  </tbody>\n",
       "</table>\n",
       "</div>"
      ],
      "text/plain": [
       "    mean_fit_time  std_fit_time  mean_score_time  std_score_time  \\\n",
       "0        0.006388      0.001799         0.003234        0.001272   \n",
       "1        0.002727      0.001103         0.002424        0.000876   \n",
       "2        0.003114      0.001173         0.003593        0.001135   \n",
       "3        0.003840      0.001653         0.002916        0.001385   \n",
       "48       0.002706      0.001401         0.002532        0.001455   \n",
       "49       0.003684      0.002359         0.003895        0.003246   \n",
       "50       0.003882      0.001320         0.002852        0.000565   \n",
       "51       0.003115      0.001402         0.001969        0.000526   \n",
       "64       0.003928      0.001218         0.003506        0.002315   \n",
       "65       0.003323      0.002065         0.002407        0.001499   \n",
       "66       0.002915      0.001861         0.002135        0.000720   \n",
       "67       0.002681      0.001398         0.001972        0.000946   \n",
       "\n",
       "   param_max_depth param_min_samples_leaf param_min_samples_split  \\\n",
       "0             None                      1                       2   \n",
       "1             None                      1                       3   \n",
       "2             None                      1                       4   \n",
       "3             None                      1                       5   \n",
       "48               4                      1                       2   \n",
       "49               4                      1                       3   \n",
       "50               4                      1                       4   \n",
       "51               4                      1                       5   \n",
       "64               5                      1                       2   \n",
       "65               5                      1                       3   \n",
       "66               5                      1                       4   \n",
       "67               5                      1                       5   \n",
       "\n",
       "                                               params  split0_test_score  \\\n",
       "0   {'max_depth': None, 'min_samples_leaf': 1, 'mi...                1.0   \n",
       "1   {'max_depth': None, 'min_samples_leaf': 1, 'mi...                1.0   \n",
       "2   {'max_depth': None, 'min_samples_leaf': 1, 'mi...                1.0   \n",
       "3   {'max_depth': None, 'min_samples_leaf': 1, 'mi...                1.0   \n",
       "48  {'max_depth': 4, 'min_samples_leaf': 1, 'min_s...                1.0   \n",
       "49  {'max_depth': 4, 'min_samples_leaf': 1, 'min_s...                1.0   \n",
       "50  {'max_depth': 4, 'min_samples_leaf': 1, 'min_s...                1.0   \n",
       "51  {'max_depth': 4, 'min_samples_leaf': 1, 'min_s...                1.0   \n",
       "64  {'max_depth': 5, 'min_samples_leaf': 1, 'min_s...                1.0   \n",
       "65  {'max_depth': 5, 'min_samples_leaf': 1, 'min_s...                1.0   \n",
       "66  {'max_depth': 5, 'min_samples_leaf': 1, 'min_s...                1.0   \n",
       "67  {'max_depth': 5, 'min_samples_leaf': 1, 'min_s...                1.0   \n",
       "\n",
       "    split1_test_score  split2_test_score  split3_test_score  \\\n",
       "0            0.948413                1.0           0.952381   \n",
       "1            0.948413                1.0           0.952381   \n",
       "2            0.948413                1.0           0.952381   \n",
       "3            0.948413                1.0           0.952381   \n",
       "48           0.948413                1.0           0.952381   \n",
       "49           0.948413                1.0           0.952381   \n",
       "50           0.948413                1.0           0.952381   \n",
       "51           0.948413                1.0           0.952381   \n",
       "64           0.948413                1.0           0.952381   \n",
       "65           0.948413                1.0           0.952381   \n",
       "66           0.948413                1.0           0.952381   \n",
       "67           0.948413                1.0           0.952381   \n",
       "\n",
       "    split4_test_score  mean_test_score  std_test_score  rank_test_score  \n",
       "0                 1.0         0.980159        0.024333                1  \n",
       "1                 1.0         0.980159        0.024333                1  \n",
       "2                 1.0         0.980159        0.024333                1  \n",
       "3                 1.0         0.980159        0.024333                1  \n",
       "48                1.0         0.980159        0.024333                1  \n",
       "49                1.0         0.980159        0.024333                1  \n",
       "50                1.0         0.980159        0.024333                1  \n",
       "51                1.0         0.980159        0.024333                1  \n",
       "64                1.0         0.980159        0.024333                1  \n",
       "65                1.0         0.980159        0.024333                1  \n",
       "66                1.0         0.980159        0.024333                1  \n",
       "67                1.0         0.980159        0.024333                1  "
      ]
     },
     "execution_count": 132,
     "metadata": {},
     "output_type": "execute_result"
    }
   ],
   "source": [
    "df[df['rank_test_score'] == 1]"
   ]
  },
  {
   "cell_type": "markdown",
   "metadata": {
    "heading_collapsed": true,
    "hidden": true
   },
   "source": [
    "### Choice of Grid Values"
   ]
  },
  {
   "cell_type": "markdown",
   "metadata": {
    "hidden": true
   },
   "source": [
    "Which values should you pick for your grid? Intuitively, you should try both \"large\" and \"small\" values, but of course what counts as large and small will really depend on the type of hyperparameter."
   ]
  },
  {
   "cell_type": "markdown",
   "metadata": {
    "hidden": true
   },
   "source": [
    "- ALWAYS INCLUDE THE DEFAULT IN YOUR FIRST SEARCH\n",
    "- For a k-nearest neighbors model, 1 or 3 would be a small value for the number of neighbors and 15 or 17 would be a large value.\n",
    "- For a decision tree model, what counts as a small `max_depth` will really depend on the size of your training data. A `max_depth` of 5 would likely have little effect on a very small dataset but, at the same time, it would probably significantly decrease the variance of a model where the dataset is large.\n",
    "- For a logistic regression's regularization constant, you may want to try a set of values that are exponentially separated, like \\[1, 10, 100, 1000\\].\n",
    "- **If a grid search finds optimal values at the ends of your hyperparameter ranges, you might try another grid search with more extreme values.**"
   ]
  },
  {
   "cell_type": "code",
   "execution_count": null,
   "metadata": {},
   "outputs": [],
   "source": [
    "grid_1 = {'max_depth': [1, 3, 5], 'min_samples_split': [2, 3, 4, 5, 6]}\n",
    "\n",
    "# Best values were 5 and 6\n",
    "\n",
    "grid_2 = {'max_depth': [5, 10, 15], 'min_samples_split': [6, 8, 10]}\n",
    "\n",
    "# New best values were 10 and 8\n",
    "\n",
    "grid_3 = {'max_depth': [8, 9, 10, 11, 12], 'min_samples_split': [7, 8, 9]}"
   ]
  },
  {
   "cell_type": "markdown",
   "metadata": {
    "heading_collapsed": true
   },
   "source": [
    "# Better Process: Pipelines"
   ]
  },
  {
   "cell_type": "markdown",
   "metadata": {
    "hidden": true
   },
   "source": [
    "> **Pipelines** can keep our code neat and clean all the way from gathering & cleaning our data, to creating models & fine-tuning them!"
   ]
  },
  {
   "cell_type": "markdown",
   "metadata": {
    "hidden": true
   },
   "source": [
    "![](https://imgs.xkcd.com/comics/data_pipeline.png)"
   ]
  },
  {
   "cell_type": "markdown",
   "metadata": {
    "hidden": true
   },
   "source": [
    "The `Pipeline` class from [Scikit-Learn's API](https://scikit-learn.org/stable/modules/generated/sklearn.pipeline.Pipeline.html) is especially convenient since it allows us to use our other Estimators that we know and love!"
   ]
  },
  {
   "cell_type": "markdown",
   "metadata": {
    "heading_collapsed": true,
    "hidden": true
   },
   "source": [
    "## Advantages of `Pipeline`"
   ]
  },
  {
   "cell_type": "markdown",
   "metadata": {
    "heading_collapsed": true,
    "hidden": true
   },
   "source": [
    "### Reduces Complexity"
   ]
  },
  {
   "cell_type": "markdown",
   "metadata": {
    "hidden": true
   },
   "source": [
    "> You can focus on particular parts of the pipeline one at a time and debug or adjust parts as needed."
   ]
  },
  {
   "cell_type": "markdown",
   "metadata": {
    "heading_collapsed": true,
    "hidden": true
   },
   "source": [
    "### Convenient"
   ]
  },
  {
   "cell_type": "markdown",
   "metadata": {
    "hidden": true
   },
   "source": [
    "> The pipeline summarizes your fine-detail steps. That way you can focus on the big-picture aspects."
   ]
  },
  {
   "cell_type": "markdown",
   "metadata": {
    "heading_collapsed": true,
    "hidden": true
   },
   "source": [
    "### Flexible"
   ]
  },
  {
   "cell_type": "markdown",
   "metadata": {
    "hidden": true
   },
   "source": [
    "> You can use pipelines with different models and with GridSearch."
   ]
  },
  {
   "cell_type": "markdown",
   "metadata": {
    "heading_collapsed": true,
    "hidden": true
   },
   "source": [
    "### Prevent Mistakes"
   ]
  },
  {
   "cell_type": "markdown",
   "metadata": {
    "hidden": true
   },
   "source": [
    "> We can focus on one section at a time.\n",
    ">\n",
    "> We also can ensure data leakage between our training and doesn't occur between our training dataset and validation/testing datasets!"
   ]
  },
  {
   "cell_type": "markdown",
   "metadata": {
    "heading_collapsed": true,
    "hidden": true
   },
   "source": [
    "## Example of Using `Pipeline`"
   ]
  },
  {
   "cell_type": "code",
   "execution_count": 133,
   "metadata": {
    "ExecuteTime": {
     "end_time": "2021-10-28T03:33:53.002370Z",
     "start_time": "2021-10-28T03:33:52.905962Z"
    },
    "hidden": true
   },
   "outputs": [],
   "source": [
    "# Getting some data\n",
    "from sklearn import datasets\n",
    "\n",
    "iris = datasets.load_iris()\n",
    "X = iris.data\n",
    "y = iris.target\n",
    "\n",
    "# Split\n",
    "X_train, X_test, y_train, y_test = train_test_split(X, y, test_size=0.2, \n",
    "                                                    random_state=27)"
   ]
  },
  {
   "cell_type": "markdown",
   "metadata": {
    "heading_collapsed": true,
    "hidden": true
   },
   "source": [
    "### Without the Pipeline class"
   ]
  },
  {
   "cell_type": "code",
   "execution_count": 134,
   "metadata": {
    "ExecuteTime": {
     "end_time": "2021-10-28T03:33:54.664937Z",
     "start_time": "2021-10-28T03:33:54.657819Z"
    },
    "hidden": true
   },
   "outputs": [
    {
     "name": "stdout",
     "output_type": "stream",
     "text": [
      "[2 0 2 2 1 1 1 2 2 0 1 1 0 1 1 1 0 2 2 2 1 0 1 0 2 2 1 0 1 2]\n"
     ]
    }
   ],
   "source": [
    "# Define transformers (will adjust/massage the data)\n",
    "imputer = SimpleImputer(strategy=\"median\") # replaces missing values\n",
    "std_scaler = StandardScaler() # scales the data\n",
    "\n",
    "# Define the classifier (predictor) to train\n",
    "rf_clf = DecisionTreeClassifier(random_state=42)\n",
    "\n",
    "# Have the classifer (and full pipeline) learn/train/fit from the data\n",
    "X_train_filled = imputer.fit_transform(X_train)\n",
    "X_train_scaled = std_scaler.fit_transform(X_train_filled)\n",
    "rf_clf.fit(X_train_scaled, y_train)\n",
    "\n",
    "# Predict using the trained classifier (still need to do the transformations)\n",
    "X_test_filled = imputer.transform(X_test)\n",
    "X_test_scaled = std_scaler.transform(X_test_filled)\n",
    "y_pred = rf_clf.predict(X_test_scaled)\n",
    "print(y_pred)"
   ]
  },
  {
   "cell_type": "markdown",
   "metadata": {
    "hidden": true
   },
   "source": [
    "> Note that if we were to add more steps in this process, we'd have to change both the *training* and *testing* processes."
   ]
  },
  {
   "cell_type": "markdown",
   "metadata": {
    "heading_collapsed": true,
    "hidden": true
   },
   "source": [
    "### With `Pipeline` Class"
   ]
  },
  {
   "cell_type": "code",
   "execution_count": 135,
   "metadata": {
    "ExecuteTime": {
     "end_time": "2021-10-28T03:33:58.205429Z",
     "start_time": "2021-10-28T03:33:58.198897Z"
    },
    "hidden": true
   },
   "outputs": [
    {
     "name": "stdout",
     "output_type": "stream",
     "text": [
      "[2 0 2 2 1 1 1 2 2 0 1 1 0 1 1 1 0 2 2 2 1 0 1 0 2 2 1 0 1 2]\n"
     ]
    }
   ],
   "source": [
    "pipeline = Pipeline([\n",
    "        ('imputer', SimpleImputer(strategy=\"median\")), \n",
    "        ('std_scaler', StandardScaler()),\n",
    "        ('rf_clf', DecisionTreeClassifier(random_state=42)),\n",
    "])\n",
    "\n",
    "\n",
    "# Train the pipeline (tranformations & predictor)\n",
    "pipeline.fit(X_train, y_train)\n",
    "\n",
    "# Predict using the pipeline (includes the transfomers & trained predictor)\n",
    "predicted = pipeline.predict(X_test)\n",
    "print(predicted)"
   ]
  },
  {
   "cell_type": "code",
   "execution_count": 136,
   "metadata": {
    "scrolled": true
   },
   "outputs": [
    {
     "data": {
      "text/plain": [
       "SimpleImputer(strategy='median')"
      ]
     },
     "execution_count": 136,
     "metadata": {},
     "output_type": "execute_result"
    }
   ],
   "source": [
    "pipeline['imputer']"
   ]
  },
  {
   "cell_type": "code",
   "execution_count": 137,
   "metadata": {},
   "outputs": [
    {
     "data": {
      "text/plain": [
       "{'imputer': SimpleImputer(strategy='median'),\n",
       " 'std_scaler': StandardScaler(),\n",
       " 'rf_clf': DecisionTreeClassifier(random_state=42)}"
      ]
     },
     "execution_count": 137,
     "metadata": {},
     "output_type": "execute_result"
    }
   ],
   "source": [
    "pipeline.named_steps"
   ]
  },
  {
   "cell_type": "code",
   "execution_count": 138,
   "metadata": {},
   "outputs": [
    {
     "data": {
      "text/plain": [
       "array([0.        , 0.03338202, 0.55667565, 0.40994234])"
      ]
     },
     "execution_count": 138,
     "metadata": {},
     "output_type": "execute_result"
    }
   ],
   "source": [
    "pipeline['rf_clf'].feature_importances_"
   ]
  },
  {
   "cell_type": "markdown",
   "metadata": {
    "hidden": true
   },
   "source": [
    "> If we need to change our process, we change it _just once_ in the Pipeline"
   ]
  },
  {
   "cell_type": "markdown",
   "metadata": {
    "heading_collapsed": true,
    "hidden": true
   },
   "source": [
    "## Grid Searching a Pipeline"
   ]
  },
  {
   "cell_type": "markdown",
   "metadata": {
    "hidden": true
   },
   "source": [
    "> Let's first get our data prepared like we did before"
   ]
  },
  {
   "cell_type": "code",
   "execution_count": 139,
   "metadata": {
    "ExecuteTime": {
     "end_time": "2021-10-28T03:34:01.754929Z",
     "start_time": "2021-10-28T03:34:01.746719Z"
    },
    "hidden": true
   },
   "outputs": [],
   "source": [
    "penguins = sns.load_dataset('penguins')\n",
    "penguins = penguins.dropna()"
   ]
  },
  {
   "cell_type": "code",
   "execution_count": 140,
   "metadata": {
    "ExecuteTime": {
     "end_time": "2021-10-28T03:34:02.556723Z",
     "start_time": "2021-10-28T03:34:02.552362Z"
    },
    "hidden": true
   },
   "outputs": [],
   "source": [
    "y = penguins.pop('species')\n",
    "X_train, X_test, y_train, y_test = train_test_split(\n",
    "    penguins, y, test_size=0.5, random_state=42)"
   ]
  },
  {
   "cell_type": "code",
   "execution_count": 141,
   "metadata": {
    "ExecuteTime": {
     "end_time": "2021-10-28T03:34:03.045865Z",
     "start_time": "2021-10-28T03:34:03.037423Z"
    },
    "hidden": true
   },
   "outputs": [],
   "source": [
    "X_train_nums = X_train.select_dtypes('float64')\n",
    "\n",
    "ss = StandardScaler()\n",
    "\n",
    "ss.fit(X_train_nums)\n",
    "nums_df = pd.DataFrame(ss.transform(X_train_nums),\n",
    "                      index=X_train_nums.index)"
   ]
  },
  {
   "cell_type": "code",
   "execution_count": 142,
   "metadata": {
    "ExecuteTime": {
     "end_time": "2021-10-28T03:34:04.617701Z",
     "start_time": "2021-10-28T03:34:04.611557Z"
    },
    "hidden": true
   },
   "outputs": [],
   "source": [
    "X_train_cat = X_train.select_dtypes('object')\n",
    "\n",
    "ohe = OneHotEncoder(sparse=False)\n",
    "\n",
    "dums = ohe.fit_transform(X_train_cat)\n",
    "dums_df = pd.DataFrame(dums,\n",
    "                       columns=ohe.get_feature_names(),\n",
    "                       index=X_train_cat.index)"
   ]
  },
  {
   "cell_type": "markdown",
   "metadata": {
    "hidden": true
   },
   "source": [
    "> Intermediary step to treat categorical and numerical data differently"
   ]
  },
  {
   "cell_type": "markdown",
   "metadata": {},
   "source": [
    "### Using `ColumnTransformer`"
   ]
  },
  {
   "cell_type": "code",
   "execution_count": 143,
   "metadata": {
    "ExecuteTime": {
     "end_time": "2021-10-28T03:34:07.230978Z",
     "start_time": "2021-10-28T03:34:07.226999Z"
    }
   },
   "outputs": [
    {
     "data": {
      "text/plain": [
       "Index(['bill_length_mm', 'bill_depth_mm', 'flipper_length_mm', 'body_mass_g'], dtype='object')"
      ]
     },
     "execution_count": 143,
     "metadata": {},
     "output_type": "execute_result"
    }
   ],
   "source": [
    "X_train_nums.columns"
   ]
  },
  {
   "cell_type": "code",
   "execution_count": 144,
   "metadata": {
    "ExecuteTime": {
     "end_time": "2021-10-28T03:34:07.623709Z",
     "start_time": "2021-10-28T03:34:07.620047Z"
    },
    "hidden": true
   },
   "outputs": [],
   "source": [
    "numerical_pipeline = Pipeline(steps=[('ss', StandardScaler())])\n",
    "\n",
    "categorical_pipeline = Pipeline(steps=[('ohe', OneHotEncoder(sparse=False, \n",
    "                                                            handle_unknown='ignore'))])\n",
    "transformer = ColumnTransformer(transformers=[\n",
    "    ('num', numerical_pipeline, X_train_nums.columns),\n",
    "    ('cat', categorical_pipeline, X_train_cat.columns)])"
   ]
  },
  {
   "cell_type": "code",
   "execution_count": 145,
   "metadata": {
    "ExecuteTime": {
     "end_time": "2021-10-28T03:34:09.542917Z",
     "start_time": "2021-10-28T03:34:09.540088Z"
    },
    "hidden": true
   },
   "outputs": [],
   "source": [
    "model_pipe = Pipeline(steps=[('col_tr', transformer),\n",
    "                             ('log_reg', LogisticRegression(random_state=42))])"
   ]
  },
  {
   "cell_type": "markdown",
   "metadata": {
    "hidden": true
   },
   "source": [
    "> Finally showing we can fit the full pipeline"
   ]
  },
  {
   "cell_type": "code",
   "execution_count": 146,
   "metadata": {
    "scrolled": true
   },
   "outputs": [
    {
     "data": {
      "text/plain": [
       "Pipeline(steps=[('col_tr',\n",
       "                 ColumnTransformer(transformers=[('num',\n",
       "                                                  Pipeline(steps=[('ss',\n",
       "                                                                   StandardScaler())]),\n",
       "                                                  Index(['bill_length_mm', 'bill_depth_mm', 'flipper_length_mm', 'body_mass_g'], dtype='object')),\n",
       "                                                 ('cat',\n",
       "                                                  Pipeline(steps=[('ohe',\n",
       "                                                                   OneHotEncoder(handle_unknown='ignore',\n",
       "                                                                                 sparse=False))]),\n",
       "                                                  Index(['island', 'sex'], dtype='object'))])),\n",
       "                ('log_reg', LogisticRegression(random_state=42))])"
      ]
     },
     "execution_count": 146,
     "metadata": {},
     "output_type": "execute_result"
    }
   ],
   "source": [
    "model_pipe.fit(X_train, y_train)"
   ]
  },
  {
   "cell_type": "code",
   "execution_count": 147,
   "metadata": {
    "ExecuteTime": {
     "end_time": "2021-10-28T03:34:13.618940Z",
     "start_time": "2021-10-28T03:34:13.603520Z"
    },
    "hidden": true,
    "scrolled": true
   },
   "outputs": [
    {
     "data": {
      "text/plain": [
       "1.0"
      ]
     },
     "execution_count": 147,
     "metadata": {},
     "output_type": "execute_result"
    }
   ],
   "source": [
    "model_pipe.score(X_train, y_train)"
   ]
  },
  {
   "cell_type": "code",
   "execution_count": 148,
   "metadata": {
    "scrolled": true
   },
   "outputs": [
    {
     "data": {
      "text/plain": [
       "0.9940119760479041"
      ]
     },
     "execution_count": 148,
     "metadata": {},
     "output_type": "execute_result"
    }
   ],
   "source": [
    "model_pipe.score(X_test, y_test)"
   ]
  },
  {
   "cell_type": "markdown",
   "metadata": {
    "hidden": true
   },
   "source": [
    "> Performing grid search on the full pipeline"
   ]
  },
  {
   "cell_type": "code",
   "execution_count": 149,
   "metadata": {},
   "outputs": [
    {
     "data": {
      "text/plain": [
       "{'col_tr': ColumnTransformer(transformers=[('num',\n",
       "                                  Pipeline(steps=[('ss', StandardScaler())]),\n",
       "                                  Index(['bill_length_mm', 'bill_depth_mm', 'flipper_length_mm', 'body_mass_g'], dtype='object')),\n",
       "                                 ('cat',\n",
       "                                  Pipeline(steps=[('ohe',\n",
       "                                                   OneHotEncoder(handle_unknown='ignore',\n",
       "                                                                 sparse=False))]),\n",
       "                                  Index(['island', 'sex'], dtype='object'))]),\n",
       " 'log_reg': LogisticRegression(random_state=42)}"
      ]
     },
     "execution_count": 149,
     "metadata": {},
     "output_type": "execute_result"
    }
   ],
   "source": [
    "model_pipe.named_steps"
   ]
  },
  {
   "cell_type": "code",
   "execution_count": 150,
   "metadata": {},
   "outputs": [
    {
     "data": {
      "text/plain": [
       "LogisticRegression(random_state=42)"
      ]
     },
     "execution_count": 150,
     "metadata": {},
     "output_type": "execute_result"
    }
   ],
   "source": [
    "model_pipe.named_steps['log_reg']"
   ]
  },
  {
   "cell_type": "code",
   "execution_count": 151,
   "metadata": {},
   "outputs": [
    {
     "data": {
      "text/plain": [
       "{'num': Pipeline(steps=[('ss', StandardScaler())]),\n",
       " 'cat': Pipeline(steps=[('ohe', OneHotEncoder(handle_unknown='ignore', sparse=False))])}"
      ]
     },
     "execution_count": 151,
     "metadata": {},
     "output_type": "execute_result"
    }
   ],
   "source": [
    "model_pipe['col_tr'].named_transformers_"
   ]
  },
  {
   "cell_type": "code",
   "execution_count": 159,
   "metadata": {
    "ExecuteTime": {
     "end_time": "2021-10-28T03:34:16.220781Z",
     "start_time": "2021-10-28T03:34:16.217965Z"
    },
    "hidden": true
   },
   "outputs": [],
   "source": [
    "pipe_grid = {'log_reg__C':[1, 10, 100],\n",
    "            'col_tr__num__ss__with_std':[True, False]}\n",
    "gs_pipe = GridSearchCV(estimator=model_pipe, param_grid=pipe_grid, verbose=2)"
   ]
  },
  {
   "cell_type": "code",
   "execution_count": 160,
   "metadata": {
    "ExecuteTime": {
     "end_time": "2021-10-28T03:34:17.181559Z",
     "start_time": "2021-10-28T03:34:16.542973Z"
    },
    "hidden": true,
    "scrolled": true
   },
   "outputs": [
    {
     "name": "stdout",
     "output_type": "stream",
     "text": [
      "Fitting 5 folds for each of 6 candidates, totalling 30 fits\n",
      "[CV] col_tr__num__ss__with_std=True, log_reg__C=1 ....................\n",
      "[CV] ..... col_tr__num__ss__with_std=True, log_reg__C=1, total=   0.0s\n",
      "[CV] col_tr__num__ss__with_std=True, log_reg__C=1 ....................\n",
      "[CV] ..... col_tr__num__ss__with_std=True, log_reg__C=1, total=   0.0s\n",
      "[CV] col_tr__num__ss__with_std=True, log_reg__C=1 ....................\n",
      "[CV] ..... col_tr__num__ss__with_std=True, log_reg__C=1, total=   0.0s\n",
      "[CV] col_tr__num__ss__with_std=True, log_reg__C=1 ....................\n",
      "[CV] ..... col_tr__num__ss__with_std=True, log_reg__C=1, total=   0.0s\n",
      "[CV] col_tr__num__ss__with_std=True, log_reg__C=1 ....................\n",
      "[CV] ..... col_tr__num__ss__with_std=True, log_reg__C=1, total=   0.0s\n",
      "[CV] col_tr__num__ss__with_std=True, log_reg__C=10 ...................\n",
      "[CV] .... col_tr__num__ss__with_std=True, log_reg__C=10, total=   0.0s\n",
      "[CV] col_tr__num__ss__with_std=True, log_reg__C=10 ...................\n",
      "[CV] .... col_tr__num__ss__with_std=True, log_reg__C=10, total=   0.0s\n",
      "[CV] col_tr__num__ss__with_std=True, log_reg__C=10 ...................\n",
      "[CV] .... col_tr__num__ss__with_std=True, log_reg__C=10, total=   0.0s\n",
      "[CV] col_tr__num__ss__with_std=True, log_reg__C=10 ...................\n",
      "[CV] .... col_tr__num__ss__with_std=True, log_reg__C=10, total=   0.0s\n",
      "[CV] col_tr__num__ss__with_std=True, log_reg__C=10 ...................\n",
      "[CV] .... col_tr__num__ss__with_std=True, log_reg__C=10, total=   0.0s\n",
      "[CV] col_tr__num__ss__with_std=True, log_reg__C=100 ..................\n",
      "[CV] ... col_tr__num__ss__with_std=True, log_reg__C=100, total=   0.0s\n",
      "[CV] col_tr__num__ss__with_std=True, log_reg__C=100 ..................\n"
     ]
    },
    {
     "name": "stderr",
     "output_type": "stream",
     "text": [
      "[Parallel(n_jobs=1)]: Using backend SequentialBackend with 1 concurrent workers.\n",
      "[Parallel(n_jobs=1)]: Done   1 out of   1 | elapsed:    0.0s remaining:    0.0s\n"
     ]
    },
    {
     "name": "stdout",
     "output_type": "stream",
     "text": [
      "[CV] ... col_tr__num__ss__with_std=True, log_reg__C=100, total=   0.0s\n",
      "[CV] col_tr__num__ss__with_std=True, log_reg__C=100 ..................\n",
      "[CV] ... col_tr__num__ss__with_std=True, log_reg__C=100, total=   0.0s\n",
      "[CV] col_tr__num__ss__with_std=True, log_reg__C=100 ..................\n",
      "[CV] ... col_tr__num__ss__with_std=True, log_reg__C=100, total=   0.0s\n",
      "[CV] col_tr__num__ss__with_std=True, log_reg__C=100 ..................\n",
      "[CV] ... col_tr__num__ss__with_std=True, log_reg__C=100, total=   0.0s\n",
      "[CV] col_tr__num__ss__with_std=False, log_reg__C=1 ...................\n",
      "[CV] .... col_tr__num__ss__with_std=False, log_reg__C=1, total=   0.0s\n",
      "[CV] col_tr__num__ss__with_std=False, log_reg__C=1 ...................\n",
      "[CV] .... col_tr__num__ss__with_std=False, log_reg__C=1, total=   0.0s\n",
      "[CV] col_tr__num__ss__with_std=False, log_reg__C=1 ...................\n",
      "[CV] .... col_tr__num__ss__with_std=False, log_reg__C=1, total=   0.0s\n",
      "[CV] col_tr__num__ss__with_std=False, log_reg__C=1 ...................\n",
      "[CV] .... col_tr__num__ss__with_std=False, log_reg__C=1, total=   0.0s\n",
      "[CV] col_tr__num__ss__with_std=False, log_reg__C=1 ...................\n",
      "[CV] .... col_tr__num__ss__with_std=False, log_reg__C=1, total=   0.0s\n",
      "[CV] col_tr__num__ss__with_std=False, log_reg__C=10 ..................\n",
      "[CV] ... col_tr__num__ss__with_std=False, log_reg__C=10, total=   0.0s\n",
      "[CV] col_tr__num__ss__with_std=False, log_reg__C=10 .................."
     ]
    },
    {
     "name": "stderr",
     "output_type": "stream",
     "text": [
      "/opt/anaconda3/envs/learn-env/lib/python3.8/site-packages/sklearn/linear_model/_logistic.py:762: ConvergenceWarning: lbfgs failed to converge (status=1):\n",
      "STOP: TOTAL NO. of ITERATIONS REACHED LIMIT.\n",
      "\n",
      "Increase the number of iterations (max_iter) or scale the data as shown in:\n",
      "    https://scikit-learn.org/stable/modules/preprocessing.html\n",
      "Please also refer to the documentation for alternative solver options:\n",
      "    https://scikit-learn.org/stable/modules/linear_model.html#logistic-regression\n",
      "  n_iter_i = _check_optimize_result(\n",
      "/opt/anaconda3/envs/learn-env/lib/python3.8/site-packages/sklearn/linear_model/_logistic.py:762: ConvergenceWarning: lbfgs failed to converge (status=1):\n",
      "STOP: TOTAL NO. of ITERATIONS REACHED LIMIT.\n",
      "\n",
      "Increase the number of iterations (max_iter) or scale the data as shown in:\n",
      "    https://scikit-learn.org/stable/modules/preprocessing.html\n",
      "Please also refer to the documentation for alternative solver options:\n",
      "    https://scikit-learn.org/stable/modules/linear_model.html#logistic-regression\n",
      "  n_iter_i = _check_optimize_result(\n",
      "/opt/anaconda3/envs/learn-env/lib/python3.8/site-packages/sklearn/linear_model/_logistic.py:762: ConvergenceWarning: lbfgs failed to converge (status=1):\n",
      "STOP: TOTAL NO. of ITERATIONS REACHED LIMIT.\n",
      "\n",
      "Increase the number of iterations (max_iter) or scale the data as shown in:\n",
      "    https://scikit-learn.org/stable/modules/preprocessing.html\n",
      "Please also refer to the documentation for alternative solver options:\n",
      "    https://scikit-learn.org/stable/modules/linear_model.html#logistic-regression\n",
      "  n_iter_i = _check_optimize_result(\n",
      "/opt/anaconda3/envs/learn-env/lib/python3.8/site-packages/sklearn/linear_model/_logistic.py:762: ConvergenceWarning: lbfgs failed to converge (status=1):\n",
      "STOP: TOTAL NO. of ITERATIONS REACHED LIMIT.\n",
      "\n",
      "Increase the number of iterations (max_iter) or scale the data as shown in:\n",
      "    https://scikit-learn.org/stable/modules/preprocessing.html\n",
      "Please also refer to the documentation for alternative solver options:\n",
      "    https://scikit-learn.org/stable/modules/linear_model.html#logistic-regression\n",
      "  n_iter_i = _check_optimize_result(\n",
      "/opt/anaconda3/envs/learn-env/lib/python3.8/site-packages/sklearn/linear_model/_logistic.py:762: ConvergenceWarning: lbfgs failed to converge (status=1):\n",
      "STOP: TOTAL NO. of ITERATIONS REACHED LIMIT.\n",
      "\n",
      "Increase the number of iterations (max_iter) or scale the data as shown in:\n",
      "    https://scikit-learn.org/stable/modules/preprocessing.html\n",
      "Please also refer to the documentation for alternative solver options:\n",
      "    https://scikit-learn.org/stable/modules/linear_model.html#logistic-regression\n",
      "  n_iter_i = _check_optimize_result(\n",
      "/opt/anaconda3/envs/learn-env/lib/python3.8/site-packages/sklearn/linear_model/_logistic.py:762: ConvergenceWarning: lbfgs failed to converge (status=1):\n",
      "STOP: TOTAL NO. of ITERATIONS REACHED LIMIT.\n",
      "\n",
      "Increase the number of iterations (max_iter) or scale the data as shown in:\n",
      "    https://scikit-learn.org/stable/modules/preprocessing.html\n",
      "Please also refer to the documentation for alternative solver options:\n",
      "    https://scikit-learn.org/stable/modules/linear_model.html#logistic-regression\n",
      "  n_iter_i = _check_optimize_result(\n",
      "/opt/anaconda3/envs/learn-env/lib/python3.8/site-packages/sklearn/linear_model/_logistic.py:762: ConvergenceWarning: lbfgs failed to converge (status=1):\n",
      "STOP: TOTAL NO. of ITERATIONS REACHED LIMIT.\n",
      "\n",
      "Increase the number of iterations (max_iter) or scale the data as shown in:\n",
      "    https://scikit-learn.org/stable/modules/preprocessing.html\n",
      "Please also refer to the documentation for alternative solver options:\n",
      "    https://scikit-learn.org/stable/modules/linear_model.html#logistic-regression\n",
      "  n_iter_i = _check_optimize_result(\n",
      "/opt/anaconda3/envs/learn-env/lib/python3.8/site-packages/sklearn/linear_model/_logistic.py:762: ConvergenceWarning: lbfgs failed to converge (status=1):\n",
      "STOP: TOTAL NO. of ITERATIONS REACHED LIMIT.\n",
      "\n",
      "Increase the number of iterations (max_iter) or scale the data as shown in:\n",
      "    https://scikit-learn.org/stable/modules/preprocessing.html\n",
      "Please also refer to the documentation for alternative solver options:\n",
      "    https://scikit-learn.org/stable/modules/linear_model.html#logistic-regression\n",
      "  n_iter_i = _check_optimize_result(\n"
     ]
    },
    {
     "name": "stdout",
     "output_type": "stream",
     "text": [
      "\n",
      "[CV] ... col_tr__num__ss__with_std=False, log_reg__C=10, total=   0.0s\n",
      "[CV] col_tr__num__ss__with_std=False, log_reg__C=10 ..................\n",
      "[CV] ... col_tr__num__ss__with_std=False, log_reg__C=10, total=   0.0s\n",
      "[CV] col_tr__num__ss__with_std=False, log_reg__C=10 ..................\n",
      "[CV] ... col_tr__num__ss__with_std=False, log_reg__C=10, total=   0.0s\n",
      "[CV] col_tr__num__ss__with_std=False, log_reg__C=10 ..................\n",
      "[CV] ... col_tr__num__ss__with_std=False, log_reg__C=10, total=   0.0s\n",
      "[CV] col_tr__num__ss__with_std=False, log_reg__C=100 .................\n",
      "[CV] .. col_tr__num__ss__with_std=False, log_reg__C=100, total=   0.0s\n",
      "[CV] col_tr__num__ss__with_std=False, log_reg__C=100 .................\n",
      "[CV] .. col_tr__num__ss__with_std=False, log_reg__C=100, total=   0.0s\n",
      "[CV] col_tr__num__ss__with_std=False, log_reg__C=100 .................\n",
      "[CV] .. col_tr__num__ss__with_std=False, log_reg__C=100, total=   0.0s\n",
      "[CV] col_tr__num__ss__with_std=False, log_reg__C=100 .................\n"
     ]
    },
    {
     "name": "stderr",
     "output_type": "stream",
     "text": [
      "/opt/anaconda3/envs/learn-env/lib/python3.8/site-packages/sklearn/linear_model/_logistic.py:762: ConvergenceWarning: lbfgs failed to converge (status=1):\n",
      "STOP: TOTAL NO. of ITERATIONS REACHED LIMIT.\n",
      "\n",
      "Increase the number of iterations (max_iter) or scale the data as shown in:\n",
      "    https://scikit-learn.org/stable/modules/preprocessing.html\n",
      "Please also refer to the documentation for alternative solver options:\n",
      "    https://scikit-learn.org/stable/modules/linear_model.html#logistic-regression\n",
      "  n_iter_i = _check_optimize_result(\n",
      "/opt/anaconda3/envs/learn-env/lib/python3.8/site-packages/sklearn/linear_model/_logistic.py:762: ConvergenceWarning: lbfgs failed to converge (status=1):\n",
      "STOP: TOTAL NO. of ITERATIONS REACHED LIMIT.\n",
      "\n",
      "Increase the number of iterations (max_iter) or scale the data as shown in:\n",
      "    https://scikit-learn.org/stable/modules/preprocessing.html\n",
      "Please also refer to the documentation for alternative solver options:\n",
      "    https://scikit-learn.org/stable/modules/linear_model.html#logistic-regression\n",
      "  n_iter_i = _check_optimize_result(\n",
      "/opt/anaconda3/envs/learn-env/lib/python3.8/site-packages/sklearn/linear_model/_logistic.py:762: ConvergenceWarning: lbfgs failed to converge (status=1):\n",
      "STOP: TOTAL NO. of ITERATIONS REACHED LIMIT.\n",
      "\n",
      "Increase the number of iterations (max_iter) or scale the data as shown in:\n",
      "    https://scikit-learn.org/stable/modules/preprocessing.html\n",
      "Please also refer to the documentation for alternative solver options:\n",
      "    https://scikit-learn.org/stable/modules/linear_model.html#logistic-regression\n",
      "  n_iter_i = _check_optimize_result(\n",
      "/opt/anaconda3/envs/learn-env/lib/python3.8/site-packages/sklearn/linear_model/_logistic.py:762: ConvergenceWarning: lbfgs failed to converge (status=1):\n",
      "STOP: TOTAL NO. of ITERATIONS REACHED LIMIT.\n",
      "\n",
      "Increase the number of iterations (max_iter) or scale the data as shown in:\n",
      "    https://scikit-learn.org/stable/modules/preprocessing.html\n",
      "Please also refer to the documentation for alternative solver options:\n",
      "    https://scikit-learn.org/stable/modules/linear_model.html#logistic-regression\n",
      "  n_iter_i = _check_optimize_result(\n",
      "/opt/anaconda3/envs/learn-env/lib/python3.8/site-packages/sklearn/linear_model/_logistic.py:762: ConvergenceWarning: lbfgs failed to converge (status=1):\n",
      "STOP: TOTAL NO. of ITERATIONS REACHED LIMIT.\n",
      "\n",
      "Increase the number of iterations (max_iter) or scale the data as shown in:\n",
      "    https://scikit-learn.org/stable/modules/preprocessing.html\n",
      "Please also refer to the documentation for alternative solver options:\n",
      "    https://scikit-learn.org/stable/modules/linear_model.html#logistic-regression\n",
      "  n_iter_i = _check_optimize_result(\n",
      "/opt/anaconda3/envs/learn-env/lib/python3.8/site-packages/sklearn/linear_model/_logistic.py:762: ConvergenceWarning: lbfgs failed to converge (status=1):\n",
      "STOP: TOTAL NO. of ITERATIONS REACHED LIMIT.\n",
      "\n",
      "Increase the number of iterations (max_iter) or scale the data as shown in:\n",
      "    https://scikit-learn.org/stable/modules/preprocessing.html\n",
      "Please also refer to the documentation for alternative solver options:\n",
      "    https://scikit-learn.org/stable/modules/linear_model.html#logistic-regression\n",
      "  n_iter_i = _check_optimize_result(\n",
      "/opt/anaconda3/envs/learn-env/lib/python3.8/site-packages/sklearn/linear_model/_logistic.py:762: ConvergenceWarning: lbfgs failed to converge (status=1):\n",
      "STOP: TOTAL NO. of ITERATIONS REACHED LIMIT.\n",
      "\n",
      "Increase the number of iterations (max_iter) or scale the data as shown in:\n",
      "    https://scikit-learn.org/stable/modules/preprocessing.html\n",
      "Please also refer to the documentation for alternative solver options:\n",
      "    https://scikit-learn.org/stable/modules/linear_model.html#logistic-regression\n",
      "  n_iter_i = _check_optimize_result(\n",
      "[Parallel(n_jobs=1)]: Done  30 out of  30 | elapsed:    0.7s finished\n"
     ]
    },
    {
     "name": "stdout",
     "output_type": "stream",
     "text": [
      "[CV] .. col_tr__num__ss__with_std=False, log_reg__C=100, total=   0.0s\n",
      "[CV] col_tr__num__ss__with_std=False, log_reg__C=100 .................\n",
      "[CV] .. col_tr__num__ss__with_std=False, log_reg__C=100, total=   0.0s\n"
     ]
    },
    {
     "data": {
      "text/plain": [
       "GridSearchCV(estimator=Pipeline(steps=[('col_tr',\n",
       "                                        ColumnTransformer(transformers=[('num',\n",
       "                                                                         Pipeline(steps=[('ss',\n",
       "                                                                                          StandardScaler())]),\n",
       "                                                                         Index(['bill_length_mm', 'bill_depth_mm', 'flipper_length_mm', 'body_mass_g'], dtype='object')),\n",
       "                                                                        ('cat',\n",
       "                                                                         Pipeline(steps=[('ohe',\n",
       "                                                                                          OneHotEncoder(handle_unknown='ignore',\n",
       "                                                                                                        sparse=False))]),\n",
       "                                                                         Index(['island', 'sex'], dtype='object'))])),\n",
       "                                       ('log_reg',\n",
       "                                        LogisticRegression(random_state=42))]),\n",
       "             param_grid={'col_tr__num__ss__with_std': [True, False],\n",
       "                         'log_reg__C': [1, 10, 100]},\n",
       "             verbose=2)"
      ]
     },
     "execution_count": 160,
     "metadata": {},
     "output_type": "execute_result"
    }
   ],
   "source": [
    "gs_pipe.fit(X_train, y_train)"
   ]
  },
  {
   "cell_type": "code",
   "execution_count": 161,
   "metadata": {
    "ExecuteTime": {
     "end_time": "2021-10-28T03:34:17.201665Z",
     "start_time": "2021-10-28T03:34:17.183254Z"
    },
    "hidden": true,
    "scrolled": true
   },
   "outputs": [
    {
     "data": {
      "text/html": [
       "<div>\n",
       "<style scoped>\n",
       "    .dataframe tbody tr th:only-of-type {\n",
       "        vertical-align: middle;\n",
       "    }\n",
       "\n",
       "    .dataframe tbody tr th {\n",
       "        vertical-align: top;\n",
       "    }\n",
       "\n",
       "    .dataframe thead th {\n",
       "        text-align: right;\n",
       "    }\n",
       "</style>\n",
       "<table border=\"1\" class=\"dataframe\">\n",
       "  <thead>\n",
       "    <tr style=\"text-align: right;\">\n",
       "      <th></th>\n",
       "      <th>mean_fit_time</th>\n",
       "      <th>std_fit_time</th>\n",
       "      <th>mean_score_time</th>\n",
       "      <th>std_score_time</th>\n",
       "      <th>param_col_tr__num__ss__with_std</th>\n",
       "      <th>param_log_reg__C</th>\n",
       "      <th>params</th>\n",
       "      <th>split0_test_score</th>\n",
       "      <th>split1_test_score</th>\n",
       "      <th>split2_test_score</th>\n",
       "      <th>split3_test_score</th>\n",
       "      <th>split4_test_score</th>\n",
       "      <th>mean_test_score</th>\n",
       "      <th>std_test_score</th>\n",
       "      <th>rank_test_score</th>\n",
       "    </tr>\n",
       "  </thead>\n",
       "  <tbody>\n",
       "    <tr>\n",
       "      <th>0</th>\n",
       "      <td>0.015773</td>\n",
       "      <td>0.006909</td>\n",
       "      <td>0.004145</td>\n",
       "      <td>0.001449</td>\n",
       "      <td>True</td>\n",
       "      <td>1</td>\n",
       "      <td>{'col_tr__num__ss__with_std': True, 'log_reg__...</td>\n",
       "      <td>1.000000</td>\n",
       "      <td>1.000000</td>\n",
       "      <td>0.969697</td>\n",
       "      <td>0.969697</td>\n",
       "      <td>1.0</td>\n",
       "      <td>0.987879</td>\n",
       "      <td>0.014845</td>\n",
       "      <td>3</td>\n",
       "    </tr>\n",
       "    <tr>\n",
       "      <th>1</th>\n",
       "      <td>0.010965</td>\n",
       "      <td>0.000831</td>\n",
       "      <td>0.002576</td>\n",
       "      <td>0.000316</td>\n",
       "      <td>True</td>\n",
       "      <td>10</td>\n",
       "      <td>{'col_tr__num__ss__with_std': True, 'log_reg__...</td>\n",
       "      <td>1.000000</td>\n",
       "      <td>1.000000</td>\n",
       "      <td>0.969697</td>\n",
       "      <td>1.000000</td>\n",
       "      <td>1.0</td>\n",
       "      <td>0.993939</td>\n",
       "      <td>0.012121</td>\n",
       "      <td>1</td>\n",
       "    </tr>\n",
       "    <tr>\n",
       "      <th>2</th>\n",
       "      <td>0.012082</td>\n",
       "      <td>0.001441</td>\n",
       "      <td>0.003950</td>\n",
       "      <td>0.001452</td>\n",
       "      <td>True</td>\n",
       "      <td>100</td>\n",
       "      <td>{'col_tr__num__ss__with_std': True, 'log_reg__...</td>\n",
       "      <td>1.000000</td>\n",
       "      <td>1.000000</td>\n",
       "      <td>0.969697</td>\n",
       "      <td>1.000000</td>\n",
       "      <td>1.0</td>\n",
       "      <td>0.993939</td>\n",
       "      <td>0.012121</td>\n",
       "      <td>1</td>\n",
       "    </tr>\n",
       "    <tr>\n",
       "      <th>3</th>\n",
       "      <td>0.024201</td>\n",
       "      <td>0.006000</td>\n",
       "      <td>0.002921</td>\n",
       "      <td>0.000530</td>\n",
       "      <td>False</td>\n",
       "      <td>1</td>\n",
       "      <td>{'col_tr__num__ss__with_std': False, 'log_reg_...</td>\n",
       "      <td>0.970588</td>\n",
       "      <td>0.969697</td>\n",
       "      <td>0.969697</td>\n",
       "      <td>1.000000</td>\n",
       "      <td>1.0</td>\n",
       "      <td>0.981996</td>\n",
       "      <td>0.014703</td>\n",
       "      <td>4</td>\n",
       "    </tr>\n",
       "    <tr>\n",
       "      <th>4</th>\n",
       "      <td>0.021829</td>\n",
       "      <td>0.001817</td>\n",
       "      <td>0.002808</td>\n",
       "      <td>0.000297</td>\n",
       "      <td>False</td>\n",
       "      <td>10</td>\n",
       "      <td>{'col_tr__num__ss__with_std': False, 'log_reg_...</td>\n",
       "      <td>0.970588</td>\n",
       "      <td>0.969697</td>\n",
       "      <td>0.969697</td>\n",
       "      <td>0.969697</td>\n",
       "      <td>1.0</td>\n",
       "      <td>0.975936</td>\n",
       "      <td>0.012037</td>\n",
       "      <td>5</td>\n",
       "    </tr>\n",
       "    <tr>\n",
       "      <th>5</th>\n",
       "      <td>0.023430</td>\n",
       "      <td>0.001430</td>\n",
       "      <td>0.003124</td>\n",
       "      <td>0.000234</td>\n",
       "      <td>False</td>\n",
       "      <td>100</td>\n",
       "      <td>{'col_tr__num__ss__with_std': False, 'log_reg_...</td>\n",
       "      <td>0.970588</td>\n",
       "      <td>0.969697</td>\n",
       "      <td>0.969697</td>\n",
       "      <td>0.969697</td>\n",
       "      <td>1.0</td>\n",
       "      <td>0.975936</td>\n",
       "      <td>0.012037</td>\n",
       "      <td>5</td>\n",
       "    </tr>\n",
       "  </tbody>\n",
       "</table>\n",
       "</div>"
      ],
      "text/plain": [
       "   mean_fit_time  std_fit_time  mean_score_time  std_score_time  \\\n",
       "0       0.015773      0.006909         0.004145        0.001449   \n",
       "1       0.010965      0.000831         0.002576        0.000316   \n",
       "2       0.012082      0.001441         0.003950        0.001452   \n",
       "3       0.024201      0.006000         0.002921        0.000530   \n",
       "4       0.021829      0.001817         0.002808        0.000297   \n",
       "5       0.023430      0.001430         0.003124        0.000234   \n",
       "\n",
       "  param_col_tr__num__ss__with_std param_log_reg__C  \\\n",
       "0                            True                1   \n",
       "1                            True               10   \n",
       "2                            True              100   \n",
       "3                           False                1   \n",
       "4                           False               10   \n",
       "5                           False              100   \n",
       "\n",
       "                                              params  split0_test_score  \\\n",
       "0  {'col_tr__num__ss__with_std': True, 'log_reg__...           1.000000   \n",
       "1  {'col_tr__num__ss__with_std': True, 'log_reg__...           1.000000   \n",
       "2  {'col_tr__num__ss__with_std': True, 'log_reg__...           1.000000   \n",
       "3  {'col_tr__num__ss__with_std': False, 'log_reg_...           0.970588   \n",
       "4  {'col_tr__num__ss__with_std': False, 'log_reg_...           0.970588   \n",
       "5  {'col_tr__num__ss__with_std': False, 'log_reg_...           0.970588   \n",
       "\n",
       "   split1_test_score  split2_test_score  split3_test_score  split4_test_score  \\\n",
       "0           1.000000           0.969697           0.969697                1.0   \n",
       "1           1.000000           0.969697           1.000000                1.0   \n",
       "2           1.000000           0.969697           1.000000                1.0   \n",
       "3           0.969697           0.969697           1.000000                1.0   \n",
       "4           0.969697           0.969697           0.969697                1.0   \n",
       "5           0.969697           0.969697           0.969697                1.0   \n",
       "\n",
       "   mean_test_score  std_test_score  rank_test_score  \n",
       "0         0.987879        0.014845                3  \n",
       "1         0.993939        0.012121                1  \n",
       "2         0.993939        0.012121                1  \n",
       "3         0.981996        0.014703                4  \n",
       "4         0.975936        0.012037                5  \n",
       "5         0.975936        0.012037                5  "
      ]
     },
     "execution_count": 161,
     "metadata": {},
     "output_type": "execute_result"
    }
   ],
   "source": [
    "pd.DataFrame(gs_pipe.cv_results_)"
   ]
  },
  {
   "cell_type": "code",
   "execution_count": 162,
   "metadata": {
    "ExecuteTime": {
     "end_time": "2021-10-28T03:34:17.390365Z",
     "start_time": "2021-10-28T03:34:17.386703Z"
    },
    "hidden": true,
    "scrolled": true
   },
   "outputs": [
    {
     "data": {
      "text/plain": [
       "{'col_tr__num__ss__with_std': True, 'log_reg__C': 10}"
      ]
     },
     "execution_count": 162,
     "metadata": {},
     "output_type": "execute_result"
    }
   ],
   "source": [
    "gs_pipe.best_params_"
   ]
  },
  {
   "cell_type": "code",
   "execution_count": 163,
   "metadata": {
    "scrolled": true
   },
   "outputs": [
    {
     "data": {
      "text/plain": [
       "1.0"
      ]
     },
     "execution_count": 163,
     "metadata": {},
     "output_type": "execute_result"
    }
   ],
   "source": [
    "gs_pipe.best_estimator_.score(X_test, y_test)"
   ]
  },
  {
   "cell_type": "code",
   "execution_count": 164,
   "metadata": {},
   "outputs": [],
   "source": [
    "model_grid = {'log_reg':[LogisticRegression(random_state=42), \n",
    "                         DecisionTreeClassifier(random_state=42)]}"
   ]
  },
  {
   "cell_type": "code",
   "execution_count": 165,
   "metadata": {
    "scrolled": true
   },
   "outputs": [
    {
     "name": "stdout",
     "output_type": "stream",
     "text": [
      "Fitting 5 folds for each of 2 candidates, totalling 10 fits\n",
      "[CV] log_reg=LogisticRegression(random_state=42) .....................\n",
      "[CV]  log_reg=LogisticRegression(random_state=42), score=1.000, total=   0.0s\n",
      "[CV] log_reg=LogisticRegression(random_state=42) .....................\n",
      "[CV]  log_reg=LogisticRegression(random_state=42), score=1.000, total=   0.0s\n",
      "[CV] log_reg=LogisticRegression(random_state=42) .....................\n",
      "[CV]  log_reg=LogisticRegression(random_state=42), score=0.970, total=   0.0s\n",
      "[CV] log_reg=LogisticRegression(random_state=42) .....................\n",
      "[CV]  log_reg=LogisticRegression(random_state=42), score=0.970, total=   0.0s\n",
      "[CV] log_reg=LogisticRegression(random_state=42) .....................\n",
      "[CV]  log_reg=LogisticRegression(random_state=42), score=1.000, total=   0.0s\n",
      "[CV] log_reg=DecisionTreeClassifier(random_state=42) .................\n",
      "[CV]  log_reg=DecisionTreeClassifier(random_state=42), score=1.000, total=   0.0s\n",
      "[CV] log_reg=DecisionTreeClassifier(random_state=42) .................\n",
      "[CV]  log_reg=DecisionTreeClassifier(random_state=42), score=0.939, total=   0.0s\n",
      "[CV] log_reg=DecisionTreeClassifier(random_state=42) .................\n",
      "[CV]  log_reg=DecisionTreeClassifier(random_state=42), score=1.000, total=   0.0s\n",
      "[CV] log_reg=DecisionTreeClassifier(random_state=42) .................\n",
      "[CV]  log_reg=DecisionTreeClassifier(random_state=42), score=0.939, total=   0.0s\n",
      "[CV] log_reg=DecisionTreeClassifier(random_state=42) .................\n",
      "[CV]  log_reg=DecisionTreeClassifier(random_state=42), score=1.000, total=   0.0s\n"
     ]
    },
    {
     "name": "stderr",
     "output_type": "stream",
     "text": [
      "[Parallel(n_jobs=1)]: Using backend SequentialBackend with 1 concurrent workers.\n",
      "[Parallel(n_jobs=1)]: Done   1 out of   1 | elapsed:    0.0s remaining:    0.0s\n",
      "[Parallel(n_jobs=1)]: Done   2 out of   2 | elapsed:    0.1s remaining:    0.0s\n",
      "[Parallel(n_jobs=1)]: Done  10 out of  10 | elapsed:    0.1s finished\n"
     ]
    },
    {
     "data": {
      "text/plain": [
       "GridSearchCV(estimator=Pipeline(steps=[('col_tr',\n",
       "                                        ColumnTransformer(transformers=[('num',\n",
       "                                                                         Pipeline(steps=[('ss',\n",
       "                                                                                          StandardScaler())]),\n",
       "                                                                         Index(['bill_length_mm', 'bill_depth_mm', 'flipper_length_mm', 'body_mass_g'], dtype='object')),\n",
       "                                                                        ('cat',\n",
       "                                                                         Pipeline(steps=[('ohe',\n",
       "                                                                                          OneHotEncoder(handle_unknown='ignore',\n",
       "                                                                                                        sparse=False))]),\n",
       "                                                                         Index(['island', 'sex'], dtype='object'))])),\n",
       "                                       ('log_reg',\n",
       "                                        LogisticRegression(random_state=42))]),\n",
       "             param_grid={'log_reg': [LogisticRegression(random_state=42),\n",
       "                                     DecisionTreeClassifier(random_state=42)]},\n",
       "             verbose=3)"
      ]
     },
     "execution_count": 165,
     "metadata": {},
     "output_type": "execute_result"
    }
   ],
   "source": [
    "gs = GridSearchCV(model_pipe, model_grid, verbose=3)\n",
    "gs.fit(X_train, y_train)"
   ]
  },
  {
   "cell_type": "code",
   "execution_count": 166,
   "metadata": {},
   "outputs": [
    {
     "data": {
      "text/plain": [
       "{'log_reg': LogisticRegression(random_state=42)}"
      ]
     },
     "execution_count": 166,
     "metadata": {},
     "output_type": "execute_result"
    }
   ],
   "source": [
    "gs.best_params_"
   ]
  },
  {
   "cell_type": "markdown",
   "metadata": {
    "heading_collapsed": true
   },
   "source": [
    "# Grid Search Exercise"
   ]
  },
  {
   "cell_type": "markdown",
   "metadata": {
    "hidden": true
   },
   "source": [
    "Use a classifier of your choice to predict the category of price range for the phones in this dataset. Try tuning some hyperparameters using a grid search, and then write up a short paragraph about your findings."
   ]
  },
  {
   "cell_type": "code",
   "execution_count": null,
   "metadata": {
    "ExecuteTime": {
     "end_time": "2021-10-28T03:34:38.974212Z",
     "start_time": "2021-10-28T03:34:38.957557Z"
    },
    "hidden": true
   },
   "outputs": [],
   "source": [
    "phones_train = pd.read_csv('data/train.csv')\n",
    "phones_test = pd.read_csv('data/test.csv')"
   ]
  },
  {
   "cell_type": "markdown",
   "metadata": {
    "heading_collapsed": true
   },
   "source": [
    "# Level Up: Random Searching"
   ]
  },
  {
   "cell_type": "markdown",
   "metadata": {
    "hidden": true
   },
   "source": [
    "It is also possible to search for good hyperparameter values randomly. This is a nice choice if computation time is an issue or if you are tuning over continuous hyperparameters."
   ]
  },
  {
   "cell_type": "markdown",
   "metadata": {
    "heading_collapsed": true,
    "hidden": true
   },
   "source": [
    "### `RandomizedSearchCV` with `LogisticRegression`"
   ]
  },
  {
   "cell_type": "code",
   "execution_count": 168,
   "metadata": {},
   "outputs": [
    {
     "data": {
      "text/plain": [
       "array([5.10904075, 8.31731434, 8.8650348 , 2.04588214, 0.32118422,\n",
       "       8.06457524, 0.42270134, 9.09722361, 6.47586308, 7.00505768])"
      ]
     },
     "execution_count": 168,
     "metadata": {},
     "output_type": "execute_result"
    }
   ],
   "source": [
    "stats.uniform(loc=0, scale=10).rvs(10)"
   ]
  },
  {
   "cell_type": "code",
   "execution_count": 169,
   "metadata": {
    "ExecuteTime": {
     "end_time": "2021-10-28T03:34:46.731177Z",
     "start_time": "2021-10-28T03:34:46.727225Z"
    },
    "hidden": true
   },
   "outputs": [],
   "source": [
    "log_reg_grid = {'C': stats.uniform(loc=0, scale=10),\n",
    "               'l1_ratio': stats.expon(scale=0.2)}"
   ]
  },
  {
   "cell_type": "code",
   "execution_count": 170,
   "metadata": {
    "ExecuteTime": {
     "end_time": "2021-10-28T03:34:49.166819Z",
     "start_time": "2021-10-28T03:34:48.678224Z"
    },
    "hidden": true
   },
   "outputs": [
    {
     "name": "stdout",
     "output_type": "stream",
     "text": [
      "Fitting 5 folds for each of 100 candidates, totalling 500 fits\n",
      "[CV] C=3.745401188473625, l1_ratio=0.6020242861835042 ................\n",
      "[CV] . C=3.745401188473625, l1_ratio=0.6020242861835042, total=   0.0s\n",
      "[CV] C=3.745401188473625, l1_ratio=0.6020242861835042 ................\n",
      "[CV] . C=3.745401188473625, l1_ratio=0.6020242861835042, total=   0.0s\n",
      "[CV] C=3.745401188473625, l1_ratio=0.6020242861835042 ................\n",
      "[CV] . C=3.745401188473625, l1_ratio=0.6020242861835042, total=   0.0s\n",
      "[CV] C=3.745401188473625, l1_ratio=0.6020242861835042 ................\n",
      "[CV] . C=3.745401188473625, l1_ratio=0.6020242861835042, total=   0.0s\n",
      "[CV] C=3.745401188473625, l1_ratio=0.6020242861835042 ................\n",
      "[CV] . C=3.745401188473625, l1_ratio=0.6020242861835042, total=   0.0s\n",
      "[CV] C=7.319939418114051, l1_ratio=0.18258851075519067 ...............\n",
      "[CV]  C=7.319939418114051, l1_ratio=0.18258851075519067, total=   0.0s\n",
      "[CV] C=7.319939418114051, l1_ratio=0.18258851075519067 ...............\n",
      "[CV]  C=7.319939418114051, l1_ratio=0.18258851075519067, total=   0.0s\n",
      "[CV] C=7.319939418114051, l1_ratio=0.18258851075519067 ...............\n",
      "[CV]  C=7.319939418114051, l1_ratio=0.18258851075519067, total=   0.0s\n",
      "[CV] C=7.319939418114051, l1_ratio=0.18258851075519067 ...............\n",
      "[CV]  C=7.319939418114051, l1_ratio=0.18258851075519067, total=   0.0s\n",
      "[CV] C=7.319939418114051, l1_ratio=0.18258851075519067 ...............\n",
      "[CV]  C=7.319939418114051, l1_ratio=0.18258851075519067, total=   0.0s\n",
      "[CV] C=1.5601864044243652, l1_ratio=0.033919258382921036 .............\n",
      "[CV]  C=1.5601864044243652, l1_ratio=0.033919258382921036, total=   0.0s\n",
      "[CV] C=1.5601864044243652, l1_ratio=0.033919258382921036 .............\n",
      "[CV]  C=1.5601864044243652, l1_ratio=0.033919258382921036, total=   0.0s\n",
      "[CV] C=1.5601864044243652, l1_ratio=0.033919258382921036 .............\n",
      "[CV]  C=1.5601864044243652, l1_ratio=0.033919258382921036, total=   0.0s\n",
      "[CV] C=1.5601864044243652, l1_ratio=0.033919258382921036 .............\n",
      "[CV]  C=1.5601864044243652, l1_ratio=0.033919258382921036, total=   0.0s\n",
      "[CV] C=1.5601864044243652, l1_ratio=0.033919258382921036 .............\n",
      "[CV]  C=1.5601864044243652, l1_ratio=0.033919258382921036, total=   0.0s\n",
      "[CV] C=0.5808361216819946, l1_ratio=0.4022461728959879 ...............\n",
      "[CV]  C=0.5808361216819946, l1_ratio=0.4022461728959879, total=   0.0s\n",
      "[CV] C=0.5808361216819946, l1_ratio=0.4022461728959879 ...............\n",
      "[CV]  C=0.5808361216819946, l1_ratio=0.4022461728959879, total=   0.0s\n",
      "[CV] C=0.5808361216819946, l1_ratio=0.4022461728959879 ...............\n"
     ]
    },
    {
     "name": "stderr",
     "output_type": "stream",
     "text": [
      "[Parallel(n_jobs=1)]: Using backend SequentialBackend with 1 concurrent workers.\n",
      "[Parallel(n_jobs=1)]: Done   1 out of   1 | elapsed:    0.0s remaining:    0.0s\n"
     ]
    },
    {
     "name": "stdout",
     "output_type": "stream",
     "text": [
      "[CV]  C=0.5808361216819946, l1_ratio=0.4022461728959879, total=   0.0s\n",
      "[CV] C=0.5808361216819946, l1_ratio=0.4022461728959879 ...............\n",
      "[CV]  C=0.5808361216819946, l1_ratio=0.4022461728959879, total=   0.0s\n",
      "[CV] C=0.5808361216819946, l1_ratio=0.4022461728959879 ...............\n",
      "[CV]  C=0.5808361216819946, l1_ratio=0.4022461728959879, total=   0.0s\n",
      "[CV] C=6.011150117432088, l1_ratio=0.24625001234091806 ...............\n",
      "[CV]  C=6.011150117432088, l1_ratio=0.24625001234091806, total=   0.0s\n",
      "[CV] C=6.011150117432088, l1_ratio=0.24625001234091806 ...............\n",
      "[CV]  C=6.011150117432088, l1_ratio=0.24625001234091806, total=   0.0s\n",
      "[CV] C=6.011150117432088, l1_ratio=0.24625001234091806 ...............\n",
      "[CV]  C=6.011150117432088, l1_ratio=0.24625001234091806, total=   0.0s\n",
      "[CV] C=6.011150117432088, l1_ratio=0.24625001234091806 ...............\n",
      "[CV]  C=6.011150117432088, l1_ratio=0.24625001234091806, total=   0.0s\n",
      "[CV] C=6.011150117432088, l1_ratio=0.24625001234091806 ...............\n",
      "[CV]  C=6.011150117432088, l1_ratio=0.24625001234091806, total=   0.0s\n",
      "[CV] C=0.20584494295802447, l1_ratio=0.7007114950316624 ..............\n",
      "[CV]  C=0.20584494295802447, l1_ratio=0.7007114950316624, total=   0.0s\n",
      "[CV] C=0.20584494295802447, l1_ratio=0.7007114950316624 ..............\n",
      "[CV]  C=0.20584494295802447, l1_ratio=0.7007114950316624, total=   0.0s\n",
      "[CV] C=0.20584494295802447, l1_ratio=0.7007114950316624 ..............\n",
      "[CV]  C=0.20584494295802447, l1_ratio=0.7007114950316624, total=   0.0s\n",
      "[CV] C=0.20584494295802447, l1_ratio=0.7007114950316624 ..............\n",
      "[CV]  C=0.20584494295802447, l1_ratio=0.7007114950316624, total=   0.0s\n",
      "[CV] C=0.20584494295802447, l1_ratio=0.7007114950316624 ..............\n",
      "[CV]  C=0.20584494295802447, l1_ratio=0.7007114950316624, total=   0.0s\n",
      "[CV] C=8.324426408004218, l1_ratio=0.0477375250497894 ................\n",
      "[CV] . C=8.324426408004218, l1_ratio=0.0477375250497894, total=   0.0s\n",
      "[CV] C=8.324426408004218, l1_ratio=0.0477375250497894 ................\n",
      "[CV] . C=8.324426408004218, l1_ratio=0.0477375250497894, total=   0.0s\n",
      "[CV] C=8.324426408004218, l1_ratio=0.0477375250497894 ................\n",
      "[CV] . C=8.324426408004218, l1_ratio=0.0477375250497894, total=   0.0s\n",
      "[CV] C=8.324426408004218, l1_ratio=0.0477375250497894 ................\n",
      "[CV] . C=8.324426408004218, l1_ratio=0.0477375250497894, total=   0.0s\n",
      "[CV] C=8.324426408004218, l1_ratio=0.0477375250497894 ................\n",
      "[CV] . C=8.324426408004218, l1_ratio=0.0477375250497894, total=   0.0s\n",
      "[CV] C=1.8182496720710062, l1_ratio=0.04052228456645141 ..............\n",
      "[CV]  C=1.8182496720710062, l1_ratio=0.04052228456645141, total=   0.0s\n",
      "[CV] C=1.8182496720710062, l1_ratio=0.04052228456645141 ..............\n",
      "[CV]  C=1.8182496720710062, l1_ratio=0.04052228456645141, total=   0.0s\n",
      "[CV] C=1.8182496720710062, l1_ratio=0.04052228456645141 ..............\n",
      "[CV]  C=1.8182496720710062, l1_ratio=0.04052228456645141, total=   0.0s\n",
      "[CV] C=1.8182496720710062, l1_ratio=0.04052228456645141 ..............\n",
      "[CV]  C=1.8182496720710062, l1_ratio=0.04052228456645141, total=   0.0s\n",
      "[CV] C=1.8182496720710062, l1_ratio=0.04052228456645141 ..............\n",
      "[CV]  C=1.8182496720710062, l1_ratio=0.04052228456645141, total=   0.0s\n",
      "[CV] C=3.0424224295953772, l1_ratio=0.1487855661721709 ...............\n",
      "[CV]  C=3.0424224295953772, l1_ratio=0.1487855661721709, total=   0.0s\n",
      "[CV] C=3.0424224295953772, l1_ratio=0.1487855661721709 ...............\n",
      "[CV]  C=3.0424224295953772, l1_ratio=0.1487855661721709, total=   0.0s\n",
      "[CV] C=3.0424224295953772, l1_ratio=0.1487855661721709 ...............\n",
      "[CV]  C=3.0424224295953772, l1_ratio=0.1487855661721709, total=   0.0s\n",
      "[CV] C=3.0424224295953772, l1_ratio=0.1487855661721709 ...............\n",
      "[CV]  C=3.0424224295953772, l1_ratio=0.1487855661721709, total=   0.0s\n",
      "[CV] C=3.0424224295953772, l1_ratio=0.1487855661721709 ...............\n",
      "[CV]  C=3.0424224295953772, l1_ratio=0.1487855661721709, total=   0.0s\n",
      "[CV] C=4.319450186421157, l1_ratio=0.06884459851078831 ...............\n",
      "[CV]  C=4.319450186421157, l1_ratio=0.06884459851078831, total=   0.0s\n",
      "[CV] C=4.319450186421157, l1_ratio=0.06884459851078831 ...............\n",
      "[CV]  C=4.319450186421157, l1_ratio=0.06884459851078831, total=   0.0s\n",
      "[CV] C=4.319450186421157, l1_ratio=0.06884459851078831 ...............\n",
      "[CV]  C=4.319450186421157, l1_ratio=0.06884459851078831, total=   0.0s\n",
      "[CV] C=4.319450186421157, l1_ratio=0.06884459851078831 ...............\n",
      "[CV]  C=4.319450186421157, l1_ratio=0.06884459851078831, total=   0.0s\n",
      "[CV] C=4.319450186421157, l1_ratio=0.06884459851078831 ...............\n",
      "[CV]  C=4.319450186421157, l1_ratio=0.06884459851078831, total=   0.0s\n",
      "[CV] C=6.118528947223795, l1_ratio=0.030046905745467735 ..............\n",
      "[CV]  C=6.118528947223795, l1_ratio=0.030046905745467735, total=   0.0s\n",
      "[CV] C=6.118528947223795, l1_ratio=0.030046905745467735 ..............\n",
      "[CV]  C=6.118528947223795, l1_ratio=0.030046905745467735, total=   0.0s\n",
      "[CV] C=6.118528947223795, l1_ratio=0.030046905745467735 ..............\n",
      "[CV]  C=6.118528947223795, l1_ratio=0.030046905745467735, total=   0.0s\n",
      "[CV] C=6.118528947223795, l1_ratio=0.030046905745467735 ..............\n",
      "[CV]  C=6.118528947223795, l1_ratio=0.030046905745467735, total=   0.0s\n",
      "[CV] C=6.118528947223795, l1_ratio=0.030046905745467735 ..............\n",
      "[CV]  C=6.118528947223795, l1_ratio=0.030046905745467735, total=   0.0s\n",
      "[CV] C=2.9214464853521815, l1_ratio=0.09125544364416942 ..............\n",
      "[CV]  C=2.9214464853521815, l1_ratio=0.09125544364416942, total=   0.0s\n",
      "[CV] C=2.9214464853521815, l1_ratio=0.09125544364416942 ..............\n",
      "[CV]  C=2.9214464853521815, l1_ratio=0.09125544364416942, total=   0.0s\n",
      "[CV] C=2.9214464853521815, l1_ratio=0.09125544364416942 ..............\n",
      "[CV]  C=2.9214464853521815, l1_ratio=0.09125544364416942, total=   0.0s\n",
      "[CV] C=2.9214464853521815, l1_ratio=0.09125544364416942 ..............\n",
      "[CV]  C=2.9214464853521815, l1_ratio=0.09125544364416942, total=   0.0s\n",
      "[CV] C=2.9214464853521815, l1_ratio=0.09125544364416942 ..............\n",
      "[CV]  C=2.9214464853521815, l1_ratio=0.09125544364416942, total=   0.0s\n",
      "[CV] C=4.56069984217036, l1_ratio=0.3075872022061824 .................\n",
      "[CV] .. C=4.56069984217036, l1_ratio=0.3075872022061824, total=   0.0s\n",
      "[CV] C=4.56069984217036, l1_ratio=0.3075872022061824 .................\n",
      "[CV] .. C=4.56069984217036, l1_ratio=0.3075872022061824, total=   0.0s\n",
      "[CV] C=4.56069984217036, l1_ratio=0.3075872022061824 .................\n",
      "[CV] .. C=4.56069984217036, l1_ratio=0.3075872022061824, total=   0.0s\n",
      "[CV] C=4.56069984217036, l1_ratio=0.3075872022061824 .................\n",
      "[CV] .. C=4.56069984217036, l1_ratio=0.3075872022061824, total=   0.0s\n",
      "[CV] C=4.56069984217036, l1_ratio=0.3075872022061824 .................\n",
      "[CV] .. C=4.56069984217036, l1_ratio=0.3075872022061824, total=   0.0s\n",
      "[CV] C=1.9967378215835974, l1_ratio=0.14440583100662555 ..............\n",
      "[CV]  C=1.9967378215835974, l1_ratio=0.14440583100662555, total=   0.0s\n",
      "[CV] C=1.9967378215835974, l1_ratio=0.14440583100662555 ..............\n",
      "[CV]  C=1.9967378215835974, l1_ratio=0.14440583100662555, total=   0.0s\n",
      "[CV] C=1.9967378215835974, l1_ratio=0.14440583100662555 ..............\n",
      "[CV]  C=1.9967378215835974, l1_ratio=0.14440583100662555, total=   0.0s\n",
      "[CV] C=1.9967378215835974, l1_ratio=0.14440583100662555 ..............\n",
      "[CV]  C=1.9967378215835974, l1_ratio=0.14440583100662555, total=   0.0s\n",
      "[CV] C=1.9967378215835974, l1_ratio=0.14440583100662555 ..............\n",
      "[CV]  C=1.9967378215835974, l1_ratio=0.14440583100662555, total=   0.0s\n",
      "[CV] C=5.924145688620425, l1_ratio=0.00951276995128171 ...............\n",
      "[CV]  C=5.924145688620425, l1_ratio=0.00951276995128171, total=   0.0s\n",
      "[CV] C=5.924145688620425, l1_ratio=0.00951276995128171 ...............\n",
      "[CV]  C=5.924145688620425, l1_ratio=0.00951276995128171, total=   0.0s\n",
      "[CV] C=5.924145688620425, l1_ratio=0.00951276995128171 ...............\n",
      "[CV]  C=5.924145688620425, l1_ratio=0.00951276995128171, total=   0.0s\n",
      "[CV] C=5.924145688620425, l1_ratio=0.00951276995128171 ...............\n",
      "[CV]  C=5.924145688620425, l1_ratio=0.00951276995128171, total=   0.0s\n",
      "[CV] C=5.924145688620425, l1_ratio=0.00951276995128171 ...............\n",
      "[CV]  C=5.924145688620425, l1_ratio=0.00951276995128171, total=   0.0s\n",
      "[CV] C=6.075448519014383, l1_ratio=0.03739225039548329 ...............\n",
      "[CV]  C=6.075448519014383, l1_ratio=0.03739225039548329, total=   0.0s\n",
      "[CV] C=6.075448519014383, l1_ratio=0.03739225039548329 ...............\n",
      "[CV]  C=6.075448519014383, l1_ratio=0.03739225039548329, total=   0.0s\n",
      "[CV] C=6.075448519014383, l1_ratio=0.03739225039548329 ...............\n",
      "[CV]  C=6.075448519014383, l1_ratio=0.03739225039548329, total=   0.0s\n",
      "[CV] C=6.075448519014383, l1_ratio=0.03739225039548329 ...............\n",
      "[CV]  C=6.075448519014383, l1_ratio=0.03739225039548329, total=   0.0s\n",
      "[CV] C=6.075448519014383, l1_ratio=0.03739225039548329 ...............\n",
      "[CV]  C=6.075448519014383, l1_ratio=0.03739225039548329, total=   0.0s\n",
      "[CV] C=0.6505159298527952, l1_ratio=0.5947375587013862 ...............\n",
      "[CV]  C=0.6505159298527952, l1_ratio=0.5947375587013862, total=   0.0s\n",
      "[CV] C=0.6505159298527952, l1_ratio=0.5947375587013862 ...............\n",
      "[CV]  C=0.6505159298527952, l1_ratio=0.5947375587013862, total=   0.0s\n",
      "[CV] C=0.6505159298527952, l1_ratio=0.5947375587013862 ...............\n",
      "[CV]  C=0.6505159298527952, l1_ratio=0.5947375587013862, total=   0.0s\n",
      "[CV] C=0.6505159298527952, l1_ratio=0.5947375587013862 ...............\n",
      "[CV]  C=0.6505159298527952, l1_ratio=0.5947375587013862, total=   0.0s\n",
      "[CV] C=0.6505159298527952, l1_ratio=0.5947375587013862 ...............\n",
      "[CV]  C=0.6505159298527952, l1_ratio=0.5947375587013862, total=   0.0s\n",
      "[CV] C=9.656320330745594, l1_ratio=0.33046631456257536 ...............\n",
      "[CV]  C=9.656320330745594, l1_ratio=0.33046631456257536, total=   0.0s\n",
      "[CV] C=9.656320330745594, l1_ratio=0.33046631456257536 ...............\n"
     ]
    },
    {
     "name": "stdout",
     "output_type": "stream",
     "text": [
      "[CV]  C=9.656320330745594, l1_ratio=0.33046631456257536, total=   0.0s\n",
      "[CV] C=9.656320330745594, l1_ratio=0.33046631456257536 ...............\n",
      "[CV]  C=9.656320330745594, l1_ratio=0.33046631456257536, total=   0.0s\n",
      "[CV] C=9.656320330745594, l1_ratio=0.33046631456257536 ...............\n",
      "[CV]  C=9.656320330745594, l1_ratio=0.33046631456257536, total=   0.0s\n",
      "[CV] C=9.656320330745594, l1_ratio=0.33046631456257536 ...............\n",
      "[CV]  C=9.656320330745594, l1_ratio=0.33046631456257536, total=   0.0s\n",
      "[CV] C=3.0461376917337066, l1_ratio=0.020555463000501248 .............\n",
      "[CV]  C=3.0461376917337066, l1_ratio=0.020555463000501248, total=   0.0s\n",
      "[CV] C=3.0461376917337066, l1_ratio=0.020555463000501248 .............\n",
      "[CV]  C=3.0461376917337066, l1_ratio=0.020555463000501248, total=   0.0s\n",
      "[CV] C=3.0461376917337066, l1_ratio=0.020555463000501248 .............\n",
      "[CV]  C=3.0461376917337066, l1_ratio=0.020555463000501248, total=   0.0s\n",
      "[CV] C=3.0461376917337066, l1_ratio=0.020555463000501248 .............\n",
      "[CV]  C=3.0461376917337066, l1_ratio=0.020555463000501248, total=   0.0s\n",
      "[CV] C=3.0461376917337066, l1_ratio=0.020555463000501248 .............\n",
      "[CV]  C=3.0461376917337066, l1_ratio=0.020555463000501248, total=   0.0s\n",
      "[CV] C=6.842330265121569, l1_ratio=0.11601816851707968 ...............\n",
      "[CV]  C=6.842330265121569, l1_ratio=0.11601816851707968, total=   0.0s\n",
      "[CV] C=6.842330265121569, l1_ratio=0.11601816851707968 ...............\n",
      "[CV]  C=6.842330265121569, l1_ratio=0.11601816851707968, total=   0.0s\n",
      "[CV] C=6.842330265121569, l1_ratio=0.11601816851707968 ...............\n",
      "[CV]  C=6.842330265121569, l1_ratio=0.11601816851707968, total=   0.0s\n",
      "[CV] C=6.842330265121569, l1_ratio=0.11601816851707968 ...............\n",
      "[CV]  C=6.842330265121569, l1_ratio=0.11601816851707968, total=   0.0s\n",
      "[CV] C=6.842330265121569, l1_ratio=0.11601816851707968 ...............\n",
      "[CV]  C=6.842330265121569, l1_ratio=0.11601816851707968, total=   0.0s\n",
      "[CV] C=1.2203823484477883, l1_ratio=0.13670944562683005 ..............\n",
      "[CV]  C=1.2203823484477883, l1_ratio=0.13670944562683005, total=   0.0s\n",
      "[CV] C=1.2203823484477883, l1_ratio=0.13670944562683005 ..............\n",
      "[CV]  C=1.2203823484477883, l1_ratio=0.13670944562683005, total=   0.0s\n",
      "[CV] C=1.2203823484477883, l1_ratio=0.13670944562683005 ..............\n",
      "[CV]  C=1.2203823484477883, l1_ratio=0.13670944562683005, total=   0.0s\n",
      "[CV] C=1.2203823484477883, l1_ratio=0.13670944562683005 ..............\n",
      "[CV]  C=1.2203823484477883, l1_ratio=0.13670944562683005, total=   0.0s\n",
      "[CV] C=1.2203823484477883, l1_ratio=0.13670944562683005 ..............\n",
      "[CV]  C=1.2203823484477883, l1_ratio=0.13670944562683005, total=   0.0s\n",
      "[CV] C=0.34388521115218396, l1_ratio=0.4800845774786048 ..............\n",
      "[CV]  C=0.34388521115218396, l1_ratio=0.4800845774786048, total=   0.0s\n",
      "[CV] C=0.34388521115218396, l1_ratio=0.4800845774786048 ..............\n",
      "[CV]  C=0.34388521115218396, l1_ratio=0.4800845774786048, total=   0.0s\n",
      "[CV] C=0.34388521115218396, l1_ratio=0.4800845774786048 ..............\n",
      "[CV]  C=0.34388521115218396, l1_ratio=0.4800845774786048, total=   0.0s\n",
      "[CV] C=0.34388521115218396, l1_ratio=0.4800845774786048 ..............\n",
      "[CV]  C=0.34388521115218396, l1_ratio=0.4800845774786048, total=   0.0s\n",
      "[CV] C=0.34388521115218396, l1_ratio=0.4800845774786048 ..............\n",
      "[CV]  C=0.34388521115218396, l1_ratio=0.4800845774786048, total=   0.0s\n",
      "[CV] C=2.587799816000169, l1_ratio=0.21725115971299608 ...............\n",
      "[CV]  C=2.587799816000169, l1_ratio=0.21725115971299608, total=   0.0s\n",
      "[CV] C=2.587799816000169, l1_ratio=0.21725115971299608 ...............\n",
      "[CV]  C=2.587799816000169, l1_ratio=0.21725115971299608, total=   0.0s\n",
      "[CV] C=2.587799816000169, l1_ratio=0.21725115971299608 ...............\n",
      "[CV]  C=2.587799816000169, l1_ratio=0.21725115971299608, total=   0.0s\n",
      "[CV] C=2.587799816000169, l1_ratio=0.21725115971299608 ...............\n",
      "[CV]  C=2.587799816000169, l1_ratio=0.21725115971299608, total=   0.0s\n",
      "[CV] C=2.587799816000169, l1_ratio=0.21725115971299608 ...............\n",
      "[CV]  C=2.587799816000169, l1_ratio=0.21725115971299608, total=   0.0s\n",
      "[CV] C=3.1171107608941098, l1_ratio=0.14682217918184573 ..............\n",
      "[CV]  C=3.1171107608941098, l1_ratio=0.14682217918184573, total=   0.0s\n",
      "[CV] C=3.1171107608941098, l1_ratio=0.14682217918184573 ..............\n",
      "[CV]  C=3.1171107608941098, l1_ratio=0.14682217918184573, total=   0.0s\n",
      "[CV] C=3.1171107608941098, l1_ratio=0.14682217918184573 ..............\n",
      "[CV]  C=3.1171107608941098, l1_ratio=0.14682217918184573, total=   0.0s\n",
      "[CV] C=3.1171107608941098, l1_ratio=0.14682217918184573 ..............\n",
      "[CV]  C=3.1171107608941098, l1_ratio=0.14682217918184573, total=   0.0s\n",
      "[CV] C=3.1171107608941098, l1_ratio=0.14682217918184573 ..............\n",
      "[CV]  C=3.1171107608941098, l1_ratio=0.14682217918184573, total=   0.0s\n",
      "[CV] C=5.4671027934327965, l1_ratio=0.04087771990158115 ..............\n",
      "[CV]  C=5.4671027934327965, l1_ratio=0.04087771990158115, total=   0.0s\n",
      "[CV] C=5.4671027934327965, l1_ratio=0.04087771990158115 ..............\n",
      "[CV]  C=5.4671027934327965, l1_ratio=0.04087771990158115, total=   0.0s\n",
      "[CV] C=5.4671027934327965, l1_ratio=0.04087771990158115 ..............\n",
      "[CV]  C=5.4671027934327965, l1_ratio=0.04087771990158115, total=   0.0s\n",
      "[CV] C=5.4671027934327965, l1_ratio=0.04087771990158115 ..............\n",
      "[CV]  C=5.4671027934327965, l1_ratio=0.04087771990158115, total=   0.0s\n",
      "[CV] C=5.4671027934327965, l1_ratio=0.04087771990158115 ..............\n",
      "[CV]  C=5.4671027934327965, l1_ratio=0.04087771990158115, total=   0.0s\n",
      "[CV] C=9.695846277645586, l1_ratio=0.29844907542762816 ...............\n",
      "[CV]  C=9.695846277645586, l1_ratio=0.29844907542762816, total=   0.0s\n",
      "[CV] C=9.695846277645586, l1_ratio=0.29844907542762816 ...............\n",
      "[CV]  C=9.695846277645586, l1_ratio=0.29844907542762816, total=   0.0s\n",
      "[CV] C=9.695846277645586, l1_ratio=0.29844907542762816 ...............\n",
      "[CV]  C=9.695846277645586, l1_ratio=0.29844907542762816, total=   0.0s\n",
      "[CV] C=9.695846277645586, l1_ratio=0.29844907542762816 ...............\n",
      "[CV]  C=9.695846277645586, l1_ratio=0.29844907542762816, total=   0.0s\n",
      "[CV] C=9.695846277645586, l1_ratio=0.29844907542762816 ...............\n",
      "[CV]  C=9.695846277645586, l1_ratio=0.29844907542762816, total=   0.0s\n",
      "[CV] C=9.394989415641891, l1_ratio=0.45043039950683933 ...............\n",
      "[CV]  C=9.394989415641891, l1_ratio=0.45043039950683933, total=   0.0s\n",
      "[CV] C=9.394989415641891, l1_ratio=0.45043039950683933 ...............\n",
      "[CV]  C=9.394989415641891, l1_ratio=0.45043039950683933, total=   0.0s\n",
      "[CV] C=9.394989415641891, l1_ratio=0.45043039950683933 ...............\n",
      "[CV]  C=9.394989415641891, l1_ratio=0.45043039950683933, total=   0.0s\n",
      "[CV] C=9.394989415641891, l1_ratio=0.45043039950683933 ...............\n",
      "[CV]  C=9.394989415641891, l1_ratio=0.45043039950683933, total=   0.0s\n",
      "[CV] C=9.394989415641891, l1_ratio=0.45043039950683933 ...............\n",
      "[CV]  C=9.394989415641891, l1_ratio=0.45043039950683933, total=   0.0s\n",
      "[CV] C=5.978999788110851, l1_ratio=0.509887075853881 .................\n",
      "[CV] .. C=5.978999788110851, l1_ratio=0.509887075853881, total=   0.0s\n",
      "[CV] C=5.978999788110851, l1_ratio=0.509887075853881 .................\n",
      "[CV] .. C=5.978999788110851, l1_ratio=0.509887075853881, total=   0.0s\n",
      "[CV] C=5.978999788110851, l1_ratio=0.509887075853881 .................\n",
      "[CV] .. C=5.978999788110851, l1_ratio=0.509887075853881, total=   0.0s\n",
      "[CV] C=5.978999788110851, l1_ratio=0.509887075853881 .................\n",
      "[CV] .. C=5.978999788110851, l1_ratio=0.509887075853881, total=   0.0s\n",
      "[CV] C=5.978999788110851, l1_ratio=0.509887075853881 .................\n",
      "[CV] .. C=5.978999788110851, l1_ratio=0.509887075853881, total=   0.0s\n",
      "[CV] C=0.884925020519195, l1_ratio=0.043626938926253495 ..............\n",
      "[CV]  C=0.884925020519195, l1_ratio=0.043626938926253495, total=   0.0s\n",
      "[CV] C=0.884925020519195, l1_ratio=0.043626938926253495 ..............\n",
      "[CV]  C=0.884925020519195, l1_ratio=0.043626938926253495, total=   0.0s\n",
      "[CV] C=0.884925020519195, l1_ratio=0.043626938926253495 ..............\n",
      "[CV]  C=0.884925020519195, l1_ratio=0.043626938926253495, total=   0.0s\n",
      "[CV] C=0.884925020519195, l1_ratio=0.043626938926253495 ..............\n",
      "[CV]  C=0.884925020519195, l1_ratio=0.043626938926253495, total=   0.0s\n",
      "[CV] C=0.884925020519195, l1_ratio=0.043626938926253495 ..............\n",
      "[CV]  C=0.884925020519195, l1_ratio=0.043626938926253495, total=   0.0s\n",
      "[CV] C=0.45227288910538066, l1_ratio=0.07870641736061737 .............\n",
      "[CV]  C=0.45227288910538066, l1_ratio=0.07870641736061737, total=   0.0s\n",
      "[CV] C=0.45227288910538066, l1_ratio=0.07870641736061737 .............\n",
      "[CV]  C=0.45227288910538066, l1_ratio=0.07870641736061737, total=   0.0s\n",
      "[CV] C=0.45227288910538066, l1_ratio=0.07870641736061737 .............\n",
      "[CV]  C=0.45227288910538066, l1_ratio=0.07870641736061737, total=   0.0s\n",
      "[CV] C=0.45227288910538066, l1_ratio=0.07870641736061737 .............\n",
      "[CV]  C=0.45227288910538066, l1_ratio=0.07870641736061737, total=   0.0s\n",
      "[CV] C=0.45227288910538066, l1_ratio=0.07870641736061737 .............\n",
      "[CV]  C=0.45227288910538066, l1_ratio=0.07870641736061737, total=   0.0s\n",
      "[CV] C=3.8867728968948203, l1_ratio=0.06331208864176514 ..............\n",
      "[CV]  C=3.8867728968948203, l1_ratio=0.06331208864176514, total=   0.0s\n",
      "[CV] C=3.8867728968948203, l1_ratio=0.06331208864176514 ..............\n",
      "[CV]  C=3.8867728968948203, l1_ratio=0.06331208864176514, total=   0.0s\n",
      "[CV] C=3.8867728968948203, l1_ratio=0.06331208864176514 ..............\n",
      "[CV]  C=3.8867728968948203, l1_ratio=0.06331208864176514, total=   0.0s\n",
      "[CV] C=3.8867728968948203, l1_ratio=0.06331208864176514 ..............\n"
     ]
    },
    {
     "name": "stdout",
     "output_type": "stream",
     "text": [
      "[CV]  C=3.8867728968948203, l1_ratio=0.06331208864176514, total=   0.0s\n",
      "[CV] C=3.8867728968948203, l1_ratio=0.06331208864176514 ..............\n",
      "[CV]  C=3.8867728968948203, l1_ratio=0.06331208864176514, total=   0.0s\n",
      "[CV] C=8.287375091519294, l1_ratio=0.08824539990597403 ...............\n",
      "[CV]  C=8.287375091519294, l1_ratio=0.08824539990597403, total=   0.0s\n",
      "[CV] C=8.287375091519294, l1_ratio=0.08824539990597403 ...............\n",
      "[CV]  C=8.287375091519294, l1_ratio=0.08824539990597403, total=   0.0s\n",
      "[CV] C=8.287375091519294, l1_ratio=0.08824539990597403 ...............\n",
      "[CV]  C=8.287375091519294, l1_ratio=0.08824539990597403, total=   0.0s\n",
      "[CV] C=8.287375091519294, l1_ratio=0.08824539990597403 ...............\n",
      "[CV]  C=8.287375091519294, l1_ratio=0.08824539990597403, total=   0.0s\n",
      "[CV] C=8.287375091519294, l1_ratio=0.08824539990597403 ...............\n",
      "[CV]  C=8.287375091519294, l1_ratio=0.08824539990597403, total=   0.0s\n",
      "[CV] C=2.8093450968738076, l1_ratio=0.15648141664154921 ..............\n",
      "[CV]  C=2.8093450968738076, l1_ratio=0.15648141664154921, total=   0.0s\n",
      "[CV] C=2.8093450968738076, l1_ratio=0.15648141664154921 ..............\n",
      "[CV]  C=2.8093450968738076, l1_ratio=0.15648141664154921, total=   0.0s\n",
      "[CV] C=2.8093450968738076, l1_ratio=0.15648141664154921 ..............\n",
      "[CV]  C=2.8093450968738076, l1_ratio=0.15648141664154921, total=   0.0s\n",
      "[CV] C=2.8093450968738076, l1_ratio=0.15648141664154921 ..............\n",
      "[CV]  C=2.8093450968738076, l1_ratio=0.15648141664154921, total=   0.0s\n",
      "[CV] C=2.8093450968738076, l1_ratio=0.15648141664154921 ..............\n",
      "[CV]  C=2.8093450968738076, l1_ratio=0.15648141664154921, total=   0.0s\n",
      "[CV] C=1.4092422497476265, l1_ratio=0.32409671915494626 ..............\n",
      "[CV]  C=1.4092422497476265, l1_ratio=0.32409671915494626, total=   0.0s\n",
      "[CV] C=1.4092422497476265, l1_ratio=0.32409671915494626 ..............\n",
      "[CV]  C=1.4092422497476265, l1_ratio=0.32409671915494626, total=   0.0s\n",
      "[CV] C=1.4092422497476265, l1_ratio=0.32409671915494626 ..............\n",
      "[CV]  C=1.4092422497476265, l1_ratio=0.32409671915494626, total=   0.0s\n",
      "[CV] C=1.4092422497476265, l1_ratio=0.32409671915494626 ..............\n",
      "[CV]  C=1.4092422497476265, l1_ratio=0.32409671915494626, total=   0.0s\n",
      "[CV] C=1.4092422497476265, l1_ratio=0.32409671915494626 ..............\n",
      "[CV]  C=1.4092422497476265, l1_ratio=0.32409671915494626, total=   0.0s\n",
      "[CV] C=0.7455064367977082, l1_ratio=0.866829267917464 ................\n",
      "[CV] . C=0.7455064367977082, l1_ratio=0.866829267917464, total=   0.0s\n",
      "[CV] C=0.7455064367977082, l1_ratio=0.866829267917464 ................\n",
      "[CV] . C=0.7455064367977082, l1_ratio=0.866829267917464, total=   0.0s\n",
      "[CV] C=0.7455064367977082, l1_ratio=0.866829267917464 ................\n",
      "[CV] . C=0.7455064367977082, l1_ratio=0.866829267917464, total=   0.0s\n",
      "[CV] C=0.7455064367977082, l1_ratio=0.866829267917464 ................\n",
      "[CV] . C=0.7455064367977082, l1_ratio=0.866829267917464, total=   0.0s\n",
      "[CV] C=0.7455064367977082, l1_ratio=0.866829267917464 ................\n",
      "[CV] . C=0.7455064367977082, l1_ratio=0.866829267917464, total=   0.0s\n",
      "[CV] C=7.722447692966574, l1_ratio=0.044307888101177195 ..............\n",
      "[CV]  C=7.722447692966574, l1_ratio=0.044307888101177195, total=   0.0s\n",
      "[CV] C=7.722447692966574, l1_ratio=0.044307888101177195 ..............\n",
      "[CV]  C=7.722447692966574, l1_ratio=0.044307888101177195, total=   0.0s\n",
      "[CV] C=7.722447692966574, l1_ratio=0.044307888101177195 ..............\n",
      "[CV]  C=7.722447692966574, l1_ratio=0.044307888101177195, total=   0.0s\n",
      "[CV] C=7.722447692966574, l1_ratio=0.044307888101177195 ..............\n",
      "[CV]  C=7.722447692966574, l1_ratio=0.044307888101177195, total=   0.0s\n",
      "[CV] C=7.722447692966574, l1_ratio=0.044307888101177195 ..............\n",
      "[CV]  C=7.722447692966574, l1_ratio=0.044307888101177195, total=   0.0s\n",
      "[CV] C=0.05522117123602399, l1_ratio=0.33797935549722524 .............\n",
      "[CV]  C=0.05522117123602399, l1_ratio=0.33797935549722524, total=   0.0s\n",
      "[CV] C=0.05522117123602399, l1_ratio=0.33797935549722524 .............\n",
      "[CV]  C=0.05522117123602399, l1_ratio=0.33797935549722524, total=   0.0s\n",
      "[CV] C=0.05522117123602399, l1_ratio=0.33797935549722524 .............\n",
      "[CV]  C=0.05522117123602399, l1_ratio=0.33797935549722524, total=   0.0s\n",
      "[CV] C=0.05522117123602399, l1_ratio=0.33797935549722524 .............\n",
      "[CV]  C=0.05522117123602399, l1_ratio=0.33797935549722524, total=   0.0s\n",
      "[CV] C=0.05522117123602399, l1_ratio=0.33797935549722524 .............\n",
      "[CV]  C=0.05522117123602399, l1_ratio=0.33797935549722524, total=   0.0s\n",
      "[CV] C=7.068573438476172, l1_ratio=0.2611325817575998 ................\n",
      "[CV] . C=7.068573438476172, l1_ratio=0.2611325817575998, total=   0.0s\n",
      "[CV] C=7.068573438476172, l1_ratio=0.2611325817575998 ................\n",
      "[CV] . C=7.068573438476172, l1_ratio=0.2611325817575998, total=   0.0s\n",
      "[CV] C=7.068573438476172, l1_ratio=0.2611325817575998 ................\n",
      "[CV] . C=7.068573438476172, l1_ratio=0.2611325817575998, total=   0.0s\n",
      "[CV] C=7.068573438476172, l1_ratio=0.2611325817575998 ................\n",
      "[CV] . C=7.068573438476172, l1_ratio=0.2611325817575998, total=   0.0s\n",
      "[CV] C=7.068573438476172, l1_ratio=0.2611325817575998 ................\n",
      "[CV] . C=7.068573438476172, l1_ratio=0.2611325817575998, total=   0.0s\n",
      "[CV] C=7.712703466859457, l1_ratio=0.015385853102759271 ..............\n",
      "[CV]  C=7.712703466859457, l1_ratio=0.015385853102759271, total=   0.0s\n",
      "[CV] C=7.712703466859457, l1_ratio=0.015385853102759271 ..............\n",
      "[CV]  C=7.712703466859457, l1_ratio=0.015385853102759271, total=   0.0s\n",
      "[CV] C=7.712703466859457, l1_ratio=0.015385853102759271 ..............\n",
      "[CV]  C=7.712703466859457, l1_ratio=0.015385853102759271, total=   0.0s\n",
      "[CV] C=7.712703466859457, l1_ratio=0.015385853102759271 ..............\n",
      "[CV]  C=7.712703466859457, l1_ratio=0.015385853102759271, total=   0.0s\n",
      "[CV] C=7.712703466859457, l1_ratio=0.015385853102759271 ..............\n",
      "[CV]  C=7.712703466859457, l1_ratio=0.015385853102759271, total=   0.0s\n",
      "[CV] C=3.5846572854427263, l1_ratio=0.024630020920889933 .............\n",
      "[CV]  C=3.5846572854427263, l1_ratio=0.024630020920889933, total=   0.0s\n",
      "[CV] C=3.5846572854427263, l1_ratio=0.024630020920889933 .............\n",
      "[CV]  C=3.5846572854427263, l1_ratio=0.024630020920889933, total=   0.0s\n",
      "[CV] C=3.5846572854427263, l1_ratio=0.024630020920889933 .............\n",
      "[CV]  C=3.5846572854427263, l1_ratio=0.024630020920889933, total=   0.0s\n",
      "[CV] C=3.5846572854427263, l1_ratio=0.024630020920889933 .............\n",
      "[CV]  C=3.5846572854427263, l1_ratio=0.024630020920889933, total=   0.0s\n",
      "[CV] C=3.5846572854427263, l1_ratio=0.024630020920889933 .............\n",
      "[CV]  C=3.5846572854427263, l1_ratio=0.024630020920889933, total=   0.0s\n",
      "[CV] C=8.631034258755935, l1_ratio=0.19526023834247483 ...............\n",
      "[CV]  C=8.631034258755935, l1_ratio=0.19526023834247483, total=   0.0s\n",
      "[CV] C=8.631034258755935, l1_ratio=0.19526023834247483 ...............\n",
      "[CV]  C=8.631034258755935, l1_ratio=0.19526023834247483, total=   0.0s\n",
      "[CV] C=8.631034258755935, l1_ratio=0.19526023834247483 ...............\n",
      "[CV]  C=8.631034258755935, l1_ratio=0.19526023834247483, total=   0.0s\n",
      "[CV] C=8.631034258755935, l1_ratio=0.19526023834247483 ...............\n",
      "[CV]  C=8.631034258755935, l1_ratio=0.19526023834247483, total=   0.0s\n",
      "[CV] C=8.631034258755935, l1_ratio=0.19526023834247483 ...............\n",
      "[CV]  C=8.631034258755935, l1_ratio=0.19526023834247483, total=   0.0s\n",
      "[CV] C=3.308980248526492, l1_ratio=0.013133613160956579 ..............\n",
      "[CV]  C=3.308980248526492, l1_ratio=0.013133613160956579, total=   0.0s\n",
      "[CV] C=3.308980248526492, l1_ratio=0.013133613160956579 ..............\n",
      "[CV]  C=3.308980248526492, l1_ratio=0.013133613160956579, total=   0.0s\n",
      "[CV] C=3.308980248526492, l1_ratio=0.013133613160956579 ..............\n",
      "[CV]  C=3.308980248526492, l1_ratio=0.013133613160956579, total=   0.0s\n",
      "[CV] C=3.308980248526492, l1_ratio=0.013133613160956579 ..............\n",
      "[CV]  C=3.308980248526492, l1_ratio=0.013133613160956579, total=   0.0s\n",
      "[CV] C=3.308980248526492, l1_ratio=0.013133613160956579 ..............\n",
      "[CV]  C=3.308980248526492, l1_ratio=0.013133613160956579, total=   0.0s\n",
      "[CV] C=3.109823217156622, l1_ratio=0.07866284263682627 ...............\n",
      "[CV]  C=3.109823217156622, l1_ratio=0.07866284263682627, total=   0.0s\n",
      "[CV] C=3.109823217156622, l1_ratio=0.07866284263682627 ...............\n",
      "[CV]  C=3.109823217156622, l1_ratio=0.07866284263682627, total=   0.0s\n",
      "[CV] C=3.109823217156622, l1_ratio=0.07866284263682627 ...............\n",
      "[CV]  C=3.109823217156622, l1_ratio=0.07866284263682627, total=   0.0s\n",
      "[CV] C=3.109823217156622, l1_ratio=0.07866284263682627 ...............\n",
      "[CV]  C=3.109823217156622, l1_ratio=0.07866284263682627, total=   0.0s\n",
      "[CV] C=3.109823217156622, l1_ratio=0.07866284263682627 ...............\n",
      "[CV]  C=3.109823217156622, l1_ratio=0.07866284263682627, total=   0.0s\n",
      "[CV] C=7.29606178338064, l1_ratio=0.202977871785204 ..................\n",
      "[CV] ... C=7.29606178338064, l1_ratio=0.202977871785204, total=   0.0s\n",
      "[CV] C=7.29606178338064, l1_ratio=0.202977871785204 ..................\n",
      "[CV] ... C=7.29606178338064, l1_ratio=0.202977871785204, total=   0.0s\n",
      "[CV] C=7.29606178338064, l1_ratio=0.202977871785204 ..................\n",
      "[CV] ... C=7.29606178338064, l1_ratio=0.202977871785204, total=   0.0s\n",
      "[CV] C=7.29606178338064, l1_ratio=0.202977871785204 ..................\n",
      "[CV] ... C=7.29606178338064, l1_ratio=0.202977871785204, total=   0.0s\n",
      "[CV] C=7.29606178338064, l1_ratio=0.202977871785204 ..................\n"
     ]
    },
    {
     "name": "stdout",
     "output_type": "stream",
     "text": [
      "[CV] ... C=7.29606178338064, l1_ratio=0.202977871785204, total=   0.0s\n",
      "[CV] C=8.872127425763265, l1_ratio=0.12781322667526196 ...............\n",
      "[CV]  C=8.872127425763265, l1_ratio=0.12781322667526196, total=   0.0s\n",
      "[CV] C=8.872127425763265, l1_ratio=0.12781322667526196 ...............\n",
      "[CV]  C=8.872127425763265, l1_ratio=0.12781322667526196, total=   0.0s\n",
      "[CV] C=8.872127425763265, l1_ratio=0.12781322667526196 ...............\n",
      "[CV]  C=8.872127425763265, l1_ratio=0.12781322667526196, total=   0.0s\n",
      "[CV] C=8.872127425763265, l1_ratio=0.12781322667526196 ...............\n",
      "[CV]  C=8.872127425763265, l1_ratio=0.12781322667526196, total=   0.0s\n",
      "[CV] C=8.872127425763265, l1_ratio=0.12781322667526196 ...............\n",
      "[CV]  C=8.872127425763265, l1_ratio=0.12781322667526196, total=   0.0s\n",
      "[CV] C=1.195942459383017, l1_ratio=0.2498252688633199 ................\n",
      "[CV] . C=1.195942459383017, l1_ratio=0.2498252688633199, total=   0.0s\n",
      "[CV] C=1.195942459383017, l1_ratio=0.2498252688633199 ................\n",
      "[CV] . C=1.195942459383017, l1_ratio=0.2498252688633199, total=   0.0s\n",
      "[CV] C=1.195942459383017, l1_ratio=0.2498252688633199 ................\n",
      "[CV] . C=1.195942459383017, l1_ratio=0.2498252688633199, total=   0.0s\n",
      "[CV] C=1.195942459383017, l1_ratio=0.2498252688633199 ................\n",
      "[CV] . C=1.195942459383017, l1_ratio=0.2498252688633199, total=   0.0s\n",
      "[CV] C=1.195942459383017, l1_ratio=0.2498252688633199 ................\n",
      "[CV] . C=1.195942459383017, l1_ratio=0.2498252688633199, total=   0.0s\n",
      "[CV] C=7.607850486168974, l1_ratio=0.16477749897716576 ...............\n",
      "[CV]  C=7.607850486168974, l1_ratio=0.16477749897716576, total=   0.0s\n",
      "[CV] C=7.607850486168974, l1_ratio=0.16477749897716576 ...............\n",
      "[CV]  C=7.607850486168974, l1_ratio=0.16477749897716576, total=   0.0s\n",
      "[CV] C=7.607850486168974, l1_ratio=0.16477749897716576 ...............\n",
      "[CV]  C=7.607850486168974, l1_ratio=0.16477749897716576, total=   0.0s\n",
      "[CV] C=7.607850486168974, l1_ratio=0.16477749897716576 ...............\n",
      "[CV]  C=7.607850486168974, l1_ratio=0.16477749897716576, total=   0.0s\n",
      "[CV] C=7.607850486168974, l1_ratio=0.16477749897716576 ...............\n",
      "[CV]  C=7.607850486168974, l1_ratio=0.16477749897716576, total=   0.0s\n",
      "[CV] C=7.70967179954561, l1_ratio=0.13616294630205558 ................\n",
      "[CV] . C=7.70967179954561, l1_ratio=0.13616294630205558, total=   0.0s\n",
      "[CV] C=7.70967179954561, l1_ratio=0.13616294630205558 ................\n",
      "[CV] . C=7.70967179954561, l1_ratio=0.13616294630205558, total=   0.0s\n",
      "[CV] C=7.70967179954561, l1_ratio=0.13616294630205558 ................\n",
      "[CV] . C=7.70967179954561, l1_ratio=0.13616294630205558, total=   0.0s\n",
      "[CV] C=7.70967179954561, l1_ratio=0.13616294630205558 ................\n",
      "[CV] . C=7.70967179954561, l1_ratio=0.13616294630205558, total=   0.0s\n",
      "[CV] C=7.70967179954561, l1_ratio=0.13616294630205558 ................\n",
      "[CV] . C=7.70967179954561, l1_ratio=0.13616294630205558, total=   0.0s\n",
      "[CV] C=5.227328293819941, l1_ratio=0.11156283878168548 ...............\n",
      "[CV]  C=5.227328293819941, l1_ratio=0.11156283878168548, total=   0.0s\n",
      "[CV] C=5.227328293819941, l1_ratio=0.11156283878168548 ...............\n",
      "[CV]  C=5.227328293819941, l1_ratio=0.11156283878168548, total=   0.0s\n",
      "[CV] C=5.227328293819941, l1_ratio=0.11156283878168548 ...............\n",
      "[CV]  C=5.227328293819941, l1_ratio=0.11156283878168548, total=   0.0s\n",
      "[CV] C=5.227328293819941, l1_ratio=0.11156283878168548 ...............\n",
      "[CV]  C=5.227328293819941, l1_ratio=0.11156283878168548, total=   0.0s\n",
      "[CV] C=5.227328293819941, l1_ratio=0.11156283878168548 ...............\n",
      "[CV]  C=5.227328293819941, l1_ratio=0.11156283878168548, total=   0.0s\n",
      "[CV] C=0.2541912674409519, l1_ratio=0.02283348703837317 ..............\n",
      "[CV]  C=0.2541912674409519, l1_ratio=0.02283348703837317, total=   0.0s\n",
      "[CV] C=0.2541912674409519, l1_ratio=0.02283348703837317 ..............\n",
      "[CV]  C=0.2541912674409519, l1_ratio=0.02283348703837317, total=   0.0s\n",
      "[CV] C=0.2541912674409519, l1_ratio=0.02283348703837317 ..............\n",
      "[CV]  C=0.2541912674409519, l1_ratio=0.02283348703837317, total=   0.0s\n",
      "[CV] C=0.2541912674409519, l1_ratio=0.02283348703837317 ..............\n",
      "[CV]  C=0.2541912674409519, l1_ratio=0.02283348703837317, total=   0.0s\n",
      "[CV] C=0.2541912674409519, l1_ratio=0.02283348703837317 ..............\n",
      "[CV]  C=0.2541912674409519, l1_ratio=0.02283348703837317, total=   0.0s\n",
      "[CV] C=0.3142918568673425, l1_ratio=0.2023459101855099 ...............\n",
      "[CV]  C=0.3142918568673425, l1_ratio=0.2023459101855099, total=   0.0s\n",
      "[CV] C=0.3142918568673425, l1_ratio=0.2023459101855099 ...............\n",
      "[CV]  C=0.3142918568673425, l1_ratio=0.2023459101855099, total=   0.0s\n",
      "[CV] C=0.3142918568673425, l1_ratio=0.2023459101855099 ...............\n",
      "[CV]  C=0.3142918568673425, l1_ratio=0.2023459101855099, total=   0.0s\n",
      "[CV] C=0.3142918568673425, l1_ratio=0.2023459101855099 ...............\n",
      "[CV]  C=0.3142918568673425, l1_ratio=0.2023459101855099, total=   0.0s\n",
      "[CV] C=0.3142918568673425, l1_ratio=0.2023459101855099 ...............\n",
      "[CV]  C=0.3142918568673425, l1_ratio=0.2023459101855099, total=   0.0s\n",
      "[CV] C=3.143559810763267, l1_ratio=0.14208743542683802 ...............\n",
      "[CV]  C=3.143559810763267, l1_ratio=0.14208743542683802, total=   0.0s\n",
      "[CV] C=3.143559810763267, l1_ratio=0.14208743542683802 ...............\n",
      "[CV]  C=3.143559810763267, l1_ratio=0.14208743542683802, total=   0.0s\n",
      "[CV] C=3.143559810763267, l1_ratio=0.14208743542683802 ...............\n",
      "[CV]  C=3.143559810763267, l1_ratio=0.14208743542683802, total=   0.0s\n",
      "[CV] C=3.143559810763267, l1_ratio=0.14208743542683802 ...............\n",
      "[CV]  C=3.143559810763267, l1_ratio=0.14208743542683802, total=   0.0s\n",
      "[CV] C=3.143559810763267, l1_ratio=0.14208743542683802 ...............\n",
      "[CV]  C=3.143559810763267, l1_ratio=0.14208743542683802, total=   0.0s\n",
      "[CV] C=9.07566473926093, l1_ratio=0.05734776459665967 ................\n",
      "[CV] . C=9.07566473926093, l1_ratio=0.05734776459665967, total=   0.0s\n",
      "[CV] C=9.07566473926093, l1_ratio=0.05734776459665967 ................\n",
      "[CV] . C=9.07566473926093, l1_ratio=0.05734776459665967, total=   0.0s\n",
      "[CV] C=9.07566473926093, l1_ratio=0.05734776459665967 ................\n",
      "[CV] . C=9.07566473926093, l1_ratio=0.05734776459665967, total=   0.0s\n",
      "[CV] C=9.07566473926093, l1_ratio=0.05734776459665967 ................\n",
      "[CV] . C=9.07566473926093, l1_ratio=0.05734776459665967, total=   0.0s\n",
      "[CV] C=9.07566473926093, l1_ratio=0.05734776459665967 ................\n",
      "[CV] . C=9.07566473926093, l1_ratio=0.05734776459665967, total=   0.0s\n",
      "[CV] C=4.103829230356297, l1_ratio=0.2817498295077167 ................\n",
      "[CV] . C=4.103829230356297, l1_ratio=0.2817498295077167, total=   0.0s\n",
      "[CV] C=4.103829230356297, l1_ratio=0.2817498295077167 ................\n",
      "[CV] . C=4.103829230356297, l1_ratio=0.2817498295077167, total=   0.0s\n",
      "[CV] C=4.103829230356297, l1_ratio=0.2817498295077167 ................\n",
      "[CV] . C=4.103829230356297, l1_ratio=0.2817498295077167, total=   0.0s\n",
      "[CV] C=4.103829230356297, l1_ratio=0.2817498295077167 ................\n",
      "[CV] . C=4.103829230356297, l1_ratio=0.2817498295077167, total=   0.0s\n",
      "[CV] C=4.103829230356297, l1_ratio=0.2817498295077167 ................\n",
      "[CV] . C=4.103829230356297, l1_ratio=0.2817498295077167, total=   0.0s\n",
      "[CV] C=2.2879816549162246, l1_ratio=0.016020855710035274 .............\n",
      "[CV]  C=2.2879816549162246, l1_ratio=0.016020855710035274, total=   0.0s\n",
      "[CV] C=2.2879816549162246, l1_ratio=0.016020855710035274 .............\n",
      "[CV]  C=2.2879816549162246, l1_ratio=0.016020855710035274, total=   0.0s\n",
      "[CV] C=2.2879816549162246, l1_ratio=0.016020855710035274 .............\n",
      "[CV]  C=2.2879816549162246, l1_ratio=0.016020855710035274, total=   0.0s\n",
      "[CV] C=2.2879816549162246, l1_ratio=0.016020855710035274 .............\n",
      "[CV]  C=2.2879816549162246, l1_ratio=0.016020855710035274, total=   0.0s\n",
      "[CV] C=2.2879816549162246, l1_ratio=0.016020855710035274 .............\n",
      "[CV]  C=2.2879816549162246, l1_ratio=0.016020855710035274, total=   0.0s\n",
      "[CV] C=2.8975145291376805, l1_ratio=0.035161671700012574 .............\n",
      "[CV]  C=2.8975145291376805, l1_ratio=0.035161671700012574, total=   0.0s\n",
      "[CV] C=2.8975145291376805, l1_ratio=0.035161671700012574 .............\n",
      "[CV]  C=2.8975145291376805, l1_ratio=0.035161671700012574, total=   0.0s\n",
      "[CV] C=2.8975145291376805, l1_ratio=0.035161671700012574 .............\n",
      "[CV]  C=2.8975145291376805, l1_ratio=0.035161671700012574, total=   0.0s\n",
      "[CV] C=2.8975145291376805, l1_ratio=0.035161671700012574 .............\n",
      "[CV]  C=2.8975145291376805, l1_ratio=0.035161671700012574, total=   0.0s\n",
      "[CV] C=2.8975145291376805, l1_ratio=0.035161671700012574 .............\n",
      "[CV]  C=2.8975145291376805, l1_ratio=0.035161671700012574, total=   0.0s\n",
      "[CV] C=9.29697652342573, l1_ratio=0.3301774160969139 .................\n",
      "[CV] .. C=9.29697652342573, l1_ratio=0.3301774160969139, total=   0.0s\n",
      "[CV] C=9.29697652342573, l1_ratio=0.3301774160969139 .................\n",
      "[CV] .. C=9.29697652342573, l1_ratio=0.3301774160969139, total=   0.0s\n",
      "[CV] C=9.29697652342573, l1_ratio=0.3301774160969139 .................\n",
      "[CV] .. C=9.29697652342573, l1_ratio=0.3301774160969139, total=   0.0s\n",
      "[CV] C=9.29697652342573, l1_ratio=0.3301774160969139 .................\n",
      "[CV] .. C=9.29697652342573, l1_ratio=0.3301774160969139, total=   0.0s\n",
      "[CV] C=9.29697652342573, l1_ratio=0.3301774160969139 .................\n"
     ]
    },
    {
     "name": "stdout",
     "output_type": "stream",
     "text": [
      "[CV] .. C=9.29697652342573, l1_ratio=0.3301774160969139, total=   0.0s\n",
      "[CV] C=6.334037565104235, l1_ratio=0.41030394610416265 ...............\n",
      "[CV]  C=6.334037565104235, l1_ratio=0.41030394610416265, total=   0.0s\n",
      "[CV] C=6.334037565104235, l1_ratio=0.41030394610416265 ...............\n",
      "[CV]  C=6.334037565104235, l1_ratio=0.41030394610416265, total=   0.0s\n",
      "[CV] C=6.334037565104235, l1_ratio=0.41030394610416265 ...............\n",
      "[CV]  C=6.334037565104235, l1_ratio=0.41030394610416265, total=   0.0s\n",
      "[CV] C=6.334037565104235, l1_ratio=0.41030394610416265 ...............\n",
      "[CV]  C=6.334037565104235, l1_ratio=0.41030394610416265, total=   0.0s\n",
      "[CV] C=6.334037565104235, l1_ratio=0.41030394610416265 ...............\n",
      "[CV]  C=6.334037565104235, l1_ratio=0.41030394610416265, total=   0.0s\n",
      "[CV] C=8.036720768991145, l1_ratio=0.041299095271727815 ..............\n",
      "[CV]  C=8.036720768991145, l1_ratio=0.041299095271727815, total=   0.0s\n",
      "[CV] C=8.036720768991145, l1_ratio=0.041299095271727815 ..............\n",
      "[CV]  C=8.036720768991145, l1_ratio=0.041299095271727815, total=   0.0s\n",
      "[CV] C=8.036720768991145, l1_ratio=0.041299095271727815 ..............\n",
      "[CV]  C=8.036720768991145, l1_ratio=0.041299095271727815, total=   0.0s\n",
      "[CV] C=8.036720768991145, l1_ratio=0.041299095271727815 ..............\n",
      "[CV]  C=8.036720768991145, l1_ratio=0.041299095271727815, total=   0.0s\n",
      "[CV] C=8.036720768991145, l1_ratio=0.041299095271727815 ..............\n",
      "[CV]  C=8.036720768991145, l1_ratio=0.041299095271727815, total=   0.0s\n",
      "[CV] C=8.925589984899778, l1_ratio=0.1550199803932344 ................\n",
      "[CV] . C=8.925589984899778, l1_ratio=0.1550199803932344, total=   0.0s\n",
      "[CV] C=8.925589984899778, l1_ratio=0.1550199803932344 ................\n",
      "[CV] . C=8.925589984899778, l1_ratio=0.1550199803932344, total=   0.0s\n",
      "[CV] C=8.925589984899778, l1_ratio=0.1550199803932344 ................\n",
      "[CV] . C=8.925589984899778, l1_ratio=0.1550199803932344, total=   0.0s\n",
      "[CV] C=8.925589984899778, l1_ratio=0.1550199803932344 ................\n",
      "[CV] . C=8.925589984899778, l1_ratio=0.1550199803932344, total=   0.0s\n",
      "[CV] C=8.925589984899778, l1_ratio=0.1550199803932344 ................\n",
      "[CV] . C=8.925589984899778, l1_ratio=0.1550199803932344, total=   0.0s\n",
      "[CV] C=8.074401551640625, l1_ratio=0.4528485298572463 ................\n",
      "[CV] . C=8.074401551640625, l1_ratio=0.4528485298572463, total=   0.0s\n",
      "[CV] C=8.074401551640625, l1_ratio=0.4528485298572463 ................\n",
      "[CV] . C=8.074401551640625, l1_ratio=0.4528485298572463, total=   0.0s\n",
      "[CV] C=8.074401551640625, l1_ratio=0.4528485298572463 ................\n",
      "[CV] . C=8.074401551640625, l1_ratio=0.4528485298572463, total=   0.0s\n",
      "[CV] C=8.074401551640625, l1_ratio=0.4528485298572463 ................\n",
      "[CV] . C=8.074401551640625, l1_ratio=0.4528485298572463, total=   0.0s\n",
      "[CV] C=8.074401551640625, l1_ratio=0.4528485298572463 ................\n",
      "[CV] . C=8.074401551640625, l1_ratio=0.4528485298572463, total=   0.0s\n",
      "[CV] C=3.1800347497186388, l1_ratio=0.02331843202477017 ..............\n",
      "[CV]  C=3.1800347497186388, l1_ratio=0.02331843202477017, total=   0.0s\n",
      "[CV] C=3.1800347497186388, l1_ratio=0.02331843202477017 ..............\n",
      "[CV]  C=3.1800347497186388, l1_ratio=0.02331843202477017, total=   0.0s\n",
      "[CV] C=3.1800347497186388, l1_ratio=0.02331843202477017 ..............\n",
      "[CV]  C=3.1800347497186388, l1_ratio=0.02331843202477017, total=   0.0s\n",
      "[CV] C=3.1800347497186388, l1_ratio=0.02331843202477017 ..............\n",
      "[CV]  C=3.1800347497186388, l1_ratio=0.02331843202477017, total=   0.0s\n",
      "[CV] C=3.1800347497186388, l1_ratio=0.02331843202477017 ..............\n",
      "[CV]  C=3.1800347497186388, l1_ratio=0.02331843202477017, total=   0.0s\n",
      "[CV] C=2.279351625419417, l1_ratio=0.11141153854972288 ...............\n",
      "[CV]  C=2.279351625419417, l1_ratio=0.11141153854972288, total=   0.0s\n",
      "[CV] C=2.279351625419417, l1_ratio=0.11141153854972288 ...............\n",
      "[CV]  C=2.279351625419417, l1_ratio=0.11141153854972288, total=   0.0s\n",
      "[CV] C=2.279351625419417, l1_ratio=0.11141153854972288 ...............\n",
      "[CV]  C=2.279351625419417, l1_ratio=0.11141153854972288, total=   0.0s\n",
      "[CV] C=2.279351625419417, l1_ratio=0.11141153854972288 ...............\n",
      "[CV]  C=2.279351625419417, l1_ratio=0.11141153854972288, total=   0.0s\n",
      "[CV] C=2.279351625419417, l1_ratio=0.11141153854972288 ...............\n",
      "[CV]  C=2.279351625419417, l1_ratio=0.11141153854972288, total=   0.0s\n",
      "[CV] C=8.18014765922493, l1_ratio=0.3942689943759667 .................\n",
      "[CV] .. C=8.18014765922493, l1_ratio=0.3942689943759667, total=   0.0s\n",
      "[CV] C=8.18014765922493, l1_ratio=0.3942689943759667 .................\n",
      "[CV] .. C=8.18014765922493, l1_ratio=0.3942689943759667, total=   0.0s\n",
      "[CV] C=8.18014765922493, l1_ratio=0.3942689943759667 .................\n",
      "[CV] .. C=8.18014765922493, l1_ratio=0.3942689943759667, total=   0.0s\n",
      "[CV] C=8.18014765922493, l1_ratio=0.3942689943759667 .................\n",
      "[CV] .. C=8.18014765922493, l1_ratio=0.3942689943759667, total=   0.0s\n",
      "[CV] C=8.18014765922493, l1_ratio=0.3942689943759667 .................\n",
      "[CV] .. C=8.18014765922493, l1_ratio=0.3942689943759667, total=   0.0s\n",
      "[CV] C=0.06952130531190703, l1_ratio=0.14297523186771116 .............\n",
      "[CV]  C=0.06952130531190703, l1_ratio=0.14297523186771116, total=   0.0s\n",
      "[CV] C=0.06952130531190703, l1_ratio=0.14297523186771116 .............\n",
      "[CV]  C=0.06952130531190703, l1_ratio=0.14297523186771116, total=   0.0s\n",
      "[CV] C=0.06952130531190703, l1_ratio=0.14297523186771116 .............\n",
      "[CV]  C=0.06952130531190703, l1_ratio=0.14297523186771116, total=   0.0s\n",
      "[CV] C=0.06952130531190703, l1_ratio=0.14297523186771116 .............\n",
      "[CV]  C=0.06952130531190703, l1_ratio=0.14297523186771116, total=   0.0s\n",
      "[CV] C=0.06952130531190703, l1_ratio=0.14297523186771116 .............\n",
      "[CV]  C=0.06952130531190703, l1_ratio=0.14297523186771116, total=   0.0s\n",
      "[CV] C=4.17411003148779, l1_ratio=0.0502334676551649 .................\n",
      "[CV] .. C=4.17411003148779, l1_ratio=0.0502334676551649, total=   0.0s\n",
      "[CV] C=4.17411003148779, l1_ratio=0.0502334676551649 .................\n",
      "[CV] .. C=4.17411003148779, l1_ratio=0.0502334676551649, total=   0.0s\n",
      "[CV] C=4.17411003148779, l1_ratio=0.0502334676551649 .................\n",
      "[CV] .. C=4.17411003148779, l1_ratio=0.0502334676551649, total=   0.0s\n",
      "[CV] C=4.17411003148779, l1_ratio=0.0502334676551649 .................\n",
      "[CV] .. C=4.17411003148779, l1_ratio=0.0502334676551649, total=   0.0s\n",
      "[CV] C=4.17411003148779, l1_ratio=0.0502334676551649 .................\n",
      "[CV] .. C=4.17411003148779, l1_ratio=0.0502334676551649, total=   0.0s\n",
      "[CV] C=1.198653673336828, l1_ratio=0.0823817159724865 ................\n",
      "[CV] . C=1.198653673336828, l1_ratio=0.0823817159724865, total=   0.0s\n",
      "[CV] C=1.198653673336828, l1_ratio=0.0823817159724865 ................\n",
      "[CV] . C=1.198653673336828, l1_ratio=0.0823817159724865, total=   0.0s\n",
      "[CV] C=1.198653673336828, l1_ratio=0.0823817159724865 ................\n",
      "[CV] . C=1.198653673336828, l1_ratio=0.0823817159724865, total=   0.0s\n",
      "[CV] C=1.198653673336828, l1_ratio=0.0823817159724865 ................\n",
      "[CV] . C=1.198653673336828, l1_ratio=0.0823817159724865, total=   0.0s\n",
      "[CV] C=1.198653673336828, l1_ratio=0.0823817159724865 ................\n",
      "[CV] . C=1.198653673336828, l1_ratio=0.0823817159724865, total=   0.0s\n",
      "[CV] C=9.429097039125192, l1_ratio=0.07807676057629488 ...............\n",
      "[CV]  C=9.429097039125192, l1_ratio=0.07807676057629488, total=   0.0s\n",
      "[CV] C=9.429097039125192, l1_ratio=0.07807676057629488 ...............\n",
      "[CV]  C=9.429097039125192, l1_ratio=0.07807676057629488, total=   0.0s\n",
      "[CV] C=9.429097039125192, l1_ratio=0.07807676057629488 ...............\n",
      "[CV]  C=9.429097039125192, l1_ratio=0.07807676057629488, total=   0.0s\n",
      "[CV] C=9.429097039125192, l1_ratio=0.07807676057629488 ...............\n",
      "[CV]  C=9.429097039125192, l1_ratio=0.07807676057629488, total=   0.0s\n",
      "[CV] C=9.429097039125192, l1_ratio=0.07807676057629488 ...............\n",
      "[CV]  C=9.429097039125192, l1_ratio=0.07807676057629488, total=   0.0s\n",
      "[CV] C=5.187906217433661, l1_ratio=0.24281739537617097 ...............\n",
      "[CV]  C=5.187906217433661, l1_ratio=0.24281739537617097, total=   0.0s\n",
      "[CV] C=5.187906217433661, l1_ratio=0.24281739537617097 ...............\n",
      "[CV]  C=5.187906217433661, l1_ratio=0.24281739537617097, total=   0.0s\n",
      "[CV] C=5.187906217433661, l1_ratio=0.24281739537617097 ...............\n",
      "[CV]  C=5.187906217433661, l1_ratio=0.24281739537617097, total=   0.0s\n",
      "[CV] C=5.187906217433661, l1_ratio=0.24281739537617097 ...............\n",
      "[CV]  C=5.187906217433661, l1_ratio=0.24281739537617097, total=   0.0s\n",
      "[CV] C=5.187906217433661, l1_ratio=0.24281739537617097 ...............\n",
      "[CV]  C=5.187906217433661, l1_ratio=0.24281739537617097, total=   0.0s\n",
      "[CV] C=3.63629602379294, l1_ratio=0.71355962765834 ...................\n",
      "[CV] .... C=3.63629602379294, l1_ratio=0.71355962765834, total=   0.0s\n",
      "[CV] C=3.63629602379294, l1_ratio=0.71355962765834 ...................\n",
      "[CV] .... C=3.63629602379294, l1_ratio=0.71355962765834, total=   0.0s\n",
      "[CV] C=3.63629602379294, l1_ratio=0.71355962765834 ...................\n",
      "[CV] .... C=3.63629602379294, l1_ratio=0.71355962765834, total=   0.0s\n",
      "[CV] C=3.63629602379294, l1_ratio=0.71355962765834 ...................\n",
      "[CV] .... C=3.63629602379294, l1_ratio=0.71355962765834, total=   0.0s\n",
      "[CV] C=3.63629602379294, l1_ratio=0.71355962765834 ...................\n",
      "[CV] .... C=3.63629602379294, l1_ratio=0.71355962765834, total=   0.0s\n",
      "[CV] C=9.624472949421111, l1_ratio=0.05801225899844106 ...............\n",
      "[CV]  C=9.624472949421111, l1_ratio=0.05801225899844106, total=   0.0s\n",
      "[CV] C=9.624472949421111, l1_ratio=0.05801225899844106 ...............\n",
      "[CV]  C=9.624472949421111, l1_ratio=0.05801225899844106, total=   0.0s\n",
      "[CV] C=9.624472949421111, l1_ratio=0.05801225899844106 ...............\n",
      "[CV]  C=9.624472949421111, l1_ratio=0.05801225899844106, total=   0.0s\n",
      "[CV] C=9.624472949421111, l1_ratio=0.05801225899844106 ...............\n",
      "[CV]  C=9.624472949421111, l1_ratio=0.05801225899844106, total=   0.0s\n",
      "[CV] C=9.624472949421111, l1_ratio=0.05801225899844106 ...............\n",
      "[CV]  C=9.624472949421111, l1_ratio=0.05801225899844106, total=   0.0s\n",
      "[CV] C=4.972485058923855, l1_ratio=0.07158609201580936 ...............\n",
      "[CV]  C=4.972485058923855, l1_ratio=0.07158609201580936, total=   0.0s\n",
      "[CV] C=4.972485058923855, l1_ratio=0.07158609201580936 ...............\n",
      "[CV]  C=4.972485058923855, l1_ratio=0.07158609201580936, total=   0.0s\n",
      "[CV] C=4.972485058923855, l1_ratio=0.07158609201580936 ...............\n"
     ]
    },
    {
     "name": "stdout",
     "output_type": "stream",
     "text": [
      "[CV]  C=4.972485058923855, l1_ratio=0.07158609201580936, total=   0.0s\n",
      "[CV] C=4.972485058923855, l1_ratio=0.07158609201580936 ...............\n",
      "[CV]  C=4.972485058923855, l1_ratio=0.07158609201580936, total=   0.0s\n",
      "[CV] C=4.972485058923855, l1_ratio=0.07158609201580936 ...............\n",
      "[CV]  C=4.972485058923855, l1_ratio=0.07158609201580936, total=   0.0s\n",
      "[CV] C=2.848404943774676, l1_ratio=0.007516895553104507 ..............\n",
      "[CV]  C=2.848404943774676, l1_ratio=0.007516895553104507, total=   0.0s\n",
      "[CV] C=2.848404943774676, l1_ratio=0.007516895553104507 ..............\n",
      "[CV]  C=2.848404943774676, l1_ratio=0.007516895553104507, total=   0.0s\n",
      "[CV] C=2.848404943774676, l1_ratio=0.007516895553104507 ..............\n",
      "[CV]  C=2.848404943774676, l1_ratio=0.007516895553104507, total=   0.0s\n",
      "[CV] C=2.848404943774676, l1_ratio=0.007516895553104507 ..............\n",
      "[CV]  C=2.848404943774676, l1_ratio=0.007516895553104507, total=   0.0s\n",
      "[CV] C=2.848404943774676, l1_ratio=0.007516895553104507 ..............\n",
      "[CV]  C=2.848404943774676, l1_ratio=0.007516895553104507, total=   0.0s\n",
      "[CV] C=6.095643339798968, l1_ratio=0.1397039265659277 ................\n",
      "[CV] . C=6.095643339798968, l1_ratio=0.1397039265659277, total=   0.0s\n",
      "[CV] C=6.095643339798968, l1_ratio=0.1397039265659277 ................\n",
      "[CV] . C=6.095643339798968, l1_ratio=0.1397039265659277, total=   0.0s\n",
      "[CV] C=6.095643339798968, l1_ratio=0.1397039265659277 ................\n",
      "[CV] . C=6.095643339798968, l1_ratio=0.1397039265659277, total=   0.0s\n",
      "[CV] C=6.095643339798968, l1_ratio=0.1397039265659277 ................\n",
      "[CV] . C=6.095643339798968, l1_ratio=0.1397039265659277, total=   0.0s\n",
      "[CV] C=6.095643339798968, l1_ratio=0.1397039265659277 ................\n",
      "[CV] . C=6.095643339798968, l1_ratio=0.1397039265659277, total=   0.0s\n",
      "[CV] C=0.5147875124998935, l1_ratio=0.06532518420207388 ..............\n",
      "[CV]  C=0.5147875124998935, l1_ratio=0.06532518420207388, total=   0.0s\n",
      "[CV] C=0.5147875124998935, l1_ratio=0.06532518420207388 ..............\n",
      "[CV]  C=0.5147875124998935, l1_ratio=0.06532518420207388, total=   0.0s\n",
      "[CV] C=0.5147875124998935, l1_ratio=0.06532518420207388 ..............\n",
      "[CV]  C=0.5147875124998935, l1_ratio=0.06532518420207388, total=   0.0s\n",
      "[CV] C=0.5147875124998935, l1_ratio=0.06532518420207388 ..............\n",
      "[CV]  C=0.5147875124998935, l1_ratio=0.06532518420207388, total=   0.0s\n",
      "[CV] C=0.5147875124998935, l1_ratio=0.06532518420207388 ..............\n",
      "[CV]  C=0.5147875124998935, l1_ratio=0.06532518420207388, total=   0.0s\n",
      "[CV] C=9.082658859666537, l1_ratio=0.05477211042841541 ...............\n",
      "[CV]  C=9.082658859666537, l1_ratio=0.05477211042841541, total=   0.0s\n",
      "[CV] C=9.082658859666537, l1_ratio=0.05477211042841541 ...............\n",
      "[CV]  C=9.082658859666537, l1_ratio=0.05477211042841541, total=   0.0s\n",
      "[CV] C=9.082658859666537, l1_ratio=0.05477211042841541 ...............\n",
      "[CV]  C=9.082658859666537, l1_ratio=0.05477211042841541, total=   0.0s\n",
      "[CV] C=9.082658859666537, l1_ratio=0.05477211042841541 ...............\n",
      "[CV]  C=9.082658859666537, l1_ratio=0.05477211042841541, total=   0.0s\n",
      "[CV] C=9.082658859666537, l1_ratio=0.05477211042841541 ...............\n",
      "[CV]  C=9.082658859666537, l1_ratio=0.05477211042841541, total=   0.0s\n",
      "[CV] C=1.448948720912231, l1_ratio=0.13445442189472726 ...............\n",
      "[CV]  C=1.448948720912231, l1_ratio=0.13445442189472726, total=   0.0s\n",
      "[CV] C=1.448948720912231, l1_ratio=0.13445442189472726 ...............\n",
      "[CV]  C=1.448948720912231, l1_ratio=0.13445442189472726, total=   0.0s\n",
      "[CV] C=1.448948720912231, l1_ratio=0.13445442189472726 ...............\n",
      "[CV]  C=1.448948720912231, l1_ratio=0.13445442189472726, total=   0.0s\n",
      "[CV] C=1.448948720912231, l1_ratio=0.13445442189472726 ...............\n",
      "[CV]  C=1.448948720912231, l1_ratio=0.13445442189472726, total=   0.0s\n",
      "[CV] C=1.448948720912231, l1_ratio=0.13445442189472726 ...............\n",
      "[CV]  C=1.448948720912231, l1_ratio=0.13445442189472726, total=   0.0s\n",
      "[CV] C=9.856504541106007, l1_ratio=0.055428962711945244 ..............\n",
      "[CV]  C=9.856504541106007, l1_ratio=0.055428962711945244, total=   0.0s\n",
      "[CV] C=9.856504541106007, l1_ratio=0.055428962711945244 ..............\n",
      "[CV]  C=9.856504541106007, l1_ratio=0.055428962711945244, total=   0.0s\n",
      "[CV] C=9.856504541106007, l1_ratio=0.055428962711945244 ..............\n",
      "[CV]  C=9.856504541106007, l1_ratio=0.055428962711945244, total=   0.0s\n",
      "[CV] C=9.856504541106007, l1_ratio=0.055428962711945244 ..............\n",
      "[CV]  C=9.856504541106007, l1_ratio=0.055428962711945244, total=   0.0s\n",
      "[CV] C=9.856504541106007, l1_ratio=0.055428962711945244 ..............\n",
      "[CV]  C=9.856504541106007, l1_ratio=0.055428962711945244, total=   0.0s\n",
      "[CV] C=6.721355474058786, l1_ratio=0.2867775252478926 ................\n",
      "[CV] . C=6.721355474058786, l1_ratio=0.2867775252478926, total=   0.0s\n",
      "[CV] C=6.721355474058786, l1_ratio=0.2867775252478926 ................\n",
      "[CV] . C=6.721355474058786, l1_ratio=0.2867775252478926, total=   0.0s\n",
      "[CV] C=6.721355474058786, l1_ratio=0.2867775252478926 ................\n",
      "[CV] . C=6.721355474058786, l1_ratio=0.2867775252478926, total=   0.0s\n",
      "[CV] C=6.721355474058786, l1_ratio=0.2867775252478926 ................\n",
      "[CV] . C=6.721355474058786, l1_ratio=0.2867775252478926, total=   0.0s\n",
      "[CV] C=6.721355474058786, l1_ratio=0.2867775252478926 ................\n",
      "[CV] . C=6.721355474058786, l1_ratio=0.2867775252478926, total=   0.0s\n",
      "[CV] C=2.3763754399239967, l1_ratio=0.26054978569846327 ..............\n",
      "[CV]  C=2.3763754399239967, l1_ratio=0.26054978569846327, total=   0.0s\n",
      "[CV] C=2.3763754399239967, l1_ratio=0.26054978569846327 ..............\n",
      "[CV]  C=2.3763754399239967, l1_ratio=0.26054978569846327, total=   0.0s\n",
      "[CV] C=2.3763754399239967, l1_ratio=0.26054978569846327 ..............\n",
      "[CV]  C=2.3763754399239967, l1_ratio=0.26054978569846327, total=   0.0s\n",
      "[CV] C=2.3763754399239967, l1_ratio=0.26054978569846327 ..............\n",
      "[CV]  C=2.3763754399239967, l1_ratio=0.26054978569846327, total=   0.0s\n",
      "[CV] C=2.3763754399239967, l1_ratio=0.26054978569846327 ..............\n",
      "[CV]  C=2.3763754399239967, l1_ratio=0.26054978569846327, total=   0.0s\n",
      "[CV] C=3.677831327192532, l1_ratio=0.20010074954635426 ...............\n",
      "[CV]  C=3.677831327192532, l1_ratio=0.20010074954635426, total=   0.0s\n",
      "[CV] C=3.677831327192532, l1_ratio=0.20010074954635426 ...............\n",
      "[CV]  C=3.677831327192532, l1_ratio=0.20010074954635426, total=   0.0s\n",
      "[CV] C=3.677831327192532, l1_ratio=0.20010074954635426 ...............\n",
      "[CV]  C=3.677831327192532, l1_ratio=0.20010074954635426, total=   0.0s\n",
      "[CV] C=3.677831327192532, l1_ratio=0.20010074954635426 ...............\n",
      "[CV]  C=3.677831327192532, l1_ratio=0.20010074954635426, total=   0.0s\n",
      "[CV] C=3.677831327192532, l1_ratio=0.20010074954635426 ...............\n",
      "[CV]  C=3.677831327192532, l1_ratio=0.20010074954635426, total=   0.0s\n",
      "[CV] C=6.335297107608947, l1_ratio=0.15347704999046977 ...............\n",
      "[CV]  C=6.335297107608947, l1_ratio=0.15347704999046977, total=   0.0s\n",
      "[CV] C=6.335297107608947, l1_ratio=0.15347704999046977 ...............\n",
      "[CV]  C=6.335297107608947, l1_ratio=0.15347704999046977, total=   0.0s\n",
      "[CV] C=6.335297107608947, l1_ratio=0.15347704999046977 ...............\n",
      "[CV]  C=6.335297107608947, l1_ratio=0.15347704999046977, total=   0.0s\n",
      "[CV] C=6.335297107608947, l1_ratio=0.15347704999046977 ...............\n",
      "[CV]  C=6.335297107608947, l1_ratio=0.15347704999046977, total=   0.0s\n",
      "[CV] C=6.335297107608947, l1_ratio=0.15347704999046977 ...............\n",
      "[CV]  C=6.335297107608947, l1_ratio=0.15347704999046977, total=   0.0s\n",
      "[CV] C=0.902897700544083, l1_ratio=0.36072895884925943 ...............\n",
      "[CV]  C=0.902897700544083, l1_ratio=0.36072895884925943, total=   0.0s\n",
      "[CV] C=0.902897700544083, l1_ratio=0.36072895884925943 ...............\n",
      "[CV]  C=0.902897700544083, l1_ratio=0.36072895884925943, total=   0.0s\n",
      "[CV] C=0.902897700544083, l1_ratio=0.36072895884925943 ...............\n",
      "[CV]  C=0.902897700544083, l1_ratio=0.36072895884925943, total=   0.0s\n",
      "[CV] C=0.902897700544083, l1_ratio=0.36072895884925943 ...............\n",
      "[CV]  C=0.902897700544083, l1_ratio=0.36072895884925943, total=   0.0s\n",
      "[CV] C=0.902897700544083, l1_ratio=0.36072895884925943 ...............\n",
      "[CV]  C=0.902897700544083, l1_ratio=0.36072895884925943, total=   0.0s\n",
      "[CV] C=3.2078006497173583, l1_ratio=0.04128642132151131 ..............\n"
     ]
    },
    {
     "name": "stdout",
     "output_type": "stream",
     "text": [
      "[CV]  C=3.2078006497173583, l1_ratio=0.04128642132151131, total=   0.0s\n",
      "[CV] C=3.2078006497173583, l1_ratio=0.04128642132151131 ..............\n",
      "[CV]  C=3.2078006497173583, l1_ratio=0.04128642132151131, total=   0.0s\n",
      "[CV] C=3.2078006497173583, l1_ratio=0.04128642132151131 ..............\n",
      "[CV]  C=3.2078006497173583, l1_ratio=0.04128642132151131, total=   0.0s\n",
      "[CV] C=3.2078006497173583, l1_ratio=0.04128642132151131 ..............\n",
      "[CV]  C=3.2078006497173583, l1_ratio=0.04128642132151131, total=   0.0s\n",
      "[CV] C=3.2078006497173583, l1_ratio=0.04128642132151131 ..............\n",
      "[CV]  C=3.2078006497173583, l1_ratio=0.04128642132151131, total=   0.0s\n",
      "[CV] C=0.40775141554763916, l1_ratio=0.1787556809189167 ..............\n",
      "[CV]  C=0.40775141554763916, l1_ratio=0.1787556809189167, total=   0.0s\n",
      "[CV] C=0.40775141554763916, l1_ratio=0.1787556809189167 ..............\n",
      "[CV]  C=0.40775141554763916, l1_ratio=0.1787556809189167, total=   0.0s\n",
      "[CV] C=0.40775141554763916, l1_ratio=0.1787556809189167 ..............\n",
      "[CV]  C=0.40775141554763916, l1_ratio=0.1787556809189167, total=   0.0s\n",
      "[CV] C=0.40775141554763916, l1_ratio=0.1787556809189167 ..............\n",
      "[CV]  C=0.40775141554763916, l1_ratio=0.1787556809189167, total=   0.0s\n",
      "[CV] C=0.40775141554763916, l1_ratio=0.1787556809189167 ..............\n",
      "[CV]  C=0.40775141554763916, l1_ratio=0.1787556809189167, total=   0.0s\n",
      "[CV] C=6.775643618422825, l1_ratio=0.003345389511694124 ..............\n",
      "[CV]  C=6.775643618422825, l1_ratio=0.003345389511694124, total=   0.0s\n",
      "[CV] C=6.775643618422825, l1_ratio=0.003345389511694124 ..............\n",
      "[CV]  C=6.775643618422825, l1_ratio=0.003345389511694124, total=   0.0s\n",
      "[CV] C=6.775643618422825, l1_ratio=0.003345389511694124 ..............\n",
      "[CV]  C=6.775643618422825, l1_ratio=0.003345389511694124, total=   0.0s\n",
      "[CV] C=6.775643618422825, l1_ratio=0.003345389511694124 ..............\n",
      "[CV]  C=6.775643618422825, l1_ratio=0.003345389511694124, total=   0.0s\n",
      "[CV] C=6.775643618422825, l1_ratio=0.003345389511694124 ..............\n",
      "[CV]  C=6.775643618422825, l1_ratio=0.003345389511694124, total=   0.0s\n",
      "[CV] C=5.12093058299281, l1_ratio=0.05136482941099153 ................\n",
      "[CV] . C=5.12093058299281, l1_ratio=0.05136482941099153, total=   0.0s\n",
      "[CV] C=5.12093058299281, l1_ratio=0.05136482941099153 ................\n",
      "[CV] . C=5.12093058299281, l1_ratio=0.05136482941099153, total=   0.0s\n",
      "[CV] C=5.12093058299281, l1_ratio=0.05136482941099153 ................\n",
      "[CV] . C=5.12093058299281, l1_ratio=0.05136482941099153, total=   0.0s\n",
      "[CV] C=5.12093058299281, l1_ratio=0.05136482941099153 ................\n",
      "[CV] . C=5.12093058299281, l1_ratio=0.05136482941099153, total=   0.0s\n",
      "[CV] C=5.12093058299281, l1_ratio=0.05136482941099153 ................\n",
      "[CV] . C=5.12093058299281, l1_ratio=0.05136482941099153, total=   0.0s\n",
      "[CV] C=6.451727904094499, l1_ratio=0.03832084450782675 ...............\n",
      "[CV]  C=6.451727904094499, l1_ratio=0.03832084450782675, total=   0.0s\n",
      "[CV] C=6.451727904094499, l1_ratio=0.03832084450782675 ...............\n",
      "[CV]  C=6.451727904094499, l1_ratio=0.03832084450782675, total=   0.0s\n",
      "[CV] C=6.451727904094499, l1_ratio=0.03832084450782675 ...............\n",
      "[CV]  C=6.451727904094499, l1_ratio=0.03832084450782675, total=   0.0s\n",
      "[CV] C=6.451727904094499, l1_ratio=0.03832084450782675 ...............\n",
      "[CV]  C=6.451727904094499, l1_ratio=0.03832084450782675, total=   0.0s\n",
      "[CV] C=6.451727904094499, l1_ratio=0.03832084450782675 ...............\n",
      "[CV]  C=6.451727904094499, l1_ratio=0.03832084450782675, total=   0.0s\n",
      "[CV] C=6.90937738102466, l1_ratio=0.09779174019622036 ................\n",
      "[CV] . C=6.90937738102466, l1_ratio=0.09779174019622036, total=   0.0s\n",
      "[CV] C=6.90937738102466, l1_ratio=0.09779174019622036 ................\n",
      "[CV] . C=6.90937738102466, l1_ratio=0.09779174019622036, total=   0.0s\n",
      "[CV] C=6.90937738102466, l1_ratio=0.09779174019622036 ................\n",
      "[CV] . C=6.90937738102466, l1_ratio=0.09779174019622036, total=   0.0s\n",
      "[CV] C=6.90937738102466, l1_ratio=0.09779174019622036 ................\n",
      "[CV] . C=6.90937738102466, l1_ratio=0.09779174019622036, total=   0.0s\n",
      "[CV] C=6.90937738102466, l1_ratio=0.09779174019622036 ................\n",
      "[CV] . C=6.90937738102466, l1_ratio=0.09779174019622036, total=   0.0s\n",
      "[CV] C=9.367299887367345, l1_ratio=0.02958888268785579 ...............\n",
      "[CV]  C=9.367299887367345, l1_ratio=0.02958888268785579, total=   0.0s\n",
      "[CV] C=9.367299887367345, l1_ratio=0.02958888268785579 ...............\n",
      "[CV]  C=9.367299887367345, l1_ratio=0.02958888268785579, total=   0.0s\n",
      "[CV] C=9.367299887367345, l1_ratio=0.02958888268785579 ...............\n",
      "[CV]  C=9.367299887367345, l1_ratio=0.02958888268785579, total=   0.0s\n",
      "[CV] C=9.367299887367345, l1_ratio=0.02958888268785579 ...............\n",
      "[CV]  C=9.367299887367345, l1_ratio=0.02958888268785579, total=   0.0s\n",
      "[CV] C=9.367299887367345, l1_ratio=0.02958888268785579 ...............\n",
      "[CV]  C=9.367299887367345, l1_ratio=0.02958888268785579, total=   0.0s\n",
      "[CV] C=3.410663510502585, l1_ratio=0.024088857007399284 ..............\n",
      "[CV]  C=3.410663510502585, l1_ratio=0.024088857007399284, total=   0.0s\n",
      "[CV] C=3.410663510502585, l1_ratio=0.024088857007399284 ..............\n",
      "[CV]  C=3.410663510502585, l1_ratio=0.024088857007399284, total=   0.0s\n",
      "[CV] C=3.410663510502585, l1_ratio=0.024088857007399284 ..............\n",
      "[CV]  C=3.410663510502585, l1_ratio=0.024088857007399284, total=   0.0s\n",
      "[CV] C=3.410663510502585, l1_ratio=0.024088857007399284 ..............\n",
      "[CV]  C=3.410663510502585, l1_ratio=0.024088857007399284, total=   0.0s\n",
      "[CV] C=3.410663510502585, l1_ratio=0.024088857007399284 ..............\n",
      "[CV]  C=3.410663510502585, l1_ratio=0.024088857007399284, total=   0.0s\n",
      "[CV] C=9.246936182785628, l1_ratio=0.41966674143219884 ...............\n",
      "[CV]  C=9.246936182785628, l1_ratio=0.41966674143219884, total=   0.0s\n",
      "[CV] C=9.246936182785628, l1_ratio=0.41966674143219884 ...............\n",
      "[CV]  C=9.246936182785628, l1_ratio=0.41966674143219884, total=   0.0s\n",
      "[CV] C=9.246936182785628, l1_ratio=0.41966674143219884 ...............\n",
      "[CV]  C=9.246936182785628, l1_ratio=0.41966674143219884, total=   0.0s\n",
      "[CV] C=9.246936182785628, l1_ratio=0.41966674143219884 ...............\n",
      "[CV]  C=9.246936182785628, l1_ratio=0.41966674143219884, total=   0.0s\n",
      "[CV] C=9.246936182785628, l1_ratio=0.41966674143219884 ...............\n",
      "[CV]  C=9.246936182785628, l1_ratio=0.41966674143219884, total=   0.0s\n",
      "[CV] C=2.579416277151556, l1_ratio=0.21575254780878292 ...............\n",
      "[CV]  C=2.579416277151556, l1_ratio=0.21575254780878292, total=   0.0s\n",
      "[CV] C=2.579416277151556, l1_ratio=0.21575254780878292 ...............\n",
      "[CV]  C=2.579416277151556, l1_ratio=0.21575254780878292, total=   0.0s\n",
      "[CV] C=2.579416277151556, l1_ratio=0.21575254780878292 ...............\n",
      "[CV]  C=2.579416277151556, l1_ratio=0.21575254780878292, total=   0.0s\n",
      "[CV] C=2.579416277151556, l1_ratio=0.21575254780878292 ...............\n",
      "[CV]  C=2.579416277151556, l1_ratio=0.21575254780878292, total=   0.0s\n",
      "[CV] C=2.579416277151556, l1_ratio=0.21575254780878292 ...............\n",
      "[CV]  C=2.579416277151556, l1_ratio=0.21575254780878292, total=   0.0s\n",
      "[CV] C=8.172222002012159, l1_ratio=0.16202647213730162 ...............\n",
      "[CV]  C=8.172222002012159, l1_ratio=0.16202647213730162, total=   0.0s\n",
      "[CV] C=8.172222002012159, l1_ratio=0.16202647213730162 ...............\n",
      "[CV]  C=8.172222002012159, l1_ratio=0.16202647213730162, total=   0.0s\n",
      "[CV] C=8.172222002012159, l1_ratio=0.16202647213730162 ...............\n",
      "[CV]  C=8.172222002012159, l1_ratio=0.16202647213730162, total=   0.0s\n",
      "[CV] C=8.172222002012159, l1_ratio=0.16202647213730162 ...............\n",
      "[CV]  C=8.172222002012159, l1_ratio=0.16202647213730162, total=   0.0s\n",
      "[CV] C=8.172222002012159, l1_ratio=0.16202647213730162 ...............\n",
      "[CV]  C=8.172222002012159, l1_ratio=0.16202647213730162, total=   0.0s\n",
      "[CV] C=5.296505783560065, l1_ratio=0.05537540908758063 ...............\n",
      "[CV]  C=5.296505783560065, l1_ratio=0.05537540908758063, total=   0.0s\n",
      "[CV] C=5.296505783560065, l1_ratio=0.05537540908758063 ...............\n",
      "[CV]  C=5.296505783560065, l1_ratio=0.05537540908758063, total=   0.0s\n",
      "[CV] C=5.296505783560065, l1_ratio=0.05537540908758063 ...............\n",
      "[CV]  C=5.296505783560065, l1_ratio=0.05537540908758063, total=   0.0s\n",
      "[CV] C=5.296505783560065, l1_ratio=0.05537540908758063 ...............\n",
      "[CV]  C=5.296505783560065, l1_ratio=0.05537540908758063, total=   0.0s\n",
      "[CV] C=5.296505783560065, l1_ratio=0.05537540908758063 ...............\n"
     ]
    },
    {
     "name": "stdout",
     "output_type": "stream",
     "text": [
      "[CV]  C=5.296505783560065, l1_ratio=0.05537540908758063, total=   0.0s\n",
      "[CV] C=0.9310276780589921, l1_ratio=0.4550246450389046 ...............\n",
      "[CV]  C=0.9310276780589921, l1_ratio=0.4550246450389046, total=   0.0s\n",
      "[CV] C=0.9310276780589921, l1_ratio=0.4550246450389046 ...............\n",
      "[CV]  C=0.9310276780589921, l1_ratio=0.4550246450389046, total=   0.0s\n",
      "[CV] C=0.9310276780589921, l1_ratio=0.4550246450389046 ...............\n",
      "[CV]  C=0.9310276780589921, l1_ratio=0.4550246450389046, total=   0.0s\n",
      "[CV] C=0.9310276780589921, l1_ratio=0.4550246450389046 ...............\n",
      "[CV]  C=0.9310276780589921, l1_ratio=0.4550246450389046, total=   0.0s\n",
      "[CV] C=0.9310276780589921, l1_ratio=0.4550246450389046 ...............\n",
      "[CV]  C=0.9310276780589921, l1_ratio=0.4550246450389046, total=   0.0s\n",
      "[CV] C=9.004180571633304, l1_ratio=0.20053398389657695 ...............\n",
      "[CV]  C=9.004180571633304, l1_ratio=0.20053398389657695, total=   0.0s\n",
      "[CV] C=9.004180571633304, l1_ratio=0.20053398389657695 ...............\n",
      "[CV]  C=9.004180571633304, l1_ratio=0.20053398389657695, total=   0.0s\n",
      "[CV] C=9.004180571633304, l1_ratio=0.20053398389657695 ...............\n",
      "[CV]  C=9.004180571633304, l1_ratio=0.20053398389657695, total=   0.0s\n",
      "[CV] C=9.004180571633304, l1_ratio=0.20053398389657695 ...............\n",
      "[CV]  C=9.004180571633304, l1_ratio=0.20053398389657695, total=   0.0s\n",
      "[CV] C=9.004180571633304, l1_ratio=0.20053398389657695 ...............\n",
      "[CV]  C=9.004180571633304, l1_ratio=0.20053398389657695, total=   0.0s\n",
      "[CV] C=3.390297910487007, l1_ratio=0.0859135231623288 ................\n",
      "[CV] . C=3.390297910487007, l1_ratio=0.0859135231623288, total=   0.0s\n",
      "[CV] C=3.390297910487007, l1_ratio=0.0859135231623288 ................\n",
      "[CV] . C=3.390297910487007, l1_ratio=0.0859135231623288, total=   0.0s\n",
      "[CV] C=3.390297910487007, l1_ratio=0.0859135231623288 ................\n",
      "[CV] . C=3.390297910487007, l1_ratio=0.0859135231623288, total=   0.0s\n",
      "[CV] C=3.390297910487007, l1_ratio=0.0859135231623288 ................\n",
      "[CV] . C=3.390297910487007, l1_ratio=0.0859135231623288, total=   0.0s\n",
      "[CV] C=3.390297910487007, l1_ratio=0.0859135231623288 ................\n",
      "[CV] . C=3.390297910487007, l1_ratio=0.0859135231623288, total=   0.0s\n",
      "[CV] C=7.259556788702394, l1_ratio=0.4548194698214505 ................\n",
      "[CV] . C=7.259556788702394, l1_ratio=0.4548194698214505, total=   0.0s\n",
      "[CV] C=7.259556788702394, l1_ratio=0.4548194698214505 ................\n",
      "[CV] . C=7.259556788702394, l1_ratio=0.4548194698214505, total=   0.0s\n",
      "[CV] C=7.259556788702394, l1_ratio=0.4548194698214505 ................\n",
      "[CV] . C=7.259556788702394, l1_ratio=0.4548194698214505, total=   0.0s\n",
      "[CV] C=7.259556788702394, l1_ratio=0.4548194698214505 ................\n",
      "[CV] . C=7.259556788702394, l1_ratio=0.4548194698214505, total=   0.0s\n",
      "[CV] C=7.259556788702394, l1_ratio=0.4548194698214505 ................\n",
      "[CV] . C=7.259556788702394, l1_ratio=0.4548194698214505, total=   0.0s\n",
      "[CV] C=8.870864242651173, l1_ratio=0.30271243838618067 ...............\n",
      "[CV]  C=8.870864242651173, l1_ratio=0.30271243838618067, total=   0.0s\n",
      "[CV] C=8.870864242651173, l1_ratio=0.30271243838618067 ...............\n",
      "[CV]  C=8.870864242651173, l1_ratio=0.30271243838618067, total=   0.0s\n",
      "[CV] C=8.870864242651173, l1_ratio=0.30271243838618067 ...............\n",
      "[CV]  C=8.870864242651173, l1_ratio=0.30271243838618067, total=   0.0s\n",
      "[CV] C=8.870864242651173, l1_ratio=0.30271243838618067 ...............\n",
      "[CV]  C=8.870864242651173, l1_ratio=0.30271243838618067, total=   0.0s\n",
      "[CV] C=8.870864242651173, l1_ratio=0.30271243838618067 ...............\n",
      "[CV]  C=8.870864242651173, l1_ratio=0.30271243838618067, total=   0.0s\n"
     ]
    },
    {
     "name": "stderr",
     "output_type": "stream",
     "text": [
      "[Parallel(n_jobs=1)]: Done 500 out of 500 | elapsed:    5.1s finished\n"
     ]
    },
    {
     "data": {
      "text/plain": [
       "{'C': 3.745401188473625, 'l1_ratio': 0.6020242861835042}"
      ]
     },
     "execution_count": 170,
     "metadata": {},
     "output_type": "execute_result"
    }
   ],
   "source": [
    "rs = RandomizedSearchCV(estimator=LogisticRegression(penalty='elasticnet',\n",
    "                                                    solver='saga',\n",
    "                                                    max_iter=1000,\n",
    "                                                    random_state=42),\n",
    "                        param_distributions=log_reg_grid,\n",
    "                       random_state=42, n_iter=100, verbose=2)\n",
    "\n",
    "rs.fit(X_train_clean, y_train)\n",
    "\n",
    "rs.best_params_"
   ]
  },
  {
   "cell_type": "code",
   "execution_count": null,
   "metadata": {},
   "outputs": [],
   "source": []
  }
 ],
 "metadata": {
  "hide_input": false,
  "kernelspec": {
   "display_name": "Python (learn-env)",
   "language": "python",
   "name": "learn-env"
  },
  "language_info": {
   "codemirror_mode": {
    "name": "ipython",
    "version": 3
   },
   "file_extension": ".py",
   "mimetype": "text/x-python",
   "name": "python",
   "nbconvert_exporter": "python",
   "pygments_lexer": "ipython3",
   "version": "3.8.5"
  },
  "latex_envs": {
   "LaTeX_envs_menu_present": true,
   "autoclose": false,
   "autocomplete": true,
   "bibliofile": "biblio.bib",
   "cite_by": "apalike",
   "current_citInitial": 1,
   "eqLabelWithNumbers": true,
   "eqNumInitial": 1,
   "hotkeys": {
    "equation": "Ctrl-E",
    "itemize": "Ctrl-I"
   },
   "labels_anchors": false,
   "latex_user_defs": false,
   "report_style_numbering": false,
   "user_envs_cfg": false
  },
  "nbTranslate": {
   "displayLangs": [
    "*"
   ],
   "hotkey": "alt-t",
   "langInMainMenu": true,
   "sourceLang": "en",
   "targetLang": "fr",
   "useGoogleTranslate": true
  },
  "toc": {
   "base_numbering": 1,
   "nav_menu": {},
   "number_sections": true,
   "sideBar": true,
   "skip_h1_title": false,
   "title_cell": "Table of Contents",
   "title_sidebar": "TOC",
   "toc_cell": true,
   "toc_position": {
    "height": "calc(100% - 180px)",
    "left": "10px",
    "top": "150px",
    "width": "232px"
   },
   "toc_section_display": true,
   "toc_window_display": false
  }
 },
 "nbformat": 4,
 "nbformat_minor": 4
}
