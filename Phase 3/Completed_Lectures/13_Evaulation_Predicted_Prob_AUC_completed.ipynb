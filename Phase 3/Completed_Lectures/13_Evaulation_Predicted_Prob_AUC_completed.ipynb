{
 "cells": [
  {
   "cell_type": "markdown",
   "metadata": {},
   "source": [
    "# Evaluating Classification: ROC/AUC"
   ]
  },
  {
   "cell_type": "code",
   "execution_count": 1,
   "metadata": {},
   "outputs": [],
   "source": [
    "import numpy as np\n",
    "import pandas as pd\n",
    "\n",
    "from matplotlib import pyplot as plt\n",
    "\n",
    "from sklearn.utils import resample\n",
    "from sklearn.datasets import load_breast_cancer, load_iris, make_classification\n",
    "from sklearn.model_selection import train_test_split\n",
    "from sklearn.preprocessing import StandardScaler\n",
    "from sklearn.linear_model import LogisticRegression\n",
    "\n",
    "from sklearn.metrics import confusion_matrix, ConfusionMatrixDisplay,\\\n",
    "    precision_score, recall_score, accuracy_score, f1_score, log_loss,\\\n",
    "    roc_curve, roc_auc_score, classification_report, RocCurveDisplay"
   ]
  },
  {
   "cell_type": "markdown",
   "metadata": {
    "heading_collapsed": true
   },
   "source": [
    "# Objectives"
   ]
  },
  {
   "cell_type": "markdown",
   "metadata": {
    "hidden": true
   },
   "source": [
    "- Calculate and interpret probability estimates\n",
    "- Adjust the threshold of a logistic regression model\n",
    "- Visualize, calculate and interpret the AUC-ROC metric"
   ]
  },
  {
   "cell_type": "markdown",
   "metadata": {
    "heading_collapsed": true
   },
   "source": [
    "# Motivation"
   ]
  },
  {
   "cell_type": "markdown",
   "metadata": {
    "hidden": true
   },
   "source": [
    "Now that we've learned how to evaluate a classification model's predictions, let's dig deeper to see how else we might evaluate our models and how we can use that information to improve them."
   ]
  },
  {
   "cell_type": "markdown",
   "metadata": {
    "heading_collapsed": true
   },
   "source": [
    "# Scenario: Identifying Heart Disease"
   ]
  },
  {
   "cell_type": "markdown",
   "metadata": {
    "hidden": true
   },
   "source": [
    "Let's use [this UCI dataset](https://archive.ics.uci.edu/ml/datasets/Heart+Disease) about predicting heart disease."
   ]
  },
  {
   "cell_type": "code",
   "execution_count": 2,
   "metadata": {
    "hidden": true,
    "scrolled": true
   },
   "outputs": [
    {
     "name": "stdout",
     "output_type": "stream",
     "text": [
      "<class 'pandas.core.frame.DataFrame'>\n",
      "RangeIndex: 303 entries, 0 to 302\n",
      "Data columns (total 14 columns):\n",
      " #   Column    Non-Null Count  Dtype  \n",
      "---  ------    --------------  -----  \n",
      " 0   age       303 non-null    int64  \n",
      " 1   sex       303 non-null    int64  \n",
      " 2   cp        303 non-null    int64  \n",
      " 3   trestbps  303 non-null    int64  \n",
      " 4   chol      303 non-null    int64  \n",
      " 5   fbs       303 non-null    int64  \n",
      " 6   restecg   303 non-null    int64  \n",
      " 7   thalach   303 non-null    int64  \n",
      " 8   exang     303 non-null    int64  \n",
      " 9   oldpeak   303 non-null    float64\n",
      " 10  slope     303 non-null    int64  \n",
      " 11  ca        303 non-null    int64  \n",
      " 12  thal      303 non-null    int64  \n",
      " 13  target    303 non-null    int64  \n",
      "dtypes: float64(1), int64(13)\n",
      "memory usage: 33.3 KB\n"
     ]
    }
   ],
   "source": [
    "hd_data = pd.read_csv('data/heart.csv')\n",
    "hd_data.info()"
   ]
  },
  {
   "cell_type": "code",
   "execution_count": 3,
   "metadata": {
    "scrolled": true
   },
   "outputs": [
    {
     "data": {
      "text/plain": [
       "1    165\n",
       "0    138\n",
       "Name: target, dtype: int64"
      ]
     },
     "execution_count": 3,
     "metadata": {},
     "output_type": "execute_result"
    }
   ],
   "source": [
    "hd_data['target'].value_counts()"
   ]
  },
  {
   "cell_type": "code",
   "execution_count": 4,
   "metadata": {},
   "outputs": [
    {
     "data": {
      "text/html": [
       "<div>\n",
       "<style scoped>\n",
       "    .dataframe tbody tr th:only-of-type {\n",
       "        vertical-align: middle;\n",
       "    }\n",
       "\n",
       "    .dataframe tbody tr th {\n",
       "        vertical-align: top;\n",
       "    }\n",
       "\n",
       "    .dataframe thead th {\n",
       "        text-align: right;\n",
       "    }\n",
       "</style>\n",
       "<table border=\"1\" class=\"dataframe\">\n",
       "  <thead>\n",
       "    <tr style=\"text-align: right;\">\n",
       "      <th></th>\n",
       "      <th>age</th>\n",
       "      <th>sex</th>\n",
       "      <th>cp</th>\n",
       "      <th>trestbps</th>\n",
       "      <th>chol</th>\n",
       "      <th>fbs</th>\n",
       "      <th>restecg</th>\n",
       "      <th>thalach</th>\n",
       "      <th>exang</th>\n",
       "      <th>oldpeak</th>\n",
       "      <th>slope</th>\n",
       "      <th>ca</th>\n",
       "      <th>thal</th>\n",
       "      <th>target</th>\n",
       "    </tr>\n",
       "  </thead>\n",
       "  <tbody>\n",
       "    <tr>\n",
       "      <th>0</th>\n",
       "      <td>63</td>\n",
       "      <td>1</td>\n",
       "      <td>3</td>\n",
       "      <td>145</td>\n",
       "      <td>233</td>\n",
       "      <td>1</td>\n",
       "      <td>0</td>\n",
       "      <td>150</td>\n",
       "      <td>0</td>\n",
       "      <td>2.3</td>\n",
       "      <td>0</td>\n",
       "      <td>0</td>\n",
       "      <td>1</td>\n",
       "      <td>1</td>\n",
       "    </tr>\n",
       "    <tr>\n",
       "      <th>1</th>\n",
       "      <td>37</td>\n",
       "      <td>1</td>\n",
       "      <td>2</td>\n",
       "      <td>130</td>\n",
       "      <td>250</td>\n",
       "      <td>0</td>\n",
       "      <td>1</td>\n",
       "      <td>187</td>\n",
       "      <td>0</td>\n",
       "      <td>3.5</td>\n",
       "      <td>0</td>\n",
       "      <td>0</td>\n",
       "      <td>2</td>\n",
       "      <td>1</td>\n",
       "    </tr>\n",
       "    <tr>\n",
       "      <th>2</th>\n",
       "      <td>41</td>\n",
       "      <td>0</td>\n",
       "      <td>1</td>\n",
       "      <td>130</td>\n",
       "      <td>204</td>\n",
       "      <td>0</td>\n",
       "      <td>0</td>\n",
       "      <td>172</td>\n",
       "      <td>0</td>\n",
       "      <td>1.4</td>\n",
       "      <td>2</td>\n",
       "      <td>0</td>\n",
       "      <td>2</td>\n",
       "      <td>1</td>\n",
       "    </tr>\n",
       "    <tr>\n",
       "      <th>3</th>\n",
       "      <td>56</td>\n",
       "      <td>1</td>\n",
       "      <td>1</td>\n",
       "      <td>120</td>\n",
       "      <td>236</td>\n",
       "      <td>0</td>\n",
       "      <td>1</td>\n",
       "      <td>178</td>\n",
       "      <td>0</td>\n",
       "      <td>0.8</td>\n",
       "      <td>2</td>\n",
       "      <td>0</td>\n",
       "      <td>2</td>\n",
       "      <td>1</td>\n",
       "    </tr>\n",
       "    <tr>\n",
       "      <th>4</th>\n",
       "      <td>57</td>\n",
       "      <td>0</td>\n",
       "      <td>0</td>\n",
       "      <td>120</td>\n",
       "      <td>354</td>\n",
       "      <td>0</td>\n",
       "      <td>1</td>\n",
       "      <td>163</td>\n",
       "      <td>1</td>\n",
       "      <td>0.6</td>\n",
       "      <td>2</td>\n",
       "      <td>0</td>\n",
       "      <td>2</td>\n",
       "      <td>1</td>\n",
       "    </tr>\n",
       "  </tbody>\n",
       "</table>\n",
       "</div>"
      ],
      "text/plain": [
       "   age  sex  cp  trestbps  chol  fbs  restecg  thalach  exang  oldpeak  slope  \\\n",
       "0   63    1   3       145   233    1        0      150      0      2.3      0   \n",
       "1   37    1   2       130   250    0        1      187      0      3.5      0   \n",
       "2   41    0   1       130   204    0        0      172      0      1.4      2   \n",
       "3   56    1   1       120   236    0        1      178      0      0.8      2   \n",
       "4   57    0   0       120   354    0        1      163      1      0.6      2   \n",
       "\n",
       "   ca  thal  target  \n",
       "0   0     1       1  \n",
       "1   0     2       1  \n",
       "2   0     2       1  \n",
       "3   0     2       1  \n",
       "4   0     2       1  "
      ]
     },
     "execution_count": 4,
     "metadata": {},
     "output_type": "execute_result"
    }
   ],
   "source": [
    "hd_data.head()"
   ]
  },
  {
   "cell_type": "code",
   "execution_count": 5,
   "metadata": {
    "hidden": true
   },
   "outputs": [
    {
     "data": {
      "text/plain": [
       "LogisticRegression(random_state=42)"
      ]
     },
     "execution_count": 5,
     "metadata": {},
     "output_type": "execute_result"
    }
   ],
   "source": [
    "# Separate data into feature and target DataFrames\n",
    "X = hd_data.drop('target', axis=1)\n",
    "y = hd_data['target']\n",
    "\n",
    "# Split data into train and test sets\n",
    "X_train, X_test, y_train, y_test = train_test_split(X, y, random_state=1)\n",
    "\n",
    "# Scale the data for modeling\n",
    "scaler = StandardScaler()\n",
    "scaler.fit(X_train)\n",
    "X_train_sc = scaler.transform(X_train)\n",
    "X_test_sc = scaler.transform(X_test)\n",
    "\n",
    "# Train a logistic regresssion model with the train data\n",
    "hd_model = LogisticRegression(random_state=42)\n",
    "hd_model.fit(X_train_sc, y_train)"
   ]
  },
  {
   "cell_type": "markdown",
   "metadata": {
    "heading_collapsed": true,
    "hidden": true
   },
   "source": [
    "## Predicting Labels\n",
    "\n",
    "Let's look at some predictions from our example."
   ]
  },
  {
   "cell_type": "code",
   "execution_count": 6,
   "metadata": {
    "hidden": true
   },
   "outputs": [],
   "source": [
    "y_pred = hd_model.predict(X_test_sc)"
   ]
  },
  {
   "cell_type": "code",
   "execution_count": 7,
   "metadata": {
    "scrolled": true
   },
   "outputs": [
    {
     "data": {
      "text/plain": [
       "array([0, 1, 0, 0, 0, 0, 0, 1, 0, 1, 0, 0, 1, 0, 0, 1, 1, 0, 0, 1, 1, 0,\n",
       "       1, 1, 1, 1, 0, 1, 1, 1, 1, 1, 1, 1, 0, 0, 0, 0, 1, 0, 1, 0, 0, 0,\n",
       "       1, 1, 0, 1, 1, 1, 1, 1, 1, 1, 1, 1, 1, 0, 1, 0, 0, 1, 1, 1, 1, 1,\n",
       "       1, 0, 0, 0, 1, 1, 0, 1, 0, 1])"
      ]
     },
     "execution_count": 7,
     "metadata": {},
     "output_type": "execute_result"
    }
   ],
   "source": [
    "y_pred"
   ]
  },
  {
   "cell_type": "code",
   "execution_count": 9,
   "metadata": {},
   "outputs": [
    {
     "data": {
      "text/plain": [
       "array([0, 1, 0, 0, 0, 0, 0, 1, 0, 1, 1, 0, 0, 0, 0, 0, 1, 0, 1, 0, 1, 0,\n",
       "       1, 1, 1, 1, 0, 1, 1, 1, 1, 1, 1, 1, 0, 1, 1, 0, 0, 1, 1, 0, 1, 0,\n",
       "       0, 0, 0, 1, 0, 1, 1, 0, 0, 1, 1, 1, 1, 0, 0, 0, 1, 1, 1, 1, 0, 1,\n",
       "       1, 0, 1, 0, 1, 1, 0, 1, 0, 1])"
      ]
     },
     "execution_count": 9,
     "metadata": {},
     "output_type": "execute_result"
    }
   ],
   "source": [
    "y_test.values"
   ]
  },
  {
   "cell_type": "markdown",
   "metadata": {
    "hidden": true
   },
   "source": [
    "When we run the `.predict()` method, `sklearn` gives us the predicted values for each transaction in our test set: 0 if predicting \"no heart disease\", 1 if predicting \"heart disease\""
   ]
  },
  {
   "cell_type": "markdown",
   "metadata": {
    "heading_collapsed": true,
    "hidden": true,
    "scrolled": true
   },
   "source": [
    "## Probability Estimates"
   ]
  },
  {
   "cell_type": "markdown",
   "metadata": {
    "hidden": true,
    "scrolled": true
   },
   "source": [
    "If you remember how the logistic regression model works, though, it doesn't actually generate predicted values of 0 or 1. It creates an S-shaped curve to approximate the data, estimating the _probability_ that they belong to the target class. This probability takes a value _between_ 0 and 1."
   ]
  },
  {
   "cell_type": "markdown",
   "metadata": {
    "hidden": true,
    "scrolled": true
   },
   "source": [
    "![](https://www.graphpad.com/guides/prism/latest/curve-fitting/images/hmfile_hash_38a8acae.png)\n",
    "\n",
    "Source: [GraphPad](https://www.graphpad.com/guides/prism/latest/curve-fitting/reg_simple_logistic_and_linear_difference.htm)"
   ]
  },
  {
   "cell_type": "markdown",
   "metadata": {
    "hidden": true
   },
   "source": [
    "We can get these estimated probabilities using the `.predict_proba()` method. Each element gives two probabilities: the estimate probability of being in the 0 class (not heart disease) and the 1 class (heart disease)"
   ]
  },
  {
   "cell_type": "code",
   "execution_count": 10,
   "metadata": {
    "hidden": true,
    "scrolled": true
   },
   "outputs": [
    {
     "data": {
      "text/plain": [
       "array([[0.99583439, 0.00416561],\n",
       "       [0.2234686 , 0.7765314 ],\n",
       "       [0.91939062, 0.08060938],\n",
       "       [0.99402865, 0.00597135],\n",
       "       [0.97047813, 0.02952187]])"
      ]
     },
     "execution_count": 10,
     "metadata": {},
     "output_type": "execute_result"
    }
   ],
   "source": [
    "y_prob = hd_model.predict_proba(X_test_sc)\n",
    "y_prob[:5]"
   ]
  },
  {
   "cell_type": "code",
   "execution_count": 11,
   "metadata": {},
   "outputs": [
    {
     "data": {
      "text/plain": [
       "array([0, 1, 0, 0, 0])"
      ]
     },
     "execution_count": 11,
     "metadata": {},
     "output_type": "execute_result"
    }
   ],
   "source": [
    "y_pred[:5]"
   ]
  },
  {
   "cell_type": "markdown",
   "metadata": {
    "heading_collapsed": true,
    "hidden": true
   },
   "source": [
    "## Thresholds"
   ]
  },
  {
   "cell_type": "markdown",
   "metadata": {
    "hidden": true
   },
   "source": [
    "How did we get those 0 and 1 label predictions, when the model only calculates probabilities between 0 and 1? "
   ]
  },
  {
   "cell_type": "markdown",
   "metadata": {
    "hidden": true
   },
   "source": [
    "The default behavior is simply to take the larger of these values as the \"real\" prediction. Since $0.996 > 0.004$, we'd understand the model to be predicting this point to belong to class \"0\" (or the negative class). An equivalent way of understanding the default behavior is that we either:\n",
    "\n",
    "- Round the predicted numbers up to 1 if they are at least as large as 0.5\n",
    "- Round them down to 0 if they are less than 0.5"
   ]
  },
  {
   "cell_type": "markdown",
   "metadata": {
    "hidden": true
   },
   "source": [
    "Since the probabilities must sum to 1, there will never be any problem with this algorithm. We refer to this value of 0.5 as the **threshold**."
   ]
  },
  {
   "cell_type": "markdown",
   "metadata": {
    "heading_collapsed": true,
    "hidden": true
   },
   "source": [
    "### But Are We Stuck w/0.5 Threshold?"
   ]
  },
  {
   "cell_type": "markdown",
   "metadata": {
    "hidden": true
   },
   "source": [
    "But we don't have to do things this way. Suppose we're building a model that predicts the presence of cancer from X-ray scans. And suppose we get a pair of probabilities for some particular scan that look like this:\n",
    "\n",
    "- pred_neg: 0.52, pred_pos: 0.48\n",
    "\n",
    "Because false negatives (cancers not flagged) are *much* more costly than false positives (non-cancers flagged as cancers), we may well want to **adjust our threshold**. We might want to have our model predict \"positive\" if the corresponding probability is, say, as low as 0.4, or maybe even as low as 0.1. (Speaking for myself, if there was even a 10% chance that I had cancer, I think I'd probably want to know about it.) "
   ]
  },
  {
   "cell_type": "markdown",
   "metadata": {
    "heading_collapsed": true,
    "hidden": true
   },
   "source": [
    "## True & False Positive Rates"
   ]
  },
  {
   "cell_type": "markdown",
   "metadata": {
    "hidden": true
   },
   "source": [
    "Adjusting the threshold can increase or decrease performance on different evaluation metrics. When doing this, data scientist often look at changes in two metrics: **True Positive Rate (TPR)** and **False Positive Rate (FPR)**. Let's define and calculate these. \n",
    "\n",
    "To do this, we'll first need to get the values from the confusion matrix."
   ]
  },
  {
   "cell_type": "code",
   "execution_count": 12,
   "metadata": {
    "scrolled": true
   },
   "outputs": [
    {
     "data": {
      "text/plain": [
       "0.8810572687224669"
      ]
     },
     "execution_count": 12,
     "metadata": {},
     "output_type": "execute_result"
    }
   ],
   "source": [
    "hd_model.score(X_train_sc, y_train)"
   ]
  },
  {
   "cell_type": "code",
   "execution_count": 13,
   "metadata": {},
   "outputs": [
    {
     "data": {
      "text/plain": [
       "0.75"
      ]
     },
     "execution_count": 13,
     "metadata": {},
     "output_type": "execute_result"
    }
   ],
   "source": [
    "hd_model.score(X_test_sc, y_test)"
   ]
  },
  {
   "cell_type": "code",
   "execution_count": 14,
   "metadata": {
    "hidden": true
   },
   "outputs": [],
   "source": [
    "cm = confusion_matrix(y_test, hd_model.predict(X_test_sc))"
   ]
  },
  {
   "cell_type": "code",
   "execution_count": 15,
   "metadata": {
    "hidden": true
   },
   "outputs": [
    {
     "data": {
      "text/plain": [
       "array([[24, 11],\n",
       "       [ 8, 33]])"
      ]
     },
     "execution_count": 15,
     "metadata": {},
     "output_type": "execute_result"
    }
   ],
   "source": [
    "cm"
   ]
  },
  {
   "cell_type": "code",
   "execution_count": 16,
   "metadata": {
    "hidden": true
   },
   "outputs": [],
   "source": [
    "tp, tn, fp, fn = cm[1][1], cm[0][0], cm[0][1], cm[1][0]"
   ]
  },
  {
   "cell_type": "markdown",
   "metadata": {
    "heading_collapsed": true,
    "hidden": true
   },
   "source": [
    "### True Positive Rate"
   ]
  },
  {
   "cell_type": "markdown",
   "metadata": {
    "hidden": true
   },
   "source": [
    "True Positive Rate (TPR) is the same as recall, measuring how many of the positive cases we correctly classified as positive.\n",
    "\n",
    "**True Positive Rate (TPR)** = **Recall** = $\\frac{TP}{TP + FN}$"
   ]
  },
  {
   "cell_type": "markdown",
   "metadata": {
    "hidden": true
   },
   "source": [
    "How many of the patients with heart disease did my model identify?"
   ]
  },
  {
   "cell_type": "code",
   "execution_count": 17,
   "metadata": {
    "hidden": true
   },
   "outputs": [
    {
     "name": "stdout",
     "output_type": "stream",
     "text": [
      "0.8048780487804879\n"
     ]
    }
   ],
   "source": [
    "tpr = tp / (tp + fn)\n",
    "print(tpr)"
   ]
  },
  {
   "cell_type": "markdown",
   "metadata": {
    "heading_collapsed": true,
    "hidden": true
   },
   "source": [
    "### False Positive Rate"
   ]
  },
  {
   "cell_type": "markdown",
   "metadata": {
    "hidden": true
   },
   "source": [
    "False Positive Rate (FPR) measures how many of the negative casses we incorrectly classified as positive.\n",
    "\n",
    "**False Positive Rate (TPR)** = $\\frac{FP}{FP + TN}$"
   ]
  },
  {
   "cell_type": "markdown",
   "metadata": {
    "hidden": true
   },
   "source": [
    "How many of the patients without heart disease did my model flag as having heart disease?"
   ]
  },
  {
   "cell_type": "code",
   "execution_count": 18,
   "metadata": {
    "hidden": true
   },
   "outputs": [
    {
     "name": "stdout",
     "output_type": "stream",
     "text": [
      "0.3142857142857143\n"
     ]
    }
   ],
   "source": [
    "fpr = fp / (fp + tn)\n",
    "print(fpr)"
   ]
  },
  {
   "cell_type": "markdown",
   "metadata": {
    "heading_collapsed": true,
    "hidden": true
   },
   "source": [
    "## Adjusting the threshold"
   ]
  },
  {
   "cell_type": "markdown",
   "metadata": {
    "hidden": true
   },
   "source": [
    "The true- and false-positive rates will change if we make adjustments to the threshold. In fact, in the present case that was the whole point of making the adjustment: We want to minimize our false negatives."
   ]
  },
  {
   "cell_type": "markdown",
   "metadata": {
    "hidden": true
   },
   "source": [
    "This is how the plot of these rates takes shape."
   ]
  },
  {
   "cell_type": "markdown",
   "metadata": {
    "hidden": true
   },
   "source": [
    "Let's build a function that will take in our data, together with a threshold setting, and return the corresponding true- and false-positive rates."
   ]
  },
  {
   "cell_type": "markdown",
   "metadata": {
    "heading_collapsed": true
   },
   "source": [
    "# The Receiver Operating Characteristic (ROC) Curve"
   ]
  },
  {
   "cell_type": "markdown",
   "metadata": {
    "hidden": true
   },
   "source": [
    "The Receiver Operating Characteristic (ROC) curve plots the true-positive rate vs. the false-positive rate. Let's define these now:"
   ]
  },
  {
   "cell_type": "code",
   "execution_count": 19,
   "metadata": {
    "hidden": true
   },
   "outputs": [],
   "source": [
    "def classify_rates(y_test, y_probs, model, thresh):\n",
    "    y_hat = []\n",
    "    for val in y_probs:                 # Each element in y_hat_probs is an array.\n",
    "        if val[1] < thresh:             # We'll set our own threshold for classifying\n",
    "            y_hat.append(0)             # a test point as positive! The lower my threshold,\n",
    "        else:                           # the fewer predicted positives I'll have. For the\n",
    "            y_hat.append(1)             # cancer example, I'd want to set a *high* threshold.\n",
    "    cm = confusion_matrix(y_test, y_hat)\n",
    "    tp, tn, fp, fn = cm[1][1], cm[0][0], cm[0][1], cm[1][0]\n",
    "    tpr = tp / (tp + fn)\n",
    "    fpr = fp / (fp + tn)\n",
    "    return tpr, fpr, f'tpr:{round(tpr, 3)}, fpr:{round(fpr, 3)}'"
   ]
  },
  {
   "cell_type": "markdown",
   "metadata": {
    "hidden": true
   },
   "source": [
    "True- and false-positive rates for various thresholds:"
   ]
  },
  {
   "cell_type": "code",
   "execution_count": 21,
   "metadata": {
    "code_folding": [],
    "hidden": true
   },
   "outputs": [
    {
     "name": "stdout",
     "output_type": "stream",
     "text": [
      "Rates at threshold = 0.0: tpr:1.0, fpr:1.0\n",
      "Rates at threshold = 0.1: tpr:0.951, fpr:0.429\n",
      "Rates at threshold = 0.2: tpr:0.902, fpr:0.4\n",
      "Rates at threshold = 0.3: tpr:0.878, fpr:0.314\n",
      "Rates at threshold = 0.4: tpr:0.878, fpr:0.314\n",
      "Rates at threshold = 0.5: tpr:0.805, fpr:0.314\n",
      "Rates at threshold = 0.6: tpr:0.805, fpr:0.286\n",
      "Rates at threshold = 0.7: tpr:0.732, fpr:0.286\n",
      "Rates at threshold = 0.8: tpr:0.537, fpr:0.114\n",
      "Rates at threshold = 0.9: tpr:0.463, fpr:0.029\n",
      "Rates at threshold = 1.0: tpr:0.0, fpr:0.0\n"
     ]
    }
   ],
   "source": [
    "for x in np.linspace(0, 1, 11):\n",
    "    print(f'Rates at threshold = {round(x, 2)}: '\\\n",
    "          + classify_rates(y_test, y_prob, hd_model, x)[2])"
   ]
  },
  {
   "cell_type": "code",
   "execution_count": 20,
   "metadata": {},
   "outputs": [
    {
     "data": {
      "text/plain": [
       "array([0. , 0.1, 0.2, 0.3, 0.4, 0.5, 0.6, 0.7, 0.8, 0.9, 1. ])"
      ]
     },
     "execution_count": 20,
     "metadata": {},
     "output_type": "execute_result"
    }
   ],
   "source": [
    "np.linspace(0, 1, 11)"
   ]
  },
  {
   "cell_type": "markdown",
   "metadata": {
    "hidden": true
   },
   "source": [
    "As my threshold goes up, I'll have fewer positive predictions, which means I'll have both fewer true positives and fewer false positives."
   ]
  },
  {
   "cell_type": "markdown",
   "metadata": {
    "hidden": true
   },
   "source": [
    "> **NOTE**\n",
    ">\n",
    "> - I can artificially increase my true-positive rate to 1 by setting my threshold to 0, but at that point my false-positive rate is also 1! I'll have no true negatives and no false negatives. This will arise naturally if my training data has **very few (actual) negatives**. \n",
    "> - I can artificially reduce my false-positive rate to 0 by setting my threshold to 1, but at  that point my true-positive rate is also 0! I'll have no true positives and no false positives. This will arise naturally if my training data has **very few (actual) positives**. "
   ]
  },
  {
   "cell_type": "markdown",
   "metadata": {
    "heading_collapsed": true,
    "hidden": true
   },
   "source": [
    "## Plotting the Curve"
   ]
  },
  {
   "cell_type": "markdown",
   "metadata": {
    "hidden": true
   },
   "source": [
    "Let's plot our own ROC curve. We'll create an array of different thresholds and use our `classify_rates()` function to get the true- and false-positive rates for each threshold.\n",
    "\n",
    "One way of choosing a threshold **independently of business concerns** is to select the point on the curve that is furthest from (1, 0), the \"worse-case\" point where our true-positive rate is 0 and our false-positive rate is 1. So let's find that point as well:"
   ]
  },
  {
   "cell_type": "code",
   "execution_count": 22,
   "metadata": {
    "hidden": true,
    "scrolled": false
   },
   "outputs": [
    {
     "name": "stdout",
     "output_type": "stream",
     "text": [
      "With a threshold of 0.07: \n",
      "\tYou'll have a True Positive Rate of 0.976 \n",
      "\tand a False Positive Rate of 0.457\n"
     ]
    },
    {
     "data": {
      "image/png": "[encoded data removed]",
      "text/plain": [
       "<Figure size 576x432 with 1 Axes>"
      ]
     },
     "metadata": {
      "needs_background": "light"
     },
     "output_type": "display_data"
    }
   ],
   "source": [
    "tprs = []\n",
    "fprs = []\n",
    "diffs = []\n",
    "for x in np.linspace(0, 1, 101):\n",
    "    fprs.append(classify_rates(y_test, y_prob, hd_model, x)[1])\n",
    "    tprs.append(classify_rates(y_test, y_prob, hd_model, x)[0])\n",
    "    diffs.append(np.sqrt(tprs[-1]**2 + (1-fprs[-1])**2))\n",
    "    \n",
    "max_dist = diffs.index(np.max(diffs))\n",
    "print(f\"\"\"With a threshold of {(max_dist - 1) / 100}: \\n\"\"\"\n",
    "      f\"\"\"\\tYou\\'ll have a True Positive Rate of {round(tprs[max_dist], 3)} \\n\"\"\"\n",
    "      f\"\"\"\\tand a False Positive Rate of {round(fprs[max_dist], 3)}\"\"\")\n",
    "\n",
    "fig, ax = plt.subplots(figsize=(8, 6))\n",
    "ax.plot(fprs[:max_dist], tprs[:max_dist], 'r.')\n",
    "ax.plot(fprs[max_dist], tprs[max_dist], 'ko', ms=10)\n",
    "ax.plot(fprs[max_dist + 1:], tprs[max_dist + 1:], 'r.')\n",
    "ax.plot(fprs, fprs, '.');"
   ]
  },
  {
   "cell_type": "markdown",
   "metadata": {
    "hidden": true
   },
   "source": [
    "Let's compare our curve with scikit-learn's:"
   ]
  },
  {
   "cell_type": "code",
   "execution_count": 25,
   "metadata": {
    "scrolled": true
   },
   "outputs": [
    {
     "data": {
      "text/plain": [
       "array([[0.99583439, 0.00416561],\n",
       "       [0.2234686 , 0.7765314 ],\n",
       "       [0.91939062, 0.08060938],\n",
       "       [0.99402865, 0.00597135],\n",
       "       [0.97047813, 0.02952187],\n",
       "       [0.99658357, 0.00341643],\n",
       "       [0.99074693, 0.00925307],\n",
       "       [0.30275283, 0.69724717],\n",
       "       [0.99739018, 0.00260982],\n",
       "       [0.00792471, 0.99207529],\n",
       "       [0.71409486, 0.28590514],\n",
       "       [0.93292466, 0.06707534],\n",
       "       [0.18390061, 0.81609939],\n",
       "       [0.81713066, 0.18286934],\n",
       "       [0.7337857 , 0.2662143 ],\n",
       "       [0.04665008, 0.95334992],\n",
       "       [0.00661731, 0.99338269],\n",
       "       [0.99248657, 0.00751343],\n",
       "       [0.50742352, 0.49257648],\n",
       "       [0.21194814, 0.78805186],\n",
       "       [0.01477391, 0.98522609],\n",
       "       [0.98185534, 0.01814466],\n",
       "       [0.23346936, 0.76653064],\n",
       "       [0.01687133, 0.98312867],\n",
       "       [0.01274579, 0.98725421],\n",
       "       [0.20218495, 0.79781505],\n",
       "       [0.99651613, 0.00348387],\n",
       "       [0.0148034 , 0.9851966 ],\n",
       "       [0.08467156, 0.91532844],\n",
       "       [0.00590972, 0.99409028],\n",
       "       [0.03539371, 0.96460629],\n",
       "       [0.13895144, 0.86104856],\n",
       "       [0.20295315, 0.79704685],\n",
       "       [0.20100813, 0.79899187],\n",
       "       [0.95408539, 0.04591461],\n",
       "       [0.54371372, 0.45628628],\n",
       "       [0.9112901 , 0.0887099 ],\n",
       "       [0.74467015, 0.25532985],\n",
       "       [0.24319844, 0.75680156],\n",
       "       [0.94181838, 0.05818162],\n",
       "       [0.0350341 , 0.9649659 ],\n",
       "       [0.95437901, 0.04562099],\n",
       "       [0.82144422, 0.17855578],\n",
       "       [0.99789726, 0.00210274],\n",
       "       [0.23514887, 0.76485113],\n",
       "       [0.11443887, 0.88556113],\n",
       "       [0.7065428 , 0.2934572 ],\n",
       "       [0.26362924, 0.73637076],\n",
       "       [0.24471153, 0.75528847],\n",
       "       [0.05574854, 0.94425146],\n",
       "       [0.03413282, 0.96586718],\n",
       "       [0.22282581, 0.77717419],\n",
       "       [0.11007783, 0.88992217],\n",
       "       [0.29679312, 0.70320688],\n",
       "       [0.00693568, 0.99306432],\n",
       "       [0.01335072, 0.98664928],\n",
       "       [0.23583415, 0.76416585],\n",
       "       [0.9876509 , 0.0123491 ],\n",
       "       [0.27859131, 0.72140869],\n",
       "       [0.98173306, 0.01826694],\n",
       "       [0.53070554, 0.46929446],\n",
       "       [0.00536893, 0.99463107],\n",
       "       [0.02064407, 0.97935593],\n",
       "       [0.05627934, 0.94372066],\n",
       "       [0.4108642 , 0.5891358 ],\n",
       "       [0.02446213, 0.97553787],\n",
       "       [0.35289961, 0.64710039],\n",
       "       [0.9209992 , 0.0790008 ],\n",
       "       [0.85585626, 0.14414374],\n",
       "       [0.98331075, 0.01668925],\n",
       "       [0.11647108, 0.88352892],\n",
       "       [0.02528955, 0.97471045],\n",
       "       [0.99766161, 0.00233839],\n",
       "       [0.31751881, 0.68248119],\n",
       "       [0.99473777, 0.00526223],\n",
       "       [0.15130036, 0.84869964]])"
      ]
     },
     "execution_count": 25,
     "metadata": {},
     "output_type": "execute_result"
    }
   ],
   "source": [
    "y_hat_hd = y_prob\n",
    "y_hat_hd"
   ]
  },
  {
   "cell_type": "code",
   "execution_count": 27,
   "metadata": {},
   "outputs": [
    {
     "data": {
      "text/plain": [
       "array([0.00416561, 0.7765314 , 0.08060938, 0.00597135, 0.02952187,\n",
       "       0.00341643, 0.00925307, 0.69724717, 0.00260982, 0.99207529,\n",
       "       0.28590514, 0.06707534, 0.81609939, 0.18286934, 0.2662143 ,\n",
       "       0.95334992, 0.99338269, 0.00751343, 0.49257648, 0.78805186,\n",
       "       0.98522609, 0.01814466, 0.76653064, 0.98312867, 0.98725421,\n",
       "       0.79781505, 0.00348387, 0.9851966 , 0.91532844, 0.99409028,\n",
       "       0.96460629, 0.86104856, 0.79704685, 0.79899187, 0.04591461,\n",
       "       0.45628628, 0.0887099 , 0.25532985, 0.75680156, 0.05818162,\n",
       "       0.9649659 , 0.04562099, 0.17855578, 0.00210274, 0.76485113,\n",
       "       0.88556113, 0.2934572 , 0.73637076, 0.75528847, 0.94425146,\n",
       "       0.96586718, 0.77717419, 0.88992217, 0.70320688, 0.99306432,\n",
       "       0.98664928, 0.76416585, 0.0123491 , 0.72140869, 0.01826694,\n",
       "       0.46929446, 0.99463107, 0.97935593, 0.94372066, 0.5891358 ,\n",
       "       0.97553787, 0.64710039, 0.0790008 , 0.14414374, 0.01668925,\n",
       "       0.88352892, 0.97471045, 0.00233839, 0.68248119, 0.00526223,\n",
       "       0.84869964])"
      ]
     },
     "execution_count": 27,
     "metadata": {},
     "output_type": "execute_result"
    }
   ],
   "source": [
    "y_hat_hd = y_prob[:, 1]\n",
    "y_hat_hd"
   ]
  },
  {
   "cell_type": "code",
   "execution_count": 28,
   "metadata": {},
   "outputs": [
    {
     "data": {
      "text/plain": [
       "(array([0.        , 0.        , 0.        , 0.02857143, 0.02857143,\n",
       "        0.08571429, 0.08571429, 0.11428571, 0.11428571, 0.17142857,\n",
       "        0.17142857, 0.2       , 0.2       , 0.25714286, 0.25714286,\n",
       "        0.28571429, 0.28571429, 0.31428571, 0.31428571, 0.34285714,\n",
       "        0.34285714, 0.42857143, 0.42857143, 0.51428571, 0.51428571,\n",
       "        1.        ]),\n",
       " array([0.        , 0.02439024, 0.3902439 , 0.3902439 , 0.46341463,\n",
       "        0.46341463, 0.53658537, 0.53658537, 0.6097561 , 0.6097561 ,\n",
       "        0.65853659, 0.65853659, 0.68292683, 0.68292683, 0.70731707,\n",
       "        0.70731707, 0.80487805, 0.80487805, 0.87804878, 0.87804878,\n",
       "        0.90243902, 0.90243902, 0.97560976, 0.97560976, 1.        ,\n",
       "        1.        ]),\n",
       " array([1.99463107, 0.99463107, 0.96460629, 0.95334992, 0.91532844,\n",
       "        0.88556113, 0.84869964, 0.81609939, 0.79704685, 0.77717419,\n",
       "        0.76653064, 0.76485113, 0.76416585, 0.75528847, 0.73637076,\n",
       "        0.72140869, 0.64710039, 0.5891358 , 0.45628628, 0.2934572 ,\n",
       "        0.28590514, 0.18286934, 0.0887099 , 0.06707534, 0.05818162,\n",
       "        0.00210274]))"
      ]
     },
     "execution_count": 28,
     "metadata": {},
     "output_type": "execute_result"
    }
   ],
   "source": [
    "roc_curve(y_test, y_hat_hd)"
   ]
  },
  {
   "cell_type": "code",
   "execution_count": 29,
   "metadata": {
    "hidden": true,
    "scrolled": true
   },
   "outputs": [
    {
     "data": {
      "image/png": "[encoded data removed]",
      "text/plain": [
       "<Figure size 432x288 with 1 Axes>"
      ]
     },
     "metadata": {
      "needs_background": "light"
     },
     "output_type": "display_data"
    }
   ],
   "source": [
    "# Extract the probability predictions for the \"1\" class (heart disease)\n",
    "y_hat_hd = y_prob[:, 1]\n",
    "\n",
    "# Get the FPR and TPR data\n",
    "fpr, tpr, thresholds = roc_curve(y_test, y_hat_hd)\n",
    "\n",
    "# Plot the FPR and TPR data\n",
    "fig, ax = plt.subplots()\n",
    "ax.plot(fpr, tpr)\n",
    "ax.plot((0,1), (0,1), 'k--');"
   ]
  },
  {
   "cell_type": "markdown",
   "metadata": {
    "heading_collapsed": true,
    "hidden": true
   },
   "source": [
    "### `RocCurveDisplay()`"
   ]
  },
  {
   "cell_type": "markdown",
   "metadata": {
    "hidden": true
   },
   "source": [
    "You can also use the `RocCurveDislay` with just your fitted model and test data."
   ]
  },
  {
   "cell_type": "code",
   "execution_count": 32,
   "metadata": {
    "hidden": true
   },
   "outputs": [
    {
     "data": {
      "image/png": "[encoded data removed]",
      "text/plain": [
       "<Figure size 432x288 with 1 Axes>"
      ]
     },
     "metadata": {
      "needs_background": "light"
     },
     "output_type": "display_data"
    }
   ],
   "source": [
    "roc_disp = RocCurveDisplay(fpr=fpr, tpr=tpr, estimator_name='Heart Disease Model')\n",
    "roc_disp.plot();"
   ]
  },
  {
   "cell_type": "markdown",
   "metadata": {
    "heading_collapsed": true,
    "hidden": true
   },
   "source": [
    "## Area Under the Curve (AUC)"
   ]
  },
  {
   "cell_type": "markdown",
   "metadata": {
    "hidden": true
   },
   "source": [
    "The ROC curve will be a plot of tpr (on the y-axis) vs. fpr (on the x-axis). There will always be a point at (0, 0) and another at (1, 1). The question is what happens in the middle. Since we want our y-values to be as high as possible for any particular x-value, a natural metric is to calculate the **area under the curve**. The larger the area, the better the classifier. The maximum possible area is the area of the whole box between 0 and 1 on both axes, so that's a **maximum area of 1**."
   ]
  },
  {
   "cell_type": "markdown",
   "metadata": {
    "hidden": true
   },
   "source": [
    "What's the minimum? Well that depends on the ratios of (actual) positive and negatives in my data, in much the way that a baseline accuracy score does."
   ]
  },
  {
   "cell_type": "markdown",
   "metadata": {
    "hidden": true
   },
   "source": [
    "> Remember: If my test data comprises 90% positives and only 10% negatives, then a simple classifier that always predicts \"positive\" will be 90% accurate! And so that would be the baseline level for a classifier on that data."
   ]
  },
  {
   "cell_type": "markdown",
   "metadata": {
    "hidden": true
   },
   "source": [
    "If we have equal numbers of positives and negatives, then we can set an **absolute minimum area of 0.5**. That's the \"curve\" we'd get by plotting a straight diagonal line from (0, 0) to (1, 1).\n",
    "\n",
    "Why? The area under the curve really represents the test's ability to **discriminate** positives from negatives. Suppose I randomly took several pairs of points, one positive and one negative, and checked my test's predictions. The area under the curve represents a threshold-independent measure of how often my test would get the two predictions correct."
   ]
  },
  {
   "cell_type": "markdown",
   "metadata": {
    "heading_collapsed": true,
    "hidden": true
   },
   "source": [
    "### AUC Calculation with `sklearn`"
   ]
  },
  {
   "cell_type": "markdown",
   "metadata": {
    "hidden": true
   },
   "source": [
    "Scikit-Learn's `roc_auc_score()` function will compute the area under the curve for us:"
   ]
  },
  {
   "cell_type": "code",
   "execution_count": 33,
   "metadata": {
    "scrolled": true
   },
   "outputs": [
    {
     "data": {
      "text/plain": [
       "array([[0.99583439, 0.00416561],\n",
       "       [0.2234686 , 0.7765314 ],\n",
       "       [0.91939062, 0.08060938],\n",
       "       [0.99402865, 0.00597135],\n",
       "       [0.97047813, 0.02952187],\n",
       "       [0.99658357, 0.00341643],\n",
       "       [0.99074693, 0.00925307],\n",
       "       [0.30275283, 0.69724717],\n",
       "       [0.99739018, 0.00260982],\n",
       "       [0.00792471, 0.99207529],\n",
       "       [0.71409486, 0.28590514],\n",
       "       [0.93292466, 0.06707534],\n",
       "       [0.18390061, 0.81609939],\n",
       "       [0.81713066, 0.18286934],\n",
       "       [0.7337857 , 0.2662143 ],\n",
       "       [0.04665008, 0.95334992],\n",
       "       [0.00661731, 0.99338269],\n",
       "       [0.99248657, 0.00751343],\n",
       "       [0.50742352, 0.49257648],\n",
       "       [0.21194814, 0.78805186],\n",
       "       [0.01477391, 0.98522609],\n",
       "       [0.98185534, 0.01814466],\n",
       "       [0.23346936, 0.76653064],\n",
       "       [0.01687133, 0.98312867],\n",
       "       [0.01274579, 0.98725421],\n",
       "       [0.20218495, 0.79781505],\n",
       "       [0.99651613, 0.00348387],\n",
       "       [0.0148034 , 0.9851966 ],\n",
       "       [0.08467156, 0.91532844],\n",
       "       [0.00590972, 0.99409028],\n",
       "       [0.03539371, 0.96460629],\n",
       "       [0.13895144, 0.86104856],\n",
       "       [0.20295315, 0.79704685],\n",
       "       [0.20100813, 0.79899187],\n",
       "       [0.95408539, 0.04591461],\n",
       "       [0.54371372, 0.45628628],\n",
       "       [0.9112901 , 0.0887099 ],\n",
       "       [0.74467015, 0.25532985],\n",
       "       [0.24319844, 0.75680156],\n",
       "       [0.94181838, 0.05818162],\n",
       "       [0.0350341 , 0.9649659 ],\n",
       "       [0.95437901, 0.04562099],\n",
       "       [0.82144422, 0.17855578],\n",
       "       [0.99789726, 0.00210274],\n",
       "       [0.23514887, 0.76485113],\n",
       "       [0.11443887, 0.88556113],\n",
       "       [0.7065428 , 0.2934572 ],\n",
       "       [0.26362924, 0.73637076],\n",
       "       [0.24471153, 0.75528847],\n",
       "       [0.05574854, 0.94425146],\n",
       "       [0.03413282, 0.96586718],\n",
       "       [0.22282581, 0.77717419],\n",
       "       [0.11007783, 0.88992217],\n",
       "       [0.29679312, 0.70320688],\n",
       "       [0.00693568, 0.99306432],\n",
       "       [0.01335072, 0.98664928],\n",
       "       [0.23583415, 0.76416585],\n",
       "       [0.9876509 , 0.0123491 ],\n",
       "       [0.27859131, 0.72140869],\n",
       "       [0.98173306, 0.01826694],\n",
       "       [0.53070554, 0.46929446],\n",
       "       [0.00536893, 0.99463107],\n",
       "       [0.02064407, 0.97935593],\n",
       "       [0.05627934, 0.94372066],\n",
       "       [0.4108642 , 0.5891358 ],\n",
       "       [0.02446213, 0.97553787],\n",
       "       [0.35289961, 0.64710039],\n",
       "       [0.9209992 , 0.0790008 ],\n",
       "       [0.85585626, 0.14414374],\n",
       "       [0.98331075, 0.01668925],\n",
       "       [0.11647108, 0.88352892],\n",
       "       [0.02528955, 0.97471045],\n",
       "       [0.99766161, 0.00233839],\n",
       "       [0.31751881, 0.68248119],\n",
       "       [0.99473777, 0.00526223],\n",
       "       [0.15130036, 0.84869964]])"
      ]
     },
     "execution_count": 33,
     "metadata": {},
     "output_type": "execute_result"
    }
   ],
   "source": [
    "y_prob"
   ]
  },
  {
   "cell_type": "code",
   "execution_count": 34,
   "metadata": {
    "hidden": true,
    "scrolled": true
   },
   "outputs": [
    {
     "data": {
      "text/plain": [
       "0.8606271777003485"
      ]
     },
     "execution_count": 34,
     "metadata": {},
     "output_type": "execute_result"
    }
   ],
   "source": [
    "# Extract the probabilitiy predictions for the \"1\" class (heart disease)\n",
    "y_hat_hd = y_prob[:, 1]\n",
    "\n",
    "roc_auc_score(y_test, y_hat_hd)"
   ]
  },
  {
   "cell_type": "code",
   "execution_count": 36,
   "metadata": {},
   "outputs": [
    {
     "data": {
      "text/plain": [
       "0.75"
      ]
     },
     "execution_count": 36,
     "metadata": {},
     "output_type": "execute_result"
    }
   ],
   "source": [
    "accuracy_score(y_test, y_pred)"
   ]
  },
  {
   "cell_type": "code",
   "execution_count": 35,
   "metadata": {},
   "outputs": [
    {
     "data": {
      "image/png": "[encoded data removed]",
      "text/plain": [
       "<Figure size 432x288 with 1 Axes>"
      ]
     },
     "metadata": {
      "needs_background": "light"
     },
     "output_type": "display_data"
    }
   ],
   "source": [
    "roc_disp = RocCurveDisplay(fpr=fpr, tpr=tpr, estimator_name='Heart Disease Model', roc_auc=roc_auc_score(y_test, y_hat_hd))\n",
    "roc_disp.plot();"
   ]
  },
  {
   "cell_type": "markdown",
   "metadata": {
    "heading_collapsed": true,
    "hidden": true
   },
   "source": [
    "## Sidebar: Visualizing Threshold Changes"
   ]
  },
  {
   "cell_type": "markdown",
   "metadata": {
    "hidden": true
   },
   "source": [
    "This [ROC Applet](https://web.archive.org/web/20210210014824/http://www.navan.name/roc/) helps  visualize how a change in the threshold corresponds to moving along the ROC curve"
   ]
  },
  {
   "cell_type": "markdown",
   "metadata": {
    "heading_collapsed": true
   },
   "source": [
    "# Scenario: Breast Cancer Prediction"
   ]
  },
  {
   "cell_type": "markdown",
   "metadata": {
    "hidden": true
   },
   "source": [
    "Let's evaluate a model using Scikit-Learn's breast cancer dataset:"
   ]
  },
  {
   "cell_type": "code",
   "execution_count": 37,
   "metadata": {
    "hidden": true
   },
   "outputs": [
    {
     "data": {
      "text/plain": [
       "LogisticRegression(random_state=42)"
      ]
     },
     "execution_count": 37,
     "metadata": {},
     "output_type": "execute_result"
    }
   ],
   "source": [
    "# Load the data\n",
    "preds, target = load_breast_cancer(return_X_y=True)\n",
    "\n",
    "# Split into train and test\n",
    "X_train, X_test, y_train, y_test = train_test_split(preds, target,\n",
    "                                                   random_state=42)\n",
    "\n",
    "# Scale the data\n",
    "bc_scaler = StandardScaler()\n",
    "bc_scaler.fit(X_train)\n",
    "X_train_sc = bc_scaler.transform(X_train)\n",
    "X_test_sc = bc_scaler.transform(X_test)\n",
    "\n",
    "# Run the model\n",
    "bc_model = LogisticRegression(solver='lbfgs', max_iter=100,\n",
    "                           random_state=42)\n",
    "bc_model.fit(X_train_sc, y_train)"
   ]
  },
  {
   "cell_type": "markdown",
   "metadata": {
    "heading_collapsed": true,
    "hidden": true
   },
   "source": [
    "## Task"
   ]
  },
  {
   "cell_type": "markdown",
   "metadata": {
    "hidden": true
   },
   "source": [
    "For this example, draw the ROC curve and calculate the AUC-ROC metric. Based on the results, do you think your model would be useful for identifying patients with breast cancer?"
   ]
  },
  {
   "cell_type": "code",
   "execution_count": 39,
   "metadata": {
    "hidden": true,
    "scrolled": true
   },
   "outputs": [
    {
     "data": {
      "text/plain": [
       "array([[53,  1],\n",
       "       [ 2, 87]])"
      ]
     },
     "execution_count": 39,
     "metadata": {},
     "output_type": "execute_result"
    }
   ],
   "source": [
    "# Your work here\n",
    "# Lets look at Confusion Matrix first\n",
    "cm = confusion_matrix(y_test, bc_model.predict(X_test_sc))\n",
    "cm"
   ]
  },
  {
   "cell_type": "code",
   "execution_count": 42,
   "metadata": {
    "scrolled": true
   },
   "outputs": [
    {
     "data": {
      "image/png": "[encoded data removed]",
      "text/plain": [
       "<Figure size 432x288 with 2 Axes>"
      ]
     },
     "metadata": {
      "needs_background": "light"
     },
     "output_type": "display_data"
    }
   ],
   "source": [
    "ConfusionMatrixDisplay(cm, display_labels=['No Breast Cancer', 'Breast Cancer']).plot();"
   ]
  },
  {
   "cell_type": "code",
   "execution_count": 48,
   "metadata": {},
   "outputs": [
    {
     "data": {
      "text/plain": [
       "array([9.99968681e-01, 2.86372729e-03, 9.99269608e-01, 3.72508743e-06,\n",
       "       1.56225670e-06, 3.12407064e-01, 9.99821120e-01, 5.70673632e-02,\n",
       "       9.99859132e-01, 9.99990745e-01, 9.75398786e-01, 9.99178294e-01,\n",
       "       6.18453263e-13, 1.13427902e-04, 9.99964009e-01, 9.90780240e-01,\n",
       "       9.99982238e-01, 9.99999939e-01, 9.99567184e-01, 9.99815711e-01,\n",
       "       9.97570884e-01, 7.33803170e-02, 9.99036228e-01, 9.99105247e-01,\n",
       "       6.83299028e-01, 9.99979683e-01, 1.74319982e-02, 9.81099838e-01,\n",
       "       9.98772191e-01, 9.99150500e-01, 9.26665623e-01, 9.97609453e-01,\n",
       "       9.66511224e-01, 1.20477289e-01, 9.63918963e-01, 9.97954196e-01,\n",
       "       9.81301874e-01, 9.16866033e-01, 9.26851529e-01, 9.99556534e-01,\n",
       "       1.11925633e-02, 1.92824524e-04, 4.27388391e-02, 4.92050840e-01,\n",
       "       9.28192270e-01, 6.31052182e-03, 9.99001091e-01, 2.32228401e-07,\n",
       "       9.90446033e-01, 9.98741496e-01, 9.99981203e-01, 9.99405499e-01,\n",
       "       3.23840169e-02, 7.72854562e-01, 9.99907632e-01, 1.28940353e-06,\n",
       "       9.99888585e-01, 9.94191644e-01, 9.99773131e-01, 1.97749525e-07,\n",
       "       9.97961564e-01, 7.30704357e-08, 4.99824817e-07, 9.99855756e-01,\n",
       "       9.98451394e-01, 8.95755797e-01, 2.82060525e-02, 9.99942911e-01,\n",
       "       9.99980201e-01, 9.99718171e-01, 9.99995017e-01, 2.73467924e-03,\n",
       "       9.99934318e-01, 9.98844112e-01, 9.99996553e-01, 9.99832979e-01,\n",
       "       9.99984941e-01, 4.23801883e-03, 8.90508368e-01, 2.45478133e-08,\n",
       "       1.41766671e-05, 9.95312337e-01, 9.98861009e-01, 4.39354932e-09,\n",
       "       9.96842264e-01, 9.99999485e-01, 9.70993120e-01, 9.86634644e-01,\n",
       "       9.43187226e-01, 9.98402819e-01, 9.98478506e-01, 1.71641041e-01,\n",
       "       2.47545977e-03, 1.03984997e-12, 9.99969995e-01, 9.86587243e-01,\n",
       "       3.14427713e-08, 9.96356973e-01, 9.97399797e-01, 3.87054546e-04,\n",
       "       9.95988148e-01, 5.19045685e-02, 9.99997592e-01, 2.25526395e-06,\n",
       "       9.99183188e-01, 5.79183104e-01, 9.99212725e-01, 7.46566593e-01,\n",
       "       3.29996443e-03, 9.92533324e-01, 9.99857836e-01, 9.67310448e-01,\n",
       "       6.84704408e-04, 9.91643722e-01, 5.84589423e-06, 7.76786395e-01,\n",
       "       3.63103206e-04, 9.98767371e-01, 1.95294072e-02, 9.99908667e-01,\n",
       "       6.84661699e-01, 1.40420717e-04, 9.12778878e-01, 9.99999511e-01,\n",
       "       9.99822778e-01, 9.99510941e-01, 1.13294366e-01, 8.79644183e-01,\n",
       "       9.98518264e-01, 9.98086105e-01, 4.30011261e-07, 6.77774126e-01,\n",
       "       9.96496513e-01, 1.64974681e-02, 9.69407396e-01, 9.99977050e-01,\n",
       "       8.52081541e-08, 9.99294313e-01, 9.99918884e-01, 9.97619277e-01,\n",
       "       9.93877815e-01, 9.97562549e-01, 9.27637732e-01, 9.99951015e-01,\n",
       "       2.14220048e-03, 9.99494483e-01, 9.73354570e-01, 9.88123626e-01,\n",
       "       1.01623149e-01, 9.99985678e-01, 1.30617052e-05, 6.18206440e-01,\n",
       "       9.56918516e-01, 9.99410009e-01, 2.50180856e-02, 9.99875513e-01,\n",
       "       3.50735734e-03, 1.19342767e-06, 9.99966834e-01, 9.87572691e-01,\n",
       "       6.59714729e-04, 9.99868146e-01, 3.84144406e-03, 3.57084957e-02,\n",
       "       9.91465464e-01, 9.80250290e-01, 9.99145433e-01, 8.09174307e-01,\n",
       "       1.50556505e-01, 9.93889283e-01, 9.99997880e-01, 1.13404724e-04,\n",
       "       9.98704745e-01, 1.40300547e-01, 9.67967429e-01, 9.95215895e-01,\n",
       "       9.55894004e-01, 7.70952351e-13, 9.71993903e-01, 3.14687044e-10,\n",
       "       9.99733632e-01, 9.81249416e-01, 1.37994549e-06, 6.73143603e-07,\n",
       "       9.99966791e-01, 9.99155558e-01, 1.96721757e-05, 9.94586667e-01,\n",
       "       8.67379667e-06, 1.11843242e-10, 9.99964756e-01, 6.88391807e-10,\n",
       "       7.51411615e-10, 9.97676941e-01, 9.63779544e-01, 4.97285220e-05,\n",
       "       1.43173405e-05, 5.32162092e-10, 9.85172425e-01, 9.99928612e-01,\n",
       "       9.98511271e-01, 9.99007528e-01, 1.97737160e-03, 9.98220620e-01,\n",
       "       1.04507468e-03, 1.12129190e-08, 2.53794620e-06, 3.65153278e-01,\n",
       "       9.99985113e-01, 9.96969735e-01, 9.10193636e-01, 9.69952165e-01,\n",
       "       9.90181113e-01, 9.93394413e-01, 9.99875856e-01, 9.82715477e-01,\n",
       "       4.42263204e-05, 3.41220857e-06, 9.62879958e-01, 9.99958946e-01,\n",
       "       2.05674092e-06, 9.98752633e-01, 9.96644038e-01, 9.99999534e-01,\n",
       "       9.99547138e-01, 9.99989070e-01, 2.21863377e-06, 9.99875350e-01,\n",
       "       9.96517141e-01, 3.94022305e-08, 9.03927595e-04, 9.97696197e-01,\n",
       "       2.09287170e-01, 9.84924420e-01, 5.19765585e-08, 9.84073188e-01,\n",
       "       9.93696350e-01, 9.99296018e-01, 9.99745879e-01, 9.98917183e-01,\n",
       "       9.77777494e-01, 3.83835597e-04, 9.99978569e-01, 9.04119321e-01,\n",
       "       1.41404257e-03, 9.47480873e-01, 9.99934065e-01, 9.99863386e-01,\n",
       "       9.99827386e-01, 9.94708144e-01, 7.35236138e-01, 5.46565088e-06,\n",
       "       8.63664692e-01, 9.41369264e-01, 6.10806554e-02, 9.88672521e-01,\n",
       "       3.72454873e-03, 3.49987223e-02, 1.57350492e-05, 9.61238060e-01,\n",
       "       4.38238925e-03, 9.73437789e-01, 9.99946234e-01, 4.24671091e-04,\n",
       "       3.56182317e-05, 4.56719689e-06, 9.98872909e-01, 9.99329493e-01,\n",
       "       9.90138425e-01, 9.98387152e-01, 8.34746036e-01, 9.91170725e-01,\n",
       "       9.95320149e-01, 5.01606616e-06, 9.98885357e-01, 9.90688412e-01,\n",
       "       9.73926443e-01, 1.73098929e-03, 9.99745170e-01, 9.99714700e-01,\n",
       "       3.73190681e-02, 1.44385735e-01, 9.99940770e-01, 7.72705558e-04,\n",
       "       9.99815304e-01, 1.51707597e-05, 5.47591470e-06, 9.99974410e-01,\n",
       "       9.99383139e-01, 2.42999440e-06, 9.95228376e-01, 1.17095816e-04,\n",
       "       2.34641484e-07, 9.99297899e-01, 2.61552442e-03, 3.35068411e-02,\n",
       "       9.99966785e-01, 9.61106343e-01, 1.62269439e-01, 9.97760107e-01,\n",
       "       6.82088762e-02, 9.99151520e-01, 9.90517942e-01, 3.69073115e-01,\n",
       "       9.99774799e-01, 8.91496869e-01, 6.94973548e-03, 2.25620585e-06,\n",
       "       1.04817245e-07, 9.93098173e-01, 9.99941777e-01, 9.40141781e-01,\n",
       "       2.59590562e-05, 1.35939262e-04, 9.99057445e-01, 1.96257510e-04,\n",
       "       6.08714323e-07, 9.97074410e-01, 9.99452321e-01, 9.99670798e-01,\n",
       "       1.18150485e-08, 9.99989306e-01, 9.19117643e-05, 1.16601675e-04,\n",
       "       8.98151843e-04, 7.66402139e-01, 9.20812194e-01, 9.45985522e-01,\n",
       "       1.86578548e-03, 9.99360262e-01, 9.97315821e-01, 2.04315351e-03,\n",
       "       1.71856306e-08, 3.21095556e-02, 4.25412366e-04, 8.48030214e-01,\n",
       "       4.63070788e-03, 9.94693436e-01, 9.99993950e-01, 9.81941970e-01,\n",
       "       9.71658890e-01, 9.88679787e-01, 9.99522310e-01, 9.99908048e-01,\n",
       "       2.59802297e-06, 4.55838464e-12, 1.79978526e-02, 2.03126033e-16,\n",
       "       9.99687493e-01, 9.34579896e-01, 9.97798942e-01, 8.75790865e-01,\n",
       "       4.28652316e-22, 6.26353848e-01, 1.45665450e-02, 9.99869379e-01,\n",
       "       9.99787883e-01, 9.99540839e-01, 9.86319842e-01, 9.58382231e-01,\n",
       "       3.12163993e-03, 2.17955271e-04, 4.03006157e-02, 9.99901743e-01,\n",
       "       9.99205123e-01, 1.53680436e-01, 8.70968504e-01, 9.99813614e-01,\n",
       "       2.54247036e-06, 1.13669548e-02, 1.01006419e-04, 1.69006964e-04,\n",
       "       9.98961851e-01, 9.76665722e-01, 3.68133877e-01, 6.94764482e-04,\n",
       "       9.28422036e-01, 9.82561460e-01, 9.90656118e-01, 1.44637295e-07,\n",
       "       2.58769466e-01, 2.33019541e-11, 9.99996643e-01, 9.99872630e-01,\n",
       "       3.50525418e-01, 9.99962304e-01, 9.99554718e-01, 9.99895212e-01,\n",
       "       9.99990434e-01, 1.83948105e-09, 9.06798161e-01, 9.20417582e-01,\n",
       "       9.99870491e-01, 9.88066681e-01, 9.99873291e-01, 9.92633348e-01,\n",
       "       9.99943406e-01, 9.99750382e-01, 9.99900477e-01, 2.30714776e-07,\n",
       "       9.99978441e-01, 9.99984326e-01, 9.98966517e-01, 9.71689718e-01,\n",
       "       9.99977674e-01, 9.97638881e-01, 1.28882374e-01, 4.55355560e-01,\n",
       "       8.81161173e-01, 1.04703270e-06, 9.99959307e-01, 9.99506964e-01,\n",
       "       3.06680629e-01, 1.17833240e-03, 1.96957512e-06, 9.84935377e-01,\n",
       "       3.54440841e-02, 3.43171079e-03, 7.98892430e-01, 8.90920243e-05,\n",
       "       9.97798418e-01, 9.99999978e-01, 8.70144811e-01, 9.99875001e-01,\n",
       "       2.08993836e-02, 9.90048071e-01])"
      ]
     },
     "execution_count": 48,
     "metadata": {},
     "output_type": "execute_result"
    }
   ],
   "source": [
    "bc_model.predict_proba(X_train_sc)[:,1]"
   ]
  },
  {
   "cell_type": "code",
   "execution_count": 50,
   "metadata": {
    "scrolled": false
   },
   "outputs": [
    {
     "data": {
      "text/plain": [
       "<sklearn.metrics._plot.roc_curve.RocCurveDisplay at 0x7f824811f8b0>"
      ]
     },
     "execution_count": 50,
     "metadata": {},
     "output_type": "execute_result"
    },
    {
     "data": {
      "image/png": "[encoded data removed]",
      "text/plain": [
       "<Figure size 432x288 with 1 Axes>"
      ]
     },
     "metadata": {
      "needs_background": "light"
     },
     "output_type": "display_data"
    }
   ],
   "source": [
    "#Train ROC-AUC\n",
    "fpr, tpr, thresh = roc_curve(y_train, bc_model.predict_proba(X_train_sc)[:,1])\n",
    "RocCurveDisplay(fpr=fpr, tpr=tpr).plot()"
   ]
  },
  {
   "cell_type": "code",
   "execution_count": 51,
   "metadata": {
    "scrolled": false
   },
   "outputs": [
    {
     "data": {
      "text/plain": [
       "<sklearn.metrics._plot.roc_curve.RocCurveDisplay at 0x7f8290e65cd0>"
      ]
     },
     "execution_count": 51,
     "metadata": {},
     "output_type": "execute_result"
    },
    {
     "data": {
      "image/png": "[encoded data removed]",
      "text/plain": [
       "<Figure size 432x288 with 1 Axes>"
      ]
     },
     "metadata": {
      "needs_background": "light"
     },
     "output_type": "display_data"
    }
   ],
   "source": [
    "#Test ROC-AUC\n",
    "fpr, tpr, thresh = roc_curve(y_test, bc_model.predict_proba(X_test_sc)[:,1])\n",
    "RocCurveDisplay(fpr=fpr, tpr=tpr).plot()"
   ]
  },
  {
   "cell_type": "code",
   "execution_count": 52,
   "metadata": {
    "scrolled": true
   },
   "outputs": [
    {
     "data": {
      "text/plain": [
       "0.9859154929577465"
      ]
     },
     "execution_count": 52,
     "metadata": {},
     "output_type": "execute_result"
    }
   ],
   "source": [
    "bc_model.score(X_train_sc, y_train)"
   ]
  },
  {
   "cell_type": "code",
   "execution_count": 53,
   "metadata": {
    "scrolled": false
   },
   "outputs": [
    {
     "data": {
      "text/plain": [
       "0.9790209790209791"
      ]
     },
     "execution_count": 53,
     "metadata": {},
     "output_type": "execute_result"
    }
   ],
   "source": [
    "bc_model.score(X_test_sc, y_test)"
   ]
  },
  {
   "cell_type": "code",
   "execution_count": 55,
   "metadata": {},
   "outputs": [
    {
     "data": {
      "text/plain": [
       "array([54, 89])"
      ]
     },
     "execution_count": 55,
     "metadata": {},
     "output_type": "execute_result"
    }
   ],
   "source": [
    "np.bincount(y_test)"
   ]
  },
  {
   "cell_type": "code",
   "execution_count": 56,
   "metadata": {},
   "outputs": [
    {
     "data": {
      "text/plain": [
       "array([158, 268])"
      ]
     },
     "execution_count": 56,
     "metadata": {},
     "output_type": "execute_result"
    }
   ],
   "source": [
    "np.bincount(y_train)"
   ]
  },
  {
   "cell_type": "code",
   "execution_count": 57,
   "metadata": {},
   "outputs": [
    {
     "data": {
      "text/plain": [
       "array([0.12423828, 0.87576172])"
      ]
     },
     "execution_count": 57,
     "metadata": {},
     "output_type": "execute_result"
    }
   ],
   "source": [
    "bc_model.predict_proba(X_test_sc)[0]"
   ]
  },
  {
   "cell_type": "code",
   "execution_count": 58,
   "metadata": {
    "scrolled": true
   },
   "outputs": [
    {
     "data": {
      "text/plain": [
       "0.9977111943404079"
      ]
     },
     "execution_count": 58,
     "metadata": {},
     "output_type": "execute_result"
    }
   ],
   "source": [
    "roc_auc_score(y_test, bc_model.predict_proba(X_test_sc)[:, 1])"
   ]
  },
  {
   "cell_type": "code",
   "execution_count": 59,
   "metadata": {},
   "outputs": [
    {
     "data": {
      "text/plain": [
       "0.9925373134328358"
      ]
     },
     "execution_count": 59,
     "metadata": {},
     "output_type": "execute_result"
    }
   ],
   "source": [
    "recall_score(y_train, bc_model.predict(X_train_sc))"
   ]
  },
  {
   "cell_type": "code",
   "execution_count": 60,
   "metadata": {},
   "outputs": [
    {
     "data": {
      "text/plain": [
       "0.9775280898876404"
      ]
     },
     "execution_count": 60,
     "metadata": {},
     "output_type": "execute_result"
    }
   ],
   "source": [
    "recall_score(y_test, bc_model.predict(X_test_sc))"
   ]
  },
  {
   "cell_type": "markdown",
   "metadata": {
    "heading_collapsed": true
   },
   "source": [
    "# Level Up: Oversampling\n",
    "## Coming soon in another lecture"
   ]
  },
  {
   "cell_type": "markdown",
   "metadata": {
    "hidden": true
   },
   "source": [
    "What do you do if your model doesn't perform well due to class imbalance? One of the most effective strategies is to **oversample the minority class**. That is, I give myself more data points than I really have. I could achieve this either by [bootstrapping](https://scikit-learn.org/stable/modules/generated/sklearn.utils.resample.html) or by generating some data that is fake but close to actual data. The latter is the idea behind [SMOTE](https://imbalanced-learn.org/stable/over_sampling.html)."
   ]
  },
  {
   "cell_type": "code",
   "execution_count": null,
   "metadata": {},
   "outputs": [],
   "source": [
    "# Another less intensive method that might help\n",
    "log_class_weights = LogisticRegression(class_weight='balanced')"
   ]
  }
 ],
 "metadata": {
  "kernelspec": {
   "display_name": "Python (learn-env)",
   "language": "python",
   "name": "learn-env"
  },
  "language_info": {
   "codemirror_mode": {
    "name": "ipython",
    "version": 3
   },
   "file_extension": ".py",
   "mimetype": "text/x-python",
   "name": "python",
   "nbconvert_exporter": "python",
   "pygments_lexer": "ipython3",
   "version": "3.8.5"
  },
  "toc": {
   "base_numbering": 1,
   "nav_menu": {},
   "number_sections": true,
   "sideBar": true,
   "skip_h1_title": false,
   "title_cell": "Table of Contents",
   "title_sidebar": "TOC",
   "toc_cell": true,
   "toc_position": {
    "height": "calc(100% - 180px)",
    "left": "10px",
    "top": "150px",
    "width": "384px"
   },
   "toc_section_display": true,
   "toc_window_display": true
  }
 },
 "nbformat": 4,
 "nbformat_minor": 2
}
