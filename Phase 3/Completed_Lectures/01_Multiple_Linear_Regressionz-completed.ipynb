{
 "cells": [
  {
   "cell_type": "markdown",
   "metadata": {},
   "source": [
    "# Multiple Linear Regression - Raw Features"
   ]
  },
  {
   "cell_type": "code",
   "execution_count": 1,
   "metadata": {},
   "outputs": [],
   "source": [
    "import numpy as np\n",
    "import pandas as pd\n",
    "from matplotlib import pyplot as plt\n",
    "import seaborn as sns\n",
    "import statsmodels.api as sm\n",
    "from sklearn.preprocessing import StandardScaler\n",
    "from sklearn.datasets import make_regression\n",
    "from sklearn.linear_model import LinearRegression\n",
    "import sklearn.metrics as metrics\n",
    "from random import gauss\n",
    "from mpl_toolkits.mplot3d import Axes3D\n",
    "from scipy import stats as stats\n",
    "\n",
    "%matplotlib inline"
   ]
  },
  {
   "cell_type": "markdown",
   "metadata": {},
   "source": [
    "![mlr](https://miro.medium.com/max/1280/1*lJKFo3yyZaFIx4ET1dLmlg.png)"
   ]
  },
  {
   "cell_type": "markdown",
   "metadata": {
    "heading_collapsed": true
   },
   "source": [
    "## Objectives"
   ]
  },
  {
   "cell_type": "markdown",
   "metadata": {
    "hidden": true
   },
   "source": [
    "- Conduct multiple linear regressions in `statsmodels`\n",
    "- Use standard scaling for linear regression for better interpretation\n",
    "- Conduct linear regressions in `sklearn`"
   ]
  },
  {
   "cell_type": "markdown",
   "metadata": {
    "heading_collapsed": true
   },
   "source": [
    "## Regression with Multiple Predictors"
   ]
  },
  {
   "cell_type": "markdown",
   "metadata": {
    "hidden": true
   },
   "source": [
    "> It's all a bunch of dials\n",
    "\n",
    "<img width='450px' src='images/dials.png'/>"
   ]
  },
  {
   "cell_type": "markdown",
   "metadata": {
    "hidden": true
   },
   "source": [
    "The main idea here is pretty simple. Whereas, in simple linear regression we took our dependent variable to be a function only of a single independent variable, here we'll be taking the dependent variable to be a function of multiple independent variables."
   ]
  },
  {
   "cell_type": "markdown",
   "metadata": {
    "heading_collapsed": true,
    "hidden": true
   },
   "source": [
    "## Expanding Simple Linear Regression"
   ]
  },
  {
   "cell_type": "markdown",
   "metadata": {
    "hidden": true
   },
   "source": [
    "Our regression equation, then, instead of looking like $\\hat{y} = mx + b$, will now look like:\n",
    "\n",
    "$\\hat{y} = \\hat{\\beta}_0 + \\hat{\\beta}_1x_1 + ... + \\hat{\\beta}_nx_n$.\n",
    "\n",
    "Remember that the hats ( $\\hat{}$ ) indicate parameters that are estimated."
   ]
  },
  {
   "cell_type": "markdown",
   "metadata": {
    "hidden": true
   },
   "source": [
    "Is this still a best-fit *line*? Well, no. What does the graph of, say, z = x + y look like? [Here's](https://academo.org/demos/3d-surface-plotter/) a 3d-plotter. (Of course, once we get x's with subscripts beyond 2 it's going to be very hard to visualize. But in practice linear regressions can make use of dozens or even of hundreds of independent variables!)"
   ]
  },
  {
   "cell_type": "markdown",
   "metadata": {
    "heading_collapsed": true,
    "hidden": true
   },
   "source": [
    "## Closed-form Solution"
   ]
  },
  {
   "cell_type": "markdown",
   "metadata": {
    "hidden": true
   },
   "source": [
    "Is it possible to calculate the betas by hand? Yes, a multiple regression problem still has a closed-form solution."
   ]
  },
  {
   "cell_type": "markdown",
   "metadata": {
    "hidden": true
   },
   "source": [
    "In a word, for a multiple linear regression problem where $X$ is the matrix of independent variable values and $y$ is the vector of dependent variable values, the vector of optimizing regression coefficients $\\vec{b}$ is given by:\n",
    "\n",
    "$\\vec{b} = (X^TX)^{-1}X^Ty$."
   ]
  },
  {
   "cell_type": "markdown",
   "metadata": {
    "hidden": true
   },
   "source": [
    "We'll focus more directly on matrix mathematics later in the course, so don't worry if this equation is opaque to you. See [here](https://stattrek.com/multiple-regression/regression-coefficients.aspx) for a nice explanation and example."
   ]
  },
  {
   "cell_type": "markdown",
   "metadata": {
    "heading_collapsed": true
   },
   "source": [
    "## Confounding Variables"
   ]
  },
  {
   "cell_type": "markdown",
   "metadata": {
    "hidden": true
   },
   "source": [
    "Suppose I have a simple linear regression that models the growth of corn plants as a function of the temperature of the ambient air. And suppose there is a noticeable positive correlation between temperature and plant height."
   ]
  },
  {
   "cell_type": "code",
   "execution_count": 2,
   "metadata": {
    "hidden": true
   },
   "outputs": [],
   "source": [
    "corn = pd.read_csv('data/corn.csv',\n",
    "                  usecols=['temp', 'humid', 'height'])"
   ]
  },
  {
   "cell_type": "code",
   "execution_count": 3,
   "metadata": {
    "hidden": true
   },
   "outputs": [
    {
     "data": {
      "image/png": "[encoded data removed]",
      "text/plain": [
       "<Figure size 360x360 with 1 Axes>"
      ]
     },
     "metadata": {
      "needs_background": "light"
     },
     "output_type": "display_data"
    }
   ],
   "source": [
    "sns.lmplot(data=corn, x='temp', y='height')\n",
    "plt.xlabel('Temperature ($\\degree$ F)')\n",
    "plt.ylabel('Height (cm)')\n",
    "plt.title('Corn plant height as a function of temperature');"
   ]
  },
  {
   "cell_type": "code",
   "execution_count": 4,
   "metadata": {
    "hidden": true
   },
   "outputs": [
    {
     "data": {
      "text/html": [
       "<div>\n",
       "<style scoped>\n",
       "    .dataframe tbody tr th:only-of-type {\n",
       "        vertical-align: middle;\n",
       "    }\n",
       "\n",
       "    .dataframe tbody tr th {\n",
       "        vertical-align: top;\n",
       "    }\n",
       "\n",
       "    .dataframe thead th {\n",
       "        text-align: right;\n",
       "    }\n",
       "</style>\n",
       "<table border=\"1\" class=\"dataframe\">\n",
       "  <thead>\n",
       "    <tr style=\"text-align: right;\">\n",
       "      <th></th>\n",
       "      <th>temp</th>\n",
       "      <th>humid</th>\n",
       "      <th>height</th>\n",
       "    </tr>\n",
       "  </thead>\n",
       "  <tbody>\n",
       "    <tr>\n",
       "      <th>0</th>\n",
       "      <td>58.086965</td>\n",
       "      <td>49.848304</td>\n",
       "      <td>122.222368</td>\n",
       "    </tr>\n",
       "    <tr>\n",
       "      <th>1</th>\n",
       "      <td>70.582087</td>\n",
       "      <td>22.855446</td>\n",
       "      <td>110.079666</td>\n",
       "    </tr>\n",
       "    <tr>\n",
       "      <th>2</th>\n",
       "      <td>75.868571</td>\n",
       "      <td>72.856834</td>\n",
       "      <td>256.812528</td>\n",
       "    </tr>\n",
       "    <tr>\n",
       "      <th>3</th>\n",
       "      <td>74.732376</td>\n",
       "      <td>38.907566</td>\n",
       "      <td>167.889601</td>\n",
       "    </tr>\n",
       "    <tr>\n",
       "      <th>4</th>\n",
       "      <td>77.384666</td>\n",
       "      <td>42.570524</td>\n",
       "      <td>188.914312</td>\n",
       "    </tr>\n",
       "  </tbody>\n",
       "</table>\n",
       "</div>"
      ],
      "text/plain": [
       "        temp      humid      height\n",
       "0  58.086965  49.848304  122.222368\n",
       "1  70.582087  22.855446  110.079666\n",
       "2  75.868571  72.856834  256.812528\n",
       "3  74.732376  38.907566  167.889601\n",
       "4  77.384666  42.570524  188.914312"
      ]
     },
     "execution_count": 4,
     "metadata": {},
     "output_type": "execute_result"
    }
   ],
   "source": [
    "corn.head()"
   ]
  },
  {
   "cell_type": "markdown",
   "metadata": {
    "hidden": true
   },
   "source": [
    "It seems that higher temperatures lead to taller corn plants. But it's hard to know for sure. One **confounding variable** might be *humidity*. If we haven't controlled for humidity, then it's difficult to draw conclusions.\n",
    "\n",
    "One solution is to use **both features** in a single model."
   ]
  },
  {
   "cell_type": "code",
   "execution_count": 5,
   "metadata": {
    "hidden": true
   },
   "outputs": [
    {
     "data": {
      "image/png": "[encoded data removed]",
      "text/plain": [
       "<Figure size 360x360 with 1 Axes>"
      ]
     },
     "metadata": {
      "needs_background": "light"
     },
     "output_type": "display_data"
    }
   ],
   "source": [
    "sns.lmplot(data=corn, x='humid', y='height')\n",
    "plt.xlabel('Humidity (%)')\n",
    "plt.ylabel('Height (cm)')\n",
    "plt.title('Corn plant height as a function of humidity');"
   ]
  },
  {
   "cell_type": "code",
   "execution_count": 6,
   "metadata": {
    "hidden": true
   },
   "outputs": [
    {
     "data": {
      "image/png": "[encoded data removed]",
      "text/plain": [
       "<Figure size 576x432 with 1 Axes>"
      ]
     },
     "metadata": {
      "needs_background": "light"
     },
     "output_type": "display_data"
    }
   ],
   "source": [
    "ax = plt.figure(figsize=(8, 6)).add_subplot(111, projection='3d')\n",
    "ax.scatter(corn['temp'], corn['humid'], corn['height'],\n",
    "           depthshade=True, s=40, color='#ff0000')\n",
    "# create x,y\n",
    "xx, yy = np.meshgrid(corn['temp'], corn['humid'])\n",
    "\n",
    "# calculate corresponding z\n",
    "z = 4.3825 * xx + 2.4693 * yy - 255.5434\n",
    "\n",
    "# plot the surface\n",
    "ax.plot_surface(xx, yy, z, alpha=0.01, color='#00ff00')\n",
    "\n",
    "ax.view_init(30, azim=240)\n",
    "ax.set_xlabel('Temperature ($\\degree$ F)')\n",
    "ax.set_ylabel('Humidity (%)')\n",
    "ax.set_zlabel('Height (cm)')\n",
    "plt.title('Corn plant height as a function of temperature and humidity');"
   ]
  },
  {
   "cell_type": "markdown",
   "metadata": {
    "hidden": true
   },
   "source": [
    "One risk we run when adding more predictors to a model is that their correlations with the target may be nearly *collinear* with each other. This can make it difficult to determine which predictor is doing the heavy lifting. We shall explore this theme of **multicollinearity** in more depth in due course."
   ]
  },
  {
   "cell_type": "markdown",
   "metadata": {
    "heading_collapsed": true
   },
   "source": [
    "## Multiple Regression in `statsmodels`"
   ]
  },
  {
   "cell_type": "markdown",
   "metadata": {
    "hidden": true
   },
   "source": [
    "Let's build a multiple regression with `statsmodels`. Let's start with a toy model:"
   ]
  },
  {
   "cell_type": "code",
   "execution_count": 7,
   "metadata": {
    "hidden": true
   },
   "outputs": [],
   "source": [
    "centers = np.arange(1, 6)\n",
    "preds = np.array([stats.norm(loc=center, scale=3).rvs(200) for center in centers]).T\n",
    "preds_df = pd.DataFrame(preds, columns=[f'var{center}' for center in centers])\n",
    "\n",
    "# Here we're setting the target _exactly_ equal to var1 + 2*var2 + 3*var3 + 4*var4 + 5*var5\n",
    "target = preds_df['var1'] + 2*preds_df['var2'] + 3*preds_df['var3']\\\n",
    "    + 4*preds_df['var4'] + 5*preds_df['var5']\n",
    "target_df = pd.DataFrame(target, columns=['target'])"
   ]
  },
  {
   "cell_type": "code",
   "execution_count": 8,
   "metadata": {
    "hidden": true
   },
   "outputs": [
    {
     "data": {
      "text/html": [
       "<div>\n",
       "<style scoped>\n",
       "    .dataframe tbody tr th:only-of-type {\n",
       "        vertical-align: middle;\n",
       "    }\n",
       "\n",
       "    .dataframe tbody tr th {\n",
       "        vertical-align: top;\n",
       "    }\n",
       "\n",
       "    .dataframe thead th {\n",
       "        text-align: right;\n",
       "    }\n",
       "</style>\n",
       "<table border=\"1\" class=\"dataframe\">\n",
       "  <thead>\n",
       "    <tr style=\"text-align: right;\">\n",
       "      <th></th>\n",
       "      <th>var1</th>\n",
       "      <th>var2</th>\n",
       "      <th>var3</th>\n",
       "      <th>var4</th>\n",
       "      <th>var5</th>\n",
       "      <th>target</th>\n",
       "    </tr>\n",
       "  </thead>\n",
       "  <tbody>\n",
       "    <tr>\n",
       "      <th>0</th>\n",
       "      <td>-0.171653</td>\n",
       "      <td>3.264076</td>\n",
       "      <td>3.976561</td>\n",
       "      <td>5.710695</td>\n",
       "      <td>9.686112</td>\n",
       "      <td>89.559520</td>\n",
       "    </tr>\n",
       "    <tr>\n",
       "      <th>1</th>\n",
       "      <td>5.236360</td>\n",
       "      <td>4.575378</td>\n",
       "      <td>4.751592</td>\n",
       "      <td>5.485645</td>\n",
       "      <td>8.112999</td>\n",
       "      <td>91.149469</td>\n",
       "    </tr>\n",
       "    <tr>\n",
       "      <th>2</th>\n",
       "      <td>2.007144</td>\n",
       "      <td>-0.830755</td>\n",
       "      <td>3.502330</td>\n",
       "      <td>0.110861</td>\n",
       "      <td>6.956742</td>\n",
       "      <td>46.079776</td>\n",
       "    </tr>\n",
       "    <tr>\n",
       "      <th>3</th>\n",
       "      <td>3.841387</td>\n",
       "      <td>2.647881</td>\n",
       "      <td>1.514042</td>\n",
       "      <td>5.196196</td>\n",
       "      <td>2.558459</td>\n",
       "      <td>47.256359</td>\n",
       "    </tr>\n",
       "    <tr>\n",
       "      <th>4</th>\n",
       "      <td>3.549766</td>\n",
       "      <td>5.927083</td>\n",
       "      <td>1.615890</td>\n",
       "      <td>5.235518</td>\n",
       "      <td>6.851329</td>\n",
       "      <td>75.450320</td>\n",
       "    </tr>\n",
       "  </tbody>\n",
       "</table>\n",
       "</div>"
      ],
      "text/plain": [
       "       var1      var2      var3      var4      var5     target\n",
       "0 -0.171653  3.264076  3.976561  5.710695  9.686112  89.559520\n",
       "1  5.236360  4.575378  4.751592  5.485645  8.112999  91.149469\n",
       "2  2.007144 -0.830755  3.502330  0.110861  6.956742  46.079776\n",
       "3  3.841387  2.647881  1.514042  5.196196  2.558459  47.256359\n",
       "4  3.549766  5.927083  1.615890  5.235518  6.851329  75.450320"
      ]
     },
     "execution_count": 8,
     "metadata": {},
     "output_type": "execute_result"
    }
   ],
   "source": [
    "df = pd.concat([preds_df, target_df], axis=1)\n",
    "\n",
    "df.head()"
   ]
  },
  {
   "cell_type": "markdown",
   "metadata": {},
   "source": [
    "### Exercise"
   ]
  },
  {
   "cell_type": "markdown",
   "metadata": {},
   "source": [
    "- Use `statsmodels.OLS()` to fit a linear regression model with five input variables to the target.\n",
    "- Run the model summary. What are the betas? What value of $R^2$ did you get?"
   ]
  },
  {
   "cell_type": "code",
   "execution_count": 9,
   "metadata": {},
   "outputs": [
    {
     "data": {
      "text/html": [
       "<div>\n",
       "<style scoped>\n",
       "    .dataframe tbody tr th:only-of-type {\n",
       "        vertical-align: middle;\n",
       "    }\n",
       "\n",
       "    .dataframe tbody tr th {\n",
       "        vertical-align: top;\n",
       "    }\n",
       "\n",
       "    .dataframe thead th {\n",
       "        text-align: right;\n",
       "    }\n",
       "</style>\n",
       "<table border=\"1\" class=\"dataframe\">\n",
       "  <thead>\n",
       "    <tr style=\"text-align: right;\">\n",
       "      <th></th>\n",
       "      <th>const</th>\n",
       "      <th>var1</th>\n",
       "      <th>var2</th>\n",
       "      <th>var3</th>\n",
       "      <th>var4</th>\n",
       "      <th>var5</th>\n",
       "    </tr>\n",
       "  </thead>\n",
       "  <tbody>\n",
       "    <tr>\n",
       "      <th>0</th>\n",
       "      <td>1.0</td>\n",
       "      <td>-0.171653</td>\n",
       "      <td>3.264076</td>\n",
       "      <td>3.976561</td>\n",
       "      <td>5.710695</td>\n",
       "      <td>9.686112</td>\n",
       "    </tr>\n",
       "    <tr>\n",
       "      <th>1</th>\n",
       "      <td>1.0</td>\n",
       "      <td>5.236360</td>\n",
       "      <td>4.575378</td>\n",
       "      <td>4.751592</td>\n",
       "      <td>5.485645</td>\n",
       "      <td>8.112999</td>\n",
       "    </tr>\n",
       "    <tr>\n",
       "      <th>2</th>\n",
       "      <td>1.0</td>\n",
       "      <td>2.007144</td>\n",
       "      <td>-0.830755</td>\n",
       "      <td>3.502330</td>\n",
       "      <td>0.110861</td>\n",
       "      <td>6.956742</td>\n",
       "    </tr>\n",
       "    <tr>\n",
       "      <th>3</th>\n",
       "      <td>1.0</td>\n",
       "      <td>3.841387</td>\n",
       "      <td>2.647881</td>\n",
       "      <td>1.514042</td>\n",
       "      <td>5.196196</td>\n",
       "      <td>2.558459</td>\n",
       "    </tr>\n",
       "    <tr>\n",
       "      <th>4</th>\n",
       "      <td>1.0</td>\n",
       "      <td>3.549766</td>\n",
       "      <td>5.927083</td>\n",
       "      <td>1.615890</td>\n",
       "      <td>5.235518</td>\n",
       "      <td>6.851329</td>\n",
       "    </tr>\n",
       "    <tr>\n",
       "      <th>...</th>\n",
       "      <td>...</td>\n",
       "      <td>...</td>\n",
       "      <td>...</td>\n",
       "      <td>...</td>\n",
       "      <td>...</td>\n",
       "      <td>...</td>\n",
       "    </tr>\n",
       "    <tr>\n",
       "      <th>195</th>\n",
       "      <td>1.0</td>\n",
       "      <td>1.305986</td>\n",
       "      <td>1.053848</td>\n",
       "      <td>3.342111</td>\n",
       "      <td>3.700611</td>\n",
       "      <td>5.411803</td>\n",
       "    </tr>\n",
       "    <tr>\n",
       "      <th>196</th>\n",
       "      <td>1.0</td>\n",
       "      <td>5.223752</td>\n",
       "      <td>6.539491</td>\n",
       "      <td>-1.149104</td>\n",
       "      <td>0.411874</td>\n",
       "      <td>1.442379</td>\n",
       "    </tr>\n",
       "    <tr>\n",
       "      <th>197</th>\n",
       "      <td>1.0</td>\n",
       "      <td>-4.176979</td>\n",
       "      <td>-0.429214</td>\n",
       "      <td>7.084516</td>\n",
       "      <td>5.420186</td>\n",
       "      <td>0.871747</td>\n",
       "    </tr>\n",
       "    <tr>\n",
       "      <th>198</th>\n",
       "      <td>1.0</td>\n",
       "      <td>3.026366</td>\n",
       "      <td>8.443662</td>\n",
       "      <td>4.437710</td>\n",
       "      <td>6.226706</td>\n",
       "      <td>1.417528</td>\n",
       "    </tr>\n",
       "    <tr>\n",
       "      <th>199</th>\n",
       "      <td>1.0</td>\n",
       "      <td>-0.675195</td>\n",
       "      <td>0.125332</td>\n",
       "      <td>-2.643080</td>\n",
       "      <td>9.284927</td>\n",
       "      <td>1.104349</td>\n",
       "    </tr>\n",
       "  </tbody>\n",
       "</table>\n",
       "<p>200 rows × 6 columns</p>\n",
       "</div>"
      ],
      "text/plain": [
       "     const      var1      var2      var3      var4      var5\n",
       "0      1.0 -0.171653  3.264076  3.976561  5.710695  9.686112\n",
       "1      1.0  5.236360  4.575378  4.751592  5.485645  8.112999\n",
       "2      1.0  2.007144 -0.830755  3.502330  0.110861  6.956742\n",
       "3      1.0  3.841387  2.647881  1.514042  5.196196  2.558459\n",
       "4      1.0  3.549766  5.927083  1.615890  5.235518  6.851329\n",
       "..     ...       ...       ...       ...       ...       ...\n",
       "195    1.0  1.305986  1.053848  3.342111  3.700611  5.411803\n",
       "196    1.0  5.223752  6.539491 -1.149104  0.411874  1.442379\n",
       "197    1.0 -4.176979 -0.429214  7.084516  5.420186  0.871747\n",
       "198    1.0  3.026366  8.443662  4.437710  6.226706  1.417528\n",
       "199    1.0 -0.675195  0.125332 -2.643080  9.284927  1.104349\n",
       "\n",
       "[200 rows x 6 columns]"
      ]
     },
     "execution_count": 9,
     "metadata": {},
     "output_type": "execute_result"
    }
   ],
   "source": [
    "x = df.drop('target', axis=1)\n",
    "sm.add_constant(x)"
   ]
  },
  {
   "cell_type": "code",
   "execution_count": 12,
   "metadata": {},
   "outputs": [],
   "source": [
    "x = df.drop('target', axis=1)\n",
    "y = df['target']\n",
    "\n",
    "model = sm.OLS(endog=y, exog=sm.add_constant(x)).fit()"
   ]
  },
  {
   "cell_type": "code",
   "execution_count": 13,
   "metadata": {},
   "outputs": [
    {
     "data": {
      "text/html": [
       "<table class=\"simpletable\">\n",
       "<caption>OLS Regression Results</caption>\n",
       "<tr>\n",
       "  <th>Dep. Variable:</th>         <td>target</td>      <th>  R-squared:         </th>  <td>   1.000</td> \n",
       "</tr>\n",
       "<tr>\n",
       "  <th>Model:</th>                   <td>OLS</td>       <th>  Adj. R-squared:    </th>  <td>   1.000</td> \n",
       "</tr>\n",
       "<tr>\n",
       "  <th>Method:</th>             <td>Least Squares</td>  <th>  F-statistic:       </th>  <td>1.094e+31</td>\n",
       "</tr>\n",
       "<tr>\n",
       "  <th>Date:</th>             <td>Mon, 11 Dec 2023</td> <th>  Prob (F-statistic):</th>   <td>  0.00</td>  \n",
       "</tr>\n",
       "<tr>\n",
       "  <th>Time:</th>                 <td>11:48:51</td>     <th>  Log-Likelihood:    </th>  <td>  5875.9</td> \n",
       "</tr>\n",
       "<tr>\n",
       "  <th>No. Observations:</th>      <td>   200</td>      <th>  AIC:               </th> <td>-1.174e+04</td>\n",
       "</tr>\n",
       "<tr>\n",
       "  <th>Df Residuals:</th>          <td>   194</td>      <th>  BIC:               </th> <td>-1.172e+04</td>\n",
       "</tr>\n",
       "<tr>\n",
       "  <th>Df Model:</th>              <td>     5</td>      <th>                     </th>      <td> </td>    \n",
       "</tr>\n",
       "<tr>\n",
       "  <th>Covariance Type:</th>      <td>nonrobust</td>    <th>                     </th>      <td> </td>    \n",
       "</tr>\n",
       "</table>\n",
       "<table class=\"simpletable\">\n",
       "<tr>\n",
       "    <td></td>       <th>coef</th>     <th>std err</th>      <th>t</th>      <th>P>|t|</th>  <th>[0.025</th>    <th>0.975]</th>  \n",
       "</tr>\n",
       "<tr>\n",
       "  <th>const</th> <td>-7.105e-15</td> <td> 7.96e-15</td> <td>   -0.892</td> <td> 0.373</td> <td>-2.28e-14</td> <td>  8.6e-15</td>\n",
       "</tr>\n",
       "<tr>\n",
       "  <th>var1</th>  <td>    1.0000</td> <td> 9.95e-16</td> <td> 1.01e+15</td> <td> 0.000</td> <td>    1.000</td> <td>    1.000</td>\n",
       "</tr>\n",
       "<tr>\n",
       "  <th>var2</th>  <td>    2.0000</td> <td> 9.72e-16</td> <td> 2.06e+15</td> <td> 0.000</td> <td>    2.000</td> <td>    2.000</td>\n",
       "</tr>\n",
       "<tr>\n",
       "  <th>var3</th>  <td>    3.0000</td> <td> 1.07e-15</td> <td> 2.81e+15</td> <td> 0.000</td> <td>    3.000</td> <td>    3.000</td>\n",
       "</tr>\n",
       "<tr>\n",
       "  <th>var4</th>  <td>    4.0000</td> <td> 1.03e-15</td> <td> 3.89e+15</td> <td> 0.000</td> <td>    4.000</td> <td>    4.000</td>\n",
       "</tr>\n",
       "<tr>\n",
       "  <th>var5</th>  <td>    5.0000</td> <td> 1.12e-15</td> <td> 4.48e+15</td> <td> 0.000</td> <td>    5.000</td> <td>    5.000</td>\n",
       "</tr>\n",
       "</table>\n",
       "<table class=\"simpletable\">\n",
       "<tr>\n",
       "  <th>Omnibus:</th>       <td> 0.028</td> <th>  Durbin-Watson:     </th> <td>   0.592</td>\n",
       "</tr>\n",
       "<tr>\n",
       "  <th>Prob(Omnibus):</th> <td> 0.986</td> <th>  Jarque-Bera (JB):  </th> <td>   0.115</td>\n",
       "</tr>\n",
       "<tr>\n",
       "  <th>Skew:</th>          <td> 0.022</td> <th>  Prob(JB):          </th> <td>   0.944</td>\n",
       "</tr>\n",
       "<tr>\n",
       "  <th>Kurtosis:</th>      <td> 2.891</td> <th>  Cond. No.          </th> <td>    21.1</td>\n",
       "</tr>\n",
       "</table><br/><br/>Notes:<br/>[1] Standard Errors assume that the covariance matrix of the errors is correctly specified."
      ],
      "text/plain": [
       "<class 'statsmodels.iolib.summary.Summary'>\n",
       "\"\"\"\n",
       "                            OLS Regression Results                            \n",
       "==============================================================================\n",
       "Dep. Variable:                 target   R-squared:                       1.000\n",
       "Model:                            OLS   Adj. R-squared:                  1.000\n",
       "Method:                 Least Squares   F-statistic:                 1.094e+31\n",
       "Date:                Mon, 11 Dec 2023   Prob (F-statistic):               0.00\n",
       "Time:                        11:48:51   Log-Likelihood:                 5875.9\n",
       "No. Observations:                 200   AIC:                        -1.174e+04\n",
       "Df Residuals:                     194   BIC:                        -1.172e+04\n",
       "Df Model:                           5                                         \n",
       "Covariance Type:            nonrobust                                         \n",
       "==============================================================================\n",
       "                 coef    std err          t      P>|t|      [0.025      0.975]\n",
       "------------------------------------------------------------------------------\n",
       "const      -7.105e-15   7.96e-15     -0.892      0.373   -2.28e-14     8.6e-15\n",
       "var1           1.0000   9.95e-16   1.01e+15      0.000       1.000       1.000\n",
       "var2           2.0000   9.72e-16   2.06e+15      0.000       2.000       2.000\n",
       "var3           3.0000   1.07e-15   2.81e+15      0.000       3.000       3.000\n",
       "var4           4.0000   1.03e-15   3.89e+15      0.000       4.000       4.000\n",
       "var5           5.0000   1.12e-15   4.48e+15      0.000       5.000       5.000\n",
       "==============================================================================\n",
       "Omnibus:                        0.028   Durbin-Watson:                   0.592\n",
       "Prob(Omnibus):                  0.986   Jarque-Bera (JB):                0.115\n",
       "Skew:                           0.022   Prob(JB):                        0.944\n",
       "Kurtosis:                       2.891   Cond. No.                         21.1\n",
       "==============================================================================\n",
       "\n",
       "Notes:\n",
       "[1] Standard Errors assume that the covariance matrix of the errors is correctly specified.\n",
       "\"\"\""
      ]
     },
     "execution_count": 13,
     "metadata": {},
     "output_type": "execute_result"
    }
   ],
   "source": [
    "model.summary()"
   ]
  },
  {
   "cell_type": "markdown",
   "metadata": {
    "hidden": true
   },
   "source": [
    "<details>\n",
    "    <summary>Answer</summary>\n",
    "<code>X = df.drop('target', axis=1)\n",
    "y = df['target']\n",
    "model = sm.OLS(endog=y, exog=X).fit()\n",
    "model.summary()</code>\n",
    "    </details>"
   ]
  },
  {
   "cell_type": "markdown",
   "metadata": {
    "heading_collapsed": true,
    "hidden": true
   },
   "source": [
    "### Diamonds Dataset"
   ]
  },
  {
   "cell_type": "code",
   "execution_count": 14,
   "metadata": {
    "hidden": true,
    "scrolled": true
   },
   "outputs": [],
   "source": [
    "data = sns.load_dataset('diamonds').drop(['cut', 'color', 'clarity'], axis=1)"
   ]
  },
  {
   "cell_type": "code",
   "execution_count": 15,
   "metadata": {
    "hidden": true,
    "scrolled": true
   },
   "outputs": [
    {
     "data": {
      "text/html": [
       "<div>\n",
       "<style scoped>\n",
       "    .dataframe tbody tr th:only-of-type {\n",
       "        vertical-align: middle;\n",
       "    }\n",
       "\n",
       "    .dataframe tbody tr th {\n",
       "        vertical-align: top;\n",
       "    }\n",
       "\n",
       "    .dataframe thead th {\n",
       "        text-align: right;\n",
       "    }\n",
       "</style>\n",
       "<table border=\"1\" class=\"dataframe\">\n",
       "  <thead>\n",
       "    <tr style=\"text-align: right;\">\n",
       "      <th></th>\n",
       "      <th>carat</th>\n",
       "      <th>depth</th>\n",
       "      <th>table</th>\n",
       "      <th>price</th>\n",
       "      <th>x</th>\n",
       "      <th>y</th>\n",
       "      <th>z</th>\n",
       "    </tr>\n",
       "  </thead>\n",
       "  <tbody>\n",
       "    <tr>\n",
       "      <th>0</th>\n",
       "      <td>0.23</td>\n",
       "      <td>61.5</td>\n",
       "      <td>55.0</td>\n",
       "      <td>326</td>\n",
       "      <td>3.95</td>\n",
       "      <td>3.98</td>\n",
       "      <td>2.43</td>\n",
       "    </tr>\n",
       "    <tr>\n",
       "      <th>1</th>\n",
       "      <td>0.21</td>\n",
       "      <td>59.8</td>\n",
       "      <td>61.0</td>\n",
       "      <td>326</td>\n",
       "      <td>3.89</td>\n",
       "      <td>3.84</td>\n",
       "      <td>2.31</td>\n",
       "    </tr>\n",
       "    <tr>\n",
       "      <th>2</th>\n",
       "      <td>0.23</td>\n",
       "      <td>56.9</td>\n",
       "      <td>65.0</td>\n",
       "      <td>327</td>\n",
       "      <td>4.05</td>\n",
       "      <td>4.07</td>\n",
       "      <td>2.31</td>\n",
       "    </tr>\n",
       "    <tr>\n",
       "      <th>3</th>\n",
       "      <td>0.29</td>\n",
       "      <td>62.4</td>\n",
       "      <td>58.0</td>\n",
       "      <td>334</td>\n",
       "      <td>4.20</td>\n",
       "      <td>4.23</td>\n",
       "      <td>2.63</td>\n",
       "    </tr>\n",
       "    <tr>\n",
       "      <th>4</th>\n",
       "      <td>0.31</td>\n",
       "      <td>63.3</td>\n",
       "      <td>58.0</td>\n",
       "      <td>335</td>\n",
       "      <td>4.34</td>\n",
       "      <td>4.35</td>\n",
       "      <td>2.75</td>\n",
       "    </tr>\n",
       "  </tbody>\n",
       "</table>\n",
       "</div>"
      ],
      "text/plain": [
       "   carat  depth  table  price     x     y     z\n",
       "0   0.23   61.5   55.0    326  3.95  3.98  2.43\n",
       "1   0.21   59.8   61.0    326  3.89  3.84  2.31\n",
       "2   0.23   56.9   65.0    327  4.05  4.07  2.31\n",
       "3   0.29   62.4   58.0    334  4.20  4.23  2.63\n",
       "4   0.31   63.3   58.0    335  4.34  4.35  2.75"
      ]
     },
     "execution_count": 15,
     "metadata": {},
     "output_type": "execute_result"
    }
   ],
   "source": [
    "data.head()"
   ]
  },
  {
   "cell_type": "code",
   "execution_count": 16,
   "metadata": {},
   "outputs": [
    {
     "data": {
      "text/html": [
       "<div>\n",
       "<style scoped>\n",
       "    .dataframe tbody tr th:only-of-type {\n",
       "        vertical-align: middle;\n",
       "    }\n",
       "\n",
       "    .dataframe tbody tr th {\n",
       "        vertical-align: top;\n",
       "    }\n",
       "\n",
       "    .dataframe thead th {\n",
       "        text-align: right;\n",
       "    }\n",
       "</style>\n",
       "<table border=\"1\" class=\"dataframe\">\n",
       "  <thead>\n",
       "    <tr style=\"text-align: right;\">\n",
       "      <th></th>\n",
       "      <th>carat</th>\n",
       "      <th>depth</th>\n",
       "      <th>table</th>\n",
       "      <th>price</th>\n",
       "      <th>x</th>\n",
       "      <th>y</th>\n",
       "      <th>z</th>\n",
       "    </tr>\n",
       "  </thead>\n",
       "  <tbody>\n",
       "    <tr>\n",
       "      <th>carat</th>\n",
       "      <td>1.000000</td>\n",
       "      <td>0.028224</td>\n",
       "      <td>0.181618</td>\n",
       "      <td>0.921591</td>\n",
       "      <td>0.975094</td>\n",
       "      <td>0.951722</td>\n",
       "      <td>0.953387</td>\n",
       "    </tr>\n",
       "    <tr>\n",
       "      <th>depth</th>\n",
       "      <td>0.028224</td>\n",
       "      <td>1.000000</td>\n",
       "      <td>-0.295779</td>\n",
       "      <td>-0.010647</td>\n",
       "      <td>-0.025289</td>\n",
       "      <td>-0.029341</td>\n",
       "      <td>0.094924</td>\n",
       "    </tr>\n",
       "    <tr>\n",
       "      <th>table</th>\n",
       "      <td>0.181618</td>\n",
       "      <td>-0.295779</td>\n",
       "      <td>1.000000</td>\n",
       "      <td>0.127134</td>\n",
       "      <td>0.195344</td>\n",
       "      <td>0.183760</td>\n",
       "      <td>0.150929</td>\n",
       "    </tr>\n",
       "    <tr>\n",
       "      <th>price</th>\n",
       "      <td>0.921591</td>\n",
       "      <td>-0.010647</td>\n",
       "      <td>0.127134</td>\n",
       "      <td>1.000000</td>\n",
       "      <td>0.884435</td>\n",
       "      <td>0.865421</td>\n",
       "      <td>0.861249</td>\n",
       "    </tr>\n",
       "    <tr>\n",
       "      <th>x</th>\n",
       "      <td>0.975094</td>\n",
       "      <td>-0.025289</td>\n",
       "      <td>0.195344</td>\n",
       "      <td>0.884435</td>\n",
       "      <td>1.000000</td>\n",
       "      <td>0.974701</td>\n",
       "      <td>0.970772</td>\n",
       "    </tr>\n",
       "    <tr>\n",
       "      <th>y</th>\n",
       "      <td>0.951722</td>\n",
       "      <td>-0.029341</td>\n",
       "      <td>0.183760</td>\n",
       "      <td>0.865421</td>\n",
       "      <td>0.974701</td>\n",
       "      <td>1.000000</td>\n",
       "      <td>0.952006</td>\n",
       "    </tr>\n",
       "    <tr>\n",
       "      <th>z</th>\n",
       "      <td>0.953387</td>\n",
       "      <td>0.094924</td>\n",
       "      <td>0.150929</td>\n",
       "      <td>0.861249</td>\n",
       "      <td>0.970772</td>\n",
       "      <td>0.952006</td>\n",
       "      <td>1.000000</td>\n",
       "    </tr>\n",
       "  </tbody>\n",
       "</table>\n",
       "</div>"
      ],
      "text/plain": [
       "          carat     depth     table     price         x         y         z\n",
       "carat  1.000000  0.028224  0.181618  0.921591  0.975094  0.951722  0.953387\n",
       "depth  0.028224  1.000000 -0.295779 -0.010647 -0.025289 -0.029341  0.094924\n",
       "table  0.181618 -0.295779  1.000000  0.127134  0.195344  0.183760  0.150929\n",
       "price  0.921591 -0.010647  0.127134  1.000000  0.884435  0.865421  0.861249\n",
       "x      0.975094 -0.025289  0.195344  0.884435  1.000000  0.974701  0.970772\n",
       "y      0.951722 -0.029341  0.183760  0.865421  0.974701  1.000000  0.952006\n",
       "z      0.953387  0.094924  0.150929  0.861249  0.970772  0.952006  1.000000"
      ]
     },
     "execution_count": 16,
     "metadata": {},
     "output_type": "execute_result"
    }
   ],
   "source": [
    "data.corr()"
   ]
  },
  {
   "cell_type": "code",
   "execution_count": 17,
   "metadata": {
    "hidden": true
   },
   "outputs": [],
   "source": [
    "x, y = data.drop('price', axis=1), data['price']"
   ]
  },
  {
   "cell_type": "code",
   "execution_count": 20,
   "metadata": {
    "hidden": true
   },
   "outputs": [
    {
     "data": {
      "text/html": [
       "<table class=\"simpletable\">\n",
       "<caption>OLS Regression Results</caption>\n",
       "<tr>\n",
       "  <th>Dep. Variable:</th>          <td>price</td>      <th>  R-squared:         </th>  <td>   0.859</td>  \n",
       "</tr>\n",
       "<tr>\n",
       "  <th>Model:</th>                   <td>OLS</td>       <th>  Adj. R-squared:    </th>  <td>   0.859</td>  \n",
       "</tr>\n",
       "<tr>\n",
       "  <th>Method:</th>             <td>Least Squares</td>  <th>  F-statistic:       </th>  <td>5.486e+04</td> \n",
       "</tr>\n",
       "<tr>\n",
       "  <th>Date:</th>             <td>Mon, 11 Dec 2023</td> <th>  Prob (F-statistic):</th>   <td>  0.00</td>   \n",
       "</tr>\n",
       "<tr>\n",
       "  <th>Time:</th>                 <td>11:55:42</td>     <th>  Log-Likelihood:    </th> <td>-4.7090e+05</td>\n",
       "</tr>\n",
       "<tr>\n",
       "  <th>No. Observations:</th>      <td> 53940</td>      <th>  AIC:               </th>  <td>9.418e+05</td> \n",
       "</tr>\n",
       "<tr>\n",
       "  <th>Df Residuals:</th>          <td> 53933</td>      <th>  BIC:               </th>  <td>9.419e+05</td> \n",
       "</tr>\n",
       "<tr>\n",
       "  <th>Df Model:</th>              <td>     6</td>      <th>                     </th>      <td> </td>     \n",
       "</tr>\n",
       "<tr>\n",
       "  <th>Covariance Type:</th>      <td>nonrobust</td>    <th>                     </th>      <td> </td>     \n",
       "</tr>\n",
       "</table>\n",
       "<table class=\"simpletable\">\n",
       "<tr>\n",
       "    <td></td>       <th>coef</th>     <th>std err</th>      <th>t</th>      <th>P>|t|</th>  <th>[0.025</th>    <th>0.975]</th>  \n",
       "</tr>\n",
       "<tr>\n",
       "  <th>const</th> <td> 2.085e+04</td> <td>  447.562</td> <td>   46.584</td> <td> 0.000</td> <td>    2e+04</td> <td> 2.17e+04</td>\n",
       "</tr>\n",
       "<tr>\n",
       "  <th>carat</th> <td> 1.069e+04</td> <td>   63.201</td> <td>  169.085</td> <td> 0.000</td> <td> 1.06e+04</td> <td> 1.08e+04</td>\n",
       "</tr>\n",
       "<tr>\n",
       "  <th>depth</th> <td> -203.1541</td> <td>    5.504</td> <td>  -36.910</td> <td> 0.000</td> <td> -213.942</td> <td> -192.366</td>\n",
       "</tr>\n",
       "<tr>\n",
       "  <th>table</th> <td> -102.4457</td> <td>    3.084</td> <td>  -33.216</td> <td> 0.000</td> <td> -108.491</td> <td>  -96.401</td>\n",
       "</tr>\n",
       "<tr>\n",
       "  <th>x</th>     <td>-1315.6678</td> <td>   43.070</td> <td>  -30.547</td> <td> 0.000</td> <td>-1400.086</td> <td>-1231.250</td>\n",
       "</tr>\n",
       "<tr>\n",
       "  <th>y</th>     <td>   66.3216</td> <td>   25.523</td> <td>    2.599</td> <td> 0.009</td> <td>   16.296</td> <td>  116.347</td>\n",
       "</tr>\n",
       "<tr>\n",
       "  <th>z</th>     <td>   41.6277</td> <td>   44.305</td> <td>    0.940</td> <td> 0.347</td> <td>  -45.210</td> <td>  128.465</td>\n",
       "</tr>\n",
       "</table>\n",
       "<table class=\"simpletable\">\n",
       "<tr>\n",
       "  <th>Omnibus:</th>       <td>14093.399</td> <th>  Durbin-Watson:     </th>  <td>   1.249</td> \n",
       "</tr>\n",
       "<tr>\n",
       "  <th>Prob(Omnibus):</th>  <td> 0.000</td>   <th>  Jarque-Bera (JB):  </th> <td>373568.966</td>\n",
       "</tr>\n",
       "<tr>\n",
       "  <th>Skew:</th>           <td> 0.674</td>   <th>  Prob(JB):          </th>  <td>    0.00</td> \n",
       "</tr>\n",
       "<tr>\n",
       "  <th>Kurtosis:</th>       <td>15.822</td>   <th>  Cond. No.          </th>  <td>5.91e+03</td> \n",
       "</tr>\n",
       "</table><br/><br/>Notes:<br/>[1] Standard Errors assume that the covariance matrix of the errors is correctly specified.<br/>[2] The condition number is large, 5.91e+03. This might indicate that there are<br/>strong multicollinearity or other numerical problems."
      ],
      "text/plain": [
       "<class 'statsmodels.iolib.summary.Summary'>\n",
       "\"\"\"\n",
       "                            OLS Regression Results                            \n",
       "==============================================================================\n",
       "Dep. Variable:                  price   R-squared:                       0.859\n",
       "Model:                            OLS   Adj. R-squared:                  0.859\n",
       "Method:                 Least Squares   F-statistic:                 5.486e+04\n",
       "Date:                Mon, 11 Dec 2023   Prob (F-statistic):               0.00\n",
       "Time:                        11:55:42   Log-Likelihood:            -4.7090e+05\n",
       "No. Observations:               53940   AIC:                         9.418e+05\n",
       "Df Residuals:                   53933   BIC:                         9.419e+05\n",
       "Df Model:                           6                                         \n",
       "Covariance Type:            nonrobust                                         \n",
       "==============================================================================\n",
       "                 coef    std err          t      P>|t|      [0.025      0.975]\n",
       "------------------------------------------------------------------------------\n",
       "const       2.085e+04    447.562     46.584      0.000       2e+04    2.17e+04\n",
       "carat       1.069e+04     63.201    169.085      0.000    1.06e+04    1.08e+04\n",
       "depth       -203.1541      5.504    -36.910      0.000    -213.942    -192.366\n",
       "table       -102.4457      3.084    -33.216      0.000    -108.491     -96.401\n",
       "x          -1315.6678     43.070    -30.547      0.000   -1400.086   -1231.250\n",
       "y             66.3216     25.523      2.599      0.009      16.296     116.347\n",
       "z             41.6277     44.305      0.940      0.347     -45.210     128.465\n",
       "==============================================================================\n",
       "Omnibus:                    14093.399   Durbin-Watson:                   1.249\n",
       "Prob(Omnibus):                  0.000   Jarque-Bera (JB):           373568.966\n",
       "Skew:                           0.674   Prob(JB):                         0.00\n",
       "Kurtosis:                      15.822   Cond. No.                     5.91e+03\n",
       "==============================================================================\n",
       "\n",
       "Notes:\n",
       "[1] Standard Errors assume that the covariance matrix of the errors is correctly specified.\n",
       "[2] The condition number is large, 5.91e+03. This might indicate that there are\n",
       "strong multicollinearity or other numerical problems.\n",
       "\"\"\""
      ]
     },
     "execution_count": 20,
     "metadata": {},
     "output_type": "execute_result"
    }
   ],
   "source": [
    "model2 = sm.OLS(y, sm.add_constant(x)).fit()\n",
    "model2.summary()"
   ]
  },
  {
   "cell_type": "markdown",
   "metadata": {},
   "source": [
    "<details>\n",
    "    <summary><b>Remember that $R^2$ can be negative!</b> Click here for code that demonstrates this.</summary>\n",
    "\n",
    "<code>bad_pred = np.mean(y) * np.ones(len(y))\n",
    "worse_pred = (np.mean(y) + 1000) * np.ones(len(y))\n",
    "print(metrics.r2_score(y, bad_pred))\n",
    "print(metrics.r2_score(y, worse_pred))</code>\n",
    "    </details>"
   ]
  },
  {
   "cell_type": "markdown",
   "metadata": {},
   "source": [
    "## Wine Dataset 🍷"
   ]
  },
  {
   "cell_type": "markdown",
   "metadata": {
    "hidden": true
   },
   "source": [
    "This dataset includes measurable attributes of different wines as well as their rated quality."
   ]
  },
  {
   "cell_type": "code",
   "execution_count": 21,
   "metadata": {
    "hidden": true
   },
   "outputs": [
    {
     "data": {
      "text/html": [
       "<div>\n",
       "<style scoped>\n",
       "    .dataframe tbody tr th:only-of-type {\n",
       "        vertical-align: middle;\n",
       "    }\n",
       "\n",
       "    .dataframe tbody tr th {\n",
       "        vertical-align: top;\n",
       "    }\n",
       "\n",
       "    .dataframe thead th {\n",
       "        text-align: right;\n",
       "    }\n",
       "</style>\n",
       "<table border=\"1\" class=\"dataframe\">\n",
       "  <thead>\n",
       "    <tr style=\"text-align: right;\">\n",
       "      <th></th>\n",
       "      <th>fixed acidity</th>\n",
       "      <th>volatile acidity</th>\n",
       "      <th>citric acid</th>\n",
       "      <th>residual sugar</th>\n",
       "      <th>chlorides</th>\n",
       "      <th>free sulfur dioxide</th>\n",
       "      <th>total sulfur dioxide</th>\n",
       "      <th>density</th>\n",
       "      <th>pH</th>\n",
       "      <th>sulphates</th>\n",
       "      <th>alcohol</th>\n",
       "      <th>quality</th>\n",
       "      <th>red_wine</th>\n",
       "    </tr>\n",
       "  </thead>\n",
       "  <tbody>\n",
       "    <tr>\n",
       "      <th>0</th>\n",
       "      <td>7.4</td>\n",
       "      <td>0.70</td>\n",
       "      <td>0.00</td>\n",
       "      <td>1.9</td>\n",
       "      <td>0.076</td>\n",
       "      <td>11.0</td>\n",
       "      <td>34.0</td>\n",
       "      <td>0.9978</td>\n",
       "      <td>3.51</td>\n",
       "      <td>0.56</td>\n",
       "      <td>9.4</td>\n",
       "      <td>5</td>\n",
       "      <td>1</td>\n",
       "    </tr>\n",
       "    <tr>\n",
       "      <th>1</th>\n",
       "      <td>7.8</td>\n",
       "      <td>0.88</td>\n",
       "      <td>0.00</td>\n",
       "      <td>2.6</td>\n",
       "      <td>0.098</td>\n",
       "      <td>25.0</td>\n",
       "      <td>67.0</td>\n",
       "      <td>0.9968</td>\n",
       "      <td>3.20</td>\n",
       "      <td>0.68</td>\n",
       "      <td>9.8</td>\n",
       "      <td>5</td>\n",
       "      <td>1</td>\n",
       "    </tr>\n",
       "    <tr>\n",
       "      <th>2</th>\n",
       "      <td>7.8</td>\n",
       "      <td>0.76</td>\n",
       "      <td>0.04</td>\n",
       "      <td>2.3</td>\n",
       "      <td>0.092</td>\n",
       "      <td>15.0</td>\n",
       "      <td>54.0</td>\n",
       "      <td>0.9970</td>\n",
       "      <td>3.26</td>\n",
       "      <td>0.65</td>\n",
       "      <td>9.8</td>\n",
       "      <td>5</td>\n",
       "      <td>1</td>\n",
       "    </tr>\n",
       "    <tr>\n",
       "      <th>3</th>\n",
       "      <td>11.2</td>\n",
       "      <td>0.28</td>\n",
       "      <td>0.56</td>\n",
       "      <td>1.9</td>\n",
       "      <td>0.075</td>\n",
       "      <td>17.0</td>\n",
       "      <td>60.0</td>\n",
       "      <td>0.9980</td>\n",
       "      <td>3.16</td>\n",
       "      <td>0.58</td>\n",
       "      <td>9.8</td>\n",
       "      <td>6</td>\n",
       "      <td>1</td>\n",
       "    </tr>\n",
       "    <tr>\n",
       "      <th>4</th>\n",
       "      <td>7.4</td>\n",
       "      <td>0.70</td>\n",
       "      <td>0.00</td>\n",
       "      <td>1.9</td>\n",
       "      <td>0.076</td>\n",
       "      <td>11.0</td>\n",
       "      <td>34.0</td>\n",
       "      <td>0.9978</td>\n",
       "      <td>3.51</td>\n",
       "      <td>0.56</td>\n",
       "      <td>9.4</td>\n",
       "      <td>5</td>\n",
       "      <td>1</td>\n",
       "    </tr>\n",
       "  </tbody>\n",
       "</table>\n",
       "</div>"
      ],
      "text/plain": [
       "   fixed acidity  volatile acidity  citric acid  residual sugar  chlorides  \\\n",
       "0            7.4              0.70         0.00             1.9      0.076   \n",
       "1            7.8              0.88         0.00             2.6      0.098   \n",
       "2            7.8              0.76         0.04             2.3      0.092   \n",
       "3           11.2              0.28         0.56             1.9      0.075   \n",
       "4            7.4              0.70         0.00             1.9      0.076   \n",
       "\n",
       "   free sulfur dioxide  total sulfur dioxide  density    pH  sulphates  \\\n",
       "0                 11.0                  34.0   0.9978  3.51       0.56   \n",
       "1                 25.0                  67.0   0.9968  3.20       0.68   \n",
       "2                 15.0                  54.0   0.9970  3.26       0.65   \n",
       "3                 17.0                  60.0   0.9980  3.16       0.58   \n",
       "4                 11.0                  34.0   0.9978  3.51       0.56   \n",
       "\n",
       "   alcohol  quality  red_wine  \n",
       "0      9.4        5         1  \n",
       "1      9.8        5         1  \n",
       "2      9.8        5         1  \n",
       "3      9.8        6         1  \n",
       "4      9.4        5         1  "
      ]
     },
     "execution_count": 21,
     "metadata": {},
     "output_type": "execute_result"
    }
   ],
   "source": [
    "wine = pd.read_csv('data/wine.csv')\n",
    "\n",
    "wine.head()"
   ]
  },
  {
   "cell_type": "code",
   "execution_count": 22,
   "metadata": {
    "hidden": true,
    "scrolled": true
   },
   "outputs": [
    {
     "name": "stdout",
     "output_type": "stream",
     "text": [
      "<class 'pandas.core.frame.DataFrame'>\n",
      "RangeIndex: 6497 entries, 0 to 6496\n",
      "Data columns (total 13 columns):\n",
      " #   Column                Non-Null Count  Dtype  \n",
      "---  ------                --------------  -----  \n",
      " 0   fixed acidity         6497 non-null   float64\n",
      " 1   volatile acidity      6497 non-null   float64\n",
      " 2   citric acid           6497 non-null   float64\n",
      " 3   residual sugar        6497 non-null   float64\n",
      " 4   chlorides             6497 non-null   float64\n",
      " 5   free sulfur dioxide   6497 non-null   float64\n",
      " 6   total sulfur dioxide  6497 non-null   float64\n",
      " 7   density               6497 non-null   float64\n",
      " 8   pH                    6497 non-null   float64\n",
      " 9   sulphates             6497 non-null   float64\n",
      " 10  alcohol               6497 non-null   float64\n",
      " 11  quality               6497 non-null   int64  \n",
      " 12  red_wine              6497 non-null   int64  \n",
      "dtypes: float64(11), int64(2)\n",
      "memory usage: 660.0 KB\n"
     ]
    }
   ],
   "source": [
    "wine.info()"
   ]
  },
  {
   "cell_type": "code",
   "execution_count": 23,
   "metadata": {
    "hidden": true
   },
   "outputs": [
    {
     "data": {
      "text/html": [
       "<div>\n",
       "<style scoped>\n",
       "    .dataframe tbody tr th:only-of-type {\n",
       "        vertical-align: middle;\n",
       "    }\n",
       "\n",
       "    .dataframe tbody tr th {\n",
       "        vertical-align: top;\n",
       "    }\n",
       "\n",
       "    .dataframe thead th {\n",
       "        text-align: right;\n",
       "    }\n",
       "</style>\n",
       "<table border=\"1\" class=\"dataframe\">\n",
       "  <thead>\n",
       "    <tr style=\"text-align: right;\">\n",
       "      <th></th>\n",
       "      <th>fixed acidity</th>\n",
       "      <th>volatile acidity</th>\n",
       "      <th>citric acid</th>\n",
       "      <th>residual sugar</th>\n",
       "      <th>chlorides</th>\n",
       "      <th>free sulfur dioxide</th>\n",
       "      <th>total sulfur dioxide</th>\n",
       "      <th>density</th>\n",
       "      <th>pH</th>\n",
       "      <th>sulphates</th>\n",
       "      <th>alcohol</th>\n",
       "      <th>quality</th>\n",
       "      <th>red_wine</th>\n",
       "    </tr>\n",
       "  </thead>\n",
       "  <tbody>\n",
       "    <tr>\n",
       "      <th>count</th>\n",
       "      <td>6497.000000</td>\n",
       "      <td>6497.000000</td>\n",
       "      <td>6497.000000</td>\n",
       "      <td>6497.000000</td>\n",
       "      <td>6497.000000</td>\n",
       "      <td>6497.000000</td>\n",
       "      <td>6497.000000</td>\n",
       "      <td>6497.000000</td>\n",
       "      <td>6497.000000</td>\n",
       "      <td>6497.000000</td>\n",
       "      <td>6497.000000</td>\n",
       "      <td>6497.000000</td>\n",
       "      <td>6497.000000</td>\n",
       "    </tr>\n",
       "    <tr>\n",
       "      <th>mean</th>\n",
       "      <td>7.215307</td>\n",
       "      <td>0.339666</td>\n",
       "      <td>0.318633</td>\n",
       "      <td>5.443235</td>\n",
       "      <td>0.056034</td>\n",
       "      <td>30.525319</td>\n",
       "      <td>115.744574</td>\n",
       "      <td>0.994697</td>\n",
       "      <td>3.218501</td>\n",
       "      <td>0.531268</td>\n",
       "      <td>10.491801</td>\n",
       "      <td>5.818378</td>\n",
       "      <td>0.246114</td>\n",
       "    </tr>\n",
       "    <tr>\n",
       "      <th>std</th>\n",
       "      <td>1.296434</td>\n",
       "      <td>0.164636</td>\n",
       "      <td>0.145318</td>\n",
       "      <td>4.757804</td>\n",
       "      <td>0.035034</td>\n",
       "      <td>17.749400</td>\n",
       "      <td>56.521855</td>\n",
       "      <td>0.002999</td>\n",
       "      <td>0.160787</td>\n",
       "      <td>0.148806</td>\n",
       "      <td>1.192712</td>\n",
       "      <td>0.873255</td>\n",
       "      <td>0.430779</td>\n",
       "    </tr>\n",
       "    <tr>\n",
       "      <th>min</th>\n",
       "      <td>3.800000</td>\n",
       "      <td>0.080000</td>\n",
       "      <td>0.000000</td>\n",
       "      <td>0.600000</td>\n",
       "      <td>0.009000</td>\n",
       "      <td>1.000000</td>\n",
       "      <td>6.000000</td>\n",
       "      <td>0.987110</td>\n",
       "      <td>2.720000</td>\n",
       "      <td>0.220000</td>\n",
       "      <td>8.000000</td>\n",
       "      <td>3.000000</td>\n",
       "      <td>0.000000</td>\n",
       "    </tr>\n",
       "    <tr>\n",
       "      <th>25%</th>\n",
       "      <td>6.400000</td>\n",
       "      <td>0.230000</td>\n",
       "      <td>0.250000</td>\n",
       "      <td>1.800000</td>\n",
       "      <td>0.038000</td>\n",
       "      <td>17.000000</td>\n",
       "      <td>77.000000</td>\n",
       "      <td>0.992340</td>\n",
       "      <td>3.110000</td>\n",
       "      <td>0.430000</td>\n",
       "      <td>9.500000</td>\n",
       "      <td>5.000000</td>\n",
       "      <td>0.000000</td>\n",
       "    </tr>\n",
       "    <tr>\n",
       "      <th>50%</th>\n",
       "      <td>7.000000</td>\n",
       "      <td>0.290000</td>\n",
       "      <td>0.310000</td>\n",
       "      <td>3.000000</td>\n",
       "      <td>0.047000</td>\n",
       "      <td>29.000000</td>\n",
       "      <td>118.000000</td>\n",
       "      <td>0.994890</td>\n",
       "      <td>3.210000</td>\n",
       "      <td>0.510000</td>\n",
       "      <td>10.300000</td>\n",
       "      <td>6.000000</td>\n",
       "      <td>0.000000</td>\n",
       "    </tr>\n",
       "    <tr>\n",
       "      <th>75%</th>\n",
       "      <td>7.700000</td>\n",
       "      <td>0.400000</td>\n",
       "      <td>0.390000</td>\n",
       "      <td>8.100000</td>\n",
       "      <td>0.065000</td>\n",
       "      <td>41.000000</td>\n",
       "      <td>156.000000</td>\n",
       "      <td>0.996990</td>\n",
       "      <td>3.320000</td>\n",
       "      <td>0.600000</td>\n",
       "      <td>11.300000</td>\n",
       "      <td>6.000000</td>\n",
       "      <td>0.000000</td>\n",
       "    </tr>\n",
       "    <tr>\n",
       "      <th>max</th>\n",
       "      <td>15.900000</td>\n",
       "      <td>1.580000</td>\n",
       "      <td>1.660000</td>\n",
       "      <td>65.800000</td>\n",
       "      <td>0.611000</td>\n",
       "      <td>289.000000</td>\n",
       "      <td>440.000000</td>\n",
       "      <td>1.038980</td>\n",
       "      <td>4.010000</td>\n",
       "      <td>2.000000</td>\n",
       "      <td>14.900000</td>\n",
       "      <td>9.000000</td>\n",
       "      <td>1.000000</td>\n",
       "    </tr>\n",
       "  </tbody>\n",
       "</table>\n",
       "</div>"
      ],
      "text/plain": [
       "       fixed acidity  volatile acidity  citric acid  residual sugar  \\\n",
       "count    6497.000000       6497.000000  6497.000000     6497.000000   \n",
       "mean        7.215307          0.339666     0.318633        5.443235   \n",
       "std         1.296434          0.164636     0.145318        4.757804   \n",
       "min         3.800000          0.080000     0.000000        0.600000   \n",
       "25%         6.400000          0.230000     0.250000        1.800000   \n",
       "50%         7.000000          0.290000     0.310000        3.000000   \n",
       "75%         7.700000          0.400000     0.390000        8.100000   \n",
       "max        15.900000          1.580000     1.660000       65.800000   \n",
       "\n",
       "         chlorides  free sulfur dioxide  total sulfur dioxide      density  \\\n",
       "count  6497.000000          6497.000000           6497.000000  6497.000000   \n",
       "mean      0.056034            30.525319            115.744574     0.994697   \n",
       "std       0.035034            17.749400             56.521855     0.002999   \n",
       "min       0.009000             1.000000              6.000000     0.987110   \n",
       "25%       0.038000            17.000000             77.000000     0.992340   \n",
       "50%       0.047000            29.000000            118.000000     0.994890   \n",
       "75%       0.065000            41.000000            156.000000     0.996990   \n",
       "max       0.611000           289.000000            440.000000     1.038980   \n",
       "\n",
       "                pH    sulphates      alcohol      quality     red_wine  \n",
       "count  6497.000000  6497.000000  6497.000000  6497.000000  6497.000000  \n",
       "mean      3.218501     0.531268    10.491801     5.818378     0.246114  \n",
       "std       0.160787     0.148806     1.192712     0.873255     0.430779  \n",
       "min       2.720000     0.220000     8.000000     3.000000     0.000000  \n",
       "25%       3.110000     0.430000     9.500000     5.000000     0.000000  \n",
       "50%       3.210000     0.510000    10.300000     6.000000     0.000000  \n",
       "75%       3.320000     0.600000    11.300000     6.000000     0.000000  \n",
       "max       4.010000     2.000000    14.900000     9.000000     1.000000  "
      ]
     },
     "execution_count": 23,
     "metadata": {},
     "output_type": "execute_result"
    }
   ],
   "source": [
    "wine.describe()"
   ]
  },
  {
   "cell_type": "markdown",
   "metadata": {
    "hidden": true
   },
   "source": [
    "Imagine we want to attempt to estimate the perceived quality of a wine using these attributes."
   ]
  },
  {
   "cell_type": "code",
   "execution_count": 24,
   "metadata": {
    "hidden": true,
    "scrolled": true
   },
   "outputs": [
    {
     "data": {
      "text/plain": [
       "6    2836\n",
       "5    2138\n",
       "7    1079\n",
       "4     216\n",
       "8     193\n",
       "3      30\n",
       "9       5\n",
       "Name: quality, dtype: int64"
      ]
     },
     "execution_count": 24,
     "metadata": {},
     "output_type": "execute_result"
    }
   ],
   "source": [
    "wine['quality'].value_counts()"
   ]
  },
  {
   "cell_type": "code",
   "execution_count": 25,
   "metadata": {
    "hidden": true,
    "scrolled": true
   },
   "outputs": [
    {
     "data": {
      "text/plain": [
       "0    4898\n",
       "1    1599\n",
       "Name: red_wine, dtype: int64"
      ]
     },
     "execution_count": 25,
     "metadata": {},
     "output_type": "execute_result"
    }
   ],
   "source": [
    "wine['red_wine'].value_counts()"
   ]
  },
  {
   "cell_type": "code",
   "execution_count": 27,
   "metadata": {},
   "outputs": [
    {
     "data": {
      "text/plain": [
       "<AxesSubplot:>"
      ]
     },
     "execution_count": 27,
     "metadata": {},
     "output_type": "execute_result"
    },
    {
     "data": {
      "image/png": "[encoded data removed]",
      "text/plain": [
       "<Figure size 432x288 with 1 Axes>"
      ]
     },
     "metadata": {
      "needs_background": "light"
     },
     "output_type": "display_data"
    }
   ],
   "source": [
    "wine['quality'].hist(bins='auto')"
   ]
  },
  {
   "cell_type": "markdown",
   "metadata": {
    "heading_collapsed": true,
    "hidden": true
   },
   "source": [
    "### 🧠 **Knowledge Check**"
   ]
  },
  {
   "cell_type": "markdown",
   "metadata": {
    "hidden": true
   },
   "source": [
    "> Why are we using \"quality\" as the dependent variable (target)? Would it make sense for another feature to be the target instead?"
   ]
  },
  {
   "cell_type": "markdown",
   "metadata": {
    "heading_collapsed": true,
    "hidden": true
   },
   "source": [
    "## Running the Regression"
   ]
  },
  {
   "cell_type": "markdown",
   "metadata": {
    "hidden": true
   },
   "source": [
    "First, we'll separate the data into our predictors (X) and target (y)"
   ]
  },
  {
   "cell_type": "code",
   "execution_count": 28,
   "metadata": {
    "hidden": true,
    "scrolled": true
   },
   "outputs": [
    {
     "data": {
      "text/html": [
       "<div>\n",
       "<style scoped>\n",
       "    .dataframe tbody tr th:only-of-type {\n",
       "        vertical-align: middle;\n",
       "    }\n",
       "\n",
       "    .dataframe tbody tr th {\n",
       "        vertical-align: top;\n",
       "    }\n",
       "\n",
       "    .dataframe thead th {\n",
       "        text-align: right;\n",
       "    }\n",
       "</style>\n",
       "<table border=\"1\" class=\"dataframe\">\n",
       "  <thead>\n",
       "    <tr style=\"text-align: right;\">\n",
       "      <th></th>\n",
       "      <th>fixed acidity</th>\n",
       "      <th>volatile acidity</th>\n",
       "      <th>citric acid</th>\n",
       "      <th>residual sugar</th>\n",
       "      <th>chlorides</th>\n",
       "      <th>free sulfur dioxide</th>\n",
       "      <th>total sulfur dioxide</th>\n",
       "      <th>density</th>\n",
       "      <th>pH</th>\n",
       "      <th>sulphates</th>\n",
       "      <th>alcohol</th>\n",
       "      <th>red_wine</th>\n",
       "    </tr>\n",
       "  </thead>\n",
       "  <tbody>\n",
       "    <tr>\n",
       "      <th>0</th>\n",
       "      <td>7.4</td>\n",
       "      <td>0.70</td>\n",
       "      <td>0.00</td>\n",
       "      <td>1.9</td>\n",
       "      <td>0.076</td>\n",
       "      <td>11.0</td>\n",
       "      <td>34.0</td>\n",
       "      <td>0.9978</td>\n",
       "      <td>3.51</td>\n",
       "      <td>0.56</td>\n",
       "      <td>9.4</td>\n",
       "      <td>1</td>\n",
       "    </tr>\n",
       "    <tr>\n",
       "      <th>1</th>\n",
       "      <td>7.8</td>\n",
       "      <td>0.88</td>\n",
       "      <td>0.00</td>\n",
       "      <td>2.6</td>\n",
       "      <td>0.098</td>\n",
       "      <td>25.0</td>\n",
       "      <td>67.0</td>\n",
       "      <td>0.9968</td>\n",
       "      <td>3.20</td>\n",
       "      <td>0.68</td>\n",
       "      <td>9.8</td>\n",
       "      <td>1</td>\n",
       "    </tr>\n",
       "    <tr>\n",
       "      <th>2</th>\n",
       "      <td>7.8</td>\n",
       "      <td>0.76</td>\n",
       "      <td>0.04</td>\n",
       "      <td>2.3</td>\n",
       "      <td>0.092</td>\n",
       "      <td>15.0</td>\n",
       "      <td>54.0</td>\n",
       "      <td>0.9970</td>\n",
       "      <td>3.26</td>\n",
       "      <td>0.65</td>\n",
       "      <td>9.8</td>\n",
       "      <td>1</td>\n",
       "    </tr>\n",
       "    <tr>\n",
       "      <th>3</th>\n",
       "      <td>11.2</td>\n",
       "      <td>0.28</td>\n",
       "      <td>0.56</td>\n",
       "      <td>1.9</td>\n",
       "      <td>0.075</td>\n",
       "      <td>17.0</td>\n",
       "      <td>60.0</td>\n",
       "      <td>0.9980</td>\n",
       "      <td>3.16</td>\n",
       "      <td>0.58</td>\n",
       "      <td>9.8</td>\n",
       "      <td>1</td>\n",
       "    </tr>\n",
       "    <tr>\n",
       "      <th>4</th>\n",
       "      <td>7.4</td>\n",
       "      <td>0.70</td>\n",
       "      <td>0.00</td>\n",
       "      <td>1.9</td>\n",
       "      <td>0.076</td>\n",
       "      <td>11.0</td>\n",
       "      <td>34.0</td>\n",
       "      <td>0.9978</td>\n",
       "      <td>3.51</td>\n",
       "      <td>0.56</td>\n",
       "      <td>9.4</td>\n",
       "      <td>1</td>\n",
       "    </tr>\n",
       "  </tbody>\n",
       "</table>\n",
       "</div>"
      ],
      "text/plain": [
       "   fixed acidity  volatile acidity  citric acid  residual sugar  chlorides  \\\n",
       "0            7.4              0.70         0.00             1.9      0.076   \n",
       "1            7.8              0.88         0.00             2.6      0.098   \n",
       "2            7.8              0.76         0.04             2.3      0.092   \n",
       "3           11.2              0.28         0.56             1.9      0.075   \n",
       "4            7.4              0.70         0.00             1.9      0.076   \n",
       "\n",
       "   free sulfur dioxide  total sulfur dioxide  density    pH  sulphates  \\\n",
       "0                 11.0                  34.0   0.9978  3.51       0.56   \n",
       "1                 25.0                  67.0   0.9968  3.20       0.68   \n",
       "2                 15.0                  54.0   0.9970  3.26       0.65   \n",
       "3                 17.0                  60.0   0.9980  3.16       0.58   \n",
       "4                 11.0                  34.0   0.9978  3.51       0.56   \n",
       "\n",
       "   alcohol  red_wine  \n",
       "0      9.4         1  \n",
       "1      9.8         1  \n",
       "2      9.8         1  \n",
       "3      9.8         1  \n",
       "4      9.4         1  "
      ]
     },
     "execution_count": 28,
     "metadata": {},
     "output_type": "execute_result"
    }
   ],
   "source": [
    "wine_x = wine.drop('quality', axis=1)\n",
    "wine_y = wine['quality']\n",
    "wine_x.head()"
   ]
  },
  {
   "cell_type": "markdown",
   "metadata": {
    "hidden": true
   },
   "source": [
    "Now we can perform our (multiple) linear regression!"
   ]
  },
  {
   "cell_type": "markdown",
   "metadata": {},
   "source": [
    "### Adding an Intercept (\"Bias\", \"Constant\") Term"
   ]
  },
  {
   "cell_type": "markdown",
   "metadata": {},
   "source": [
    "When we were looking at *simple* linear regression, we generally assumed that there would be an intercept term ($\\beta_0$) as well as a slope term ($\\beta_1$). That will be no less true for multiple linear regression. So this time let's add an intercept term. We can do that by simply adding a column of ones to our dataset, and `statsmodels` has a shortcut for that."
   ]
  },
  {
   "cell_type": "code",
   "execution_count": null,
   "metadata": {},
   "outputs": [],
   "source": [
    "formula = 'quality ~ fixed_acidicty + vol......'"
   ]
  },
  {
   "cell_type": "code",
   "execution_count": 29,
   "metadata": {
    "hidden": true
   },
   "outputs": [
    {
     "data": {
      "text/html": [
       "<div>\n",
       "<style scoped>\n",
       "    .dataframe tbody tr th:only-of-type {\n",
       "        vertical-align: middle;\n",
       "    }\n",
       "\n",
       "    .dataframe tbody tr th {\n",
       "        vertical-align: top;\n",
       "    }\n",
       "\n",
       "    .dataframe thead th {\n",
       "        text-align: right;\n",
       "    }\n",
       "</style>\n",
       "<table border=\"1\" class=\"dataframe\">\n",
       "  <thead>\n",
       "    <tr style=\"text-align: right;\">\n",
       "      <th></th>\n",
       "      <th>const</th>\n",
       "      <th>fixed acidity</th>\n",
       "      <th>volatile acidity</th>\n",
       "      <th>citric acid</th>\n",
       "      <th>residual sugar</th>\n",
       "      <th>chlorides</th>\n",
       "      <th>free sulfur dioxide</th>\n",
       "      <th>total sulfur dioxide</th>\n",
       "      <th>density</th>\n",
       "      <th>pH</th>\n",
       "      <th>sulphates</th>\n",
       "      <th>alcohol</th>\n",
       "      <th>red_wine</th>\n",
       "    </tr>\n",
       "  </thead>\n",
       "  <tbody>\n",
       "    <tr>\n",
       "      <th>0</th>\n",
       "      <td>1.0</td>\n",
       "      <td>7.4</td>\n",
       "      <td>0.70</td>\n",
       "      <td>0.00</td>\n",
       "      <td>1.9</td>\n",
       "      <td>0.076</td>\n",
       "      <td>11.0</td>\n",
       "      <td>34.0</td>\n",
       "      <td>0.99780</td>\n",
       "      <td>3.51</td>\n",
       "      <td>0.56</td>\n",
       "      <td>9.4</td>\n",
       "      <td>1</td>\n",
       "    </tr>\n",
       "    <tr>\n",
       "      <th>1</th>\n",
       "      <td>1.0</td>\n",
       "      <td>7.8</td>\n",
       "      <td>0.88</td>\n",
       "      <td>0.00</td>\n",
       "      <td>2.6</td>\n",
       "      <td>0.098</td>\n",
       "      <td>25.0</td>\n",
       "      <td>67.0</td>\n",
       "      <td>0.99680</td>\n",
       "      <td>3.20</td>\n",
       "      <td>0.68</td>\n",
       "      <td>9.8</td>\n",
       "      <td>1</td>\n",
       "    </tr>\n",
       "    <tr>\n",
       "      <th>2</th>\n",
       "      <td>1.0</td>\n",
       "      <td>7.8</td>\n",
       "      <td>0.76</td>\n",
       "      <td>0.04</td>\n",
       "      <td>2.3</td>\n",
       "      <td>0.092</td>\n",
       "      <td>15.0</td>\n",
       "      <td>54.0</td>\n",
       "      <td>0.99700</td>\n",
       "      <td>3.26</td>\n",
       "      <td>0.65</td>\n",
       "      <td>9.8</td>\n",
       "      <td>1</td>\n",
       "    </tr>\n",
       "    <tr>\n",
       "      <th>3</th>\n",
       "      <td>1.0</td>\n",
       "      <td>11.2</td>\n",
       "      <td>0.28</td>\n",
       "      <td>0.56</td>\n",
       "      <td>1.9</td>\n",
       "      <td>0.075</td>\n",
       "      <td>17.0</td>\n",
       "      <td>60.0</td>\n",
       "      <td>0.99800</td>\n",
       "      <td>3.16</td>\n",
       "      <td>0.58</td>\n",
       "      <td>9.8</td>\n",
       "      <td>1</td>\n",
       "    </tr>\n",
       "    <tr>\n",
       "      <th>4</th>\n",
       "      <td>1.0</td>\n",
       "      <td>7.4</td>\n",
       "      <td>0.70</td>\n",
       "      <td>0.00</td>\n",
       "      <td>1.9</td>\n",
       "      <td>0.076</td>\n",
       "      <td>11.0</td>\n",
       "      <td>34.0</td>\n",
       "      <td>0.99780</td>\n",
       "      <td>3.51</td>\n",
       "      <td>0.56</td>\n",
       "      <td>9.4</td>\n",
       "      <td>1</td>\n",
       "    </tr>\n",
       "    <tr>\n",
       "      <th>...</th>\n",
       "      <td>...</td>\n",
       "      <td>...</td>\n",
       "      <td>...</td>\n",
       "      <td>...</td>\n",
       "      <td>...</td>\n",
       "      <td>...</td>\n",
       "      <td>...</td>\n",
       "      <td>...</td>\n",
       "      <td>...</td>\n",
       "      <td>...</td>\n",
       "      <td>...</td>\n",
       "      <td>...</td>\n",
       "      <td>...</td>\n",
       "    </tr>\n",
       "    <tr>\n",
       "      <th>6492</th>\n",
       "      <td>1.0</td>\n",
       "      <td>6.2</td>\n",
       "      <td>0.21</td>\n",
       "      <td>0.29</td>\n",
       "      <td>1.6</td>\n",
       "      <td>0.039</td>\n",
       "      <td>24.0</td>\n",
       "      <td>92.0</td>\n",
       "      <td>0.99114</td>\n",
       "      <td>3.27</td>\n",
       "      <td>0.50</td>\n",
       "      <td>11.2</td>\n",
       "      <td>0</td>\n",
       "    </tr>\n",
       "    <tr>\n",
       "      <th>6493</th>\n",
       "      <td>1.0</td>\n",
       "      <td>6.6</td>\n",
       "      <td>0.32</td>\n",
       "      <td>0.36</td>\n",
       "      <td>8.0</td>\n",
       "      <td>0.047</td>\n",
       "      <td>57.0</td>\n",
       "      <td>168.0</td>\n",
       "      <td>0.99490</td>\n",
       "      <td>3.15</td>\n",
       "      <td>0.46</td>\n",
       "      <td>9.6</td>\n",
       "      <td>0</td>\n",
       "    </tr>\n",
       "    <tr>\n",
       "      <th>6494</th>\n",
       "      <td>1.0</td>\n",
       "      <td>6.5</td>\n",
       "      <td>0.24</td>\n",
       "      <td>0.19</td>\n",
       "      <td>1.2</td>\n",
       "      <td>0.041</td>\n",
       "      <td>30.0</td>\n",
       "      <td>111.0</td>\n",
       "      <td>0.99254</td>\n",
       "      <td>2.99</td>\n",
       "      <td>0.46</td>\n",
       "      <td>9.4</td>\n",
       "      <td>0</td>\n",
       "    </tr>\n",
       "    <tr>\n",
       "      <th>6495</th>\n",
       "      <td>1.0</td>\n",
       "      <td>5.5</td>\n",
       "      <td>0.29</td>\n",
       "      <td>0.30</td>\n",
       "      <td>1.1</td>\n",
       "      <td>0.022</td>\n",
       "      <td>20.0</td>\n",
       "      <td>110.0</td>\n",
       "      <td>0.98869</td>\n",
       "      <td>3.34</td>\n",
       "      <td>0.38</td>\n",
       "      <td>12.8</td>\n",
       "      <td>0</td>\n",
       "    </tr>\n",
       "    <tr>\n",
       "      <th>6496</th>\n",
       "      <td>1.0</td>\n",
       "      <td>6.0</td>\n",
       "      <td>0.21</td>\n",
       "      <td>0.38</td>\n",
       "      <td>0.8</td>\n",
       "      <td>0.020</td>\n",
       "      <td>22.0</td>\n",
       "      <td>98.0</td>\n",
       "      <td>0.98941</td>\n",
       "      <td>3.26</td>\n",
       "      <td>0.32</td>\n",
       "      <td>11.8</td>\n",
       "      <td>0</td>\n",
       "    </tr>\n",
       "  </tbody>\n",
       "</table>\n",
       "<p>6497 rows × 13 columns</p>\n",
       "</div>"
      ],
      "text/plain": [
       "      const  fixed acidity  volatile acidity  citric acid  residual sugar  \\\n",
       "0       1.0            7.4              0.70         0.00             1.9   \n",
       "1       1.0            7.8              0.88         0.00             2.6   \n",
       "2       1.0            7.8              0.76         0.04             2.3   \n",
       "3       1.0           11.2              0.28         0.56             1.9   \n",
       "4       1.0            7.4              0.70         0.00             1.9   \n",
       "...     ...            ...               ...          ...             ...   \n",
       "6492    1.0            6.2              0.21         0.29             1.6   \n",
       "6493    1.0            6.6              0.32         0.36             8.0   \n",
       "6494    1.0            6.5              0.24         0.19             1.2   \n",
       "6495    1.0            5.5              0.29         0.30             1.1   \n",
       "6496    1.0            6.0              0.21         0.38             0.8   \n",
       "\n",
       "      chlorides  free sulfur dioxide  total sulfur dioxide  density    pH  \\\n",
       "0         0.076                 11.0                  34.0  0.99780  3.51   \n",
       "1         0.098                 25.0                  67.0  0.99680  3.20   \n",
       "2         0.092                 15.0                  54.0  0.99700  3.26   \n",
       "3         0.075                 17.0                  60.0  0.99800  3.16   \n",
       "4         0.076                 11.0                  34.0  0.99780  3.51   \n",
       "...         ...                  ...                   ...      ...   ...   \n",
       "6492      0.039                 24.0                  92.0  0.99114  3.27   \n",
       "6493      0.047                 57.0                 168.0  0.99490  3.15   \n",
       "6494      0.041                 30.0                 111.0  0.99254  2.99   \n",
       "6495      0.022                 20.0                 110.0  0.98869  3.34   \n",
       "6496      0.020                 22.0                  98.0  0.98941  3.26   \n",
       "\n",
       "      sulphates  alcohol  red_wine  \n",
       "0          0.56      9.4         1  \n",
       "1          0.68      9.8         1  \n",
       "2          0.65      9.8         1  \n",
       "3          0.58      9.8         1  \n",
       "4          0.56      9.4         1  \n",
       "...         ...      ...       ...  \n",
       "6492       0.50     11.2         0  \n",
       "6493       0.46      9.6         0  \n",
       "6494       0.46      9.4         0  \n",
       "6495       0.38     12.8         0  \n",
       "6496       0.32     11.8         0  \n",
       "\n",
       "[6497 rows x 13 columns]"
      ]
     },
     "execution_count": 29,
     "metadata": {},
     "output_type": "execute_result"
    }
   ],
   "source": [
    "# use sm.add_constant() to add constant term/y-intercept\n",
    "predictors = sm.add_constant(wine_x)\n",
    "predictors"
   ]
  },
  {
   "cell_type": "code",
   "execution_count": 30,
   "metadata": {
    "hidden": true
   },
   "outputs": [],
   "source": [
    "model = sm.OLS(wine_y, predictors).fit()"
   ]
  },
  {
   "cell_type": "markdown",
   "metadata": {
    "hidden": true
   },
   "source": [
    "> All right! So we fitted our model! Take a look at the summary and look if you can understand the different parts."
   ]
  },
  {
   "cell_type": "code",
   "execution_count": 33,
   "metadata": {},
   "outputs": [
    {
     "data": {
      "text/html": [
       "<div>\n",
       "<style scoped>\n",
       "    .dataframe tbody tr th:only-of-type {\n",
       "        vertical-align: middle;\n",
       "    }\n",
       "\n",
       "    .dataframe tbody tr th {\n",
       "        vertical-align: top;\n",
       "    }\n",
       "\n",
       "    .dataframe thead th {\n",
       "        text-align: right;\n",
       "    }\n",
       "</style>\n",
       "<table border=\"1\" class=\"dataframe\">\n",
       "  <thead>\n",
       "    <tr style=\"text-align: right;\">\n",
       "      <th></th>\n",
       "      <th>fixed acidity</th>\n",
       "      <th>volatile acidity</th>\n",
       "      <th>citric acid</th>\n",
       "      <th>residual sugar</th>\n",
       "      <th>chlorides</th>\n",
       "      <th>free sulfur dioxide</th>\n",
       "      <th>total sulfur dioxide</th>\n",
       "      <th>density</th>\n",
       "      <th>pH</th>\n",
       "      <th>sulphates</th>\n",
       "      <th>alcohol</th>\n",
       "      <th>quality</th>\n",
       "      <th>red_wine</th>\n",
       "    </tr>\n",
       "  </thead>\n",
       "  <tbody>\n",
       "    <tr>\n",
       "      <th>fixed acidity</th>\n",
       "      <td>1.000000</td>\n",
       "      <td>0.219008</td>\n",
       "      <td>0.324436</td>\n",
       "      <td>-0.111981</td>\n",
       "      <td>0.298195</td>\n",
       "      <td>-0.282735</td>\n",
       "      <td>-0.329054</td>\n",
       "      <td>0.458910</td>\n",
       "      <td>-0.252700</td>\n",
       "      <td>0.299568</td>\n",
       "      <td>-0.095452</td>\n",
       "      <td>-0.076743</td>\n",
       "      <td>0.486740</td>\n",
       "    </tr>\n",
       "    <tr>\n",
       "      <th>volatile acidity</th>\n",
       "      <td>0.219008</td>\n",
       "      <td>1.000000</td>\n",
       "      <td>-0.377981</td>\n",
       "      <td>-0.196011</td>\n",
       "      <td>0.377124</td>\n",
       "      <td>-0.352557</td>\n",
       "      <td>-0.414476</td>\n",
       "      <td>0.271296</td>\n",
       "      <td>0.261454</td>\n",
       "      <td>0.225984</td>\n",
       "      <td>-0.037640</td>\n",
       "      <td>-0.265699</td>\n",
       "      <td>0.653036</td>\n",
       "    </tr>\n",
       "    <tr>\n",
       "      <th>citric acid</th>\n",
       "      <td>0.324436</td>\n",
       "      <td>-0.377981</td>\n",
       "      <td>1.000000</td>\n",
       "      <td>0.142451</td>\n",
       "      <td>0.038998</td>\n",
       "      <td>0.133126</td>\n",
       "      <td>0.195242</td>\n",
       "      <td>0.096154</td>\n",
       "      <td>-0.329808</td>\n",
       "      <td>0.056197</td>\n",
       "      <td>-0.010493</td>\n",
       "      <td>0.085532</td>\n",
       "      <td>-0.187397</td>\n",
       "    </tr>\n",
       "    <tr>\n",
       "      <th>residual sugar</th>\n",
       "      <td>-0.111981</td>\n",
       "      <td>-0.196011</td>\n",
       "      <td>0.142451</td>\n",
       "      <td>1.000000</td>\n",
       "      <td>-0.128940</td>\n",
       "      <td>0.402871</td>\n",
       "      <td>0.495482</td>\n",
       "      <td>0.552517</td>\n",
       "      <td>-0.267320</td>\n",
       "      <td>-0.185927</td>\n",
       "      <td>-0.359415</td>\n",
       "      <td>-0.036980</td>\n",
       "      <td>-0.348821</td>\n",
       "    </tr>\n",
       "    <tr>\n",
       "      <th>chlorides</th>\n",
       "      <td>0.298195</td>\n",
       "      <td>0.377124</td>\n",
       "      <td>0.038998</td>\n",
       "      <td>-0.128940</td>\n",
       "      <td>1.000000</td>\n",
       "      <td>-0.195045</td>\n",
       "      <td>-0.279630</td>\n",
       "      <td>0.362615</td>\n",
       "      <td>0.044708</td>\n",
       "      <td>0.395593</td>\n",
       "      <td>-0.256916</td>\n",
       "      <td>-0.200666</td>\n",
       "      <td>0.512678</td>\n",
       "    </tr>\n",
       "    <tr>\n",
       "      <th>free sulfur dioxide</th>\n",
       "      <td>-0.282735</td>\n",
       "      <td>-0.352557</td>\n",
       "      <td>0.133126</td>\n",
       "      <td>0.402871</td>\n",
       "      <td>-0.195045</td>\n",
       "      <td>1.000000</td>\n",
       "      <td>0.720934</td>\n",
       "      <td>0.025717</td>\n",
       "      <td>-0.145854</td>\n",
       "      <td>-0.188457</td>\n",
       "      <td>-0.179838</td>\n",
       "      <td>0.055463</td>\n",
       "      <td>-0.471644</td>\n",
       "    </tr>\n",
       "    <tr>\n",
       "      <th>total sulfur dioxide</th>\n",
       "      <td>-0.329054</td>\n",
       "      <td>-0.414476</td>\n",
       "      <td>0.195242</td>\n",
       "      <td>0.495482</td>\n",
       "      <td>-0.279630</td>\n",
       "      <td>0.720934</td>\n",
       "      <td>1.000000</td>\n",
       "      <td>0.032395</td>\n",
       "      <td>-0.238413</td>\n",
       "      <td>-0.275727</td>\n",
       "      <td>-0.265740</td>\n",
       "      <td>-0.041385</td>\n",
       "      <td>-0.700357</td>\n",
       "    </tr>\n",
       "    <tr>\n",
       "      <th>density</th>\n",
       "      <td>0.458910</td>\n",
       "      <td>0.271296</td>\n",
       "      <td>0.096154</td>\n",
       "      <td>0.552517</td>\n",
       "      <td>0.362615</td>\n",
       "      <td>0.025717</td>\n",
       "      <td>0.032395</td>\n",
       "      <td>1.000000</td>\n",
       "      <td>0.011686</td>\n",
       "      <td>0.259478</td>\n",
       "      <td>-0.686745</td>\n",
       "      <td>-0.305858</td>\n",
       "      <td>0.390645</td>\n",
       "    </tr>\n",
       "    <tr>\n",
       "      <th>pH</th>\n",
       "      <td>-0.252700</td>\n",
       "      <td>0.261454</td>\n",
       "      <td>-0.329808</td>\n",
       "      <td>-0.267320</td>\n",
       "      <td>0.044708</td>\n",
       "      <td>-0.145854</td>\n",
       "      <td>-0.238413</td>\n",
       "      <td>0.011686</td>\n",
       "      <td>1.000000</td>\n",
       "      <td>0.192123</td>\n",
       "      <td>0.121248</td>\n",
       "      <td>0.019506</td>\n",
       "      <td>0.329129</td>\n",
       "    </tr>\n",
       "    <tr>\n",
       "      <th>sulphates</th>\n",
       "      <td>0.299568</td>\n",
       "      <td>0.225984</td>\n",
       "      <td>0.056197</td>\n",
       "      <td>-0.185927</td>\n",
       "      <td>0.395593</td>\n",
       "      <td>-0.188457</td>\n",
       "      <td>-0.275727</td>\n",
       "      <td>0.259478</td>\n",
       "      <td>0.192123</td>\n",
       "      <td>1.000000</td>\n",
       "      <td>-0.003029</td>\n",
       "      <td>0.038485</td>\n",
       "      <td>0.487218</td>\n",
       "    </tr>\n",
       "    <tr>\n",
       "      <th>alcohol</th>\n",
       "      <td>-0.095452</td>\n",
       "      <td>-0.037640</td>\n",
       "      <td>-0.010493</td>\n",
       "      <td>-0.359415</td>\n",
       "      <td>-0.256916</td>\n",
       "      <td>-0.179838</td>\n",
       "      <td>-0.265740</td>\n",
       "      <td>-0.686745</td>\n",
       "      <td>0.121248</td>\n",
       "      <td>-0.003029</td>\n",
       "      <td>1.000000</td>\n",
       "      <td>0.444319</td>\n",
       "      <td>-0.032970</td>\n",
       "    </tr>\n",
       "    <tr>\n",
       "      <th>quality</th>\n",
       "      <td>-0.076743</td>\n",
       "      <td>-0.265699</td>\n",
       "      <td>0.085532</td>\n",
       "      <td>-0.036980</td>\n",
       "      <td>-0.200666</td>\n",
       "      <td>0.055463</td>\n",
       "      <td>-0.041385</td>\n",
       "      <td>-0.305858</td>\n",
       "      <td>0.019506</td>\n",
       "      <td>0.038485</td>\n",
       "      <td>0.444319</td>\n",
       "      <td>1.000000</td>\n",
       "      <td>-0.119323</td>\n",
       "    </tr>\n",
       "    <tr>\n",
       "      <th>red_wine</th>\n",
       "      <td>0.486740</td>\n",
       "      <td>0.653036</td>\n",
       "      <td>-0.187397</td>\n",
       "      <td>-0.348821</td>\n",
       "      <td>0.512678</td>\n",
       "      <td>-0.471644</td>\n",
       "      <td>-0.700357</td>\n",
       "      <td>0.390645</td>\n",
       "      <td>0.329129</td>\n",
       "      <td>0.487218</td>\n",
       "      <td>-0.032970</td>\n",
       "      <td>-0.119323</td>\n",
       "      <td>1.000000</td>\n",
       "    </tr>\n",
       "  </tbody>\n",
       "</table>\n",
       "</div>"
      ],
      "text/plain": [
       "                      fixed acidity  volatile acidity  citric acid  \\\n",
       "fixed acidity              1.000000          0.219008     0.324436   \n",
       "volatile acidity           0.219008          1.000000    -0.377981   \n",
       "citric acid                0.324436         -0.377981     1.000000   \n",
       "residual sugar            -0.111981         -0.196011     0.142451   \n",
       "chlorides                  0.298195          0.377124     0.038998   \n",
       "free sulfur dioxide       -0.282735         -0.352557     0.133126   \n",
       "total sulfur dioxide      -0.329054         -0.414476     0.195242   \n",
       "density                    0.458910          0.271296     0.096154   \n",
       "pH                        -0.252700          0.261454    -0.329808   \n",
       "sulphates                  0.299568          0.225984     0.056197   \n",
       "alcohol                   -0.095452         -0.037640    -0.010493   \n",
       "quality                   -0.076743         -0.265699     0.085532   \n",
       "red_wine                   0.486740          0.653036    -0.187397   \n",
       "\n",
       "                      residual sugar  chlorides  free sulfur dioxide  \\\n",
       "fixed acidity              -0.111981   0.298195            -0.282735   \n",
       "volatile acidity           -0.196011   0.377124            -0.352557   \n",
       "citric acid                 0.142451   0.038998             0.133126   \n",
       "residual sugar              1.000000  -0.128940             0.402871   \n",
       "chlorides                  -0.128940   1.000000            -0.195045   \n",
       "free sulfur dioxide         0.402871  -0.195045             1.000000   \n",
       "total sulfur dioxide        0.495482  -0.279630             0.720934   \n",
       "density                     0.552517   0.362615             0.025717   \n",
       "pH                         -0.267320   0.044708            -0.145854   \n",
       "sulphates                  -0.185927   0.395593            -0.188457   \n",
       "alcohol                    -0.359415  -0.256916            -0.179838   \n",
       "quality                    -0.036980  -0.200666             0.055463   \n",
       "red_wine                   -0.348821   0.512678            -0.471644   \n",
       "\n",
       "                      total sulfur dioxide   density        pH  sulphates  \\\n",
       "fixed acidity                    -0.329054  0.458910 -0.252700   0.299568   \n",
       "volatile acidity                 -0.414476  0.271296  0.261454   0.225984   \n",
       "citric acid                       0.195242  0.096154 -0.329808   0.056197   \n",
       "residual sugar                    0.495482  0.552517 -0.267320  -0.185927   \n",
       "chlorides                        -0.279630  0.362615  0.044708   0.395593   \n",
       "free sulfur dioxide               0.720934  0.025717 -0.145854  -0.188457   \n",
       "total sulfur dioxide              1.000000  0.032395 -0.238413  -0.275727   \n",
       "density                           0.032395  1.000000  0.011686   0.259478   \n",
       "pH                               -0.238413  0.011686  1.000000   0.192123   \n",
       "sulphates                        -0.275727  0.259478  0.192123   1.000000   \n",
       "alcohol                          -0.265740 -0.686745  0.121248  -0.003029   \n",
       "quality                          -0.041385 -0.305858  0.019506   0.038485   \n",
       "red_wine                         -0.700357  0.390645  0.329129   0.487218   \n",
       "\n",
       "                       alcohol   quality  red_wine  \n",
       "fixed acidity        -0.095452 -0.076743  0.486740  \n",
       "volatile acidity     -0.037640 -0.265699  0.653036  \n",
       "citric acid          -0.010493  0.085532 -0.187397  \n",
       "residual sugar       -0.359415 -0.036980 -0.348821  \n",
       "chlorides            -0.256916 -0.200666  0.512678  \n",
       "free sulfur dioxide  -0.179838  0.055463 -0.471644  \n",
       "total sulfur dioxide -0.265740 -0.041385 -0.700357  \n",
       "density              -0.686745 -0.305858  0.390645  \n",
       "pH                    0.121248  0.019506  0.329129  \n",
       "sulphates            -0.003029  0.038485  0.487218  \n",
       "alcohol               1.000000  0.444319 -0.032970  \n",
       "quality               0.444319  1.000000 -0.119323  \n",
       "red_wine             -0.032970 -0.119323  1.000000  "
      ]
     },
     "execution_count": 33,
     "metadata": {},
     "output_type": "execute_result"
    }
   ],
   "source": [
    "wine.corr()"
   ]
  },
  {
   "cell_type": "code",
   "execution_count": 31,
   "metadata": {},
   "outputs": [
    {
     "data": {
      "text/html": [
       "<div>\n",
       "<style scoped>\n",
       "    .dataframe tbody tr th:only-of-type {\n",
       "        vertical-align: middle;\n",
       "    }\n",
       "\n",
       "    .dataframe tbody tr th {\n",
       "        vertical-align: top;\n",
       "    }\n",
       "\n",
       "    .dataframe thead th {\n",
       "        text-align: right;\n",
       "    }\n",
       "</style>\n",
       "<table border=\"1\" class=\"dataframe\">\n",
       "  <thead>\n",
       "    <tr style=\"text-align: right;\">\n",
       "      <th></th>\n",
       "      <th>fixed acidity</th>\n",
       "      <th>volatile acidity</th>\n",
       "      <th>citric acid</th>\n",
       "      <th>residual sugar</th>\n",
       "      <th>chlorides</th>\n",
       "      <th>free sulfur dioxide</th>\n",
       "      <th>total sulfur dioxide</th>\n",
       "      <th>density</th>\n",
       "      <th>pH</th>\n",
       "      <th>sulphates</th>\n",
       "      <th>alcohol</th>\n",
       "      <th>quality</th>\n",
       "      <th>red_wine</th>\n",
       "    </tr>\n",
       "  </thead>\n",
       "  <tbody>\n",
       "    <tr>\n",
       "      <th>count</th>\n",
       "      <td>6497.000000</td>\n",
       "      <td>6497.000000</td>\n",
       "      <td>6497.000000</td>\n",
       "      <td>6497.000000</td>\n",
       "      <td>6497.000000</td>\n",
       "      <td>6497.000000</td>\n",
       "      <td>6497.000000</td>\n",
       "      <td>6497.000000</td>\n",
       "      <td>6497.000000</td>\n",
       "      <td>6497.000000</td>\n",
       "      <td>6497.000000</td>\n",
       "      <td>6497.000000</td>\n",
       "      <td>6497.000000</td>\n",
       "    </tr>\n",
       "    <tr>\n",
       "      <th>mean</th>\n",
       "      <td>7.215307</td>\n",
       "      <td>0.339666</td>\n",
       "      <td>0.318633</td>\n",
       "      <td>5.443235</td>\n",
       "      <td>0.056034</td>\n",
       "      <td>30.525319</td>\n",
       "      <td>115.744574</td>\n",
       "      <td>0.994697</td>\n",
       "      <td>3.218501</td>\n",
       "      <td>0.531268</td>\n",
       "      <td>10.491801</td>\n",
       "      <td>5.818378</td>\n",
       "      <td>0.246114</td>\n",
       "    </tr>\n",
       "    <tr>\n",
       "      <th>std</th>\n",
       "      <td>1.296434</td>\n",
       "      <td>0.164636</td>\n",
       "      <td>0.145318</td>\n",
       "      <td>4.757804</td>\n",
       "      <td>0.035034</td>\n",
       "      <td>17.749400</td>\n",
       "      <td>56.521855</td>\n",
       "      <td>0.002999</td>\n",
       "      <td>0.160787</td>\n",
       "      <td>0.148806</td>\n",
       "      <td>1.192712</td>\n",
       "      <td>0.873255</td>\n",
       "      <td>0.430779</td>\n",
       "    </tr>\n",
       "    <tr>\n",
       "      <th>min</th>\n",
       "      <td>3.800000</td>\n",
       "      <td>0.080000</td>\n",
       "      <td>0.000000</td>\n",
       "      <td>0.600000</td>\n",
       "      <td>0.009000</td>\n",
       "      <td>1.000000</td>\n",
       "      <td>6.000000</td>\n",
       "      <td>0.987110</td>\n",
       "      <td>2.720000</td>\n",
       "      <td>0.220000</td>\n",
       "      <td>8.000000</td>\n",
       "      <td>3.000000</td>\n",
       "      <td>0.000000</td>\n",
       "    </tr>\n",
       "    <tr>\n",
       "      <th>25%</th>\n",
       "      <td>6.400000</td>\n",
       "      <td>0.230000</td>\n",
       "      <td>0.250000</td>\n",
       "      <td>1.800000</td>\n",
       "      <td>0.038000</td>\n",
       "      <td>17.000000</td>\n",
       "      <td>77.000000</td>\n",
       "      <td>0.992340</td>\n",
       "      <td>3.110000</td>\n",
       "      <td>0.430000</td>\n",
       "      <td>9.500000</td>\n",
       "      <td>5.000000</td>\n",
       "      <td>0.000000</td>\n",
       "    </tr>\n",
       "    <tr>\n",
       "      <th>50%</th>\n",
       "      <td>7.000000</td>\n",
       "      <td>0.290000</td>\n",
       "      <td>0.310000</td>\n",
       "      <td>3.000000</td>\n",
       "      <td>0.047000</td>\n",
       "      <td>29.000000</td>\n",
       "      <td>118.000000</td>\n",
       "      <td>0.994890</td>\n",
       "      <td>3.210000</td>\n",
       "      <td>0.510000</td>\n",
       "      <td>10.300000</td>\n",
       "      <td>6.000000</td>\n",
       "      <td>0.000000</td>\n",
       "    </tr>\n",
       "    <tr>\n",
       "      <th>75%</th>\n",
       "      <td>7.700000</td>\n",
       "      <td>0.400000</td>\n",
       "      <td>0.390000</td>\n",
       "      <td>8.100000</td>\n",
       "      <td>0.065000</td>\n",
       "      <td>41.000000</td>\n",
       "      <td>156.000000</td>\n",
       "      <td>0.996990</td>\n",
       "      <td>3.320000</td>\n",
       "      <td>0.600000</td>\n",
       "      <td>11.300000</td>\n",
       "      <td>6.000000</td>\n",
       "      <td>0.000000</td>\n",
       "    </tr>\n",
       "    <tr>\n",
       "      <th>max</th>\n",
       "      <td>15.900000</td>\n",
       "      <td>1.580000</td>\n",
       "      <td>1.660000</td>\n",
       "      <td>65.800000</td>\n",
       "      <td>0.611000</td>\n",
       "      <td>289.000000</td>\n",
       "      <td>440.000000</td>\n",
       "      <td>1.038980</td>\n",
       "      <td>4.010000</td>\n",
       "      <td>2.000000</td>\n",
       "      <td>14.900000</td>\n",
       "      <td>9.000000</td>\n",
       "      <td>1.000000</td>\n",
       "    </tr>\n",
       "  </tbody>\n",
       "</table>\n",
       "</div>"
      ],
      "text/plain": [
       "       fixed acidity  volatile acidity  citric acid  residual sugar  \\\n",
       "count    6497.000000       6497.000000  6497.000000     6497.000000   \n",
       "mean        7.215307          0.339666     0.318633        5.443235   \n",
       "std         1.296434          0.164636     0.145318        4.757804   \n",
       "min         3.800000          0.080000     0.000000        0.600000   \n",
       "25%         6.400000          0.230000     0.250000        1.800000   \n",
       "50%         7.000000          0.290000     0.310000        3.000000   \n",
       "75%         7.700000          0.400000     0.390000        8.100000   \n",
       "max        15.900000          1.580000     1.660000       65.800000   \n",
       "\n",
       "         chlorides  free sulfur dioxide  total sulfur dioxide      density  \\\n",
       "count  6497.000000          6497.000000           6497.000000  6497.000000   \n",
       "mean      0.056034            30.525319            115.744574     0.994697   \n",
       "std       0.035034            17.749400             56.521855     0.002999   \n",
       "min       0.009000             1.000000              6.000000     0.987110   \n",
       "25%       0.038000            17.000000             77.000000     0.992340   \n",
       "50%       0.047000            29.000000            118.000000     0.994890   \n",
       "75%       0.065000            41.000000            156.000000     0.996990   \n",
       "max       0.611000           289.000000            440.000000     1.038980   \n",
       "\n",
       "                pH    sulphates      alcohol      quality     red_wine  \n",
       "count  6497.000000  6497.000000  6497.000000  6497.000000  6497.000000  \n",
       "mean      3.218501     0.531268    10.491801     5.818378     0.246114  \n",
       "std       0.160787     0.148806     1.192712     0.873255     0.430779  \n",
       "min       2.720000     0.220000     8.000000     3.000000     0.000000  \n",
       "25%       3.110000     0.430000     9.500000     5.000000     0.000000  \n",
       "50%       3.210000     0.510000    10.300000     6.000000     0.000000  \n",
       "75%       3.320000     0.600000    11.300000     6.000000     0.000000  \n",
       "max       4.010000     2.000000    14.900000     9.000000     1.000000  "
      ]
     },
     "execution_count": 31,
     "metadata": {},
     "output_type": "execute_result"
    }
   ],
   "source": [
    "wine.describe()"
   ]
  },
  {
   "cell_type": "code",
   "execution_count": 32,
   "metadata": {
    "hidden": true,
    "scrolled": true
   },
   "outputs": [
    {
     "data": {
      "text/html": [
       "<table class=\"simpletable\">\n",
       "<caption>OLS Regression Results</caption>\n",
       "<tr>\n",
       "  <th>Dep. Variable:</th>         <td>quality</td>     <th>  R-squared:         </th> <td>   0.297</td> \n",
       "</tr>\n",
       "<tr>\n",
       "  <th>Model:</th>                   <td>OLS</td>       <th>  Adj. R-squared:    </th> <td>   0.295</td> \n",
       "</tr>\n",
       "<tr>\n",
       "  <th>Method:</th>             <td>Least Squares</td>  <th>  F-statistic:       </th> <td>   227.8</td> \n",
       "</tr>\n",
       "<tr>\n",
       "  <th>Date:</th>             <td>Mon, 11 Dec 2023</td> <th>  Prob (F-statistic):</th>  <td>  0.00</td>  \n",
       "</tr>\n",
       "<tr>\n",
       "  <th>Time:</th>                 <td>12:04:09</td>     <th>  Log-Likelihood:    </th> <td> -7195.2</td> \n",
       "</tr>\n",
       "<tr>\n",
       "  <th>No. Observations:</th>      <td>  6497</td>      <th>  AIC:               </th> <td>1.442e+04</td>\n",
       "</tr>\n",
       "<tr>\n",
       "  <th>Df Residuals:</th>          <td>  6484</td>      <th>  BIC:               </th> <td>1.450e+04</td>\n",
       "</tr>\n",
       "<tr>\n",
       "  <th>Df Model:</th>              <td>    12</td>      <th>                     </th>     <td> </td>    \n",
       "</tr>\n",
       "<tr>\n",
       "  <th>Covariance Type:</th>      <td>nonrobust</td>    <th>                     </th>     <td> </td>    \n",
       "</tr>\n",
       "</table>\n",
       "<table class=\"simpletable\">\n",
       "<tr>\n",
       "            <td></td>              <th>coef</th>     <th>std err</th>      <th>t</th>      <th>P>|t|</th>  <th>[0.025</th>    <th>0.975]</th>  \n",
       "</tr>\n",
       "<tr>\n",
       "  <th>const</th>                <td>  104.3904</td> <td>   14.105</td> <td>    7.401</td> <td> 0.000</td> <td>   76.741</td> <td>  132.040</td>\n",
       "</tr>\n",
       "<tr>\n",
       "  <th>fixed acidity</th>        <td>    0.0851</td> <td>    0.016</td> <td>    5.396</td> <td> 0.000</td> <td>    0.054</td> <td>    0.116</td>\n",
       "</tr>\n",
       "<tr>\n",
       "  <th>volatile acidity</th>     <td>   -1.4924</td> <td>    0.081</td> <td>  -18.345</td> <td> 0.000</td> <td>   -1.652</td> <td>   -1.333</td>\n",
       "</tr>\n",
       "<tr>\n",
       "  <th>citric acid</th>          <td>   -0.0626</td> <td>    0.080</td> <td>   -0.786</td> <td> 0.432</td> <td>   -0.219</td> <td>    0.094</td>\n",
       "</tr>\n",
       "<tr>\n",
       "  <th>residual sugar</th>       <td>    0.0624</td> <td>    0.006</td> <td>   10.522</td> <td> 0.000</td> <td>    0.051</td> <td>    0.074</td>\n",
       "</tr>\n",
       "<tr>\n",
       "  <th>chlorides</th>            <td>   -0.7573</td> <td>    0.334</td> <td>   -2.264</td> <td> 0.024</td> <td>   -1.413</td> <td>   -0.102</td>\n",
       "</tr>\n",
       "<tr>\n",
       "  <th>free sulfur dioxide</th>  <td>    0.0049</td> <td>    0.001</td> <td>    6.443</td> <td> 0.000</td> <td>    0.003</td> <td>    0.006</td>\n",
       "</tr>\n",
       "<tr>\n",
       "  <th>total sulfur dioxide</th> <td>   -0.0014</td> <td>    0.000</td> <td>   -4.333</td> <td> 0.000</td> <td>   -0.002</td> <td>   -0.001</td>\n",
       "</tr>\n",
       "<tr>\n",
       "  <th>density</th>              <td> -103.9096</td> <td>   14.336</td> <td>   -7.248</td> <td> 0.000</td> <td> -132.013</td> <td>  -75.806</td>\n",
       "</tr>\n",
       "<tr>\n",
       "  <th>pH</th>                   <td>    0.4988</td> <td>    0.091</td> <td>    5.506</td> <td> 0.000</td> <td>    0.321</td> <td>    0.676</td>\n",
       "</tr>\n",
       "<tr>\n",
       "  <th>sulphates</th>            <td>    0.7217</td> <td>    0.076</td> <td>    9.466</td> <td> 0.000</td> <td>    0.572</td> <td>    0.871</td>\n",
       "</tr>\n",
       "<tr>\n",
       "  <th>alcohol</th>              <td>    0.2227</td> <td>    0.018</td> <td>   12.320</td> <td> 0.000</td> <td>    0.187</td> <td>    0.258</td>\n",
       "</tr>\n",
       "<tr>\n",
       "  <th>red_wine</th>             <td>    0.3613</td> <td>    0.057</td> <td>    6.367</td> <td> 0.000</td> <td>    0.250</td> <td>    0.473</td>\n",
       "</tr>\n",
       "</table>\n",
       "<table class=\"simpletable\">\n",
       "<tr>\n",
       "  <th>Omnibus:</th>       <td>140.992</td> <th>  Durbin-Watson:     </th> <td>   1.648</td>\n",
       "</tr>\n",
       "<tr>\n",
       "  <th>Prob(Omnibus):</th> <td> 0.000</td>  <th>  Jarque-Bera (JB):  </th> <td> 313.985</td>\n",
       "</tr>\n",
       "<tr>\n",
       "  <th>Skew:</th>          <td> 0.016</td>  <th>  Prob(JB):          </th> <td>6.59e-69</td>\n",
       "</tr>\n",
       "<tr>\n",
       "  <th>Kurtosis:</th>      <td> 4.077</td>  <th>  Cond. No.          </th> <td>2.96e+05</td>\n",
       "</tr>\n",
       "</table><br/><br/>Notes:<br/>[1] Standard Errors assume that the covariance matrix of the errors is correctly specified.<br/>[2] The condition number is large, 2.96e+05. This might indicate that there are<br/>strong multicollinearity or other numerical problems."
      ],
      "text/plain": [
       "<class 'statsmodels.iolib.summary.Summary'>\n",
       "\"\"\"\n",
       "                            OLS Regression Results                            \n",
       "==============================================================================\n",
       "Dep. Variable:                quality   R-squared:                       0.297\n",
       "Model:                            OLS   Adj. R-squared:                  0.295\n",
       "Method:                 Least Squares   F-statistic:                     227.8\n",
       "Date:                Mon, 11 Dec 2023   Prob (F-statistic):               0.00\n",
       "Time:                        12:04:09   Log-Likelihood:                -7195.2\n",
       "No. Observations:                6497   AIC:                         1.442e+04\n",
       "Df Residuals:                    6484   BIC:                         1.450e+04\n",
       "Df Model:                          12                                         \n",
       "Covariance Type:            nonrobust                                         \n",
       "========================================================================================\n",
       "                           coef    std err          t      P>|t|      [0.025      0.975]\n",
       "----------------------------------------------------------------------------------------\n",
       "const                  104.3904     14.105      7.401      0.000      76.741     132.040\n",
       "fixed acidity            0.0851      0.016      5.396      0.000       0.054       0.116\n",
       "volatile acidity        -1.4924      0.081    -18.345      0.000      -1.652      -1.333\n",
       "citric acid             -0.0626      0.080     -0.786      0.432      -0.219       0.094\n",
       "residual sugar           0.0624      0.006     10.522      0.000       0.051       0.074\n",
       "chlorides               -0.7573      0.334     -2.264      0.024      -1.413      -0.102\n",
       "free sulfur dioxide      0.0049      0.001      6.443      0.000       0.003       0.006\n",
       "total sulfur dioxide    -0.0014      0.000     -4.333      0.000      -0.002      -0.001\n",
       "density               -103.9096     14.336     -7.248      0.000    -132.013     -75.806\n",
       "pH                       0.4988      0.091      5.506      0.000       0.321       0.676\n",
       "sulphates                0.7217      0.076      9.466      0.000       0.572       0.871\n",
       "alcohol                  0.2227      0.018     12.320      0.000       0.187       0.258\n",
       "red_wine                 0.3613      0.057      6.367      0.000       0.250       0.473\n",
       "==============================================================================\n",
       "Omnibus:                      140.992   Durbin-Watson:                   1.648\n",
       "Prob(Omnibus):                  0.000   Jarque-Bera (JB):              313.985\n",
       "Skew:                           0.016   Prob(JB):                     6.59e-69\n",
       "Kurtosis:                       4.077   Cond. No.                     2.96e+05\n",
       "==============================================================================\n",
       "\n",
       "Notes:\n",
       "[1] Standard Errors assume that the covariance matrix of the errors is correctly specified.\n",
       "[2] The condition number is large, 2.96e+05. This might indicate that there are\n",
       "strong multicollinearity or other numerical problems.\n",
       "\"\"\""
      ]
     },
     "execution_count": 32,
     "metadata": {},
     "output_type": "execute_result"
    }
   ],
   "source": [
    "model.summary()"
   ]
  },
  {
   "cell_type": "markdown",
   "metadata": {
    "heading_collapsed": true
   },
   "source": [
    "# Scaling - The Missing & Helpful Step"
   ]
  },
  {
   "cell_type": "markdown",
   "metadata": {
    "hidden": true
   },
   "source": [
    "When you looked at the summary after we did the linear regression, you might have noticed something interesting.\n",
    "\n",
    "Observing the coefficients, you might notice there are two relatively large coefficients and only one other is greater than 1."
   ]
  },
  {
   "cell_type": "markdown",
   "metadata": {
    "heading_collapsed": true,
    "hidden": true
   },
   "source": [
    "## What's Going on Here?"
   ]
  },
  {
   "cell_type": "markdown",
   "metadata": {
    "hidden": true
   },
   "source": [
    "In a word, it's useful to have all of our variables be on the same scale, so that the resulting coefficients are easier to interpret. If the scales of the variables are very different one from another, then some of the coefficients may end up on very large or very tiny scales."
   ]
  },
  {
   "cell_type": "markdown",
   "metadata": {
    "hidden": true
   },
   "source": [
    "This happens since the coefficients will effectively attempt to \"shrink\" or \"expand\" the features before factoring their importance to the model."
   ]
  },
  {
   "cell_type": "markdown",
   "metadata": {
    "hidden": true
   },
   "source": [
    "![](images/shrinkinator.jpeg)"
   ]
  },
  {
   "cell_type": "markdown",
   "metadata": {
    "hidden": true
   },
   "source": [
    "This can make it more difficult for interpretation and identifying coefficients with the most \"effect\" on the prediction."
   ]
  },
  {
   "cell_type": "markdown",
   "metadata": {
    "hidden": true
   },
   "source": [
    "For more on this, see [this post](https://stats.stackexchange.com/questions/32649/some-of-my-predictors-are-on-very-different-scales-do-i-need-to-transform-them)."
   ]
  },
  {
   "cell_type": "markdown",
   "metadata": {
    "heading_collapsed": true,
    "hidden": true
   },
   "source": [
    "## A Solution: Standard Scaling"
   ]
  },
  {
   "cell_type": "markdown",
   "metadata": {
    "hidden": true
   },
   "source": [
    "One solution is to *scale* our features. There are a few ways to do this but we'll focus on **standard scaling**."
   ]
  },
  {
   "cell_type": "markdown",
   "metadata": {
    "hidden": true
   },
   "source": [
    "When we do **standard scaling**, we're really scaling it to be the features' respective $z$-scores."
   ]
  },
  {
   "cell_type": "markdown",
   "metadata": {
    "hidden": true
   },
   "source": [
    "Benefits:\n",
    "\n",
    "- This tends to make values relatively small (mean value is at $0$ and one standard deviation $\\sigma$ from the mean is $1$).\n",
    "- Easier interpretation: larger coefficients tend to be more influential"
   ]
  },
  {
   "cell_type": "markdown",
   "metadata": {},
   "source": [
    "### Interpretation of Coefficients"
   ]
  },
  {
   "cell_type": "markdown",
   "metadata": {},
   "source": [
    "Let's take a moment on this last point. Recall our interpretation of the linear regression coefficients (or betas): Suppose the coefficient for some predictor $x_1$ in a linear model is $\\beta_1$. That's then to say that for a one-unit increase in the value of $x_1$, the model predicts an increase in the target of $\\beta_1$ units.\n",
    "\n",
    "But let's now focus on this idea of *units*. Suppose I build a model of liver tumor size (mm) that includes body mass (kg) and fingernail length ($\\mu$m) as predictive features. And suppose further that the coefficients I find after fitting the model are:\n",
    "\n",
    "- body mass: 0.1\n",
    "- fingernail length: 0.1\n",
    "\n",
    "Now: Which variable is more important to predicting liver tumor size? The coefficients have the same value, but they have very different interpretations in this context. The first coefficient tells us that, for every *kilogram* increase of body mass, I should expect an increase in liver tumor size of 0.1 mm. The second coefficient tells us that, for every *micron* increase of fingernal length, I should expect an increase in liver tumor size of 0.1 mm. Since microns are so small, fingernail length is likely more important than body mass.\n",
    "\n",
    "Another thing to keep in mind here is that scaling recasts the values of a variable in terms of that variable's *standard deviation*. And so variables with greater spreads of values will typically be more important than variables with smaller spreads. (A variable with no spread can't explain much of anything!)\n",
    "\n",
    "We can remove much of the guess work about which variables are more important by standardizing, since that **puts all variables on the same scale and in units of their standard deviations**.\n",
    "\n",
    "We just have to remember to keep in mind this transformation when *interpreting* our coefficients. So suppose our variables' standard deviations are something like\n",
    "\n",
    "- body mass: 20 kg\n",
    "- fingernail length: 3000 $\\mu$m\n",
    "\n",
    "And suppose that after scaling we get coefficients that look like this:\n",
    "\n",
    "- body mass: 2\n",
    "- fingernail length: 300\n",
    "\n",
    "Then we can say that for every increase in body mass of 20 kg, we can expect an increase in liver tumor size of 2 mm, and for every increase in fingernail length of 3000 $\\mu$m, we can expect an increase in liver tumor size of 300 mm. And now these coefficients are comparable in the sense that they both reflect the variables' underlying spreads and distributions.\n",
    "\n",
    "For more on this topic, see also [this blog post](https://www.analyticsvidhya.com/blog/2021/03/standardized-vs-unstandardized-regression-coefficient/)."
   ]
  },
  {
   "cell_type": "markdown",
   "metadata": {
    "hidden": true
   },
   "source": [
    "Next time, let's *scale* our columns as $z$-scores first. "
   ]
  },
  {
   "cell_type": "markdown",
   "metadata": {
    "heading_collapsed": true,
    "hidden": true
   },
   "source": [
    "##  Redoing with Standard Scaling"
   ]
  },
  {
   "cell_type": "markdown",
   "metadata": {
    "hidden": true
   },
   "source": [
    "Let's try standard scaling the model with our wine dataset now."
   ]
  },
  {
   "cell_type": "code",
   "execution_count": 34,
   "metadata": {
    "hidden": true
   },
   "outputs": [],
   "source": [
    "# We'll include all the columns for now.\n",
    "\n",
    "wine_x_scaled = (wine_x - np.mean(wine_x)) / np.std(wine_x)"
   ]
  },
  {
   "cell_type": "code",
   "execution_count": 35,
   "metadata": {
    "hidden": true,
    "scrolled": true
   },
   "outputs": [
    {
     "data": {
      "text/html": [
       "<div>\n",
       "<style scoped>\n",
       "    .dataframe tbody tr th:only-of-type {\n",
       "        vertical-align: middle;\n",
       "    }\n",
       "\n",
       "    .dataframe tbody tr th {\n",
       "        vertical-align: top;\n",
       "    }\n",
       "\n",
       "    .dataframe thead th {\n",
       "        text-align: right;\n",
       "    }\n",
       "</style>\n",
       "<table border=\"1\" class=\"dataframe\">\n",
       "  <thead>\n",
       "    <tr style=\"text-align: right;\">\n",
       "      <th></th>\n",
       "      <th>fixed acidity</th>\n",
       "      <th>volatile acidity</th>\n",
       "      <th>citric acid</th>\n",
       "      <th>residual sugar</th>\n",
       "      <th>chlorides</th>\n",
       "      <th>free sulfur dioxide</th>\n",
       "      <th>total sulfur dioxide</th>\n",
       "      <th>density</th>\n",
       "      <th>pH</th>\n",
       "      <th>sulphates</th>\n",
       "      <th>alcohol</th>\n",
       "      <th>red_wine</th>\n",
       "    </tr>\n",
       "  </thead>\n",
       "  <tbody>\n",
       "    <tr>\n",
       "      <th>count</th>\n",
       "      <td>6.497000e+03</td>\n",
       "      <td>6.497000e+03</td>\n",
       "      <td>6.497000e+03</td>\n",
       "      <td>6.497000e+03</td>\n",
       "      <td>6.497000e+03</td>\n",
       "      <td>6.497000e+03</td>\n",
       "      <td>6.497000e+03</td>\n",
       "      <td>6.497000e+03</td>\n",
       "      <td>6.497000e+03</td>\n",
       "      <td>6.497000e+03</td>\n",
       "      <td>6.497000e+03</td>\n",
       "      <td>6497.000000</td>\n",
       "    </tr>\n",
       "    <tr>\n",
       "      <th>mean</th>\n",
       "      <td>-3.849639e-16</td>\n",
       "      <td>1.049902e-16</td>\n",
       "      <td>2.187295e-17</td>\n",
       "      <td>3.499672e-17</td>\n",
       "      <td>3.499672e-17</td>\n",
       "      <td>-8.749179e-17</td>\n",
       "      <td>-6.999344e-17</td>\n",
       "      <td>-3.534668e-15</td>\n",
       "      <td>2.729744e-15</td>\n",
       "      <td>-5.424491e-16</td>\n",
       "      <td>9.361622e-16</td>\n",
       "      <td>0.000000</td>\n",
       "    </tr>\n",
       "    <tr>\n",
       "      <th>std</th>\n",
       "      <td>1.000077e+00</td>\n",
       "      <td>1.000077e+00</td>\n",
       "      <td>1.000077e+00</td>\n",
       "      <td>1.000077e+00</td>\n",
       "      <td>1.000077e+00</td>\n",
       "      <td>1.000077e+00</td>\n",
       "      <td>1.000077e+00</td>\n",
       "      <td>1.000077e+00</td>\n",
       "      <td>1.000077e+00</td>\n",
       "      <td>1.000077e+00</td>\n",
       "      <td>1.000077e+00</td>\n",
       "      <td>1.000077</td>\n",
       "    </tr>\n",
       "    <tr>\n",
       "      <th>min</th>\n",
       "      <td>-2.634589e+00</td>\n",
       "      <td>-1.577330e+00</td>\n",
       "      <td>-2.192833e+00</td>\n",
       "      <td>-1.018034e+00</td>\n",
       "      <td>-1.342639e+00</td>\n",
       "      <td>-1.663583e+00</td>\n",
       "      <td>-1.941780e+00</td>\n",
       "      <td>-2.530192e+00</td>\n",
       "      <td>-3.100615e+00</td>\n",
       "      <td>-2.091935e+00</td>\n",
       "      <td>-2.089350e+00</td>\n",
       "      <td>-0.571367</td>\n",
       "    </tr>\n",
       "    <tr>\n",
       "      <th>25%</th>\n",
       "      <td>-6.289329e-01</td>\n",
       "      <td>-6.661613e-01</td>\n",
       "      <td>-4.723335e-01</td>\n",
       "      <td>-7.657978e-01</td>\n",
       "      <td>-5.147986e-01</td>\n",
       "      <td>-7.620742e-01</td>\n",
       "      <td>-6.855323e-01</td>\n",
       "      <td>-7.859527e-01</td>\n",
       "      <td>-6.748622e-01</td>\n",
       "      <td>-6.805919e-01</td>\n",
       "      <td>-8.316152e-01</td>\n",
       "      <td>-0.571367</td>\n",
       "    </tr>\n",
       "    <tr>\n",
       "      <th>50%</th>\n",
       "      <td>-1.660892e-01</td>\n",
       "      <td>-3.016939e-01</td>\n",
       "      <td>-5.941375e-02</td>\n",
       "      <td>-5.135612e-01</td>\n",
       "      <td>-2.578826e-01</td>\n",
       "      <td>-8.594301e-02</td>\n",
       "      <td>3.990667e-02</td>\n",
       "      <td>6.448888e-02</td>\n",
       "      <td>-5.287424e-02</td>\n",
       "      <td>-1.429373e-01</td>\n",
       "      <td>-1.608231e-01</td>\n",
       "      <td>-0.571367</td>\n",
       "    </tr>\n",
       "    <tr>\n",
       "      <th>75%</th>\n",
       "      <td>3.738951e-01</td>\n",
       "      <td>3.664962e-01</td>\n",
       "      <td>4.911459e-01</td>\n",
       "      <td>5.584445e-01</td>\n",
       "      <td>2.559494e-01</td>\n",
       "      <td>5.901882e-01</td>\n",
       "      <td>7.122647e-01</td>\n",
       "      <td>7.648525e-01</td>\n",
       "      <td>6.313125e-01</td>\n",
       "      <td>4.619241e-01</td>\n",
       "      <td>6.776670e-01</td>\n",
       "      <td>-0.571367</td>\n",
       "    </tr>\n",
       "    <tr>\n",
       "      <th>max</th>\n",
       "      <td>6.699425e+00</td>\n",
       "      <td>7.534354e+00</td>\n",
       "      <td>9.231281e+00</td>\n",
       "      <td>1.268682e+01</td>\n",
       "      <td>1.584219e+01</td>\n",
       "      <td>1.456357e+01</td>\n",
       "      <td>5.737257e+00</td>\n",
       "      <td>1.476879e+01</td>\n",
       "      <td>4.923029e+00</td>\n",
       "      <td>9.870879e+00</td>\n",
       "      <td>3.696231e+00</td>\n",
       "      <td>1.750190</td>\n",
       "    </tr>\n",
       "  </tbody>\n",
       "</table>\n",
       "</div>"
      ],
      "text/plain": [
       "       fixed acidity  volatile acidity   citric acid  residual sugar  \\\n",
       "count   6.497000e+03      6.497000e+03  6.497000e+03    6.497000e+03   \n",
       "mean   -3.849639e-16      1.049902e-16  2.187295e-17    3.499672e-17   \n",
       "std     1.000077e+00      1.000077e+00  1.000077e+00    1.000077e+00   \n",
       "min    -2.634589e+00     -1.577330e+00 -2.192833e+00   -1.018034e+00   \n",
       "25%    -6.289329e-01     -6.661613e-01 -4.723335e-01   -7.657978e-01   \n",
       "50%    -1.660892e-01     -3.016939e-01 -5.941375e-02   -5.135612e-01   \n",
       "75%     3.738951e-01      3.664962e-01  4.911459e-01    5.584445e-01   \n",
       "max     6.699425e+00      7.534354e+00  9.231281e+00    1.268682e+01   \n",
       "\n",
       "          chlorides  free sulfur dioxide  total sulfur dioxide       density  \\\n",
       "count  6.497000e+03         6.497000e+03          6.497000e+03  6.497000e+03   \n",
       "mean   3.499672e-17        -8.749179e-17         -6.999344e-17 -3.534668e-15   \n",
       "std    1.000077e+00         1.000077e+00          1.000077e+00  1.000077e+00   \n",
       "min   -1.342639e+00        -1.663583e+00         -1.941780e+00 -2.530192e+00   \n",
       "25%   -5.147986e-01        -7.620742e-01         -6.855323e-01 -7.859527e-01   \n",
       "50%   -2.578826e-01        -8.594301e-02          3.990667e-02  6.448888e-02   \n",
       "75%    2.559494e-01         5.901882e-01          7.122647e-01  7.648525e-01   \n",
       "max    1.584219e+01         1.456357e+01          5.737257e+00  1.476879e+01   \n",
       "\n",
       "                 pH     sulphates       alcohol     red_wine  \n",
       "count  6.497000e+03  6.497000e+03  6.497000e+03  6497.000000  \n",
       "mean   2.729744e-15 -5.424491e-16  9.361622e-16     0.000000  \n",
       "std    1.000077e+00  1.000077e+00  1.000077e+00     1.000077  \n",
       "min   -3.100615e+00 -2.091935e+00 -2.089350e+00    -0.571367  \n",
       "25%   -6.748622e-01 -6.805919e-01 -8.316152e-01    -0.571367  \n",
       "50%   -5.287424e-02 -1.429373e-01 -1.608231e-01    -0.571367  \n",
       "75%    6.313125e-01  4.619241e-01  6.776670e-01    -0.571367  \n",
       "max    4.923029e+00  9.870879e+00  3.696231e+00     1.750190  "
      ]
     },
     "execution_count": 35,
     "metadata": {},
     "output_type": "execute_result"
    }
   ],
   "source": [
    "wine_x_scaled.describe()"
   ]
  },
  {
   "cell_type": "code",
   "execution_count": 36,
   "metadata": {
    "scrolled": true
   },
   "outputs": [
    {
     "data": {
      "text/html": [
       "<div>\n",
       "<style scoped>\n",
       "    .dataframe tbody tr th:only-of-type {\n",
       "        vertical-align: middle;\n",
       "    }\n",
       "\n",
       "    .dataframe tbody tr th {\n",
       "        vertical-align: top;\n",
       "    }\n",
       "\n",
       "    .dataframe thead th {\n",
       "        text-align: right;\n",
       "    }\n",
       "</style>\n",
       "<table border=\"1\" class=\"dataframe\">\n",
       "  <thead>\n",
       "    <tr style=\"text-align: right;\">\n",
       "      <th></th>\n",
       "      <th>fixed acidity</th>\n",
       "      <th>volatile acidity</th>\n",
       "      <th>citric acid</th>\n",
       "      <th>residual sugar</th>\n",
       "      <th>chlorides</th>\n",
       "      <th>free sulfur dioxide</th>\n",
       "      <th>total sulfur dioxide</th>\n",
       "      <th>density</th>\n",
       "      <th>pH</th>\n",
       "      <th>sulphates</th>\n",
       "      <th>alcohol</th>\n",
       "      <th>red_wine</th>\n",
       "    </tr>\n",
       "  </thead>\n",
       "  <tbody>\n",
       "    <tr>\n",
       "      <th>0</th>\n",
       "      <td>0.142473</td>\n",
       "      <td>2.188833</td>\n",
       "      <td>-2.192833</td>\n",
       "      <td>-0.744778</td>\n",
       "      <td>0.569958</td>\n",
       "      <td>-1.100140</td>\n",
       "      <td>-1.446359</td>\n",
       "      <td>1.034993</td>\n",
       "      <td>1.813090</td>\n",
       "      <td>0.193097</td>\n",
       "      <td>-0.915464</td>\n",
       "      <td>1.750190</td>\n",
       "    </tr>\n",
       "    <tr>\n",
       "      <th>1</th>\n",
       "      <td>0.451036</td>\n",
       "      <td>3.282235</td>\n",
       "      <td>-2.192833</td>\n",
       "      <td>-0.597640</td>\n",
       "      <td>1.197975</td>\n",
       "      <td>-0.311320</td>\n",
       "      <td>-0.862469</td>\n",
       "      <td>0.701486</td>\n",
       "      <td>-0.115073</td>\n",
       "      <td>0.999579</td>\n",
       "      <td>-0.580068</td>\n",
       "      <td>1.750190</td>\n",
       "    </tr>\n",
       "    <tr>\n",
       "      <th>2</th>\n",
       "      <td>0.451036</td>\n",
       "      <td>2.553300</td>\n",
       "      <td>-1.917553</td>\n",
       "      <td>-0.660699</td>\n",
       "      <td>1.026697</td>\n",
       "      <td>-0.874763</td>\n",
       "      <td>-1.092486</td>\n",
       "      <td>0.768188</td>\n",
       "      <td>0.258120</td>\n",
       "      <td>0.797958</td>\n",
       "      <td>-0.580068</td>\n",
       "      <td>1.750190</td>\n",
       "    </tr>\n",
       "    <tr>\n",
       "      <th>3</th>\n",
       "      <td>3.073817</td>\n",
       "      <td>-0.362438</td>\n",
       "      <td>1.661085</td>\n",
       "      <td>-0.744778</td>\n",
       "      <td>0.541412</td>\n",
       "      <td>-0.762074</td>\n",
       "      <td>-0.986324</td>\n",
       "      <td>1.101694</td>\n",
       "      <td>-0.363868</td>\n",
       "      <td>0.327510</td>\n",
       "      <td>-0.580068</td>\n",
       "      <td>1.750190</td>\n",
       "    </tr>\n",
       "    <tr>\n",
       "      <th>4</th>\n",
       "      <td>0.142473</td>\n",
       "      <td>2.188833</td>\n",
       "      <td>-2.192833</td>\n",
       "      <td>-0.744778</td>\n",
       "      <td>0.569958</td>\n",
       "      <td>-1.100140</td>\n",
       "      <td>-1.446359</td>\n",
       "      <td>1.034993</td>\n",
       "      <td>1.813090</td>\n",
       "      <td>0.193097</td>\n",
       "      <td>-0.915464</td>\n",
       "      <td>1.750190</td>\n",
       "    </tr>\n",
       "    <tr>\n",
       "      <th>...</th>\n",
       "      <td>...</td>\n",
       "      <td>...</td>\n",
       "      <td>...</td>\n",
       "      <td>...</td>\n",
       "      <td>...</td>\n",
       "      <td>...</td>\n",
       "      <td>...</td>\n",
       "      <td>...</td>\n",
       "      <td>...</td>\n",
       "      <td>...</td>\n",
       "      <td>...</td>\n",
       "      <td>...</td>\n",
       "    </tr>\n",
       "    <tr>\n",
       "      <th>6492</th>\n",
       "      <td>-0.783214</td>\n",
       "      <td>-0.787650</td>\n",
       "      <td>-0.197054</td>\n",
       "      <td>-0.807837</td>\n",
       "      <td>-0.486252</td>\n",
       "      <td>-0.367664</td>\n",
       "      <td>-0.420128</td>\n",
       "      <td>-1.186161</td>\n",
       "      <td>0.320319</td>\n",
       "      <td>-0.210144</td>\n",
       "      <td>0.593818</td>\n",
       "      <td>-0.571367</td>\n",
       "    </tr>\n",
       "    <tr>\n",
       "      <th>6493</th>\n",
       "      <td>-0.474652</td>\n",
       "      <td>-0.119460</td>\n",
       "      <td>0.284686</td>\n",
       "      <td>0.537425</td>\n",
       "      <td>-0.257883</td>\n",
       "      <td>1.491697</td>\n",
       "      <td>0.924588</td>\n",
       "      <td>0.067824</td>\n",
       "      <td>-0.426067</td>\n",
       "      <td>-0.478971</td>\n",
       "      <td>-0.747766</td>\n",
       "      <td>-0.571367</td>\n",
       "    </tr>\n",
       "    <tr>\n",
       "      <th>6494</th>\n",
       "      <td>-0.551792</td>\n",
       "      <td>-0.605417</td>\n",
       "      <td>-0.885253</td>\n",
       "      <td>-0.891916</td>\n",
       "      <td>-0.429160</td>\n",
       "      <td>-0.029599</td>\n",
       "      <td>-0.083949</td>\n",
       "      <td>-0.719251</td>\n",
       "      <td>-1.421248</td>\n",
       "      <td>-0.478971</td>\n",
       "      <td>-0.915464</td>\n",
       "      <td>-0.571367</td>\n",
       "    </tr>\n",
       "    <tr>\n",
       "      <th>6495</th>\n",
       "      <td>-1.323198</td>\n",
       "      <td>-0.301694</td>\n",
       "      <td>-0.128234</td>\n",
       "      <td>-0.912936</td>\n",
       "      <td>-0.971538</td>\n",
       "      <td>-0.593041</td>\n",
       "      <td>-0.101642</td>\n",
       "      <td>-2.003251</td>\n",
       "      <td>0.755710</td>\n",
       "      <td>-1.016626</td>\n",
       "      <td>1.935402</td>\n",
       "      <td>-0.571367</td>\n",
       "    </tr>\n",
       "    <tr>\n",
       "      <th>6496</th>\n",
       "      <td>-0.937495</td>\n",
       "      <td>-0.787650</td>\n",
       "      <td>0.422326</td>\n",
       "      <td>-0.975995</td>\n",
       "      <td>-1.028631</td>\n",
       "      <td>-0.480353</td>\n",
       "      <td>-0.313966</td>\n",
       "      <td>-1.763127</td>\n",
       "      <td>0.258120</td>\n",
       "      <td>-1.419867</td>\n",
       "      <td>1.096912</td>\n",
       "      <td>-0.571367</td>\n",
       "    </tr>\n",
       "  </tbody>\n",
       "</table>\n",
       "<p>6497 rows × 12 columns</p>\n",
       "</div>"
      ],
      "text/plain": [
       "      fixed acidity  volatile acidity  citric acid  residual sugar  chlorides  \\\n",
       "0          0.142473          2.188833    -2.192833       -0.744778   0.569958   \n",
       "1          0.451036          3.282235    -2.192833       -0.597640   1.197975   \n",
       "2          0.451036          2.553300    -1.917553       -0.660699   1.026697   \n",
       "3          3.073817         -0.362438     1.661085       -0.744778   0.541412   \n",
       "4          0.142473          2.188833    -2.192833       -0.744778   0.569958   \n",
       "...             ...               ...          ...             ...        ...   \n",
       "6492      -0.783214         -0.787650    -0.197054       -0.807837  -0.486252   \n",
       "6493      -0.474652         -0.119460     0.284686        0.537425  -0.257883   \n",
       "6494      -0.551792         -0.605417    -0.885253       -0.891916  -0.429160   \n",
       "6495      -1.323198         -0.301694    -0.128234       -0.912936  -0.971538   \n",
       "6496      -0.937495         -0.787650     0.422326       -0.975995  -1.028631   \n",
       "\n",
       "      free sulfur dioxide  total sulfur dioxide   density        pH  \\\n",
       "0               -1.100140             -1.446359  1.034993  1.813090   \n",
       "1               -0.311320             -0.862469  0.701486 -0.115073   \n",
       "2               -0.874763             -1.092486  0.768188  0.258120   \n",
       "3               -0.762074             -0.986324  1.101694 -0.363868   \n",
       "4               -1.100140             -1.446359  1.034993  1.813090   \n",
       "...                   ...                   ...       ...       ...   \n",
       "6492            -0.367664             -0.420128 -1.186161  0.320319   \n",
       "6493             1.491697              0.924588  0.067824 -0.426067   \n",
       "6494            -0.029599             -0.083949 -0.719251 -1.421248   \n",
       "6495            -0.593041             -0.101642 -2.003251  0.755710   \n",
       "6496            -0.480353             -0.313966 -1.763127  0.258120   \n",
       "\n",
       "      sulphates   alcohol  red_wine  \n",
       "0      0.193097 -0.915464  1.750190  \n",
       "1      0.999579 -0.580068  1.750190  \n",
       "2      0.797958 -0.580068  1.750190  \n",
       "3      0.327510 -0.580068  1.750190  \n",
       "4      0.193097 -0.915464  1.750190  \n",
       "...         ...       ...       ...  \n",
       "6492  -0.210144  0.593818 -0.571367  \n",
       "6493  -0.478971 -0.747766 -0.571367  \n",
       "6494  -0.478971 -0.915464 -0.571367  \n",
       "6495  -1.016626  1.935402 -0.571367  \n",
       "6496  -1.419867  1.096912 -0.571367  \n",
       "\n",
       "[6497 rows x 12 columns]"
      ]
     },
     "execution_count": 36,
     "metadata": {},
     "output_type": "execute_result"
    }
   ],
   "source": [
    "wine_x_scaled"
   ]
  },
  {
   "cell_type": "code",
   "execution_count": 37,
   "metadata": {},
   "outputs": [
    {
     "data": {
      "text/plain": [
       "7.215307064799139"
      ]
     },
     "execution_count": 37,
     "metadata": {},
     "output_type": "execute_result"
    }
   ],
   "source": [
    "wine['fixed acidity'].mean()"
   ]
  },
  {
   "cell_type": "code",
   "execution_count": 38,
   "metadata": {},
   "outputs": [],
   "source": [
    "from sklearn.preprocessing import StandardScaler"
   ]
  },
  {
   "cell_type": "code",
   "execution_count": 39,
   "metadata": {
    "scrolled": false
   },
   "outputs": [
    {
     "data": {
      "text/plain": [
       "array([[ 0.14247327,  2.18883292, -2.19283252, ...,  0.19309677,\n",
       "        -0.91546416,  1.75018984],\n",
       "       [ 0.45103572,  3.28223494, -2.19283252, ...,  0.99957862,\n",
       "        -0.58006813,  1.75018984],\n",
       "       [ 0.45103572,  2.55330026, -1.91755268, ...,  0.79795816,\n",
       "        -0.58006813,  1.75018984],\n",
       "       ...,\n",
       "       [-0.55179227, -0.6054167 , -0.88525328, ..., -0.47897144,\n",
       "        -0.91546416, -0.57136659],\n",
       "       [-1.32319841, -0.30169391, -0.12823371, ..., -1.016626  ,\n",
       "         1.9354021 , -0.57136659],\n",
       "       [-0.93749534, -0.78765037,  0.42232597, ..., -1.41986693,\n",
       "         1.09691202, -0.57136659]])"
      ]
     },
     "execution_count": 39,
     "metadata": {},
     "output_type": "execute_result"
    }
   ],
   "source": [
    "scaler = StandardScaler()\n",
    "scaler.fit(wine_x)\n",
    "scaler.transform(wine_x)"
   ]
  },
  {
   "cell_type": "code",
   "execution_count": 40,
   "metadata": {
    "scrolled": true
   },
   "outputs": [
    {
     "data": {
      "text/html": [
       "<div>\n",
       "<style scoped>\n",
       "    .dataframe tbody tr th:only-of-type {\n",
       "        vertical-align: middle;\n",
       "    }\n",
       "\n",
       "    .dataframe tbody tr th {\n",
       "        vertical-align: top;\n",
       "    }\n",
       "\n",
       "    .dataframe thead th {\n",
       "        text-align: right;\n",
       "    }\n",
       "</style>\n",
       "<table border=\"1\" class=\"dataframe\">\n",
       "  <thead>\n",
       "    <tr style=\"text-align: right;\">\n",
       "      <th></th>\n",
       "      <th>fixed acidity</th>\n",
       "      <th>volatile acidity</th>\n",
       "      <th>citric acid</th>\n",
       "      <th>residual sugar</th>\n",
       "      <th>chlorides</th>\n",
       "      <th>free sulfur dioxide</th>\n",
       "      <th>total sulfur dioxide</th>\n",
       "      <th>density</th>\n",
       "      <th>pH</th>\n",
       "      <th>sulphates</th>\n",
       "      <th>alcohol</th>\n",
       "      <th>red_wine</th>\n",
       "    </tr>\n",
       "  </thead>\n",
       "  <tbody>\n",
       "    <tr>\n",
       "      <th>0</th>\n",
       "      <td>0.142473</td>\n",
       "      <td>2.188833</td>\n",
       "      <td>-2.192833</td>\n",
       "      <td>-0.744778</td>\n",
       "      <td>0.569958</td>\n",
       "      <td>-1.100140</td>\n",
       "      <td>-1.446359</td>\n",
       "      <td>1.034993</td>\n",
       "      <td>1.813090</td>\n",
       "      <td>0.193097</td>\n",
       "      <td>-0.915464</td>\n",
       "      <td>1.750190</td>\n",
       "    </tr>\n",
       "    <tr>\n",
       "      <th>1</th>\n",
       "      <td>0.451036</td>\n",
       "      <td>3.282235</td>\n",
       "      <td>-2.192833</td>\n",
       "      <td>-0.597640</td>\n",
       "      <td>1.197975</td>\n",
       "      <td>-0.311320</td>\n",
       "      <td>-0.862469</td>\n",
       "      <td>0.701486</td>\n",
       "      <td>-0.115073</td>\n",
       "      <td>0.999579</td>\n",
       "      <td>-0.580068</td>\n",
       "      <td>1.750190</td>\n",
       "    </tr>\n",
       "    <tr>\n",
       "      <th>2</th>\n",
       "      <td>0.451036</td>\n",
       "      <td>2.553300</td>\n",
       "      <td>-1.917553</td>\n",
       "      <td>-0.660699</td>\n",
       "      <td>1.026697</td>\n",
       "      <td>-0.874763</td>\n",
       "      <td>-1.092486</td>\n",
       "      <td>0.768188</td>\n",
       "      <td>0.258120</td>\n",
       "      <td>0.797958</td>\n",
       "      <td>-0.580068</td>\n",
       "      <td>1.750190</td>\n",
       "    </tr>\n",
       "    <tr>\n",
       "      <th>3</th>\n",
       "      <td>3.073817</td>\n",
       "      <td>-0.362438</td>\n",
       "      <td>1.661085</td>\n",
       "      <td>-0.744778</td>\n",
       "      <td>0.541412</td>\n",
       "      <td>-0.762074</td>\n",
       "      <td>-0.986324</td>\n",
       "      <td>1.101694</td>\n",
       "      <td>-0.363868</td>\n",
       "      <td>0.327510</td>\n",
       "      <td>-0.580068</td>\n",
       "      <td>1.750190</td>\n",
       "    </tr>\n",
       "    <tr>\n",
       "      <th>4</th>\n",
       "      <td>0.142473</td>\n",
       "      <td>2.188833</td>\n",
       "      <td>-2.192833</td>\n",
       "      <td>-0.744778</td>\n",
       "      <td>0.569958</td>\n",
       "      <td>-1.100140</td>\n",
       "      <td>-1.446359</td>\n",
       "      <td>1.034993</td>\n",
       "      <td>1.813090</td>\n",
       "      <td>0.193097</td>\n",
       "      <td>-0.915464</td>\n",
       "      <td>1.750190</td>\n",
       "    </tr>\n",
       "    <tr>\n",
       "      <th>...</th>\n",
       "      <td>...</td>\n",
       "      <td>...</td>\n",
       "      <td>...</td>\n",
       "      <td>...</td>\n",
       "      <td>...</td>\n",
       "      <td>...</td>\n",
       "      <td>...</td>\n",
       "      <td>...</td>\n",
       "      <td>...</td>\n",
       "      <td>...</td>\n",
       "      <td>...</td>\n",
       "      <td>...</td>\n",
       "    </tr>\n",
       "    <tr>\n",
       "      <th>6492</th>\n",
       "      <td>-0.783214</td>\n",
       "      <td>-0.787650</td>\n",
       "      <td>-0.197054</td>\n",
       "      <td>-0.807837</td>\n",
       "      <td>-0.486252</td>\n",
       "      <td>-0.367664</td>\n",
       "      <td>-0.420128</td>\n",
       "      <td>-1.186161</td>\n",
       "      <td>0.320319</td>\n",
       "      <td>-0.210144</td>\n",
       "      <td>0.593818</td>\n",
       "      <td>-0.571367</td>\n",
       "    </tr>\n",
       "    <tr>\n",
       "      <th>6493</th>\n",
       "      <td>-0.474652</td>\n",
       "      <td>-0.119460</td>\n",
       "      <td>0.284686</td>\n",
       "      <td>0.537425</td>\n",
       "      <td>-0.257883</td>\n",
       "      <td>1.491697</td>\n",
       "      <td>0.924588</td>\n",
       "      <td>0.067824</td>\n",
       "      <td>-0.426067</td>\n",
       "      <td>-0.478971</td>\n",
       "      <td>-0.747766</td>\n",
       "      <td>-0.571367</td>\n",
       "    </tr>\n",
       "    <tr>\n",
       "      <th>6494</th>\n",
       "      <td>-0.551792</td>\n",
       "      <td>-0.605417</td>\n",
       "      <td>-0.885253</td>\n",
       "      <td>-0.891916</td>\n",
       "      <td>-0.429160</td>\n",
       "      <td>-0.029599</td>\n",
       "      <td>-0.083949</td>\n",
       "      <td>-0.719251</td>\n",
       "      <td>-1.421248</td>\n",
       "      <td>-0.478971</td>\n",
       "      <td>-0.915464</td>\n",
       "      <td>-0.571367</td>\n",
       "    </tr>\n",
       "    <tr>\n",
       "      <th>6495</th>\n",
       "      <td>-1.323198</td>\n",
       "      <td>-0.301694</td>\n",
       "      <td>-0.128234</td>\n",
       "      <td>-0.912936</td>\n",
       "      <td>-0.971538</td>\n",
       "      <td>-0.593041</td>\n",
       "      <td>-0.101642</td>\n",
       "      <td>-2.003251</td>\n",
       "      <td>0.755710</td>\n",
       "      <td>-1.016626</td>\n",
       "      <td>1.935402</td>\n",
       "      <td>-0.571367</td>\n",
       "    </tr>\n",
       "    <tr>\n",
       "      <th>6496</th>\n",
       "      <td>-0.937495</td>\n",
       "      <td>-0.787650</td>\n",
       "      <td>0.422326</td>\n",
       "      <td>-0.975995</td>\n",
       "      <td>-1.028631</td>\n",
       "      <td>-0.480353</td>\n",
       "      <td>-0.313966</td>\n",
       "      <td>-1.763127</td>\n",
       "      <td>0.258120</td>\n",
       "      <td>-1.419867</td>\n",
       "      <td>1.096912</td>\n",
       "      <td>-0.571367</td>\n",
       "    </tr>\n",
       "  </tbody>\n",
       "</table>\n",
       "<p>6497 rows × 12 columns</p>\n",
       "</div>"
      ],
      "text/plain": [
       "      fixed acidity  volatile acidity  citric acid  residual sugar  chlorides  \\\n",
       "0          0.142473          2.188833    -2.192833       -0.744778   0.569958   \n",
       "1          0.451036          3.282235    -2.192833       -0.597640   1.197975   \n",
       "2          0.451036          2.553300    -1.917553       -0.660699   1.026697   \n",
       "3          3.073817         -0.362438     1.661085       -0.744778   0.541412   \n",
       "4          0.142473          2.188833    -2.192833       -0.744778   0.569958   \n",
       "...             ...               ...          ...             ...        ...   \n",
       "6492      -0.783214         -0.787650    -0.197054       -0.807837  -0.486252   \n",
       "6493      -0.474652         -0.119460     0.284686        0.537425  -0.257883   \n",
       "6494      -0.551792         -0.605417    -0.885253       -0.891916  -0.429160   \n",
       "6495      -1.323198         -0.301694    -0.128234       -0.912936  -0.971538   \n",
       "6496      -0.937495         -0.787650     0.422326       -0.975995  -1.028631   \n",
       "\n",
       "      free sulfur dioxide  total sulfur dioxide   density        pH  \\\n",
       "0               -1.100140             -1.446359  1.034993  1.813090   \n",
       "1               -0.311320             -0.862469  0.701486 -0.115073   \n",
       "2               -0.874763             -1.092486  0.768188  0.258120   \n",
       "3               -0.762074             -0.986324  1.101694 -0.363868   \n",
       "4               -1.100140             -1.446359  1.034993  1.813090   \n",
       "...                   ...                   ...       ...       ...   \n",
       "6492            -0.367664             -0.420128 -1.186161  0.320319   \n",
       "6493             1.491697              0.924588  0.067824 -0.426067   \n",
       "6494            -0.029599             -0.083949 -0.719251 -1.421248   \n",
       "6495            -0.593041             -0.101642 -2.003251  0.755710   \n",
       "6496            -0.480353             -0.313966 -1.763127  0.258120   \n",
       "\n",
       "      sulphates   alcohol  red_wine  \n",
       "0      0.193097 -0.915464  1.750190  \n",
       "1      0.999579 -0.580068  1.750190  \n",
       "2      0.797958 -0.580068  1.750190  \n",
       "3      0.327510 -0.580068  1.750190  \n",
       "4      0.193097 -0.915464  1.750190  \n",
       "...         ...       ...       ...  \n",
       "6492  -0.210144  0.593818 -0.571367  \n",
       "6493  -0.478971 -0.747766 -0.571367  \n",
       "6494  -0.478971 -0.915464 -0.571367  \n",
       "6495  -1.016626  1.935402 -0.571367  \n",
       "6496  -1.419867  1.096912 -0.571367  \n",
       "\n",
       "[6497 rows x 12 columns]"
      ]
     },
     "execution_count": 40,
     "metadata": {},
     "output_type": "execute_result"
    }
   ],
   "source": [
    "pd.DataFrame(scaler.transform(wine_x), columns=wine_x.columns)"
   ]
  },
  {
   "cell_type": "code",
   "execution_count": 45,
   "metadata": {},
   "outputs": [
    {
     "data": {
      "text/plain": [
       "StandardScaler()"
      ]
     },
     "execution_count": 45,
     "metadata": {},
     "output_type": "execute_result"
    }
   ],
   "source": [
    "scaler2 = StandardScaler()\n",
    "scaler2.fit(wine_x)\n",
    "#scaler2.transform(wine_x)"
   ]
  },
  {
   "cell_type": "code",
   "execution_count": 46,
   "metadata": {},
   "outputs": [
    {
     "data": {
      "text/plain": [
       "array([7.21530706e+00, 3.39666000e-01, 3.18633215e-01, 5.44323534e+00,\n",
       "       5.60338618e-02, 3.05253194e+01, 1.15744574e+02, 9.94696634e-01,\n",
       "       3.21850085e+00, 5.31268278e-01, 1.04918008e+01, 2.46113591e-01])"
      ]
     },
     "execution_count": 46,
     "metadata": {},
     "output_type": "execute_result"
    }
   ],
   "source": [
    "scaler2.mean_"
   ]
  },
  {
   "cell_type": "code",
   "execution_count": 42,
   "metadata": {
    "scrolled": true
   },
   "outputs": [
    {
     "data": {
      "text/plain": [
       "array([7.21530706e+00, 3.39666000e-01, 3.18633215e-01, 5.44323534e+00,\n",
       "       5.60338618e-02, 3.05253194e+01, 1.15744574e+02, 9.94696634e-01,\n",
       "       3.21850085e+00, 5.31268278e-01, 1.04918008e+01, 2.46113591e-01])"
      ]
     },
     "execution_count": 42,
     "metadata": {},
     "output_type": "execute_result"
    }
   ],
   "source": [
    "scaler.mean_"
   ]
  },
  {
   "cell_type": "code",
   "execution_count": 43,
   "metadata": {
    "scrolled": true
   },
   "outputs": [
    {
     "data": {
      "text/plain": [
       "array([1.29633398e+00, 1.64623803e-01, 1.45306681e-01, 4.75743758e+00,\n",
       "       3.50309051e-02, 1.77480338e+01, 5.65175045e+01, 2.99844222e-03,\n",
       "       1.60774828e-01, 1.48794421e-01, 1.19261996e+00, 4.30745506e-01])"
      ]
     },
     "execution_count": 43,
     "metadata": {},
     "output_type": "execute_result"
    }
   ],
   "source": [
    "scaler.scale_"
   ]
  },
  {
   "cell_type": "code",
   "execution_count": 47,
   "metadata": {
    "hidden": true,
    "scrolled": false
   },
   "outputs": [
    {
     "data": {
      "text/html": [
       "<table class=\"simpletable\">\n",
       "<caption>OLS Regression Results</caption>\n",
       "<tr>\n",
       "  <th>Dep. Variable:</th>         <td>quality</td>     <th>  R-squared:         </th> <td>   0.297</td> \n",
       "</tr>\n",
       "<tr>\n",
       "  <th>Model:</th>                   <td>OLS</td>       <th>  Adj. R-squared:    </th> <td>   0.295</td> \n",
       "</tr>\n",
       "<tr>\n",
       "  <th>Method:</th>             <td>Least Squares</td>  <th>  F-statistic:       </th> <td>   227.8</td> \n",
       "</tr>\n",
       "<tr>\n",
       "  <th>Date:</th>             <td>Mon, 11 Dec 2023</td> <th>  Prob (F-statistic):</th>  <td>  0.00</td>  \n",
       "</tr>\n",
       "<tr>\n",
       "  <th>Time:</th>                 <td>12:27:18</td>     <th>  Log-Likelihood:    </th> <td> -7195.2</td> \n",
       "</tr>\n",
       "<tr>\n",
       "  <th>No. Observations:</th>      <td>  6497</td>      <th>  AIC:               </th> <td>1.442e+04</td>\n",
       "</tr>\n",
       "<tr>\n",
       "  <th>Df Residuals:</th>          <td>  6484</td>      <th>  BIC:               </th> <td>1.450e+04</td>\n",
       "</tr>\n",
       "<tr>\n",
       "  <th>Df Model:</th>              <td>    12</td>      <th>                     </th>     <td> </td>    \n",
       "</tr>\n",
       "<tr>\n",
       "  <th>Covariance Type:</th>      <td>nonrobust</td>    <th>                     </th>     <td> </td>    \n",
       "</tr>\n",
       "</table>\n",
       "<table class=\"simpletable\">\n",
       "<tr>\n",
       "            <td></td>              <th>coef</th>     <th>std err</th>      <th>t</th>      <th>P>|t|</th>  <th>[0.025</th>    <th>0.975]</th>  \n",
       "</tr>\n",
       "<tr>\n",
       "  <th>const</th>                <td>    5.8184</td> <td>    0.009</td> <td>  639.726</td> <td> 0.000</td> <td>    5.801</td> <td>    5.836</td>\n",
       "</tr>\n",
       "<tr>\n",
       "  <th>fixed acidity</th>        <td>    0.1103</td> <td>    0.020</td> <td>    5.396</td> <td> 0.000</td> <td>    0.070</td> <td>    0.150</td>\n",
       "</tr>\n",
       "<tr>\n",
       "  <th>volatile acidity</th>     <td>   -0.2457</td> <td>    0.013</td> <td>  -18.345</td> <td> 0.000</td> <td>   -0.272</td> <td>   -0.219</td>\n",
       "</tr>\n",
       "<tr>\n",
       "  <th>citric acid</th>          <td>   -0.0091</td> <td>    0.012</td> <td>   -0.786</td> <td> 0.432</td> <td>   -0.032</td> <td>    0.014</td>\n",
       "</tr>\n",
       "<tr>\n",
       "  <th>residual sugar</th>       <td>    0.2970</td> <td>    0.028</td> <td>   10.522</td> <td> 0.000</td> <td>    0.242</td> <td>    0.352</td>\n",
       "</tr>\n",
       "<tr>\n",
       "  <th>chlorides</th>            <td>   -0.0265</td> <td>    0.012</td> <td>   -2.264</td> <td> 0.024</td> <td>   -0.049</td> <td>   -0.004</td>\n",
       "</tr>\n",
       "<tr>\n",
       "  <th>free sulfur dioxide</th>  <td>    0.0876</td> <td>    0.014</td> <td>    6.443</td> <td> 0.000</td> <td>    0.061</td> <td>    0.114</td>\n",
       "</tr>\n",
       "<tr>\n",
       "  <th>total sulfur dioxide</th> <td>   -0.0793</td> <td>    0.018</td> <td>   -4.333</td> <td> 0.000</td> <td>   -0.115</td> <td>   -0.043</td>\n",
       "</tr>\n",
       "<tr>\n",
       "  <th>density</th>              <td>   -0.3116</td> <td>    0.043</td> <td>   -7.248</td> <td> 0.000</td> <td>   -0.396</td> <td>   -0.227</td>\n",
       "</tr>\n",
       "<tr>\n",
       "  <th>pH</th>                   <td>    0.0802</td> <td>    0.015</td> <td>    5.506</td> <td> 0.000</td> <td>    0.052</td> <td>    0.109</td>\n",
       "</tr>\n",
       "<tr>\n",
       "  <th>sulphates</th>            <td>    0.1074</td> <td>    0.011</td> <td>    9.466</td> <td> 0.000</td> <td>    0.085</td> <td>    0.130</td>\n",
       "</tr>\n",
       "<tr>\n",
       "  <th>alcohol</th>              <td>    0.2656</td> <td>    0.022</td> <td>   12.320</td> <td> 0.000</td> <td>    0.223</td> <td>    0.308</td>\n",
       "</tr>\n",
       "<tr>\n",
       "  <th>red_wine</th>             <td>    0.1556</td> <td>    0.024</td> <td>    6.367</td> <td> 0.000</td> <td>    0.108</td> <td>    0.204</td>\n",
       "</tr>\n",
       "</table>\n",
       "<table class=\"simpletable\">\n",
       "<tr>\n",
       "  <th>Omnibus:</th>       <td>140.992</td> <th>  Durbin-Watson:     </th> <td>   1.648</td>\n",
       "</tr>\n",
       "<tr>\n",
       "  <th>Prob(Omnibus):</th> <td> 0.000</td>  <th>  Jarque-Bera (JB):  </th> <td> 313.985</td>\n",
       "</tr>\n",
       "<tr>\n",
       "  <th>Skew:</th>          <td> 0.016</td>  <th>  Prob(JB):          </th> <td>6.59e-69</td>\n",
       "</tr>\n",
       "<tr>\n",
       "  <th>Kurtosis:</th>      <td> 4.077</td>  <th>  Cond. No.          </th> <td>    12.6</td>\n",
       "</tr>\n",
       "</table><br/><br/>Notes:<br/>[1] Standard Errors assume that the covariance matrix of the errors is correctly specified."
      ],
      "text/plain": [
       "<class 'statsmodels.iolib.summary.Summary'>\n",
       "\"\"\"\n",
       "                            OLS Regression Results                            \n",
       "==============================================================================\n",
       "Dep. Variable:                quality   R-squared:                       0.297\n",
       "Model:                            OLS   Adj. R-squared:                  0.295\n",
       "Method:                 Least Squares   F-statistic:                     227.8\n",
       "Date:                Mon, 11 Dec 2023   Prob (F-statistic):               0.00\n",
       "Time:                        12:27:18   Log-Likelihood:                -7195.2\n",
       "No. Observations:                6497   AIC:                         1.442e+04\n",
       "Df Residuals:                    6484   BIC:                         1.450e+04\n",
       "Df Model:                          12                                         \n",
       "Covariance Type:            nonrobust                                         \n",
       "========================================================================================\n",
       "                           coef    std err          t      P>|t|      [0.025      0.975]\n",
       "----------------------------------------------------------------------------------------\n",
       "const                    5.8184      0.009    639.726      0.000       5.801       5.836\n",
       "fixed acidity            0.1103      0.020      5.396      0.000       0.070       0.150\n",
       "volatile acidity        -0.2457      0.013    -18.345      0.000      -0.272      -0.219\n",
       "citric acid             -0.0091      0.012     -0.786      0.432      -0.032       0.014\n",
       "residual sugar           0.2970      0.028     10.522      0.000       0.242       0.352\n",
       "chlorides               -0.0265      0.012     -2.264      0.024      -0.049      -0.004\n",
       "free sulfur dioxide      0.0876      0.014      6.443      0.000       0.061       0.114\n",
       "total sulfur dioxide    -0.0793      0.018     -4.333      0.000      -0.115      -0.043\n",
       "density                 -0.3116      0.043     -7.248      0.000      -0.396      -0.227\n",
       "pH                       0.0802      0.015      5.506      0.000       0.052       0.109\n",
       "sulphates                0.1074      0.011      9.466      0.000       0.085       0.130\n",
       "alcohol                  0.2656      0.022     12.320      0.000       0.223       0.308\n",
       "red_wine                 0.1556      0.024      6.367      0.000       0.108       0.204\n",
       "==============================================================================\n",
       "Omnibus:                      140.992   Durbin-Watson:                   1.648\n",
       "Prob(Omnibus):                  0.000   Jarque-Bera (JB):              313.985\n",
       "Skew:                           0.016   Prob(JB):                     6.59e-69\n",
       "Kurtosis:                       4.077   Cond. No.                         12.6\n",
       "==============================================================================\n",
       "\n",
       "Notes:\n",
       "[1] Standard Errors assume that the covariance matrix of the errors is correctly specified.\n",
       "\"\"\""
      ]
     },
     "execution_count": 47,
     "metadata": {},
     "output_type": "execute_result"
    }
   ],
   "source": [
    "predictors = sm.add_constant(wine_x_scaled)\n",
    "model = sm.OLS(wine_y, predictors).fit()\n",
    "model.summary()"
   ]
  },
  {
   "cell_type": "code",
   "execution_count": 51,
   "metadata": {},
   "outputs": [
    {
     "data": {
      "text/plain": [
       "const                   5.818378\n",
       "fixed acidity           0.110274\n",
       "volatile acidity       -0.245685\n",
       "citric acid            -0.009099\n",
       "residual sugar          0.297042\n",
       "chlorides              -0.026527\n",
       "free sulfur dioxide     0.087623\n",
       "total sulfur dioxide   -0.079276\n",
       "density                -0.311567\n",
       "pH                      0.080187\n",
       "sulphates               0.107392\n",
       "alcohol                 0.265560\n",
       "red_wine                0.155642\n",
       "dtype: float64"
      ]
     },
     "execution_count": 51,
     "metadata": {},
     "output_type": "execute_result"
    }
   ],
   "source": [
    "model.params"
   ]
  },
  {
   "cell_type": "markdown",
   "metadata": {
    "hidden": true
   },
   "source": [
    "> Compare how well this model did with the one before scaling. Does it perform any differently?"
   ]
  },
  {
   "cell_type": "code",
   "execution_count": 48,
   "metadata": {},
   "outputs": [
    {
     "data": {
      "text/plain": [
       "0.002998673003719041"
      ]
     },
     "execution_count": 48,
     "metadata": {},
     "output_type": "execute_result"
    }
   ],
   "source": [
    "wine['density'].std()"
   ]
  },
  {
   "cell_type": "markdown",
   "metadata": {
    "hidden": true
   },
   "source": [
    "# Notes here\n",
    "- same r2, same pvalue, same f-stat,same pvalue for features, BUT very different coefficients"
   ]
  },
  {
   "cell_type": "markdown",
   "metadata": {
    "heading_collapsed": true,
    "hidden": true
   },
   "source": [
    "### 🧠 **Knowledge Check**"
   ]
  },
  {
   "cell_type": "markdown",
   "metadata": {
    "hidden": true
   },
   "source": [
    "> After standard scaling, what would it mean when all the $x_i$ are all $0$?\n",
    "\n",
    "> And what does this mean for the constant term $\\hat{\\beta}_0$? Could we check this?"
   ]
  },
  {
   "cell_type": "code",
   "execution_count": 53,
   "metadata": {},
   "outputs": [
    {
     "data": {
      "text/plain": [
       "5.818377712790519"
      ]
     },
     "execution_count": 53,
     "metadata": {},
     "output_type": "execute_result"
    }
   ],
   "source": [
    "wine_y.mean()"
   ]
  }
 ],
 "metadata": {
  "kernelspec": {
   "display_name": "Python (learn-env)",
   "language": "python",
   "name": "learn-env"
  },
  "language_info": {
   "codemirror_mode": {
    "name": "ipython",
    "version": 3
   },
   "file_extension": ".py",
   "mimetype": "text/x-python",
   "name": "python",
   "nbconvert_exporter": "python",
   "pygments_lexer": "ipython3",
   "version": "3.8.5"
  },
  "toc": {
   "base_numbering": 1,
   "nav_menu": {},
   "number_sections": true,
   "sideBar": true,
   "skip_h1_title": false,
   "title_cell": "Table of Contents",
   "title_sidebar": "TOC",
   "toc_cell": true,
   "toc_position": {
    "height": "calc(100% - 180px)",
    "left": "10px",
    "top": "150px",
    "width": "302px"
   },
   "toc_section_display": true,
   "toc_window_display": true
  }
 },
 "nbformat": 4,
 "nbformat_minor": 2
}
