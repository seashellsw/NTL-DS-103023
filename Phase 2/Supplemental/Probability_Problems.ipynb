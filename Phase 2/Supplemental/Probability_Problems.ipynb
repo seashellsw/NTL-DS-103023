{
 "cells": [
  {
   "cell_type": "markdown",
   "metadata": {},
   "source": [
    "# Practice Word Problems for Probability\n",
    "Think about how you can draw out the tree\n",
    "\n",
    "What information is given in question - assign variables"
   ]
  },
  {
   "cell_type": "markdown",
   "metadata": {},
   "source": [
    "### 1. John is going to bake a pie but he needs to go buy a baking dish first. He has three options; he can go to the grocery store, the local walmart, or the dollar general. John is 3 times more likely to go the grocery store then walmart and there is a 20% chance he goes to dollar general. \n",
    "\n",
    "### At each store, John has an option for a pyrex or glass baking dish. \n",
    "    -At the grocery store, the probability of him getting a pyrex dish is 65%.\n",
    "    -At walmart, the probability of him getting a glass dish is 80%.\n",
    "    -At the dollar general, the probability of him getting a glass dish is 45%."
   ]
  },
  {
   "cell_type": "markdown",
   "metadata": {},
   "source": [
    "### What are our 'known' probabilities?"
   ]
  },
  {
   "cell_type": "code",
   "execution_count": null,
   "metadata": {},
   "outputs": [],
   "source": []
  },
  {
   "cell_type": "markdown",
   "metadata": {},
   "source": [
    "#### 1A: What is the probability that John goes to the grocery store or walmart?"
   ]
  },
  {
   "cell_type": "code",
   "execution_count": null,
   "metadata": {},
   "outputs": [],
   "source": []
  },
  {
   "cell_type": "markdown",
   "metadata": {},
   "source": [
    "#### 1B: What is the probability that John got a pyrex baking dish? Or a glass dish?"
   ]
  },
  {
   "cell_type": "code",
   "execution_count": null,
   "metadata": {},
   "outputs": [],
   "source": []
  },
  {
   "cell_type": "markdown",
   "metadata": {},
   "source": [
    "#### 1C: Given that John got a glass dish what is the probability that he went to walmart?"
   ]
  },
  {
   "cell_type": "code",
   "execution_count": null,
   "metadata": {},
   "outputs": [],
   "source": []
  },
  {
   "cell_type": "markdown",
   "metadata": {},
   "source": [
    "### 2. A medical test designed to diagnose a certain disease has a true positive rate of 99.5% and a true negative rate of 99%. The disease is somewhat rare, only 2% of the total population have it.\n",
    "\n",
    "### What are our 'known' probabilities?"
   ]
  },
  {
   "cell_type": "code",
   "execution_count": null,
   "metadata": {},
   "outputs": [],
   "source": []
  },
  {
   "cell_type": "markdown",
   "metadata": {},
   "source": [
    "#### 2A: What is the proability of anyone getting a positive test?"
   ]
  },
  {
   "cell_type": "code",
   "execution_count": null,
   "metadata": {},
   "outputs": [],
   "source": []
  },
  {
   "cell_type": "markdown",
   "metadata": {},
   "source": [
    "#### 2B: Given a postive test what is the probability of having the disease?"
   ]
  },
  {
   "cell_type": "code",
   "execution_count": null,
   "metadata": {},
   "outputs": [],
   "source": []
  },
  {
   "cell_type": "markdown",
   "metadata": {},
   "source": [
    "### 3. I have two bags of marbles, each containing red, green, and blue marbles. The probability of me drawing a marble from either bag is uniform.\n",
    "    -Bag 1 has 10 red, 50 green, and 40 blue marbles\n",
    "    -Bag 2 has 5 red, 30 green, and 15 blue marbles"
   ]
  },
  {
   "cell_type": "markdown",
   "metadata": {},
   "source": [
    "### What are our 'known' probabilities"
   ]
  },
  {
   "cell_type": "code",
   "execution_count": null,
   "metadata": {},
   "outputs": [],
   "source": []
  },
  {
   "cell_type": "markdown",
   "metadata": {},
   "source": [
    "#### 3A: What is the probability of drawing a red marble? A green marble? A blue marble?"
   ]
  },
  {
   "cell_type": "code",
   "execution_count": null,
   "metadata": {},
   "outputs": [],
   "source": []
  },
  {
   "cell_type": "markdown",
   "metadata": {},
   "source": [
    "#### 3B: Given a green marble, what is the probability it came from bag 2?"
   ]
  },
  {
   "cell_type": "code",
   "execution_count": null,
   "metadata": {},
   "outputs": [],
   "source": []
  },
  {
   "cell_type": "markdown",
   "metadata": {},
   "source": [
    "### 4. The voting policy and behaviour of politicians oftened ties issues togather. In a local election, state politicians had to vote on matters of increasing taxes (yes or no) and on providing three levels of funding support for local schools (no, low, or high). It turns out that voting on these two issues was closely related. The vote to increase taxes passed with 68% support.\n",
    "    -Of those who voted no to increased taxes:\n",
    "        -65% voted for no funding\n",
    "        -20% voted for low funding\n",
    "        -15% voted for high funing\n",
    "    -Of those who voted yes to increased taxes:\n",
    "        -20% voted for no funding\n",
    "        -35% voted for low funding\n",
    "        -45% voted for high funding"
   ]
  },
  {
   "cell_type": "markdown",
   "metadata": {},
   "source": [
    "### What are our 'known' probabilities?"
   ]
  },
  {
   "cell_type": "code",
   "execution_count": null,
   "metadata": {},
   "outputs": [],
   "source": []
  },
  {
   "cell_type": "markdown",
   "metadata": {},
   "source": [
    "#### 4A: What is the probability of low funding support?"
   ]
  },
  {
   "cell_type": "code",
   "execution_count": null,
   "metadata": {},
   "outputs": [],
   "source": []
  },
  {
   "cell_type": "markdown",
   "metadata": {},
   "source": [
    "#### 4B: Based on the above voting breakdown, what was the verdict of the school funding vote? Assume a simple majority wins."
   ]
  },
  {
   "cell_type": "code",
   "execution_count": null,
   "metadata": {},
   "outputs": [],
   "source": []
  },
  {
   "cell_type": "markdown",
   "metadata": {},
   "source": [
    "#### 4C: Given a vote for low funding support for schools what is the probability that person voted no to increase taxes?"
   ]
  },
  {
   "cell_type": "code",
   "execution_count": null,
   "metadata": {},
   "outputs": [],
   "source": []
  }
 ],
 "metadata": {
  "kernelspec": {
   "display_name": "Python (learn-env)",
   "language": "python",
   "name": "learn-env"
  },
  "language_info": {
   "codemirror_mode": {
    "name": "ipython",
    "version": 3
   },
   "file_extension": ".py",
   "mimetype": "text/x-python",
   "name": "python",
   "nbconvert_exporter": "python",
   "pygments_lexer": "ipython3",
   "version": "3.8.5"
  }
 },
 "nbformat": 4,
 "nbformat_minor": 4
}
