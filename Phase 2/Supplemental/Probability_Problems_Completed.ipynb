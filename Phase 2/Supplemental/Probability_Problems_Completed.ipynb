{
 "cells": [
  {
   "cell_type": "markdown",
   "metadata": {},
   "source": [
    "# Practice Word Problems for Probability\n",
    "Think about how you can draw out the tree\n",
    "\n",
    "What information is given in question - assign variables"
   ]
  },
  {
   "cell_type": "markdown",
   "metadata": {},
   "source": [
    "### 1. John is going to bake a pie but he needs to go buy a baking dish first. He has three options; he can go to the grocery store, the local walmart, or the dollar general. John is 3 times more likely to go the grocery store then walmart and there is a 20% chance he goes to dollar general. \n",
    "\n",
    "### At each store, John has an option for a pyrex or glass baking dish. \n",
    "    -At the grocery store, the probability of him getting a pyrex dish is 65%.\n",
    "    -At walmart, the probability of him getting a glass dish is 80%.\n",
    "    -At the dollar general, the probability of him getting a glass dish is 45%."
   ]
  },
  {
   "cell_type": "markdown",
   "metadata": {},
   "source": [
    "### What are our 'known' probabilities?"
   ]
  },
  {
   "cell_type": "code",
   "execution_count": 1,
   "metadata": {},
   "outputs": [],
   "source": [
    "p_grocery = .6\n",
    "p_walmart = .2\n",
    "p_dollar = .2\n",
    "\n",
    "p_py_giv_gro = .65\n",
    "p_gl_giv_gro = .35\n",
    "p_gl_giv_wal = .8\n",
    "p_py_giv_wal = .2\n",
    "p_py_giv_dol = .45\n",
    "p_gl_giv_dol = .55"
   ]
  },
  {
   "cell_type": "markdown",
   "metadata": {},
   "source": [
    "#### 1A: What is the probability that John goes to the grocery store or walmart?"
   ]
  },
  {
   "cell_type": "code",
   "execution_count": 2,
   "metadata": {},
   "outputs": [
    {
     "data": {
      "text/plain": [
       "(0.6, 0.2)"
      ]
     },
     "execution_count": 2,
     "metadata": {},
     "output_type": "execute_result"
    }
   ],
   "source": [
    "p_grocery, p_walmart"
   ]
  },
  {
   "cell_type": "markdown",
   "metadata": {},
   "source": [
    "#### 1B: What is the probability that John got a pyrex baking dish? Or a glass dish?"
   ]
  },
  {
   "cell_type": "code",
   "execution_count": 3,
   "metadata": {},
   "outputs": [
    {
     "data": {
      "text/plain": [
       "(0.48, 0.52)"
      ]
     },
     "execution_count": 3,
     "metadata": {},
     "output_type": "execute_result"
    }
   ],
   "source": [
    "# What law of probability? - Total proability\n",
    "p_glass = (p_grocery * p_gl_giv_gro) + (p_walmart * p_gl_giv_wal) + (p_dollar * p_gl_giv_dol)\n",
    "p_pyrex = (p_grocery * p_py_giv_gro) + (p_walmart * p_py_giv_wal) + (p_dollar * p_py_giv_dol)\n",
    "p_glass, p_pyrex"
   ]
  },
  {
   "cell_type": "markdown",
   "metadata": {},
   "source": [
    "#### 1C: Given that John got a glass dish what is the probability that he went to walmart?"
   ]
  },
  {
   "cell_type": "code",
   "execution_count": 4,
   "metadata": {},
   "outputs": [
    {
     "data": {
      "text/plain": [
       "0.3333333333333334"
      ]
     },
     "execution_count": 4,
     "metadata": {},
     "output_type": "execute_result"
    }
   ],
   "source": [
    "p_wal_giv_gl =  (p_walmart * p_gl_giv_wal) / p_glass\n",
    "p_wal_giv_gl"
   ]
  },
  {
   "cell_type": "markdown",
   "metadata": {},
   "source": [
    "### 2. A medical test designed to diagnose a certain disease has a true positive rate of 99.5% and a true negative rate of 99%. The disease is somewhat rare, only 2% of the total population have it.\n",
    "\n",
    "### What are our 'known' probabilities?"
   ]
  },
  {
   "cell_type": "code",
   "execution_count": 5,
   "metadata": {},
   "outputs": [],
   "source": [
    "p_disease = .02\n",
    "p_nodis = .98\n",
    "p_pos_dis = .995\n",
    "p_pos_nodis = .005\n",
    "p_neg_nodis = .99\n",
    "p_neg_dis = .01"
   ]
  },
  {
   "cell_type": "markdown",
   "metadata": {},
   "source": [
    "#### 2A: What is the proability of anyone getting a positive test?"
   ]
  },
  {
   "cell_type": "code",
   "execution_count": 6,
   "metadata": {},
   "outputs": [
    {
     "data": {
      "text/plain": [
       "0.024800000000000003"
      ]
     },
     "execution_count": 6,
     "metadata": {},
     "output_type": "execute_result"
    }
   ],
   "source": [
    "p_pos = (p_pos_dis * p_disease) + (p_pos_nodis * p_nodis)\n",
    "p_pos"
   ]
  },
  {
   "cell_type": "markdown",
   "metadata": {},
   "source": [
    "#### 2B: Given a postive test what is the probability of having the disease?"
   ]
  },
  {
   "cell_type": "code",
   "execution_count": 7,
   "metadata": {},
   "outputs": [
    {
     "data": {
      "text/plain": [
       "0.8024193548387096"
      ]
     },
     "execution_count": 7,
     "metadata": {},
     "output_type": "execute_result"
    }
   ],
   "source": [
    "p_dis_pos = (p_pos_dis * p_disease) / p_pos\n",
    "p_dis_pos"
   ]
  },
  {
   "cell_type": "markdown",
   "metadata": {},
   "source": [
    "### 3. I have two bags of marbles, each containing red, green, and blue marbles. The probability of me drawing a marble from either bag is uniform.\n",
    "    -Bag 1 has 10 red, 50 green, and 40 blue marbles\n",
    "    -Bag 2 has 5 red, 30 green, and 15 blue marbles"
   ]
  },
  {
   "cell_type": "markdown",
   "metadata": {},
   "source": [
    "### What are our 'known' probabilities"
   ]
  },
  {
   "cell_type": "code",
   "execution_count": 8,
   "metadata": {},
   "outputs": [],
   "source": [
    "p_bag1 = .5\n",
    "p_bag2 = .5\n",
    "\n",
    "p_red_b1 = 10 / 100\n",
    "p_blue_b1 = 40 / 100\n",
    "p_green_b1 = 50 / 100\n",
    "\n",
    "p_red_b2 = 5 / 50\n",
    "p_blue_b2 = 15 / 50\n",
    "p_green_b2 = 30 / 50"
   ]
  },
  {
   "cell_type": "markdown",
   "metadata": {},
   "source": [
    "#### 3A: What is the probability of drawing a red marble? A green marble? A blue marble?"
   ]
  },
  {
   "cell_type": "code",
   "execution_count": 11,
   "metadata": {},
   "outputs": [
    {
     "data": {
      "text/plain": [
       "0.1"
      ]
     },
     "execution_count": 11,
     "metadata": {},
     "output_type": "execute_result"
    }
   ],
   "source": [
    "p_red = (p_bag1 * p_red_b1) + (p_bag2 * p_red_b2)\n",
    "p_red"
   ]
  },
  {
   "cell_type": "code",
   "execution_count": 12,
   "metadata": {},
   "outputs": [
    {
     "data": {
      "text/plain": [
       "0.55"
      ]
     },
     "execution_count": 12,
     "metadata": {},
     "output_type": "execute_result"
    }
   ],
   "source": [
    "p_green = (p_bag1 * p_green_b1) + (p_bag2 * p_green_b2)\n",
    "p_green"
   ]
  },
  {
   "cell_type": "code",
   "execution_count": 13,
   "metadata": {},
   "outputs": [
    {
     "data": {
      "text/plain": [
       "0.35"
      ]
     },
     "execution_count": 13,
     "metadata": {},
     "output_type": "execute_result"
    }
   ],
   "source": [
    "p_blue = (p_bag1 * p_blue_b1) + (p_bag2 * p_blue_b2)\n",
    "p_blue"
   ]
  },
  {
   "cell_type": "markdown",
   "metadata": {},
   "source": [
    "#### 3B: Given a green marble, what is the probability it came from bag 2?"
   ]
  },
  {
   "cell_type": "code",
   "execution_count": 14,
   "metadata": {},
   "outputs": [
    {
     "data": {
      "text/plain": [
       "0.5454545454545454"
      ]
     },
     "execution_count": 14,
     "metadata": {},
     "output_type": "execute_result"
    }
   ],
   "source": [
    "p_b2_green = (p_bag2 * p_green_b2) / p_green\n",
    "p_b2_green"
   ]
  },
  {
   "cell_type": "markdown",
   "metadata": {},
   "source": [
    "### 4. The voting policy and behaviour of politicians oftened ties issues togather. In a local election, state politicians had to vote on matters of increasing taxes (yes or no) and on providing three levels of funding support for local schools (no, low, or high). It turns out that voting on these two issues was closely related. The vote to increase taxes passed with 68% support.\n",
    "    -Of those who voted no to increased taxes:\n",
    "        -65% voted for no funding\n",
    "        -20% voted for low funding\n",
    "        -15% voted for high funing\n",
    "    -Of those who voted yes to increased taxes:\n",
    "        -20% voted for no funding\n",
    "        -35% voted for low funding\n",
    "        -45% voted for high funding"
   ]
  },
  {
   "cell_type": "markdown",
   "metadata": {},
   "source": [
    "### What are our 'known' probabilities?"
   ]
  },
  {
   "cell_type": "code",
   "execution_count": 15,
   "metadata": {},
   "outputs": [],
   "source": [
    "p_notax = .32\n",
    "p_yestax = .68\n",
    "\n",
    "p_nofun_notax = .65\n",
    "p_lowfun_notax = .2\n",
    "p_highfun_notax = .15\n",
    "\n",
    "p_nofun_yestax = .2\n",
    "p_lowfun_yestax = .35\n",
    "p_highfun_yestax = .45"
   ]
  },
  {
   "cell_type": "markdown",
   "metadata": {},
   "source": [
    "#### 4A: What is the probability of low funding support?"
   ]
  },
  {
   "cell_type": "code",
   "execution_count": 16,
   "metadata": {},
   "outputs": [
    {
     "data": {
      "text/plain": [
       "0.302"
      ]
     },
     "execution_count": 16,
     "metadata": {},
     "output_type": "execute_result"
    }
   ],
   "source": [
    "p_lowfun = (p_notax * p_lowfun_notax) + (p_yestax * p_lowfun_yestax)\n",
    "p_lowfun"
   ]
  },
  {
   "cell_type": "markdown",
   "metadata": {},
   "source": [
    "#### 4B: Based on the above voting breakdown, what was the verdict of the school funding vote? Assume a simple majority wins."
   ]
  },
  {
   "cell_type": "code",
   "execution_count": 17,
   "metadata": {},
   "outputs": [
    {
     "data": {
      "text/plain": [
       "0.34400000000000003"
      ]
     },
     "execution_count": 17,
     "metadata": {},
     "output_type": "execute_result"
    }
   ],
   "source": [
    "p_nofun = (p_notax * p_nofun_notax) + (p_yestax * p_nofun_yestax)\n",
    "p_nofun"
   ]
  },
  {
   "cell_type": "code",
   "execution_count": 18,
   "metadata": {},
   "outputs": [
    {
     "data": {
      "text/plain": [
       "0.35400000000000004"
      ]
     },
     "execution_count": 18,
     "metadata": {},
     "output_type": "execute_result"
    }
   ],
   "source": [
    "p_highfun = (p_notax * p_highfun_notax) + (p_yestax * p_highfun_yestax)\n",
    "p_highfun"
   ]
  },
  {
   "cell_type": "code",
   "execution_count": 19,
   "metadata": {},
   "outputs": [
    {
     "data": {
      "text/plain": [
       "1.0"
      ]
     },
     "execution_count": 19,
     "metadata": {},
     "output_type": "execute_result"
    }
   ],
   "source": [
    "p_lowfun + p_nofun + p_highfun"
   ]
  },
  {
   "cell_type": "markdown",
   "metadata": {},
   "source": [
    "#### 4C: Given a vote for low funding support for schools what is the probability that person voted no to increase taxes?"
   ]
  },
  {
   "cell_type": "code",
   "execution_count": 20,
   "metadata": {},
   "outputs": [
    {
     "data": {
      "text/plain": [
       "0.2119205298013245"
      ]
     },
     "execution_count": 20,
     "metadata": {},
     "output_type": "execute_result"
    }
   ],
   "source": [
    "p_notax_lowfun = (p_notax * p_lowfun_notax) / p_lowfun\n",
    "p_notax_lowfun"
   ]
  }
 ],
 "metadata": {
  "kernelspec": {
   "display_name": "Python (learn-env)",
   "language": "python",
   "name": "learn-env"
  },
  "language_info": {
   "codemirror_mode": {
    "name": "ipython",
    "version": 3
   },
   "file_extension": ".py",
   "mimetype": "text/x-python",
   "name": "python",
   "nbconvert_exporter": "python",
   "pygments_lexer": "ipython3",
   "version": "3.8.5"
  }
 },
 "nbformat": 4,
 "nbformat_minor": 4
}
