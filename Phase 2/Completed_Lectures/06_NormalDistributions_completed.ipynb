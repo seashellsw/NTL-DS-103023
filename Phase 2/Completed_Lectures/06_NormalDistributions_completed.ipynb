{
 "cells": [
  {
   "cell_type": "markdown",
   "metadata": {
    "heading_collapsed": true
   },
   "source": [
    "# Objectives"
   ]
  },
  {
   "cell_type": "markdown",
   "metadata": {
    "hidden": true
   },
   "source": [
    "* Describe the normal distribution's Empirical Rule\n",
    "* Calculate $z$-scores from a normal distribution through standardization\n",
    "* Define the Central Limit Theorem\n"
   ]
  },
  {
   "cell_type": "code",
   "execution_count": 1,
   "metadata": {
    "hidden": true
   },
   "outputs": [],
   "source": [
    "# Imports!\n",
    "from scipy import stats\n",
    "\n",
    "import matplotlib.pyplot as plt\n",
    "%matplotlib inline\n",
    "import seaborn as sns\n",
    "\n",
    "import pandas as pd\n",
    "import numpy as np"
   ]
  },
  {
   "cell_type": "markdown",
   "metadata": {
    "heading_collapsed": true
   },
   "source": [
    "# Normal Distribution"
   ]
  },
  {
   "cell_type": "markdown",
   "metadata": {
    "hidden": true
   },
   "source": [
    "We'll find that the **normal distribution** or **normal curve** or **bell curve** (it has many names) is a very common distribution and it's very useful to us in statistics."
   ]
  },
  {
   "cell_type": "markdown",
   "metadata": {
    "hidden": true
   },
   "source": [
    "![](images/normal_curve_animation.gif)"
   ]
  },
  {
   "cell_type": "markdown",
   "metadata": {
    "heading_collapsed": true,
    "hidden": true
   },
   "source": [
    "## Why a Normal Distribution?"
   ]
  },
  {
   "cell_type": "markdown",
   "metadata": {
    "hidden": true
   },
   "source": [
    "Turns out the normal distribution describes many phenomena. Think of anything that has a typical range:\n",
    "\n",
    "- human body temperatures\n",
    "- sizes of elephants\n",
    "- sizes of stars\n",
    "- populations of cities\n",
    "- IQ\n",
    "- heart rate"
   ]
  },
  {
   "cell_type": "markdown",
   "metadata": {
    "hidden": true
   },
   "source": [
    "Among human beings, 98.6 degrees Fahrenheit is an _average_ body temperature. Many folks' temperatures won't measure _exactly_ 98.6 degrees, but most measurements will be _close_. It is much more common to have a body temperature close to 98.6 (whether slightly more or slightly less) than it is to have a body temperature far from 98.6 (whether significantly more or significantly less). This is a hallmark of a normally distributed variable."
   ]
  },
  {
   "cell_type": "code",
   "execution_count": 2,
   "metadata": {
    "hidden": true
   },
   "outputs": [
    {
     "data": {
      "image/png": "[encoded data removed]",
      "text/plain": [
       "<Figure size 432x288 with 1 Axes>"
      ]
     },
     "metadata": {
      "needs_background": "light"
     },
     "output_type": "display_data"
    }
   ],
   "source": [
    "# Visualize it\n",
    "fig, ax = plt.subplots()\n",
    "\n",
    "mu = 0\n",
    "sigma = 1\n",
    "# This defines the points along the x-axis\n",
    "x = np.linspace(\n",
    "        stats.norm(mu,sigma).ppf(0.01), # Start plotting here\n",
    "        stats.norm(mu,sigma).ppf(0.99), # End plotting here\n",
    "        100                             # Number of points\n",
    ")\n",
    "# The values as at x given by the normal curve (with mu & sigma)\n",
    "y = stats.norm(mu,sigma).pdf(x)\n",
    "ax.plot(x, y,'r-');"
   ]
  },
  {
   "cell_type": "markdown",
   "metadata": {},
   "source": [
    "The Standard Normal Distribution, also known as a Gaussian distribution, is special not only because it shows up EVERYWHERE but also because it's symmetric (mean == median == mode)"
   ]
  },
  {
   "cell_type": "markdown",
   "metadata": {
    "hidden": true
   },
   "source": [
    "### Normal Curve\n",
    "\n",
    "If you're curious about how we can mathematically define a normal curve, we give this below. (Don't worry, you don't need to recall the mathematical definition).\n",
    "\n",
    "<details>\n",
    "\n",
    "$\\Large f(x) = \\frac{1}{\\sqrt{2\\pi\\sigma^2}}e^{\\frac{-(x - \\mu)^2}{2\\sigma^2}}$\n",
    "    \n",
    "This might look complicated at first, but it means that the we describe a normal curve with just **two parameters**: $\\sigma^2$ (the variance) & $\\mu$ (the mean). You may see the notation $N(\\mu, \\sigma^2)$ which emphasizes there are only two parameters to describe the distribution.\n",
    "</details>"
   ]
  },
  {
   "cell_type": "code",
   "execution_count": null,
   "metadata": {},
   "outputs": [],
   "source": [
    "stats.norm(loc=0, scale=1)"
   ]
  },
  {
   "cell_type": "markdown",
   "metadata": {
    "hidden": true
   },
   "source": [
    "\n"
   ]
  },
  {
   "cell_type": "markdown",
   "metadata": {
    "heading_collapsed": true,
    "hidden": true
   },
   "source": [
    "## *Standard* Normal Distribution"
   ]
  },
  {
   "cell_type": "markdown",
   "metadata": {
    "hidden": true
   },
   "source": [
    "A special normal distribution called the **standard normal distribution** has a mean of 0 and variance of 1. This is also known as a **z distribution**."
   ]
  },
  {
   "cell_type": "markdown",
   "metadata": {
    "hidden": true
   },
   "source": [
    "Since we know that the shape of a normal distribution changes based on its mean and variance, we'll typically convert or **standardize** our normal distribution to the standard normal distribution."
   ]
  },
  {
   "cell_type": "markdown",
   "metadata": {
    "hidden": true
   },
   "source": [
    "We simply subtract the mean $\\mu$ from each value and then divide by the standard deviation $\\sigma$:\n",
    "\n",
    "$$\\frac{x - \\mu}{\\sigma}$$\n",
    "\n",
    "We call this process **standardization**."
   ]
  },
  {
   "cell_type": "markdown",
   "metadata": {
    "hidden": true
   },
   "source": [
    "![norm_to_z](images/norm_to_z.png)"
   ]
  },
  {
   "cell_type": "code",
   "execution_count": 3,
   "metadata": {
    "hidden": true,
    "scrolled": false
   },
   "outputs": [
    {
     "data": {
      "text/plain": [
       "4.882048573629927"
      ]
     },
     "execution_count": 3,
     "metadata": {},
     "output_type": "execute_result"
    }
   ],
   "source": [
    "# Let's transform the normal distribution centered on 5\n",
    "# with a standard deviation of 2 into a standard normal\n",
    "\n",
    "# Generating our data\n",
    "# stats.norm.rvs()\n",
    "normal_dist = np.random.normal(loc=5, scale=2, size=1000)\n",
    "\n",
    "np.mean(normal_dist)"
   ]
  },
  {
   "cell_type": "code",
   "execution_count": 4,
   "metadata": {},
   "outputs": [
    {
     "data": {
      "text/plain": [
       "array([ 2.73070565e+00,  7.02621650e+00,  2.45144440e+00,  2.37680436e+00,\n",
       "        6.23626442e+00,  5.15356940e+00,  5.80203315e+00,  5.12033954e+00,\n",
       "        6.57029747e+00,  3.08257520e+00,  1.62416260e+00,  6.49128466e+00,\n",
       "        5.92466406e+00,  2.77129176e+00,  4.85227491e+00,  5.06831775e+00,\n",
       "        5.53937834e+00,  4.07536227e+00,  3.32834900e+00,  8.07490604e+00,\n",
       "        4.50808264e+00,  3.62996839e+00,  5.81882922e+00,  8.87728451e+00,\n",
       "        4.27816160e+00,  1.85655078e+00,  3.86871858e+00,  5.59858488e+00,\n",
       "        6.53757198e+00,  3.06708433e+00,  7.72687956e+00,  8.62319743e+00,\n",
       "        4.84987827e+00,  2.89736462e+00,  3.47500624e+00,  2.02564391e+00,\n",
       "        7.93602449e+00,  6.79245531e+00,  4.87551199e+00,  6.75422125e+00,\n",
       "        4.55310276e+00,  5.09437746e+00,  3.55258587e+00,  3.13531987e+00,\n",
       "        3.31545808e+00,  9.10100601e+00,  5.88346331e+00,  3.99741175e+00,\n",
       "        4.91278617e+00,  6.71720943e+00,  2.55555325e+00,  5.37300512e+00,\n",
       "        5.51378581e+00,  5.74808460e+00,  5.33087077e+00,  4.56949533e+00,\n",
       "        6.70978713e+00,  7.69058429e+00,  3.65856054e+00,  4.89284813e+00,\n",
       "        8.43989601e+00,  2.25666821e+00,  4.65439064e+00,  1.41591979e+00,\n",
       "        6.56359498e+00,  7.69026091e+00,  5.51068872e+00,  4.87103676e+00,\n",
       "        1.58055305e+00,  6.39841420e+00,  7.12945496e+00,  3.77634941e+00,\n",
       "        4.28360334e+00,  6.27867396e+00,  5.72697759e+00,  9.02579208e+00,\n",
       "        7.41563261e+00,  6.71919533e+00,  6.30947514e+00,  8.14304499e-01,\n",
       "        5.97219875e+00,  3.54218530e+00,  6.68056470e+00,  5.91229645e+00,\n",
       "        5.20275279e+00,  4.06016500e+00,  2.79008880e+00,  5.84937877e+00,\n",
       "        3.92530031e+00,  6.13838950e+00,  1.14026630e+00,  8.38206130e+00,\n",
       "        3.89521719e+00,  5.28523187e+00,  7.12612049e+00,  5.89060592e+00,\n",
       "        5.35309581e+00,  2.36468488e+00,  7.03564032e+00,  6.81964238e+00,\n",
       "        4.06767810e+00,  5.26765551e+00,  9.35128298e+00,  4.07319294e+00,\n",
       "        3.54844748e+00,  6.82925419e-01,  5.25923341e+00,  6.32773993e+00,\n",
       "        6.24167051e+00,  3.26367222e+00,  6.37955490e+00,  3.95214486e+00,\n",
       "        6.56301353e+00,  5.19466372e+00,  4.62018954e+00,  5.14890734e+00,\n",
       "        3.02640952e+00,  8.58425652e+00,  5.42366612e+00,  7.95350627e+00,\n",
       "        3.83490166e+00,  5.92086602e+00,  1.96798729e+00,  4.16045968e+00,\n",
       "        4.46512742e+00,  7.30563501e+00,  4.76283727e+00,  6.60094873e+00,\n",
       "        4.22664917e+00,  8.88837428e-01,  3.77003849e+00,  7.76626287e+00,\n",
       "        3.77029671e+00,  6.65077367e+00,  2.46152705e+00,  7.46967369e+00,\n",
       "        7.71129421e+00,  8.00106692e+00,  3.17416764e+00,  5.82914397e+00,\n",
       "        2.44676917e+00,  4.43633296e+00,  6.65245092e+00,  8.50674519e+00,\n",
       "        5.16147749e+00,  6.43522660e+00,  2.78483160e+00,  6.71738756e+00,\n",
       "        5.79505099e+00,  3.85684281e+00,  3.59347693e+00,  1.56180265e+00,\n",
       "        5.15531366e+00,  6.66827941e+00,  7.78289490e+00,  8.71753020e+00,\n",
       "        4.44859667e+00,  5.54190075e+00,  7.06618834e+00,  4.60135537e+00,\n",
       "        5.02281100e+00,  1.91537436e+00,  4.67570842e+00,  5.34482224e+00,\n",
       "        6.07763906e+00,  5.84386820e+00,  4.32832173e+00,  6.88829409e+00,\n",
       "        9.77370093e+00,  5.67816639e+00,  6.78717542e+00,  3.76670591e+00,\n",
       "        9.49559427e+00,  6.75276840e+00,  3.35010565e+00,  5.82215940e+00,\n",
       "        4.81617062e-01,  6.18387030e+00,  7.09294952e+00,  5.48854359e+00,\n",
       "        4.98639843e+00,  9.15134948e+00,  3.53130762e+00,  4.63951289e+00,\n",
       "        8.20402179e+00,  3.16519807e+00,  7.68524210e+00,  4.72084969e+00,\n",
       "        4.94173182e+00,  3.54024332e+00,  1.97547984e+00,  6.46431046e+00,\n",
       "        1.88436381e+00,  6.43921016e+00,  5.27714821e+00,  4.00104133e+00,\n",
       "        3.10978231e+00,  3.92292079e+00,  3.00144261e+00,  4.45132124e+00,\n",
       "        4.95330892e+00,  4.86936112e+00,  7.16299382e+00,  6.83486678e+00,\n",
       "        5.53829593e+00,  1.46594721e+00,  3.76261125e+00,  3.51140291e+00,\n",
       "        9.09806116e+00,  2.17347673e+00,  3.17588479e+00,  3.34341378e+00,\n",
       "        7.45550747e+00,  8.32093446e+00,  2.10807088e+00,  3.46008891e+00,\n",
       "        6.91985461e+00,  5.86925549e+00,  8.73140195e+00,  2.47309336e+00,\n",
       "        3.88989395e+00,  4.15758788e+00,  5.46688259e+00,  5.17243518e+00,\n",
       "       -3.06633706e-04,  6.61750400e+00,  6.31388176e+00,  6.31826945e+00,\n",
       "        5.00593486e+00,  5.37692033e+00,  4.58561303e+00,  2.42923721e+00,\n",
       "        4.60621075e+00,  5.71411972e+00,  6.21180342e+00,  6.72469630e+00,\n",
       "        3.96737545e+00,  4.05239122e+00,  4.56427857e+00,  4.39596887e+00,\n",
       "        4.50981722e+00,  4.09685467e+00,  6.36995100e+00,  3.04797795e+00,\n",
       "        2.45088594e+00,  9.82614090e-01,  5.68214428e+00,  2.46198780e+00,\n",
       "        2.02183671e+00,  3.72094153e+00,  2.45054278e+00,  7.04924252e+00,\n",
       "        5.89988996e+00,  4.94841191e+00,  5.40262319e+00,  6.43031661e+00,\n",
       "        4.70072189e+00,  3.85150376e+00,  4.06205387e+00,  5.09875109e+00,\n",
       "        4.63784677e+00,  7.53802800e+00,  4.14555896e+00,  3.78238584e+00,\n",
       "        5.69397461e+00,  4.18944643e+00,  3.46353361e+00,  3.20284491e+00,\n",
       "        2.53016338e+00,  4.81019833e+00,  3.42434806e+00,  5.03318910e+00,\n",
       "        1.89075978e+00,  1.99418784e+00,  4.22479614e+00,  2.85932269e+00,\n",
       "        4.05344706e+00,  8.23762138e+00,  7.24467602e+00,  4.45674417e+00,\n",
       "        2.31571177e+00,  5.81482926e+00,  3.63025302e+00,  4.01075152e+00,\n",
       "        6.08633034e+00,  4.30954650e+00,  3.17876031e+00,  4.14948666e+00,\n",
       "        6.52421438e+00,  3.75298531e+00,  2.90049800e+00,  1.48778392e+00,\n",
       "        4.67928062e+00,  4.97676668e+00,  6.21213381e+00,  4.68879948e+00,\n",
       "        4.38530637e+00,  4.12401765e+00,  3.09522626e+00,  6.94181881e+00,\n",
       "        3.15711700e+00,  6.31443104e+00,  9.98336125e-01,  6.80368328e+00,\n",
       "        3.33638258e+00,  5.77656566e+00,  5.10566624e+00,  6.14686309e+00,\n",
       "        2.44619574e+00,  4.76206002e+00,  5.06061271e+00,  1.35903076e+00,\n",
       "        5.88301643e+00,  6.92414751e+00,  6.67282295e+00,  5.35305498e+00,\n",
       "        4.05665292e+00,  3.44776867e+00,  5.21736565e+00,  5.86801412e+00,\n",
       "        7.02350235e+00,  4.67793684e+00,  6.99739957e+00,  5.47435267e+00,\n",
       "        2.77749370e+00,  9.07278156e+00,  2.05281592e+00,  4.87054681e+00,\n",
       "        4.86406276e+00,  7.43033673e+00,  2.19225442e+00,  7.16172594e-02,\n",
       "        3.16235649e+00,  4.70435092e+00,  4.83399430e+00,  9.24609512e-01,\n",
       "        3.80719311e+00, -1.20669150e+00,  3.63775031e+00,  7.08200987e+00,\n",
       "        5.37937108e+00,  3.98417716e+00,  3.99124748e+00,  6.44326462e+00,\n",
       "        4.37268815e+00,  4.19534120e+00,  7.57239552e+00,  6.06804171e+00,\n",
       "        6.10492898e+00,  5.65572646e+00,  7.78476354e+00,  4.00335645e-01,\n",
       "        6.93447696e+00,  4.25087494e+00,  5.05395504e+00,  4.19671082e+00,\n",
       "        6.84921273e+00,  6.47636379e+00,  3.51707345e+00,  5.51714408e+00,\n",
       "        2.50005847e+00,  6.92255156e+00,  7.60024420e+00,  5.34896457e+00,\n",
       "        2.32504386e+00,  4.90609588e+00,  6.27632617e+00,  3.71041158e+00,\n",
       "        4.32008681e+00,  8.70312291e+00,  6.10166074e+00,  6.21874122e+00,\n",
       "        5.15370680e+00,  6.56778659e+00,  4.77072510e+00,  2.72479480e+00,\n",
       "        4.53830107e+00,  2.12312638e+00,  4.65264092e+00,  3.55151780e+00,\n",
       "        6.39506401e+00,  5.52368040e+00,  6.44559697e+00,  2.76883197e+00,\n",
       "        1.05785220e+00,  5.40727952e+00,  4.33849030e+00,  6.26094407e+00,\n",
       "        7.37439046e+00,  3.39962922e+00,  5.57430186e+00,  5.23515040e+00,\n",
       "        5.18084907e+00,  7.00533222e+00,  3.25102484e+00,  5.54154363e+00,\n",
       "        6.29759635e+00,  6.69580789e+00,  3.70279082e+00,  2.56460140e+00,\n",
       "        4.86078367e+00,  5.61372553e+00,  6.22075268e+00,  2.27851088e+00,\n",
       "        3.53004072e+00,  3.81815450e+00,  4.55819965e+00,  7.40230005e+00,\n",
       "        2.30238653e+00,  7.35788818e+00,  4.68909218e+00,  5.47349319e+00,\n",
       "        7.36285706e+00,  7.92257273e+00,  7.61458697e+00,  8.47647102e+00,\n",
       "        4.40462775e+00,  6.11013592e+00,  5.37400377e+00,  4.64982172e+00,\n",
       "        7.30440270e+00,  6.30558660e+00,  2.44647073e+00,  4.44744355e+00,\n",
       "        3.86673374e+00,  7.49839120e+00,  3.15193550e+00,  5.46154827e+00,\n",
       "        4.38246860e+00,  4.49851512e+00,  6.57027332e+00,  5.90411820e+00,\n",
       "        2.31816075e+00,  7.28763485e+00,  6.14453447e+00,  3.74175685e+00,\n",
       "        4.19513857e+00,  5.76165211e+00,  9.96393979e-01,  2.69943758e+00,\n",
       "        4.84503886e+00,  7.61107018e+00,  8.67164222e+00,  2.31743520e+00,\n",
       "        3.05640746e+00,  4.90798331e+00,  3.00940702e+00,  5.78449774e+00,\n",
       "        1.69085397e+00,  1.86784937e+00,  8.54779770e+00,  4.82036347e+00,\n",
       "        4.04635722e+00,  3.63225906e+00,  6.34196928e+00,  5.00810633e+00,\n",
       "        6.03755406e+00,  6.66012123e+00,  5.94223017e+00,  5.97133518e+00,\n",
       "        3.03624521e+00,  5.16983153e+00,  5.14876260e+00,  3.93958467e+00,\n",
       "        7.99751456e+00,  2.73076135e+00,  5.15994315e+00,  5.15346532e+00,\n",
       "        5.86733095e+00,  2.61834254e+00,  4.83255586e+00,  4.51478556e+00,\n",
       "        6.89469174e+00,  7.34745576e+00,  5.80846476e+00,  5.37976338e+00,\n",
       "        5.96316503e+00,  5.70987940e+00,  1.68941618e+00,  6.74509546e+00,\n",
       "        3.55468705e+00,  1.84680212e+00,  7.39807817e+00,  1.35689181e+00,\n",
       "        2.17174863e+00,  7.52149931e+00,  2.69514949e+00,  5.23078267e+00,\n",
       "        6.59664311e+00,  2.04495464e+00,  4.86685061e+00,  5.95807080e+00,\n",
       "        5.17334229e+00,  6.14500751e+00,  5.29589250e+00,  4.38968049e+00,\n",
       "        6.13272811e+00,  7.22261267e+00,  4.33362902e+00,  4.22193318e+00,\n",
       "        7.98981203e+00,  3.72195732e+00,  9.85447764e+00,  4.15894627e+00,\n",
       "        9.58990931e+00,  5.14579150e+00,  7.13138363e+00,  6.83794736e+00,\n",
       "        6.09453663e+00,  5.41070527e+00,  2.40387694e+00,  3.78814396e+00,\n",
       "       -3.32333786e+00,  5.82491888e+00,  5.20887705e+00,  5.90549286e+00,\n",
       "        5.15643096e+00,  4.13066561e+00,  6.89278368e+00,  1.68280584e+00,\n",
       "        6.24481790e+00,  2.11319419e+00,  4.55733969e+00,  4.30776499e+00,\n",
       "        4.84526912e+00,  1.53677609e+00,  5.18860787e+00,  6.26694410e+00,\n",
       "        3.71815974e+00,  6.95466355e+00,  6.50500132e+00,  8.05942148e+00,\n",
       "        2.15318383e+00,  5.79278648e+00,  8.01404876e+00,  4.48475729e+00,\n",
       "        3.58590539e+00,  5.75394828e+00,  3.99818244e+00,  3.14604042e+00,\n",
       "        4.32509116e+00,  1.36824052e+00,  7.53196942e+00,  1.25071033e+00,\n",
       "        3.20185913e+00,  5.38799641e+00,  6.16759679e+00,  1.49433510e+00,\n",
       "        6.53555839e+00,  5.57380283e+00,  5.75607606e+00,  3.66006749e+00,\n",
       "        2.95614306e+00,  4.18423989e+00,  6.25427540e+00,  6.80601088e+00,\n",
       "        1.40039877e+00,  5.68831640e+00,  4.06199525e+00,  6.19831825e+00,\n",
       "        7.42906809e+00,  2.25175890e+00,  2.52250861e+00,  4.46109004e+00,\n",
       "        2.96125038e+00,  1.03745316e+01,  3.74136262e+00,  1.64379119e+00,\n",
       "        6.19189553e+00,  4.95355206e+00,  5.48100878e+00,  4.50640048e+00,\n",
       "        3.83533113e+00,  4.67431402e+00,  5.05691315e+00,  7.54635617e+00,\n",
       "        9.62231411e+00,  5.42059871e+00,  6.97398668e+00,  5.10045678e+00,\n",
       "        3.73936418e+00,  7.95199912e+00,  9.87344773e+00,  2.72703856e+00,\n",
       "        5.72061469e+00,  8.22920865e+00,  3.98232778e+00,  1.09157923e+01,\n",
       "        6.46387838e+00,  4.41758880e+00,  6.43165170e+00,  1.69763499e+00,\n",
       "        5.41407839e+00,  2.33535480e+00,  6.70415403e+00,  6.32256089e+00,\n",
       "        7.32431504e+00,  4.88487599e+00,  5.67886182e+00,  1.07439919e+00,\n",
       "        7.11130941e+00,  2.51355268e+00,  5.90482599e+00,  3.04404907e+00,\n",
       "        5.36351713e+00,  6.42087145e+00,  5.95742202e+00,  4.13482855e+00,\n",
       "        4.41611615e+00,  5.19617889e+00,  6.37486618e+00,  4.29655377e+00,\n",
       "        4.02442379e+00,  7.62654021e+00,  4.77499699e+00,  5.72704730e+00,\n",
       "        6.51583300e+00,  5.70018534e+00,  5.60444154e+00,  5.01678407e+00,\n",
       "        4.39157082e+00,  8.82779505e+00,  5.25620637e+00,  4.91788928e+00,\n",
       "        6.03833525e+00,  2.43733180e+00,  5.11751206e-01,  9.06155479e+00,\n",
       "        4.29225146e+00,  3.75090297e+00,  8.23409848e+00,  1.10572755e+00,\n",
       "        2.22152534e+00,  5.74703138e+00,  6.25713959e+00,  7.28460483e+00,\n",
       "        5.57405545e+00,  3.10766925e+00,  5.17000788e+00,  4.29893468e+00,\n",
       "        6.97000368e+00,  4.46029113e+00,  5.06913689e+00,  5.07316613e+00,\n",
       "        7.39833696e+00,  8.53518933e+00,  7.53690416e+00,  6.44200052e+00,\n",
       "        3.34449307e+00,  4.17893812e+00,  4.89239806e+00,  3.93216413e+00,\n",
       "        6.53405975e+00,  4.38278547e+00,  6.22428651e+00,  7.14878702e+00,\n",
       "        3.43397623e+00,  2.63397300e+00,  3.58174457e+00,  9.60273435e+00,\n",
       "        3.69915275e+00,  4.46563986e+00,  3.08709163e+00,  2.71605659e+00,\n",
       "        8.10172896e-01,  1.47007257e+00,  5.87904248e+00,  3.31744722e+00,\n",
       "        1.39785757e+00,  4.56518899e+00,  5.06468616e+00,  6.82375515e+00,\n",
       "        1.92207699e+00,  2.84669040e+00,  4.06875998e+00,  4.63941586e+00,\n",
       "        7.61830441e+00,  3.54080794e+00,  7.19851767e+00,  6.86562353e+00,\n",
       "        6.66843388e+00,  4.73614489e+00,  3.55774622e+00,  5.21473852e+00,\n",
       "        5.08842368e+00,  3.80917260e+00,  8.02107930e+00,  2.27404448e+00,\n",
       "        3.07619879e+00,  6.27578680e+00,  8.84535839e+00,  4.02628034e+00,\n",
       "        4.12345920e+00,  4.50787041e+00,  9.00147033e+00,  4.87945919e+00,\n",
       "        1.49082343e+00,  4.70336561e+00,  5.23214784e+00,  5.42591637e+00,\n",
       "        8.24909989e+00,  2.68657344e+00,  3.53392153e+00,  4.18034598e+00,\n",
       "        4.81848336e+00,  4.71195000e+00,  5.22164475e+00,  4.11445083e+00,\n",
       "        3.92222678e+00,  3.36914878e+00,  5.64150928e+00,  5.95576356e+00,\n",
       "        6.98094409e+00,  4.09438644e+00,  4.65040378e+00,  4.41336796e+00,\n",
       "        3.96979340e+00,  5.88541906e+00,  4.91051229e+00,  5.31489202e+00,\n",
       "        8.66298898e+00,  9.06247770e-01,  5.35246782e+00,  3.74237607e+00,\n",
       "       -1.02843108e+00,  5.84932590e+00,  6.23202361e+00,  4.78303153e+00,\n",
       "        6.99637429e+00,  1.36157765e+00,  6.43456245e+00,  1.32802037e+00,\n",
       "        3.88944318e+00,  6.61008652e+00,  3.50184177e+00, -6.27272787e-01,\n",
       "        4.77646384e+00,  4.61133886e+00,  6.00335076e+00,  4.17636803e+00,\n",
       "        6.40876141e+00,  6.64370776e+00,  4.54687334e+00,  3.10511851e+00,\n",
       "        2.46113324e+00,  6.36709062e+00,  5.68166341e+00,  6.84309157e+00,\n",
       "        2.99798152e+00,  3.29901942e+00,  4.72086154e+00,  7.21095788e+00,\n",
       "        1.26913134e+00,  3.37689830e+00,  1.09005472e+01,  3.35091123e+00,\n",
       "        1.12975541e+00,  8.17192183e+00,  2.18418533e+00,  7.46674995e+00,\n",
       "        6.42961905e+00,  5.82269656e+00,  5.37111049e+00,  4.43144159e+00,\n",
       "        4.69739962e+00,  6.85412444e+00,  6.36111256e+00,  2.50266012e+00,\n",
       "        1.74029597e+00,  7.31338127e+00,  6.42126381e+00,  4.23442117e+00,\n",
       "        4.16543949e+00,  4.59762650e+00,  3.69640282e+00,  4.17553440e+00,\n",
       "        7.61062536e+00,  6.60332891e+00,  7.30633595e+00,  9.77655714e-01,\n",
       "        5.11980442e+00,  4.17502956e+00,  6.16527553e+00,  4.03583676e+00,\n",
       "        3.09312946e+00,  8.22816560e+00,  6.06155098e+00,  7.84249170e+00,\n",
       "        4.64335525e+00,  6.59145629e+00,  4.93037756e+00,  1.73534380e+00,\n",
       "        4.82747305e+00,  3.16505977e+00,  6.48331450e+00,  5.68238081e+00,\n",
       "        5.93958124e+00,  3.62975567e+00,  5.06592161e+00,  8.16521974e+00,\n",
       "        4.26751366e+00,  3.80209297e+00,  1.07278221e-01,  9.81423179e+00,\n",
       "        3.91055336e+00,  2.23015268e+00,  7.57061745e+00,  1.42035649e+00,\n",
       "        2.62497799e+00,  2.73287599e+00,  3.17865001e+00,  7.51591368e+00,\n",
       "        5.10859824e+00,  6.27294358e+00,  4.66986586e+00,  4.88692928e+00,\n",
       "        7.01469929e+00,  6.84566400e+00,  6.28652581e+00,  3.94850459e+00,\n",
       "        4.76993513e+00,  5.82312991e+00,  1.16212360e+00,  3.90423939e+00,\n",
       "        6.96140182e+00,  9.29530623e-01,  4.88120039e+00,  5.16698588e+00,\n",
       "        3.90851510e+00,  3.75801919e+00,  6.07142770e+00,  8.08552036e+00,\n",
       "        5.05456890e+00,  6.04385392e+00,  6.90978905e+00,  4.88008699e+00,\n",
       "        2.91376367e+00,  3.76941078e+00,  4.91549687e+00,  5.06265481e+00,\n",
       "        5.21816740e+00,  5.80916718e+00,  5.53904089e+00,  4.94106229e+00,\n",
       "        5.65494731e+00,  9.49521835e+00,  3.86438423e+00,  3.81907012e+00,\n",
       "        3.53968392e+00,  8.36105608e-01,  5.62747625e+00,  3.44949642e+00,\n",
       "        4.63837564e+00,  4.55484735e+00,  4.46910674e+00,  7.37671860e+00,\n",
       "        5.04734912e+00,  2.75723408e+00,  3.51685509e+00,  7.38476675e+00,\n",
       "        1.85365444e+00,  2.78050715e+00,  2.31944968e+00,  2.58477080e+00,\n",
       "        4.27206066e+00,  5.16641873e+00,  5.76194172e+00,  3.00073485e+00,\n",
       "        4.28993779e+00,  4.53823485e+00,  3.55808711e+00,  6.00576504e+00,\n",
       "        5.10007595e+00,  3.85431825e+00,  5.77063450e+00,  3.04427426e+00,\n",
       "        9.47163095e+00,  6.54934647e+00,  3.30864959e+00,  3.94632366e+00,\n",
       "        7.15391071e+00,  5.03357846e+00,  5.79181420e+00,  5.87559485e+00,\n",
       "        3.32548845e+00,  8.84480794e+00,  4.02478964e+00,  6.92446819e+00,\n",
       "        5.38501630e+00,  2.87133563e+00,  1.58962703e+00,  4.26142015e+00,\n",
       "        5.88691793e+00,  4.94688052e+00,  4.76457347e+00,  4.55661806e+00,\n",
       "        2.10942489e+00,  6.36337965e+00,  5.26262650e+00,  2.83787151e+00,\n",
       "        5.26127073e+00,  8.28109064e+00,  3.85151296e+00,  6.39263497e+00,\n",
       "        4.21853003e+00, -5.76639559e-01,  2.42572701e+00,  5.25716211e+00,\n",
       "        3.86491526e+00,  4.41603658e+00,  1.22564963e+00,  1.77644889e+00,\n",
       "        1.30371269e+00,  4.68439169e+00,  2.46949708e+00,  5.01117544e+00,\n",
       "        3.89792417e+00,  3.27907340e+00,  3.91197718e+00,  5.54733783e+00,\n",
       "        7.08702819e+00,  2.52593211e+00,  7.56801925e+00,  3.09940751e+00,\n",
       "        3.03198769e+00,  4.90609561e+00,  3.32831087e+00,  6.64196606e+00,\n",
       "        6.93347086e+00,  3.17804297e+00,  6.15929312e+00,  3.66017863e+00,\n",
       "        1.64338681e+00,  7.51708700e+00,  4.80547929e+00,  4.42877969e+00,\n",
       "        3.02956930e+00,  4.35655895e+00,  5.27379930e+00,  4.27186619e+00,\n",
       "        4.68444837e+00,  6.03445897e+00, -3.75366485e-01,  3.25266053e+00,\n",
       "        5.26139426e+00,  2.71657436e+00,  6.30281468e+00,  4.43454113e+00,\n",
       "        2.87395349e+00,  7.79267325e+00,  7.92003057e+00,  4.15657060e+00,\n",
       "        4.30245132e+00,  7.48999586e+00,  5.89780053e+00,  3.07396369e-01,\n",
       "        4.33642913e+00,  4.32620882e+00,  4.87964244e+00,  4.15192178e+00,\n",
       "        3.18633721e+00,  8.55558970e-01,  3.22315923e+00,  4.04514608e+00,\n",
       "        3.03043767e+00,  2.66075054e+00,  7.20138072e+00,  1.91904624e+00,\n",
       "        7.47963183e+00,  1.81339054e+00,  5.87715557e+00,  3.07811728e+00,\n",
       "        7.24106474e+00,  4.01916828e+00,  3.63327389e+00,  6.62292219e+00,\n",
       "        3.34929079e-01,  7.54667310e+00,  2.09678633e+00,  4.26454060e+00,\n",
       "        4.80985408e+00,  4.24546077e+00,  6.52564912e+00,  4.97823081e+00,\n",
       "        4.89613969e+00,  5.84290952e+00,  9.33238285e+00,  5.13347153e+00,\n",
       "        1.78651260e+00,  4.29747698e+00,  5.26844801e+00,  5.24582173e+00,\n",
       "        5.15011916e+00,  2.29850712e+00,  4.99387349e+00,  8.67884183e+00,\n",
       "        4.02355008e+00,  8.39104937e+00,  5.25312122e+00,  5.76955866e+00])"
      ]
     },
     "execution_count": 4,
     "metadata": {},
     "output_type": "execute_result"
    }
   ],
   "source": [
    "normal_dist"
   ]
  },
  {
   "cell_type": "code",
   "execution_count": 5,
   "metadata": {},
   "outputs": [
    {
     "data": {
      "text/plain": [
       "-1.3145040611561853e-16"
      ]
     },
     "execution_count": 5,
     "metadata": {},
     "output_type": "execute_result"
    }
   ],
   "source": [
    "# Here, let's standardize by hand\n",
    "# (x - mean) / std\n",
    "z_dist = [(x - np.mean(normal_dist)) / np.std(normal_dist)\n",
    "          for x in normal_dist]\n",
    "\n",
    "np.mean(z_dist)"
   ]
  },
  {
   "cell_type": "code",
   "execution_count": 7,
   "metadata": {},
   "outputs": [
    {
     "data": {
      "text/plain": [
       "1.9950940238444514"
      ]
     },
     "execution_count": 7,
     "metadata": {},
     "output_type": "execute_result"
    }
   ],
   "source": [
    "np.std(normal_dist)"
   ]
  },
  {
   "cell_type": "code",
   "execution_count": 6,
   "metadata": {},
   "outputs": [
    {
     "data": {
      "image/png": "[encoded data removed]",
      "text/plain": [
       "<Figure size 720x432 with 2 Axes>"
      ]
     },
     "metadata": {
      "needs_background": "light"
     },
     "output_type": "display_data"
    }
   ],
   "source": [
    "# Visualize it\n",
    "fig, (ax0, ax1) = plt.subplots(nrows=2, sharex=True, figsize=(10, 6))\n",
    "\n",
    "sns.histplot(data=normal_dist, ax=ax0)\n",
    "ax0.set_title('Before Standardization')\n",
    "\n",
    "sns.histplot(data=z_dist, ax=ax1)\n",
    "ax1.set_title('After Standardization')\n",
    "\n",
    "plt.tight_layout()"
   ]
  },
  {
   "cell_type": "markdown",
   "metadata": {
    "hidden": true
   },
   "source": [
    "Talking about the **standard normal distribution** can be very convenient since the values correspond to the number of standard deviations above or below the mean."
   ]
  },
  {
   "cell_type": "markdown",
   "metadata": {
    "heading_collapsed": true,
    "hidden": true
   },
   "source": [
    "## $z$-Score"
   ]
  },
  {
   "cell_type": "markdown",
   "metadata": {
    "hidden": true
   },
   "source": [
    "A **$z$-score** for a specific data point $x$ (in a normal distribution) is simply the distance to the mean in the units of standard deviations\n",
    "\n",
    "$$\\large z = \\frac{x - \\mu}{\\sigma}$$\n",
    "\n",
    "By calculating the z-score of an individual point, we can see how unlikely a value is."
   ]
  },
  {
   "cell_type": "markdown",
   "metadata": {
    "hidden": true
   },
   "source": [
    "Here's a little site with some [interactive Gaussians](https://www.intmath.com/counting-probability/normal-distribution-graph-interactive.php)"
   ]
  },
  {
   "cell_type": "markdown",
   "metadata": {
    "heading_collapsed": true,
    "hidden": true
   },
   "source": [
    "#### 🧠 Knowledge Check"
   ]
  },
  {
   "cell_type": "markdown",
   "metadata": {
    "hidden": true
   },
   "source": [
    "What would the $z$-score be for the middle of a normal curve?\n",
    "\n",
    "- 0\n"
   ]
  },
  {
   "cell_type": "markdown",
   "metadata": {
    "heading_collapsed": true,
    "hidden": true
   },
   "source": [
    "### The Empirical Rule"
   ]
  },
  {
   "cell_type": "markdown",
   "metadata": {
    "hidden": true
   },
   "source": [
    "> Rule states that $68\\%$ of the values of a normal distribution of data lie within 1 standard deviation ($\\sigma$) of the mean, $95\\%$ within $2\\sigma$, and $99.7\\%$ within $3\\sigma$.  \n",
    "\n",
    "This makes it really quick to look at a normal distribution and understand where values tend to lie"
   ]
  },
  {
   "cell_type": "markdown",
   "metadata": {
    "hidden": true
   },
   "source": [
    "<img src='https://github.com/learn-co-students/dsc-0-09-12-gaussian-distributions-online-ds-ft-031119/blob/master/normalsd.jpg?raw=true' width=700/>"
   ]
  },
  {
   "cell_type": "markdown",
   "metadata": {
    "heading_collapsed": true,
    "hidden": true
   },
   "source": [
    "#### 🧠 Knowledge Check"
   ]
  },
  {
   "cell_type": "markdown",
   "metadata": {
    "hidden": true
   },
   "source": [
    "About what percentage of the values would be between a $z$-score of $-1$ and a $z$-score of $2$?\n",
    "\n",
    "<details>\n",
    "    <summary>Answer</summary>\n",
    "    About $82\\%$\n",
    "</details>"
   ]
  },
  {
   "cell_type": "code",
   "execution_count": 8,
   "metadata": {},
   "outputs": [
    {
     "data": {
      "text/plain": [
       "81.5"
      ]
     },
     "execution_count": 8,
     "metadata": {},
     "output_type": "execute_result"
    }
   ],
   "source": [
    "34 + 34 + 13.5"
   ]
  },
  {
   "cell_type": "markdown",
   "metadata": {
    "heading_collapsed": true
   },
   "source": [
    "# Exercises"
   ]
  },
  {
   "cell_type": "markdown",
   "metadata": {},
   "source": [
    "The distribution of people's heights in the United States has a **mean of 66 inches** and a **standard deviation of 4 inches**. "
   ]
  },
  {
   "cell_type": "markdown",
   "metadata": {
    "heading_collapsed": true,
    "hidden": true
   },
   "source": [
    "## Height $z$-score"
   ]
  },
  {
   "cell_type": "markdown",
   "metadata": {
    "hidden": true
   },
   "source": [
    "Calculate the z-score of a height of **76 inches.**"
   ]
  },
  {
   "cell_type": "code",
   "execution_count": 9,
   "metadata": {
    "hidden": true
   },
   "outputs": [
    {
     "data": {
      "text/plain": [
       "2.5"
      ]
     },
     "execution_count": 9,
     "metadata": {},
     "output_type": "execute_result"
    }
   ],
   "source": [
    "# Your code here\n",
    "(76 - 66) / 4"
   ]
  },
  {
   "cell_type": "markdown",
   "metadata": {},
   "source": [
    "<details>\n",
    "    <summary>Answer</summary>\n",
    "    <code># z-score: z = (x - mu) / std\n",
    "(76 - 66) / 4</code>\n",
    "</details>"
   ]
  },
  {
   "cell_type": "markdown",
   "metadata": {},
   "source": [
    "#### Describe the z-score - what does it tell us?\n",
    "- a height of 76in is 2.5 standard deviations away from the mean (positive - larger)\n"
   ]
  },
  {
   "cell_type": "code",
   "execution_count": 10,
   "metadata": {},
   "outputs": [
    {
     "data": {
      "text/plain": [
       "0.006209665325776159"
      ]
     },
     "execution_count": 10,
     "metadata": {},
     "output_type": "execute_result"
    }
   ],
   "source": [
    "1 - stats.norm(loc=0, scale=1).cdf(2.5)"
   ]
  },
  {
   "cell_type": "code",
   "execution_count": 11,
   "metadata": {},
   "outputs": [
    {
     "data": {
      "text/plain": [
       "0.006209665325776159"
      ]
     },
     "execution_count": 11,
     "metadata": {},
     "output_type": "execute_result"
    }
   ],
   "source": [
    "1 - stats.norm(loc=66, scale=4).cdf(76)"
   ]
  },
  {
   "cell_type": "markdown",
   "metadata": {
    "heading_collapsed": true,
    "hidden": true
   },
   "source": [
    "## Height Empirical Rule"
   ]
  },
  {
   "cell_type": "markdown",
   "metadata": {
    "hidden": true
   },
   "source": [
    "Determine the proportion of those whose height is between **62 inches and 74 inches**."
   ]
  },
  {
   "cell_type": "code",
   "execution_count": 12,
   "metadata": {},
   "outputs": [
    {
     "data": {
      "text/plain": [
       "(-1.0, 2.0)"
      ]
     },
     "execution_count": 12,
     "metadata": {},
     "output_type": "execute_result"
    }
   ],
   "source": [
    "# Your code here\n",
    "z_62 = (62 - 66) / 4\n",
    "z_74 = (74 - 66) / 4\n",
    "z_62, z_74"
   ]
  },
  {
   "cell_type": "markdown",
   "metadata": {},
   "source": [
    "<details>\n",
    "    <summary>Answer 1</summary>\n",
    "<code># z-scores for 62\" and 74\":\n",
    "z_62 = (62 - 66) / 4\n",
    "z_74 = (74 - 66) / 4\n",
    "z_62, z_74</code>\n",
    "    </details>"
   ]
  },
  {
   "cell_type": "markdown",
   "metadata": {},
   "source": [
    "<details>\n",
    "    <summary>Answer 2</summary>\n",
    "    <code>heights = stats.norm(loc=66, scale=4)\n",
    "heights.cdf(74) - heights.cdf(62)</code>\n",
    "    </details>"
   ]
  },
  {
   "cell_type": "code",
   "execution_count": 13,
   "metadata": {},
   "outputs": [],
   "source": [
    "height_dist = stats.norm(loc=66, scale=4)"
   ]
  },
  {
   "cell_type": "code",
   "execution_count": 14,
   "metadata": {
    "scrolled": true
   },
   "outputs": [
    {
     "data": {
      "text/plain": [
       "0.9772498680518208"
      ]
     },
     "execution_count": 14,
     "metadata": {},
     "output_type": "execute_result"
    }
   ],
   "source": [
    "height_dist.cdf(74)"
   ]
  },
  {
   "cell_type": "code",
   "execution_count": 15,
   "metadata": {
    "scrolled": true
   },
   "outputs": [
    {
     "data": {
      "text/plain": [
       "0.15865525393145707"
      ]
     },
     "execution_count": 15,
     "metadata": {},
     "output_type": "execute_result"
    }
   ],
   "source": [
    "height_dist.cdf(62)"
   ]
  },
  {
   "cell_type": "code",
   "execution_count": 16,
   "metadata": {},
   "outputs": [
    {
     "data": {
      "text/plain": [
       "0.8185946141203637"
      ]
     },
     "execution_count": 16,
     "metadata": {},
     "output_type": "execute_result"
    }
   ],
   "source": [
    "height_dist.cdf(74) - height_dist.cdf(62)"
   ]
  },
  {
   "cell_type": "markdown",
   "metadata": {
    "heading_collapsed": true,
    "hidden": true
   },
   "source": [
    "## Height Percentile"
   ]
  },
  {
   "cell_type": "markdown",
   "metadata": {
    "hidden": true
   },
   "source": [
    "Assuming the above distribution of people's heights in the United States is approximately normal, what percent of people have a height **less than 75 inches**?"
   ]
  },
  {
   "cell_type": "code",
   "execution_count": 20,
   "metadata": {},
   "outputs": [
    {
     "data": {
      "text/plain": [
       "0.012224472655044671"
      ]
     },
     "execution_count": 20,
     "metadata": {},
     "output_type": "execute_result"
    }
   ],
   "source": [
    "# Your code here\n",
    "1 - height_dist.cdf(75)"
   ]
  },
  {
   "cell_type": "code",
   "execution_count": 21,
   "metadata": {},
   "outputs": [
    {
     "data": {
      "text/plain": [
       "0.012224472655044696"
      ]
     },
     "execution_count": 21,
     "metadata": {},
     "output_type": "execute_result"
    }
   ],
   "source": [
    "height_dist.sf(75)"
   ]
  },
  {
   "cell_type": "markdown",
   "metadata": {},
   "source": [
    "<details>\n",
    "    <summary>Answer</summary>\n",
    "    <code>heights.cdf(75)</code>\n",
    "    </details>"
   ]
  },
  {
   "cell_type": "markdown",
   "metadata": {
    "heading_collapsed": true,
    "hidden": true
   },
   "source": [
    "## Bonus"
   ]
  },
  {
   "cell_type": "markdown",
   "metadata": {
    "hidden": true
   },
   "source": [
    "Assuming the above distribution of people's heights in the United States is approximately normal, what range of heights contain the **middle 50% of values**, also known as the _interquartile range_ (IQR)?"
   ]
  },
  {
   "cell_type": "code",
   "execution_count": 24,
   "metadata": {},
   "outputs": [
    {
     "data": {
      "text/plain": [
       "0.6744897501960817"
      ]
     },
     "execution_count": 24,
     "metadata": {},
     "output_type": "execute_result"
    }
   ],
   "source": [
    "# z_dist\n",
    "z_dist = stats.norm(loc=0, scale=1)\n",
    "z_dist.ppf(.75)"
   ]
  },
  {
   "cell_type": "code",
   "execution_count": 23,
   "metadata": {
    "scrolled": true
   },
   "outputs": [
    {
     "data": {
      "text/plain": [
       "(63.30204099921567, 68.69795900078432)"
      ]
     },
     "execution_count": 23,
     "metadata": {},
     "output_type": "execute_result"
    }
   ],
   "source": [
    "height_dist.ppf(.25), height_dist.ppf(.75)"
   ]
  },
  {
   "cell_type": "code",
   "execution_count": 26,
   "metadata": {},
   "outputs": [
    {
     "data": {
      "text/plain": [
       "0.6750000000000007"
      ]
     },
     "execution_count": 26,
     "metadata": {},
     "output_type": "execute_result"
    }
   ],
   "source": [
    "(68.7 - 66) / 4"
   ]
  },
  {
   "cell_type": "markdown",
   "metadata": {},
   "source": [
    "<details>\n",
    "    <summary>Answer</summary>\n",
    "    <code>heights.ppf(0.25), heights.ppf(0.75)</code>\n",
    "    </details>"
   ]
  },
  {
   "cell_type": "markdown",
   "metadata": {},
   "source": [
    "## Time for Pandas!\n",
    "\n",
    "Let's use the same Seattle City Employee data from the first Distributions lecture to check out what scaling looks like in practice!\n",
    "\n",
    "Data source: https://data.seattle.gov/City-Business/City-of-Seattle-Wage-Data/2khk-5ukd"
   ]
  },
  {
   "cell_type": "code",
   "execution_count": 27,
   "metadata": {},
   "outputs": [],
   "source": [
    "# Read in the data\n",
    "df = pd.read_csv('data/City_of_Seattle_Wage_Data_031422.csv')"
   ]
  },
  {
   "cell_type": "code",
   "execution_count": 28,
   "metadata": {},
   "outputs": [
    {
     "data": {
      "text/html": [
       "<div>\n",
       "<style scoped>\n",
       "    .dataframe tbody tr th:only-of-type {\n",
       "        vertical-align: middle;\n",
       "    }\n",
       "\n",
       "    .dataframe tbody tr th {\n",
       "        vertical-align: top;\n",
       "    }\n",
       "\n",
       "    .dataframe thead th {\n",
       "        text-align: right;\n",
       "    }\n",
       "</style>\n",
       "<table border=\"1\" class=\"dataframe\">\n",
       "  <thead>\n",
       "    <tr style=\"text-align: right;\">\n",
       "      <th></th>\n",
       "      <th>Department</th>\n",
       "      <th>Last Name</th>\n",
       "      <th>First Name</th>\n",
       "      <th>Job Title</th>\n",
       "      <th>Hourly Rate</th>\n",
       "    </tr>\n",
       "  </thead>\n",
       "  <tbody>\n",
       "    <tr>\n",
       "      <th>0</th>\n",
       "      <td>Seattle Public Utilities</td>\n",
       "      <td>Batchelor</td>\n",
       "      <td>Craig</td>\n",
       "      <td>Civil Engrng Spec,Sr</td>\n",
       "      <td>53.740</td>\n",
       "    </tr>\n",
       "    <tr>\n",
       "      <th>1</th>\n",
       "      <td>Finance &amp; Admin Services</td>\n",
       "      <td>Altice</td>\n",
       "      <td>Jeffrey</td>\n",
       "      <td>Auto Mechanic</td>\n",
       "      <td>39.780</td>\n",
       "    </tr>\n",
       "    <tr>\n",
       "      <th>2</th>\n",
       "      <td>Finance &amp; Admin Services</td>\n",
       "      <td>Montes</td>\n",
       "      <td>Valeria</td>\n",
       "      <td>Cust Svc Rep</td>\n",
       "      <td>29.450</td>\n",
       "    </tr>\n",
       "    <tr>\n",
       "      <th>3</th>\n",
       "      <td>Fire Department</td>\n",
       "      <td>Kuklok</td>\n",
       "      <td>Rebecca</td>\n",
       "      <td>Cust Svc Rep *</td>\n",
       "      <td>29.450</td>\n",
       "    </tr>\n",
       "    <tr>\n",
       "      <th>4</th>\n",
       "      <td>Planning &amp; Comm Development</td>\n",
       "      <td>Quirindongo</td>\n",
       "      <td>Rico</td>\n",
       "      <td>Executive3</td>\n",
       "      <td>97.164</td>\n",
       "    </tr>\n",
       "  </tbody>\n",
       "</table>\n",
       "</div>"
      ],
      "text/plain": [
       "                    Department    Last Name First Name             Job Title  \\\n",
       "0     Seattle Public Utilities    Batchelor      Craig  Civil Engrng Spec,Sr   \n",
       "1     Finance & Admin Services       Altice    Jeffrey         Auto Mechanic   \n",
       "2     Finance & Admin Services       Montes    Valeria          Cust Svc Rep   \n",
       "3              Fire Department       Kuklok    Rebecca        Cust Svc Rep *   \n",
       "4  Planning & Comm Development  Quirindongo       Rico            Executive3   \n",
       "\n",
       "   Hourly Rate   \n",
       "0        53.740  \n",
       "1        39.780  \n",
       "2        29.450  \n",
       "3        29.450  \n",
       "4        97.164  "
      ]
     },
     "execution_count": 28,
     "metadata": {},
     "output_type": "execute_result"
    }
   ],
   "source": [
    "# Check it\n",
    "df.head()"
   ]
  },
  {
   "cell_type": "code",
   "execution_count": 29,
   "metadata": {},
   "outputs": [],
   "source": [
    "# Rename the columns\n",
    "df = df.rename(columns = lambda x: x.replace(\" \", \"\"))"
   ]
  },
  {
   "cell_type": "code",
   "execution_count": 30,
   "metadata": {},
   "outputs": [
    {
     "data": {
      "text/html": [
       "<div>\n",
       "<style scoped>\n",
       "    .dataframe tbody tr th:only-of-type {\n",
       "        vertical-align: middle;\n",
       "    }\n",
       "\n",
       "    .dataframe tbody tr th {\n",
       "        vertical-align: top;\n",
       "    }\n",
       "\n",
       "    .dataframe thead th {\n",
       "        text-align: right;\n",
       "    }\n",
       "</style>\n",
       "<table border=\"1\" class=\"dataframe\">\n",
       "  <thead>\n",
       "    <tr style=\"text-align: right;\">\n",
       "      <th></th>\n",
       "      <th>HourlyRate</th>\n",
       "    </tr>\n",
       "  </thead>\n",
       "  <tbody>\n",
       "    <tr>\n",
       "      <th>count</th>\n",
       "      <td>11739.000000</td>\n",
       "    </tr>\n",
       "    <tr>\n",
       "      <th>mean</th>\n",
       "      <td>47.817331</td>\n",
       "    </tr>\n",
       "    <tr>\n",
       "      <th>std</th>\n",
       "      <td>16.722128</td>\n",
       "    </tr>\n",
       "    <tr>\n",
       "      <th>min</th>\n",
       "      <td>5.530000</td>\n",
       "    </tr>\n",
       "    <tr>\n",
       "      <th>25%</th>\n",
       "      <td>35.400000</td>\n",
       "    </tr>\n",
       "    <tr>\n",
       "      <th>50%</th>\n",
       "      <td>47.340000</td>\n",
       "    </tr>\n",
       "    <tr>\n",
       "      <th>75%</th>\n",
       "      <td>59.550000</td>\n",
       "    </tr>\n",
       "    <tr>\n",
       "      <th>max</th>\n",
       "      <td>187.767000</td>\n",
       "    </tr>\n",
       "  </tbody>\n",
       "</table>\n",
       "</div>"
      ],
      "text/plain": [
       "         HourlyRate\n",
       "count  11739.000000\n",
       "mean      47.817331\n",
       "std       16.722128\n",
       "min        5.530000\n",
       "25%       35.400000\n",
       "50%       47.340000\n",
       "75%       59.550000\n",
       "max      187.767000"
      ]
     },
     "execution_count": 30,
     "metadata": {},
     "output_type": "execute_result"
    }
   ],
   "source": [
    "# Describe the numeric column\n",
    "df.describe()"
   ]
  },
  {
   "cell_type": "code",
   "execution_count": 31,
   "metadata": {},
   "outputs": [
    {
     "data": {
      "image/png": "[encoded data removed]",
      "text/plain": [
       "<Figure size 432x288 with 1 Axes>"
      ]
     },
     "metadata": {
      "needs_background": "light"
     },
     "output_type": "display_data"
    }
   ],
   "source": [
    "# Plot the hourly rate column\n",
    "sns.kdeplot(df['HourlyRate']);"
   ]
  },
  {
   "cell_type": "markdown",
   "metadata": {},
   "source": [
    "How can we describe this distribution?\n",
    "\n",
    "- Extreme high postive values, outliers\n",
    "- Bimodal or maybe even trimodal\n",
    "- Not perfectly normal, but it is kinda normal\n"
   ]
  },
  {
   "cell_type": "markdown",
   "metadata": {},
   "source": [
    "### Using Z-Scores"
   ]
  },
  {
   "cell_type": "code",
   "execution_count": 32,
   "metadata": {
    "scrolled": true
   },
   "outputs": [
    {
     "data": {
      "text/html": [
       "<div>\n",
       "<style scoped>\n",
       "    .dataframe tbody tr th:only-of-type {\n",
       "        vertical-align: middle;\n",
       "    }\n",
       "\n",
       "    .dataframe tbody tr th {\n",
       "        vertical-align: top;\n",
       "    }\n",
       "\n",
       "    .dataframe thead th {\n",
       "        text-align: right;\n",
       "    }\n",
       "</style>\n",
       "<table border=\"1\" class=\"dataframe\">\n",
       "  <thead>\n",
       "    <tr style=\"text-align: right;\">\n",
       "      <th></th>\n",
       "      <th>Department</th>\n",
       "      <th>LastName</th>\n",
       "      <th>FirstName</th>\n",
       "      <th>JobTitle</th>\n",
       "      <th>HourlyRate</th>\n",
       "    </tr>\n",
       "  </thead>\n",
       "  <tbody>\n",
       "    <tr>\n",
       "      <th>7170</th>\n",
       "      <td>Seattle Dept of Transportation</td>\n",
       "      <td>Xia</td>\n",
       "      <td>Meng</td>\n",
       "      <td>Civil Engr,Sr</td>\n",
       "      <td>62.45</td>\n",
       "    </tr>\n",
       "  </tbody>\n",
       "</table>\n",
       "</div>"
      ],
      "text/plain": [
       "                          Department LastName FirstName       JobTitle  \\\n",
       "7170  Seattle Dept of Transportation      Xia      Meng  Civil Engr,Sr   \n",
       "\n",
       "      HourlyRate  \n",
       "7170       62.45  "
      ]
     },
     "execution_count": 32,
     "metadata": {},
     "output_type": "execute_result"
    }
   ],
   "source": [
    "# Grab a sample row\n",
    "sample_row = df.sample(1)\n",
    "sample_row"
   ]
  },
  {
   "cell_type": "code",
   "execution_count": 33,
   "metadata": {},
   "outputs": [
    {
     "data": {
      "text/plain": [
       "0.8750482508021651"
      ]
     },
     "execution_count": 33,
     "metadata": {},
     "output_type": "execute_result"
    }
   ],
   "source": [
    "# Calculate the z-score for that row's HourlyRate\n",
    "(sample_row['HourlyRate'].values[0] - df['HourlyRate'].mean()) / df['HourlyRate'].std()"
   ]
  },
  {
   "cell_type": "code",
   "execution_count": 36,
   "metadata": {},
   "outputs": [
    {
     "data": {
      "text/plain": [
       "47.81733114404976"
      ]
     },
     "execution_count": 36,
     "metadata": {},
     "output_type": "execute_result"
    }
   ],
   "source": [
    "mu = df['HourlyRate'].mean()\n",
    "mu"
   ]
  },
  {
   "cell_type": "code",
   "execution_count": 39,
   "metadata": {},
   "outputs": [
    {
     "data": {
      "text/plain": [
       "62.44886199986034"
      ]
     },
     "execution_count": 39,
     "metadata": {},
     "output_type": "execute_result"
    }
   ],
   "source": [
    "47.817 + (.875 * df['HourlyRate'].std())"
   ]
  },
  {
   "cell_type": "code",
   "execution_count": 34,
   "metadata": {
    "scrolled": true
   },
   "outputs": [
    {
     "data": {
      "text/plain": [
       "16.722127999840392"
      ]
     },
     "execution_count": 34,
     "metadata": {},
     "output_type": "execute_result"
    }
   ],
   "source": [
    "df['HourlyRate'].std()"
   ]
  },
  {
   "cell_type": "code",
   "execution_count": 35,
   "metadata": {
    "scrolled": true
   },
   "outputs": [],
   "source": [
    "# Standardize the column\n",
    "mu = df['HourlyRate'].mean()\n",
    "sigma = df['HourlyRate'].std()\n",
    "standardized_rate = [(x-mu)/sigma for x in df['HourlyRate']]"
   ]
  },
  {
   "cell_type": "code",
   "execution_count": 40,
   "metadata": {},
   "outputs": [
    {
     "data": {
      "image/png": "[encoded data removed]",
      "text/plain": [
       "<Figure size 432x288 with 2 Axes>"
      ]
     },
     "metadata": {
      "needs_background": "light"
     },
     "output_type": "display_data"
    }
   ],
   "source": [
    "# Visualize it\n",
    "fig, (ax1, ax2) = plt.subplots(nrows=2, ncols=1, sharex=True)\n",
    "# Can toggle sharex to see the impact of the scale\n",
    "\n",
    "sns.kdeplot(df['HourlyRate'], ax=ax1, label='Without Scaling')\n",
    "ax1.legend()\n",
    "\n",
    "sns.kdeplot(standardized_rate, ax=ax2, label='With Scaling')\n",
    "ax2.legend()\n",
    "\n",
    "plt.show()"
   ]
  },
  {
   "cell_type": "markdown",
   "metadata": {},
   "source": [
    "Let's discuss:\n",
    "\n",
    "- values in units of standard deviations away from mean\n"
   ]
  },
  {
   "cell_type": "markdown",
   "metadata": {},
   "source": [
    "## Central Limit Theorem (CLT)\n",
    "\n",
    "We mentioned that the distribution above doesn't seem very normal. But here's something cool:\n",
    "\n",
    "> \"The central limit theorem states that the sampling distribution of the mean of any independent, random variable will be normal or nearly normal, if the sample size is large enough.\" \n",
    "- From [Stat Trek](https://stattrek.com/statistics/dictionary.aspx?definition=central_limit_theorem)"
   ]
  },
  {
   "cell_type": "markdown",
   "metadata": {},
   "source": [
    "Let's look at an example, using the popular Iris dataset:\n",
    "\n",
    "<img src=\"images/probability-basics.gif\" width=800>\n",
    "\n",
    "Here, taking samples of 15 flowers at a time and measuring their sepal lengths, we see that the the mean of the samples is normally distributed, where the mean of that normal distribution approximates the population mean. \n",
    "\n",
    "The coolest part is - this is true and works almost no matter what the original distribution is! (I say 'almost' because there are exceptions, of course). Even when we have _distinctly non-normal distributions_, we can use sampling to get a representation of population parameters (like the population mean)."
   ]
  },
  {
   "cell_type": "markdown",
   "metadata": {},
   "source": [
    "## Revisiting Sampling\n",
    "\n",
    "Before we apply a theorem that's related to sampling, we should remember some key things about sampling.\n",
    "\n",
    "<img src=\"images/sample_pop.png\" alt=\"sampling example with circled people\" width=800>\n",
    "\n",
    "Our goal when sampling is to find a representative group, from which we can infer population parameters.\n",
    "\n",
    "Remember: samples have statistics, populations have parameters.\n",
    "\n",
    "In order to do this effectively, our sample should be randomly selected and representative of our population (which sounds nice and easy, it's hard to do in practice). We are trying to minimize bias in our sample, but also we are sampling because we're trying to minimize cost as well."
   ]
  },
  {
   "cell_type": "markdown",
   "metadata": {},
   "source": [
    "### Back to our Seattle Data"
   ]
  },
  {
   "cell_type": "markdown",
   "metadata": {},
   "source": [
    "Let's take 100 samples of 50 employees each time, and see what their average hourly rate is:"
   ]
  },
  {
   "cell_type": "code",
   "execution_count": 46,
   "metadata": {},
   "outputs": [],
   "source": [
    "k = 10000 # number of samples\n",
    "n = 50 # number of employees per sample\n",
    "\n",
    "# The full for loop version:\n",
    "# sample_means = []\n",
    "# for x in range(n):\n",
    "#     sample_emps = df.sample(n=n)\n",
    "#     sample_mean = sample_emps['Hourly Rate '].mean()\n",
    "#     sample_means.append(sample_mean)\n",
    "    \n",
    "# But let's do this with list comprehension:\n",
    "sample_means = [np.mean(df.sample(n=n))[0] for x in range(k)]"
   ]
  },
  {
   "cell_type": "code",
   "execution_count": 42,
   "metadata": {
    "scrolled": true
   },
   "outputs": [
    {
     "data": {
      "text/plain": [
       "[47.916731999999996,\n",
       " 45.96246000000001,\n",
       " 44.85000000000001,\n",
       " 47.67182199999999,\n",
       " 45.31327999999999,\n",
       " 49.18091999999999,\n",
       " 44.744858,\n",
       " 49.298526,\n",
       " 48.122021999999994,\n",
       " 49.279700000000005,\n",
       " 48.859394,\n",
       " 48.288888,\n",
       " 49.07320000000001,\n",
       " 46.45753800000001,\n",
       " 49.14150000000001,\n",
       " 48.706785999999994,\n",
       " 48.11217799999999,\n",
       " 47.24684,\n",
       " 50.156916,\n",
       " 52.775346,\n",
       " 47.90472,\n",
       " 46.605108,\n",
       " 44.416599999999995,\n",
       " 49.45286,\n",
       " 51.597034,\n",
       " 47.74557999999999,\n",
       " 45.47560000000001,\n",
       " 47.454932,\n",
       " 47.751236,\n",
       " 44.36014000000001,\n",
       " 47.97566600000001,\n",
       " 44.908739999999995,\n",
       " 45.94858,\n",
       " 48.06473999999999,\n",
       " 50.46002000000001,\n",
       " 45.667698,\n",
       " 49.84826400000001,\n",
       " 51.11125000000001,\n",
       " 42.33518,\n",
       " 49.453126000000005,\n",
       " 47.222344,\n",
       " 46.787884000000005,\n",
       " 49.062858,\n",
       " 46.64178,\n",
       " 43.98424,\n",
       " 41.762220000000006,\n",
       " 45.057700000000004,\n",
       " 48.84468,\n",
       " 46.98768,\n",
       " 47.546698000000006,\n",
       " 42.119358000000005,\n",
       " 50.15948000000001,\n",
       " 48.44386800000001,\n",
       " 48.967228,\n",
       " 50.477417999999986,\n",
       " 50.98985200000001,\n",
       " 46.275288,\n",
       " 51.968028000000004,\n",
       " 51.812903999999996,\n",
       " 49.578669999999995,\n",
       " 49.84002,\n",
       " 45.777172,\n",
       " 49.900198,\n",
       " 47.16271400000001,\n",
       " 44.29854,\n",
       " 48.967,\n",
       " 47.26428,\n",
       " 43.37276800000001,\n",
       " 51.260464,\n",
       " 45.137558,\n",
       " 51.938100000000006,\n",
       " 51.878544000000005,\n",
       " 48.951364000000005,\n",
       " 46.449372,\n",
       " 46.964754,\n",
       " 48.49002,\n",
       " 48.422008,\n",
       " 46.06602000000001,\n",
       " 45.516301999999996,\n",
       " 45.589636,\n",
       " 46.87658600000002,\n",
       " 49.0753,\n",
       " 47.1289,\n",
       " 50.11196600000001,\n",
       " 46.94924000000001,\n",
       " 45.94936799999999,\n",
       " 44.796458,\n",
       " 49.723741999999994,\n",
       " 45.696380000000005,\n",
       " 49.71906,\n",
       " 45.692848,\n",
       " 51.822034,\n",
       " 50.58317,\n",
       " 50.42523200000001,\n",
       " 47.51296,\n",
       " 48.563634,\n",
       " 46.89264,\n",
       " 47.04044400000001,\n",
       " 46.112899999999996,\n",
       " 49.280972,\n",
       " 47.03272,\n",
       " 46.57376,\n",
       " 47.18652,\n",
       " 45.87836,\n",
       " 48.275352000000005,\n",
       " 43.18872,\n",
       " 47.948192000000006,\n",
       " 46.012956,\n",
       " 44.667497999999995,\n",
       " 47.572219999999994,\n",
       " 49.024678,\n",
       " 50.996086000000005,\n",
       " 50.18055999999999,\n",
       " 49.95400000000001,\n",
       " 44.72843000000001,\n",
       " 47.602604,\n",
       " 46.06966200000001,\n",
       " 48.76642000000001,\n",
       " 44.666424,\n",
       " 48.681248,\n",
       " 43.776198,\n",
       " 49.405712,\n",
       " 46.765362,\n",
       " 45.03532,\n",
       " 47.22174,\n",
       " 49.91850800000001,\n",
       " 46.440757999999995,\n",
       " 47.67658,\n",
       " 46.493359999999996,\n",
       " 44.741728,\n",
       " 53.697748000000004,\n",
       " 51.881162,\n",
       " 45.20816,\n",
       " 49.321740000000005,\n",
       " 46.15104,\n",
       " 50.60865599999999,\n",
       " 45.999373999999996,\n",
       " 44.682388,\n",
       " 48.22777000000001,\n",
       " 48.74812,\n",
       " 48.419182000000006,\n",
       " 49.580020000000005,\n",
       " 48.262480000000004,\n",
       " 48.66107999999999,\n",
       " 43.859944000000006,\n",
       " 48.80892000000001,\n",
       " 43.6871,\n",
       " 47.27772,\n",
       " 49.93925599999999,\n",
       " 45.15116400000001,\n",
       " 53.57345,\n",
       " 47.560460000000006,\n",
       " 46.76192000000001,\n",
       " 51.397439999999996,\n",
       " 49.90705,\n",
       " 51.04724,\n",
       " 48.14714,\n",
       " 43.61715999999999,\n",
       " 47.54135799999999,\n",
       " 44.875792000000004,\n",
       " 46.09221999999999,\n",
       " 50.60161000000001,\n",
       " 44.418980000000005,\n",
       " 50.040479999999995,\n",
       " 46.089180000000006,\n",
       " 48.356602,\n",
       " 47.47262,\n",
       " 47.96246000000001,\n",
       " 48.533704,\n",
       " 43.976727999999994,\n",
       " 45.765366,\n",
       " 48.90709400000001,\n",
       " 49.3964,\n",
       " 47.24670400000001,\n",
       " 49.982600000000005,\n",
       " 46.110077999999994,\n",
       " 49.171676,\n",
       " 44.18536,\n",
       " 48.11325,\n",
       " 45.604763999999996,\n",
       " 48.2952,\n",
       " 49.916979999999995,\n",
       " 49.69202,\n",
       " 49.77893999999999,\n",
       " 46.818059999999996,\n",
       " 44.873056000000005,\n",
       " 47.52054999999999,\n",
       " 53.348094,\n",
       " 48.040898,\n",
       " 45.79006,\n",
       " 42.0028,\n",
       " 53.33588,\n",
       " 48.69513800000001,\n",
       " 46.835242,\n",
       " 43.272278,\n",
       " 48.61741599999999,\n",
       " 49.41739599999999,\n",
       " 48.91477999999999,\n",
       " 47.71035600000001,\n",
       " 41.808742,\n",
       " 47.211586000000004,\n",
       " 44.144886,\n",
       " 44.264078,\n",
       " 48.00462,\n",
       " 45.739971999999995,\n",
       " 48.0943,\n",
       " 47.228415999999996,\n",
       " 47.96696000000001,\n",
       " 45.21238,\n",
       " 46.767004,\n",
       " 51.28387200000001,\n",
       " 51.256586,\n",
       " 47.761678,\n",
       " 49.056140000000006,\n",
       " 48.73474000000001,\n",
       " 48.93794,\n",
       " 48.527226,\n",
       " 46.99772,\n",
       " 48.589924,\n",
       " 45.431031999999995,\n",
       " 44.031186000000005,\n",
       " 51.47292,\n",
       " 47.21414,\n",
       " 49.343964,\n",
       " 48.073098,\n",
       " 48.15834000000001,\n",
       " 48.066746,\n",
       " 48.34395000000001,\n",
       " 51.400539999999985,\n",
       " 43.28582,\n",
       " 47.596848,\n",
       " 43.849,\n",
       " 49.77794,\n",
       " 45.92245599999999,\n",
       " 47.496565999999994,\n",
       " 48.63228,\n",
       " 45.15274600000001,\n",
       " 47.957132,\n",
       " 43.82039199999999,\n",
       " 49.277556,\n",
       " 45.243342000000005,\n",
       " 50.159842,\n",
       " 47.25338000000001,\n",
       " 47.367380000000004,\n",
       " 49.018432000000004,\n",
       " 48.9,\n",
       " 49.838358,\n",
       " 47.255807999999995,\n",
       " 48.595832,\n",
       " 50.38641,\n",
       " 50.005731999999995,\n",
       " 42.90978200000001,\n",
       " 49.006271999999996,\n",
       " 49.693846,\n",
       " 48.17026,\n",
       " 44.2587,\n",
       " 49.09458199999999,\n",
       " 49.47028000000001,\n",
       " 47.573522000000004,\n",
       " 48.00638,\n",
       " 51.70246,\n",
       " 47.87233200000001,\n",
       " 48.50386,\n",
       " 47.318220000000004,\n",
       " 50.45666,\n",
       " 44.88234000000001,\n",
       " 48.811060000000005,\n",
       " 50.59776399999999,\n",
       " 50.99604,\n",
       " 45.32202,\n",
       " 48.823,\n",
       " 48.622507999999996,\n",
       " 49.708446,\n",
       " 50.288486000000006,\n",
       " 47.04518000000001,\n",
       " 47.847699999999996,\n",
       " 48.15464,\n",
       " 48.505542000000005,\n",
       " 49.64243999999999,\n",
       " 49.04396,\n",
       " 44.263951999999996,\n",
       " 50.034907999999994,\n",
       " 43.012946,\n",
       " 47.70275999999999,\n",
       " 48.849734,\n",
       " 45.82373999999999,\n",
       " 46.830086,\n",
       " 48.6056,\n",
       " 50.655699999999996,\n",
       " 47.48835399999999,\n",
       " 50.459709999999994,\n",
       " 48.29552,\n",
       " 46.485200000000006,\n",
       " 46.728994000000014,\n",
       " 51.37395000000001,\n",
       " 47.31002,\n",
       " 46.440944,\n",
       " 49.721540000000005,\n",
       " 46.17341999999999,\n",
       " 48.568220000000004,\n",
       " 44.178380000000004,\n",
       " 48.901664000000004,\n",
       " 44.899083999999995,\n",
       " 48.52522199999999,\n",
       " 45.509896000000005,\n",
       " 47.279664,\n",
       " 50.561040000000006,\n",
       " 46.360688,\n",
       " 46.333113999999995,\n",
       " 45.52928,\n",
       " 46.342710000000004,\n",
       " 43.832024000000004,\n",
       " 47.93236000000001,\n",
       " 45.09736000000001,\n",
       " 46.172786,\n",
       " 48.698692,\n",
       " 44.812051999999994,\n",
       " 43.67048,\n",
       " 52.47235799999999,\n",
       " 48.84051600000001,\n",
       " 43.70326,\n",
       " 48.024182,\n",
       " 49.839622000000006,\n",
       " 49.540040000000005,\n",
       " 47.816579999999995,\n",
       " 46.304396000000004,\n",
       " 50.425999999999995,\n",
       " 45.525200000000005,\n",
       " 46.88208,\n",
       " 45.67068000000001,\n",
       " 47.68026,\n",
       " 48.99614,\n",
       " 45.262100000000004,\n",
       " 49.625159999999994,\n",
       " 44.555122000000004,\n",
       " 50.70376,\n",
       " 47.847441999999994,\n",
       " 47.657694,\n",
       " 46.910120000000006,\n",
       " 46.891540000000006,\n",
       " 47.22783400000001,\n",
       " 48.5017,\n",
       " 49.02161999999999,\n",
       " 48.471619999999994,\n",
       " 49.484939999999995,\n",
       " 49.017880000000005,\n",
       " 43.45522,\n",
       " 46.13702,\n",
       " 47.300916,\n",
       " 49.04596600000001,\n",
       " 50.058499999999995,\n",
       " 48.783948,\n",
       " 50.273680000000006,\n",
       " 52.886584,\n",
       " 46.806994,\n",
       " 51.395621999999996,\n",
       " 48.200725999999996,\n",
       " 48.583662000000004,\n",
       " 49.387905999999994,\n",
       " 42.61354400000001,\n",
       " 50.013408,\n",
       " 43.903757999999996,\n",
       " 50.330065999999995,\n",
       " 47.71428,\n",
       " 48.926936000000005,\n",
       " 47.974999999999994,\n",
       " 44.842068,\n",
       " 45.67938,\n",
       " 47.69362,\n",
       " 44.62466000000001,\n",
       " 49.19529000000001,\n",
       " 46.63637800000001,\n",
       " 43.708023999999995,\n",
       " 47.07768,\n",
       " 48.046330000000005,\n",
       " 50.985217999999996,\n",
       " 45.926072,\n",
       " 50.425419999999995,\n",
       " 50.690418,\n",
       " 41.24565,\n",
       " 45.223884,\n",
       " 46.983197999999994,\n",
       " 50.43723400000001,\n",
       " 49.44076,\n",
       " 47.210954,\n",
       " 48.78018,\n",
       " 49.329499999999996,\n",
       " 48.662698,\n",
       " 50.639758,\n",
       " 52.24281,\n",
       " 45.046118,\n",
       " 45.99716,\n",
       " 45.09512000000001,\n",
       " 50.49527200000001,\n",
       " 43.82476,\n",
       " 45.60787800000001,\n",
       " 50.69844000000001,\n",
       " 46.370804,\n",
       " 53.53139999999999,\n",
       " 48.077594,\n",
       " 49.212818000000006,\n",
       " 49.79258,\n",
       " 48.784042,\n",
       " 43.18903399999999,\n",
       " 47.147020000000005,\n",
       " 48.643496,\n",
       " 47.73985400000001,\n",
       " 50.26676,\n",
       " 42.800959999999996,\n",
       " 47.774956,\n",
       " 52.047428,\n",
       " 45.14574,\n",
       " 46.905358,\n",
       " 46.66022000000001,\n",
       " 50.36381200000001,\n",
       " 44.77085999999999,\n",
       " 48.938656,\n",
       " 46.40657999999999,\n",
       " 46.297459999999994,\n",
       " 49.20803999999999,\n",
       " 49.070738,\n",
       " 47.631222,\n",
       " 46.14488199999999,\n",
       " 49.61793999999999,\n",
       " 49.777379999999994,\n",
       " 49.37014,\n",
       " 48.12118399999999,\n",
       " 48.68094,\n",
       " 42.73894,\n",
       " 47.186254,\n",
       " 47.23461999999999,\n",
       " 46.33004000000001,\n",
       " 44.871500000000005,\n",
       " 42.9416,\n",
       " 46.258142,\n",
       " 49.123006,\n",
       " 42.93860000000001,\n",
       " 48.21064400000001,\n",
       " 47.66235,\n",
       " 47.428020000000004,\n",
       " 50.14172799999999,\n",
       " 48.43134,\n",
       " 48.90951000000001,\n",
       " 49.262194,\n",
       " 43.706762,\n",
       " 45.810822,\n",
       " 50.0339,\n",
       " 51.823269999999994,\n",
       " 47.51907600000001,\n",
       " 44.563276,\n",
       " 49.486056,\n",
       " 44.294943999999994,\n",
       " 52.39303200000001,\n",
       " 46.248714,\n",
       " 49.63743200000001,\n",
       " 49.579882,\n",
       " 46.35496200000001,\n",
       " 49.827560000000005,\n",
       " 49.438646000000006,\n",
       " 47.56190000000001,\n",
       " 46.44954,\n",
       " 48.895364,\n",
       " 49.145447999999995,\n",
       " 45.50097999999999,\n",
       " 45.877089999999995,\n",
       " 47.356858,\n",
       " 40.805769999999995,\n",
       " 48.923426,\n",
       " 46.95308,\n",
       " 48.38326000000001,\n",
       " 44.26128,\n",
       " 46.847224,\n",
       " 50.79149000000001,\n",
       " 44.61316,\n",
       " 48.6308,\n",
       " 48.40709199999999,\n",
       " 44.44898000000001,\n",
       " 49.034251999999995,\n",
       " 49.95900000000002,\n",
       " 47.08814,\n",
       " 50.21790800000001,\n",
       " 50.156949999999995,\n",
       " 44.522619999999996,\n",
       " 48.06530200000001,\n",
       " 50.10614,\n",
       " 49.909459999999996,\n",
       " 52.389030000000005,\n",
       " 48.76032000000001,\n",
       " 50.411891999999995,\n",
       " 47.07876,\n",
       " 44.6026,\n",
       " 50.800376,\n",
       " 49.824684000000005,\n",
       " 46.16432,\n",
       " 50.093864,\n",
       " 48.87151000000001,\n",
       " 45.55535999999999,\n",
       " 51.83520000000001,\n",
       " 47.53550399999999,\n",
       " 46.928266,\n",
       " 49.856614,\n",
       " 46.347187999999996,\n",
       " 52.086608000000005,\n",
       " 49.18551199999999,\n",
       " 47.52456,\n",
       " 43.71455400000001,\n",
       " 46.46387,\n",
       " 49.235264,\n",
       " 47.29815999999999,\n",
       " 45.97964000000001,\n",
       " 48.196760000000005,\n",
       " 47.171139999999994,\n",
       " 47.22703999999999,\n",
       " 47.896179999999994,\n",
       " 46.167,\n",
       " 46.704172,\n",
       " 48.27653599999999,\n",
       " 45.139136,\n",
       " 44.816012,\n",
       " 48.84803,\n",
       " 45.040428,\n",
       " 47.795486000000004,\n",
       " 50.94573200000001,\n",
       " 47.104099999999995,\n",
       " 42.648686,\n",
       " 47.72633999999999,\n",
       " 45.88808,\n",
       " 51.56742599999998,\n",
       " 46.39471399999999,\n",
       " 45.33984,\n",
       " 46.817,\n",
       " 47.90441999999999,\n",
       " 51.165380000000006,\n",
       " 46.04679999999999,\n",
       " 48.27834000000001,\n",
       " 49.124812,\n",
       " 47.999520000000004,\n",
       " 49.468469999999996,\n",
       " 46.86058400000001,\n",
       " 45.363102,\n",
       " 54.365246,\n",
       " 44.525488,\n",
       " 49.735809999999994,\n",
       " 46.87095999999999,\n",
       " 48.93892000000001,\n",
       " 49.050515999999995,\n",
       " 43.0437,\n",
       " 51.194359999999996,\n",
       " 45.29881600000001,\n",
       " 50.768806000000005,\n",
       " 51.32884399999999,\n",
       " 47.774382,\n",
       " 48.97431999999999,\n",
       " 46.47595999999999,\n",
       " 49.847276,\n",
       " 51.769712,\n",
       " 47.101158,\n",
       " 50.16987999999999,\n",
       " 46.848256,\n",
       " 47.786376,\n",
       " 49.510619999999996,\n",
       " 45.225898,\n",
       " 47.718863999999996,\n",
       " 45.139886000000004,\n",
       " 45.637394,\n",
       " 45.174914,\n",
       " 52.320796,\n",
       " 52.17499999999999,\n",
       " 47.792660000000005,\n",
       " 52.280068,\n",
       " 49.512518,\n",
       " 50.61554000000001,\n",
       " 46.016071999999994,\n",
       " 50.041056,\n",
       " 50.584478,\n",
       " 49.312138,\n",
       " 47.67334400000001,\n",
       " 49.121266,\n",
       " 48.930659999999996,\n",
       " 45.17532,\n",
       " 44.427040000000005,\n",
       " 50.38853999999999,\n",
       " 46.999300000000005,\n",
       " 45.828636,\n",
       " 47.221052,\n",
       " 49.027919999999995,\n",
       " 47.62230599999999,\n",
       " 48.290949999999995,\n",
       " 45.78031,\n",
       " 45.042933999999995,\n",
       " 43.48192400000001,\n",
       " 51.506147999999996,\n",
       " 46.373466,\n",
       " 48.782572,\n",
       " 45.167092,\n",
       " 47.30178000000001,\n",
       " 50.46782,\n",
       " 48.865236,\n",
       " 49.63878,\n",
       " 47.87439200000001,\n",
       " 46.48197999999999,\n",
       " 50.68396,\n",
       " 47.615559999999995,\n",
       " 44.711563999999996,\n",
       " 46.923939999999995,\n",
       " 43.4486,\n",
       " 46.539863999999994,\n",
       " 44.47936,\n",
       " 48.390100000000004,\n",
       " 49.429503999999994,\n",
       " 47.82974,\n",
       " 49.5597,\n",
       " 45.060649999999995,\n",
       " 48.68027399999999,\n",
       " 52.22358,\n",
       " 47.594818,\n",
       " 43.566128000000006,\n",
       " 49.5741,\n",
       " 49.44208799999999,\n",
       " 48.89614,\n",
       " 48.851634000000004,\n",
       " 51.69284999999999,\n",
       " 50.36106000000001,\n",
       " 46.734399999999994,\n",
       " 50.613071999999995,\n",
       " 43.47004,\n",
       " 53.258860000000006,\n",
       " 53.230996,\n",
       " 47.895566,\n",
       " 50.6306,\n",
       " 44.262646000000004,\n",
       " 45.73622000000001,\n",
       " 44.691174000000004,\n",
       " 46.992172000000004,\n",
       " 45.33502000000001,\n",
       " 47.61617999999999,\n",
       " 48.781760000000006,\n",
       " 49.296859999999995,\n",
       " 50.6363,\n",
       " 50.78211999999999,\n",
       " 48.857564,\n",
       " 44.796124,\n",
       " 46.28705000000001,\n",
       " 50.961845999999994,\n",
       " 47.08189399999999,\n",
       " 46.450866000000005,\n",
       " 50.48192,\n",
       " 52.554698,\n",
       " 50.17669,\n",
       " 50.088418000000004,\n",
       " 47.041574,\n",
       " 48.94880000000001,\n",
       " 45.96556,\n",
       " 48.408688000000005,\n",
       " 49.311924,\n",
       " 48.764089999999996,\n",
       " 48.88552000000001,\n",
       " 50.372830000000015,\n",
       " 49.735492,\n",
       " 50.799522,\n",
       " 52.59098800000001,\n",
       " 46.71614,\n",
       " 45.33236000000001,\n",
       " 49.4863,\n",
       " 55.06943400000001,\n",
       " 51.59886,\n",
       " 45.82598000000001,\n",
       " 50.712218000000014,\n",
       " 46.708760000000005,\n",
       " 48.264276,\n",
       " 50.480467999999995,\n",
       " 46.010979999999996,\n",
       " 48.823964,\n",
       " 47.37559999999999,\n",
       " 46.3551,\n",
       " 49.21565799999999,\n",
       " 46.879964,\n",
       " 42.825439999999986,\n",
       " 50.751616000000006,\n",
       " 49.559912000000004,\n",
       " 47.889798,\n",
       " 48.988446,\n",
       " 45.147439999999996,\n",
       " 50.616820000000004,\n",
       " 47.326534,\n",
       " 44.59250200000001,\n",
       " 45.33216,\n",
       " 45.409155999999996,\n",
       " 49.050974,\n",
       " 51.01988,\n",
       " 49.8932,\n",
       " 45.59924000000001,\n",
       " 44.54524000000001,\n",
       " 49.75152800000001,\n",
       " 45.185869999999994,\n",
       " 40.64836,\n",
       " 48.089144,\n",
       " 50.727818000000006,\n",
       " 45.49955,\n",
       " 46.191345999999996,\n",
       " 47.90352000000001,\n",
       " 45.637440000000005,\n",
       " 42.993500000000004,\n",
       " 45.410436,\n",
       " 41.65004,\n",
       " 47.269874,\n",
       " 50.23947999999999,\n",
       " 53.859742000000004,\n",
       " 46.320926,\n",
       " 48.929462,\n",
       " 43.20022,\n",
       " 52.130248,\n",
       " 51.017587999999996,\n",
       " 50.692465999999996,\n",
       " 46.810275999999995,\n",
       " 46.554919999999996,\n",
       " 49.49942800000001,\n",
       " 47.276188000000005,\n",
       " 50.82305,\n",
       " 51.44818,\n",
       " 42.35265999999999,\n",
       " 47.859939999999995,\n",
       " 41.299568,\n",
       " 44.895818,\n",
       " 46.482920000000014,\n",
       " 45.73680000000001,\n",
       " 51.6188,\n",
       " 46.424119999999995,\n",
       " 50.084610000000005,\n",
       " 46.38974,\n",
       " 46.03326800000001,\n",
       " 50.57202,\n",
       " 46.313393999999995,\n",
       " 46.734300000000005,\n",
       " 49.36679999999999,\n",
       " 47.892199999999995,\n",
       " 46.165839999999996,\n",
       " 50.04706,\n",
       " 47.48385999999999,\n",
       " 47.325502,\n",
       " 45.344079999999984,\n",
       " 51.58323999999999,\n",
       " 47.08438200000001,\n",
       " 46.93498,\n",
       " 44.376604,\n",
       " 48.536840000000005,\n",
       " 47.195722,\n",
       " 47.4281,\n",
       " 50.863874,\n",
       " 49.27999399999999,\n",
       " 45.323859999999996,\n",
       " 46.97153,\n",
       " 50.151554000000004,\n",
       " 42.22160000000001,\n",
       " 45.876802,\n",
       " 45.821596,\n",
       " 46.04585999999999,\n",
       " 47.298764,\n",
       " 47.69566400000001,\n",
       " 45.690560000000005,\n",
       " 48.827642000000004,\n",
       " 48.78424,\n",
       " 48.44855199999999,\n",
       " 48.43578,\n",
       " 44.909834000000004,\n",
       " 49.371136,\n",
       " 47.453012,\n",
       " 45.997240000000005,\n",
       " 44.53864000000001,\n",
       " 45.60277,\n",
       " 44.22978,\n",
       " 43.748045999999995,\n",
       " 50.636773999999996,\n",
       " 47.84454000000001,\n",
       " 49.11338,\n",
       " 46.26846799999999,\n",
       " 48.115906,\n",
       " 45.584588000000004,\n",
       " 50.30079799999999,\n",
       " 46.46986,\n",
       " 43.561508,\n",
       " 47.33974,\n",
       " 46.43733999999999,\n",
       " 48.106700000000004,\n",
       " 42.535766,\n",
       " 48.29051800000001,\n",
       " 47.07862400000001,\n",
       " 46.655006,\n",
       " 48.06176000000001,\n",
       " 51.411840000000005,\n",
       " 46.97094,\n",
       " 45.403470000000006,\n",
       " 49.841824,\n",
       " 50.34270000000001,\n",
       " 49.02046,\n",
       " 43.24314,\n",
       " 46.11569999999999,\n",
       " 44.31336,\n",
       " 49.813944,\n",
       " 52.62856000000001,\n",
       " 48.57089199999999,\n",
       " 50.320614,\n",
       " 48.72303000000001,\n",
       " 50.78715999999999,\n",
       " 49.397904,\n",
       " 47.39930800000001,\n",
       " 44.831238000000006,\n",
       " 51.573992000000004,\n",
       " 45.606387999999995,\n",
       " 49.507619999999996,\n",
       " 47.85348,\n",
       " 49.06619800000001,\n",
       " 48.28095999999999,\n",
       " 47.58968000000001,\n",
       " 46.820316000000005,\n",
       " 49.60408000000001,\n",
       " 48.26134399999999,\n",
       " 49.51706,\n",
       " 46.399884,\n",
       " 46.037284,\n",
       " 48.640100000000004,\n",
       " 47.382022,\n",
       " 46.096444,\n",
       " 46.970838,\n",
       " 45.12984,\n",
       " 51.21072000000001,\n",
       " 48.819925999999995,\n",
       " 47.961164,\n",
       " 50.937239999999996,\n",
       " 49.53545000000001,\n",
       " 47.126252,\n",
       " 49.8635,\n",
       " 46.86210000000001,\n",
       " 50.21516,\n",
       " 42.8643,\n",
       " 45.426,\n",
       " 47.241080000000004,\n",
       " 47.02143999999999,\n",
       " 49.49089999999999,\n",
       " 45.328483999999996,\n",
       " 46.00318,\n",
       " 46.82318,\n",
       " 44.52004,\n",
       " 51.202344000000004,\n",
       " 46.75757000000001,\n",
       " 50.2382,\n",
       " 50.581304,\n",
       " 46.44374399999999,\n",
       " 45.98158,\n",
       " 49.310080000000006,\n",
       " 49.43423799999999,\n",
       " 46.840576,\n",
       " 50.44236000000001,\n",
       " 45.949799999999996,\n",
       " 49.695564000000005,\n",
       " 46.93136,\n",
       " 45.98652,\n",
       " 51.2612,\n",
       " 48.704176000000004,\n",
       " 49.572880000000005,\n",
       " 45.14364,\n",
       " 48.788666000000006,\n",
       " 50.04070000000001,\n",
       " 53.298434,\n",
       " 50.941756000000005,\n",
       " 44.38112,\n",
       " 45.86918000000001,\n",
       " 48.513174,\n",
       " 46.129506,\n",
       " 49.80364,\n",
       " 46.86711799999999,\n",
       " 49.63754,\n",
       " 51.65283999999999,\n",
       " 49.90778,\n",
       " 49.228304,\n",
       " 43.17696,\n",
       " 48.98537999999999,\n",
       " 44.25612,\n",
       " 47.049305999999994,\n",
       " 46.22164,\n",
       " 45.45694,\n",
       " 48.50298,\n",
       " 47.834900000000005,\n",
       " 50.17455999999999,\n",
       " 46.868932,\n",
       " 48.927216,\n",
       " 46.34596,\n",
       " 44.22402,\n",
       " 43.21056000000001,\n",
       " 50.05937000000001,\n",
       " 44.61334,\n",
       " 45.3891,\n",
       " 51.296602,\n",
       " 45.90920199999999,\n",
       " 43.81372,\n",
       " 45.282579999999996,\n",
       " 49.47796399999999,\n",
       " 49.012162,\n",
       " 44.878910000000005,\n",
       " 47.19614000000001,\n",
       " 47.54381399999999,\n",
       " 50.166568000000005,\n",
       " 49.47839,\n",
       " 47.2221,\n",
       " 49.53891199999999,\n",
       " 49.97296400000001,\n",
       " 44.78163599999999,\n",
       " 46.85499,\n",
       " 45.41246,\n",
       " 47.62134000000001,\n",
       " 45.967856000000005,\n",
       " 47.506665999999996,\n",
       " 50.7482,\n",
       " 48.39508000000001,\n",
       " 46.38347999999999,\n",
       " 49.064068,\n",
       " 50.002308,\n",
       " 47.73622399999999,\n",
       " 45.69679,\n",
       " 45.645418,\n",
       " 49.100796,\n",
       " 50.047782000000005,\n",
       " 50.185644,\n",
       " 45.94460000000001,\n",
       " 47.999384,\n",
       " 47.631690000000006,\n",
       " 52.41042,\n",
       " 42.938598,\n",
       " 49.783054000000014,\n",
       " 45.42429200000001,\n",
       " 45.922836000000004,\n",
       " 47.460559999999994,\n",
       " 46.89285199999999,\n",
       " 50.169542,\n",
       " 46.599920000000004,\n",
       " 45.305524,\n",
       " 48.31942799999999,\n",
       " 49.816152,\n",
       " 48.40633599999999,\n",
       " 48.776439999999994,\n",
       " 48.21267199999999,\n",
       " 49.086498,\n",
       " 49.887592,\n",
       " 47.34949999999999,\n",
       " 47.069219999999994,\n",
       " 44.3342,\n",
       " 49.148464000000004,\n",
       " 44.30578,\n",
       " 42.949632,\n",
       " 49.302853999999996,\n",
       " 46.374556000000005,\n",
       " 49.22313199999999,\n",
       " 49.438132,\n",
       " 52.26467600000001,\n",
       " 44.449135999999996,\n",
       " 49.819092,\n",
       " 47.48447999999999,\n",
       " 48.093,\n",
       " 51.00754800000001,\n",
       " 46.93201400000001,\n",
       " 50.819120000000005,\n",
       " 50.34793,\n",
       " 45.19076,\n",
       " 48.165783999999995,\n",
       " 48.101498,\n",
       " 45.1601,\n",
       " 47.35012,\n",
       " 52.012096,\n",
       " 48.935288,\n",
       " 51.321882,\n",
       " 48.385034000000005,\n",
       " 46.64027,\n",
       " 50.600252,\n",
       " 48.140919999999994,\n",
       " 46.997865999999995,\n",
       " 47.600528000000004,\n",
       " 49.83130600000001,\n",
       " 49.552572,\n",
       " 47.11496,\n",
       " 51.70594399999999,\n",
       " 46.805682,\n",
       " 47.050146,\n",
       " 45.801038,\n",
       " 49.297774,\n",
       " 47.13737400000001,\n",
       " 47.655640000000005,\n",
       " 55.01840800000001,\n",
       " 48.938234,\n",
       " 46.46266400000001,\n",
       " 48.714362,\n",
       " 46.577344000000004,\n",
       " 48.66281999999999,\n",
       " 46.206459999999986,\n",
       " 47.833462,\n",
       " 46.42181599999999,\n",
       " 49.158014,\n",
       " 51.592492,\n",
       " 47.62790000000001,\n",
       " 46.09402,\n",
       " 50.151683999999996]"
      ]
     },
     "execution_count": 42,
     "metadata": {},
     "output_type": "execute_result"
    }
   ],
   "source": [
    "sample_means"
   ]
  },
  {
   "cell_type": "code",
   "execution_count": 43,
   "metadata": {},
   "outputs": [
    {
     "data": {
      "text/plain": [
       "1000"
      ]
     },
     "execution_count": 43,
     "metadata": {},
     "output_type": "execute_result"
    }
   ],
   "source": [
    "len(sample_means)"
   ]
  },
  {
   "cell_type": "code",
   "execution_count": 47,
   "metadata": {
    "scrolled": true
   },
   "outputs": [
    {
     "data": {
      "image/png": "[encoded data removed]",
      "text/plain": [
       "<Figure size 576x432 with 1 Axes>"
      ]
     },
     "metadata": {
      "needs_background": "light"
     },
     "output_type": "display_data"
    }
   ],
   "source": [
    "# Plotting the distribution of our samples, plus our pop and sample means\n",
    "pop_mean = df['HourlyRate'].mean()\n",
    "samp_mean = np.mean(sample_means)\n",
    "\n",
    "plt.figure(figsize=(8,6))\n",
    "\n",
    "sns.histplot(sample_means)\n",
    "\n",
    "plt.vlines(pop_mean, ymin=0, ymax=25, color='r', linestyle=':',\n",
    "           label=f'Population Mean: {pop_mean:.2f}')\n",
    "plt.vlines(samp_mean, ymin=0, ymax=25, color='g', linestyle=':',\n",
    "           label=f'Mean of {k} Samples: {samp_mean:.2f}')\n",
    "\n",
    "plt.legend();"
   ]
  },
  {
   "cell_type": "code",
   "execution_count": 45,
   "metadata": {},
   "outputs": [
    {
     "data": {
      "image/png": "[encoded data removed]",
      "text/plain": [
       "<Figure size 432x288 with 1 Axes>"
      ]
     },
     "metadata": {
      "needs_background": "light"
     },
     "output_type": "display_data"
    }
   ],
   "source": [
    "sns.kdeplot(df['HourlyRate']);"
   ]
  },
  {
   "cell_type": "markdown",
   "metadata": {},
   "source": [
    "Discuss:\n",
    "\n",
    "- CLT at play, distribution of sample means is mostly normal (more than original)\n"
   ]
  },
  {
   "cell_type": "markdown",
   "metadata": {
    "heading_collapsed": true
   },
   "source": [
    "-----\n",
    "\n",
    "\n",
    "# Level Up: Other Distributions"
   ]
  },
  {
   "cell_type": "markdown",
   "metadata": {
    "hidden": true
   },
   "source": [
    "The world is full of distributions to explore! See some other less-common ones below:"
   ]
  },
  {
   "cell_type": "markdown",
   "metadata": {
    "hidden": true
   },
   "source": [
    "![](images/distributions.png)"
   ]
  },
  {
   "cell_type": "markdown",
   "metadata": {
    "hidden": true
   },
   "source": [
    "Now that we know a few methods in visualizing distributions 📊👀, we can start looking at different types of distributions.\n",
    "\n",
    "We can tell a lot about a distribution shape such as taking a guess of the mechanism that it took to generate the data."
   ]
  },
  {
   "cell_type": "markdown",
   "metadata": {},
   "source": [
    "## Level Up: SKLearn's Standard Scaler\n",
    "\n",
    "Soon we'll be using a pre-built function to scale our data: https://scikit-learn.org/stable/modules/generated/sklearn.preprocessing.StandardScaler.html\n",
    "\n",
    "Let's go ahead and peek at our first `sklearn` class!"
   ]
  },
  {
   "cell_type": "code",
   "execution_count": 48,
   "metadata": {},
   "outputs": [],
   "source": [
    "# Importing StandardScaler from the preprocessing module\n",
    "from sklearn.preprocessing import StandardScaler\n",
    "\n",
    "# Need to instantiate our scaler\n",
    "scaler = StandardScaler()\n",
    "\n",
    "# Fitting our scaler (note how we need to make the column into a dataframe)\n",
    "scaler.fit(df[['HourlyRate']])\n",
    "\n",
    "# Grabbing the transformed values out as scaled_rate\n",
    "scaled_rate = scaler.transform(df[['HourlyRate']])"
   ]
  },
  {
   "cell_type": "code",
   "execution_count": 49,
   "metadata": {},
   "outputs": [
    {
     "data": {
      "text/plain": [
       "array([[ 0.35419662],\n",
       "       [-0.48066092],\n",
       "       [-1.09843158],\n",
       "       ...,\n",
       "       [-0.85981542],\n",
       "       [-1.02248108],\n",
       "       [-1.09843158]])"
      ]
     },
     "execution_count": 49,
     "metadata": {},
     "output_type": "execute_result"
    }
   ],
   "source": [
    "scaler.fit_transform(df[['HourlyRate']])"
   ]
  },
  {
   "cell_type": "code",
   "execution_count": 50,
   "metadata": {},
   "outputs": [],
   "source": [
    "scaler = StandardScaler()"
   ]
  },
  {
   "cell_type": "code",
   "execution_count": 51,
   "metadata": {},
   "outputs": [
    {
     "data": {
      "text/plain": [
       "sklearn.preprocessing._data.StandardScaler"
      ]
     },
     "execution_count": 51,
     "metadata": {},
     "output_type": "execute_result"
    }
   ],
   "source": [
    "type(scaler)"
   ]
  },
  {
   "cell_type": "code",
   "execution_count": 52,
   "metadata": {},
   "outputs": [
    {
     "data": {
      "text/plain": [
       "StandardScaler()"
      ]
     },
     "execution_count": 52,
     "metadata": {},
     "output_type": "execute_result"
    }
   ],
   "source": [
    "scaler.fit(df[['HourlyRate']])"
   ]
  },
  {
   "cell_type": "code",
   "execution_count": 53,
   "metadata": {},
   "outputs": [
    {
     "data": {
      "text/plain": [
       "47.81733114404976"
      ]
     },
     "execution_count": 53,
     "metadata": {},
     "output_type": "execute_result"
    }
   ],
   "source": [
    "df['HourlyRate'].mean()"
   ]
  },
  {
   "cell_type": "code",
   "execution_count": 54,
   "metadata": {},
   "outputs": [
    {
     "data": {
      "text/plain": [
       "array([47.81733114])"
      ]
     },
     "execution_count": 54,
     "metadata": {},
     "output_type": "execute_result"
    }
   ],
   "source": [
    "scaler.mean_"
   ]
  },
  {
   "cell_type": "code",
   "execution_count": 55,
   "metadata": {},
   "outputs": [
    {
     "data": {
      "text/plain": [
       "array([16.72141574])"
      ]
     },
     "execution_count": 55,
     "metadata": {},
     "output_type": "execute_result"
    }
   ],
   "source": [
    "scaler.scale_"
   ]
  },
  {
   "cell_type": "code",
   "execution_count": 56,
   "metadata": {},
   "outputs": [
    {
     "data": {
      "text/plain": [
       "array([[ 0.35419662],\n",
       "       [-0.48066092],\n",
       "       [-1.09843158],\n",
       "       ...,\n",
       "       [-0.85981542],\n",
       "       [-1.02248108],\n",
       "       [-1.09843158]])"
      ]
     },
     "execution_count": 56,
     "metadata": {},
     "output_type": "execute_result"
    }
   ],
   "source": [
    "scaler.transform(df[['HourlyRate']])"
   ]
  },
  {
   "cell_type": "code",
   "execution_count": 57,
   "metadata": {
    "scrolled": false
   },
   "outputs": [
    {
     "data": {
      "image/png": "[encoded data removed]",
      "text/plain": [
       "<Figure size 720x432 with 3 Axes>"
      ]
     },
     "metadata": {
      "needs_background": "light"
     },
     "output_type": "display_data"
    }
   ],
   "source": [
    "# Plot and compare results\n",
    "fig, (ax1, ax2, ax3) = plt.subplots(nrows=3, ncols=1, figsize=(10,6), sharex=True)\n",
    "\n",
    "sns.kdeplot(df['HourlyRate'], ax=ax1, label='Without Scaling')\n",
    "ax1.legend()\n",
    "\n",
    "sns.kdeplot(standardized_rate, ax=ax2, label='Manual Scaling')\n",
    "ax2.legend()\n",
    "\n",
    "sns.kdeplot(scaled_rate[:,0], ax=ax3, label='SKLearn Standard Scaling')\n",
    "ax3.legend()\n",
    "\n",
    "plt.show()"
   ]
  }
 ],
 "metadata": {
  "kernelspec": {
   "display_name": "Python (learn-env)",
   "language": "python",
   "name": "learn-env"
  },
  "language_info": {
   "codemirror_mode": {
    "name": "ipython",
    "version": 3
   },
   "file_extension": ".py",
   "mimetype": "text/x-python",
   "name": "python",
   "nbconvert_exporter": "python",
   "pygments_lexer": "ipython3",
   "version": "3.8.5"
  },
  "toc": {
   "base_numbering": 1,
   "nav_menu": {},
   "number_sections": true,
   "sideBar": true,
   "skip_h1_title": false,
   "title_cell": "Table of Contents",
   "title_sidebar": "TOC",
   "toc_cell": true,
   "toc_position": {
    "height": "calc(100% - 180px)",
    "left": "10px",
    "top": "150px",
    "width": "380.25px"
   },
   "toc_section_display": true,
   "toc_window_display": true
  }
 },
 "nbformat": 4,
 "nbformat_minor": 4
}
