{
 "cells": [
  {
   "cell_type": "markdown",
   "metadata": {},
   "source": [
    "# Application Program Interfaces"
   ]
  },
  {
   "cell_type": "markdown",
   "metadata": {},
   "source": [
    "![](images/slurping_thru_api.jpeg)"
   ]
  },
  {
   "cell_type": "markdown",
   "metadata": {},
   "source": [
    "> Created by [@siscadraws](https://www.instagram.com/siscadraws/)"
   ]
  },
  {
   "cell_type": "code",
   "execution_count": null,
   "metadata": {},
   "outputs": [],
   "source": [
    "import pandas as pd\n",
    "import requests\n",
    "import json"
   ]
  },
  {
   "cell_type": "markdown",
   "metadata": {
    "heading_collapsed": true
   },
   "source": [
    "# Objectives"
   ]
  },
  {
   "cell_type": "markdown",
   "metadata": {
    "hidden": true
   },
   "source": [
    "* Send requests and receive responses over the web\n",
    "* Retrieve data from APIs using the `requests` library\n",
    "* Parse API responses"
   ]
  },
  {
   "cell_type": "markdown",
   "metadata": {
    "heading_collapsed": true
   },
   "source": [
    "# APIs"
   ]
  },
  {
   "cell_type": "markdown",
   "metadata": {
    "hidden": true
   },
   "source": [
    "The term **Application Program Interfaces**, or APIs, is exceedingly general. It applies to any interaction between applications or between an application and a user. One might speak of the \"matplotlib API\" to describe proper plotting syntax but also of APIs that govern the interaction between various steps of a data pipeline: between a database server and a remote client, between a local machine and a cloud storage bucket, etc.\n",
    "\n",
    "APIs are commonly used to retrieve data from remote websites. Sites like Reddit, Twitter, and Facebook all offer certain data through their APIs. "
   ]
  },
  {
   "cell_type": "markdown",
   "metadata": {
    "heading_collapsed": true,
    "hidden": true
   },
   "source": [
    "## Overview of APIs"
   ]
  },
  {
   "cell_type": "markdown",
   "metadata": {
    "hidden": true
   },
   "source": [
    "An API communicates with another application:\n",
    "\n",
    "* Send request (with some info/data)\n",
    "* Get response\n",
    "    + data\n",
    "    + service\n",
    "\n",
    "\n",
    "It's always a software-to-software interaction"
   ]
  },
  {
   "cell_type": "markdown",
   "metadata": {
    "hidden": true
   },
   "source": [
    "![](images/web_api.png)\n",
    "> <a href=\"https://commons.wikimedia.org/wiki/File:Web_API.png\">Brivadeneira</a>, <a href=\"https://creativecommons.org/licenses/by-sa/4.0\">CC BY-SA 4.0</a>, via Wikimedia Commons"
   ]
  },
  {
   "cell_type": "markdown",
   "metadata": {
    "heading_collapsed": true,
    "hidden": true
   },
   "source": [
    "### Parts of an API"
   ]
  },
  {
   "cell_type": "markdown",
   "metadata": {
    "hidden": true
   },
   "source": [
    "* **Access Permissions**\n",
    "    + User allowed to ask?\n",
    "* **API Call/Request**\n",
    "    + Code used to make API call to implement complicated tasks/features\n",
    "    + *Methods*: what questions can we ask?\n",
    "    + *Parameters*: more info to be sent\n",
    "* **Repsonse**\n",
    "    + Result of request"
   ]
  },
  {
   "cell_type": "markdown",
   "metadata": {
    "heading_collapsed": true,
    "hidden": true
   },
   "source": [
    "## The `requests` Library and its `.get()` Method"
   ]
  },
  {
   "cell_type": "markdown",
   "metadata": {
    "hidden": true
   },
   "source": [
    "![](images/logo.png)"
   ]
  },
  {
   "cell_type": "markdown",
   "metadata": {
    "hidden": true
   },
   "source": [
    "To use an API, you make a request to a remote web server, and retrieve the data you need.\n",
    "\n",
    "We'll use the `requests` library to access web locations."
   ]
  },
  {
   "cell_type": "markdown",
   "metadata": {
    "hidden": true
   },
   "source": [
    "Below is how you would install and import the requests library before making any requests. \n",
    "```python\n",
    "# Uncomment and install requests if you dont have it already\n",
    "# conda install -c anaconda requests\n",
    "\n",
    "# Import requests to working environment\n",
    "import requests\n",
    "```"
   ]
  },
  {
   "cell_type": "markdown",
   "metadata": {
    "hidden": true
   },
   "source": [
    "-------"
   ]
  },
  {
   "cell_type": "markdown",
   "metadata": {
    "hidden": true
   },
   "source": [
    "Now that we have `requests` library ready in our working environment, we can start making some requests using the `.get()` method as shown below.\n",
    "\n",
    "We can use a GET request to retrieve information from the OpenNotify API."
   ]
  },
  {
   "cell_type": "code",
   "execution_count": null,
   "metadata": {
    "hidden": true
   },
   "outputs": [],
   "source": [
    "# Make a get request to get the latest position of the\n",
    "# International Space Station (ISS) from the opennotify api.\n",
    "\n",
    "url = 'http://api.open-notify.org/iss-now.json'\n",
    "iss_response = requests.get(url)"
   ]
  },
  {
   "cell_type": "markdown",
   "metadata": {
    "hidden": true
   },
   "source": [
    "This creates a `Response` object containing the response that we received"
   ]
  },
  {
   "cell_type": "code",
   "execution_count": null,
   "metadata": {
    "hidden": true
   },
   "outputs": [],
   "source": [
    "type(iss_response)"
   ]
  },
  {
   "cell_type": "markdown",
   "metadata": {
    "hidden": true
   },
   "source": [
    "The `Response` object contains a bunch of information about the response we got from the server. For example, it includes the status code, which can be helpful for diagnosing request issues. 200 means OK - we'll discuss others later."
   ]
  },
  {
   "cell_type": "code",
   "execution_count": null,
   "metadata": {
    "hidden": true
   },
   "outputs": [],
   "source": [
    "iss_response.status_code"
   ]
  },
  {
   "cell_type": "markdown",
   "metadata": {
    "hidden": true
   },
   "source": [
    "The `Response` object also contains the data received from our request in the `content` attribute. "
   ]
  },
  {
   "cell_type": "code",
   "execution_count": null,
   "metadata": {
    "hidden": true
   },
   "outputs": [],
   "source": [
    "iss_response.content"
   ]
  },
  {
   "cell_type": "markdown",
   "metadata": {
    "heading_collapsed": true,
    "hidden": true
   },
   "source": [
    "## Parsing JSON Responses"
   ]
  },
  {
   "cell_type": "markdown",
   "metadata": {
    "hidden": true
   },
   "source": [
    "OpenNotify has several API **endpoints**. An endpoint is a server route that is used to retrieve different data from the API. For example, the `/comments` endpoint on the Reddit API might retrieve information about comments, whereas the `/users` endpoint might retrieve data about users. To access them, you would add the endpoint to the base url of the API."
   ]
  },
  {
   "cell_type": "code",
   "execution_count": null,
   "metadata": {
    "hidden": true
   },
   "outputs": [],
   "source": [
    "# Let's check out who is in space right now!\n",
    "\n",
    "url = 'http://api.open-notify.org/astros.json'\n",
    "astro_response = requests.get(url)\n",
    "print(astro_response.status_code)"
   ]
  },
  {
   "cell_type": "code",
   "execution_count": null,
   "metadata": {
    "hidden": true
   },
   "outputs": [],
   "source": [
    "astro_response.content"
   ]
  },
  {
   "cell_type": "markdown",
   "metadata": {
    "hidden": true
   },
   "source": [
    "See the `b'` at the beginning? The `content` is stored in a \"byte literal\" format, not a Python dictionary."
   ]
  },
  {
   "cell_type": "code",
   "execution_count": null,
   "metadata": {
    "hidden": true
   },
   "outputs": [],
   "source": [
    "type(astro_response.content)"
   ]
  },
  {
   "cell_type": "markdown",
   "metadata": {
    "hidden": true
   },
   "source": [
    "We can look at the `text` attribute instead, but this still gives us a string, not a dictionary."
   ]
  },
  {
   "cell_type": "code",
   "execution_count": null,
   "metadata": {
    "hidden": true
   },
   "outputs": [],
   "source": [
    "astro_response.text"
   ]
  },
  {
   "cell_type": "code",
   "execution_count": null,
   "metadata": {
    "hidden": true
   },
   "outputs": [],
   "source": [
    "print(astro_response.text)\n",
    "print(type(astro_response.text))"
   ]
  },
  {
   "cell_type": "markdown",
   "metadata": {
    "hidden": true
   },
   "source": [
    "To address this, we will use the `.json()` method to get a dictionary we can work with."
   ]
  },
  {
   "cell_type": "code",
   "execution_count": null,
   "metadata": {
    "hidden": true
   },
   "outputs": [],
   "source": [
    "astro_data = astro_response.json()\n",
    "astro_data.keys()"
   ]
  },
  {
   "cell_type": "markdown",
   "metadata": {
    "heading_collapsed": true,
    "hidden": true
   },
   "source": [
    "## Status Codes"
   ]
  },
  {
   "cell_type": "markdown",
   "metadata": {
    "hidden": true
   },
   "source": [
    "The request we make may not always be successful. The best way is to check the status code which gets returned with the response: `response.status_code`"
   ]
  },
  {
   "cell_type": "code",
   "execution_count": null,
   "metadata": {
    "hidden": true
   },
   "outputs": [],
   "source": [
    "astro_response.status_code"
   ]
  },
  {
   "cell_type": "markdown",
   "metadata": {
    "hidden": true
   },
   "source": [
    "[Status Code Info](https://developer.mozilla.org/en-US/docs/Web/HTTP/Status) <br/>\n",
    "[Status Code Info with Dogs](https://httpstatusdogs.com/) <br/>\n",
    "[Wikipedia on Status Codes](https://en.wikipedia.org/wiki/List_of_HTTP_status_codes)\n",
    "\n",
    "So this is a good check to see if our request was successful. Depending on the status of the web server, the access rights of the clients and availibility of requested information. A web server may return a number of status codes within the response. Wikipedia has an exhaustive details on all these codes."
   ]
  },
  {
   "cell_type": "markdown",
   "metadata": {
    "heading_collapsed": true,
    "hidden": true
   },
   "source": [
    "### Common status codes"
   ]
  },
  {
   "cell_type": "markdown",
   "metadata": {
    "hidden": true
   },
   "source": [
    "* 200 — everything went okay, and the result has been returned (if any)\n",
    "* 301 — the server is redirecting you to a different endpoint. This can happen when a company switches domain names, or an endpoint name is changed.\n",
    "* 401 — the server thinks you’re not authenticated. This happens when you don’t send the right credentials to access an API.\n",
    "* 400 — the server thinks you made a bad request. This can happen when you don’t send along the right data, among other things.\n",
    "* 403 — the resource you’re trying to access is forbidden — you don’t have the right permissions to see it.\n",
    "* 404 — the resource you tried to access wasn’t found on the server."
   ]
  },
  {
   "cell_type": "markdown",
   "metadata": {
    "heading_collapsed": true,
    "hidden": true
   },
   "source": [
    "### Hitting the right endpoint"
   ]
  },
  {
   "cell_type": "markdown",
   "metadata": {
    "hidden": true
   },
   "source": [
    "Let's look at another API.\n",
    "\n",
    "We’ll now make a GET request to the weather API [7timer](https://7timer.info):"
   ]
  },
  {
   "cell_type": "code",
   "execution_count": null,
   "metadata": {},
   "outputs": [],
   "source": [
    "weather_url = 'http://www.7timer.info/bin/api.pl'\n",
    "response = requests.get(weather_url)\n",
    "response.status_code"
   ]
  },
  {
   "cell_type": "markdown",
   "metadata": {},
   "source": [
    "Have we made a genuinely successful API call here?"
   ]
  },
  {
   "cell_type": "markdown",
   "metadata": {
    "hidden": true
   },
   "source": [
    "We can look at `content` to see if all is well."
   ]
  },
  {
   "cell_type": "code",
   "execution_count": null,
   "metadata": {},
   "outputs": [],
   "source": [
    "response.content"
   ]
  },
  {
   "cell_type": "markdown",
   "metadata": {
    "hidden": true
   },
   "source": [
    "We're told here that we need to specify extra parameters. (Other APIs won't even return a 200 code when parameters are missing.)"
   ]
  },
  {
   "cell_type": "markdown",
   "metadata": {
    "heading_collapsed": true,
    "hidden": true
   },
   "source": [
    "## Query Parameters"
   ]
  },
  {
   "cell_type": "markdown",
   "metadata": {
    "hidden": true
   },
   "source": [
    "If you look at the [documentation](http://www.7timer.info/doc.php?lang=en), we see that the 7Timer endpoint requires four parameters.\n",
    "\n",
    "We can do this by adding an optional keyword argument, params, to our request. In this case, there are four parameters we need to pass:\n",
    "\n",
    "* lon — The longitude of the location we want.\n",
    "* lat — The latitude of the location we want.\n",
    "* product - The type of weather report we want\n",
    "* output - The type of output we'd like to receive.\n",
    "\n",
    "We can make a dictionary with these parameters, and then pass them into the `requests.get()` method. We’ll make a request using the coordinates of New York City, and see what response we get.\n",
    "\n",
    "We can also add the query parameters to the url, like this: http://www.7timer.info/bin/api.pl?lon=-122.3&lat=47.6&product=astro&output=json. However, it’s almost always preferable to pass the parameters as a dictionary, because `requests` takes care of some potential issues, like properly formatting the query parameters."
   ]
  },
  {
   "cell_type": "markdown",
   "metadata": {
    "hidden": true
   },
   "source": [
    "We'll add parameters to the get method in the form of a dictionary with four keys, lat, long, product, and output."
   ]
  },
  {
   "cell_type": "code",
   "execution_count": null,
   "metadata": {
    "hidden": true
   },
   "outputs": [],
   "source": [
    "# Our code here\n",
    "\n",
    "response = requests.get(weather_url,\n",
    "            params={'lat': 47.6, 'lon': -122.3,\n",
    "                   'product': 'astro', 'output': 'json'})\n",
    "\n",
    "# Print the content of the response (the data the server returned)\n",
    "\n",
    "print(response.text)\n",
    "\n",
    "# This gets the same data as the command above:\n",
    "# requests.get(\" http://www.7timer.info/bin/api.pl?lon=-122.3&lat=47.6&product=astro&output=json.\")"
   ]
  },
  {
   "cell_type": "markdown",
   "metadata": {
    "heading_collapsed": true
   },
   "source": [
    "# Secure APIs: Generating Access Tokens"
   ]
  },
  {
   "cell_type": "markdown",
   "metadata": {
    "hidden": true
   },
   "source": [
    "Many APIs have security measures to make sure their APIs aren't abused. Let's show you how to generate an access token so you can use such secure APIs.\n",
    "\n",
    "Point your browser over to this [yelp page](https://www.yelp.com/developers/v3/manage_app) and start creating an app in order to obtain an api access token:"
   ]
  },
  {
   "cell_type": "markdown",
   "metadata": {
    "hidden": true
   },
   "source": [
    "\n",
    "![](./images/yelp_app.png)"
   ]
  },
  {
   "cell_type": "markdown",
   "metadata": {
    "hidden": true
   },
   "source": [
    "You can either sign in to an existing Yelp account, or create a new one, if needed.\n",
    "\n",
    "On the page you see above, simply fill out some sample information such as \"Flatiron Edu API Example\" for the app name, or whatever floats your boat. Afterwards, you should be presented with an API key that you can use to make requests.\n",
    "\n",
    "With that, it's time to start making some API calls!"
   ]
  },
  {
   "cell_type": "markdown",
   "metadata": {
    "heading_collapsed": true,
    "hidden": true
   },
   "source": [
    "## An Example Request with OAuth "
   ]
  },
  {
   "cell_type": "markdown",
   "metadata": {
    "hidden": true
   },
   "source": [
    "[OAuth](https://en.wikipedia.org/wiki/OAuth) is a common standard used by companies to provide API access. \"Auth\" refers to two processes:\n",
    "\n",
    "* Authentication: Verifying your identity\n",
    "* Authorization: Giving you access to a resource"
   ]
  },
  {
   "cell_type": "markdown",
   "metadata": {
    "heading_collapsed": true,
    "hidden": true
   },
   "source": [
    "## Storing your API Key Securely"
   ]
  },
  {
   "cell_type": "markdown",
   "metadata": {
    "hidden": true
   },
   "source": [
    "Handling your security credentials properly will avoid accidentally exposing them to people who might use them for malicious purposes. While you probably can't get in too much trouble with Yelp, it's a good practice to develop. It becomes especially tricky and important when using public Git repositories. Here are the steps we recommend: \n",
    "\n",
    "1. Create a hidden `.secrets` folder in your repository\n",
    "2. Put your credentials in a file in the `.secrets` folder\n",
    "3. Add the `.secrets/` folder to the `.gitignore` file"
   ]
  },
  {
   "cell_type": "markdown",
   "metadata": {
    "heading_collapsed": true,
    "hidden": true
   },
   "source": [
    "### Step 1 - Create a hidden `.secrets` folder in your repository"
   ]
  },
  {
   "cell_type": "markdown",
   "metadata": {
    "hidden": true
   },
   "source": [
    "> We'll need to create this folder `.secrets`. Note this will create a hidden folder. Also note that we're using this name but it really could be whatever you want it to be as long as you're consistent"
   ]
  },
  {
   "cell_type": "markdown",
   "metadata": {
    "hidden": true
   },
   "source": [
    "You can run this in the terminal (assuming we're in the repo folder)\n",
    "\n",
    "```bash\n",
    "mkdir .secrets\n",
    "```"
   ]
  },
  {
   "cell_type": "code",
   "execution_count": null,
   "metadata": {
    "hidden": true
   },
   "outputs": [],
   "source": [
    "# Let's check we're in the right place\n",
    "!pwd"
   ]
  },
  {
   "cell_type": "code",
   "execution_count": null,
   "metadata": {
    "hidden": true
   },
   "outputs": [],
   "source": [
    "# Now we check if the directory is already made\n",
    "!ls -a"
   ]
  },
  {
   "cell_type": "code",
   "execution_count": null,
   "metadata": {
    "hidden": true
   },
   "outputs": [],
   "source": [
    "# Finally we can make the directory\n",
    "!mkdir .secrets"
   ]
  },
  {
   "cell_type": "code",
   "execution_count": null,
   "metadata": {
    "hidden": true
   },
   "outputs": [],
   "source": [
    "# And we check if the directory is made\n",
    "!ls -a"
   ]
  },
  {
   "cell_type": "markdown",
   "metadata": {
    "heading_collapsed": true,
    "hidden": true
   },
   "source": [
    "### Step 2 - Put your credentials in a file in the `.secrets` folder"
   ]
  },
  {
   "cell_type": "markdown",
   "metadata": {
    "hidden": true
   },
   "source": [
    "> Next we need to create the credentials file and move it into the `.secrets/` folder. It's easiest to do this with the command line (since the folder is hidden)"
   ]
  },
  {
   "cell_type": "markdown",
   "metadata": {
    "hidden": true
   },
   "source": [
    "To create the file, we can simply create a new file using an editor or even Jupyter Notebook."
   ]
  },
  {
   "cell_type": "markdown",
   "metadata": {
    "hidden": true
   },
   "source": [
    "We can also create this with the command line:\n",
    "\n",
    "```shell\n",
    "echo '{ \"id\": \"<ID>\", \"key\": \"<KEY>\" }' > creds.json\n",
    "```\n",
    "\n",
    "Where `<ID>` and  `<KEY>` are the Client ID and API Key respectively. (Note the the values need quotations around it)"
   ]
  },
  {
   "cell_type": "code",
   "execution_count": null,
   "metadata": {
    "hidden": true
   },
   "outputs": [],
   "source": [
    "# Uncommment and run this after replacing <ID> and <KEY>\n",
    "# Note this will overwrite any previous file called creds.json\n",
    "#!echo '{ \"id\": \"<ID>\", \"key\": \"<KEY>\" }' > creds.json"
   ]
  },
  {
   "cell_type": "markdown",
   "metadata": {
    "hidden": true
   },
   "source": [
    "To move the file via the command line, it's easiest if you first move the credentials file into the repo's folder first (if it's not already there).\n",
    "\n",
    "Once you do that, you can run this command below."
   ]
  },
  {
   "cell_type": "code",
   "execution_count": null,
   "metadata": {
    "hidden": true
   },
   "outputs": [],
   "source": [
    "# Make sure the .secrets folder and credentials file are there\n",
    "!ls -a"
   ]
  },
  {
   "cell_type": "code",
   "execution_count": null,
   "metadata": {
    "hidden": true
   },
   "outputs": [],
   "source": [
    "# Move the credentials file (creds.json) into the .secrets/ folder\n",
    "# Note you might need to change the name in this command to match the file name\n",
    "!mv creds.json .secrets/"
   ]
  },
  {
   "cell_type": "code",
   "execution_count": null,
   "metadata": {
    "hidden": true
   },
   "outputs": [],
   "source": [
    "# Make sure the credentials file are no longer in the repo folder...\n",
    "!ls -a"
   ]
  },
  {
   "cell_type": "code",
   "execution_count": null,
   "metadata": {
    "hidden": true
   },
   "outputs": [],
   "source": [
    "# .. and the file should now be in .secrets/\n",
    "!ls -a .secrets/"
   ]
  },
  {
   "cell_type": "markdown",
   "metadata": {
    "heading_collapsed": true,
    "hidden": true
   },
   "source": [
    "### Step 3 - Add the `.secrets/` folder to the `.gitignore` file"
   ]
  },
  {
   "cell_type": "markdown",
   "metadata": {
    "hidden": true
   },
   "source": [
    "> We actually already did this in the current `.gitignore`! But it's good to remember to do this with future projects"
   ]
  },
  {
   "cell_type": "code",
   "execution_count": null,
   "metadata": {
    "hidden": true,
    "scrolled": true
   },
   "outputs": [],
   "source": [
    "# View current .gitignore\n",
    "!tail .gitignore"
   ]
  },
  {
   "cell_type": "markdown",
   "metadata": {
    "hidden": true
   },
   "source": [
    "To add that line to the `.gitignore` file, we can open it in an editor (just remember the file is hidden) or just append to the end of the file like so:"
   ]
  },
  {
   "cell_type": "markdown",
   "metadata": {
    "hidden": true
   },
   "source": [
    "```bash\n",
    "echo \".secrets/\" >> .gitignore\n",
    "```"
   ]
  },
  {
   "cell_type": "markdown",
   "metadata": {
    "heading_collapsed": true,
    "hidden": true
   },
   "source": [
    "### Check If It Worked!"
   ]
  },
  {
   "cell_type": "code",
   "execution_count": null,
   "metadata": {
    "hidden": true
   },
   "outputs": [],
   "source": [
    "with open('.secrets/creds.json') as f:\n",
    "    creds = json.load(f)"
   ]
  },
  {
   "cell_type": "code",
   "execution_count": null,
   "metadata": {
    "hidden": true
   },
   "outputs": [],
   "source": [
    "creds"
   ]
  },
  {
   "cell_type": "markdown",
   "metadata": {
    "heading_collapsed": true,
    "hidden": true
   },
   "source": [
    "## Making our Request"
   ]
  },
  {
   "cell_type": "markdown",
   "metadata": {
    "hidden": true
   },
   "source": [
    "[Yelp API Documentation](https://www.yelp.com/developers/documentation/v3/get_started)\n",
    "\n",
    "Let's look at an example request and dissect it into its consituent parts:"
   ]
  },
  {
   "cell_type": "code",
   "execution_count": null,
   "metadata": {
    "hidden": true
   },
   "outputs": [],
   "source": [
    "url = 'https://api.yelp.com/v3/businesses/search'\n",
    "term = 'Hamburgers'\n",
    "SEARCH_LIMIT = 10\n",
    "headers = {\n",
    "    'Authorization': 'Bearer ' + creds['key']\n",
    "}\n",
    "\n",
    "url_params = {\n",
    "    'term': term,\n",
    "    'location': 'Seattle+WA',\n",
    "    'limit': SEARCH_LIMIT,\n",
    "    'offset': 0\n",
    "}\n",
    "response = requests.get(url, headers=headers, params=url_params)\n",
    "print(response.status_code)"
   ]
  },
  {
   "cell_type": "markdown",
   "metadata": {
    "heading_collapsed": true,
    "hidden": true
   },
   "source": [
    "## Breaking Down the Request"
   ]
  },
  {
   "cell_type": "markdown",
   "metadata": {
    "hidden": true
   },
   "source": [
    "As you can see, there are three main parts to our request.  \n",
    "  \n",
    "They are:\n",
    "* The URL\n",
    "* The header\n",
    "* The parameters\n",
    "  \n",
    "The URL is found in the documentation (`https://api.yelp.com/v3`) and we are using the Business Search endpoint (`/businesses/search`).\n",
    "\n",
    "The header is required by the Yelp API for authorization. It has a strict form where 'Authorization' is the key and 'Bearer YourApiKey' is the value. We make a `header` dictionary to pass into our `.get()` method.\n",
    "\n",
    "The parameters contain information we pass into the query to get the data we want. Valid key parameters by which to structure your queries, are described in the [Yelp API Documentation](https://www.yelp.com/developers/documentation/v3/get_started). We make a `url_params` dictionary to pass into our `.get()` method, which then adds the query parameters to the URL.\n",
    "\n",
    "**Important note re: parameters**: We need to replace spaces with \"+\" - this is a common API requirement because URLs cannot contain spaces. (Note that the header itself isn't directly added into the URL itself and as such, the space between 'Bearer' and YourApiKey is fine.)"
   ]
  },
  {
   "cell_type": "markdown",
   "metadata": {
    "heading_collapsed": true,
    "hidden": true
   },
   "source": [
    "## The Response"
   ]
  },
  {
   "cell_type": "markdown",
   "metadata": {
    "hidden": true
   },
   "source": [
    "As before, our response object has both a status code, as well as the data itself. With that, let's start with a little data exploration!"
   ]
  },
  {
   "cell_type": "code",
   "execution_count": null,
   "metadata": {
    "hidden": true
   },
   "outputs": [],
   "source": [
    "response.json()"
   ]
  },
  {
   "cell_type": "code",
   "execution_count": null,
   "metadata": {
    "hidden": true
   },
   "outputs": [],
   "source": [
    "## Your code here\n"
   ]
  },
  {
   "cell_type": "markdown",
   "metadata": {
    "hidden": true
   },
   "source": [
    "**Activity**: Make a DataFrame `yelp_df` with the business data from the Yelp response.\n",
    "<details>\n",
    "    <summary>\n",
    "        Answer code\n",
    "    </summary>\n",
    "\n",
    "```python\n",
    "yelp_data = response.json()\n",
    "yelp_df = pd.DataFrame(yelp_data['businesses'])\n",
    "```\n",
    "</details>"
   ]
  },
  {
   "cell_type": "code",
   "execution_count": null,
   "metadata": {
    "hidden": true
   },
   "outputs": [],
   "source": [
    "yelp_df.head()"
   ]
  },
  {
   "cell_type": "code",
   "execution_count": null,
   "metadata": {
    "hidden": true
   },
   "outputs": [],
   "source": [
    "## Your code here\n"
   ]
  },
  {
   "cell_type": "markdown",
   "metadata": {
    "hidden": true
   },
   "source": [
    "**Activity**: Add columns to `yelp_df` containing the latitudes and longitudes.\n",
    "\n",
    "\n",
    "<details>\n",
    "    <summary>\n",
    "        Answer code\n",
    "    </summary>\n",
    "\n",
    "```python\n",
    "lat = [float(business['coordinates']['latitude']) for business in yelp_data['businesses']]\n",
    "long = [float(business['coordinates']['longitude']) for  business in yelp_data['businesses']]\n",
    "yelp_df['lat'] = lat\n",
    "yelp_df['long'] = long\n",
    "```\n",
    "</details>"
   ]
  },
  {
   "cell_type": "code",
   "execution_count": null,
   "metadata": {
    "hidden": true
   },
   "outputs": [],
   "source": [
    "yelp_df.head()"
   ]
  }
 ],
 "metadata": {
  "kernelspec": {
   "display_name": "Python (learn-env)",
   "language": "python",
   "name": "learn-env"
  },
  "language_info": {
   "codemirror_mode": {
    "name": "ipython",
    "version": 3
   },
   "file_extension": ".py",
   "mimetype": "text/x-python",
   "name": "python",
   "nbconvert_exporter": "python",
   "pygments_lexer": "ipython3",
   "version": "3.8.5"
  },
  "toc": {
   "base_numbering": 1,
   "nav_menu": {},
   "number_sections": true,
   "sideBar": true,
   "skip_h1_title": false,
   "title_cell": "Table of Contents",
   "title_sidebar": "Contents",
   "toc_cell": true,
   "toc_position": {
    "height": "calc(100% - 180px)",
    "left": "10px",
    "top": "150px",
    "width": "384px"
   },
   "toc_section_display": true,
   "toc_window_display": true
  }
 },
 "nbformat": 4,
 "nbformat_minor": 4
}
