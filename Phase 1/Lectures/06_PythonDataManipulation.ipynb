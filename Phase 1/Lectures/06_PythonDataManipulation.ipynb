{
 "cells": [
  {
   "cell_type": "markdown",
   "metadata": {
    "toc": true
   },
   "source": [
    "# Data Manipulation in Python"
   ]
  },
  {
   "cell_type": "markdown",
   "metadata": {
    "heading_collapsed": true
   },
   "source": [
    "## Objectives"
   ]
  },
  {
   "cell_type": "markdown",
   "metadata": {
    "hidden": true
   },
   "source": [
    "- Extract data from nested data structures\n",
    "- Write functions to transform data\n",
    "- Construct list and dictionary comprehensions"
   ]
  },
  {
   "cell_type": "markdown",
   "metadata": {},
   "source": [
    "## First - Let's Review\n",
    "\n",
    "Let's practice different forms of python data manipulation... with bento boxes!\n",
    "\n",
    "<img src='https://cdn.shopify.com/s/files/1/1610/3863/articles/What_is_Shokado_Bento_Box_a_Classic-Style_Bento_Box_Originated_from_Japanese_Kaiseki_Cuisine_1_1600x.jpg' alt='bento box image, image source: https://www.globalkitchenjapan.com/blogs/articles/would-you-like-to-have-one-for-special-occasions' width=600>"
   ]
  },
  {
   "cell_type": "markdown",
   "metadata": {},
   "source": [
    "## Python Lists"
   ]
  },
  {
   "cell_type": "markdown",
   "metadata": {
    "hidden": true
   },
   "source": [
    "### List Methods\n",
    "\n",
    "Here are a few common list methods:\n",
    "\n",
    "- `.append()`: adds the input element to the end of a list\n",
    "- `.pop()`: removes and returns the element with input index from the list\n",
    "- `.extend()`: adds the elements in the input iterable to the end of a list\n",
    "- `.index()`: returns the first place in a list where the argument is found\n",
    "- `.remove()`: removes element by value\n",
    "- `.count()`: returns the number of occurrences of the input element in a list\n",
    "\n",
    "Let's practice with a few!"
   ]
  },
  {
   "cell_type": "markdown",
   "metadata": {},
   "source": [
    "### Create our Bento Box!\n",
    "\n",
    "Let's make a list, called `bento`, that captures some ingredients we'd like to see in our bento box lunch.\n",
    "\n",
    "Some common ingredients for bento boxes include: chicken, fish, katsu curry, tofu, gyoza, edamame, salad, pickled cucumbers, boiled egg, broccoli, rice, udon noodles, yakisoba ... and these are just in more traditional bento boxes! The best part about a bento is that you can combine any lunch ingredients you like.\n",
    "\n",
    "Pick 5 things you'd like in your bento, and put those in your `bento` list."
   ]
  },
  {
   "cell_type": "code",
   "execution_count": 1,
   "metadata": {},
   "outputs": [],
   "source": [
    "# Create your bento list\n",
    "bento = ['salmon', 'rice', 'edamame', 'seaweed salad', 'dumplings']"
   ]
  },
  {
   "cell_type": "markdown",
   "metadata": {},
   "source": [
    "Lists are ordered, meaning you can access the index number for an element:"
   ]
  },
  {
   "cell_type": "code",
   "execution_count": 2,
   "metadata": {},
   "outputs": [],
   "source": [
    "type(bento)"
   ]
  },
  {
   "cell_type": "code",
   "execution_count": 3,
   "metadata": {},
   "outputs": [],
   "source": [
    "len(bento)"
   ]
  },
  {
   "cell_type": "code",
   "execution_count": 4,
   "metadata": {
    "scrolled": true
   },
   "outputs": [],
   "source": [
    "# Run this cell without changes\n",
    "bento[4]"
   ]
  },
  {
   "cell_type": "code",
   "execution_count": 5,
   "metadata": {},
   "outputs": [],
   "source": [
    "# Try to get the last entry\n",
    "bento[-2]"
   ]
  },
  {
   "cell_type": "code",
   "execution_count": 6,
   "metadata": {},
   "outputs": [
    {
     "ename": "IndexError",
     "evalue": "list index out of range",
     "output_type": "error",
     "traceback": [
      "\u001b[0;31m---------------------------------------------------------------------------\u001b[0m",
      "\u001b[0;31mIndexError\u001b[0m                                Traceback (most recent call last)",
      "\u001b[0;32m<ipython-input-6-854402b7a98c>\u001b[0m in \u001b[0;36m<module>\u001b[0;34m\u001b[0m\n\u001b[0;32m----> 1\u001b[0;31m \u001b[0mbento\u001b[0m\u001b[0;34m[\u001b[0m\u001b[0;36m5\u001b[0m\u001b[0;34m]\u001b[0m\u001b[0;34m\u001b[0m\u001b[0;34m\u001b[0m\u001b[0m\n\u001b[0m",
      "\u001b[0;31mIndexError\u001b[0m: list index out of range"
     ]
    }
   ],
   "source": [
    "bento[5]"
   ]
  },
  {
   "cell_type": "markdown",
   "metadata": {},
   "source": [
    "Or you can grab ranges/slices of a list:"
   ]
  },
  {
   "cell_type": "code",
   "execution_count": null,
   "metadata": {},
   "outputs": [],
   "source": [
    "# Run this cell without changes\n",
    "# Play around with these numbers, and start to build some understanding of \n",
    "# which elements are where exactly in the list\n",
    "bento[2:]"
   ]
  },
  {
   "cell_type": "code",
   "execution_count": null,
   "metadata": {
    "scrolled": true
   },
   "outputs": [],
   "source": [
    "bento"
   ]
  },
  {
   "cell_type": "code",
   "execution_count": null,
   "metadata": {},
   "outputs": [],
   "source": [
    "bento[:3]"
   ]
  },
  {
   "cell_type": "markdown",
   "metadata": {},
   "source": [
    "Add items to a list with `.append()` - add something else you like to your bento!"
   ]
  },
  {
   "cell_type": "code",
   "execution_count": null,
   "metadata": {},
   "outputs": [],
   "source": [
    "# Code here to add to your list\n",
    "bento.append('kimchi')"
   ]
  },
  {
   "cell_type": "code",
   "execution_count": null,
   "metadata": {},
   "outputs": [],
   "source": [
    "bento"
   ]
  },
  {
   "cell_type": "markdown",
   "metadata": {},
   "source": [
    "If you don't want to keep that last item, you can use `.pop()` to remove it."
   ]
  },
  {
   "cell_type": "code",
   "execution_count": null,
   "metadata": {},
   "outputs": [],
   "source": [
    "# Code here to test that out\n",
    "bento.pop()"
   ]
  },
  {
   "cell_type": "code",
   "execution_count": null,
   "metadata": {},
   "outputs": [],
   "source": [
    "# Now check what your list looks like - is that last item still there?\n",
    "bento"
   ]
  },
  {
   "cell_type": "code",
   "execution_count": null,
   "metadata": {},
   "outputs": [],
   "source": [
    "bento.remove('kimchi')"
   ]
  },
  {
   "cell_type": "code",
   "execution_count": null,
   "metadata": {},
   "outputs": [],
   "source": [
    "bento"
   ]
  },
  {
   "cell_type": "markdown",
   "metadata": {},
   "source": [
    "Now, let's put our bento box in a readable format using `join`:"
   ]
  },
  {
   "cell_type": "code",
   "execution_count": null,
   "metadata": {},
   "outputs": [],
   "source": [
    "bento[:-1]"
   ]
  },
  {
   "cell_type": "code",
   "execution_count": null,
   "metadata": {},
   "outputs": [],
   "source": [
    "# Pay attention to what the .join is doing\n",
    "print(\"I'd like my bento to contain: \" + \", \".join(bento[:-1]) + \", and \" + bento[-1])"
   ]
  },
  {
   "cell_type": "markdown",
   "metadata": {},
   "source": [
    "**Neat trick!** F-strings allow you to easily format strings to add variables or elements from an iterable (like a list). You can also use `.format()` in a similar way."
   ]
  },
  {
   "cell_type": "code",
   "execution_count": null,
   "metadata": {},
   "outputs": [],
   "source": [
    "# F-string formatting easier!\n",
    "print(f\"My bento box will include: {', '.join(bento[:-1])}, and {bento[1]}.\")"
   ]
  },
  {
   "cell_type": "code",
   "execution_count": null,
   "metadata": {},
   "outputs": [],
   "source": [
    "print(f\"My bento box will include: {bento[0]} and {bento[1]}.\")"
   ]
  },
  {
   "cell_type": "code",
   "execution_count": null,
   "metadata": {},
   "outputs": [],
   "source": [
    "# The above cell is the same as:\n",
    "print(\"My bento box will include: {} and {}.\".format(bento[0], bento[1]))"
   ]
  },
  {
   "cell_type": "markdown",
   "metadata": {},
   "source": [
    "**Think about it:** How is the f-string/`format` working differently from the `join` we did before?\n",
    "\n",
    "- If we use string formatting we don't need to add seperate strings together \n"
   ]
  },
  {
   "cell_type": "markdown",
   "metadata": {},
   "source": [
    "## For Loops"
   ]
  },
  {
   "cell_type": "markdown",
   "metadata": {},
   "source": [
    "Now let's say we want to capitalize each ingredient in our bento box. How could we do this without editing each one individually?\n",
    "\n",
    "Well - to go over an iterable, like a list, we can use for loops!"
   ]
  },
  {
   "cell_type": "code",
   "execution_count": null,
   "metadata": {},
   "outputs": [],
   "source": [
    "text_str = 'some string here'\n",
    "text_str.title()"
   ]
  },
  {
   "cell_type": "code",
   "execution_count": null,
   "metadata": {
    "scrolled": false
   },
   "outputs": [],
   "source": [
    "# Write a for loop to capitalize each ingredient in our bento list\n",
    "# for x in interable:\n",
    "#     f(X)\n",
    "for item in bento:\n",
    "    print(item.title())"
   ]
  },
  {
   "cell_type": "code",
   "execution_count": null,
   "metadata": {},
   "outputs": [],
   "source": [
    "bento.title()"
   ]
  },
  {
   "cell_type": "code",
   "execution_count": null,
   "metadata": {},
   "outputs": [],
   "source": [
    "item"
   ]
  },
  {
   "cell_type": "code",
   "execution_count": null,
   "metadata": {},
   "outputs": [],
   "source": [
    "bento"
   ]
  },
  {
   "cell_type": "markdown",
   "metadata": {},
   "source": [
    "We can add conditionals to our loops as well! Let's create a new list, called `s_bento`, that contains only ingredients that have the letter `s` in them.\n",
    "\n",
    "(don't have any ingredients with `s`? feel free to use another letter!)"
   ]
  },
  {
   "cell_type": "code",
   "execution_count": null,
   "metadata": {},
   "outputs": [],
   "source": [
    "# Write your for loop with a conditional\n",
    "\n",
    "# Need to first define an empty list to become our new list\n",
    "s_bento = [] \n",
    "r_bento = []\n",
    "other_bento = []\n",
    "# Now our loop\n",
    "for ingredient in bento:\n",
    "    if 's' in ingredient:\n",
    "        s_bento.append(ingredient)\n",
    "    if 'r' in ingredient:\n",
    "        r_bento.append(ingredient)\n",
    "    else:\n",
    "        other_bento.append(ingredient)"
   ]
  },
  {
   "cell_type": "code",
   "execution_count": null,
   "metadata": {},
   "outputs": [],
   "source": [
    "# Check your work\n",
    "s_bento"
   ]
  },
  {
   "cell_type": "code",
   "execution_count": null,
   "metadata": {},
   "outputs": [],
   "source": [
    "r_bento"
   ]
  },
  {
   "cell_type": "code",
   "execution_count": null,
   "metadata": {},
   "outputs": [],
   "source": [
    "other_bento"
   ]
  },
  {
   "cell_type": "markdown",
   "metadata": {},
   "source": [
    "### List Comprehension\n",
    "\n",
    "**Neat trick!** You can write one-line for loops!\n",
    "\n",
    "List comprehensions are especially useful if you'd like to loop over something and output a new list - just like we did above!\n",
    "\n",
    "The syntax is: `[f(x) for x in <iterable> if <condition>]`"
   ]
  },
  {
   "cell_type": "code",
   "execution_count": null,
   "metadata": {},
   "outputs": [],
   "source": [
    "# Change our loop to a list comprehension\n",
    "s_bento = [ingredient for ingredient in bento if 's' in ingredient]\n",
    "s_bento"
   ]
  },
  {
   "cell_type": "code",
   "execution_count": null,
   "metadata": {},
   "outputs": [],
   "source": [
    "# We could do the same with our earlier capitalization, too!\n",
    "[ingredient.title() for ingredient in bento]"
   ]
  },
  {
   "cell_type": "markdown",
   "metadata": {},
   "source": [
    "Do you _need_ to use list comprehension for this? Nope! But list comprehensions are more efficient: The syntax is simpler, and they're also faster. Also, you'll see them in other people's code, so you'll have to know how to work with them!"
   ]
  },
  {
   "cell_type": "markdown",
   "metadata": {},
   "source": [
    "## Python Dictionaries"
   ]
  },
  {
   "cell_type": "markdown",
   "metadata": {},
   "source": [
    "<img src='https://images.pexels.com/photos/270233/pexels-photo-270233.jpeg?auto=compress&cs=tinysrgb&dpr=2&w=500' alt='picture of a dictionary page' width=600>\n",
    "\n",
    "No, not that kind! \n",
    "\n",
    "With your list above, someone would need to tell you that \"rice\" is the main and \"salmon\" is the protein. \n",
    "\n",
    "Dictionaries let you assign **key** and **value** pairs, which connects a key like \"main\" to a value like \"rice\". Rather than using **indexing**, you use **keys** to return values."
   ]
  },
  {
   "cell_type": "markdown",
   "metadata": {
    "heading_collapsed": true,
    "hidden": true
   },
   "source": [
    "## Dictionary Methods"
   ]
  },
  {
   "cell_type": "markdown",
   "metadata": {
    "hidden": true
   },
   "source": [
    "Make sure you're comfortable with the following dictionary methods:\n",
    "\n",
    "- `.keys()`: returns an array of the dictionary's keys\n",
    "- `.values()`: returns an array of the dictionary's values\n",
    "- `.items()`: returns an array of key-value tuples\n",
    "- `.get()`: returns value of a specific key - better than dict['key']"
   ]
  },
  {
   "cell_type": "markdown",
   "metadata": {},
   "source": [
    "Update your bento box to be a dictionary, called `bento_dict`. There are multiple ways to do this, but let's showcase how you can use your list and a new list of keys to zip your bento box together."
   ]
  },
  {
   "cell_type": "code",
   "execution_count": null,
   "metadata": {},
   "outputs": [],
   "source": [
    "new_dict = {'key': 'value', 'key2': 'value2'}"
   ]
  },
  {
   "cell_type": "code",
   "execution_count": null,
   "metadata": {
    "scrolled": true
   },
   "outputs": [],
   "source": [
    "# Here's an example of zipping two lists together to form a dictionary\n",
    "example_bento_keys = [\"ingredient1\", \"ingredient2\", \"ingredient3\"]\n",
    "example_bento_values = [\"rice\", \"tempura\", \"miso soup\"]\n",
    "\n",
    "example_bento_dict = dict(zip(example_bento_keys, example_bento_values))\n",
    "\n",
    "print(example_bento_dict)\n",
    "print(type(example_bento_dict))"
   ]
  },
  {
   "cell_type": "code",
   "execution_count": null,
   "metadata": {},
   "outputs": [],
   "source": [
    "# Now let's do that! What does our current list look like?\n",
    "bento"
   ]
  },
  {
   "cell_type": "code",
   "execution_count": null,
   "metadata": {},
   "outputs": [],
   "source": [
    "# Let's define keys for our bento\n",
    "bento_keys = ['protein', 'main', 'vegetable1', 'vegetable2', 'side']"
   ]
  },
  {
   "cell_type": "code",
   "execution_count": null,
   "metadata": {},
   "outputs": [],
   "source": [
    "# Now create your bento_dict!\n",
    "bento_dict = dict(zip(bento_keys, bento))"
   ]
  },
  {
   "cell_type": "code",
   "execution_count": null,
   "metadata": {},
   "outputs": [],
   "source": [
    "# Code here to check your work - check type, and print your dictionary\n",
    "print(type(bento_dict))\n",
    "\n",
    "print(bento_dict)"
   ]
  },
  {
   "cell_type": "markdown",
   "metadata": {},
   "source": [
    "You use the key of the dictionary to access its value, for example `bento_box['main']` "
   ]
  },
  {
   "cell_type": "code",
   "execution_count": null,
   "metadata": {
    "scrolled": true
   },
   "outputs": [],
   "source": [
    "bento_dict['protein']"
   ]
  },
  {
   "cell_type": "code",
   "execution_count": null,
   "metadata": {},
   "outputs": [],
   "source": [
    "bento_dict[0]"
   ]
  },
  {
   "cell_type": "code",
   "execution_count": null,
   "metadata": {},
   "outputs": [],
   "source": [
    "dict1 = {'key1': 20, 'key2': 30}"
   ]
  },
  {
   "cell_type": "code",
   "execution_count": null,
   "metadata": {
    "scrolled": true
   },
   "outputs": [],
   "source": [
    "bracket_way = dict1['key3']\n",
    "type(bracket_way)"
   ]
  },
  {
   "cell_type": "code",
   "execution_count": null,
   "metadata": {
    "scrolled": true
   },
   "outputs": [],
   "source": [
    "# Potentially better way because it returns None rather than an error\n",
    "#bracket_way = dict1['key3']\n",
    "get_way = dict1.get('key3')\n",
    "type(get_way)"
   ]
  },
  {
   "cell_type": "code",
   "execution_count": null,
   "metadata": {},
   "outputs": [],
   "source": [
    "get_way"
   ]
  },
  {
   "cell_type": "code",
   "execution_count": null,
   "metadata": {},
   "outputs": [],
   "source": [
    "bracket_way"
   ]
  },
  {
   "cell_type": "markdown",
   "metadata": {},
   "source": [
    "Let's practice more loops - write a loop that prints the ingredient value, if `vegetable` is in the key."
   ]
  },
  {
   "cell_type": "code",
   "execution_count": null,
   "metadata": {},
   "outputs": [],
   "source": [
    "bento_dict.items()"
   ]
  },
  {
   "cell_type": "code",
   "execution_count": null,
   "metadata": {
    "scrolled": true
   },
   "outputs": [],
   "source": [
    "# Write your loop using .items() to unpack key, value pairs\n",
    "for key, value in bento_dict.items():\n",
    "    if 'vegetable' in key:\n",
    "        print(value)"
   ]
  },
  {
   "cell_type": "code",
   "execution_count": null,
   "metadata": {},
   "outputs": [],
   "source": [
    "for x in bento_dict:\n",
    "    print(x, bento_dict[x])"
   ]
  },
  {
   "cell_type": "markdown",
   "metadata": {},
   "source": [
    "Now let's make a new dictionary, `veggie_dict`, that contains the number of the vegetable as the key and the capitalized ingredient as the value."
   ]
  },
  {
   "cell_type": "code",
   "execution_count": null,
   "metadata": {},
   "outputs": [],
   "source": [
    "# Need to first define an empty dictionary to become our new dict\n",
    "veggie_dict = {}\n",
    "\n",
    "for key, value in bento_dict.items():\n",
    "    if 'vegetable' in key:\n",
    "        number = key[-1]\n",
    "        veggie_dict[number] = value.title()"
   ]
  },
  {
   "cell_type": "code",
   "execution_count": null,
   "metadata": {},
   "outputs": [],
   "source": [
    "# Check your work!\n",
    "veggie_dict"
   ]
  },
  {
   "cell_type": "markdown",
   "metadata": {},
   "source": [
    "### Dictionary Comprehension\n",
    "\n",
    "Guess what! Just like there's list comprehension to write one-line for loops to output a list, there's the same for dictionaries! This can allow you to take one dictionary and transform it into another.\n",
    "\n",
    "The syntax is: `{f(key):f(value) for (key,value) in <dictonary>.items() if <condition>}`\n"
   ]
  },
  {
   "cell_type": "code",
   "execution_count": null,
   "metadata": {
    "scrolled": true
   },
   "outputs": [],
   "source": [
    "# Change our loop to a dictionary comprehension\n",
    "\n",
    "{k[-1]: v.title() for k, v in bento_dict.items() if 'vegetable' in k}"
   ]
  },
  {
   "cell_type": "code",
   "execution_count": null,
   "metadata": {},
   "outputs": [],
   "source": [
    "bento_dict.values()"
   ]
  },
  {
   "cell_type": "code",
   "execution_count": null,
   "metadata": {},
   "outputs": [],
   "source": [
    "# You can get creative with it too!\n",
    "{f\"Ingredient {x+1}\": list(bento_dict.values())[x] for x in range(len((bento_dict.values())))}"
   ]
  },
  {
   "cell_type": "markdown",
   "metadata": {},
   "source": [
    "## Nesting\n",
    "\n",
    "![Dictionaries inside dictionaries](https://i.imgflip.com/3orgly.jpg)\n",
    "\n",
    "Let's say we want to combine EVERYONE'S bento dictionaries - we can nest those dictonaries as a dictionary of dictionaries! That way, the key can be the person's name, and the value can be the dictionary that contains their bento box order.\n",
    " \n",
    "Grab at least two other orders and create a dictionary of dictionaries, where the key is the name of the person ordering and the value is their bento dictionary:"
   ]
  },
  {
   "cell_type": "code",
   "execution_count": null,
   "metadata": {},
   "outputs": [],
   "source": [
    "# Can go ahead and paste at least two other dictionaries\n",
    "james_bento = {\n",
    "    'main': 'cheeseburger',\n",
    "    'cheese': 'pepper jack',\n",
    "    'side': 'french fries',\n",
    "    'vegetable1': 'pickles',\n",
    "    'vegetable2': 'onions',\n",
    "    'drink': 'milkshake'}\n",
    "\n",
    "hannah_bento = {\n",
    "    \"main\": \"salad\",\n",
    "    \"protein\": \"tempura shrimp\",\n",
    "    \"vegetable1\": \"radishes\",\n",
    "    \"vegetable2\": \"cucumbers\",\n",
    "    \"side\": \"tuna roll\"}"
   ]
  },
  {
   "cell_type": "code",
   "execution_count": null,
   "metadata": {},
   "outputs": [],
   "source": [
    "# Code here to create your nested dictionaries\n",
    "group_dict = {'Daniel': bento_dict, 'James': james_bento, 'Hannah': hannah_bento}"
   ]
  },
  {
   "cell_type": "code",
   "execution_count": null,
   "metadata": {
    "scrolled": true
   },
   "outputs": [],
   "source": [
    "# Check your work\n",
    "group_dict"
   ]
  },
  {
   "cell_type": "code",
   "execution_count": null,
   "metadata": {
    "scrolled": true
   },
   "outputs": [],
   "source": [
    "group_dict.values()"
   ]
  },
  {
   "cell_type": "markdown",
   "metadata": {},
   "source": [
    "Now, if we wanted a list of people who ordered bento boxes, we could grab a list of those names by using `.keys()`"
   ]
  },
  {
   "cell_type": "code",
   "execution_count": null,
   "metadata": {},
   "outputs": [],
   "source": [
    "# Code here to grab a list of who you have orders for\n",
    "group = list(group_dict.keys())\n",
    "group"
   ]
  },
  {
   "cell_type": "code",
   "execution_count": null,
   "metadata": {
    "scrolled": true
   },
   "outputs": [],
   "source": [
    "# Check your work\n",
    "type(group)"
   ]
  },
  {
   "cell_type": "markdown",
   "metadata": {},
   "source": [
    "How would we access one of these `main`s?"
   ]
  },
  {
   "cell_type": "code",
   "execution_count": null,
   "metadata": {
    "scrolled": true
   },
   "outputs": [],
   "source": [
    "# Access one dictionary's main\n",
    "group_dict['James']['main']"
   ]
  },
  {
   "cell_type": "code",
   "execution_count": null,
   "metadata": {},
   "outputs": [],
   "source": [
    "group_dict.get('James').get('main')"
   ]
  },
  {
   "cell_type": "markdown",
   "metadata": {},
   "source": [
    "Now let's write a loop to print the main ingredient in everyone's bento order. \n",
    "\n",
    "(This is easier if everyone named an ingredient `main` in their dictionary...)"
   ]
  },
  {
   "cell_type": "code",
   "execution_count": null,
   "metadata": {},
   "outputs": [],
   "source": [
    "list(group_dict.values())[0]"
   ]
  },
  {
   "cell_type": "code",
   "execution_count": null,
   "metadata": {},
   "outputs": [],
   "source": [
    "# Code here to write a for loop that prints each main\n",
    "# Think about what we are looping through and if you need .items()\n",
    "for order in group_dict.values():\n",
    "    print(order['main'])"
   ]
  },
  {
   "cell_type": "markdown",
   "metadata": {},
   "source": [
    "Just as we can put lists and dictionaries inside of other lists and dictionaries, we can also put comprehensions inside of other comprehensions!"
   ]
  },
  {
   "cell_type": "code",
   "execution_count": null,
   "metadata": {
    "scrolled": true
   },
   "outputs": [],
   "source": [
    "# An example of nested comprehensions\n",
    "{f\"{name}'s vegetables\": [v for k, v in order.items() if 'vegetable' in k]\n",
    " for name, order in group_dict.items()}"
   ]
  },
  {
   "cell_type": "code",
   "execution_count": null,
   "metadata": {},
   "outputs": [],
   "source": [
    "# But remember ... it's okay to easier to write this out as a for loop\n",
    "# THEN you can condense into a comprehension more easily!\n",
    "\n",
    "group_veggie_dict = {}\n",
    "\n",
    "for name, order in group_dict.items():\n",
    "    ingredient_list = []    \n",
    "    for key, ingredient in order.items():        \n",
    "        if 'vegetable' in key:\n",
    "            ingredient_list.append(ingredient)\n",
    "    group_veggie_dict[f\"{name}'s vegetables\"] = ingredient_list\n",
    "    \n",
    "# Check it\n",
    "group_veggie_dict"
   ]
  },
  {
   "cell_type": "markdown",
   "metadata": {},
   "source": [
    "## Functions"
   ]
  },
  {
   "cell_type": "markdown",
   "metadata": {
    "heading_collapsed": true
   },
   "source": [
    "This aspect of Python is _incredibly_ useful! Writing your own functions can save you a TON of work - by _automating_ it."
   ]
  },
  {
   "cell_type": "markdown",
   "metadata": {
    "heading_collapsed": true
   },
   "source": [
    "### Creating Functions"
   ]
  },
  {
   "cell_type": "markdown",
   "metadata": {
    "heading_collapsed": true
   },
   "source": [
    "The first line will read:\n",
    "\n",
    "```python\n",
    "\n",
    "'def function_name():'\n",
    "\n",
    "```\n",
    "\n",
    "Any arguments to the function will go in the parentheses, and you can set default arguments in those parentheses as well."
   ]
  },
  {
   "cell_type": "markdown",
   "metadata": {},
   "source": [
    "Let's write a function that will take in both a nested dictionary of bento orders and the name of an ingredient type, which outputs a tuple with each person's name and the ingredients that match that type!"
   ]
  },
  {
   "cell_type": "code",
   "execution_count": null,
   "metadata": {},
   "outputs": [],
   "source": [
    "def find_ingredients(nested_dict, ingredient_type='main'):\n",
    "    '''\n",
    "    Function that takes in a dictionary, where names are keys and values are\n",
    "    dictionaries of that person's bento order, and then checks which keys in\n",
    "    the bento order dictionary match the provided string. The output is a list\n",
    "    of tuples, with each person's name and a list of matched ingredients.\n",
    "    \n",
    "    Inputs:\n",
    "        nested_dictionary : dictionary\n",
    "        ingredient_type : string (default is 'main')\n",
    "        \n",
    "    Outputs:\n",
    "        output_list : tuple\n",
    "    '''\n",
    "    output_list = []\n",
    "    for name, order in nested_dict.items():\n",
    "        ingredient_list = []\n",
    "        for key, ingredient in order.items():\n",
    "            if ingredient_type in key:\n",
    "                ingredient_list.append(ingredient)\n",
    "        output_list.append((name, ingredient_list))\n",
    "    \n",
    "    \n",
    "    return output_list"
   ]
  },
  {
   "cell_type": "code",
   "execution_count": null,
   "metadata": {},
   "outputs": [],
   "source": [
    "# version that outputs dictionary instead of list\n",
    "def find_ingredients_dict(nested_dict, ingredient_type='main'):\n",
    "    '''\n",
    "    Function that takes in a dictionary, where names are keys and values are\n",
    "    dictionaries of that person's bento order, and then checks which keys in\n",
    "    the bento order dictionary match the provided string. The output is a list\n",
    "    of tuples, with each person's name and a list of matched ingredients.\n",
    "    \n",
    "    Inputs:\n",
    "        nested_dictionary : dictionary\n",
    "        ingredient_type : string (default is 'main')\n",
    "        \n",
    "    Outputs:\n",
    "        output_list : tuple\n",
    "    '''\n",
    "    output_dict = {}\n",
    "    for name, order in nested_dict.items():\n",
    "        ingredient_list = []\n",
    "        for key, ingredient in order.items():\n",
    "            if ingredient_type in key:\n",
    "                ingredient_list.append(ingredient)\n",
    "        output_dict[name] = ingredient_list\n",
    "    \n",
    "    \n",
    "    return output_dict"
   ]
  },
  {
   "cell_type": "code",
   "execution_count": null,
   "metadata": {},
   "outputs": [],
   "source": [
    "# Try it!\n",
    "output = find_ingredients_dict(group_dict, 'side')\n",
    "output"
   ]
  },
  {
   "cell_type": "code",
   "execution_count": null,
   "metadata": {},
   "outputs": [],
   "source": [
    "type(output[0])"
   ]
  },
  {
   "cell_type": "code",
   "execution_count": null,
   "metadata": {},
   "outputs": [],
   "source": [
    "find_ingredients_dict(group_dict)"
   ]
  },
  {
   "cell_type": "markdown",
   "metadata": {
    "heading_collapsed": true,
    "hidden": true
   },
   "source": [
    "---\n",
    "\n",
    "# Extra Practice Exercises"
   ]
  },
  {
   "cell_type": "markdown",
   "metadata": {
    "hidden": true
   },
   "source": [
    "1) Use a list comprehension to extract the odd numbers from this set:"
   ]
  },
  {
   "cell_type": "code",
   "execution_count": 8,
   "metadata": {
    "hidden": true
   },
   "outputs": [],
   "source": [
    "nums = set(range(1000))"
   ]
  },
  {
   "cell_type": "code",
   "execution_count": 9,
   "metadata": {},
   "outputs": [
    {
     "data": {
      "text/plain": [
       "[1,\n",
       " 3,\n",
       " 5,\n",
       " 7,\n",
       " 9,\n",
       " 11,\n",
       " 13,\n",
       " 15,\n",
       " 17,\n",
       " 19,\n",
       " 21,\n",
       " 23,\n",
       " 25,\n",
       " 27,\n",
       " 29,\n",
       " 31,\n",
       " 33,\n",
       " 35,\n",
       " 37,\n",
       " 39,\n",
       " 41,\n",
       " 43,\n",
       " 45,\n",
       " 47,\n",
       " 49,\n",
       " 51,\n",
       " 53,\n",
       " 55,\n",
       " 57,\n",
       " 59,\n",
       " 61,\n",
       " 63,\n",
       " 65,\n",
       " 67,\n",
       " 69,\n",
       " 71,\n",
       " 73,\n",
       " 75,\n",
       " 77,\n",
       " 79,\n",
       " 81,\n",
       " 83,\n",
       " 85,\n",
       " 87,\n",
       " 89,\n",
       " 91,\n",
       " 93,\n",
       " 95,\n",
       " 97,\n",
       " 99,\n",
       " 101,\n",
       " 103,\n",
       " 105,\n",
       " 107,\n",
       " 109,\n",
       " 111,\n",
       " 113,\n",
       " 115,\n",
       " 117,\n",
       " 119,\n",
       " 121,\n",
       " 123,\n",
       " 125,\n",
       " 127,\n",
       " 129,\n",
       " 131,\n",
       " 133,\n",
       " 135,\n",
       " 137,\n",
       " 139,\n",
       " 141,\n",
       " 143,\n",
       " 145,\n",
       " 147,\n",
       " 149,\n",
       " 151,\n",
       " 153,\n",
       " 155,\n",
       " 157,\n",
       " 159,\n",
       " 161,\n",
       " 163,\n",
       " 165,\n",
       " 167,\n",
       " 169,\n",
       " 171,\n",
       " 173,\n",
       " 175,\n",
       " 177,\n",
       " 179,\n",
       " 181,\n",
       " 183,\n",
       " 185,\n",
       " 187,\n",
       " 189,\n",
       " 191,\n",
       " 193,\n",
       " 195,\n",
       " 197,\n",
       " 199,\n",
       " 201,\n",
       " 203,\n",
       " 205,\n",
       " 207,\n",
       " 209,\n",
       " 211,\n",
       " 213,\n",
       " 215,\n",
       " 217,\n",
       " 219,\n",
       " 221,\n",
       " 223,\n",
       " 225,\n",
       " 227,\n",
       " 229,\n",
       " 231,\n",
       " 233,\n",
       " 235,\n",
       " 237,\n",
       " 239,\n",
       " 241,\n",
       " 243,\n",
       " 245,\n",
       " 247,\n",
       " 249,\n",
       " 251,\n",
       " 253,\n",
       " 255,\n",
       " 257,\n",
       " 259,\n",
       " 261,\n",
       " 263,\n",
       " 265,\n",
       " 267,\n",
       " 269,\n",
       " 271,\n",
       " 273,\n",
       " 275,\n",
       " 277,\n",
       " 279,\n",
       " 281,\n",
       " 283,\n",
       " 285,\n",
       " 287,\n",
       " 289,\n",
       " 291,\n",
       " 293,\n",
       " 295,\n",
       " 297,\n",
       " 299,\n",
       " 301,\n",
       " 303,\n",
       " 305,\n",
       " 307,\n",
       " 309,\n",
       " 311,\n",
       " 313,\n",
       " 315,\n",
       " 317,\n",
       " 319,\n",
       " 321,\n",
       " 323,\n",
       " 325,\n",
       " 327,\n",
       " 329,\n",
       " 331,\n",
       " 333,\n",
       " 335,\n",
       " 337,\n",
       " 339,\n",
       " 341,\n",
       " 343,\n",
       " 345,\n",
       " 347,\n",
       " 349,\n",
       " 351,\n",
       " 353,\n",
       " 355,\n",
       " 357,\n",
       " 359,\n",
       " 361,\n",
       " 363,\n",
       " 365,\n",
       " 367,\n",
       " 369,\n",
       " 371,\n",
       " 373,\n",
       " 375,\n",
       " 377,\n",
       " 379,\n",
       " 381,\n",
       " 383,\n",
       " 385,\n",
       " 387,\n",
       " 389,\n",
       " 391,\n",
       " 393,\n",
       " 395,\n",
       " 397,\n",
       " 399,\n",
       " 401,\n",
       " 403,\n",
       " 405,\n",
       " 407,\n",
       " 409,\n",
       " 411,\n",
       " 413,\n",
       " 415,\n",
       " 417,\n",
       " 419,\n",
       " 421,\n",
       " 423,\n",
       " 425,\n",
       " 427,\n",
       " 429,\n",
       " 431,\n",
       " 433,\n",
       " 435,\n",
       " 437,\n",
       " 439,\n",
       " 441,\n",
       " 443,\n",
       " 445,\n",
       " 447,\n",
       " 449,\n",
       " 451,\n",
       " 453,\n",
       " 455,\n",
       " 457,\n",
       " 459,\n",
       " 461,\n",
       " 463,\n",
       " 465,\n",
       " 467,\n",
       " 469,\n",
       " 471,\n",
       " 473,\n",
       " 475,\n",
       " 477,\n",
       " 479,\n",
       " 481,\n",
       " 483,\n",
       " 485,\n",
       " 487,\n",
       " 489,\n",
       " 491,\n",
       " 493,\n",
       " 495,\n",
       " 497,\n",
       " 499,\n",
       " 501,\n",
       " 503,\n",
       " 505,\n",
       " 507,\n",
       " 509,\n",
       " 511,\n",
       " 513,\n",
       " 515,\n",
       " 517,\n",
       " 519,\n",
       " 521,\n",
       " 523,\n",
       " 525,\n",
       " 527,\n",
       " 529,\n",
       " 531,\n",
       " 533,\n",
       " 535,\n",
       " 537,\n",
       " 539,\n",
       " 541,\n",
       " 543,\n",
       " 545,\n",
       " 547,\n",
       " 549,\n",
       " 551,\n",
       " 553,\n",
       " 555,\n",
       " 557,\n",
       " 559,\n",
       " 561,\n",
       " 563,\n",
       " 565,\n",
       " 567,\n",
       " 569,\n",
       " 571,\n",
       " 573,\n",
       " 575,\n",
       " 577,\n",
       " 579,\n",
       " 581,\n",
       " 583,\n",
       " 585,\n",
       " 587,\n",
       " 589,\n",
       " 591,\n",
       " 593,\n",
       " 595,\n",
       " 597,\n",
       " 599,\n",
       " 601,\n",
       " 603,\n",
       " 605,\n",
       " 607,\n",
       " 609,\n",
       " 611,\n",
       " 613,\n",
       " 615,\n",
       " 617,\n",
       " 619,\n",
       " 621,\n",
       " 623,\n",
       " 625,\n",
       " 627,\n",
       " 629,\n",
       " 631,\n",
       " 633,\n",
       " 635,\n",
       " 637,\n",
       " 639,\n",
       " 641,\n",
       " 643,\n",
       " 645,\n",
       " 647,\n",
       " 649,\n",
       " 651,\n",
       " 653,\n",
       " 655,\n",
       " 657,\n",
       " 659,\n",
       " 661,\n",
       " 663,\n",
       " 665,\n",
       " 667,\n",
       " 669,\n",
       " 671,\n",
       " 673,\n",
       " 675,\n",
       " 677,\n",
       " 679,\n",
       " 681,\n",
       " 683,\n",
       " 685,\n",
       " 687,\n",
       " 689,\n",
       " 691,\n",
       " 693,\n",
       " 695,\n",
       " 697,\n",
       " 699,\n",
       " 701,\n",
       " 703,\n",
       " 705,\n",
       " 707,\n",
       " 709,\n",
       " 711,\n",
       " 713,\n",
       " 715,\n",
       " 717,\n",
       " 719,\n",
       " 721,\n",
       " 723,\n",
       " 725,\n",
       " 727,\n",
       " 729,\n",
       " 731,\n",
       " 733,\n",
       " 735,\n",
       " 737,\n",
       " 739,\n",
       " 741,\n",
       " 743,\n",
       " 745,\n",
       " 747,\n",
       " 749,\n",
       " 751,\n",
       " 753,\n",
       " 755,\n",
       " 757,\n",
       " 759,\n",
       " 761,\n",
       " 763,\n",
       " 765,\n",
       " 767,\n",
       " 769,\n",
       " 771,\n",
       " 773,\n",
       " 775,\n",
       " 777,\n",
       " 779,\n",
       " 781,\n",
       " 783,\n",
       " 785,\n",
       " 787,\n",
       " 789,\n",
       " 791,\n",
       " 793,\n",
       " 795,\n",
       " 797,\n",
       " 799,\n",
       " 801,\n",
       " 803,\n",
       " 805,\n",
       " 807,\n",
       " 809,\n",
       " 811,\n",
       " 813,\n",
       " 815,\n",
       " 817,\n",
       " 819,\n",
       " 821,\n",
       " 823,\n",
       " 825,\n",
       " 827,\n",
       " 829,\n",
       " 831,\n",
       " 833,\n",
       " 835,\n",
       " 837,\n",
       " 839,\n",
       " 841,\n",
       " 843,\n",
       " 845,\n",
       " 847,\n",
       " 849,\n",
       " 851,\n",
       " 853,\n",
       " 855,\n",
       " 857,\n",
       " 859,\n",
       " 861,\n",
       " 863,\n",
       " 865,\n",
       " 867,\n",
       " 869,\n",
       " 871,\n",
       " 873,\n",
       " 875,\n",
       " 877,\n",
       " 879,\n",
       " 881,\n",
       " 883,\n",
       " 885,\n",
       " 887,\n",
       " 889,\n",
       " 891,\n",
       " 893,\n",
       " 895,\n",
       " 897,\n",
       " 899,\n",
       " 901,\n",
       " 903,\n",
       " 905,\n",
       " 907,\n",
       " 909,\n",
       " 911,\n",
       " 913,\n",
       " 915,\n",
       " 917,\n",
       " 919,\n",
       " 921,\n",
       " 923,\n",
       " 925,\n",
       " 927,\n",
       " 929,\n",
       " 931,\n",
       " 933,\n",
       " 935,\n",
       " 937,\n",
       " 939,\n",
       " 941,\n",
       " 943,\n",
       " 945,\n",
       " 947,\n",
       " 949,\n",
       " 951,\n",
       " 953,\n",
       " 955,\n",
       " 957,\n",
       " 959,\n",
       " 961,\n",
       " 963,\n",
       " 965,\n",
       " 967,\n",
       " 969,\n",
       " 971,\n",
       " 973,\n",
       " 975,\n",
       " 977,\n",
       " 979,\n",
       " 981,\n",
       " 983,\n",
       " 985,\n",
       " 987,\n",
       " 989,\n",
       " 991,\n",
       " 993,\n",
       " 995,\n",
       " 997,\n",
       " 999]"
      ]
     },
     "execution_count": 9,
     "metadata": {},
     "output_type": "execute_result"
    }
   ],
   "source": [
    "# Your code here\n",
    "\n",
    "odds = [x for x in nums if x % 2 != 0]\n",
    "odds"
   ]
  },
  {
   "cell_type": "markdown",
   "metadata": {
    "hidden": true
   },
   "source": [
    "<details>\n",
    "    <summary>Answer\n",
    "    </summary>\n",
    "    <code>[num for num in nums if num % 2 == 1]</code>\n",
    "    </details>"
   ]
  },
  {
   "cell_type": "markdown",
   "metadata": {
    "hidden": true
   },
   "source": [
    "2) Use a list comprehension to take the first character of each string from the following list of words:"
   ]
  },
  {
   "cell_type": "code",
   "execution_count": null,
   "metadata": {
    "hidden": true
   },
   "outputs": [],
   "source": [
    "words = ['carbon', 'osmium', 'mercury', 'potassium', 'rhenium', 'einsteinium',\n",
    "        'hydrogen', 'erbium', 'nitrogen', 'sulfur', 'iodine', 'oxygen', 'niobium']"
   ]
  },
  {
   "cell_type": "code",
   "execution_count": null,
   "metadata": {},
   "outputs": [],
   "source": [
    "# Your code here\n"
   ]
  },
  {
   "cell_type": "markdown",
   "metadata": {
    "hidden": true
   },
   "source": [
    "<details>\n",
    "    <summary>Answer\n",
    "    </summary>\n",
    "    <code>[word[0] for word in words]</code>\n",
    "    </details>"
   ]
  },
  {
   "cell_type": "markdown",
   "metadata": {
    "hidden": true
   },
   "source": [
    "3) Use a list comprehension to build a list of all the names that start with 'R' from the following list. Add a '?' to the end of each name."
   ]
  },
  {
   "cell_type": "code",
   "execution_count": null,
   "metadata": {
    "hidden": true
   },
   "outputs": [],
   "source": [
    "names = ['Randy', 'Robert', 'Alex', 'Ranjit', 'Charlie', 'Richard', 'Ravdeep',\n",
    "        'Vimal', 'Wu', 'Nelson']"
   ]
  },
  {
   "cell_type": "code",
   "execution_count": null,
   "metadata": {},
   "outputs": [],
   "source": [
    "# Your code here (couple ways to do this)"
   ]
  },
  {
   "cell_type": "markdown",
   "metadata": {
    "hidden": true
   },
   "source": [
    "<details>\n",
    "<summary>Answer\n",
    "    </summary>\n",
    "    <code>[name+'?' for name in names if name[0] == 'R']</code>\n",
    "    </details>"
   ]
  },
  {
   "cell_type": "markdown",
   "metadata": {
    "hidden": true
   },
   "source": [
    "4) From the list below, make a list of dictionaries where the key is the person's name and the value is the person's home phone number."
   ]
  },
  {
   "cell_type": "code",
   "execution_count": null,
   "metadata": {
    "hidden": true
   },
   "outputs": [],
   "source": [
    "phone_nos = [{'name': 'greg', 'nums': {'home': 1234567, 'work': 7654321}},\n",
    "             {'name': 'max', 'nums': {'home': 9876543, 'work': 1010001}},\n",
    "             {'name': 'erin', 'nums': {'home': 3333333, 'work': 4444444}},\n",
    "             {'name': 'joél', 'nums': {'home': 2222222, 'work': 5555555}},\n",
    "             {'name': 'sean', 'nums': {'home': 9999999, 'work': 8888888}}]"
   ]
  },
  {
   "cell_type": "code",
   "execution_count": null,
   "metadata": {},
   "outputs": [],
   "source": [
    "# Your code here"
   ]
  },
  {
   "cell_type": "markdown",
   "metadata": {
    "hidden": true
   },
   "source": [
    "<details>\n",
    "    <summary>Answer</summary>\n",
    "    <code>[{item['name']: item['nums']['home']} for item in phone_nos]</code>\n",
    "    </details>"
   ]
  },
  {
   "cell_type": "markdown",
   "metadata": {
    "hidden": true
   },
   "source": [
    "5) Using this customer's dictionary, build a dictionary where the customers' names are the keys and the movies they've bought are the values."
   ]
  },
  {
   "cell_type": "code",
   "execution_count": null,
   "metadata": {},
   "outputs": [],
   "source": [
    "customers = {\n",
    "    'bill': {'purchases': {'movies': ['Terminator', 'Elf'],\n",
    "                           'books': []},\n",
    "             'id': 1},\n",
    "    'dolph': {'purchases': {'movies': ['It Happened One Night'],\n",
    "                            'books': ['The Far Side Gallery']},\n",
    "              'id': 2},\n",
    "    'pat': {'purchases': {'movies': [],\n",
    "                          'books': ['Seinfeld and Philosophy', 'I Am a Bunny']},\n",
    "            'id': 3}\n",
    "}"
   ]
  },
  {
   "cell_type": "code",
   "execution_count": null,
   "metadata": {},
   "outputs": [],
   "source": [
    "# Your code here"
   ]
  },
  {
   "cell_type": "markdown",
   "metadata": {
    "hidden": true
   },
   "source": [
    "<details>\n",
    "    <summary>Answer</summary>\n",
    "    <code>{customer: customers[customer]['purchases']['movies'] for customer in customers.keys()}</code> <br/>\n",
    "    OR <br/>\n",
    "    <code>{k: v['purchases']['movies'] for k, v in customers.items()}</code>\n",
    "    </details>"
   ]
  },
  {
   "cell_type": "markdown",
   "metadata": {
    "hidden": true
   },
   "source": [
    "6) Build a function that will return $2^n$ for an input integer $n$."
   ]
  },
  {
   "cell_type": "code",
   "execution_count": null,
   "metadata": {},
   "outputs": [],
   "source": [
    "# Your code here"
   ]
  },
  {
   "cell_type": "markdown",
   "metadata": {
    "hidden": true
   },
   "source": [
    "<details>\n",
    "    <summary>Answer</summary>\n",
    "    <code>\n",
    "def expo(n):\n",
    "    return 2**n</code>\n",
    "    </details>"
   ]
  },
  {
   "cell_type": "markdown",
   "metadata": {
    "hidden": true
   },
   "source": [
    "7) Build a function that will take in a list of phone numbers as strings and return the same as integers, removing any parentheses ('(' and ')'), hyphens ('-'), and spaces."
   ]
  },
  {
   "cell_type": "code",
   "execution_count": null,
   "metadata": {},
   "outputs": [],
   "source": [
    "# Your code here"
   ]
  },
  {
   "cell_type": "markdown",
   "metadata": {
    "hidden": true
   },
   "source": [
    "<details>\n",
    "    <summary>Answer</summary>\n",
    "    <code>\n",
    "def int_phone(string_list):\n",
    "    return [int(string.replace('(', '').replace(')', '').replace('-', '').replace(' ', ''))\\\n",
    "    for string in string_list]</code>\n",
    "    </details>"
   ]
  }
 ],
 "metadata": {
  "kernelspec": {
   "display_name": "Python 3",
   "language": "python",
   "name": "python3"
  },
  "language_info": {
   "codemirror_mode": {
    "name": "ipython",
    "version": 3
   },
   "file_extension": ".py",
   "mimetype": "text/x-python",
   "name": "python",
   "nbconvert_exporter": "python",
   "pygments_lexer": "ipython3",
   "version": "3.8.5"
  },
  "toc": {
   "base_numbering": 1,
   "nav_menu": {},
   "number_sections": true,
   "sideBar": true,
   "skip_h1_title": false,
   "title_cell": "Table of Contents",
   "title_sidebar": "Contents",
   "toc_cell": true,
   "toc_position": {
    "height": "calc(100% - 180px)",
    "left": "10px",
    "top": "150px",
    "width": "384px"
   },
   "toc_section_display": true,
   "toc_window_display": true
  }
 },
 "nbformat": 4,
 "nbformat_minor": 2
}
