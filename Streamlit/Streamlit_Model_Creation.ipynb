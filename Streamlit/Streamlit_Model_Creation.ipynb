{
 "cells": [
  {
   "cell_type": "code",
   "execution_count": null,
   "id": "a6d170f9",
   "metadata": {
    "scrolled": true
   },
   "outputs": [],
   "source": [
    "import pandas as pd\n",
    "import numpy as np\n",
    "import matplotlib as plt\n",
    "import seaborn as sns\n",
    "import joblib\n",
    "\n",
    "from sklearn.model_selection import train_test_split\n",
    "from sklearn.pipeline import Pipeline\n",
    "from sklearn.preprocessing import OneHotEncoder, StandardScaler\n",
    "from sklearn.tree import DecisionTreeClassifier\n",
    "from sklearn.compose import ColumnTransformer"
   ]
  },
  {
   "cell_type": "code",
   "execution_count": null,
   "id": "894c431a",
   "metadata": {},
   "outputs": [],
   "source": [
    "df = sns.load_dataset('penguins')\n",
    "df.head()"
   ]
  },
  {
   "cell_type": "code",
   "execution_count": null,
   "id": "f745abfa",
   "metadata": {},
   "outputs": [],
   "source": [
    "df.info()"
   ]
  },
  {
   "cell_type": "code",
   "execution_count": null,
   "id": "a83708f0",
   "metadata": {},
   "outputs": [],
   "source": [
    "df.describe()"
   ]
  },
  {
   "cell_type": "code",
   "execution_count": null,
   "id": "2c185154",
   "metadata": {},
   "outputs": [],
   "source": [
    "df.isna().sum()"
   ]
  },
  {
   "cell_type": "code",
   "execution_count": null,
   "id": "573dfa92",
   "metadata": {},
   "outputs": [],
   "source": [
    "df.dropna(inplace=True)\n",
    "df.isna().sum()"
   ]
  },
  {
   "cell_type": "code",
   "execution_count": null,
   "id": "43c3e5a0",
   "metadata": {
    "scrolled": true
   },
   "outputs": [],
   "source": [
    "df.head()"
   ]
  },
  {
   "cell_type": "code",
   "execution_count": null,
   "id": "b38f3af1",
   "metadata": {
    "scrolled": true
   },
   "outputs": [],
   "source": [
    "!ls data"
   ]
  },
  {
   "cell_type": "code",
   "execution_count": null,
   "id": "1441c8dc",
   "metadata": {},
   "outputs": [],
   "source": [
    "list(df.columns)"
   ]
  },
  {
   "cell_type": "code",
   "execution_count": null,
   "id": "d4c2ab75",
   "metadata": {},
   "outputs": [],
   "source": [
    "df.to_csv('./data/clean_penguins.csv')"
   ]
  },
  {
   "cell_type": "code",
   "execution_count": null,
   "id": "3152ed15",
   "metadata": {},
   "outputs": [],
   "source": [
    "!ls data"
   ]
  },
  {
   "cell_type": "code",
   "execution_count": null,
   "id": "b353197f",
   "metadata": {
    "scrolled": true
   },
   "outputs": [],
   "source": [
    "df['species'].value_counts()"
   ]
  },
  {
   "cell_type": "code",
   "execution_count": null,
   "id": "6ee26e1c",
   "metadata": {},
   "outputs": [],
   "source": [
    "df['sex'].replace({'Male': 0, 'Female': 1}, inplace=True)\n",
    "df.head()"
   ]
  },
  {
   "cell_type": "code",
   "execution_count": null,
   "id": "eb86bfaa",
   "metadata": {},
   "outputs": [],
   "source": [
    "df.info()"
   ]
  },
  {
   "cell_type": "code",
   "execution_count": null,
   "id": "e52c6521",
   "metadata": {},
   "outputs": [],
   "source": [
    "sns.pairplot(df.drop(columns=['sex']), hue='species');"
   ]
  },
  {
   "cell_type": "code",
   "execution_count": null,
   "id": "859776de",
   "metadata": {},
   "outputs": [],
   "source": [
    "X = df.drop(columns=['species'])\n",
    "y = df['species']\n",
    "\n",
    "X_train, X_test, y_train, y_test = train_test_split(X, y, test_size=.3, random_state=42)"
   ]
  },
  {
   "cell_type": "code",
   "execution_count": null,
   "id": "bc13e4c3",
   "metadata": {},
   "outputs": [],
   "source": [
    "X_train.head()"
   ]
  },
  {
   "cell_type": "code",
   "execution_count": null,
   "id": "19d8d184",
   "metadata": {},
   "outputs": [],
   "source": [
    "subpipe_num = Pipeline(steps=[('ss', StandardScaler())])\n",
    "subpipe_cat = Pipeline(steps=[('ohe', OneHotEncoder(handle_unknown='ignore'))])\n",
    "\n",
    "CT = ColumnTransformer(transformers=[('num', subpipe_num, [1,2,3,4]),\n",
    "                                    ('cat', subpipe_cat, [0])], remainder='passthrough')"
   ]
  },
  {
   "cell_type": "code",
   "execution_count": null,
   "id": "158e6a16",
   "metadata": {},
   "outputs": [],
   "source": [
    "test = CT.fit_transform(X_train)"
   ]
  },
  {
   "cell_type": "code",
   "execution_count": null,
   "id": "f5ca2fe0",
   "metadata": {
    "scrolled": true
   },
   "outputs": [],
   "source": [
    "test.shape"
   ]
  },
  {
   "cell_type": "code",
   "execution_count": null,
   "id": "c45b97ee",
   "metadata": {},
   "outputs": [],
   "source": [
    "CT.transform(X_test).shape"
   ]
  },
  {
   "cell_type": "code",
   "execution_count": null,
   "id": "2e81b0d4",
   "metadata": {},
   "outputs": [],
   "source": [
    "dt_pipe = Pipeline(steps=[('ct', CT),\n",
    "                         ('dt', DecisionTreeClassifier(random_state=42, max_depth=4))])"
   ]
  },
  {
   "cell_type": "code",
   "execution_count": null,
   "id": "8816f6bb",
   "metadata": {},
   "outputs": [],
   "source": [
    "dt_pipe.fit(X_train, y_train)"
   ]
  },
  {
   "cell_type": "code",
   "execution_count": null,
   "id": "71ffb28a",
   "metadata": {},
   "outputs": [],
   "source": [
    "dt_pipe.score(X_train, y_train)"
   ]
  },
  {
   "cell_type": "code",
   "execution_count": null,
   "id": "2e6d939e",
   "metadata": {},
   "outputs": [],
   "source": [
    "dt_pipe.score(X_test, y_test)"
   ]
  },
  {
   "cell_type": "code",
   "execution_count": null,
   "id": "54797b45",
   "metadata": {},
   "outputs": [],
   "source": [
    "CT.fit_transform(X).shape"
   ]
  },
  {
   "cell_type": "code",
   "execution_count": null,
   "id": "5213a9d8",
   "metadata": {
    "scrolled": true
   },
   "outputs": [],
   "source": [
    "dt_pipe.fit(X, y)"
   ]
  },
  {
   "cell_type": "markdown",
   "id": "63065872",
   "metadata": {},
   "source": [
    "Column order = bill_length, bill_depth, flipper_length, body_mass, island1, island2, island3, sex"
   ]
  },
  {
   "cell_type": "code",
   "execution_count": null,
   "id": "5c3830f0",
   "metadata": {},
   "outputs": [],
   "source": [
    "model_file = open('penguin_dt.pkl', 'wb')\n",
    "joblib.dump(dt_pipe, model_file)\n",
    "model_file.close()"
   ]
  },
  {
   "cell_type": "code",
   "execution_count": null,
   "id": "0611bb94",
   "metadata": {},
   "outputs": [],
   "source": [
    "!ls"
   ]
  },
  {
   "cell_type": "code",
   "execution_count": null,
   "id": "e318cf89",
   "metadata": {},
   "outputs": [],
   "source": [
    "new_input = np.array(['Biscoe', 49.9, 16.1, 213, 5400, 0.0])\n",
    "new_input"
   ]
  },
  {
   "cell_type": "code",
   "execution_count": null,
   "id": "453d15b6",
   "metadata": {},
   "outputs": [],
   "source": [
    "dt_pipe.predict(new_input.reshape(1,-1))"
   ]
  },
  {
   "cell_type": "code",
   "execution_count": null,
   "id": "2da1c3b9",
   "metadata": {},
   "outputs": [],
   "source": [
    "X.loc[343]"
   ]
  },
  {
   "cell_type": "code",
   "execution_count": null,
   "id": "89410b68",
   "metadata": {},
   "outputs": [],
   "source": [
    "y.loc[343]"
   ]
  },
  {
   "cell_type": "code",
   "execution_count": null,
   "id": "63ef57d7",
   "metadata": {},
   "outputs": [],
   "source": [
    "X.columns"
   ]
  },
  {
   "cell_type": "code",
   "execution_count": null,
   "id": "e51409b6",
   "metadata": {},
   "outputs": [],
   "source": [
    "new_x = pd.DataFrame(new_input.reshape(1,-1), columns=dt_pipe.feature_names_in_)\n",
    "new_x.info()"
   ]
  },
  {
   "cell_type": "code",
   "execution_count": null,
   "id": "9f0ebcda",
   "metadata": {},
   "outputs": [],
   "source": [
    "new_x"
   ]
  },
  {
   "cell_type": "code",
   "execution_count": null,
   "id": "36c1bbb5",
   "metadata": {
    "scrolled": true
   },
   "outputs": [],
   "source": [
    "X"
   ]
  },
  {
   "cell_type": "code",
   "execution_count": null,
   "id": "c98fd612",
   "metadata": {},
   "outputs": [],
   "source": [
    "CT.fit_transform(X).shape"
   ]
  },
  {
   "cell_type": "code",
   "execution_count": null,
   "id": "6d0b0d3a",
   "metadata": {},
   "outputs": [],
   "source": [
    "CT.transform(new_x)"
   ]
  },
  {
   "cell_type": "code",
   "execution_count": null,
   "id": "be676a85",
   "metadata": {},
   "outputs": [],
   "source": [
    "dt_pipe.predict(new_input.reshape(1,-1))"
   ]
  },
  {
   "cell_type": "code",
   "execution_count": null,
   "id": "9fd54132",
   "metadata": {},
   "outputs": [],
   "source": [
    "dt_pipe.feature_names_in_"
   ]
  },
  {
   "cell_type": "code",
   "execution_count": null,
   "id": "f55c2db1",
   "metadata": {},
   "outputs": [],
   "source": [
    "dt_pipe.predict(new_x)"
   ]
  }
 ],
 "metadata": {
  "kernelspec": {
   "display_name": "streamlit_2",
   "language": "python",
   "name": "streamlit_2"
  },
  "language_info": {
   "codemirror_mode": {
    "name": "ipython",
    "version": 3
   },
   "file_extension": ".py",
   "mimetype": "text/x-python",
   "name": "python",
   "nbconvert_exporter": "python",
   "pygments_lexer": "ipython3",
   "version": "3.11.7"
  },
  "vscode": {
   "interpreter": {
    "hash": "31f2aee4e71d21fbe5cf8b01ff0e069b9275f58929596ceb00d14d90e3e16cd6"
   }
  }
 },
 "nbformat": 4,
 "nbformat_minor": 5
}
